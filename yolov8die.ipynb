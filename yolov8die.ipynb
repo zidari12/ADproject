{
 "cells": [
  {
   "cell_type": "code",
   "execution_count": 1,
   "metadata": {},
   "outputs": [
    {
     "name": "stdout",
     "output_type": "stream",
     "text": [
      "Ultralytics YOLOv8.0.228 🚀 Python-3.8.18 torch-1.9.1 CUDA:0 (NVIDIA GeForce RTX 2060 SUPER, 8192MiB)\n",
      "WARNING ⚠️ Upgrade to torch>=2.0.0 for deterministic training.\n",
      "\u001b[34m\u001b[1mengine\\trainer: \u001b[0mtask=segment, mode=train, model=yolov8m-seg.pt, data=C:/Users/bcw60/Downloads/custon_with_wheelchair_seg.v10i.yolov8/data.yaml, epochs=300, time=None, patience=50, batch=8, imgsz=640, save=True, save_period=-1, cache=False, device=None, workers=0, project=None, name=train8, exist_ok=False, pretrained=True, optimizer=auto, verbose=True, seed=0, deterministic=True, single_cls=False, rect=False, cos_lr=False, close_mosaic=10, resume=False, amp=True, fraction=1.0, profile=False, freeze=None, overlap_mask=True, mask_ratio=4, dropout=0.0, val=True, split=val, save_json=False, save_hybrid=False, conf=None, iou=0.7, max_det=300, half=False, dnn=False, plots=True, source=None, vid_stride=1, stream_buffer=False, visualize=False, augment=False, agnostic_nms=False, classes=None, retina_masks=False, show=False, save_frames=False, save_txt=False, save_conf=False, save_crop=False, show_labels=True, show_conf=True, show_boxes=True, line_width=None, format=torchscript, keras=False, optimize=False, int8=False, dynamic=False, simplify=False, opset=None, workspace=4, nms=False, lr0=0.01, lrf=0.01, momentum=0.937, weight_decay=0.0005, warmup_epochs=3.0, warmup_momentum=0.8, warmup_bias_lr=0.1, box=7.5, cls=0.5, dfl=1.5, pose=12.0, kobj=1.0, label_smoothing=0.0, nbs=64, hsv_h=0.015, hsv_s=0.7, hsv_v=0.4, degrees=0.0, translate=0.1, scale=0.5, shear=0.0, perspective=0.0, flipud=0.0, fliplr=0.5, mosaic=1.0, mixup=0.0, copy_paste=0.0, cfg=C:/Users/bcw60/OneDrive/Desktop/mydrive/die/default.yaml, tracker=botsort.yaml, save_dir=runs\\segment\\train8\n",
      "Overriding model.yaml nc=80 with nc=2\n",
      "\n",
      "                   from  n    params  module                                       arguments                     \n",
      "  0                  -1  1      1392  ultralytics.nn.modules.conv.Conv             [3, 48, 3, 2]                 \n",
      "  1                  -1  1     41664  ultralytics.nn.modules.conv.Conv             [48, 96, 3, 2]                \n",
      "  2                  -1  2    111360  ultralytics.nn.modules.block.C2f             [96, 96, 2, True]             \n",
      "  3                  -1  1    166272  ultralytics.nn.modules.conv.Conv             [96, 192, 3, 2]               \n",
      "  4                  -1  4    813312  ultralytics.nn.modules.block.C2f             [192, 192, 4, True]           \n",
      "  5                  -1  1    664320  ultralytics.nn.modules.conv.Conv             [192, 384, 3, 2]              \n",
      "  6                  -1  4   3248640  ultralytics.nn.modules.block.C2f             [384, 384, 4, True]           \n",
      "  7                  -1  1   1991808  ultralytics.nn.modules.conv.Conv             [384, 576, 3, 2]              \n",
      "  8                  -1  2   3985920  ultralytics.nn.modules.block.C2f             [576, 576, 2, True]           \n",
      "  9                  -1  1    831168  ultralytics.nn.modules.block.SPPF            [576, 576, 5]                 \n",
      " 10                  -1  1         0  torch.nn.modules.upsampling.Upsample         [None, 2, 'nearest']          \n",
      " 11             [-1, 6]  1         0  ultralytics.nn.modules.conv.Concat           [1]                           \n",
      " 12                  -1  2   1993728  ultralytics.nn.modules.block.C2f             [960, 384, 2]                 \n",
      " 13                  -1  1         0  torch.nn.modules.upsampling.Upsample         [None, 2, 'nearest']          \n",
      " 14             [-1, 4]  1         0  ultralytics.nn.modules.conv.Concat           [1]                           \n",
      " 15                  -1  2    517632  ultralytics.nn.modules.block.C2f             [576, 192, 2]                 \n",
      " 16                  -1  1    332160  ultralytics.nn.modules.conv.Conv             [192, 192, 3, 2]              \n",
      " 17            [-1, 12]  1         0  ultralytics.nn.modules.conv.Concat           [1]                           \n",
      " 18                  -1  2   1846272  ultralytics.nn.modules.block.C2f             [576, 384, 2]                 \n",
      " 19                  -1  1   1327872  ultralytics.nn.modules.conv.Conv             [384, 384, 3, 2]              \n",
      " 20             [-1, 9]  1         0  ultralytics.nn.modules.conv.Concat           [1]                           \n",
      " 21                  -1  2   4207104  ultralytics.nn.modules.block.C2f             [960, 576, 2]                 \n",
      " 22        [15, 18, 21]  1   5160182  ultralytics.nn.modules.head.Segment          [2, 32, 192, [192, 384, 576]] \n",
      "YOLOv8m-seg summary: 331 layers, 27240806 parameters, 27240790 gradients, 110.4 GFLOPs\n",
      "\n",
      "Transferred 531/537 items from pretrained weights\n",
      "WARNING ⚠️ TensorBoard not initialized correctly, not logging this run. Descriptors cannot be created directly.\n",
      "If this call came from a _pb2.py file, your generated code is out of date and must be regenerated with protoc >= 3.19.0.\n",
      "If you cannot immediately regenerate your protos, some other possible workarounds are:\n",
      " 1. Downgrade the protobuf package to 3.20.x or lower.\n",
      " 2. Set PROTOCOL_BUFFERS_PYTHON_IMPLEMENTATION=python (but this will use pure-Python parsing and will be much slower).\n",
      "\n",
      "More information: https://developers.google.com/protocol-buffers/docs/news/2022-05-06#python-updates\n",
      "Freezing layer 'model.22.dfl.conv.weight'\n",
      "\u001b[34m\u001b[1mAMP: \u001b[0mrunning Automatic Mixed Precision (AMP) checks with YOLOv8n...\n",
      "\u001b[34m\u001b[1mAMP: \u001b[0mchecks passed ✅\n"
     ]
    },
    {
     "name": "stderr",
     "output_type": "stream",
     "text": [
      "\u001b[34m\u001b[1mtrain: \u001b[0mScanning C:\\Users\\bcw60\\Downloads\\custon_with_wheelchair_seg.v10i.yolov8\\train\\labels.cache... 12198 images, 0 backgrounds, 0 corrupt: 100%|██████████| 12198/12198 [00:00<?, ?it/s]\n",
      "\u001b[34m\u001b[1mval: \u001b[0mScanning C:\\Users\\bcw60\\Downloads\\custon_with_wheelchair_seg.v10i.yolov8\\valid\\labels.cache... 513 images, 0 backgrounds, 0 corrupt: 100%|██████████| 513/513 [00:00<?, ?it/s]"
     ]
    },
    {
     "name": "stdout",
     "output_type": "stream",
     "text": [
      "module 'numpy' has no attribute 'typeDict'\n",
      "\u001b[34m\u001b[1moptimizer:\u001b[0m 'optimizer=auto' found, ignoring 'lr0=0.01' and 'momentum=0.937' and determining best 'optimizer', 'lr0' and 'momentum' automatically... \n",
      "\u001b[34m\u001b[1moptimizer:\u001b[0m SGD(lr=0.01, momentum=0.9) with parameter groups 86 weight(decay=0.0), 97 weight(decay=0.0005), 96 bias(decay=0.0)\n",
      "300 epochs...\n",
      "\n",
      "      Epoch    GPU_mem   box_loss   seg_loss   cls_loss   dfl_loss  Instances       Size\n"
     ]
    },
    {
     "name": "stderr",
     "output_type": "stream",
     "text": [
      "\n",
      "  0%|          | 0/1525 [00:00<?, ?it/s]c:\\Users\\bcw60\\anaconda3\\envs\\yolo8die\\lib\\site-packages\\ultralytics\\engine\\trainer.py:486: FutureWarning: Non-finite norm encountered in torch.nn.utils.clip_grad_norm_; continuing anyway. Note that the default behavior will change in a future release to error out if a non-finite total norm is encountered. At that point, setting error_if_nonfinite=false will be required to retain the old behavior.\n",
      "  torch.nn.utils.clip_grad_norm_(self.model.parameters(), max_norm=10.0)  # clip gradients\n",
      "      1/300      4.14G     0.6371       2.18      1.276      1.133         13        640: 100%|██████████| 1525/1525 [11:50<00:00,  2.15it/s]\n",
      "                 Class     Images  Instances      Box(P          R      mAP50  mAP50-95)     Mask(P          R      mAP50  mAP50-95): 100%|██████████| 33/33 [00:11<00:00,  2.98it/s]"
     ]
    },
    {
     "name": "stdout",
     "output_type": "stream",
     "text": [
      "                   all        513        809      0.736      0.801       0.83      0.775      0.735        0.8      0.829      0.707\n"
     ]
    },
    {
     "name": "stderr",
     "output_type": "stream",
     "text": [
      "\n"
     ]
    },
    {
     "name": "stdout",
     "output_type": "stream",
     "text": [
      "\n",
      "      Epoch    GPU_mem   box_loss   seg_loss   cls_loss   dfl_loss  Instances       Size\n"
     ]
    },
    {
     "name": "stderr",
     "output_type": "stream",
     "text": [
      "      2/300       4.1G     0.6057      1.919     0.9211      1.104         19        640: 100%|██████████| 1525/1525 [11:38<00:00,  2.18it/s]\n",
      "                 Class     Images  Instances      Box(P          R      mAP50  mAP50-95)     Mask(P          R      mAP50  mAP50-95): 100%|██████████| 33/33 [00:11<00:00,  2.98it/s]"
     ]
    },
    {
     "name": "stdout",
     "output_type": "stream",
     "text": [
      "                   all        513        809      0.803      0.755      0.842      0.729      0.777      0.722      0.813      0.658\n"
     ]
    },
    {
     "name": "stderr",
     "output_type": "stream",
     "text": [
      "\n"
     ]
    },
    {
     "name": "stdout",
     "output_type": "stream",
     "text": [
      "\n",
      "      Epoch    GPU_mem   box_loss   seg_loss   cls_loss   dfl_loss  Instances       Size\n"
     ]
    },
    {
     "name": "stderr",
     "output_type": "stream",
     "text": [
      "      3/300      4.11G     0.7205      2.133      1.026      1.176         18        640: 100%|██████████| 1525/1525 [11:31<00:00,  2.21it/s]\n",
      "                 Class     Images  Instances      Box(P          R      mAP50  mAP50-95)     Mask(P          R      mAP50  mAP50-95): 100%|██████████| 33/33 [00:11<00:00,  2.97it/s]"
     ]
    },
    {
     "name": "stdout",
     "output_type": "stream",
     "text": [
      "                   all        513        809      0.822      0.654      0.683      0.523       0.78      0.614      0.652      0.476\n"
     ]
    },
    {
     "name": "stderr",
     "output_type": "stream",
     "text": [
      "\n"
     ]
    },
    {
     "name": "stdout",
     "output_type": "stream",
     "text": [
      "\n",
      "      Epoch    GPU_mem   box_loss   seg_loss   cls_loss   dfl_loss  Instances       Size\n"
     ]
    },
    {
     "name": "stderr",
     "output_type": "stream",
     "text": [
      "      4/300      4.08G      0.805      2.318      1.123      1.231         22        640: 100%|██████████| 1525/1525 [11:45<00:00,  2.16it/s]\n",
      "                 Class     Images  Instances      Box(P          R      mAP50  mAP50-95)     Mask(P          R      mAP50  mAP50-95): 100%|██████████| 33/33 [00:11<00:00,  2.93it/s]"
     ]
    },
    {
     "name": "stdout",
     "output_type": "stream",
     "text": [
      "                   all        513        809      0.565      0.832      0.714      0.582       0.56      0.738      0.704      0.524\n"
     ]
    },
    {
     "name": "stderr",
     "output_type": "stream",
     "text": [
      "\n"
     ]
    },
    {
     "name": "stdout",
     "output_type": "stream",
     "text": [
      "\n",
      "      Epoch    GPU_mem   box_loss   seg_loss   cls_loss   dfl_loss  Instances       Size\n"
     ]
    },
    {
     "name": "stderr",
     "output_type": "stream",
     "text": [
      "      5/300      4.09G     0.7513      2.223      1.027      1.198         18        640: 100%|██████████| 1525/1525 [11:05<00:00,  2.29it/s]\n",
      "                 Class     Images  Instances      Box(P          R      mAP50  mAP50-95)     Mask(P          R      mAP50  mAP50-95): 100%|██████████| 33/33 [00:10<00:00,  3.19it/s]"
     ]
    },
    {
     "name": "stdout",
     "output_type": "stream",
     "text": [
      "                   all        513        809      0.765      0.757      0.766      0.646      0.764      0.755      0.765      0.611\n"
     ]
    },
    {
     "name": "stderr",
     "output_type": "stream",
     "text": [
      "\n"
     ]
    },
    {
     "name": "stdout",
     "output_type": "stream",
     "text": [
      "\n",
      "      Epoch    GPU_mem   box_loss   seg_loss   cls_loss   dfl_loss  Instances       Size\n"
     ]
    },
    {
     "name": "stderr",
     "output_type": "stream",
     "text": [
      "      6/300      4.09G     0.7139      2.118     0.9731      1.171         26        640: 100%|██████████| 1525/1525 [10:46<00:00,  2.36it/s]\n",
      "                 Class     Images  Instances      Box(P          R      mAP50  mAP50-95)     Mask(P          R      mAP50  mAP50-95): 100%|██████████| 33/33 [00:10<00:00,  3.13it/s]"
     ]
    },
    {
     "name": "stdout",
     "output_type": "stream",
     "text": [
      "                   all        513        809      0.636      0.857      0.782      0.671      0.636      0.857      0.781      0.607\n"
     ]
    },
    {
     "name": "stderr",
     "output_type": "stream",
     "text": [
      "\n"
     ]
    },
    {
     "name": "stdout",
     "output_type": "stream",
     "text": [
      "\n",
      "      Epoch    GPU_mem   box_loss   seg_loss   cls_loss   dfl_loss  Instances       Size\n"
     ]
    },
    {
     "name": "stderr",
     "output_type": "stream",
     "text": [
      "      7/300      4.09G     0.6849       2.04     0.9198      1.152         22        640: 100%|██████████| 1525/1525 [10:43<00:00,  2.37it/s]\n",
      "                 Class     Images  Instances      Box(P          R      mAP50  mAP50-95)     Mask(P          R      mAP50  mAP50-95): 100%|██████████| 33/33 [00:10<00:00,  3.23it/s]"
     ]
    },
    {
     "name": "stdout",
     "output_type": "stream",
     "text": [
      "                   all        513        809      0.697      0.894      0.845       0.72      0.696      0.892      0.838      0.629\n"
     ]
    },
    {
     "name": "stderr",
     "output_type": "stream",
     "text": [
      "\n"
     ]
    },
    {
     "name": "stdout",
     "output_type": "stream",
     "text": [
      "\n",
      "      Epoch    GPU_mem   box_loss   seg_loss   cls_loss   dfl_loss  Instances       Size\n"
     ]
    },
    {
     "name": "stderr",
     "output_type": "stream",
     "text": [
      "      8/300      4.13G     0.6597      1.984     0.8906      1.136         22        640: 100%|██████████| 1525/1525 [10:57<00:00,  2.32it/s]\n",
      "                 Class     Images  Instances      Box(P          R      mAP50  mAP50-95)     Mask(P          R      mAP50  mAP50-95): 100%|██████████| 33/33 [00:11<00:00,  2.99it/s]"
     ]
    },
    {
     "name": "stdout",
     "output_type": "stream",
     "text": [
      "                   all        513        809       0.82      0.913      0.925      0.782      0.793      0.882      0.873      0.707\n"
     ]
    },
    {
     "name": "stderr",
     "output_type": "stream",
     "text": [
      "\n"
     ]
    },
    {
     "name": "stdout",
     "output_type": "stream",
     "text": [
      "\n",
      "      Epoch    GPU_mem   box_loss   seg_loss   cls_loss   dfl_loss  Instances       Size\n"
     ]
    },
    {
     "name": "stderr",
     "output_type": "stream",
     "text": [
      "      9/300       4.1G     0.6344      1.936      0.844      1.119         23        640: 100%|██████████| 1525/1525 [13:39<00:00,  1.86it/s]\n",
      "                 Class     Images  Instances      Box(P          R      mAP50  mAP50-95)     Mask(P          R      mAP50  mAP50-95): 100%|██████████| 33/33 [00:13<00:00,  2.50it/s]"
     ]
    },
    {
     "name": "stdout",
     "output_type": "stream",
     "text": [
      "                   all        513        809      0.702      0.881      0.846      0.753      0.731      0.874      0.834      0.676\n"
     ]
    },
    {
     "name": "stderr",
     "output_type": "stream",
     "text": [
      "\n"
     ]
    },
    {
     "name": "stdout",
     "output_type": "stream",
     "text": [
      "\n",
      "      Epoch    GPU_mem   box_loss   seg_loss   cls_loss   dfl_loss  Instances       Size\n"
     ]
    },
    {
     "name": "stderr",
     "output_type": "stream",
     "text": [
      "     10/300       4.1G     0.6224      1.888     0.8321      1.107         21        640: 100%|██████████| 1525/1525 [14:33<00:00,  1.75it/s]\n",
      "                 Class     Images  Instances      Box(P          R      mAP50  mAP50-95)     Mask(P          R      mAP50  mAP50-95): 100%|██████████| 33/33 [00:13<00:00,  2.52it/s]"
     ]
    },
    {
     "name": "stdout",
     "output_type": "stream",
     "text": [
      "                   all        513        809      0.699      0.927      0.872      0.783      0.698      0.926      0.871      0.713\n"
     ]
    },
    {
     "name": "stderr",
     "output_type": "stream",
     "text": [
      "\n"
     ]
    },
    {
     "name": "stdout",
     "output_type": "stream",
     "text": [
      "\n",
      "      Epoch    GPU_mem   box_loss   seg_loss   cls_loss   dfl_loss  Instances       Size\n"
     ]
    },
    {
     "name": "stderr",
     "output_type": "stream",
     "text": [
      "     11/300      4.14G     0.6093      1.842     0.8047        1.1         25        640: 100%|██████████| 1525/1525 [14:33<00:00,  1.75it/s]\n",
      "                 Class     Images  Instances      Box(P          R      mAP50  mAP50-95)     Mask(P          R      mAP50  mAP50-95): 100%|██████████| 33/33 [00:13<00:00,  2.51it/s]"
     ]
    },
    {
     "name": "stdout",
     "output_type": "stream",
     "text": [
      "                   all        513        809      0.865      0.775      0.873      0.805      0.863      0.773       0.87      0.738\n"
     ]
    },
    {
     "name": "stderr",
     "output_type": "stream",
     "text": [
      "\n"
     ]
    },
    {
     "name": "stdout",
     "output_type": "stream",
     "text": [
      "\n",
      "      Epoch    GPU_mem   box_loss   seg_loss   cls_loss   dfl_loss  Instances       Size\n"
     ]
    },
    {
     "name": "stderr",
     "output_type": "stream",
     "text": [
      "     12/300      4.12G     0.5966      1.821     0.7899      1.093         20        640: 100%|██████████| 1525/1525 [14:34<00:00,  1.74it/s]\n",
      "                 Class     Images  Instances      Box(P          R      mAP50  mAP50-95)     Mask(P          R      mAP50  mAP50-95): 100%|██████████| 33/33 [00:13<00:00,  2.51it/s]"
     ]
    },
    {
     "name": "stdout",
     "output_type": "stream",
     "text": [
      "                   all        513        809       0.77      0.895      0.894      0.828       0.77      0.894      0.892      0.739\n"
     ]
    },
    {
     "name": "stderr",
     "output_type": "stream",
     "text": [
      "\n"
     ]
    },
    {
     "name": "stdout",
     "output_type": "stream",
     "text": [
      "\n",
      "      Epoch    GPU_mem   box_loss   seg_loss   cls_loss   dfl_loss  Instances       Size\n"
     ]
    },
    {
     "name": "stderr",
     "output_type": "stream",
     "text": [
      "     13/300      4.07G       0.58       1.79     0.7718      1.084         26        640: 100%|██████████| 1525/1525 [14:33<00:00,  1.75it/s]\n",
      "                 Class     Images  Instances      Box(P          R      mAP50  mAP50-95)     Mask(P          R      mAP50  mAP50-95): 100%|██████████| 33/33 [00:13<00:00,  2.51it/s]"
     ]
    },
    {
     "name": "stdout",
     "output_type": "stream",
     "text": [
      "                   all        513        809      0.794      0.896      0.904      0.822      0.794      0.896      0.903      0.742\n"
     ]
    },
    {
     "name": "stderr",
     "output_type": "stream",
     "text": [
      "\n"
     ]
    },
    {
     "name": "stdout",
     "output_type": "stream",
     "text": [
      "\n",
      "      Epoch    GPU_mem   box_loss   seg_loss   cls_loss   dfl_loss  Instances       Size\n"
     ]
    },
    {
     "name": "stderr",
     "output_type": "stream",
     "text": [
      "     14/300      4.11G     0.5802      1.776     0.7596      1.082         21        640: 100%|██████████| 1525/1525 [14:34<00:00,  1.74it/s]\n",
      "                 Class     Images  Instances      Box(P          R      mAP50  mAP50-95)     Mask(P          R      mAP50  mAP50-95): 100%|██████████| 33/33 [00:13<00:00,  2.51it/s]"
     ]
    },
    {
     "name": "stdout",
     "output_type": "stream",
     "text": [
      "                   all        513        809      0.843      0.884      0.917      0.831      0.843      0.884      0.915      0.754\n"
     ]
    },
    {
     "name": "stderr",
     "output_type": "stream",
     "text": [
      "\n"
     ]
    },
    {
     "name": "stdout",
     "output_type": "stream",
     "text": [
      "\n",
      "      Epoch    GPU_mem   box_loss   seg_loss   cls_loss   dfl_loss  Instances       Size\n"
     ]
    },
    {
     "name": "stderr",
     "output_type": "stream",
     "text": [
      "     15/300      4.09G     0.5746      1.757      0.754      1.083         27        640: 100%|██████████| 1525/1525 [14:35<00:00,  1.74it/s]\n",
      "                 Class     Images  Instances      Box(P          R      mAP50  mAP50-95)     Mask(P          R      mAP50  mAP50-95): 100%|██████████| 33/33 [00:13<00:00,  2.51it/s]"
     ]
    },
    {
     "name": "stdout",
     "output_type": "stream",
     "text": [
      "                   all        513        809      0.833      0.886      0.887      0.798      0.808      0.857      0.865      0.713\n"
     ]
    },
    {
     "name": "stderr",
     "output_type": "stream",
     "text": [
      "\n"
     ]
    },
    {
     "name": "stdout",
     "output_type": "stream",
     "text": [
      "\n",
      "      Epoch    GPU_mem   box_loss   seg_loss   cls_loss   dfl_loss  Instances       Size\n"
     ]
    },
    {
     "name": "stderr",
     "output_type": "stream",
     "text": [
      "     16/300      4.11G     0.5565      1.724     0.7264      1.068         13        640: 100%|██████████| 1525/1525 [14:35<00:00,  1.74it/s]\n",
      "                 Class     Images  Instances      Box(P          R      mAP50  mAP50-95)     Mask(P          R      mAP50  mAP50-95): 100%|██████████| 33/33 [00:13<00:00,  2.50it/s]"
     ]
    },
    {
     "name": "stdout",
     "output_type": "stream",
     "text": [
      "                   all        513        809      0.787      0.897      0.885      0.822      0.786      0.896      0.883      0.752\n"
     ]
    },
    {
     "name": "stderr",
     "output_type": "stream",
     "text": [
      "\n"
     ]
    },
    {
     "name": "stdout",
     "output_type": "stream",
     "text": [
      "\n",
      "      Epoch    GPU_mem   box_loss   seg_loss   cls_loss   dfl_loss  Instances       Size\n"
     ]
    },
    {
     "name": "stderr",
     "output_type": "stream",
     "text": [
      "     17/300      4.09G     0.5535      1.678     0.7164      1.064         18        640: 100%|██████████| 1525/1525 [14:36<00:00,  1.74it/s]\n",
      "                 Class     Images  Instances      Box(P          R      mAP50  mAP50-95)     Mask(P          R      mAP50  mAP50-95): 100%|██████████| 33/33 [00:13<00:00,  2.50it/s]"
     ]
    },
    {
     "name": "stdout",
     "output_type": "stream",
     "text": [
      "                   all        513        809       0.76      0.932      0.873      0.788      0.784      0.864      0.868      0.726\n"
     ]
    },
    {
     "name": "stderr",
     "output_type": "stream",
     "text": [
      "\n"
     ]
    },
    {
     "name": "stdout",
     "output_type": "stream",
     "text": [
      "\n",
      "      Epoch    GPU_mem   box_loss   seg_loss   cls_loss   dfl_loss  Instances       Size\n"
     ]
    },
    {
     "name": "stderr",
     "output_type": "stream",
     "text": [
      "     18/300      4.13G     0.5475      1.664     0.7099      1.059         20        640: 100%|██████████| 1525/1525 [14:34<00:00,  1.74it/s]\n",
      "                 Class     Images  Instances      Box(P          R      mAP50  mAP50-95)     Mask(P          R      mAP50  mAP50-95): 100%|██████████| 33/33 [00:13<00:00,  2.51it/s]"
     ]
    },
    {
     "name": "stdout",
     "output_type": "stream",
     "text": [
      "                   all        513        809      0.747      0.926      0.873       0.78      0.747      0.926      0.863      0.727\n"
     ]
    },
    {
     "name": "stderr",
     "output_type": "stream",
     "text": [
      "\n"
     ]
    },
    {
     "name": "stdout",
     "output_type": "stream",
     "text": [
      "\n",
      "      Epoch    GPU_mem   box_loss   seg_loss   cls_loss   dfl_loss  Instances       Size\n"
     ]
    },
    {
     "name": "stderr",
     "output_type": "stream",
     "text": [
      "     19/300      4.09G     0.5343      1.642     0.6939      1.056         17        640: 100%|██████████| 1525/1525 [14:34<00:00,  1.74it/s]\n",
      "                 Class     Images  Instances      Box(P          R      mAP50  mAP50-95)     Mask(P          R      mAP50  mAP50-95): 100%|██████████| 33/33 [00:13<00:00,  2.51it/s]"
     ]
    },
    {
     "name": "stdout",
     "output_type": "stream",
     "text": [
      "                   all        513        809      0.817      0.926      0.924      0.823      0.839       0.85      0.914      0.747\n"
     ]
    },
    {
     "name": "stderr",
     "output_type": "stream",
     "text": [
      "\n"
     ]
    },
    {
     "name": "stdout",
     "output_type": "stream",
     "text": [
      "\n",
      "      Epoch    GPU_mem   box_loss   seg_loss   cls_loss   dfl_loss  Instances       Size\n"
     ]
    },
    {
     "name": "stderr",
     "output_type": "stream",
     "text": [
      "     20/300      4.16G     0.5313      1.654     0.6911      1.053         17        640: 100%|██████████| 1525/1525 [14:34<00:00,  1.74it/s]\n",
      "                 Class     Images  Instances      Box(P          R      mAP50  mAP50-95)     Mask(P          R      mAP50  mAP50-95): 100%|██████████| 33/33 [00:13<00:00,  2.51it/s]"
     ]
    },
    {
     "name": "stdout",
     "output_type": "stream",
     "text": [
      "                   all        513        809      0.852      0.863      0.924      0.814      0.771       0.95      0.906      0.756\n"
     ]
    },
    {
     "name": "stderr",
     "output_type": "stream",
     "text": [
      "\n"
     ]
    },
    {
     "name": "stdout",
     "output_type": "stream",
     "text": [
      "\n",
      "      Epoch    GPU_mem   box_loss   seg_loss   cls_loss   dfl_loss  Instances       Size\n"
     ]
    },
    {
     "name": "stderr",
     "output_type": "stream",
     "text": [
      "     21/300      4.11G     0.5277      1.611     0.6691      1.044         24        640:  47%|████▋     | 710/1525 [06:47<07:45,  1.75it/s]c:\\Users\\bcw60\\anaconda3\\envs\\yolo8die\\lib\\site-packages\\ultralytics\\engine\\trainer.py:486: FutureWarning: Non-finite norm encountered in torch.nn.utils.clip_grad_norm_; continuing anyway. Note that the default behavior will change in a future release to error out if a non-finite total norm is encountered. At that point, setting error_if_nonfinite=false will be required to retain the old behavior.\n",
      "  torch.nn.utils.clip_grad_norm_(self.model.parameters(), max_norm=10.0)  # clip gradients\n",
      "     21/300      4.11G     0.5273       1.62     0.6805      1.047         23        640: 100%|██████████| 1525/1525 [14:34<00:00,  1.74it/s]\n",
      "                 Class     Images  Instances      Box(P          R      mAP50  mAP50-95)     Mask(P          R      mAP50  mAP50-95): 100%|██████████| 33/33 [00:13<00:00,  2.52it/s]"
     ]
    },
    {
     "name": "stdout",
     "output_type": "stream",
     "text": [
      "                   all        513        809      0.808      0.905      0.896      0.807      0.808      0.905       0.89      0.728\n"
     ]
    },
    {
     "name": "stderr",
     "output_type": "stream",
     "text": [
      "\n"
     ]
    },
    {
     "name": "stdout",
     "output_type": "stream",
     "text": [
      "\n",
      "      Epoch    GPU_mem   box_loss   seg_loss   cls_loss   dfl_loss  Instances       Size\n"
     ]
    },
    {
     "name": "stderr",
     "output_type": "stream",
     "text": [
      "     22/300      4.16G     0.5212      1.605     0.6701      1.044         20        640: 100%|██████████| 1525/1525 [14:35<00:00,  1.74it/s]\n",
      "                 Class     Images  Instances      Box(P          R      mAP50  mAP50-95)     Mask(P          R      mAP50  mAP50-95): 100%|██████████| 33/33 [00:13<00:00,  2.50it/s]"
     ]
    },
    {
     "name": "stdout",
     "output_type": "stream",
     "text": [
      "                   all        513        809      0.808      0.904      0.895      0.838      0.807      0.903      0.894       0.76\n"
     ]
    },
    {
     "name": "stderr",
     "output_type": "stream",
     "text": [
      "\n"
     ]
    },
    {
     "name": "stdout",
     "output_type": "stream",
     "text": [
      "\n",
      "      Epoch    GPU_mem   box_loss   seg_loss   cls_loss   dfl_loss  Instances       Size\n"
     ]
    },
    {
     "name": "stderr",
     "output_type": "stream",
     "text": [
      "     23/300      4.16G     0.5201      1.612     0.6671      1.043         16        640: 100%|██████████| 1525/1525 [14:35<00:00,  1.74it/s]\n",
      "                 Class     Images  Instances      Box(P          R      mAP50  mAP50-95)     Mask(P          R      mAP50  mAP50-95): 100%|██████████| 33/33 [00:13<00:00,  2.51it/s]"
     ]
    },
    {
     "name": "stdout",
     "output_type": "stream",
     "text": [
      "                   all        513        809      0.795      0.933      0.906      0.866      0.795      0.933      0.906      0.775\n"
     ]
    },
    {
     "name": "stderr",
     "output_type": "stream",
     "text": [
      "\n"
     ]
    },
    {
     "name": "stdout",
     "output_type": "stream",
     "text": [
      "\n",
      "      Epoch    GPU_mem   box_loss   seg_loss   cls_loss   dfl_loss  Instances       Size\n"
     ]
    },
    {
     "name": "stderr",
     "output_type": "stream",
     "text": [
      "     24/300      4.12G     0.5115      1.581     0.6557      1.037         21        640: 100%|██████████| 1525/1525 [14:34<00:00,  1.74it/s]\n",
      "                 Class     Images  Instances      Box(P          R      mAP50  mAP50-95)     Mask(P          R      mAP50  mAP50-95): 100%|██████████| 33/33 [00:13<00:00,  2.52it/s]"
     ]
    },
    {
     "name": "stdout",
     "output_type": "stream",
     "text": [
      "                   all        513        809      0.836      0.848        0.9      0.843      0.836      0.848      0.898      0.769\n"
     ]
    },
    {
     "name": "stderr",
     "output_type": "stream",
     "text": [
      "\n"
     ]
    },
    {
     "name": "stdout",
     "output_type": "stream",
     "text": [
      "\n",
      "      Epoch    GPU_mem   box_loss   seg_loss   cls_loss   dfl_loss  Instances       Size\n"
     ]
    },
    {
     "name": "stderr",
     "output_type": "stream",
     "text": [
      "     25/300      4.14G     0.5066      1.587     0.6513      1.035         13        640: 100%|██████████| 1525/1525 [14:33<00:00,  1.75it/s]\n",
      "                 Class     Images  Instances      Box(P          R      mAP50  mAP50-95)     Mask(P          R      mAP50  mAP50-95): 100%|██████████| 33/33 [00:13<00:00,  2.52it/s]"
     ]
    },
    {
     "name": "stdout",
     "output_type": "stream",
     "text": [
      "                   all        513        809      0.848      0.843      0.899      0.842      0.848      0.843      0.899      0.756\n"
     ]
    },
    {
     "name": "stderr",
     "output_type": "stream",
     "text": [
      "\n"
     ]
    },
    {
     "name": "stdout",
     "output_type": "stream",
     "text": [
      "\n",
      "      Epoch    GPU_mem   box_loss   seg_loss   cls_loss   dfl_loss  Instances       Size\n"
     ]
    },
    {
     "name": "stderr",
     "output_type": "stream",
     "text": [
      "     26/300      4.14G     0.5015      1.555     0.6445      1.028         18        640: 100%|██████████| 1525/1525 [14:34<00:00,  1.74it/s]\n",
      "                 Class     Images  Instances      Box(P          R      mAP50  mAP50-95)     Mask(P          R      mAP50  mAP50-95): 100%|██████████| 33/33 [00:13<00:00,  2.51it/s]"
     ]
    },
    {
     "name": "stdout",
     "output_type": "stream",
     "text": [
      "                   all        513        809      0.803      0.947      0.919      0.865      0.803      0.947      0.919      0.786\n"
     ]
    },
    {
     "name": "stderr",
     "output_type": "stream",
     "text": [
      "\n"
     ]
    },
    {
     "name": "stdout",
     "output_type": "stream",
     "text": [
      "\n",
      "      Epoch    GPU_mem   box_loss   seg_loss   cls_loss   dfl_loss  Instances       Size\n"
     ]
    },
    {
     "name": "stderr",
     "output_type": "stream",
     "text": [
      "     27/300      4.14G     0.5041      1.556     0.6401       1.03         25        640: 100%|██████████| 1525/1525 [14:33<00:00,  1.75it/s]\n",
      "                 Class     Images  Instances      Box(P          R      mAP50  mAP50-95)     Mask(P          R      mAP50  mAP50-95): 100%|██████████| 33/33 [00:13<00:00,  2.51it/s]"
     ]
    },
    {
     "name": "stdout",
     "output_type": "stream",
     "text": [
      "                   all        513        809      0.811      0.958      0.922      0.865       0.81      0.957      0.921       0.78\n"
     ]
    },
    {
     "name": "stderr",
     "output_type": "stream",
     "text": [
      "\n"
     ]
    },
    {
     "name": "stdout",
     "output_type": "stream",
     "text": [
      "\n",
      "      Epoch    GPU_mem   box_loss   seg_loss   cls_loss   dfl_loss  Instances       Size\n"
     ]
    },
    {
     "name": "stderr",
     "output_type": "stream",
     "text": [
      "     28/300       4.1G     0.4954      1.532     0.6366      1.028         18        640: 100%|██████████| 1525/1525 [14:32<00:00,  1.75it/s]\n",
      "                 Class     Images  Instances      Box(P          R      mAP50  mAP50-95)     Mask(P          R      mAP50  mAP50-95): 100%|██████████| 33/33 [00:13<00:00,  2.50it/s]"
     ]
    },
    {
     "name": "stdout",
     "output_type": "stream",
     "text": [
      "                   all        513        809      0.827      0.891      0.911      0.828      0.826      0.889       0.91      0.762\n"
     ]
    },
    {
     "name": "stderr",
     "output_type": "stream",
     "text": [
      "\n"
     ]
    },
    {
     "name": "stdout",
     "output_type": "stream",
     "text": [
      "\n",
      "      Epoch    GPU_mem   box_loss   seg_loss   cls_loss   dfl_loss  Instances       Size\n"
     ]
    },
    {
     "name": "stderr",
     "output_type": "stream",
     "text": [
      "     29/300      4.09G     0.4925      1.537     0.6314      1.023         20        640: 100%|██████████| 1525/1525 [14:33<00:00,  1.75it/s]\n",
      "                 Class     Images  Instances      Box(P          R      mAP50  mAP50-95)     Mask(P          R      mAP50  mAP50-95): 100%|██████████| 33/33 [00:13<00:00,  2.50it/s]"
     ]
    },
    {
     "name": "stdout",
     "output_type": "stream",
     "text": [
      "                   all        513        809      0.857       0.92      0.921      0.879      0.858      0.921       0.92        0.8\n"
     ]
    },
    {
     "name": "stderr",
     "output_type": "stream",
     "text": [
      "\n"
     ]
    },
    {
     "name": "stdout",
     "output_type": "stream",
     "text": [
      "\n",
      "      Epoch    GPU_mem   box_loss   seg_loss   cls_loss   dfl_loss  Instances       Size\n"
     ]
    },
    {
     "name": "stderr",
     "output_type": "stream",
     "text": [
      "     30/300      4.09G     0.4835      1.511     0.6166      1.021         24        640: 100%|██████████| 1525/1525 [14:34<00:00,  1.74it/s]\n",
      "                 Class     Images  Instances      Box(P          R      mAP50  mAP50-95)     Mask(P          R      mAP50  mAP50-95): 100%|██████████| 33/33 [00:13<00:00,  2.50it/s]"
     ]
    },
    {
     "name": "stdout",
     "output_type": "stream",
     "text": [
      "                   all        513        809      0.834       0.95      0.932      0.878      0.835      0.951      0.932      0.794\n"
     ]
    },
    {
     "name": "stderr",
     "output_type": "stream",
     "text": [
      "\n"
     ]
    },
    {
     "name": "stdout",
     "output_type": "stream",
     "text": [
      "\n",
      "      Epoch    GPU_mem   box_loss   seg_loss   cls_loss   dfl_loss  Instances       Size\n"
     ]
    },
    {
     "name": "stderr",
     "output_type": "stream",
     "text": [
      "     31/300      4.09G      0.485      1.512     0.6246       1.02         18        640: 100%|██████████| 1525/1525 [14:35<00:00,  1.74it/s]\n",
      "                 Class     Images  Instances      Box(P          R      mAP50  mAP50-95)     Mask(P          R      mAP50  mAP50-95): 100%|██████████| 33/33 [00:13<00:00,  2.51it/s]"
     ]
    },
    {
     "name": "stdout",
     "output_type": "stream",
     "text": [
      "                   all        513        809      0.808      0.953      0.932      0.874      0.808      0.953      0.931      0.791\n"
     ]
    },
    {
     "name": "stderr",
     "output_type": "stream",
     "text": [
      "\n"
     ]
    },
    {
     "name": "stdout",
     "output_type": "stream",
     "text": [
      "\n",
      "      Epoch    GPU_mem   box_loss   seg_loss   cls_loss   dfl_loss  Instances       Size\n"
     ]
    },
    {
     "name": "stderr",
     "output_type": "stream",
     "text": [
      "     32/300      4.16G     0.4801      1.493     0.6204      1.017         16        640: 100%|██████████| 1525/1525 [14:34<00:00,  1.74it/s]\n",
      "                 Class     Images  Instances      Box(P          R      mAP50  mAP50-95)     Mask(P          R      mAP50  mAP50-95): 100%|██████████| 33/33 [00:13<00:00,  2.52it/s]"
     ]
    },
    {
     "name": "stdout",
     "output_type": "stream",
     "text": [
      "                   all        513        809      0.815      0.944      0.927      0.897      0.814      0.943      0.926      0.813\n"
     ]
    },
    {
     "name": "stderr",
     "output_type": "stream",
     "text": [
      "\n"
     ]
    },
    {
     "name": "stdout",
     "output_type": "stream",
     "text": [
      "\n",
      "      Epoch    GPU_mem   box_loss   seg_loss   cls_loss   dfl_loss  Instances       Size\n"
     ]
    },
    {
     "name": "stderr",
     "output_type": "stream",
     "text": [
      "     33/300      4.13G     0.4801      1.479      0.613      1.015         25        640: 100%|██████████| 1525/1525 [14:36<00:00,  1.74it/s]\n",
      "                 Class     Images  Instances      Box(P          R      mAP50  mAP50-95)     Mask(P          R      mAP50  mAP50-95): 100%|██████████| 33/33 [00:13<00:00,  2.51it/s]"
     ]
    },
    {
     "name": "stdout",
     "output_type": "stream",
     "text": [
      "                   all        513        809      0.846      0.921      0.936      0.881      0.845       0.92      0.935      0.798\n"
     ]
    },
    {
     "name": "stderr",
     "output_type": "stream",
     "text": [
      "\n"
     ]
    },
    {
     "name": "stdout",
     "output_type": "stream",
     "text": [
      "\n",
      "      Epoch    GPU_mem   box_loss   seg_loss   cls_loss   dfl_loss  Instances       Size\n"
     ]
    },
    {
     "name": "stderr",
     "output_type": "stream",
     "text": [
      "     34/300      4.14G     0.4786      1.472     0.6042      1.013         16        640: 100%|██████████| 1525/1525 [14:33<00:00,  1.75it/s]\n",
      "                 Class     Images  Instances      Box(P          R      mAP50  mAP50-95)     Mask(P          R      mAP50  mAP50-95): 100%|██████████| 33/33 [00:13<00:00,  2.52it/s]"
     ]
    },
    {
     "name": "stdout",
     "output_type": "stream",
     "text": [
      "                   all        513        809      0.832       0.91       0.91      0.857      0.832       0.91       0.91      0.781\n"
     ]
    },
    {
     "name": "stderr",
     "output_type": "stream",
     "text": [
      "\n"
     ]
    },
    {
     "name": "stdout",
     "output_type": "stream",
     "text": [
      "\n",
      "      Epoch    GPU_mem   box_loss   seg_loss   cls_loss   dfl_loss  Instances       Size\n"
     ]
    },
    {
     "name": "stderr",
     "output_type": "stream",
     "text": [
      "     35/300      4.08G     0.4764      1.479     0.6021      1.014         18        640: 100%|██████████| 1525/1525 [14:35<00:00,  1.74it/s]\n",
      "                 Class     Images  Instances      Box(P          R      mAP50  mAP50-95)     Mask(P          R      mAP50  mAP50-95): 100%|██████████| 33/33 [00:13<00:00,  2.51it/s]"
     ]
    },
    {
     "name": "stdout",
     "output_type": "stream",
     "text": [
      "                   all        513        809      0.812      0.955      0.917      0.848      0.811      0.955      0.916      0.783\n"
     ]
    },
    {
     "name": "stderr",
     "output_type": "stream",
     "text": [
      "\n"
     ]
    },
    {
     "name": "stdout",
     "output_type": "stream",
     "text": [
      "\n",
      "      Epoch    GPU_mem   box_loss   seg_loss   cls_loss   dfl_loss  Instances       Size\n"
     ]
    },
    {
     "name": "stderr",
     "output_type": "stream",
     "text": [
      "     36/300      4.09G     0.4751      1.476     0.5998      1.016         21        640: 100%|██████████| 1525/1525 [14:35<00:00,  1.74it/s]\n",
      "                 Class     Images  Instances      Box(P          R      mAP50  mAP50-95)     Mask(P          R      mAP50  mAP50-95): 100%|██████████| 33/33 [00:13<00:00,  2.50it/s]"
     ]
    },
    {
     "name": "stdout",
     "output_type": "stream",
     "text": [
      "                   all        513        809      0.825      0.926      0.923      0.878      0.826      0.926      0.922      0.814\n"
     ]
    },
    {
     "name": "stderr",
     "output_type": "stream",
     "text": [
      "\n"
     ]
    },
    {
     "name": "stdout",
     "output_type": "stream",
     "text": [
      "\n",
      "      Epoch    GPU_mem   box_loss   seg_loss   cls_loss   dfl_loss  Instances       Size\n"
     ]
    },
    {
     "name": "stderr",
     "output_type": "stream",
     "text": [
      "     37/300      4.09G      0.473      1.468     0.6025      1.014         22        640: 100%|██████████| 1525/1525 [14:36<00:00,  1.74it/s]\n",
      "                 Class     Images  Instances      Box(P          R      mAP50  mAP50-95)     Mask(P          R      mAP50  mAP50-95): 100%|██████████| 33/33 [00:13<00:00,  2.44it/s]"
     ]
    },
    {
     "name": "stdout",
     "output_type": "stream",
     "text": [
      "                   all        513        809      0.811       0.93      0.919      0.866       0.81       0.93      0.917      0.794\n"
     ]
    },
    {
     "name": "stderr",
     "output_type": "stream",
     "text": [
      "\n"
     ]
    },
    {
     "name": "stdout",
     "output_type": "stream",
     "text": [
      "\n",
      "      Epoch    GPU_mem   box_loss   seg_loss   cls_loss   dfl_loss  Instances       Size\n"
     ]
    },
    {
     "name": "stderr",
     "output_type": "stream",
     "text": [
      "     38/300      4.12G     0.4666      1.443     0.5897      1.007         23        640: 100%|██████████| 1525/1525 [14:39<00:00,  1.73it/s]\n",
      "                 Class     Images  Instances      Box(P          R      mAP50  mAP50-95)     Mask(P          R      mAP50  mAP50-95): 100%|██████████| 33/33 [00:13<00:00,  2.45it/s]"
     ]
    },
    {
     "name": "stdout",
     "output_type": "stream",
     "text": [
      "                   all        513        809      0.803       0.91      0.919      0.885      0.802      0.909      0.918      0.802\n"
     ]
    },
    {
     "name": "stderr",
     "output_type": "stream",
     "text": [
      "\n"
     ]
    },
    {
     "name": "stdout",
     "output_type": "stream",
     "text": [
      "\n",
      "      Epoch    GPU_mem   box_loss   seg_loss   cls_loss   dfl_loss  Instances       Size\n"
     ]
    },
    {
     "name": "stderr",
     "output_type": "stream",
     "text": [
      "     39/300       4.1G      0.463      1.427     0.5873      1.005         17        640: 100%|██████████| 1525/1525 [14:43<00:00,  1.73it/s]\n",
      "                 Class     Images  Instances      Box(P          R      mAP50  mAP50-95)     Mask(P          R      mAP50  mAP50-95): 100%|██████████| 33/33 [00:13<00:00,  2.46it/s]"
     ]
    },
    {
     "name": "stdout",
     "output_type": "stream",
     "text": [
      "                   all        513        809      0.796      0.945      0.916      0.888      0.795      0.945      0.915        0.8\n"
     ]
    },
    {
     "name": "stderr",
     "output_type": "stream",
     "text": [
      "\n"
     ]
    },
    {
     "name": "stdout",
     "output_type": "stream",
     "text": [
      "\n",
      "      Epoch    GPU_mem   box_loss   seg_loss   cls_loss   dfl_loss  Instances       Size\n"
     ]
    },
    {
     "name": "stderr",
     "output_type": "stream",
     "text": [
      "     40/300      4.12G     0.4639      1.453       0.59      1.008         21        640: 100%|██████████| 1525/1525 [14:43<00:00,  1.73it/s]\n",
      "                 Class     Images  Instances      Box(P          R      mAP50  mAP50-95)     Mask(P          R      mAP50  mAP50-95): 100%|██████████| 33/33 [00:13<00:00,  2.48it/s]"
     ]
    },
    {
     "name": "stdout",
     "output_type": "stream",
     "text": [
      "                   all        513        809      0.842      0.905      0.915      0.869      0.841      0.905      0.914      0.789\n"
     ]
    },
    {
     "name": "stderr",
     "output_type": "stream",
     "text": [
      "\n"
     ]
    },
    {
     "name": "stdout",
     "output_type": "stream",
     "text": [
      "\n",
      "      Epoch    GPU_mem   box_loss   seg_loss   cls_loss   dfl_loss  Instances       Size\n"
     ]
    },
    {
     "name": "stderr",
     "output_type": "stream",
     "text": [
      "     41/300      4.13G     0.4601      1.421     0.5815      1.002         27        640: 100%|██████████| 1525/1525 [14:44<00:00,  1.73it/s]\n",
      "                 Class     Images  Instances      Box(P          R      mAP50  mAP50-95)     Mask(P          R      mAP50  mAP50-95): 100%|██████████| 33/33 [00:13<00:00,  2.47it/s]"
     ]
    },
    {
     "name": "stdout",
     "output_type": "stream",
     "text": [
      "                   all        513        809      0.812      0.927      0.921      0.878      0.812      0.926       0.92      0.802\n"
     ]
    },
    {
     "name": "stderr",
     "output_type": "stream",
     "text": [
      "\n"
     ]
    },
    {
     "name": "stdout",
     "output_type": "stream",
     "text": [
      "\n",
      "      Epoch    GPU_mem   box_loss   seg_loss   cls_loss   dfl_loss  Instances       Size\n"
     ]
    },
    {
     "name": "stderr",
     "output_type": "stream",
     "text": [
      "     42/300      4.07G     0.4588      1.413      0.578      1.001         25        640:  80%|███████▉  | 1213/1525 [11:44<03:00,  1.73it/s]c:\\Users\\bcw60\\anaconda3\\envs\\yolo8die\\lib\\site-packages\\ultralytics\\engine\\trainer.py:486: FutureWarning: Non-finite norm encountered in torch.nn.utils.clip_grad_norm_; continuing anyway. Note that the default behavior will change in a future release to error out if a non-finite total norm is encountered. At that point, setting error_if_nonfinite=false will be required to retain the old behavior.\n",
      "  torch.nn.utils.clip_grad_norm_(self.model.parameters(), max_norm=10.0)  # clip gradients\n",
      "     42/300      4.07G     0.4601      1.419     0.5807      1.002         22        640: 100%|██████████| 1525/1525 [14:45<00:00,  1.72it/s]\n",
      "                 Class     Images  Instances      Box(P          R      mAP50  mAP50-95)     Mask(P          R      mAP50  mAP50-95): 100%|██████████| 33/33 [00:13<00:00,  2.46it/s]"
     ]
    },
    {
     "name": "stdout",
     "output_type": "stream",
     "text": [
      "                   all        513        809      0.824      0.935      0.926      0.895      0.822      0.936      0.924      0.822\n"
     ]
    },
    {
     "name": "stderr",
     "output_type": "stream",
     "text": [
      "\n"
     ]
    },
    {
     "name": "stdout",
     "output_type": "stream",
     "text": [
      "\n",
      "      Epoch    GPU_mem   box_loss   seg_loss   cls_loss   dfl_loss  Instances       Size\n"
     ]
    },
    {
     "name": "stderr",
     "output_type": "stream",
     "text": [
      "     43/300      4.15G      0.459      1.424     0.5763      1.004         25        640: 100%|██████████| 1525/1525 [14:46<00:00,  1.72it/s]\n",
      "                 Class     Images  Instances      Box(P          R      mAP50  mAP50-95)     Mask(P          R      mAP50  mAP50-95): 100%|██████████| 33/33 [00:13<00:00,  2.44it/s]"
     ]
    },
    {
     "name": "stdout",
     "output_type": "stream",
     "text": [
      "                   all        513        809      0.818      0.956      0.927      0.898      0.817      0.955      0.927      0.812\n"
     ]
    },
    {
     "name": "stderr",
     "output_type": "stream",
     "text": [
      "\n"
     ]
    },
    {
     "name": "stdout",
     "output_type": "stream",
     "text": [
      "\n",
      "      Epoch    GPU_mem   box_loss   seg_loss   cls_loss   dfl_loss  Instances       Size\n"
     ]
    },
    {
     "name": "stderr",
     "output_type": "stream",
     "text": [
      "     44/300      4.14G      0.453      1.394     0.5711     0.9981         19        640: 100%|██████████| 1525/1525 [14:46<00:00,  1.72it/s]\n",
      "                 Class     Images  Instances      Box(P          R      mAP50  mAP50-95)     Mask(P          R      mAP50  mAP50-95): 100%|██████████| 33/33 [00:13<00:00,  2.44it/s]"
     ]
    },
    {
     "name": "stdout",
     "output_type": "stream",
     "text": [
      "                   all        513        809      0.874      0.938      0.939        0.9      0.873      0.938      0.937      0.834\n"
     ]
    },
    {
     "name": "stderr",
     "output_type": "stream",
     "text": [
      "\n"
     ]
    },
    {
     "name": "stdout",
     "output_type": "stream",
     "text": [
      "\n",
      "      Epoch    GPU_mem   box_loss   seg_loss   cls_loss   dfl_loss  Instances       Size\n"
     ]
    },
    {
     "name": "stderr",
     "output_type": "stream",
     "text": [
      "     45/300      4.09G     0.4533      1.392     0.5713     0.9985         17        640: 100%|██████████| 1525/1525 [14:46<00:00,  1.72it/s]\n",
      "                 Class     Images  Instances      Box(P          R      mAP50  mAP50-95)     Mask(P          R      mAP50  mAP50-95): 100%|██████████| 33/33 [00:13<00:00,  2.47it/s]"
     ]
    },
    {
     "name": "stdout",
     "output_type": "stream",
     "text": [
      "                   all        513        809      0.866      0.939      0.933      0.907      0.865      0.938      0.932      0.829\n"
     ]
    },
    {
     "name": "stderr",
     "output_type": "stream",
     "text": [
      "\n"
     ]
    },
    {
     "name": "stdout",
     "output_type": "stream",
     "text": [
      "\n",
      "      Epoch    GPU_mem   box_loss   seg_loss   cls_loss   dfl_loss  Instances       Size\n"
     ]
    },
    {
     "name": "stderr",
     "output_type": "stream",
     "text": [
      "     46/300      4.14G     0.4476      1.398     0.5664     0.9943         23        640: 100%|██████████| 1525/1525 [14:47<00:00,  1.72it/s]\n",
      "                 Class     Images  Instances      Box(P          R      mAP50  mAP50-95)     Mask(P          R      mAP50  mAP50-95): 100%|██████████| 33/33 [00:13<00:00,  2.47it/s]"
     ]
    },
    {
     "name": "stdout",
     "output_type": "stream",
     "text": [
      "                   all        513        809      0.826      0.941      0.934      0.905      0.826       0.94      0.933      0.821\n"
     ]
    },
    {
     "name": "stderr",
     "output_type": "stream",
     "text": [
      "\n"
     ]
    },
    {
     "name": "stdout",
     "output_type": "stream",
     "text": [
      "\n",
      "      Epoch    GPU_mem   box_loss   seg_loss   cls_loss   dfl_loss  Instances       Size\n"
     ]
    },
    {
     "name": "stderr",
     "output_type": "stream",
     "text": [
      "     47/300      4.09G     0.4464      1.378     0.5651     0.9955         28        640: 100%|██████████| 1525/1525 [14:48<00:00,  1.72it/s]\n",
      "                 Class     Images  Instances      Box(P          R      mAP50  mAP50-95)     Mask(P          R      mAP50  mAP50-95): 100%|██████████| 33/33 [00:13<00:00,  2.47it/s]"
     ]
    },
    {
     "name": "stdout",
     "output_type": "stream",
     "text": [
      "                   all        513        809      0.803      0.949      0.919       0.89      0.803      0.948      0.918      0.799\n"
     ]
    },
    {
     "name": "stderr",
     "output_type": "stream",
     "text": [
      "\n"
     ]
    },
    {
     "name": "stdout",
     "output_type": "stream",
     "text": [
      "\n",
      "      Epoch    GPU_mem   box_loss   seg_loss   cls_loss   dfl_loss  Instances       Size\n"
     ]
    },
    {
     "name": "stderr",
     "output_type": "stream",
     "text": [
      "     48/300      4.16G     0.4473       1.38      0.567     0.9942         34        640: 100%|██████████| 1525/1525 [14:45<00:00,  1.72it/s]\n",
      "                 Class     Images  Instances      Box(P          R      mAP50  mAP50-95)     Mask(P          R      mAP50  mAP50-95): 100%|██████████| 33/33 [00:13<00:00,  2.48it/s]"
     ]
    },
    {
     "name": "stdout",
     "output_type": "stream",
     "text": [
      "                   all        513        809      0.812      0.935       0.94       0.91      0.811      0.934       0.94      0.817\n"
     ]
    },
    {
     "name": "stderr",
     "output_type": "stream",
     "text": [
      "\n"
     ]
    },
    {
     "name": "stdout",
     "output_type": "stream",
     "text": [
      "\n",
      "      Epoch    GPU_mem   box_loss   seg_loss   cls_loss   dfl_loss  Instances       Size\n"
     ]
    },
    {
     "name": "stderr",
     "output_type": "stream",
     "text": [
      "     49/300      4.07G      0.446      1.379      0.558     0.9965         16        640: 100%|██████████| 1525/1525 [14:45<00:00,  1.72it/s]\n",
      "                 Class     Images  Instances      Box(P          R      mAP50  mAP50-95)     Mask(P          R      mAP50  mAP50-95): 100%|██████████| 33/33 [00:13<00:00,  2.41it/s]"
     ]
    },
    {
     "name": "stdout",
     "output_type": "stream",
     "text": [
      "                   all        513        809      0.819      0.943      0.931      0.896      0.818      0.943       0.93      0.815\n"
     ]
    },
    {
     "name": "stderr",
     "output_type": "stream",
     "text": [
      "\n"
     ]
    },
    {
     "name": "stdout",
     "output_type": "stream",
     "text": [
      "\n",
      "      Epoch    GPU_mem   box_loss   seg_loss   cls_loss   dfl_loss  Instances       Size\n"
     ]
    },
    {
     "name": "stderr",
     "output_type": "stream",
     "text": [
      "     50/300      4.07G     0.4468      1.383     0.5564     0.9943         23        640: 100%|██████████| 1525/1525 [14:47<00:00,  1.72it/s]\n",
      "                 Class     Images  Instances      Box(P          R      mAP50  mAP50-95)     Mask(P          R      mAP50  mAP50-95): 100%|██████████| 33/33 [00:13<00:00,  2.44it/s]"
     ]
    },
    {
     "name": "stdout",
     "output_type": "stream",
     "text": [
      "                   all        513        809      0.848      0.887      0.933      0.894      0.848      0.887      0.932      0.814\n"
     ]
    },
    {
     "name": "stderr",
     "output_type": "stream",
     "text": [
      "\n"
     ]
    },
    {
     "name": "stdout",
     "output_type": "stream",
     "text": [
      "\n",
      "      Epoch    GPU_mem   box_loss   seg_loss   cls_loss   dfl_loss  Instances       Size\n"
     ]
    },
    {
     "name": "stderr",
     "output_type": "stream",
     "text": [
      "     51/300      4.09G      0.446       1.39     0.5614     0.9981         23        640: 100%|██████████| 1525/1525 [14:47<00:00,  1.72it/s]\n",
      "                 Class     Images  Instances      Box(P          R      mAP50  mAP50-95)     Mask(P          R      mAP50  mAP50-95): 100%|██████████| 33/33 [00:13<00:00,  2.49it/s]"
     ]
    },
    {
     "name": "stdout",
     "output_type": "stream",
     "text": [
      "                   all        513        809      0.783       0.96      0.921      0.896      0.783       0.96       0.92       0.81\n"
     ]
    },
    {
     "name": "stderr",
     "output_type": "stream",
     "text": [
      "\n"
     ]
    },
    {
     "name": "stdout",
     "output_type": "stream",
     "text": [
      "\n",
      "      Epoch    GPU_mem   box_loss   seg_loss   cls_loss   dfl_loss  Instances       Size\n"
     ]
    },
    {
     "name": "stderr",
     "output_type": "stream",
     "text": [
      "     52/300      4.11G     0.4395      1.355     0.5562     0.9889         21        640: 100%|██████████| 1525/1525 [14:46<00:00,  1.72it/s]\n",
      "                 Class     Images  Instances      Box(P          R      mAP50  mAP50-95)     Mask(P          R      mAP50  mAP50-95): 100%|██████████| 33/33 [00:13<00:00,  2.47it/s]"
     ]
    },
    {
     "name": "stdout",
     "output_type": "stream",
     "text": [
      "                   all        513        809      0.816      0.933      0.913       0.89      0.816      0.933      0.912      0.799\n"
     ]
    },
    {
     "name": "stderr",
     "output_type": "stream",
     "text": [
      "\n"
     ]
    },
    {
     "name": "stdout",
     "output_type": "stream",
     "text": [
      "\n",
      "      Epoch    GPU_mem   box_loss   seg_loss   cls_loss   dfl_loss  Instances       Size\n"
     ]
    },
    {
     "name": "stderr",
     "output_type": "stream",
     "text": [
      "     53/300       4.1G     0.4419      1.364     0.5492     0.9913         19        640: 100%|██████████| 1525/1525 [14:47<00:00,  1.72it/s]\n",
      "                 Class     Images  Instances      Box(P          R      mAP50  mAP50-95)     Mask(P          R      mAP50  mAP50-95): 100%|██████████| 33/33 [00:13<00:00,  2.48it/s]"
     ]
    },
    {
     "name": "stdout",
     "output_type": "stream",
     "text": [
      "                   all        513        809      0.822       0.93      0.935      0.907      0.822       0.93      0.934      0.826\n"
     ]
    },
    {
     "name": "stderr",
     "output_type": "stream",
     "text": [
      "\n"
     ]
    },
    {
     "name": "stdout",
     "output_type": "stream",
     "text": [
      "\n",
      "      Epoch    GPU_mem   box_loss   seg_loss   cls_loss   dfl_loss  Instances       Size\n"
     ]
    },
    {
     "name": "stderr",
     "output_type": "stream",
     "text": [
      "     54/300      4.11G     0.4385      1.361     0.5501     0.9908         21        640:  62%|██████▏   | 945/1525 [09:08<05:37,  1.72it/s]c:\\Users\\bcw60\\anaconda3\\envs\\yolo8die\\lib\\site-packages\\ultralytics\\engine\\trainer.py:486: FutureWarning: Non-finite norm encountered in torch.nn.utils.clip_grad_norm_; continuing anyway. Note that the default behavior will change in a future release to error out if a non-finite total norm is encountered. At that point, setting error_if_nonfinite=false will be required to retain the old behavior.\n",
      "  torch.nn.utils.clip_grad_norm_(self.model.parameters(), max_norm=10.0)  # clip gradients\n",
      "     54/300      4.11G     0.4408       1.37     0.5505      0.992         14        640: 100%|██████████| 1525/1525 [14:45<00:00,  1.72it/s]\n",
      "                 Class     Images  Instances      Box(P          R      mAP50  mAP50-95)     Mask(P          R      mAP50  mAP50-95): 100%|██████████| 33/33 [00:13<00:00,  2.47it/s]"
     ]
    },
    {
     "name": "stdout",
     "output_type": "stream",
     "text": [
      "                   all        513        809      0.806      0.924      0.924      0.895      0.806      0.924      0.924      0.817\n"
     ]
    },
    {
     "name": "stderr",
     "output_type": "stream",
     "text": [
      "\n"
     ]
    },
    {
     "name": "stdout",
     "output_type": "stream",
     "text": [
      "\n",
      "      Epoch    GPU_mem   box_loss   seg_loss   cls_loss   dfl_loss  Instances       Size\n"
     ]
    },
    {
     "name": "stderr",
     "output_type": "stream",
     "text": [
      "     55/300      4.12G     0.4372      1.352     0.5484     0.9891         14        640: 100%|██████████| 1525/1525 [14:45<00:00,  1.72it/s]\n",
      "                 Class     Images  Instances      Box(P          R      mAP50  mAP50-95)     Mask(P          R      mAP50  mAP50-95): 100%|██████████| 33/33 [00:13<00:00,  2.48it/s]"
     ]
    },
    {
     "name": "stdout",
     "output_type": "stream",
     "text": [
      "                   all        513        809      0.828      0.917      0.926      0.903      0.828      0.917      0.926      0.829\n"
     ]
    },
    {
     "name": "stderr",
     "output_type": "stream",
     "text": [
      "\n"
     ]
    },
    {
     "name": "stdout",
     "output_type": "stream",
     "text": [
      "\n",
      "      Epoch    GPU_mem   box_loss   seg_loss   cls_loss   dfl_loss  Instances       Size\n"
     ]
    },
    {
     "name": "stderr",
     "output_type": "stream",
     "text": [
      "     56/300      4.15G     0.4336      1.344     0.5474     0.9893         16        640: 100%|██████████| 1525/1525 [14:45<00:00,  1.72it/s]\n",
      "                 Class     Images  Instances      Box(P          R      mAP50  mAP50-95)     Mask(P          R      mAP50  mAP50-95): 100%|██████████| 33/33 [00:13<00:00,  2.48it/s]"
     ]
    },
    {
     "name": "stdout",
     "output_type": "stream",
     "text": [
      "                   all        513        809      0.794      0.937      0.925      0.903      0.794      0.937      0.925      0.821\n"
     ]
    },
    {
     "name": "stderr",
     "output_type": "stream",
     "text": [
      "\n"
     ]
    },
    {
     "name": "stdout",
     "output_type": "stream",
     "text": [
      "\n",
      "      Epoch    GPU_mem   box_loss   seg_loss   cls_loss   dfl_loss  Instances       Size\n"
     ]
    },
    {
     "name": "stderr",
     "output_type": "stream",
     "text": [
      "     57/300      4.09G     0.4373      1.344     0.5426     0.9925         15        640: 100%|██████████| 1525/1525 [14:46<00:00,  1.72it/s]\n",
      "                 Class     Images  Instances      Box(P          R      mAP50  mAP50-95)     Mask(P          R      mAP50  mAP50-95): 100%|██████████| 33/33 [00:13<00:00,  2.46it/s]"
     ]
    },
    {
     "name": "stdout",
     "output_type": "stream",
     "text": [
      "                   all        513        809      0.794      0.936      0.928      0.904      0.794      0.936      0.928      0.834\n"
     ]
    },
    {
     "name": "stderr",
     "output_type": "stream",
     "text": [
      "\n"
     ]
    },
    {
     "name": "stdout",
     "output_type": "stream",
     "text": [
      "\n",
      "      Epoch    GPU_mem   box_loss   seg_loss   cls_loss   dfl_loss  Instances       Size\n"
     ]
    },
    {
     "name": "stderr",
     "output_type": "stream",
     "text": [
      "     58/300      4.07G     0.4314       1.33     0.5392     0.9882         17        640: 100%|██████████| 1525/1525 [14:46<00:00,  1.72it/s]\n",
      "                 Class     Images  Instances      Box(P          R      mAP50  mAP50-95)     Mask(P          R      mAP50  mAP50-95): 100%|██████████| 33/33 [00:13<00:00,  2.47it/s]"
     ]
    },
    {
     "name": "stdout",
     "output_type": "stream",
     "text": [
      "                   all        513        809      0.809       0.93      0.927      0.903      0.809       0.93      0.926       0.83\n"
     ]
    },
    {
     "name": "stderr",
     "output_type": "stream",
     "text": [
      "\n"
     ]
    },
    {
     "name": "stdout",
     "output_type": "stream",
     "text": [
      "\n",
      "      Epoch    GPU_mem   box_loss   seg_loss   cls_loss   dfl_loss  Instances       Size\n"
     ]
    },
    {
     "name": "stderr",
     "output_type": "stream",
     "text": [
      "     59/300      4.11G     0.4331       1.33     0.5381     0.9902         25        640: 100%|██████████| 1525/1525 [14:45<00:00,  1.72it/s]\n",
      "                 Class     Images  Instances      Box(P          R      mAP50  mAP50-95)     Mask(P          R      mAP50  mAP50-95): 100%|██████████| 33/33 [00:13<00:00,  2.46it/s]"
     ]
    },
    {
     "name": "stdout",
     "output_type": "stream",
     "text": [
      "                   all        513        809      0.819      0.922      0.923      0.898      0.819      0.922      0.923       0.84\n"
     ]
    },
    {
     "name": "stderr",
     "output_type": "stream",
     "text": [
      "\n"
     ]
    },
    {
     "name": "stdout",
     "output_type": "stream",
     "text": [
      "\n",
      "      Epoch    GPU_mem   box_loss   seg_loss   cls_loss   dfl_loss  Instances       Size\n"
     ]
    },
    {
     "name": "stderr",
     "output_type": "stream",
     "text": [
      "     60/300      4.07G     0.4363       1.35     0.5437     0.9876         22        640: 100%|██████████| 1525/1525 [14:45<00:00,  1.72it/s]\n",
      "                 Class     Images  Instances      Box(P          R      mAP50  mAP50-95)     Mask(P          R      mAP50  mAP50-95): 100%|██████████| 33/33 [00:13<00:00,  2.46it/s]"
     ]
    },
    {
     "name": "stdout",
     "output_type": "stream",
     "text": [
      "                   all        513        809      0.817      0.937      0.924        0.9      0.817      0.937      0.923      0.829\n"
     ]
    },
    {
     "name": "stderr",
     "output_type": "stream",
     "text": [
      "\n"
     ]
    },
    {
     "name": "stdout",
     "output_type": "stream",
     "text": [
      "\n",
      "      Epoch    GPU_mem   box_loss   seg_loss   cls_loss   dfl_loss  Instances       Size\n"
     ]
    },
    {
     "name": "stderr",
     "output_type": "stream",
     "text": [
      "     61/300      4.11G     0.4277      1.327     0.5356     0.9856         23        640: 100%|██████████| 1525/1525 [14:47<00:00,  1.72it/s]\n",
      "                 Class     Images  Instances      Box(P          R      mAP50  mAP50-95)     Mask(P          R      mAP50  mAP50-95): 100%|██████████| 33/33 [00:13<00:00,  2.48it/s]"
     ]
    },
    {
     "name": "stdout",
     "output_type": "stream",
     "text": [
      "                   all        513        809      0.811      0.931      0.921      0.894      0.811      0.931       0.92      0.824\n"
     ]
    },
    {
     "name": "stderr",
     "output_type": "stream",
     "text": [
      "\n"
     ]
    },
    {
     "name": "stdout",
     "output_type": "stream",
     "text": [
      "\n",
      "      Epoch    GPU_mem   box_loss   seg_loss   cls_loss   dfl_loss  Instances       Size\n"
     ]
    },
    {
     "name": "stderr",
     "output_type": "stream",
     "text": [
      "     62/300      4.12G      0.426      1.314     0.5298     0.9822         14        640: 100%|██████████| 1525/1525 [14:46<00:00,  1.72it/s]\n",
      "                 Class     Images  Instances      Box(P          R      mAP50  mAP50-95)     Mask(P          R      mAP50  mAP50-95): 100%|██████████| 33/33 [00:13<00:00,  2.47it/s]"
     ]
    },
    {
     "name": "stdout",
     "output_type": "stream",
     "text": [
      "                   all        513        809       0.82      0.889      0.927      0.898       0.82      0.889      0.926      0.824\n"
     ]
    },
    {
     "name": "stderr",
     "output_type": "stream",
     "text": [
      "\n"
     ]
    },
    {
     "name": "stdout",
     "output_type": "stream",
     "text": [
      "\n",
      "      Epoch    GPU_mem   box_loss   seg_loss   cls_loss   dfl_loss  Instances       Size\n"
     ]
    },
    {
     "name": "stderr",
     "output_type": "stream",
     "text": [
      "     63/300       4.1G     0.4268      1.319     0.5329     0.9836         16        640: 100%|██████████| 1525/1525 [14:46<00:00,  1.72it/s]\n",
      "                 Class     Images  Instances      Box(P          R      mAP50  mAP50-95)     Mask(P          R      mAP50  mAP50-95): 100%|██████████| 33/33 [00:13<00:00,  2.47it/s]"
     ]
    },
    {
     "name": "stdout",
     "output_type": "stream",
     "text": [
      "                   all        513        809      0.804      0.942      0.926      0.893      0.804      0.942      0.926      0.814\n"
     ]
    },
    {
     "name": "stderr",
     "output_type": "stream",
     "text": [
      "\n"
     ]
    },
    {
     "name": "stdout",
     "output_type": "stream",
     "text": [
      "\n",
      "      Epoch    GPU_mem   box_loss   seg_loss   cls_loss   dfl_loss  Instances       Size\n"
     ]
    },
    {
     "name": "stderr",
     "output_type": "stream",
     "text": [
      "     64/300      4.14G     0.4285      1.312     0.5342     0.9829         18        640: 100%|██████████| 1525/1525 [14:46<00:00,  1.72it/s]\n",
      "                 Class     Images  Instances      Box(P          R      mAP50  mAP50-95)     Mask(P          R      mAP50  mAP50-95): 100%|██████████| 33/33 [00:13<00:00,  2.46it/s]"
     ]
    },
    {
     "name": "stdout",
     "output_type": "stream",
     "text": [
      "                   all        513        809      0.784      0.955      0.929      0.898      0.784      0.954      0.928      0.823\n"
     ]
    },
    {
     "name": "stderr",
     "output_type": "stream",
     "text": [
      "\n"
     ]
    },
    {
     "name": "stdout",
     "output_type": "stream",
     "text": [
      "\n",
      "      Epoch    GPU_mem   box_loss   seg_loss   cls_loss   dfl_loss  Instances       Size\n"
     ]
    },
    {
     "name": "stderr",
     "output_type": "stream",
     "text": [
      "     65/300      4.14G     0.4245      1.304     0.5268     0.9804         19        640:  92%|█████████▏| 1402/1525 [13:36<01:10,  1.74it/s]c:\\Users\\bcw60\\anaconda3\\envs\\yolo8die\\lib\\site-packages\\ultralytics\\engine\\trainer.py:486: FutureWarning: Non-finite norm encountered in torch.nn.utils.clip_grad_norm_; continuing anyway. Note that the default behavior will change in a future release to error out if a non-finite total norm is encountered. At that point, setting error_if_nonfinite=false will be required to retain the old behavior.\n",
      "  torch.nn.utils.clip_grad_norm_(self.model.parameters(), max_norm=10.0)  # clip gradients\n",
      "     65/300      4.14G     0.4245      1.304     0.5282     0.9803         23        640: 100%|██████████| 1525/1525 [14:47<00:00,  1.72it/s]\n",
      "                 Class     Images  Instances      Box(P          R      mAP50  mAP50-95)     Mask(P          R      mAP50  mAP50-95): 100%|██████████| 33/33 [00:13<00:00,  2.46it/s]"
     ]
    },
    {
     "name": "stdout",
     "output_type": "stream",
     "text": [
      "                   all        513        809      0.806      0.941      0.927      0.894      0.806      0.941      0.927      0.821\n"
     ]
    },
    {
     "name": "stderr",
     "output_type": "stream",
     "text": [
      "\n"
     ]
    },
    {
     "name": "stdout",
     "output_type": "stream",
     "text": [
      "\n",
      "      Epoch    GPU_mem   box_loss   seg_loss   cls_loss   dfl_loss  Instances       Size\n"
     ]
    },
    {
     "name": "stderr",
     "output_type": "stream",
     "text": [
      "     66/300      4.11G     0.4268      1.313     0.5225     0.9812         17        640: 100%|██████████| 1525/1525 [14:47<00:00,  1.72it/s]\n",
      "                 Class     Images  Instances      Box(P          R      mAP50  mAP50-95)     Mask(P          R      mAP50  mAP50-95): 100%|██████████| 33/33 [00:13<00:00,  2.44it/s]"
     ]
    },
    {
     "name": "stdout",
     "output_type": "stream",
     "text": [
      "                   all        513        809      0.838      0.914      0.931      0.895      0.838      0.914      0.931      0.826\n"
     ]
    },
    {
     "name": "stderr",
     "output_type": "stream",
     "text": [
      "\n"
     ]
    },
    {
     "name": "stdout",
     "output_type": "stream",
     "text": [
      "\n",
      "      Epoch    GPU_mem   box_loss   seg_loss   cls_loss   dfl_loss  Instances       Size\n"
     ]
    },
    {
     "name": "stderr",
     "output_type": "stream",
     "text": [
      "     67/300      4.11G     0.4215      1.299     0.5211     0.9767         11        640: 100%|██████████| 1525/1525 [14:47<00:00,  1.72it/s]\n",
      "                 Class     Images  Instances      Box(P          R      mAP50  mAP50-95)     Mask(P          R      mAP50  mAP50-95): 100%|██████████| 33/33 [00:13<00:00,  2.48it/s]"
     ]
    },
    {
     "name": "stdout",
     "output_type": "stream",
     "text": [
      "                   all        513        809       0.82      0.923      0.927      0.891       0.82      0.923      0.927      0.823\n"
     ]
    },
    {
     "name": "stderr",
     "output_type": "stream",
     "text": [
      "\n"
     ]
    },
    {
     "name": "stdout",
     "output_type": "stream",
     "text": [
      "\n",
      "      Epoch    GPU_mem   box_loss   seg_loss   cls_loss   dfl_loss  Instances       Size\n"
     ]
    },
    {
     "name": "stderr",
     "output_type": "stream",
     "text": [
      "     68/300      4.06G     0.4207      1.293     0.5202     0.9821         25        640: 100%|██████████| 1525/1525 [14:46<00:00,  1.72it/s]\n",
      "                 Class     Images  Instances      Box(P          R      mAP50  mAP50-95)     Mask(P          R      mAP50  mAP50-95): 100%|██████████| 33/33 [00:13<00:00,  2.46it/s]"
     ]
    },
    {
     "name": "stdout",
     "output_type": "stream",
     "text": [
      "                   all        513        809       0.82      0.924      0.926      0.893       0.82      0.924      0.925      0.818\n"
     ]
    },
    {
     "name": "stderr",
     "output_type": "stream",
     "text": [
      "\n"
     ]
    },
    {
     "name": "stdout",
     "output_type": "stream",
     "text": [
      "\n",
      "      Epoch    GPU_mem   box_loss   seg_loss   cls_loss   dfl_loss  Instances       Size\n"
     ]
    },
    {
     "name": "stderr",
     "output_type": "stream",
     "text": [
      "     69/300      4.09G     0.4225      1.302      0.517     0.9797         15        640: 100%|██████████| 1525/1525 [14:47<00:00,  1.72it/s]\n",
      "                 Class     Images  Instances      Box(P          R      mAP50  mAP50-95)     Mask(P          R      mAP50  mAP50-95): 100%|██████████| 33/33 [00:13<00:00,  2.47it/s]"
     ]
    },
    {
     "name": "stdout",
     "output_type": "stream",
     "text": [
      "                   all        513        809      0.813      0.925      0.925      0.893      0.813      0.925      0.924      0.821\n"
     ]
    },
    {
     "name": "stderr",
     "output_type": "stream",
     "text": [
      "\n"
     ]
    },
    {
     "name": "stdout",
     "output_type": "stream",
     "text": [
      "\n",
      "      Epoch    GPU_mem   box_loss   seg_loss   cls_loss   dfl_loss  Instances       Size\n"
     ]
    },
    {
     "name": "stderr",
     "output_type": "stream",
     "text": [
      "     70/300      4.07G     0.4191      1.275     0.5171     0.9757         18        640: 100%|██████████| 1525/1525 [15:26<00:00,  1.65it/s]\n",
      "                 Class     Images  Instances      Box(P          R      mAP50  mAP50-95)     Mask(P          R      mAP50  mAP50-95): 100%|██████████| 33/33 [00:16<00:00,  2.01it/s]"
     ]
    },
    {
     "name": "stdout",
     "output_type": "stream",
     "text": [
      "                   all        513        809      0.815      0.925      0.926      0.894      0.815      0.925      0.926      0.822\n"
     ]
    },
    {
     "name": "stderr",
     "output_type": "stream",
     "text": [
      "\n"
     ]
    },
    {
     "name": "stdout",
     "output_type": "stream",
     "text": [
      "\n",
      "      Epoch    GPU_mem   box_loss   seg_loss   cls_loss   dfl_loss  Instances       Size\n"
     ]
    },
    {
     "name": "stderr",
     "output_type": "stream",
     "text": [
      "     71/300      4.15G      0.415       1.28     0.5173      0.982          9        640: 100%|██████████| 1525/1525 [13:07<00:00,  1.94it/s]\n",
      "                 Class     Images  Instances      Box(P          R      mAP50  mAP50-95)     Mask(P          R      mAP50  mAP50-95): 100%|██████████| 33/33 [00:11<00:00,  2.92it/s]"
     ]
    },
    {
     "name": "stdout",
     "output_type": "stream",
     "text": [
      "                   all        513        809      0.812      0.928      0.922       0.89      0.812      0.928      0.922      0.821\n"
     ]
    },
    {
     "name": "stderr",
     "output_type": "stream",
     "text": [
      "\n"
     ]
    },
    {
     "name": "stdout",
     "output_type": "stream",
     "text": [
      "\n",
      "      Epoch    GPU_mem   box_loss   seg_loss   cls_loss   dfl_loss  Instances       Size\n"
     ]
    },
    {
     "name": "stderr",
     "output_type": "stream",
     "text": [
      "     72/300      4.11G     0.4115       1.26     0.4974     0.9719         29        640:  40%|███▉      | 607/1525 [04:39<06:59,  2.19it/s]c:\\Users\\bcw60\\anaconda3\\envs\\yolo8die\\lib\\site-packages\\ultralytics\\engine\\trainer.py:486: FutureWarning: Non-finite norm encountered in torch.nn.utils.clip_grad_norm_; continuing anyway. Note that the default behavior will change in a future release to error out if a non-finite total norm is encountered. At that point, setting error_if_nonfinite=false will be required to retain the old behavior.\n",
      "  torch.nn.utils.clip_grad_norm_(self.model.parameters(), max_norm=10.0)  # clip gradients\n",
      "     72/300      4.12G     0.4153      1.269     0.5084     0.9746         22        640: 100%|██████████| 1525/1525 [11:43<00:00,  2.17it/s]\n",
      "                 Class     Images  Instances      Box(P          R      mAP50  mAP50-95)     Mask(P          R      mAP50  mAP50-95): 100%|██████████| 33/33 [00:11<00:00,  2.88it/s]"
     ]
    },
    {
     "name": "stdout",
     "output_type": "stream",
     "text": [
      "                   all        513        809       0.81      0.932      0.922      0.887       0.81      0.932      0.922      0.818\n"
     ]
    },
    {
     "name": "stderr",
     "output_type": "stream",
     "text": [
      "\n"
     ]
    },
    {
     "name": "stdout",
     "output_type": "stream",
     "text": [
      "\n",
      "      Epoch    GPU_mem   box_loss   seg_loss   cls_loss   dfl_loss  Instances       Size\n"
     ]
    },
    {
     "name": "stderr",
     "output_type": "stream",
     "text": [
      "     73/300       4.1G     0.4157       1.28     0.5121     0.9734         14        640: 100%|██████████| 1525/1525 [11:44<00:00,  2.16it/s]\n",
      "                 Class     Images  Instances      Box(P          R      mAP50  mAP50-95)     Mask(P          R      mAP50  mAP50-95): 100%|██████████| 33/33 [00:11<00:00,  2.92it/s]"
     ]
    },
    {
     "name": "stdout",
     "output_type": "stream",
     "text": [
      "                   all        513        809      0.808      0.935       0.92      0.889      0.808      0.935       0.92       0.82\n"
     ]
    },
    {
     "name": "stderr",
     "output_type": "stream",
     "text": [
      "\n"
     ]
    },
    {
     "name": "stdout",
     "output_type": "stream",
     "text": [
      "\n",
      "      Epoch    GPU_mem   box_loss   seg_loss   cls_loss   dfl_loss  Instances       Size\n"
     ]
    },
    {
     "name": "stderr",
     "output_type": "stream",
     "text": [
      "     74/300       4.1G     0.4139      1.274     0.5128     0.9735         15        640: 100%|██████████| 1525/1525 [11:45<00:00,  2.16it/s]\n",
      "                 Class     Images  Instances      Box(P          R      mAP50  mAP50-95)     Mask(P          R      mAP50  mAP50-95): 100%|██████████| 33/33 [00:11<00:00,  2.91it/s]"
     ]
    },
    {
     "name": "stdout",
     "output_type": "stream",
     "text": [
      "                   all        513        809      0.807      0.941      0.923      0.893      0.807      0.941      0.922      0.818\n"
     ]
    },
    {
     "name": "stderr",
     "output_type": "stream",
     "text": [
      "\n"
     ]
    },
    {
     "name": "stdout",
     "output_type": "stream",
     "text": [
      "\n",
      "      Epoch    GPU_mem   box_loss   seg_loss   cls_loss   dfl_loss  Instances       Size\n"
     ]
    },
    {
     "name": "stderr",
     "output_type": "stream",
     "text": [
      "     75/300       4.1G     0.4101      1.267      0.505     0.9716         21        640: 100%|██████████| 1525/1525 [11:58<00:00,  2.12it/s]\n",
      "                 Class     Images  Instances      Box(P          R      mAP50  mAP50-95)     Mask(P          R      mAP50  mAP50-95): 100%|██████████| 33/33 [00:14<00:00,  2.29it/s]"
     ]
    },
    {
     "name": "stdout",
     "output_type": "stream",
     "text": [
      "                   all        513        809      0.804      0.943      0.927      0.899      0.804      0.943      0.926      0.822\n"
     ]
    },
    {
     "name": "stderr",
     "output_type": "stream",
     "text": [
      "\n"
     ]
    },
    {
     "name": "stdout",
     "output_type": "stream",
     "text": [
      "\n",
      "      Epoch    GPU_mem   box_loss   seg_loss   cls_loss   dfl_loss  Instances       Size\n"
     ]
    },
    {
     "name": "stderr",
     "output_type": "stream",
     "text": [
      "     76/300      4.08G     0.4063       1.26     0.4983      0.969         20        640: 100%|██████████| 1525/1525 [12:40<00:00,  2.01it/s]\n",
      "                 Class     Images  Instances      Box(P          R      mAP50  mAP50-95)     Mask(P          R      mAP50  mAP50-95): 100%|██████████| 33/33 [00:11<00:00,  2.98it/s]"
     ]
    },
    {
     "name": "stdout",
     "output_type": "stream",
     "text": [
      "                   all        513        809      0.801      0.946      0.927        0.9      0.802      0.946      0.926      0.825\n"
     ]
    },
    {
     "name": "stderr",
     "output_type": "stream",
     "text": [
      "\n"
     ]
    },
    {
     "name": "stdout",
     "output_type": "stream",
     "text": [
      "\n",
      "      Epoch    GPU_mem   box_loss   seg_loss   cls_loss   dfl_loss  Instances       Size\n"
     ]
    },
    {
     "name": "stderr",
     "output_type": "stream",
     "text": [
      "     77/300      4.12G     0.4148       1.27     0.5106     0.9763         23        640: 100%|██████████| 1525/1525 [11:37<00:00,  2.19it/s]\n",
      "                 Class     Images  Instances      Box(P          R      mAP50  mAP50-95)     Mask(P          R      mAP50  mAP50-95): 100%|██████████| 33/33 [00:11<00:00,  2.95it/s]"
     ]
    },
    {
     "name": "stdout",
     "output_type": "stream",
     "text": [
      "                   all        513        809      0.804      0.941      0.925      0.897      0.805      0.941      0.924       0.82\n"
     ]
    },
    {
     "name": "stderr",
     "output_type": "stream",
     "text": [
      "\n"
     ]
    },
    {
     "name": "stdout",
     "output_type": "stream",
     "text": [
      "\n",
      "      Epoch    GPU_mem   box_loss   seg_loss   cls_loss   dfl_loss  Instances       Size\n"
     ]
    },
    {
     "name": "stderr",
     "output_type": "stream",
     "text": [
      "     78/300      4.08G      0.411      1.252     0.5055     0.9724         16        640: 100%|██████████| 1525/1525 [11:39<00:00,  2.18it/s]\n",
      "                 Class     Images  Instances      Box(P          R      mAP50  mAP50-95)     Mask(P          R      mAP50  mAP50-95): 100%|██████████| 33/33 [00:11<00:00,  2.93it/s]"
     ]
    },
    {
     "name": "stdout",
     "output_type": "stream",
     "text": [
      "                   all        513        809      0.802      0.941      0.927      0.898      0.802       0.94      0.926      0.822\n"
     ]
    },
    {
     "name": "stderr",
     "output_type": "stream",
     "text": [
      "\n"
     ]
    },
    {
     "name": "stdout",
     "output_type": "stream",
     "text": [
      "\n",
      "      Epoch    GPU_mem   box_loss   seg_loss   cls_loss   dfl_loss  Instances       Size\n"
     ]
    },
    {
     "name": "stderr",
     "output_type": "stream",
     "text": [
      "     79/300      4.09G     0.4123      1.269     0.5014     0.9731         22        640: 100%|██████████| 1525/1525 [11:41<00:00,  2.17it/s]\n",
      "                 Class     Images  Instances      Box(P          R      mAP50  mAP50-95)     Mask(P          R      mAP50  mAP50-95): 100%|██████████| 33/33 [00:11<00:00,  2.93it/s]"
     ]
    },
    {
     "name": "stdout",
     "output_type": "stream",
     "text": [
      "                   all        513        809      0.799      0.948      0.927      0.899      0.798      0.946      0.926      0.822\n"
     ]
    },
    {
     "name": "stderr",
     "output_type": "stream",
     "text": [
      "\n"
     ]
    },
    {
     "name": "stdout",
     "output_type": "stream",
     "text": [
      "\n",
      "      Epoch    GPU_mem   box_loss   seg_loss   cls_loss   dfl_loss  Instances       Size\n"
     ]
    },
    {
     "name": "stderr",
     "output_type": "stream",
     "text": [
      "     80/300      4.09G     0.4092      1.241     0.5002     0.9702         17        640: 100%|██████████| 1525/1525 [11:40<00:00,  2.18it/s]\n",
      "                 Class     Images  Instances      Box(P          R      mAP50  mAP50-95)     Mask(P          R      mAP50  mAP50-95): 100%|██████████| 33/33 [00:11<00:00,  2.92it/s]"
     ]
    },
    {
     "name": "stdout",
     "output_type": "stream",
     "text": [
      "                   all        513        809      0.796      0.948      0.928      0.891      0.795      0.946      0.927      0.813\n"
     ]
    },
    {
     "name": "stderr",
     "output_type": "stream",
     "text": [
      "\n"
     ]
    },
    {
     "name": "stdout",
     "output_type": "stream",
     "text": [
      "\n",
      "      Epoch    GPU_mem   box_loss   seg_loss   cls_loss   dfl_loss  Instances       Size\n"
     ]
    },
    {
     "name": "stderr",
     "output_type": "stream",
     "text": [
      "     81/300       4.1G     0.4085       1.26     0.4989     0.9684         10        640: 100%|██████████| 1525/1525 [11:41<00:00,  2.17it/s]\n",
      "                 Class     Images  Instances      Box(P          R      mAP50  mAP50-95)     Mask(P          R      mAP50  mAP50-95): 100%|██████████| 33/33 [00:11<00:00,  2.93it/s]"
     ]
    },
    {
     "name": "stdout",
     "output_type": "stream",
     "text": [
      "                   all        513        809      0.797       0.95      0.927      0.892      0.797      0.949      0.926      0.813\n"
     ]
    },
    {
     "name": "stderr",
     "output_type": "stream",
     "text": [
      "\n"
     ]
    },
    {
     "name": "stdout",
     "output_type": "stream",
     "text": [
      "\n",
      "      Epoch    GPU_mem   box_loss   seg_loss   cls_loss   dfl_loss  Instances       Size\n"
     ]
    },
    {
     "name": "stderr",
     "output_type": "stream",
     "text": [
      "     82/300      4.09G      0.408      1.265     0.4987     0.9722         22        640: 100%|██████████| 1525/1525 [11:42<00:00,  2.17it/s]\n",
      "                 Class     Images  Instances      Box(P          R      mAP50  mAP50-95)     Mask(P          R      mAP50  mAP50-95): 100%|██████████| 33/33 [00:11<00:00,  2.93it/s]"
     ]
    },
    {
     "name": "stdout",
     "output_type": "stream",
     "text": [
      "                   all        513        809      0.801      0.948      0.926      0.891      0.801      0.947      0.925      0.812\n"
     ]
    },
    {
     "name": "stderr",
     "output_type": "stream",
     "text": [
      "\n"
     ]
    },
    {
     "name": "stdout",
     "output_type": "stream",
     "text": [
      "\n",
      "      Epoch    GPU_mem   box_loss   seg_loss   cls_loss   dfl_loss  Instances       Size\n"
     ]
    },
    {
     "name": "stderr",
     "output_type": "stream",
     "text": [
      "     83/300      4.09G     0.4092      1.252      0.498     0.9729         25        640: 100%|██████████| 1525/1525 [11:42<00:00,  2.17it/s]\n",
      "                 Class     Images  Instances      Box(P          R      mAP50  mAP50-95)     Mask(P          R      mAP50  mAP50-95): 100%|██████████| 33/33 [00:11<00:00,  2.93it/s]"
     ]
    },
    {
     "name": "stdout",
     "output_type": "stream",
     "text": [
      "                   all        513        809      0.804      0.947      0.926      0.883      0.803      0.945      0.925      0.808\n"
     ]
    },
    {
     "name": "stderr",
     "output_type": "stream",
     "text": [
      "\n"
     ]
    },
    {
     "name": "stdout",
     "output_type": "stream",
     "text": [
      "\n",
      "      Epoch    GPU_mem   box_loss   seg_loss   cls_loss   dfl_loss  Instances       Size\n"
     ]
    },
    {
     "name": "stderr",
     "output_type": "stream",
     "text": [
      "     84/300      4.14G     0.4066      1.249     0.4966     0.9681         16        640: 100%|██████████| 1525/1525 [11:42<00:00,  2.17it/s]\n",
      "                 Class     Images  Instances      Box(P          R      mAP50  mAP50-95)     Mask(P          R      mAP50  mAP50-95): 100%|██████████| 33/33 [00:11<00:00,  2.93it/s]"
     ]
    },
    {
     "name": "stdout",
     "output_type": "stream",
     "text": [
      "                   all        513        809      0.803      0.944      0.925      0.893      0.802      0.942      0.924      0.813\n"
     ]
    },
    {
     "name": "stderr",
     "output_type": "stream",
     "text": [
      "\n"
     ]
    },
    {
     "name": "stdout",
     "output_type": "stream",
     "text": [
      "\n",
      "      Epoch    GPU_mem   box_loss   seg_loss   cls_loss   dfl_loss  Instances       Size\n"
     ]
    },
    {
     "name": "stderr",
     "output_type": "stream",
     "text": [
      "     85/300      4.09G     0.4095      1.243     0.4932     0.9682         23        640: 100%|██████████| 1525/1525 [11:42<00:00,  2.17it/s]\n",
      "                 Class     Images  Instances      Box(P          R      mAP50  mAP50-95)     Mask(P          R      mAP50  mAP50-95): 100%|██████████| 33/33 [00:11<00:00,  2.94it/s]"
     ]
    },
    {
     "name": "stdout",
     "output_type": "stream",
     "text": [
      "                   all        513        809      0.767      0.961      0.926      0.894      0.766       0.96      0.925      0.814\n"
     ]
    },
    {
     "name": "stderr",
     "output_type": "stream",
     "text": [
      "\n"
     ]
    },
    {
     "name": "stdout",
     "output_type": "stream",
     "text": [
      "\n",
      "      Epoch    GPU_mem   box_loss   seg_loss   cls_loss   dfl_loss  Instances       Size\n"
     ]
    },
    {
     "name": "stderr",
     "output_type": "stream",
     "text": [
      "     86/300      4.11G      0.406      1.241     0.4926     0.9679         20        640: 100%|██████████| 1525/1525 [11:42<00:00,  2.17it/s]\n",
      "                 Class     Images  Instances      Box(P          R      mAP50  mAP50-95)     Mask(P          R      mAP50  mAP50-95): 100%|██████████| 33/33 [00:11<00:00,  2.91it/s]"
     ]
    },
    {
     "name": "stdout",
     "output_type": "stream",
     "text": [
      "                   all        513        809      0.768      0.961      0.926      0.882      0.815      0.891      0.925      0.809\n"
     ]
    },
    {
     "name": "stderr",
     "output_type": "stream",
     "text": [
      "\n"
     ]
    },
    {
     "name": "stdout",
     "output_type": "stream",
     "text": [
      "\n",
      "      Epoch    GPU_mem   box_loss   seg_loss   cls_loss   dfl_loss  Instances       Size\n"
     ]
    },
    {
     "name": "stderr",
     "output_type": "stream",
     "text": [
      "     87/300      4.15G      0.405      1.232     0.4969     0.9711         24        640: 100%|██████████| 1525/1525 [11:41<00:00,  2.17it/s]\n",
      "                 Class     Images  Instances      Box(P          R      mAP50  mAP50-95)     Mask(P          R      mAP50  mAP50-95): 100%|██████████| 33/33 [00:11<00:00,  2.94it/s]"
     ]
    },
    {
     "name": "stdout",
     "output_type": "stream",
     "text": [
      "                   all        513        809      0.768       0.96      0.926      0.883      0.821      0.891      0.925       0.81\n"
     ]
    },
    {
     "name": "stderr",
     "output_type": "stream",
     "text": [
      "\n"
     ]
    },
    {
     "name": "stdout",
     "output_type": "stream",
     "text": [
      "\n",
      "      Epoch    GPU_mem   box_loss   seg_loss   cls_loss   dfl_loss  Instances       Size\n"
     ]
    },
    {
     "name": "stderr",
     "output_type": "stream",
     "text": [
      "     88/300      4.15G     0.4015      1.222     0.4863     0.9691         23        640: 100%|██████████| 1525/1525 [11:42<00:00,  2.17it/s]\n",
      "                 Class     Images  Instances      Box(P          R      mAP50  mAP50-95)     Mask(P          R      mAP50  mAP50-95): 100%|██████████| 33/33 [00:11<00:00,  2.95it/s]"
     ]
    },
    {
     "name": "stdout",
     "output_type": "stream",
     "text": [
      "                   all        513        809      0.764      0.962      0.925      0.884      0.765       0.96      0.924       0.81\n"
     ]
    },
    {
     "name": "stderr",
     "output_type": "stream",
     "text": [
      "\n"
     ]
    },
    {
     "name": "stdout",
     "output_type": "stream",
     "text": [
      "\n",
      "      Epoch    GPU_mem   box_loss   seg_loss   cls_loss   dfl_loss  Instances       Size\n"
     ]
    },
    {
     "name": "stderr",
     "output_type": "stream",
     "text": [
      "     89/300      4.08G     0.4004      1.223     0.4859     0.9672         15        640: 100%|██████████| 1525/1525 [11:42<00:00,  2.17it/s]\n",
      "                 Class     Images  Instances      Box(P          R      mAP50  mAP50-95)     Mask(P          R      mAP50  mAP50-95): 100%|██████████| 33/33 [00:11<00:00,  2.92it/s]"
     ]
    },
    {
     "name": "stdout",
     "output_type": "stream",
     "text": [
      "                   all        513        809      0.779      0.921      0.924      0.882      0.779      0.921      0.923      0.808\n"
     ]
    },
    {
     "name": "stderr",
     "output_type": "stream",
     "text": [
      "\n"
     ]
    },
    {
     "name": "stdout",
     "output_type": "stream",
     "text": [
      "\n",
      "      Epoch    GPU_mem   box_loss   seg_loss   cls_loss   dfl_loss  Instances       Size\n"
     ]
    },
    {
     "name": "stderr",
     "output_type": "stream",
     "text": [
      "     90/300      4.11G     0.4056       1.24     0.4887     0.9684         20        640: 100%|██████████| 1525/1525 [11:42<00:00,  2.17it/s]\n",
      "                 Class     Images  Instances      Box(P          R      mAP50  mAP50-95)     Mask(P          R      mAP50  mAP50-95): 100%|██████████| 33/33 [00:11<00:00,  2.92it/s]"
     ]
    },
    {
     "name": "stdout",
     "output_type": "stream",
     "text": [
      "                   all        513        809      0.781      0.919      0.924      0.882       0.78      0.918      0.922      0.808\n"
     ]
    },
    {
     "name": "stderr",
     "output_type": "stream",
     "text": [
      "\n"
     ]
    },
    {
     "name": "stdout",
     "output_type": "stream",
     "text": [
      "\n",
      "      Epoch    GPU_mem   box_loss   seg_loss   cls_loss   dfl_loss  Instances       Size\n"
     ]
    },
    {
     "name": "stderr",
     "output_type": "stream",
     "text": [
      "     91/300      4.07G     0.3995      1.229     0.4877     0.9676         19        640: 100%|██████████| 1525/1525 [11:43<00:00,  2.17it/s]\n",
      "                 Class     Images  Instances      Box(P          R      mAP50  mAP50-95)     Mask(P          R      mAP50  mAP50-95): 100%|██████████| 33/33 [00:11<00:00,  2.92it/s]"
     ]
    },
    {
     "name": "stdout",
     "output_type": "stream",
     "text": [
      "                   all        513        809       0.78      0.922      0.924       0.88      0.779      0.922      0.923      0.807\n"
     ]
    },
    {
     "name": "stderr",
     "output_type": "stream",
     "text": [
      "\n"
     ]
    },
    {
     "name": "stdout",
     "output_type": "stream",
     "text": [
      "\n",
      "      Epoch    GPU_mem   box_loss   seg_loss   cls_loss   dfl_loss  Instances       Size\n"
     ]
    },
    {
     "name": "stderr",
     "output_type": "stream",
     "text": [
      "     92/300      4.14G     0.4033      1.233     0.4907     0.9686         11        640: 100%|██████████| 1525/1525 [11:42<00:00,  2.17it/s]\n",
      "                 Class     Images  Instances      Box(P          R      mAP50  mAP50-95)     Mask(P          R      mAP50  mAP50-95): 100%|██████████| 33/33 [00:11<00:00,  2.91it/s]"
     ]
    },
    {
     "name": "stdout",
     "output_type": "stream",
     "text": [
      "                   all        513        809       0.79      0.916       0.92      0.877       0.79      0.915      0.919      0.806\n"
     ]
    },
    {
     "name": "stderr",
     "output_type": "stream",
     "text": [
      "\n"
     ]
    },
    {
     "name": "stdout",
     "output_type": "stream",
     "text": [
      "\n",
      "      Epoch    GPU_mem   box_loss   seg_loss   cls_loss   dfl_loss  Instances       Size\n"
     ]
    },
    {
     "name": "stderr",
     "output_type": "stream",
     "text": [
      "     93/300      4.11G     0.3994      1.219     0.4849     0.9648         19        640: 100%|██████████| 1525/1525 [11:43<00:00,  2.17it/s]\n",
      "                 Class     Images  Instances      Box(P          R      mAP50  mAP50-95)     Mask(P          R      mAP50  mAP50-95): 100%|██████████| 33/33 [00:11<00:00,  2.93it/s]"
     ]
    },
    {
     "name": "stdout",
     "output_type": "stream",
     "text": [
      "                   all        513        809      0.779       0.94      0.919      0.884      0.778      0.939      0.917      0.811\n"
     ]
    },
    {
     "name": "stderr",
     "output_type": "stream",
     "text": [
      "\n"
     ]
    },
    {
     "name": "stdout",
     "output_type": "stream",
     "text": [
      "\n",
      "      Epoch    GPU_mem   box_loss   seg_loss   cls_loss   dfl_loss  Instances       Size\n"
     ]
    },
    {
     "name": "stderr",
     "output_type": "stream",
     "text": [
      "     94/300      4.09G     0.3986      1.218     0.4825     0.9644         15        640: 100%|██████████| 1525/1525 [11:43<00:00,  2.17it/s]\n",
      "                 Class     Images  Instances      Box(P          R      mAP50  mAP50-95)     Mask(P          R      mAP50  mAP50-95): 100%|██████████| 33/33 [00:11<00:00,  2.90it/s]"
     ]
    },
    {
     "name": "stdout",
     "output_type": "stream",
     "text": [
      "                   all        513        809      0.777      0.956      0.919      0.886      0.776      0.955      0.918       0.81\n"
     ]
    },
    {
     "name": "stderr",
     "output_type": "stream",
     "text": [
      "\n"
     ]
    },
    {
     "name": "stdout",
     "output_type": "stream",
     "text": [
      "\n",
      "      Epoch    GPU_mem   box_loss   seg_loss   cls_loss   dfl_loss  Instances       Size\n"
     ]
    },
    {
     "name": "stderr",
     "output_type": "stream",
     "text": [
      "     95/300      4.09G     0.3969      1.209     0.4802     0.9624         21        640: 100%|██████████| 1525/1525 [11:42<00:00,  2.17it/s]\n",
      "                 Class     Images  Instances      Box(P          R      mAP50  mAP50-95)     Mask(P          R      mAP50  mAP50-95): 100%|██████████| 33/33 [00:11<00:00,  2.92it/s]"
     ]
    },
    {
     "name": "stdout",
     "output_type": "stream",
     "text": [
      "                   all        513        809      0.802      0.946       0.92      0.884      0.801      0.945      0.919      0.808\n"
     ]
    },
    {
     "name": "stderr",
     "output_type": "stream",
     "text": [
      "\n"
     ]
    },
    {
     "name": "stdout",
     "output_type": "stream",
     "text": [
      "\n",
      "      Epoch    GPU_mem   box_loss   seg_loss   cls_loss   dfl_loss  Instances       Size\n"
     ]
    },
    {
     "name": "stderr",
     "output_type": "stream",
     "text": [
      "     96/300      4.14G     0.3959      1.221     0.4824     0.9615         45        640:  53%|█████▎    | 807/1525 [06:11<05:32,  2.16it/s]c:\\Users\\bcw60\\anaconda3\\envs\\yolo8die\\lib\\site-packages\\ultralytics\\engine\\trainer.py:486: FutureWarning: Non-finite norm encountered in torch.nn.utils.clip_grad_norm_; continuing anyway. Note that the default behavior will change in a future release to error out if a non-finite total norm is encountered. At that point, setting error_if_nonfinite=false will be required to retain the old behavior.\n",
      "  torch.nn.utils.clip_grad_norm_(self.model.parameters(), max_norm=10.0)  # clip gradients\n",
      "     96/300      4.14G     0.3936      1.199     0.4781     0.9607         20        640: 100%|██████████| 1525/1525 [11:42<00:00,  2.17it/s]\n",
      "                 Class     Images  Instances      Box(P          R      mAP50  mAP50-95)     Mask(P          R      mAP50  mAP50-95): 100%|██████████| 33/33 [00:11<00:00,  2.92it/s]"
     ]
    },
    {
     "name": "stdout",
     "output_type": "stream",
     "text": [
      "                   all        513        809      0.776      0.957      0.918      0.883      0.777      0.956      0.917      0.804\n"
     ]
    },
    {
     "name": "stderr",
     "output_type": "stream",
     "text": [
      "\n"
     ]
    },
    {
     "name": "stdout",
     "output_type": "stream",
     "text": [
      "\n",
      "      Epoch    GPU_mem   box_loss   seg_loss   cls_loss   dfl_loss  Instances       Size\n"
     ]
    },
    {
     "name": "stderr",
     "output_type": "stream",
     "text": [
      "     97/300       4.1G     0.3925      1.189     0.4753     0.9615         20        640: 100%|██████████| 1525/1525 [11:42<00:00,  2.17it/s]\n",
      "                 Class     Images  Instances      Box(P          R      mAP50  mAP50-95)     Mask(P          R      mAP50  mAP50-95): 100%|██████████| 33/33 [00:11<00:00,  2.93it/s]"
     ]
    },
    {
     "name": "stdout",
     "output_type": "stream",
     "text": [
      "                   all        513        809      0.777      0.958      0.918      0.879      0.776      0.957      0.917      0.801\n"
     ]
    },
    {
     "name": "stderr",
     "output_type": "stream",
     "text": [
      "\n"
     ]
    },
    {
     "name": "stdout",
     "output_type": "stream",
     "text": [
      "\n",
      "      Epoch    GPU_mem   box_loss   seg_loss   cls_loss   dfl_loss  Instances       Size\n"
     ]
    },
    {
     "name": "stderr",
     "output_type": "stream",
     "text": [
      "     98/300      4.11G     0.3987      1.214     0.4833      0.967         21        640: 100%|██████████| 1525/1525 [11:27<00:00,  2.22it/s]\n",
      "                 Class     Images  Instances      Box(P          R      mAP50  mAP50-95)     Mask(P          R      mAP50  mAP50-95): 100%|██████████| 33/33 [00:11<00:00,  2.89it/s]"
     ]
    },
    {
     "name": "stdout",
     "output_type": "stream",
     "text": [
      "                   all        513        809      0.782      0.955      0.916      0.878      0.782      0.954      0.916      0.805\n"
     ]
    },
    {
     "name": "stderr",
     "output_type": "stream",
     "text": [
      "\n"
     ]
    },
    {
     "name": "stdout",
     "output_type": "stream",
     "text": [
      "\n",
      "      Epoch    GPU_mem   box_loss   seg_loss   cls_loss   dfl_loss  Instances       Size\n"
     ]
    },
    {
     "name": "stderr",
     "output_type": "stream",
     "text": [
      "     99/300      4.09G     0.3972      1.201     0.4789     0.9619         22        640: 100%|██████████| 1525/1525 [10:58<00:00,  2.32it/s]\n",
      "                 Class     Images  Instances      Box(P          R      mAP50  mAP50-95)     Mask(P          R      mAP50  mAP50-95): 100%|██████████| 33/33 [00:10<00:00,  3.12it/s]"
     ]
    },
    {
     "name": "stdout",
     "output_type": "stream",
     "text": [
      "                   all        513        809      0.777      0.926      0.917      0.878      0.777      0.925      0.916      0.803\n"
     ]
    },
    {
     "name": "stderr",
     "output_type": "stream",
     "text": [
      "\n"
     ]
    },
    {
     "name": "stdout",
     "output_type": "stream",
     "text": [
      "\n",
      "      Epoch    GPU_mem   box_loss   seg_loss   cls_loss   dfl_loss  Instances       Size\n"
     ]
    },
    {
     "name": "stderr",
     "output_type": "stream",
     "text": [
      "    100/300      4.12G     0.3937      1.202     0.4726     0.9616         16        640: 100%|██████████| 1525/1525 [11:42<00:00,  2.17it/s]\n",
      "                 Class     Images  Instances      Box(P          R      mAP50  mAP50-95)     Mask(P          R      mAP50  mAP50-95): 100%|██████████| 33/33 [00:11<00:00,  2.90it/s]"
     ]
    },
    {
     "name": "stdout",
     "output_type": "stream",
     "text": [
      "                   all        513        809       0.78       0.94      0.914      0.877      0.779       0.94      0.913      0.804\n"
     ]
    },
    {
     "name": "stderr",
     "output_type": "stream",
     "text": [
      "\n"
     ]
    },
    {
     "name": "stdout",
     "output_type": "stream",
     "text": [
      "\n",
      "      Epoch    GPU_mem   box_loss   seg_loss   cls_loss   dfl_loss  Instances       Size\n"
     ]
    },
    {
     "name": "stderr",
     "output_type": "stream",
     "text": [
      "    101/300      4.09G     0.3954      1.205     0.4746     0.9649         18        640: 100%|██████████| 1525/1525 [12:43<00:00,  2.00it/s]\n",
      "                 Class     Images  Instances      Box(P          R      mAP50  mAP50-95)     Mask(P          R      mAP50  mAP50-95): 100%|██████████| 33/33 [00:14<00:00,  2.32it/s]"
     ]
    },
    {
     "name": "stdout",
     "output_type": "stream",
     "text": [
      "                   all        513        809      0.781       0.95      0.914      0.878       0.78      0.949      0.913      0.807\n"
     ]
    },
    {
     "name": "stderr",
     "output_type": "stream",
     "text": [
      "\n"
     ]
    },
    {
     "name": "stdout",
     "output_type": "stream",
     "text": [
      "\n",
      "      Epoch    GPU_mem   box_loss   seg_loss   cls_loss   dfl_loss  Instances       Size\n"
     ]
    },
    {
     "name": "stderr",
     "output_type": "stream",
     "text": [
      "    102/300      4.09G     0.3929      1.188     0.4746     0.9628         18        640: 100%|██████████| 1525/1525 [11:52<00:00,  2.14it/s]\n",
      "                 Class     Images  Instances      Box(P          R      mAP50  mAP50-95)     Mask(P          R      mAP50  mAP50-95): 100%|██████████| 33/33 [00:11<00:00,  2.94it/s]"
     ]
    },
    {
     "name": "stdout",
     "output_type": "stream",
     "text": [
      "                   all        513        809      0.781      0.955      0.916       0.88       0.78      0.955      0.916      0.809\n"
     ]
    },
    {
     "name": "stderr",
     "output_type": "stream",
     "text": [
      "\n"
     ]
    },
    {
     "name": "stdout",
     "output_type": "stream",
     "text": [
      "\n",
      "      Epoch    GPU_mem   box_loss   seg_loss   cls_loss   dfl_loss  Instances       Size\n"
     ]
    },
    {
     "name": "stderr",
     "output_type": "stream",
     "text": [
      "    103/300      4.11G     0.3936      1.203     0.4716     0.9598         16        640: 100%|██████████| 1525/1525 [11:41<00:00,  2.17it/s]\n",
      "                 Class     Images  Instances      Box(P          R      mAP50  mAP50-95)     Mask(P          R      mAP50  mAP50-95): 100%|██████████| 33/33 [00:11<00:00,  2.93it/s]"
     ]
    },
    {
     "name": "stdout",
     "output_type": "stream",
     "text": [
      "                   all        513        809       0.78      0.955      0.919      0.883       0.78      0.954      0.918       0.81\n"
     ]
    },
    {
     "name": "stderr",
     "output_type": "stream",
     "text": [
      "\n"
     ]
    },
    {
     "name": "stdout",
     "output_type": "stream",
     "text": [
      "\n",
      "      Epoch    GPU_mem   box_loss   seg_loss   cls_loss   dfl_loss  Instances       Size\n"
     ]
    },
    {
     "name": "stderr",
     "output_type": "stream",
     "text": [
      "    104/300      4.11G     0.3946      1.191     0.4775     0.9638         19        640: 100%|██████████| 1525/1525 [11:43<00:00,  2.17it/s]\n",
      "                 Class     Images  Instances      Box(P          R      mAP50  mAP50-95)     Mask(P          R      mAP50  mAP50-95): 100%|██████████| 33/33 [00:11<00:00,  2.94it/s]"
     ]
    },
    {
     "name": "stdout",
     "output_type": "stream",
     "text": [
      "                   all        513        809       0.78      0.955      0.915      0.882      0.779      0.955      0.915      0.807\n"
     ]
    },
    {
     "name": "stderr",
     "output_type": "stream",
     "text": [
      "\n"
     ]
    },
    {
     "name": "stdout",
     "output_type": "stream",
     "text": [
      "\n",
      "      Epoch    GPU_mem   box_loss   seg_loss   cls_loss   dfl_loss  Instances       Size\n"
     ]
    },
    {
     "name": "stderr",
     "output_type": "stream",
     "text": [
      "    105/300      4.12G     0.3881      1.175     0.4645     0.9594         21        640: 100%|██████████| 1525/1525 [11:43<00:00,  2.17it/s]\n",
      "                 Class     Images  Instances      Box(P          R      mAP50  mAP50-95)     Mask(P          R      mAP50  mAP50-95): 100%|██████████| 33/33 [00:11<00:00,  2.92it/s]"
     ]
    },
    {
     "name": "stdout",
     "output_type": "stream",
     "text": [
      "                   all        513        809      0.779      0.956      0.921      0.895      0.778      0.955      0.921      0.828\n"
     ]
    },
    {
     "name": "stderr",
     "output_type": "stream",
     "text": [
      "\n"
     ]
    },
    {
     "name": "stdout",
     "output_type": "stream",
     "text": [
      "\n",
      "      Epoch    GPU_mem   box_loss   seg_loss   cls_loss   dfl_loss  Instances       Size\n"
     ]
    },
    {
     "name": "stderr",
     "output_type": "stream",
     "text": [
      "    106/300      4.09G     0.3891      1.187      0.471     0.9609         13        640: 100%|██████████| 1525/1525 [11:43<00:00,  2.17it/s]\n",
      "                 Class     Images  Instances      Box(P          R      mAP50  mAP50-95)     Mask(P          R      mAP50  mAP50-95): 100%|██████████| 33/33 [00:11<00:00,  2.93it/s]"
     ]
    },
    {
     "name": "stdout",
     "output_type": "stream",
     "text": [
      "                   all        513        809      0.782      0.956      0.921      0.897      0.781      0.955       0.92      0.826\n"
     ]
    },
    {
     "name": "stderr",
     "output_type": "stream",
     "text": [
      "\n"
     ]
    },
    {
     "name": "stdout",
     "output_type": "stream",
     "text": [
      "\n",
      "      Epoch    GPU_mem   box_loss   seg_loss   cls_loss   dfl_loss  Instances       Size\n"
     ]
    },
    {
     "name": "stderr",
     "output_type": "stream",
     "text": [
      "    107/300      4.09G     0.3898      1.194       0.47     0.9585         25        640: 100%|██████████| 1525/1525 [11:43<00:00,  2.17it/s]\n",
      "                 Class     Images  Instances      Box(P          R      mAP50  mAP50-95)     Mask(P          R      mAP50  mAP50-95): 100%|██████████| 33/33 [00:11<00:00,  2.92it/s]"
     ]
    },
    {
     "name": "stdout",
     "output_type": "stream",
     "text": [
      "                   all        513        809      0.782      0.955      0.921      0.897      0.782      0.954       0.92      0.827\n",
      "Stopping training early as no improvement observed in last 50 epochs. Best results observed at epoch 57, best model saved as best.pt.\n",
      "To update EarlyStopping(patience=50) pass a new patience value, i.e. `patience=300` or use `patience=0` to disable EarlyStopping.\n"
     ]
    },
    {
     "name": "stderr",
     "output_type": "stream",
     "text": [
      "\n"
     ]
    },
    {
     "name": "stdout",
     "output_type": "stream",
     "text": [
      "\n",
      "107 epochs completed in 24.327 hours.\n",
      "Optimizer stripped from runs\\segment\\train8\\weights\\last.pt, 54.8MB\n",
      "Optimizer stripped from runs\\segment\\train8\\weights\\best.pt, 54.8MB\n",
      "\n",
      "Validating runs\\segment\\train8\\weights\\best.pt...\n",
      "Ultralytics YOLOv8.0.228 🚀 Python-3.8.18 torch-1.9.1 CUDA:0 (NVIDIA GeForce RTX 2060 SUPER, 8192MiB)\n",
      "YOLOv8m-seg summary (fused): 245 layers, 27223542 parameters, 0 gradients, 110.0 GFLOPs\n"
     ]
    },
    {
     "name": "stderr",
     "output_type": "stream",
     "text": [
      "                 Class     Images  Instances      Box(P          R      mAP50  mAP50-95)     Mask(P          R      mAP50  mAP50-95): 100%|██████████| 33/33 [00:12<00:00,  2.67it/s]\n",
      "findfont: Font family ['sans-serif'] not found. Falling back to DejaVu Sans.\n",
      "findfont: Generic family 'sans-serif' not found because none of the following families were found: DejaVu Sans, Bitstream Vera Sans, Computer Modern Sans Serif, Lucida Grande, Verdana, Geneva, Lucid, Arial, Helvetica, Avant Garde, sans-serif\n",
      "findfont: Generic family 'sans-serif' not found because none of the following families were found: DejaVu Sans, Bitstream Vera Sans, Computer Modern Sans Serif, Lucida Grande, Verdana, Geneva, Lucid, Arial, Helvetica, Avant Garde, sans-serif\n",
      "findfont: Font family ['DejaVu Sans'] not found. Falling back to DejaVu Sans.\n",
      "findfont: Generic family 'sans-serif' not found because none of the following families were found: DejaVu Sans, Bitstream Vera Sans, Computer Modern Sans Serif, Lucida Grande, Verdana, Geneva, Lucid, Arial, Helvetica, Avant Garde, sans-serif\n",
      "findfont: Font family ['DejaVu Sans'] not found. Falling back to DejaVu Sans.\n"
     ]
    },
    {
     "name": "stdout",
     "output_type": "stream",
     "text": [
      "Unexpected exception formatting exception. Falling back to standard exception\n"
     ]
    },
    {
     "name": "stderr",
     "output_type": "stream",
     "text": [
      "Traceback (most recent call last):\n",
      "  File \"c:\\Users\\bcw60\\anaconda3\\envs\\yolo8die\\lib\\site-packages\\IPython\\core\\interactiveshell.py\", line 3508, in run_code\n",
      "  File \"C:\\Users\\bcw60\\AppData\\Local\\Temp\\ipykernel_10692\\599287584.py\", line 4, in <module>\n",
      "    model.train(cfg = 'C:/Users/bcw60/OneDrive/Desktop/mydrive/die/default.yaml',data = \"C:/Users/bcw60/Downloads/custon_with_wheelchair_seg.v10i.yolov8/data.yaml\")\n",
      "  File \"c:\\Users\\bcw60\\anaconda3\\envs\\yolo8die\\lib\\site-packages\\ultralytics\\engine\\model.py\", line 338, in train\n",
      "  File \"c:\\Users\\bcw60\\anaconda3\\envs\\yolo8die\\lib\\site-packages\\ultralytics\\engine\\trainer.py\", line 190, in train\n",
      "  File \"c:\\Users\\bcw60\\anaconda3\\envs\\yolo8die\\lib\\site-packages\\ultralytics\\engine\\trainer.py\", line 427, in _do_train\n",
      "  File \"c:\\Users\\bcw60\\anaconda3\\envs\\yolo8die\\lib\\site-packages\\ultralytics\\engine\\trainer.py\", line 576, in final_eval\n",
      "  File \"c:\\Users\\bcw60\\anaconda3\\envs\\yolo8die\\lib\\site-packages\\torch\\autograd\\grad_mode.py\", line 28, in decorate_context\n",
      "  File \"c:\\Users\\bcw60\\anaconda3\\envs\\yolo8die\\lib\\site-packages\\ultralytics\\engine\\validator.py\", line 186, in __call__\n",
      "  File \"c:\\Users\\bcw60\\anaconda3\\envs\\yolo8die\\lib\\site-packages\\ultralytics\\models\\yolo\\detect\\val.py\", line 144, in get_stats\n",
      "  File \"c:\\Users\\bcw60\\anaconda3\\envs\\yolo8die\\lib\\site-packages\\ultralytics\\utils\\metrics.py\", line 829, in process\n",
      "  File \"c:\\Users\\bcw60\\anaconda3\\envs\\yolo8die\\lib\\site-packages\\ultralytics\\utils\\metrics.py\", line 508, in ap_per_class\n",
      "  File \"c:\\Users\\bcw60\\anaconda3\\envs\\yolo8die\\lib\\site-packages\\ultralytics\\utils\\__init__.py\", line 215, in wrapper\n",
      "  File \"c:\\Users\\bcw60\\anaconda3\\envs\\yolo8die\\lib\\site-packages\\ultralytics\\utils\\metrics.py\", line 358, in plot_pr_curve\n",
      "  File \"c:\\Users\\bcw60\\anaconda3\\envs\\yolo8die\\lib\\site-packages\\matplotlib\\figure.py\", line 3378, in savefig\n",
      "  File \"c:\\Users\\bcw60\\anaconda3\\envs\\yolo8die\\lib\\site-packages\\matplotlib\\backend_bases.py\", line 2342, in print_figure\n",
      "  File \"c:\\Users\\bcw60\\anaconda3\\envs\\yolo8die\\lib\\site-packages\\matplotlib\\artist.py\", line 95, in draw_wrapper\n",
      "  File \"c:\\Users\\bcw60\\anaconda3\\envs\\yolo8die\\lib\\site-packages\\matplotlib\\artist.py\", line 72, in draw_wrapper\n",
      "  File \"c:\\Users\\bcw60\\anaconda3\\envs\\yolo8die\\lib\\site-packages\\matplotlib\\figure.py\", line 3175, in draw\n",
      "  File \"c:\\Users\\bcw60\\anaconda3\\envs\\yolo8die\\lib\\site-packages\\matplotlib\\image.py\", line 131, in _draw_list_compositing_images\n",
      "  File \"c:\\Users\\bcw60\\anaconda3\\envs\\yolo8die\\lib\\site-packages\\matplotlib\\artist.py\", line 72, in draw_wrapper\n",
      "  File \"c:\\Users\\bcw60\\anaconda3\\envs\\yolo8die\\lib\\site-packages\\matplotlib\\axes\\_base.py\", line 3028, in draw\n",
      "  File \"c:\\Users\\bcw60\\anaconda3\\envs\\yolo8die\\lib\\site-packages\\matplotlib\\axes\\_base.py\", line 2972, in _update_title_position\n",
      "  File \"c:\\Users\\bcw60\\anaconda3\\envs\\yolo8die\\lib\\site-packages\\matplotlib\\axis.py\", line 1337, in get_tightbbox\n",
      "  File \"c:\\Users\\bcw60\\anaconda3\\envs\\yolo8die\\lib\\site-packages\\matplotlib\\axis.py\", line 2614, in _update_label_position\n",
      "  File \"c:\\Users\\bcw60\\anaconda3\\envs\\yolo8die\\lib\\site-packages\\matplotlib\\axis.py\", line 2149, in _get_tick_boxes_siblings\n",
      "  File \"c:\\Users\\bcw60\\anaconda3\\envs\\yolo8die\\lib\\site-packages\\matplotlib\\axis.py\", line 1316, in _get_ticklabel_bboxes\n",
      "  File \"c:\\Users\\bcw60\\anaconda3\\envs\\yolo8die\\lib\\site-packages\\matplotlib\\axis.py\", line 1316, in <listcomp>\n",
      "  File \"c:\\Users\\bcw60\\anaconda3\\envs\\yolo8die\\lib\\site-packages\\matplotlib\\text.py\", line 959, in get_window_extent\n",
      "  File \"c:\\Users\\bcw60\\anaconda3\\envs\\yolo8die\\lib\\site-packages\\matplotlib\\text.py\", line 378, in _get_layout\n",
      "  File \"c:\\Users\\bcw60\\anaconda3\\envs\\yolo8die\\lib\\site-packages\\matplotlib\\text.py\", line 97, in _get_text_metrics_with_cache\n",
      "  File \"c:\\Users\\bcw60\\anaconda3\\envs\\yolo8die\\lib\\site-packages\\matplotlib\\text.py\", line 105, in _get_text_metrics_with_cache_impl\n",
      "  File \"c:\\Users\\bcw60\\anaconda3\\envs\\yolo8die\\lib\\site-packages\\matplotlib\\backends\\backend_agg.py\", line 233, in get_text_width_height_descent\n",
      "  File \"c:\\Users\\bcw60\\anaconda3\\envs\\yolo8die\\lib\\site-packages\\matplotlib\\backends\\backend_agg.py\", line 267, in _prepare_font\n",
      "  File \"c:\\Users\\bcw60\\anaconda3\\envs\\yolo8die\\lib\\site-packages\\matplotlib\\font_manager.py\", line 1349, in _find_fonts_by_props\n",
      "  File \"c:\\Users\\bcw60\\anaconda3\\envs\\yolo8die\\lib\\site-packages\\matplotlib\\font_manager.py\", line 1260, in findfont\n",
      "  File \"c:\\Users\\bcw60\\anaconda3\\envs\\yolo8die\\lib\\site-packages\\matplotlib\\font_manager.py\", line 1411, in _findfont_cached\n",
      "  File \"c:\\Users\\bcw60\\anaconda3\\envs\\yolo8die\\lib\\site-packages\\matplotlib\\font_manager.py\", line 1264, in findfont\n",
      "ValueError: Failed to find font DejaVu Sans:style=normal:variant=normal:weight=normal:stretch=normal:size=11.0, and fallback to the default font was disabled\n",
      "\n",
      "During handling of the above exception, another exception occurred:\n",
      "\n",
      "Traceback (most recent call last):\n",
      "  File \"c:\\Users\\bcw60\\anaconda3\\envs\\yolo8die\\lib\\site-packages\\pygments\\styles\\__init__.py\", line 45, in get_style_by_name\n",
      "ModuleNotFoundError: No module named 'pygments.styles.default'\n",
      "\n",
      "During handling of the above exception, another exception occurred:\n",
      "\n",
      "Traceback (most recent call last):\n",
      "  File \"c:\\Users\\bcw60\\anaconda3\\envs\\yolo8die\\lib\\site-packages\\IPython\\core\\interactiveshell.py\", line 2105, in showtraceback\n",
      "  File \"c:\\Users\\bcw60\\anaconda3\\envs\\yolo8die\\lib\\site-packages\\IPython\\core\\ultratb.py\", line 1396, in structured_traceback\n",
      "  File \"c:\\Users\\bcw60\\anaconda3\\envs\\yolo8die\\lib\\site-packages\\IPython\\core\\ultratb.py\", line 1287, in structured_traceback\n",
      "  File \"c:\\Users\\bcw60\\anaconda3\\envs\\yolo8die\\lib\\site-packages\\IPython\\core\\ultratb.py\", line 1140, in structured_traceback\n",
      "  File \"c:\\Users\\bcw60\\anaconda3\\envs\\yolo8die\\lib\\site-packages\\IPython\\core\\ultratb.py\", line 1030, in format_exception_as_a_whole\n",
      "  File \"c:\\Users\\bcw60\\anaconda3\\envs\\yolo8die\\lib\\site-packages\\IPython\\core\\ultratb.py\", line 1081, in get_records\n",
      "  File \"c:\\Users\\bcw60\\anaconda3\\envs\\yolo8die\\lib\\site-packages\\pygments\\styles\\__init__.py\", line 47, in get_style_by_name\n",
      "pygments.util.ClassNotFound: Could not find style module 'pygments.styles.default', though it should be builtin.\n"
     ]
    }
   ],
   "source": [
    "from ultralytics import YOLO as yolo\n",
    "\n",
    "model = yolo('yolov8m-seg.pt')\n",
    "model.train(cfg = 'C:/Users/bcw60/OneDrive/Desktop/mydrive/die/default.yaml',data = \"C:/Users/bcw60/Downloads/custon_with_wheelchair_seg.v10i.yolov8/data.yaml\")"
   ]
  },
  {
   "cell_type": "code",
   "execution_count": 4,
   "metadata": {},
   "outputs": [
    {
     "data": {
      "text/plain": [
       "'c:\\\\Users\\\\bcw60\\\\anaconda3\\\\envs\\\\yolov8\\\\lib\\\\site-packages\\\\matplotlib\\\\mpl-data\\\\matplotlibrc'"
      ]
     },
     "execution_count": 4,
     "metadata": {},
     "output_type": "execute_result"
    }
   ],
   "source": [
    "import matplotlib\n",
    "matplotlib.matplotlib_fname()"
   ]
  },
  {
   "cell_type": "code",
   "execution_count": 3,
   "metadata": {},
   "outputs": [
    {
     "name": "stdout",
     "output_type": "stream",
     "text": [
      "New https://pypi.org/project/ultralytics/8.0.231 available 😃 Update with 'pip install -U ultralytics'\n",
      "Ultralytics YOLOv8.0.230 🚀 Python-3.9.18 torch-1.9.1+cu111 CUDA:0 (NVIDIA GeForce RTX 2060 SUPER, 8192MiB)\n",
      "WARNING ⚠️ Upgrade to torch>=2.0.0 for deterministic training.\n",
      "\u001b[34m\u001b[1mengine\\trainer: \u001b[0mtask=segment, mode=train, model=C:\\Users\\bcw60\\OneDrive\\Desktop\\mydrive\\die\\runs\\segment\\train12\\weights\\last.pt, data=C:/Users/bcw60/Downloads/custon_with_wheelchair_seg.v10i.yolov8/data.yaml, epochs=200, time=None, patience=30, batch=8, imgsz=640, save=True, save_period=-1, cache=False, device=None, workers=0, project=None, name=train123, exist_ok=False, pretrained=True, optimizer=auto, verbose=True, seed=0, deterministic=True, single_cls=False, rect=False, cos_lr=False, close_mosaic=10, resume=False, amp=True, fraction=1.0, profile=False, freeze=None, overlap_mask=True, mask_ratio=4, dropout=0.0, val=True, split=val, save_json=False, save_hybrid=False, conf=None, iou=0.7, max_det=300, half=False, dnn=False, plots=True, source=None, vid_stride=1, stream_buffer=False, visualize=False, augment=False, agnostic_nms=False, classes=None, retina_masks=False, embed=None, show=False, save_frames=False, save_txt=False, save_conf=False, save_crop=False, show_labels=True, show_conf=True, show_boxes=True, line_width=None, format=torchscript, keras=False, optimize=False, int8=False, dynamic=False, simplify=False, opset=None, workspace=4, nms=False, lr0=0.01, lrf=0.01, momentum=0.937, weight_decay=0.0005, warmup_epochs=3.0, warmup_momentum=0.8, warmup_bias_lr=0.0, box=7.5, cls=0.5, dfl=1.5, pose=12.0, kobj=1.0, label_smoothing=0.0, nbs=64, hsv_h=0.015, hsv_s=0.7, hsv_v=0.4, degrees=0.0, translate=0.1, scale=0.5, shear=0.0, perspective=0.0, flipud=0.0, fliplr=0.5, mosaic=1.0, mixup=0.0, copy_paste=0.0, cfg=None, tracker=botsort.yaml, save_dir=runs\\segment\\train123\n",
      "\u001b[34m\u001b[1mTensorBoard: \u001b[0mStart with 'tensorboard --logdir runs\\segment\\train123', view at http://localhost:6006/\n",
      "\n",
      "                   from  n    params  module                                       arguments                     \n",
      "  0                  -1  1      1392  ultralytics.nn.modules.conv.Conv             [3, 48, 3, 2]                 \n",
      "  1                  -1  1     41664  ultralytics.nn.modules.conv.Conv             [48, 96, 3, 2]                \n",
      "  2                  -1  2    111360  ultralytics.nn.modules.block.C2f             [96, 96, 2, True]             \n",
      "  3                  -1  1    166272  ultralytics.nn.modules.conv.Conv             [96, 192, 3, 2]               \n",
      "  4                  -1  4    813312  ultralytics.nn.modules.block.C2f             [192, 192, 4, True]           \n",
      "  5                  -1  1    664320  ultralytics.nn.modules.conv.Conv             [192, 384, 3, 2]              \n",
      "  6                  -1  4   3248640  ultralytics.nn.modules.block.C2f             [384, 384, 4, True]           \n",
      "  7                  -1  1   1991808  ultralytics.nn.modules.conv.Conv             [384, 576, 3, 2]              \n",
      "  8                  -1  2   3985920  ultralytics.nn.modules.block.C2f             [576, 576, 2, True]           \n",
      "  9                  -1  1    831168  ultralytics.nn.modules.block.SPPF            [576, 576, 5]                 \n",
      " 10                  -1  1         0  torch.nn.modules.upsampling.Upsample         [None, 2, 'nearest']          \n",
      " 11             [-1, 6]  1         0  ultralytics.nn.modules.conv.Concat           [1]                           \n",
      " 12                  -1  2   1993728  ultralytics.nn.modules.block.C2f             [960, 384, 2]                 \n",
      " 13                  -1  1         0  torch.nn.modules.upsampling.Upsample         [None, 2, 'nearest']          \n",
      " 14             [-1, 4]  1         0  ultralytics.nn.modules.conv.Concat           [1]                           \n",
      " 15                  -1  2    517632  ultralytics.nn.modules.block.C2f             [576, 192, 2]                 \n",
      " 16                  -1  1    332160  ultralytics.nn.modules.conv.Conv             [192, 192, 3, 2]              \n",
      " 17            [-1, 12]  1         0  ultralytics.nn.modules.conv.Concat           [1]                           \n",
      " 18                  -1  2   1846272  ultralytics.nn.modules.block.C2f             [576, 384, 2]                 \n",
      " 19                  -1  1   1327872  ultralytics.nn.modules.conv.Conv             [384, 384, 3, 2]              \n",
      " 20             [-1, 9]  1         0  ultralytics.nn.modules.conv.Concat           [1]                           \n",
      " 21                  -1  2   4207104  ultralytics.nn.modules.block.C2f             [960, 576, 2]                 \n",
      " 22        [15, 18, 21]  1   5160182  ultralytics.nn.modules.head.Segment          [2, 32, 192, [192, 384, 576]] \n",
      "YOLOv8m-seg summary: 331 layers, 27240806 parameters, 27240790 gradients, 110.4 GFLOPs\n",
      "\n",
      "Transferred 537/537 items from pretrained weights\n",
      "Freezing layer 'model.22.dfl.conv.weight'\n",
      "\u001b[34m\u001b[1mAMP: \u001b[0mrunning Automatic Mixed Precision (AMP) checks with YOLOv8n...\n",
      "\u001b[34m\u001b[1mAMP: \u001b[0mchecks passed ✅\n"
     ]
    },
    {
     "name": "stderr",
     "output_type": "stream",
     "text": [
      "\u001b[34m\u001b[1mtrain: \u001b[0mScanning C:\\Users\\bcw60\\Downloads\\custon_with_wheelchair_seg.v10i.yolov8\\train\\labels.cache... 12198 images, 0 backgrounds, 0 corrupt: 100%|██████████| 12198/12198 [00:00<?, ?it/s]\n",
      "\u001b[34m\u001b[1mval: \u001b[0mScanning C:\\Users\\bcw60\\Downloads\\custon_with_wheelchair_seg.v10i.yolov8\\valid\\labels.cache... 513 images, 0 backgrounds, 0 corrupt: 100%|██████████| 513/513 [00:00<?, ?it/s]"
     ]
    },
    {
     "name": "stdout",
     "output_type": "stream",
     "text": [
      "Plotting labels to runs\\segment\\train123\\labels.jpg... \n"
     ]
    },
    {
     "name": "stderr",
     "output_type": "stream",
     "text": [
      "\n",
      "findfont: Font family 'DejaVu Sans' not found.\n",
      "findfont: Font family ['DejaVu Sans'] not found. Falling back to DejaVu Sans.\n"
     ]
    },
    {
     "name": "stdout",
     "output_type": "stream",
     "text": [
      "Failed to find font DejaVu Sans:style=normal:variant=normal:weight=normal:stretch=normal:size=11.0, and fallback to the default font was disabled\n",
      "\u001b[34m\u001b[1moptimizer:\u001b[0m 'optimizer=auto' found, ignoring 'lr0=0.01' and 'momentum=0.937' and determining best 'optimizer', 'lr0' and 'momentum' automatically... \n",
      "\u001b[34m\u001b[1moptimizer:\u001b[0m SGD(lr=0.01, momentum=0.9) with parameter groups 86 weight(decay=0.0), 97 weight(decay=0.0005), 96 bias(decay=0.0)\n"
     ]
    },
    {
     "name": "stderr",
     "output_type": "stream",
     "text": [
      "2024/01/01 13:04:50 INFO mlflow.tracking.fluent: Autologging successfully enabled for tensorflow.\n"
     ]
    },
    {
     "name": "stdout",
     "output_type": "stream",
     "text": [
      "\u001b[34m\u001b[1mMLflow: \u001b[0mlogging run_id(737f45ce686948289c48b5794d7467c3) to runs\\mlflow\n",
      "\u001b[34m\u001b[1mMLflow: \u001b[0mview at http://127.0.0.1:5000 with 'mlflow server --backend-store-uri runs\\mlflow'\n",
      "\u001b[34m\u001b[1mMLflow: \u001b[0mdisable with 'yolo settings mlflow=False'\n",
      "\u001b[34m\u001b[1mMLflow: \u001b[0mWARNING ⚠️ Failed to initialize: Changing param values is not allowed. Param with key='name' was already logged with value='train12' for run ID='737f45ce686948289c48b5794d7467c3'. Attempted logging new value 'train123'.\n",
      "\u001b[34m\u001b[1mMLflow: \u001b[0mWARNING ⚠️ Not tracking this run\n",
      "200 epochs...\n",
      "\n",
      "      Epoch    GPU_mem   box_loss   seg_loss   cls_loss   dfl_loss  Instances       Size\n"
     ]
    },
    {
     "name": "stderr",
     "output_type": "stream",
     "text": [
      "      1/200      4.86G      0.312     0.9174     0.3348     0.9179         13        640: 100%|██████████| 1525/1525 [12:14<00:00,  2.08it/s]\n",
      "                 Class     Images  Instances      Box(P          R      mAP50  mAP50-95)     Mask(P          R      mAP50  mAP50-95): 100%|██████████| 33/33 [00:13<00:00,  2.37it/s]"
     ]
    },
    {
     "name": "stdout",
     "output_type": "stream",
     "text": [
      "                   all        513        809       0.79      0.926      0.898      0.852       0.79      0.926      0.898      0.786\n"
     ]
    },
    {
     "name": "stderr",
     "output_type": "stream",
     "text": [
      "\n"
     ]
    },
    {
     "name": "stdout",
     "output_type": "stream",
     "text": [
      "\n",
      "      Epoch    GPU_mem   box_loss   seg_loss   cls_loss   dfl_loss  Instances       Size\n"
     ]
    },
    {
     "name": "stderr",
     "output_type": "stream",
     "text": [
      "      2/200      4.57G     0.3203     0.9267     0.3447     0.9171         19        640: 100%|██████████| 1525/1525 [10:45<00:00,  2.36it/s]\n",
      "                 Class     Images  Instances      Box(P          R      mAP50  mAP50-95)     Mask(P          R      mAP50  mAP50-95): 100%|██████████| 33/33 [00:10<00:00,  3.09it/s]"
     ]
    },
    {
     "name": "stdout",
     "output_type": "stream",
     "text": [
      "                   all        513        809      0.778      0.915      0.905      0.869      0.779      0.916      0.905      0.809\n"
     ]
    },
    {
     "name": "stderr",
     "output_type": "stream",
     "text": [
      "\n"
     ]
    },
    {
     "name": "stdout",
     "output_type": "stream",
     "text": [
      "\n",
      "      Epoch    GPU_mem   box_loss   seg_loss   cls_loss   dfl_loss  Instances       Size\n"
     ]
    },
    {
     "name": "stderr",
     "output_type": "stream",
     "text": [
      "      3/200      4.59G     0.3537     0.9895     0.3916     0.9304         18        640: 100%|██████████| 1525/1525 [10:42<00:00,  2.37it/s]\n",
      "                 Class     Images  Instances      Box(P          R      mAP50  mAP50-95)     Mask(P          R      mAP50  mAP50-95): 100%|██████████| 33/33 [00:10<00:00,  3.07it/s]"
     ]
    },
    {
     "name": "stdout",
     "output_type": "stream",
     "text": [
      "                   all        513        809      0.824      0.908      0.894      0.826      0.799      0.878      0.862      0.765\n"
     ]
    },
    {
     "name": "stderr",
     "output_type": "stream",
     "text": [
      "\n"
     ]
    },
    {
     "name": "stdout",
     "output_type": "stream",
     "text": [
      "\n",
      "      Epoch    GPU_mem   box_loss   seg_loss   cls_loss   dfl_loss  Instances       Size\n"
     ]
    },
    {
     "name": "stderr",
     "output_type": "stream",
     "text": [
      "      4/200      4.54G     0.3869      1.116      0.446     0.9517         22        640: 100%|██████████| 1525/1525 [10:41<00:00,  2.38it/s]\n",
      "                 Class     Images  Instances      Box(P          R      mAP50  mAP50-95)     Mask(P          R      mAP50  mAP50-95): 100%|██████████| 33/33 [00:10<00:00,  3.09it/s]"
     ]
    },
    {
     "name": "stdout",
     "output_type": "stream",
     "text": [
      "                   all        513        809      0.764      0.915      0.856      0.815      0.764      0.915      0.855      0.747\n"
     ]
    },
    {
     "name": "stderr",
     "output_type": "stream",
     "text": [
      "\n"
     ]
    },
    {
     "name": "stdout",
     "output_type": "stream",
     "text": [
      "\n",
      "      Epoch    GPU_mem   box_loss   seg_loss   cls_loss   dfl_loss  Instances       Size\n"
     ]
    },
    {
     "name": "stderr",
     "output_type": "stream",
     "text": [
      "      5/200      4.57G     0.3932      1.156     0.4569     0.9563         18        640: 100%|██████████| 1525/1525 [10:40<00:00,  2.38it/s]\n",
      "                 Class     Images  Instances      Box(P          R      mAP50  mAP50-95)     Mask(P          R      mAP50  mAP50-95): 100%|██████████| 33/33 [00:10<00:00,  3.06it/s]"
     ]
    },
    {
     "name": "stdout",
     "output_type": "stream",
     "text": [
      "                   all        513        809      0.778      0.896      0.835      0.776      0.777      0.895      0.834      0.719\n"
     ]
    },
    {
     "name": "stderr",
     "output_type": "stream",
     "text": [
      "\n"
     ]
    },
    {
     "name": "stdout",
     "output_type": "stream",
     "text": [
      "\n",
      "      Epoch    GPU_mem   box_loss   seg_loss   cls_loss   dfl_loss  Instances       Size\n"
     ]
    },
    {
     "name": "stderr",
     "output_type": "stream",
     "text": [
      "      6/200      4.56G     0.3977      1.162     0.4676     0.9591         26        640: 100%|██████████| 1525/1525 [11:56<00:00,  2.13it/s]\n",
      "                 Class     Images  Instances      Box(P          R      mAP50  mAP50-95)     Mask(P          R      mAP50  mAP50-95): 100%|██████████| 33/33 [00:13<00:00,  2.37it/s]"
     ]
    },
    {
     "name": "stdout",
     "output_type": "stream",
     "text": [
      "                   all        513        809      0.808      0.897       0.89      0.805      0.807      0.897      0.888      0.735\n"
     ]
    },
    {
     "name": "stderr",
     "output_type": "stream",
     "text": [
      "\n"
     ]
    },
    {
     "name": "stdout",
     "output_type": "stream",
     "text": [
      "\n",
      "      Epoch    GPU_mem   box_loss   seg_loss   cls_loss   dfl_loss  Instances       Size\n"
     ]
    },
    {
     "name": "stderr",
     "output_type": "stream",
     "text": [
      "      7/200      4.55G     0.4005      1.161     0.4706      0.962         22        640: 100%|██████████| 1525/1525 [10:48<00:00,  2.35it/s]\n",
      "                 Class     Images  Instances      Box(P          R      mAP50  mAP50-95)     Mask(P          R      mAP50  mAP50-95): 100%|██████████| 33/33 [00:10<00:00,  3.03it/s]"
     ]
    },
    {
     "name": "stdout",
     "output_type": "stream",
     "text": [
      "                   all        513        809      0.774      0.936      0.878      0.793      0.751      0.906       0.83      0.721\n"
     ]
    },
    {
     "name": "stderr",
     "output_type": "stream",
     "text": [
      "\n"
     ]
    },
    {
     "name": "stdout",
     "output_type": "stream",
     "text": [
      "\n",
      "      Epoch    GPU_mem   box_loss   seg_loss   cls_loss   dfl_loss  Instances       Size\n"
     ]
    },
    {
     "name": "stderr",
     "output_type": "stream",
     "text": [
      "      8/200      4.61G     0.4004      1.173      0.472     0.9637         22        640: 100%|██████████| 1525/1525 [10:45<00:00,  2.36it/s]\n",
      "                 Class     Images  Instances      Box(P          R      mAP50  mAP50-95)     Mask(P          R      mAP50  mAP50-95): 100%|██████████| 33/33 [00:10<00:00,  3.04it/s]"
     ]
    },
    {
     "name": "stdout",
     "output_type": "stream",
     "text": [
      "                   all        513        809      0.798      0.881      0.908      0.852      0.799      0.881      0.907      0.768\n"
     ]
    },
    {
     "name": "stderr",
     "output_type": "stream",
     "text": [
      "\n"
     ]
    },
    {
     "name": "stdout",
     "output_type": "stream",
     "text": [
      "\n",
      "      Epoch    GPU_mem   box_loss   seg_loss   cls_loss   dfl_loss  Instances       Size\n"
     ]
    },
    {
     "name": "stderr",
     "output_type": "stream",
     "text": [
      "      9/200      4.57G     0.3995      1.176     0.4668       0.96         23        640: 100%|██████████| 1525/1525 [10:45<00:00,  2.36it/s]\n",
      "                 Class     Images  Instances      Box(P          R      mAP50  mAP50-95)     Mask(P          R      mAP50  mAP50-95): 100%|██████████| 33/33 [00:10<00:00,  3.02it/s]"
     ]
    },
    {
     "name": "stdout",
     "output_type": "stream",
     "text": [
      "                   all        513        809      0.785      0.897      0.834       0.78      0.763      0.868      0.828      0.719\n"
     ]
    },
    {
     "name": "stderr",
     "output_type": "stream",
     "text": [
      "\n"
     ]
    },
    {
     "name": "stdout",
     "output_type": "stream",
     "text": [
      "\n",
      "      Epoch    GPU_mem   box_loss   seg_loss   cls_loss   dfl_loss  Instances       Size\n"
     ]
    },
    {
     "name": "stderr",
     "output_type": "stream",
     "text": [
      "     10/200      4.56G     0.4008      1.174     0.4732     0.9612         21        640: 100%|██████████| 1525/1525 [10:45<00:00,  2.36it/s]\n",
      "                 Class     Images  Instances      Box(P          R      mAP50  mAP50-95)     Mask(P          R      mAP50  mAP50-95): 100%|██████████| 33/33 [00:10<00:00,  3.04it/s]"
     ]
    },
    {
     "name": "stdout",
     "output_type": "stream",
     "text": [
      "                   all        513        809      0.753       0.95      0.891      0.832      0.733      0.921      0.859      0.739\n"
     ]
    },
    {
     "name": "stderr",
     "output_type": "stream",
     "text": [
      "\n"
     ]
    },
    {
     "name": "stdout",
     "output_type": "stream",
     "text": [
      "\n",
      "      Epoch    GPU_mem   box_loss   seg_loss   cls_loss   dfl_loss  Instances       Size\n"
     ]
    },
    {
     "name": "stderr",
     "output_type": "stream",
     "text": [
      "     11/200      4.61G     0.3988      1.163     0.4688     0.9605         25        640: 100%|██████████| 1525/1525 [10:46<00:00,  2.36it/s]\n",
      "                 Class     Images  Instances      Box(P          R      mAP50  mAP50-95)     Mask(P          R      mAP50  mAP50-95): 100%|██████████| 33/33 [00:10<00:00,  3.02it/s]"
     ]
    },
    {
     "name": "stdout",
     "output_type": "stream",
     "text": [
      "                   all        513        809      0.764      0.943      0.887      0.775      0.763      0.941      0.886      0.717\n"
     ]
    },
    {
     "name": "stderr",
     "output_type": "stream",
     "text": [
      "\n"
     ]
    },
    {
     "name": "stdout",
     "output_type": "stream",
     "text": [
      "\n",
      "      Epoch    GPU_mem   box_loss   seg_loss   cls_loss   dfl_loss  Instances       Size\n"
     ]
    },
    {
     "name": "stderr",
     "output_type": "stream",
     "text": [
      "     12/200       4.6G     0.4025       1.18      0.471     0.9592         20        640: 100%|██████████| 1525/1525 [10:45<00:00,  2.36it/s]\n",
      "                 Class     Images  Instances      Box(P          R      mAP50  mAP50-95)     Mask(P          R      mAP50  mAP50-95): 100%|██████████| 33/33 [00:10<00:00,  3.04it/s]"
     ]
    },
    {
     "name": "stdout",
     "output_type": "stream",
     "text": [
      "                   all        513        809      0.799      0.926      0.916      0.847      0.827      0.855      0.913      0.784\n"
     ]
    },
    {
     "name": "stderr",
     "output_type": "stream",
     "text": [
      "\n"
     ]
    },
    {
     "name": "stdout",
     "output_type": "stream",
     "text": [
      "\n",
      "      Epoch    GPU_mem   box_loss   seg_loss   cls_loss   dfl_loss  Instances       Size\n"
     ]
    },
    {
     "name": "stderr",
     "output_type": "stream",
     "text": [
      "     13/200      4.54G     0.3992      1.175     0.4714     0.9619         26        640: 100%|██████████| 1525/1525 [10:45<00:00,  2.36it/s]\n",
      "                 Class     Images  Instances      Box(P          R      mAP50  mAP50-95)     Mask(P          R      mAP50  mAP50-95): 100%|██████████| 33/33 [00:10<00:00,  3.02it/s]"
     ]
    },
    {
     "name": "stdout",
     "output_type": "stream",
     "text": [
      "                   all        513        809      0.806      0.882      0.909      0.861      0.807      0.882      0.909      0.774\n"
     ]
    },
    {
     "name": "stderr",
     "output_type": "stream",
     "text": [
      "\n"
     ]
    },
    {
     "name": "stdout",
     "output_type": "stream",
     "text": [
      "\n",
      "      Epoch    GPU_mem   box_loss   seg_loss   cls_loss   dfl_loss  Instances       Size\n"
     ]
    },
    {
     "name": "stderr",
     "output_type": "stream",
     "text": [
      "     14/200      4.57G     0.4061      1.201     0.4743     0.9661         21        640: 100%|██████████| 1525/1525 [10:46<00:00,  2.36it/s]\n",
      "                 Class     Images  Instances      Box(P          R      mAP50  mAP50-95)     Mask(P          R      mAP50  mAP50-95): 100%|██████████| 33/33 [00:10<00:00,  3.06it/s]"
     ]
    },
    {
     "name": "stdout",
     "output_type": "stream",
     "text": [
      "                   all        513        809       0.82      0.862      0.916      0.855      0.819      0.861      0.915      0.762\n"
     ]
    },
    {
     "name": "stderr",
     "output_type": "stream",
     "text": [
      "\n"
     ]
    },
    {
     "name": "stdout",
     "output_type": "stream",
     "text": [
      "\n",
      "      Epoch    GPU_mem   box_loss   seg_loss   cls_loss   dfl_loss  Instances       Size\n"
     ]
    },
    {
     "name": "stderr",
     "output_type": "stream",
     "text": [
      "     15/200      4.57G     0.4104      1.205      0.478     0.9689         27        640: 100%|██████████| 1525/1525 [10:45<00:00,  2.36it/s]\n",
      "                 Class     Images  Instances      Box(P          R      mAP50  mAP50-95)     Mask(P          R      mAP50  mAP50-95): 100%|██████████| 33/33 [00:10<00:00,  3.05it/s]"
     ]
    },
    {
     "name": "stdout",
     "output_type": "stream",
     "text": [
      "                   all        513        809      0.747      0.922      0.913      0.856      0.726      0.893      0.891      0.784\n"
     ]
    },
    {
     "name": "stderr",
     "output_type": "stream",
     "text": [
      "\n"
     ]
    },
    {
     "name": "stdout",
     "output_type": "stream",
     "text": [
      "\n",
      "      Epoch    GPU_mem   box_loss   seg_loss   cls_loss   dfl_loss  Instances       Size\n"
     ]
    },
    {
     "name": "stderr",
     "output_type": "stream",
     "text": [
      "     16/200      4.58G     0.4016      1.193     0.4699     0.9645         13        640: 100%|██████████| 1525/1525 [10:45<00:00,  2.36it/s]\n",
      "                 Class     Images  Instances      Box(P          R      mAP50  mAP50-95)     Mask(P          R      mAP50  mAP50-95): 100%|██████████| 33/33 [00:10<00:00,  3.05it/s]"
     ]
    },
    {
     "name": "stdout",
     "output_type": "stream",
     "text": [
      "                   all        513        809      0.811       0.89      0.913      0.881       0.81      0.889      0.913        0.8\n"
     ]
    },
    {
     "name": "stderr",
     "output_type": "stream",
     "text": [
      "\n"
     ]
    },
    {
     "name": "stdout",
     "output_type": "stream",
     "text": [
      "\n",
      "      Epoch    GPU_mem   box_loss   seg_loss   cls_loss   dfl_loss  Instances       Size\n"
     ]
    },
    {
     "name": "stderr",
     "output_type": "stream",
     "text": [
      "     17/200      4.57G     0.4031      1.182     0.4755     0.9645         18        640: 100%|██████████| 1525/1525 [10:45<00:00,  2.36it/s]\n",
      "                 Class     Images  Instances      Box(P          R      mAP50  mAP50-95)     Mask(P          R      mAP50  mAP50-95): 100%|██████████| 33/33 [00:10<00:00,  3.04it/s]"
     ]
    },
    {
     "name": "stdout",
     "output_type": "stream",
     "text": [
      "                   all        513        809      0.806      0.912      0.908      0.812      0.781      0.882      0.857      0.754\n"
     ]
    },
    {
     "name": "stderr",
     "output_type": "stream",
     "text": [
      "\n"
     ]
    },
    {
     "name": "stdout",
     "output_type": "stream",
     "text": [
      "\n",
      "      Epoch    GPU_mem   box_loss   seg_loss   cls_loss   dfl_loss  Instances       Size\n"
     ]
    },
    {
     "name": "stderr",
     "output_type": "stream",
     "text": [
      "     18/200      4.61G     0.4025      1.178     0.4729     0.9625         20        640: 100%|██████████| 1525/1525 [10:45<00:00,  2.36it/s]\n",
      "                 Class     Images  Instances      Box(P          R      mAP50  mAP50-95)     Mask(P          R      mAP50  mAP50-95): 100%|██████████| 33/33 [00:10<00:00,  3.06it/s]"
     ]
    },
    {
     "name": "stdout",
     "output_type": "stream",
     "text": [
      "                   all        513        809       0.82      0.921      0.921      0.878      0.819      0.921       0.92       0.81\n"
     ]
    },
    {
     "name": "stderr",
     "output_type": "stream",
     "text": [
      "\n"
     ]
    },
    {
     "name": "stdout",
     "output_type": "stream",
     "text": [
      "\n",
      "      Epoch    GPU_mem   box_loss   seg_loss   cls_loss   dfl_loss  Instances       Size\n"
     ]
    },
    {
     "name": "stderr",
     "output_type": "stream",
     "text": [
      "     19/200      4.57G     0.4009      1.174     0.4709     0.9629         17        640: 100%|██████████| 1525/1525 [10:45<00:00,  2.36it/s]\n",
      "                 Class     Images  Instances      Box(P          R      mAP50  mAP50-95)     Mask(P          R      mAP50  mAP50-95): 100%|██████████| 33/33 [00:10<00:00,  3.04it/s]"
     ]
    },
    {
     "name": "stdout",
     "output_type": "stream",
     "text": [
      "                   all        513        809      0.781      0.948      0.921      0.876      0.781      0.948       0.92      0.801\n"
     ]
    },
    {
     "name": "stderr",
     "output_type": "stream",
     "text": [
      "\n"
     ]
    },
    {
     "name": "stdout",
     "output_type": "stream",
     "text": [
      "\n",
      "      Epoch    GPU_mem   box_loss   seg_loss   cls_loss   dfl_loss  Instances       Size\n"
     ]
    },
    {
     "name": "stderr",
     "output_type": "stream",
     "text": [
      "     20/200      4.63G     0.3989      1.191     0.4664     0.9603         17        640: 100%|██████████| 1525/1525 [10:45<00:00,  2.36it/s]\n",
      "                 Class     Images  Instances      Box(P          R      mAP50  mAP50-95)     Mask(P          R      mAP50  mAP50-95): 100%|██████████| 33/33 [00:10<00:00,  3.06it/s]"
     ]
    },
    {
     "name": "stdout",
     "output_type": "stream",
     "text": [
      "                   all        513        809      0.838      0.918      0.899      0.815      0.812      0.889      0.833      0.731\n"
     ]
    },
    {
     "name": "stderr",
     "output_type": "stream",
     "text": [
      "\n"
     ]
    },
    {
     "name": "stdout",
     "output_type": "stream",
     "text": [
      "\n",
      "      Epoch    GPU_mem   box_loss   seg_loss   cls_loss   dfl_loss  Instances       Size\n"
     ]
    },
    {
     "name": "stderr",
     "output_type": "stream",
     "text": [
      "     21/200      4.58G     0.3998      1.166     0.4685      0.959         23        640: 100%|██████████| 1525/1525 [10:45<00:00,  2.36it/s]\n",
      "                 Class     Images  Instances      Box(P          R      mAP50  mAP50-95)     Mask(P          R      mAP50  mAP50-95): 100%|██████████| 33/33 [00:10<00:00,  3.05it/s]"
     ]
    },
    {
     "name": "stdout",
     "output_type": "stream",
     "text": [
      "                   all        513        809      0.831      0.853       0.91      0.859      0.831      0.853      0.909      0.772\n"
     ]
    },
    {
     "name": "stderr",
     "output_type": "stream",
     "text": [
      "\n"
     ]
    },
    {
     "name": "stdout",
     "output_type": "stream",
     "text": [
      "\n",
      "      Epoch    GPU_mem   box_loss   seg_loss   cls_loss   dfl_loss  Instances       Size\n"
     ]
    },
    {
     "name": "stderr",
     "output_type": "stream",
     "text": [
      "     22/200       4.6G     0.3984      1.174     0.4687     0.9599         20        640: 100%|██████████| 1525/1525 [10:46<00:00,  2.36it/s]\n",
      "                 Class     Images  Instances      Box(P          R      mAP50  mAP50-95)     Mask(P          R      mAP50  mAP50-95): 100%|██████████| 33/33 [00:10<00:00,  3.02it/s]"
     ]
    },
    {
     "name": "stdout",
     "output_type": "stream",
     "text": [
      "                   all        513        809      0.785      0.929      0.901      0.852      0.785       0.93      0.901      0.765\n"
     ]
    },
    {
     "name": "stderr",
     "output_type": "stream",
     "text": [
      "\n"
     ]
    },
    {
     "name": "stdout",
     "output_type": "stream",
     "text": [
      "\n",
      "      Epoch    GPU_mem   box_loss   seg_loss   cls_loss   dfl_loss  Instances       Size\n"
     ]
    },
    {
     "name": "stderr",
     "output_type": "stream",
     "text": [
      "     23/200      4.63G     0.4011      1.191     0.4693     0.9637         16        640: 100%|██████████| 1525/1525 [10:46<00:00,  2.36it/s]\n",
      "                 Class     Images  Instances      Box(P          R      mAP50  mAP50-95)     Mask(P          R      mAP50  mAP50-95): 100%|██████████| 33/33 [00:10<00:00,  3.04it/s]"
     ]
    },
    {
     "name": "stdout",
     "output_type": "stream",
     "text": [
      "                   all        513        809      0.794      0.927      0.856      0.803      0.794      0.927      0.856      0.712\n"
     ]
    },
    {
     "name": "stderr",
     "output_type": "stream",
     "text": [
      "\n"
     ]
    },
    {
     "name": "stdout",
     "output_type": "stream",
     "text": [
      "\n",
      "      Epoch    GPU_mem   box_loss   seg_loss   cls_loss   dfl_loss  Instances       Size\n"
     ]
    },
    {
     "name": "stderr",
     "output_type": "stream",
     "text": [
      "     24/200      4.58G     0.3982      1.174     0.4662     0.9597         21        640: 100%|██████████| 1525/1525 [10:47<00:00,  2.35it/s]\n",
      "                 Class     Images  Instances      Box(P          R      mAP50  mAP50-95)     Mask(P          R      mAP50  mAP50-95): 100%|██████████| 33/33 [00:10<00:00,  3.03it/s]"
     ]
    },
    {
     "name": "stdout",
     "output_type": "stream",
     "text": [
      "                   all        513        809      0.779       0.93       0.91      0.856      0.778      0.929      0.909      0.781\n"
     ]
    },
    {
     "name": "stderr",
     "output_type": "stream",
     "text": [
      "\n"
     ]
    },
    {
     "name": "stdout",
     "output_type": "stream",
     "text": [
      "\n",
      "      Epoch    GPU_mem   box_loss   seg_loss   cls_loss   dfl_loss  Instances       Size\n"
     ]
    },
    {
     "name": "stderr",
     "output_type": "stream",
     "text": [
      "     25/200      4.58G     0.3968      1.178     0.4648     0.9576         13        640: 100%|██████████| 1525/1525 [10:47<00:00,  2.36it/s]\n",
      "                 Class     Images  Instances      Box(P          R      mAP50  mAP50-95)     Mask(P          R      mAP50  mAP50-95): 100%|██████████| 33/33 [00:10<00:00,  3.03it/s]"
     ]
    },
    {
     "name": "stdout",
     "output_type": "stream",
     "text": [
      "                   all        513        809        0.8      0.923      0.906      0.818      0.799      0.923      0.905      0.772\n"
     ]
    },
    {
     "name": "stderr",
     "output_type": "stream",
     "text": [
      "\n"
     ]
    },
    {
     "name": "stdout",
     "output_type": "stream",
     "text": [
      "\n",
      "      Epoch    GPU_mem   box_loss   seg_loss   cls_loss   dfl_loss  Instances       Size\n"
     ]
    },
    {
     "name": "stderr",
     "output_type": "stream",
     "text": [
      "     26/200      4.61G     0.3947      1.161     0.4622     0.9548         18        640: 100%|██████████| 1525/1525 [10:46<00:00,  2.36it/s]\n",
      "                 Class     Images  Instances      Box(P          R      mAP50  mAP50-95)     Mask(P          R      mAP50  mAP50-95): 100%|██████████| 33/33 [00:10<00:00,  3.05it/s]"
     ]
    },
    {
     "name": "stdout",
     "output_type": "stream",
     "text": [
      "                   all        513        809      0.774      0.904      0.891      0.815      0.774      0.904      0.891      0.736\n"
     ]
    },
    {
     "name": "stderr",
     "output_type": "stream",
     "text": [
      "\n"
     ]
    },
    {
     "name": "stdout",
     "output_type": "stream",
     "text": [
      "\n",
      "      Epoch    GPU_mem   box_loss   seg_loss   cls_loss   dfl_loss  Instances       Size\n"
     ]
    },
    {
     "name": "stderr",
     "output_type": "stream",
     "text": [
      "     27/200      4.61G     0.3969      1.173     0.4636     0.9597         25        640: 100%|██████████| 1525/1525 [10:46<00:00,  2.36it/s]\n",
      "                 Class     Images  Instances      Box(P          R      mAP50  mAP50-95)     Mask(P          R      mAP50  mAP50-95): 100%|██████████| 33/33 [00:10<00:00,  3.04it/s]"
     ]
    },
    {
     "name": "stdout",
     "output_type": "stream",
     "text": [
      "                   all        513        809      0.805      0.913      0.895      0.843      0.804      0.912      0.895      0.774\n"
     ]
    },
    {
     "name": "stderr",
     "output_type": "stream",
     "text": [
      "\n"
     ]
    },
    {
     "name": "stdout",
     "output_type": "stream",
     "text": [
      "\n",
      "      Epoch    GPU_mem   box_loss   seg_loss   cls_loss   dfl_loss  Instances       Size\n"
     ]
    },
    {
     "name": "stderr",
     "output_type": "stream",
     "text": [
      "     28/200      4.58G     0.3966      1.161     0.4638      0.958         18        640: 100%|██████████| 1525/1525 [10:46<00:00,  2.36it/s]\n",
      "                 Class     Images  Instances      Box(P          R      mAP50  mAP50-95)     Mask(P          R      mAP50  mAP50-95): 100%|██████████| 33/33 [00:10<00:00,  3.04it/s]"
     ]
    },
    {
     "name": "stdout",
     "output_type": "stream",
     "text": [
      "                   all        513        809      0.801      0.919      0.914      0.877        0.8      0.919      0.914      0.813\n"
     ]
    },
    {
     "name": "stderr",
     "output_type": "stream",
     "text": [
      "\n"
     ]
    },
    {
     "name": "stdout",
     "output_type": "stream",
     "text": [
      "\n",
      "      Epoch    GPU_mem   box_loss   seg_loss   cls_loss   dfl_loss  Instances       Size\n"
     ]
    },
    {
     "name": "stderr",
     "output_type": "stream",
     "text": [
      "     29/200      4.54G     0.3927      1.157     0.4579     0.9582         20        640: 100%|██████████| 1525/1525 [10:46<00:00,  2.36it/s]\n",
      "                 Class     Images  Instances      Box(P          R      mAP50  mAP50-95)     Mask(P          R      mAP50  mAP50-95): 100%|██████████| 33/33 [00:10<00:00,  3.03it/s]"
     ]
    },
    {
     "name": "stdout",
     "output_type": "stream",
     "text": [
      "                   all        513        809      0.795      0.906      0.939       0.88      0.795      0.906      0.939      0.816\n"
     ]
    },
    {
     "name": "stderr",
     "output_type": "stream",
     "text": [
      "\n"
     ]
    },
    {
     "name": "stdout",
     "output_type": "stream",
     "text": [
      "\n",
      "      Epoch    GPU_mem   box_loss   seg_loss   cls_loss   dfl_loss  Instances       Size\n"
     ]
    },
    {
     "name": "stderr",
     "output_type": "stream",
     "text": [
      "     30/200      4.56G     0.3891      1.151     0.4571     0.9565         24        640: 100%|██████████| 1525/1525 [10:45<00:00,  2.36it/s]\n",
      "                 Class     Images  Instances      Box(P          R      mAP50  mAP50-95)     Mask(P          R      mAP50  mAP50-95): 100%|██████████| 33/33 [00:10<00:00,  3.06it/s]"
     ]
    },
    {
     "name": "stdout",
     "output_type": "stream",
     "text": [
      "                   all        513        809      0.822      0.903      0.929      0.886      0.822      0.903      0.929       0.82\n"
     ]
    },
    {
     "name": "stderr",
     "output_type": "stream",
     "text": [
      "\n"
     ]
    },
    {
     "name": "stdout",
     "output_type": "stream",
     "text": [
      "\n",
      "      Epoch    GPU_mem   box_loss   seg_loss   cls_loss   dfl_loss  Instances       Size\n"
     ]
    },
    {
     "name": "stderr",
     "output_type": "stream",
     "text": [
      "     31/200      4.57G     0.3902      1.153     0.4571     0.9541         18        640: 100%|██████████| 1525/1525 [10:46<00:00,  2.36it/s]\n",
      "                 Class     Images  Instances      Box(P          R      mAP50  mAP50-95)     Mask(P          R      mAP50  mAP50-95): 100%|██████████| 33/33 [00:10<00:00,  3.03it/s]"
     ]
    },
    {
     "name": "stdout",
     "output_type": "stream",
     "text": [
      "                   all        513        809      0.807      0.913      0.919      0.876      0.808      0.914      0.919      0.803\n"
     ]
    },
    {
     "name": "stderr",
     "output_type": "stream",
     "text": [
      "\n"
     ]
    },
    {
     "name": "stdout",
     "output_type": "stream",
     "text": [
      "\n",
      "      Epoch    GPU_mem   box_loss   seg_loss   cls_loss   dfl_loss  Instances       Size\n"
     ]
    },
    {
     "name": "stderr",
     "output_type": "stream",
     "text": [
      "     32/200       4.6G     0.3856      1.146     0.4542     0.9522         16        640: 100%|██████████| 1525/1525 [10:45<00:00,  2.36it/s]\n",
      "                 Class     Images  Instances      Box(P          R      mAP50  mAP50-95)     Mask(P          R      mAP50  mAP50-95): 100%|██████████| 33/33 [00:10<00:00,  3.04it/s]"
     ]
    },
    {
     "name": "stdout",
     "output_type": "stream",
     "text": [
      "                   all        513        809      0.786      0.936      0.914      0.863      0.785      0.935      0.914      0.796\n"
     ]
    },
    {
     "name": "stderr",
     "output_type": "stream",
     "text": [
      "\n"
     ]
    },
    {
     "name": "stdout",
     "output_type": "stream",
     "text": [
      "\n",
      "      Epoch    GPU_mem   box_loss   seg_loss   cls_loss   dfl_loss  Instances       Size\n"
     ]
    },
    {
     "name": "stderr",
     "output_type": "stream",
     "text": [
      "     33/200      4.59G     0.3911      1.149     0.4568     0.9546         25        640: 100%|██████████| 1525/1525 [10:46<00:00,  2.36it/s]\n",
      "                 Class     Images  Instances      Box(P          R      mAP50  mAP50-95)     Mask(P          R      mAP50  mAP50-95): 100%|██████████| 33/33 [00:10<00:00,  3.03it/s]"
     ]
    },
    {
     "name": "stdout",
     "output_type": "stream",
     "text": [
      "                   all        513        809       0.79      0.931      0.932      0.907       0.79      0.931      0.931      0.826\n"
     ]
    },
    {
     "name": "stderr",
     "output_type": "stream",
     "text": [
      "\n"
     ]
    },
    {
     "name": "stdout",
     "output_type": "stream",
     "text": [
      "\n",
      "      Epoch    GPU_mem   box_loss   seg_loss   cls_loss   dfl_loss  Instances       Size\n"
     ]
    },
    {
     "name": "stderr",
     "output_type": "stream",
     "text": [
      "     34/200       4.6G     0.3894      1.146     0.4563      0.955         16        640: 100%|██████████| 1525/1525 [10:45<00:00,  2.36it/s]\n",
      "                 Class     Images  Instances      Box(P          R      mAP50  mAP50-95)     Mask(P          R      mAP50  mAP50-95): 100%|██████████| 33/33 [00:10<00:00,  3.04it/s]"
     ]
    },
    {
     "name": "stdout",
     "output_type": "stream",
     "text": [
      "                   all        513        809       0.81      0.901      0.921      0.889       0.81        0.9      0.921      0.826\n"
     ]
    },
    {
     "name": "stderr",
     "output_type": "stream",
     "text": [
      "\n"
     ]
    },
    {
     "name": "stdout",
     "output_type": "stream",
     "text": [
      "\n",
      "      Epoch    GPU_mem   box_loss   seg_loss   cls_loss   dfl_loss  Instances       Size\n"
     ]
    },
    {
     "name": "stderr",
     "output_type": "stream",
     "text": [
      "     35/200      4.55G       0.39      1.144     0.4521     0.9552         18        640: 100%|██████████| 1525/1525 [10:46<00:00,  2.36it/s]\n",
      "                 Class     Images  Instances      Box(P          R      mAP50  mAP50-95)     Mask(P          R      mAP50  mAP50-95): 100%|██████████| 33/33 [00:10<00:00,  3.04it/s]"
     ]
    },
    {
     "name": "stdout",
     "output_type": "stream",
     "text": [
      "                   all        513        809      0.817      0.875      0.915      0.853      0.818      0.875      0.915      0.794\n"
     ]
    },
    {
     "name": "stderr",
     "output_type": "stream",
     "text": [
      "\n"
     ]
    },
    {
     "name": "stdout",
     "output_type": "stream",
     "text": [
      "\n",
      "      Epoch    GPU_mem   box_loss   seg_loss   cls_loss   dfl_loss  Instances       Size\n"
     ]
    },
    {
     "name": "stderr",
     "output_type": "stream",
     "text": [
      "     36/200      4.56G     0.3897      1.147      0.448     0.9531         21        640: 100%|██████████| 1525/1525 [10:46<00:00,  2.36it/s]\n",
      "                 Class     Images  Instances      Box(P          R      mAP50  mAP50-95)     Mask(P          R      mAP50  mAP50-95): 100%|██████████| 33/33 [00:10<00:00,  3.04it/s]"
     ]
    },
    {
     "name": "stdout",
     "output_type": "stream",
     "text": [
      "                   all        513        809      0.815      0.899      0.935      0.864      0.816        0.9      0.935      0.794\n"
     ]
    },
    {
     "name": "stderr",
     "output_type": "stream",
     "text": [
      "\n"
     ]
    },
    {
     "name": "stdout",
     "output_type": "stream",
     "text": [
      "\n",
      "      Epoch    GPU_mem   box_loss   seg_loss   cls_loss   dfl_loss  Instances       Size\n"
     ]
    },
    {
     "name": "stderr",
     "output_type": "stream",
     "text": [
      "     37/200      4.57G     0.3893      1.148     0.4532      0.955         22        640: 100%|██████████| 1525/1525 [10:45<00:00,  2.36it/s]\n",
      "                 Class     Images  Instances      Box(P          R      mAP50  mAP50-95)     Mask(P          R      mAP50  mAP50-95): 100%|██████████| 33/33 [00:10<00:00,  3.03it/s]"
     ]
    },
    {
     "name": "stdout",
     "output_type": "stream",
     "text": [
      "                   all        513        809      0.833      0.892      0.928      0.836      0.833      0.892      0.928      0.774\n"
     ]
    },
    {
     "name": "stderr",
     "output_type": "stream",
     "text": [
      "\n"
     ]
    },
    {
     "name": "stdout",
     "output_type": "stream",
     "text": [
      "\n",
      "      Epoch    GPU_mem   box_loss   seg_loss   cls_loss   dfl_loss  Instances       Size\n"
     ]
    },
    {
     "name": "stderr",
     "output_type": "stream",
     "text": [
      "     38/200      4.58G     0.3858      1.136      0.447      0.954         23        640: 100%|██████████| 1525/1525 [10:45<00:00,  2.36it/s]\n",
      "                 Class     Images  Instances      Box(P          R      mAP50  mAP50-95)     Mask(P          R      mAP50  mAP50-95): 100%|██████████| 33/33 [00:10<00:00,  3.02it/s]"
     ]
    },
    {
     "name": "stdout",
     "output_type": "stream",
     "text": [
      "                   all        513        809      0.808      0.914       0.91      0.812      0.808      0.913      0.909       0.75\n"
     ]
    },
    {
     "name": "stderr",
     "output_type": "stream",
     "text": [
      "\n"
     ]
    },
    {
     "name": "stdout",
     "output_type": "stream",
     "text": [
      "\n",
      "      Epoch    GPU_mem   box_loss   seg_loss   cls_loss   dfl_loss  Instances       Size\n"
     ]
    },
    {
     "name": "stderr",
     "output_type": "stream",
     "text": [
      "     39/200      4.57G      0.384       1.12     0.4432      0.953         17        640: 100%|██████████| 1525/1525 [10:45<00:00,  2.36it/s]\n",
      "                 Class     Images  Instances      Box(P          R      mAP50  mAP50-95)     Mask(P          R      mAP50  mAP50-95): 100%|██████████| 33/33 [00:10<00:00,  3.04it/s]"
     ]
    },
    {
     "name": "stdout",
     "output_type": "stream",
     "text": [
      "                   all        513        809      0.785      0.922       0.93      0.865      0.784      0.922      0.929      0.795\n"
     ]
    },
    {
     "name": "stderr",
     "output_type": "stream",
     "text": [
      "\n"
     ]
    },
    {
     "name": "stdout",
     "output_type": "stream",
     "text": [
      "\n",
      "      Epoch    GPU_mem   box_loss   seg_loss   cls_loss   dfl_loss  Instances       Size\n"
     ]
    },
    {
     "name": "stderr",
     "output_type": "stream",
     "text": [
      "     40/200      4.57G     0.3847      1.138     0.4492     0.9551         21        640: 100%|██████████| 1525/1525 [10:46<00:00,  2.36it/s]\n",
      "                 Class     Images  Instances      Box(P          R      mAP50  mAP50-95)     Mask(P          R      mAP50  mAP50-95): 100%|██████████| 33/33 [00:10<00:00,  3.04it/s]"
     ]
    },
    {
     "name": "stdout",
     "output_type": "stream",
     "text": [
      "                   all        513        809      0.789      0.927      0.916      0.826      0.789      0.927      0.916      0.765\n"
     ]
    },
    {
     "name": "stderr",
     "output_type": "stream",
     "text": [
      "\n"
     ]
    },
    {
     "name": "stdout",
     "output_type": "stream",
     "text": [
      "\n",
      "      Epoch    GPU_mem   box_loss   seg_loss   cls_loss   dfl_loss  Instances       Size\n"
     ]
    },
    {
     "name": "stderr",
     "output_type": "stream",
     "text": [
      "     41/200      4.59G     0.3835      1.126     0.4511     0.9559         27        640: 100%|██████████| 1525/1525 [10:46<00:00,  2.36it/s]\n",
      "                 Class     Images  Instances      Box(P          R      mAP50  mAP50-95)     Mask(P          R      mAP50  mAP50-95): 100%|██████████| 33/33 [00:10<00:00,  3.05it/s]"
     ]
    },
    {
     "name": "stdout",
     "output_type": "stream",
     "text": [
      "                   all        513        809      0.807       0.92      0.932      0.883      0.807       0.92      0.931       0.83\n"
     ]
    },
    {
     "name": "stderr",
     "output_type": "stream",
     "text": [
      "\n"
     ]
    },
    {
     "name": "stdout",
     "output_type": "stream",
     "text": [
      "\n",
      "      Epoch    GPU_mem   box_loss   seg_loss   cls_loss   dfl_loss  Instances       Size\n"
     ]
    },
    {
     "name": "stderr",
     "output_type": "stream",
     "text": [
      "     42/200      4.55G      0.385      1.123     0.4486     0.9528         22        640: 100%|██████████| 1525/1525 [10:47<00:00,  2.36it/s]\n",
      "                 Class     Images  Instances      Box(P          R      mAP50  mAP50-95)     Mask(P          R      mAP50  mAP50-95): 100%|██████████| 33/33 [00:10<00:00,  3.04it/s]"
     ]
    },
    {
     "name": "stdout",
     "output_type": "stream",
     "text": [
      "                   all        513        809      0.794      0.929      0.935      0.871      0.794      0.929      0.935      0.803\n"
     ]
    },
    {
     "name": "stderr",
     "output_type": "stream",
     "text": [
      "\n"
     ]
    },
    {
     "name": "stdout",
     "output_type": "stream",
     "text": [
      "\n",
      "      Epoch    GPU_mem   box_loss   seg_loss   cls_loss   dfl_loss  Instances       Size\n"
     ]
    },
    {
     "name": "stderr",
     "output_type": "stream",
     "text": [
      "     43/200      4.61G     0.3838      1.133     0.4459     0.9536         25        640: 100%|██████████| 1525/1525 [10:46<00:00,  2.36it/s]\n",
      "                 Class     Images  Instances      Box(P          R      mAP50  mAP50-95)     Mask(P          R      mAP50  mAP50-95): 100%|██████████| 33/33 [00:10<00:00,  3.04it/s]"
     ]
    },
    {
     "name": "stdout",
     "output_type": "stream",
     "text": [
      "                   all        513        809      0.836      0.876       0.93      0.871      0.813      0.846      0.888      0.797\n"
     ]
    },
    {
     "name": "stderr",
     "output_type": "stream",
     "text": [
      "\n"
     ]
    },
    {
     "name": "stdout",
     "output_type": "stream",
     "text": [
      "\n",
      "      Epoch    GPU_mem   box_loss   seg_loss   cls_loss   dfl_loss  Instances       Size\n"
     ]
    },
    {
     "name": "stderr",
     "output_type": "stream",
     "text": [
      "     44/200      4.59G     0.3829       1.11     0.4405     0.9514         19        640: 100%|██████████| 1525/1525 [10:46<00:00,  2.36it/s]\n",
      "                 Class     Images  Instances      Box(P          R      mAP50  mAP50-95)     Mask(P          R      mAP50  mAP50-95): 100%|██████████| 33/33 [00:10<00:00,  3.07it/s]"
     ]
    },
    {
     "name": "stdout",
     "output_type": "stream",
     "text": [
      "                   all        513        809      0.802      0.901      0.917      0.836       0.78      0.871      0.848      0.758\n"
     ]
    },
    {
     "name": "stderr",
     "output_type": "stream",
     "text": [
      "\n"
     ]
    },
    {
     "name": "stdout",
     "output_type": "stream",
     "text": [
      "\n",
      "      Epoch    GPU_mem   box_loss   seg_loss   cls_loss   dfl_loss  Instances       Size\n"
     ]
    },
    {
     "name": "stderr",
     "output_type": "stream",
     "text": [
      "     45/200      4.57G     0.3836      1.111     0.4396     0.9492         17        640: 100%|██████████| 1525/1525 [10:46<00:00,  2.36it/s]\n",
      "                 Class     Images  Instances      Box(P          R      mAP50  mAP50-95)     Mask(P          R      mAP50  mAP50-95): 100%|██████████| 33/33 [00:10<00:00,  3.03it/s]"
     ]
    },
    {
     "name": "stdout",
     "output_type": "stream",
     "text": [
      "                   all        513        809      0.817      0.903      0.937      0.893      0.817      0.903      0.937      0.814\n"
     ]
    },
    {
     "name": "stderr",
     "output_type": "stream",
     "text": [
      "\n"
     ]
    },
    {
     "name": "stdout",
     "output_type": "stream",
     "text": [
      "\n",
      "      Epoch    GPU_mem   box_loss   seg_loss   cls_loss   dfl_loss  Instances       Size\n"
     ]
    },
    {
     "name": "stderr",
     "output_type": "stream",
     "text": [
      "     46/200      4.61G     0.3789      1.119     0.4407     0.9469         23        640: 100%|██████████| 1525/1525 [10:46<00:00,  2.36it/s]\n",
      "                 Class     Images  Instances      Box(P          R      mAP50  mAP50-95)     Mask(P          R      mAP50  mAP50-95): 100%|██████████| 33/33 [00:10<00:00,  3.03it/s]"
     ]
    },
    {
     "name": "stdout",
     "output_type": "stream",
     "text": [
      "                   all        513        809      0.802      0.928      0.922      0.879      0.801      0.927      0.921      0.815\n"
     ]
    },
    {
     "name": "stderr",
     "output_type": "stream",
     "text": [
      "\n"
     ]
    },
    {
     "name": "stdout",
     "output_type": "stream",
     "text": [
      "\n",
      "      Epoch    GPU_mem   box_loss   seg_loss   cls_loss   dfl_loss  Instances       Size\n"
     ]
    },
    {
     "name": "stderr",
     "output_type": "stream",
     "text": [
      "     47/200      4.57G     0.3752      1.098     0.4363     0.9452         28        640: 100%|██████████| 1525/1525 [10:47<00:00,  2.36it/s]\n",
      "                 Class     Images  Instances      Box(P          R      mAP50  mAP50-95)     Mask(P          R      mAP50  mAP50-95): 100%|██████████| 33/33 [00:10<00:00,  3.02it/s]"
     ]
    },
    {
     "name": "stdout",
     "output_type": "stream",
     "text": [
      "                   all        513        809      0.812      0.933      0.911      0.846      0.811      0.932       0.91      0.777\n"
     ]
    },
    {
     "name": "stderr",
     "output_type": "stream",
     "text": [
      "\n"
     ]
    },
    {
     "name": "stdout",
     "output_type": "stream",
     "text": [
      "\n",
      "      Epoch    GPU_mem   box_loss   seg_loss   cls_loss   dfl_loss  Instances       Size\n"
     ]
    },
    {
     "name": "stderr",
     "output_type": "stream",
     "text": [
      "     48/200      4.63G     0.3796      1.108     0.4449     0.9501         34        640: 100%|██████████| 1525/1525 [10:46<00:00,  2.36it/s]\n",
      "                 Class     Images  Instances      Box(P          R      mAP50  mAP50-95)     Mask(P          R      mAP50  mAP50-95): 100%|██████████| 33/33 [00:10<00:00,  3.04it/s]"
     ]
    },
    {
     "name": "stdout",
     "output_type": "stream",
     "text": [
      "                   all        513        809      0.825      0.931      0.923      0.861      0.825      0.929      0.922      0.785\n"
     ]
    },
    {
     "name": "stderr",
     "output_type": "stream",
     "text": [
      "\n"
     ]
    },
    {
     "name": "stdout",
     "output_type": "stream",
     "text": [
      "\n",
      "      Epoch    GPU_mem   box_loss   seg_loss   cls_loss   dfl_loss  Instances       Size\n"
     ]
    },
    {
     "name": "stderr",
     "output_type": "stream",
     "text": [
      "     49/200      4.54G     0.3774      1.101     0.4351     0.9525         16        640: 100%|██████████| 1525/1525 [10:46<00:00,  2.36it/s]\n",
      "                 Class     Images  Instances      Box(P          R      mAP50  mAP50-95)     Mask(P          R      mAP50  mAP50-95): 100%|██████████| 33/33 [00:10<00:00,  3.03it/s]"
     ]
    },
    {
     "name": "stdout",
     "output_type": "stream",
     "text": [
      "                   all        513        809      0.769      0.956      0.913       0.86      0.768      0.955      0.912      0.795\n"
     ]
    },
    {
     "name": "stderr",
     "output_type": "stream",
     "text": [
      "\n"
     ]
    },
    {
     "name": "stdout",
     "output_type": "stream",
     "text": [
      "\n",
      "      Epoch    GPU_mem   box_loss   seg_loss   cls_loss   dfl_loss  Instances       Size\n"
     ]
    },
    {
     "name": "stderr",
     "output_type": "stream",
     "text": [
      "     50/200      4.54G     0.3787      1.119     0.4347      0.949         23        640: 100%|██████████| 1525/1525 [10:46<00:00,  2.36it/s]\n",
      "                 Class     Images  Instances      Box(P          R      mAP50  mAP50-95)     Mask(P          R      mAP50  mAP50-95): 100%|██████████| 33/33 [00:10<00:00,  3.04it/s]"
     ]
    },
    {
     "name": "stdout",
     "output_type": "stream",
     "text": [
      "                   all        513        809      0.813      0.924       0.92      0.865      0.813      0.923      0.919      0.789\n"
     ]
    },
    {
     "name": "stderr",
     "output_type": "stream",
     "text": [
      "\n"
     ]
    },
    {
     "name": "stdout",
     "output_type": "stream",
     "text": [
      "\n",
      "      Epoch    GPU_mem   box_loss   seg_loss   cls_loss   dfl_loss  Instances       Size\n"
     ]
    },
    {
     "name": "stderr",
     "output_type": "stream",
     "text": [
      "     51/200      4.55G     0.3799      1.126     0.4362       0.95         23        640: 100%|██████████| 1525/1525 [10:46<00:00,  2.36it/s]\n",
      "                 Class     Images  Instances      Box(P          R      mAP50  mAP50-95)     Mask(P          R      mAP50  mAP50-95): 100%|██████████| 33/33 [00:10<00:00,  3.02it/s]"
     ]
    },
    {
     "name": "stdout",
     "output_type": "stream",
     "text": [
      "                   all        513        809      0.807       0.91      0.907      0.853      0.808      0.911      0.906      0.779\n"
     ]
    },
    {
     "name": "stderr",
     "output_type": "stream",
     "text": [
      "\n"
     ]
    },
    {
     "name": "stdout",
     "output_type": "stream",
     "text": [
      "\n",
      "      Epoch    GPU_mem   box_loss   seg_loss   cls_loss   dfl_loss  Instances       Size\n"
     ]
    },
    {
     "name": "stderr",
     "output_type": "stream",
     "text": [
      "     52/200      4.58G     0.3792      1.102     0.4357     0.9486         21        640: 100%|██████████| 1525/1525 [10:46<00:00,  2.36it/s]\n",
      "                 Class     Images  Instances      Box(P          R      mAP50  mAP50-95)     Mask(P          R      mAP50  mAP50-95): 100%|██████████| 33/33 [00:10<00:00,  3.04it/s]"
     ]
    },
    {
     "name": "stdout",
     "output_type": "stream",
     "text": [
      "                   all        513        809      0.801      0.917      0.902      0.845      0.801      0.917      0.902      0.773\n"
     ]
    },
    {
     "name": "stderr",
     "output_type": "stream",
     "text": [
      "\n"
     ]
    },
    {
     "name": "stdout",
     "output_type": "stream",
     "text": [
      "\n",
      "      Epoch    GPU_mem   box_loss   seg_loss   cls_loss   dfl_loss  Instances       Size\n"
     ]
    },
    {
     "name": "stderr",
     "output_type": "stream",
     "text": [
      "     53/200      4.58G     0.3764      1.107     0.4354     0.9495         19        640: 100%|██████████| 1525/1525 [10:46<00:00,  2.36it/s]\n",
      "                 Class     Images  Instances      Box(P          R      mAP50  mAP50-95)     Mask(P          R      mAP50  mAP50-95): 100%|██████████| 33/33 [00:10<00:00,  3.03it/s]"
     ]
    },
    {
     "name": "stdout",
     "output_type": "stream",
     "text": [
      "                   all        513        809      0.825        0.9      0.919      0.878      0.825        0.9      0.919      0.803\n"
     ]
    },
    {
     "name": "stderr",
     "output_type": "stream",
     "text": [
      "\n"
     ]
    },
    {
     "name": "stdout",
     "output_type": "stream",
     "text": [
      "\n",
      "      Epoch    GPU_mem   box_loss   seg_loss   cls_loss   dfl_loss  Instances       Size\n"
     ]
    },
    {
     "name": "stderr",
     "output_type": "stream",
     "text": [
      "     54/200      4.58G     0.3778      1.117     0.4344     0.9467         14        640: 100%|██████████| 1525/1525 [10:46<00:00,  2.36it/s]\n",
      "                 Class     Images  Instances      Box(P          R      mAP50  mAP50-95)     Mask(P          R      mAP50  mAP50-95): 100%|██████████| 33/33 [00:10<00:00,  3.05it/s]"
     ]
    },
    {
     "name": "stdout",
     "output_type": "stream",
     "text": [
      "                   all        513        809      0.804      0.893      0.938      0.876      0.804      0.894      0.938      0.803\n"
     ]
    },
    {
     "name": "stderr",
     "output_type": "stream",
     "text": [
      "\n"
     ]
    },
    {
     "name": "stdout",
     "output_type": "stream",
     "text": [
      "\n",
      "      Epoch    GPU_mem   box_loss   seg_loss   cls_loss   dfl_loss  Instances       Size\n"
     ]
    },
    {
     "name": "stderr",
     "output_type": "stream",
     "text": [
      "     55/200       4.6G     0.3771      1.109     0.4352     0.9479         14        640: 100%|██████████| 1525/1525 [10:46<00:00,  2.36it/s]\n",
      "                 Class     Images  Instances      Box(P          R      mAP50  mAP50-95)     Mask(P          R      mAP50  mAP50-95): 100%|██████████| 33/33 [00:10<00:00,  3.04it/s]"
     ]
    },
    {
     "name": "stdout",
     "output_type": "stream",
     "text": [
      "                   all        513        809      0.796      0.905      0.929      0.891      0.797      0.905      0.929       0.82\n"
     ]
    },
    {
     "name": "stderr",
     "output_type": "stream",
     "text": [
      "\n"
     ]
    },
    {
     "name": "stdout",
     "output_type": "stream",
     "text": [
      "\n",
      "      Epoch    GPU_mem   box_loss   seg_loss   cls_loss   dfl_loss  Instances       Size\n"
     ]
    },
    {
     "name": "stderr",
     "output_type": "stream",
     "text": [
      "     56/200      4.62G      0.376      1.102     0.4343     0.9473         16        640: 100%|██████████| 1525/1525 [10:46<00:00,  2.36it/s]\n",
      "                 Class     Images  Instances      Box(P          R      mAP50  mAP50-95)     Mask(P          R      mAP50  mAP50-95): 100%|██████████| 33/33 [00:10<00:00,  3.04it/s]"
     ]
    },
    {
     "name": "stdout",
     "output_type": "stream",
     "text": [
      "                   all        513        809       0.79      0.908      0.924      0.883      0.791      0.908      0.924      0.819\n"
     ]
    },
    {
     "name": "stderr",
     "output_type": "stream",
     "text": [
      "\n"
     ]
    },
    {
     "name": "stdout",
     "output_type": "stream",
     "text": [
      "\n",
      "      Epoch    GPU_mem   box_loss   seg_loss   cls_loss   dfl_loss  Instances       Size\n"
     ]
    },
    {
     "name": "stderr",
     "output_type": "stream",
     "text": [
      "     57/200      4.57G     0.3788       1.12     0.4359     0.9509         15        640: 100%|██████████| 1525/1525 [11:03<00:00,  2.30it/s]\n",
      "                 Class     Images  Instances      Box(P          R      mAP50  mAP50-95)     Mask(P          R      mAP50  mAP50-95): 100%|██████████| 33/33 [00:13<00:00,  2.37it/s]"
     ]
    },
    {
     "name": "stdout",
     "output_type": "stream",
     "text": [
      "                   all        513        809      0.793      0.904      0.922      0.868      0.793      0.904      0.922      0.812\n"
     ]
    },
    {
     "name": "stderr",
     "output_type": "stream",
     "text": [
      "\n"
     ]
    },
    {
     "name": "stdout",
     "output_type": "stream",
     "text": [
      "\n",
      "      Epoch    GPU_mem   box_loss   seg_loss   cls_loss   dfl_loss  Instances       Size\n"
     ]
    },
    {
     "name": "stderr",
     "output_type": "stream",
     "text": [
      "     58/200      4.54G     0.3729      1.098     0.4317     0.9443         17        640: 100%|██████████| 1525/1525 [11:41<00:00,  2.17it/s]\n",
      "                 Class     Images  Instances      Box(P          R      mAP50  mAP50-95)     Mask(P          R      mAP50  mAP50-95): 100%|██████████| 33/33 [00:10<00:00,  3.05it/s]"
     ]
    },
    {
     "name": "stdout",
     "output_type": "stream",
     "text": [
      "                   all        513        809      0.791      0.911      0.928      0.887      0.792      0.912      0.928      0.829\n"
     ]
    },
    {
     "name": "stderr",
     "output_type": "stream",
     "text": [
      "\n"
     ]
    },
    {
     "name": "stdout",
     "output_type": "stream",
     "text": [
      "\n",
      "      Epoch    GPU_mem   box_loss   seg_loss   cls_loss   dfl_loss  Instances       Size\n"
     ]
    },
    {
     "name": "stderr",
     "output_type": "stream",
     "text": [
      "     59/200      4.57G     0.3783        1.1     0.4336     0.9497         25        640: 100%|██████████| 1525/1525 [10:45<00:00,  2.36it/s]\n",
      "                 Class     Images  Instances      Box(P          R      mAP50  mAP50-95)     Mask(P          R      mAP50  mAP50-95): 100%|██████████| 33/33 [00:10<00:00,  3.05it/s]"
     ]
    },
    {
     "name": "stdout",
     "output_type": "stream",
     "text": [
      "                   all        513        809      0.788      0.916      0.921      0.874      0.788      0.917      0.921      0.813\n"
     ]
    },
    {
     "name": "stderr",
     "output_type": "stream",
     "text": [
      "\n"
     ]
    },
    {
     "name": "stdout",
     "output_type": "stream",
     "text": [
      "\n",
      "      Epoch    GPU_mem   box_loss   seg_loss   cls_loss   dfl_loss  Instances       Size\n"
     ]
    },
    {
     "name": "stderr",
     "output_type": "stream",
     "text": [
      "     60/200      4.54G     0.3764      1.119     0.4355       0.95         22        640: 100%|██████████| 1525/1525 [10:45<00:00,  2.36it/s]\n",
      "                 Class     Images  Instances      Box(P          R      mAP50  mAP50-95)     Mask(P          R      mAP50  mAP50-95): 100%|██████████| 33/33 [00:10<00:00,  3.05it/s]"
     ]
    },
    {
     "name": "stdout",
     "output_type": "stream",
     "text": [
      "                   all        513        809      0.807      0.913       0.92      0.866      0.808      0.914       0.92      0.807\n"
     ]
    },
    {
     "name": "stderr",
     "output_type": "stream",
     "text": [
      "\n"
     ]
    },
    {
     "name": "stdout",
     "output_type": "stream",
     "text": [
      "\n",
      "      Epoch    GPU_mem   box_loss   seg_loss   cls_loss   dfl_loss  Instances       Size\n"
     ]
    },
    {
     "name": "stderr",
     "output_type": "stream",
     "text": [
      "     61/200      4.57G     0.3742      1.099     0.4319     0.9478         23        640: 100%|██████████| 1525/1525 [10:45<00:00,  2.36it/s]\n",
      "                 Class     Images  Instances      Box(P          R      mAP50  mAP50-95)     Mask(P          R      mAP50  mAP50-95): 100%|██████████| 33/33 [00:10<00:00,  3.05it/s]"
     ]
    },
    {
     "name": "stdout",
     "output_type": "stream",
     "text": [
      "                   all        513        809      0.784      0.912      0.922      0.868      0.785      0.913      0.922       0.81\n"
     ]
    },
    {
     "name": "stderr",
     "output_type": "stream",
     "text": [
      "\n"
     ]
    },
    {
     "name": "stdout",
     "output_type": "stream",
     "text": [
      "\n",
      "      Epoch    GPU_mem   box_loss   seg_loss   cls_loss   dfl_loss  Instances       Size\n"
     ]
    },
    {
     "name": "stderr",
     "output_type": "stream",
     "text": [
      "     62/200      4.58G     0.3718      1.095     0.4292     0.9457         14        640: 100%|██████████| 1525/1525 [10:46<00:00,  2.36it/s]\n",
      "                 Class     Images  Instances      Box(P          R      mAP50  mAP50-95)     Mask(P          R      mAP50  mAP50-95): 100%|██████████| 33/33 [00:10<00:00,  3.06it/s]"
     ]
    },
    {
     "name": "stdout",
     "output_type": "stream",
     "text": [
      "                   all        513        809       0.78      0.913      0.925      0.868      0.781      0.913      0.925      0.811\n"
     ]
    },
    {
     "name": "stderr",
     "output_type": "stream",
     "text": [
      "\n"
     ]
    },
    {
     "name": "stdout",
     "output_type": "stream",
     "text": [
      "\n",
      "      Epoch    GPU_mem   box_loss   seg_loss   cls_loss   dfl_loss  Instances       Size\n"
     ]
    },
    {
     "name": "stderr",
     "output_type": "stream",
     "text": [
      "     63/200      4.55G     0.3767      1.102     0.4316     0.9484         16        640: 100%|██████████| 1525/1525 [10:45<00:00,  2.36it/s]\n",
      "                 Class     Images  Instances      Box(P          R      mAP50  mAP50-95)     Mask(P          R      mAP50  mAP50-95): 100%|██████████| 33/33 [00:10<00:00,  3.03it/s]"
     ]
    },
    {
     "name": "stdout",
     "output_type": "stream",
     "text": [
      "                   all        513        809      0.782      0.918      0.913      0.858      0.782      0.919      0.913      0.806\n",
      "Stopping training early as no improvement observed in last 30 epochs. Best results observed at epoch 33, best model saved as best.pt.\n",
      "To update EarlyStopping(patience=30) pass a new patience value, i.e. `patience=300` or use `patience=0` to disable EarlyStopping.\n"
     ]
    },
    {
     "name": "stderr",
     "output_type": "stream",
     "text": [
      "\n"
     ]
    },
    {
     "name": "stdout",
     "output_type": "stream",
     "text": [
      "\n",
      "63 epochs completed in 11.573 hours.\n",
      "Optimizer stripped from runs\\segment\\train123\\weights\\last.pt, 54.8MB\n",
      "Optimizer stripped from runs\\segment\\train123\\weights\\best.pt, 54.8MB\n",
      "\n",
      "Validating runs\\segment\\train123\\weights\\best.pt...\n",
      "Ultralytics YOLOv8.0.230 🚀 Python-3.9.18 torch-1.9.1+cu111 CUDA:0 (NVIDIA GeForce RTX 2060 SUPER, 8192MiB)\n",
      "YOLOv8m-seg summary (fused): 245 layers, 27223542 parameters, 0 gradients, 110.0 GFLOPs\n"
     ]
    },
    {
     "name": "stderr",
     "output_type": "stream",
     "text": [
      "                 Class     Images  Instances      Box(P          R      mAP50  mAP50-95)     Mask(P          R      mAP50  mAP50-95): 100%|██████████| 33/33 [00:11<00:00,  2.83it/s]\n",
      "findfont: Font family 'DejaVu Sans' not found.\n",
      "findfont: Font family ['DejaVu Sans'] not found. Falling back to DejaVu Sans.\n",
      "findfont: Font family 'DejaVu Sans' not found.\n",
      "findfont: Font family ['DejaVu Sans'] not found. Falling back to DejaVu Sans.\n"
     ]
    },
    {
     "ename": "ValueError",
     "evalue": "Failed to find font DejaVu Sans:style=normal:variant=normal:weight=normal:stretch=normal:size=11.0, and fallback to the default font was disabled",
     "output_type": "error",
     "traceback": [
      "\u001b[1;31m---------------------------------------------------------------------------\u001b[0m",
      "\u001b[1;31mValueError\u001b[0m                                Traceback (most recent call last)",
      "Cell \u001b[1;32mIn[3], line 4\u001b[0m\n\u001b[0;32m      1\u001b[0m \u001b[38;5;28;01mfrom\u001b[39;00m \u001b[38;5;21;01multralytics\u001b[39;00m \u001b[38;5;28;01mimport\u001b[39;00m YOLO \u001b[38;5;28;01mas\u001b[39;00m yolo\n\u001b[0;32m      3\u001b[0m model \u001b[38;5;241m=\u001b[39m yolo(\u001b[38;5;124m'\u001b[39m\u001b[38;5;124mC:/Users/bcw60/OneDrive/Desktop/mydrive/die/runs/segment/train12/weights/last.pt\u001b[39m\u001b[38;5;124m'\u001b[39m)\n\u001b[1;32m----> 4\u001b[0m results \u001b[38;5;241m=\u001b[39m \u001b[43mmodel\u001b[49m\u001b[38;5;241;43m.\u001b[39;49m\u001b[43mtrain\u001b[49m\u001b[43m(\u001b[49m\u001b[43mresume\u001b[49m\u001b[38;5;241;43m=\u001b[39;49m\u001b[38;5;28;43;01mTrue\u001b[39;49;00m\u001b[43m)\u001b[49m\n",
      "File \u001b[1;32mc:\\Users\\bcw60\\anaconda3\\envs\\yolov8\\lib\\site-packages\\ultralytics\\engine\\model.py:356\u001b[0m, in \u001b[0;36mModel.train\u001b[1;34m(self, trainer, **kwargs)\u001b[0m\n\u001b[0;32m    354\u001b[0m     \u001b[38;5;28mself\u001b[39m\u001b[38;5;241m.\u001b[39mmodel \u001b[38;5;241m=\u001b[39m \u001b[38;5;28mself\u001b[39m\u001b[38;5;241m.\u001b[39mtrainer\u001b[38;5;241m.\u001b[39mmodel\n\u001b[0;32m    355\u001b[0m \u001b[38;5;28mself\u001b[39m\u001b[38;5;241m.\u001b[39mtrainer\u001b[38;5;241m.\u001b[39mhub_session \u001b[38;5;241m=\u001b[39m \u001b[38;5;28mself\u001b[39m\u001b[38;5;241m.\u001b[39msession  \u001b[38;5;66;03m# attach optional HUB session\u001b[39;00m\n\u001b[1;32m--> 356\u001b[0m \u001b[38;5;28;43mself\u001b[39;49m\u001b[38;5;241;43m.\u001b[39;49m\u001b[43mtrainer\u001b[49m\u001b[38;5;241;43m.\u001b[39;49m\u001b[43mtrain\u001b[49m\u001b[43m(\u001b[49m\u001b[43m)\u001b[49m\n\u001b[0;32m    357\u001b[0m \u001b[38;5;66;03m# Update model and cfg after training\u001b[39;00m\n\u001b[0;32m    358\u001b[0m \u001b[38;5;28;01mif\u001b[39;00m RANK \u001b[38;5;129;01min\u001b[39;00m (\u001b[38;5;241m-\u001b[39m\u001b[38;5;241m1\u001b[39m, \u001b[38;5;241m0\u001b[39m):\n",
      "File \u001b[1;32mc:\\Users\\bcw60\\anaconda3\\envs\\yolov8\\lib\\site-packages\\ultralytics\\engine\\trainer.py:190\u001b[0m, in \u001b[0;36mBaseTrainer.train\u001b[1;34m(self)\u001b[0m\n\u001b[0;32m    187\u001b[0m         ddp_cleanup(\u001b[38;5;28mself\u001b[39m, \u001b[38;5;28mstr\u001b[39m(file))\n\u001b[0;32m    189\u001b[0m \u001b[38;5;28;01melse\u001b[39;00m:\n\u001b[1;32m--> 190\u001b[0m     \u001b[38;5;28;43mself\u001b[39;49m\u001b[38;5;241;43m.\u001b[39;49m\u001b[43m_do_train\u001b[49m\u001b[43m(\u001b[49m\u001b[43mworld_size\u001b[49m\u001b[43m)\u001b[49m\n",
      "File \u001b[1;32mc:\\Users\\bcw60\\anaconda3\\envs\\yolov8\\lib\\site-packages\\ultralytics\\engine\\trainer.py:427\u001b[0m, in \u001b[0;36mBaseTrainer._do_train\u001b[1;34m(self, world_size)\u001b[0m\n\u001b[0;32m    423\u001b[0m \u001b[38;5;28;01mif\u001b[39;00m RANK \u001b[38;5;129;01min\u001b[39;00m (\u001b[38;5;241m-\u001b[39m\u001b[38;5;241m1\u001b[39m, \u001b[38;5;241m0\u001b[39m):\n\u001b[0;32m    424\u001b[0m     \u001b[38;5;66;03m# Do final val with best.pt\u001b[39;00m\n\u001b[0;32m    425\u001b[0m     LOGGER\u001b[38;5;241m.\u001b[39minfo(\u001b[38;5;124mf\u001b[39m\u001b[38;5;124m'\u001b[39m\u001b[38;5;130;01m\\n\u001b[39;00m\u001b[38;5;132;01m{\u001b[39;00mepoch\u001b[38;5;250m \u001b[39m\u001b[38;5;241m-\u001b[39m\u001b[38;5;250m \u001b[39m\u001b[38;5;28mself\u001b[39m\u001b[38;5;241m.\u001b[39mstart_epoch\u001b[38;5;250m \u001b[39m\u001b[38;5;241m+\u001b[39m\u001b[38;5;250m \u001b[39m\u001b[38;5;241m1\u001b[39m\u001b[38;5;132;01m}\u001b[39;00m\u001b[38;5;124m epochs completed in \u001b[39m\u001b[38;5;124m'\u001b[39m\n\u001b[0;32m    426\u001b[0m                 \u001b[38;5;124mf\u001b[39m\u001b[38;5;124m'\u001b[39m\u001b[38;5;132;01m{\u001b[39;00m(time\u001b[38;5;241m.\u001b[39mtime()\u001b[38;5;250m \u001b[39m\u001b[38;5;241m-\u001b[39m\u001b[38;5;250m \u001b[39m\u001b[38;5;28mself\u001b[39m\u001b[38;5;241m.\u001b[39mtrain_time_start)\u001b[38;5;250m \u001b[39m\u001b[38;5;241m/\u001b[39m\u001b[38;5;250m \u001b[39m\u001b[38;5;241m3600\u001b[39m\u001b[38;5;132;01m:\u001b[39;00m\u001b[38;5;124m.3f\u001b[39m\u001b[38;5;132;01m}\u001b[39;00m\u001b[38;5;124m hours.\u001b[39m\u001b[38;5;124m'\u001b[39m)\n\u001b[1;32m--> 427\u001b[0m     \u001b[38;5;28;43mself\u001b[39;49m\u001b[38;5;241;43m.\u001b[39;49m\u001b[43mfinal_eval\u001b[49m\u001b[43m(\u001b[49m\u001b[43m)\u001b[49m\n\u001b[0;32m    428\u001b[0m     \u001b[38;5;28;01mif\u001b[39;00m \u001b[38;5;28mself\u001b[39m\u001b[38;5;241m.\u001b[39margs\u001b[38;5;241m.\u001b[39mplots:\n\u001b[0;32m    429\u001b[0m         \u001b[38;5;28mself\u001b[39m\u001b[38;5;241m.\u001b[39mplot_metrics()\n",
      "File \u001b[1;32mc:\\Users\\bcw60\\anaconda3\\envs\\yolov8\\lib\\site-packages\\ultralytics\\engine\\trainer.py:576\u001b[0m, in \u001b[0;36mBaseTrainer.final_eval\u001b[1;34m(self)\u001b[0m\n\u001b[0;32m    574\u001b[0m LOGGER\u001b[38;5;241m.\u001b[39minfo(\u001b[38;5;124mf\u001b[39m\u001b[38;5;124m'\u001b[39m\u001b[38;5;130;01m\\n\u001b[39;00m\u001b[38;5;124mValidating \u001b[39m\u001b[38;5;132;01m{\u001b[39;00mf\u001b[38;5;132;01m}\u001b[39;00m\u001b[38;5;124m...\u001b[39m\u001b[38;5;124m'\u001b[39m)\n\u001b[0;32m    575\u001b[0m \u001b[38;5;28mself\u001b[39m\u001b[38;5;241m.\u001b[39mvalidator\u001b[38;5;241m.\u001b[39margs\u001b[38;5;241m.\u001b[39mplots \u001b[38;5;241m=\u001b[39m \u001b[38;5;28mself\u001b[39m\u001b[38;5;241m.\u001b[39margs\u001b[38;5;241m.\u001b[39mplots\n\u001b[1;32m--> 576\u001b[0m \u001b[38;5;28mself\u001b[39m\u001b[38;5;241m.\u001b[39mmetrics \u001b[38;5;241m=\u001b[39m \u001b[38;5;28;43mself\u001b[39;49m\u001b[38;5;241;43m.\u001b[39;49m\u001b[43mvalidator\u001b[49m\u001b[43m(\u001b[49m\u001b[43mmodel\u001b[49m\u001b[38;5;241;43m=\u001b[39;49m\u001b[43mf\u001b[49m\u001b[43m)\u001b[49m\n\u001b[0;32m    577\u001b[0m \u001b[38;5;28mself\u001b[39m\u001b[38;5;241m.\u001b[39mmetrics\u001b[38;5;241m.\u001b[39mpop(\u001b[38;5;124m'\u001b[39m\u001b[38;5;124mfitness\u001b[39m\u001b[38;5;124m'\u001b[39m, \u001b[38;5;28;01mNone\u001b[39;00m)\n\u001b[0;32m    578\u001b[0m \u001b[38;5;28mself\u001b[39m\u001b[38;5;241m.\u001b[39mrun_callbacks(\u001b[38;5;124m'\u001b[39m\u001b[38;5;124mon_fit_epoch_end\u001b[39m\u001b[38;5;124m'\u001b[39m)\n",
      "File \u001b[1;32mc:\\Users\\bcw60\\anaconda3\\envs\\yolov8\\lib\\site-packages\\torch\\autograd\\grad_mode.py:28\u001b[0m, in \u001b[0;36m_DecoratorContextManager.__call__.<locals>.decorate_context\u001b[1;34m(*args, **kwargs)\u001b[0m\n\u001b[0;32m     25\u001b[0m \u001b[38;5;129m@functools\u001b[39m\u001b[38;5;241m.\u001b[39mwraps(func)\n\u001b[0;32m     26\u001b[0m \u001b[38;5;28;01mdef\u001b[39;00m \u001b[38;5;21mdecorate_context\u001b[39m(\u001b[38;5;241m*\u001b[39margs, \u001b[38;5;241m*\u001b[39m\u001b[38;5;241m*\u001b[39mkwargs):\n\u001b[0;32m     27\u001b[0m     \u001b[38;5;28;01mwith\u001b[39;00m \u001b[38;5;28mself\u001b[39m\u001b[38;5;241m.\u001b[39m\u001b[38;5;18m__class__\u001b[39m():\n\u001b[1;32m---> 28\u001b[0m         \u001b[38;5;28;01mreturn\u001b[39;00m func(\u001b[38;5;241m*\u001b[39margs, \u001b[38;5;241m*\u001b[39m\u001b[38;5;241m*\u001b[39mkwargs)\n",
      "File \u001b[1;32mc:\\Users\\bcw60\\anaconda3\\envs\\yolov8\\lib\\site-packages\\ultralytics\\engine\\validator.py:186\u001b[0m, in \u001b[0;36mBaseValidator.__call__\u001b[1;34m(self, trainer, model)\u001b[0m\n\u001b[0;32m    183\u001b[0m         \u001b[38;5;28mself\u001b[39m\u001b[38;5;241m.\u001b[39mplot_predictions(batch, preds, batch_i)\n\u001b[0;32m    185\u001b[0m     \u001b[38;5;28mself\u001b[39m\u001b[38;5;241m.\u001b[39mrun_callbacks(\u001b[38;5;124m'\u001b[39m\u001b[38;5;124mon_val_batch_end\u001b[39m\u001b[38;5;124m'\u001b[39m)\n\u001b[1;32m--> 186\u001b[0m stats \u001b[38;5;241m=\u001b[39m \u001b[38;5;28;43mself\u001b[39;49m\u001b[38;5;241;43m.\u001b[39;49m\u001b[43mget_stats\u001b[49m\u001b[43m(\u001b[49m\u001b[43m)\u001b[49m\n\u001b[0;32m    187\u001b[0m \u001b[38;5;28mself\u001b[39m\u001b[38;5;241m.\u001b[39mcheck_stats(stats)\n\u001b[0;32m    188\u001b[0m \u001b[38;5;28mself\u001b[39m\u001b[38;5;241m.\u001b[39mspeed \u001b[38;5;241m=\u001b[39m \u001b[38;5;28mdict\u001b[39m(\u001b[38;5;28mzip\u001b[39m(\u001b[38;5;28mself\u001b[39m\u001b[38;5;241m.\u001b[39mspeed\u001b[38;5;241m.\u001b[39mkeys(), (x\u001b[38;5;241m.\u001b[39mt \u001b[38;5;241m/\u001b[39m \u001b[38;5;28mlen\u001b[39m(\u001b[38;5;28mself\u001b[39m\u001b[38;5;241m.\u001b[39mdataloader\u001b[38;5;241m.\u001b[39mdataset) \u001b[38;5;241m*\u001b[39m \u001b[38;5;241m1E3\u001b[39m \u001b[38;5;28;01mfor\u001b[39;00m x \u001b[38;5;129;01min\u001b[39;00m dt)))\n",
      "File \u001b[1;32mc:\\Users\\bcw60\\anaconda3\\envs\\yolov8\\lib\\site-packages\\ultralytics\\models\\yolo\\detect\\val.py:144\u001b[0m, in \u001b[0;36mDetectionValidator.get_stats\u001b[1;34m(self)\u001b[0m\n\u001b[0;32m    142\u001b[0m stats \u001b[38;5;241m=\u001b[39m [torch\u001b[38;5;241m.\u001b[39mcat(x, \u001b[38;5;241m0\u001b[39m)\u001b[38;5;241m.\u001b[39mcpu()\u001b[38;5;241m.\u001b[39mnumpy() \u001b[38;5;28;01mfor\u001b[39;00m x \u001b[38;5;129;01min\u001b[39;00m \u001b[38;5;28mzip\u001b[39m(\u001b[38;5;241m*\u001b[39m\u001b[38;5;28mself\u001b[39m\u001b[38;5;241m.\u001b[39mstats)]  \u001b[38;5;66;03m# to numpy\u001b[39;00m\n\u001b[0;32m    143\u001b[0m \u001b[38;5;28;01mif\u001b[39;00m \u001b[38;5;28mlen\u001b[39m(stats) \u001b[38;5;129;01mand\u001b[39;00m stats[\u001b[38;5;241m0\u001b[39m]\u001b[38;5;241m.\u001b[39many():\n\u001b[1;32m--> 144\u001b[0m     \u001b[38;5;28;43mself\u001b[39;49m\u001b[38;5;241;43m.\u001b[39;49m\u001b[43mmetrics\u001b[49m\u001b[38;5;241;43m.\u001b[39;49m\u001b[43mprocess\u001b[49m\u001b[43m(\u001b[49m\u001b[38;5;241;43m*\u001b[39;49m\u001b[43mstats\u001b[49m\u001b[43m)\u001b[49m\n\u001b[0;32m    145\u001b[0m \u001b[38;5;28mself\u001b[39m\u001b[38;5;241m.\u001b[39mnt_per_class \u001b[38;5;241m=\u001b[39m np\u001b[38;5;241m.\u001b[39mbincount(stats[\u001b[38;5;241m-\u001b[39m\u001b[38;5;241m1\u001b[39m]\u001b[38;5;241m.\u001b[39mastype(\u001b[38;5;28mint\u001b[39m), minlength\u001b[38;5;241m=\u001b[39m\u001b[38;5;28mself\u001b[39m\u001b[38;5;241m.\u001b[39mnc)  \u001b[38;5;66;03m# number of targets per class\u001b[39;00m\n\u001b[0;32m    146\u001b[0m \u001b[38;5;28;01mreturn\u001b[39;00m \u001b[38;5;28mself\u001b[39m\u001b[38;5;241m.\u001b[39mmetrics\u001b[38;5;241m.\u001b[39mresults_dict\n",
      "File \u001b[1;32mc:\\Users\\bcw60\\anaconda3\\envs\\yolov8\\lib\\site-packages\\ultralytics\\utils\\metrics.py:829\u001b[0m, in \u001b[0;36mSegmentMetrics.process\u001b[1;34m(self, tp_b, tp_m, conf, pred_cls, target_cls)\u001b[0m\n\u001b[0;32m    817\u001b[0m \u001b[38;5;28;01mdef\u001b[39;00m \u001b[38;5;21mprocess\u001b[39m(\u001b[38;5;28mself\u001b[39m, tp_b, tp_m, conf, pred_cls, target_cls):\n\u001b[0;32m    818\u001b[0m \u001b[38;5;250m    \u001b[39m\u001b[38;5;124;03m\"\"\"\u001b[39;00m\n\u001b[0;32m    819\u001b[0m \u001b[38;5;124;03m    Processes the detection and segmentation metrics over the given set of predictions.\u001b[39;00m\n\u001b[0;32m    820\u001b[0m \n\u001b[1;32m   (...)\u001b[0m\n\u001b[0;32m    826\u001b[0m \u001b[38;5;124;03m        target_cls (list): List of target classes.\u001b[39;00m\n\u001b[0;32m    827\u001b[0m \u001b[38;5;124;03m    \"\"\"\u001b[39;00m\n\u001b[1;32m--> 829\u001b[0m     results_mask \u001b[38;5;241m=\u001b[39m \u001b[43map_per_class\u001b[49m\u001b[43m(\u001b[49m\u001b[43mtp_m\u001b[49m\u001b[43m,\u001b[49m\n\u001b[0;32m    830\u001b[0m \u001b[43m                                \u001b[49m\u001b[43mconf\u001b[49m\u001b[43m,\u001b[49m\n\u001b[0;32m    831\u001b[0m \u001b[43m                                \u001b[49m\u001b[43mpred_cls\u001b[49m\u001b[43m,\u001b[49m\n\u001b[0;32m    832\u001b[0m \u001b[43m                                \u001b[49m\u001b[43mtarget_cls\u001b[49m\u001b[43m,\u001b[49m\n\u001b[0;32m    833\u001b[0m \u001b[43m                                \u001b[49m\u001b[43mplot\u001b[49m\u001b[38;5;241;43m=\u001b[39;49m\u001b[38;5;28;43mself\u001b[39;49m\u001b[38;5;241;43m.\u001b[39;49m\u001b[43mplot\u001b[49m\u001b[43m,\u001b[49m\n\u001b[0;32m    834\u001b[0m \u001b[43m                                \u001b[49m\u001b[43mon_plot\u001b[49m\u001b[38;5;241;43m=\u001b[39;49m\u001b[38;5;28;43mself\u001b[39;49m\u001b[38;5;241;43m.\u001b[39;49m\u001b[43mon_plot\u001b[49m\u001b[43m,\u001b[49m\n\u001b[0;32m    835\u001b[0m \u001b[43m                                \u001b[49m\u001b[43msave_dir\u001b[49m\u001b[38;5;241;43m=\u001b[39;49m\u001b[38;5;28;43mself\u001b[39;49m\u001b[38;5;241;43m.\u001b[39;49m\u001b[43msave_dir\u001b[49m\u001b[43m,\u001b[49m\n\u001b[0;32m    836\u001b[0m \u001b[43m                                \u001b[49m\u001b[43mnames\u001b[49m\u001b[38;5;241;43m=\u001b[39;49m\u001b[38;5;28;43mself\u001b[39;49m\u001b[38;5;241;43m.\u001b[39;49m\u001b[43mnames\u001b[49m\u001b[43m,\u001b[49m\n\u001b[0;32m    837\u001b[0m \u001b[43m                                \u001b[49m\u001b[43mprefix\u001b[49m\u001b[38;5;241;43m=\u001b[39;49m\u001b[38;5;124;43m'\u001b[39;49m\u001b[38;5;124;43mMask\u001b[39;49m\u001b[38;5;124;43m'\u001b[39;49m\u001b[43m)\u001b[49m[\u001b[38;5;241m2\u001b[39m:]\n\u001b[0;32m    838\u001b[0m     \u001b[38;5;28mself\u001b[39m\u001b[38;5;241m.\u001b[39mseg\u001b[38;5;241m.\u001b[39mnc \u001b[38;5;241m=\u001b[39m \u001b[38;5;28mlen\u001b[39m(\u001b[38;5;28mself\u001b[39m\u001b[38;5;241m.\u001b[39mnames)\n\u001b[0;32m    839\u001b[0m     \u001b[38;5;28mself\u001b[39m\u001b[38;5;241m.\u001b[39mseg\u001b[38;5;241m.\u001b[39mupdate(results_mask)\n",
      "File \u001b[1;32mc:\\Users\\bcw60\\anaconda3\\envs\\yolov8\\lib\\site-packages\\ultralytics\\utils\\metrics.py:508\u001b[0m, in \u001b[0;36map_per_class\u001b[1;34m(tp, conf, pred_cls, target_cls, plot, on_plot, save_dir, names, eps, prefix)\u001b[0m\n\u001b[0;32m    506\u001b[0m names \u001b[38;5;241m=\u001b[39m \u001b[38;5;28mdict\u001b[39m(\u001b[38;5;28menumerate\u001b[39m(names))  \u001b[38;5;66;03m# to dict\u001b[39;00m\n\u001b[0;32m    507\u001b[0m \u001b[38;5;28;01mif\u001b[39;00m plot:\n\u001b[1;32m--> 508\u001b[0m     \u001b[43mplot_pr_curve\u001b[49m\u001b[43m(\u001b[49m\u001b[43mx\u001b[49m\u001b[43m,\u001b[49m\u001b[43m \u001b[49m\u001b[43mprec_values\u001b[49m\u001b[43m,\u001b[49m\u001b[43m \u001b[49m\u001b[43map\u001b[49m\u001b[43m,\u001b[49m\u001b[43m \u001b[49m\u001b[43msave_dir\u001b[49m\u001b[43m \u001b[49m\u001b[38;5;241;43m/\u001b[39;49m\u001b[43m \u001b[49m\u001b[38;5;124;43mf\u001b[39;49m\u001b[38;5;124;43m'\u001b[39;49m\u001b[38;5;132;43;01m{\u001b[39;49;00m\u001b[43mprefix\u001b[49m\u001b[38;5;132;43;01m}\u001b[39;49;00m\u001b[38;5;124;43mPR_curve.png\u001b[39;49m\u001b[38;5;124;43m'\u001b[39;49m\u001b[43m,\u001b[49m\u001b[43m \u001b[49m\u001b[43mnames\u001b[49m\u001b[43m,\u001b[49m\u001b[43m \u001b[49m\u001b[43mon_plot\u001b[49m\u001b[38;5;241;43m=\u001b[39;49m\u001b[43mon_plot\u001b[49m\u001b[43m)\u001b[49m\n\u001b[0;32m    509\u001b[0m     plot_mc_curve(x, f1_curve, save_dir \u001b[38;5;241m/\u001b[39m \u001b[38;5;124mf\u001b[39m\u001b[38;5;124m'\u001b[39m\u001b[38;5;132;01m{\u001b[39;00mprefix\u001b[38;5;132;01m}\u001b[39;00m\u001b[38;5;124mF1_curve.png\u001b[39m\u001b[38;5;124m'\u001b[39m, names, ylabel\u001b[38;5;241m=\u001b[39m\u001b[38;5;124m'\u001b[39m\u001b[38;5;124mF1\u001b[39m\u001b[38;5;124m'\u001b[39m, on_plot\u001b[38;5;241m=\u001b[39mon_plot)\n\u001b[0;32m    510\u001b[0m     plot_mc_curve(x, p_curve, save_dir \u001b[38;5;241m/\u001b[39m \u001b[38;5;124mf\u001b[39m\u001b[38;5;124m'\u001b[39m\u001b[38;5;132;01m{\u001b[39;00mprefix\u001b[38;5;132;01m}\u001b[39;00m\u001b[38;5;124mP_curve.png\u001b[39m\u001b[38;5;124m'\u001b[39m, names, ylabel\u001b[38;5;241m=\u001b[39m\u001b[38;5;124m'\u001b[39m\u001b[38;5;124mPrecision\u001b[39m\u001b[38;5;124m'\u001b[39m, on_plot\u001b[38;5;241m=\u001b[39mon_plot)\n",
      "File \u001b[1;32mc:\\Users\\bcw60\\anaconda3\\envs\\yolov8\\lib\\site-packages\\ultralytics\\utils\\__init__.py:215\u001b[0m, in \u001b[0;36mplt_settings.<locals>.decorator.<locals>.wrapper\u001b[1;34m(*args, **kwargs)\u001b[0m\n\u001b[0;32m    212\u001b[0m     plt\u001b[38;5;241m.\u001b[39mswitch_backend(backend)\n\u001b[0;32m    214\u001b[0m \u001b[38;5;28;01mwith\u001b[39;00m plt\u001b[38;5;241m.\u001b[39mrc_context(rcparams):\n\u001b[1;32m--> 215\u001b[0m     result \u001b[38;5;241m=\u001b[39m func(\u001b[38;5;241m*\u001b[39margs, \u001b[38;5;241m*\u001b[39m\u001b[38;5;241m*\u001b[39mkwargs)\n\u001b[0;32m    217\u001b[0m \u001b[38;5;28;01mif\u001b[39;00m backend \u001b[38;5;241m!=\u001b[39m original_backend:\n\u001b[0;32m    218\u001b[0m     plt\u001b[38;5;241m.\u001b[39mclose(\u001b[38;5;124m'\u001b[39m\u001b[38;5;124mall\u001b[39m\u001b[38;5;124m'\u001b[39m)\n",
      "File \u001b[1;32mc:\\Users\\bcw60\\anaconda3\\envs\\yolov8\\lib\\site-packages\\ultralytics\\utils\\metrics.py:358\u001b[0m, in \u001b[0;36mplot_pr_curve\u001b[1;34m(px, py, ap, save_dir, names, on_plot)\u001b[0m\n\u001b[0;32m    356\u001b[0m ax\u001b[38;5;241m.\u001b[39mlegend(bbox_to_anchor\u001b[38;5;241m=\u001b[39m(\u001b[38;5;241m1.04\u001b[39m, \u001b[38;5;241m1\u001b[39m), loc\u001b[38;5;241m=\u001b[39m\u001b[38;5;124m'\u001b[39m\u001b[38;5;124mupper left\u001b[39m\u001b[38;5;124m'\u001b[39m)\n\u001b[0;32m    357\u001b[0m ax\u001b[38;5;241m.\u001b[39mset_title(\u001b[38;5;124m'\u001b[39m\u001b[38;5;124mPrecision-Recall Curve\u001b[39m\u001b[38;5;124m'\u001b[39m)\n\u001b[1;32m--> 358\u001b[0m \u001b[43mfig\u001b[49m\u001b[38;5;241;43m.\u001b[39;49m\u001b[43msavefig\u001b[49m\u001b[43m(\u001b[49m\u001b[43msave_dir\u001b[49m\u001b[43m,\u001b[49m\u001b[43m \u001b[49m\u001b[43mdpi\u001b[49m\u001b[38;5;241;43m=\u001b[39;49m\u001b[38;5;241;43m250\u001b[39;49m\u001b[43m)\u001b[49m\n\u001b[0;32m    359\u001b[0m plt\u001b[38;5;241m.\u001b[39mclose(fig)\n\u001b[0;32m    360\u001b[0m \u001b[38;5;28;01mif\u001b[39;00m on_plot:\n",
      "File \u001b[1;32mc:\\Users\\bcw60\\anaconda3\\envs\\yolov8\\lib\\site-packages\\matplotlib\\figure.py:3390\u001b[0m, in \u001b[0;36mFigure.savefig\u001b[1;34m(self, fname, transparent, **kwargs)\u001b[0m\n\u001b[0;32m   3388\u001b[0m     \u001b[38;5;28;01mfor\u001b[39;00m ax \u001b[38;5;129;01min\u001b[39;00m \u001b[38;5;28mself\u001b[39m\u001b[38;5;241m.\u001b[39maxes:\n\u001b[0;32m   3389\u001b[0m         _recursively_make_axes_transparent(stack, ax)\n\u001b[1;32m-> 3390\u001b[0m \u001b[38;5;28mself\u001b[39m\u001b[38;5;241m.\u001b[39mcanvas\u001b[38;5;241m.\u001b[39mprint_figure(fname, \u001b[38;5;241m*\u001b[39m\u001b[38;5;241m*\u001b[39mkwargs)\n",
      "File \u001b[1;32mc:\\Users\\bcw60\\anaconda3\\envs\\yolov8\\lib\\site-packages\\matplotlib\\backend_bases.py:2158\u001b[0m, in \u001b[0;36mFigureCanvasBase.print_figure\u001b[1;34m(self, filename, dpi, facecolor, edgecolor, orientation, format, bbox_inches, pad_inches, bbox_extra_artists, backend, **kwargs)\u001b[0m\n\u001b[0;32m   2155\u001b[0m     \u001b[38;5;66;03m# we do this instead of `self.figure.draw_without_rendering`\u001b[39;00m\n\u001b[0;32m   2156\u001b[0m     \u001b[38;5;66;03m# so that we can inject the orientation\u001b[39;00m\n\u001b[0;32m   2157\u001b[0m     \u001b[38;5;28;01mwith\u001b[39;00m \u001b[38;5;28mgetattr\u001b[39m(renderer, \u001b[38;5;124m\"\u001b[39m\u001b[38;5;124m_draw_disabled\u001b[39m\u001b[38;5;124m\"\u001b[39m, nullcontext)():\n\u001b[1;32m-> 2158\u001b[0m         \u001b[38;5;28;43mself\u001b[39;49m\u001b[38;5;241;43m.\u001b[39;49m\u001b[43mfigure\u001b[49m\u001b[38;5;241;43m.\u001b[39;49m\u001b[43mdraw\u001b[49m\u001b[43m(\u001b[49m\u001b[43mrenderer\u001b[49m\u001b[43m)\u001b[49m\n\u001b[0;32m   2159\u001b[0m \u001b[38;5;28;01mif\u001b[39;00m bbox_inches:\n\u001b[0;32m   2160\u001b[0m     \u001b[38;5;28;01mif\u001b[39;00m bbox_inches \u001b[38;5;241m==\u001b[39m \u001b[38;5;124m\"\u001b[39m\u001b[38;5;124mtight\u001b[39m\u001b[38;5;124m\"\u001b[39m:\n",
      "File \u001b[1;32mc:\\Users\\bcw60\\anaconda3\\envs\\yolov8\\lib\\site-packages\\matplotlib\\artist.py:95\u001b[0m, in \u001b[0;36m_finalize_rasterization.<locals>.draw_wrapper\u001b[1;34m(artist, renderer, *args, **kwargs)\u001b[0m\n\u001b[0;32m     93\u001b[0m \u001b[38;5;129m@wraps\u001b[39m(draw)\n\u001b[0;32m     94\u001b[0m \u001b[38;5;28;01mdef\u001b[39;00m \u001b[38;5;21mdraw_wrapper\u001b[39m(artist, renderer, \u001b[38;5;241m*\u001b[39margs, \u001b[38;5;241m*\u001b[39m\u001b[38;5;241m*\u001b[39mkwargs):\n\u001b[1;32m---> 95\u001b[0m     result \u001b[38;5;241m=\u001b[39m draw(artist, renderer, \u001b[38;5;241m*\u001b[39margs, \u001b[38;5;241m*\u001b[39m\u001b[38;5;241m*\u001b[39mkwargs)\n\u001b[0;32m     96\u001b[0m     \u001b[38;5;28;01mif\u001b[39;00m renderer\u001b[38;5;241m.\u001b[39m_rasterizing:\n\u001b[0;32m     97\u001b[0m         renderer\u001b[38;5;241m.\u001b[39mstop_rasterizing()\n",
      "File \u001b[1;32mc:\\Users\\bcw60\\anaconda3\\envs\\yolov8\\lib\\site-packages\\matplotlib\\artist.py:72\u001b[0m, in \u001b[0;36mallow_rasterization.<locals>.draw_wrapper\u001b[1;34m(artist, renderer)\u001b[0m\n\u001b[0;32m     69\u001b[0m     \u001b[38;5;28;01mif\u001b[39;00m artist\u001b[38;5;241m.\u001b[39mget_agg_filter() \u001b[38;5;129;01mis\u001b[39;00m \u001b[38;5;129;01mnot\u001b[39;00m \u001b[38;5;28;01mNone\u001b[39;00m:\n\u001b[0;32m     70\u001b[0m         renderer\u001b[38;5;241m.\u001b[39mstart_filter()\n\u001b[1;32m---> 72\u001b[0m     \u001b[38;5;28;01mreturn\u001b[39;00m \u001b[43mdraw\u001b[49m\u001b[43m(\u001b[49m\u001b[43martist\u001b[49m\u001b[43m,\u001b[49m\u001b[43m \u001b[49m\u001b[43mrenderer\u001b[49m\u001b[43m)\u001b[49m\n\u001b[0;32m     73\u001b[0m \u001b[38;5;28;01mfinally\u001b[39;00m:\n\u001b[0;32m     74\u001b[0m     \u001b[38;5;28;01mif\u001b[39;00m artist\u001b[38;5;241m.\u001b[39mget_agg_filter() \u001b[38;5;129;01mis\u001b[39;00m \u001b[38;5;129;01mnot\u001b[39;00m \u001b[38;5;28;01mNone\u001b[39;00m:\n",
      "File \u001b[1;32mc:\\Users\\bcw60\\anaconda3\\envs\\yolov8\\lib\\site-packages\\matplotlib\\figure.py:3154\u001b[0m, in \u001b[0;36mFigure.draw\u001b[1;34m(self, renderer)\u001b[0m\n\u001b[0;32m   3151\u001b[0m         \u001b[38;5;66;03m# ValueError can occur when resizing a window.\u001b[39;00m\n\u001b[0;32m   3153\u001b[0m \u001b[38;5;28mself\u001b[39m\u001b[38;5;241m.\u001b[39mpatch\u001b[38;5;241m.\u001b[39mdraw(renderer)\n\u001b[1;32m-> 3154\u001b[0m \u001b[43mmimage\u001b[49m\u001b[38;5;241;43m.\u001b[39;49m\u001b[43m_draw_list_compositing_images\u001b[49m\u001b[43m(\u001b[49m\n\u001b[0;32m   3155\u001b[0m \u001b[43m    \u001b[49m\u001b[43mrenderer\u001b[49m\u001b[43m,\u001b[49m\u001b[43m \u001b[49m\u001b[38;5;28;43mself\u001b[39;49m\u001b[43m,\u001b[49m\u001b[43m \u001b[49m\u001b[43martists\u001b[49m\u001b[43m,\u001b[49m\u001b[43m \u001b[49m\u001b[38;5;28;43mself\u001b[39;49m\u001b[38;5;241;43m.\u001b[39;49m\u001b[43msuppressComposite\u001b[49m\u001b[43m)\u001b[49m\n\u001b[0;32m   3157\u001b[0m \u001b[38;5;28;01mfor\u001b[39;00m sfig \u001b[38;5;129;01min\u001b[39;00m \u001b[38;5;28mself\u001b[39m\u001b[38;5;241m.\u001b[39msubfigs:\n\u001b[0;32m   3158\u001b[0m     sfig\u001b[38;5;241m.\u001b[39mdraw(renderer)\n",
      "File \u001b[1;32mc:\\Users\\bcw60\\anaconda3\\envs\\yolov8\\lib\\site-packages\\matplotlib\\image.py:132\u001b[0m, in \u001b[0;36m_draw_list_compositing_images\u001b[1;34m(renderer, parent, artists, suppress_composite)\u001b[0m\n\u001b[0;32m    130\u001b[0m \u001b[38;5;28;01mif\u001b[39;00m not_composite \u001b[38;5;129;01mor\u001b[39;00m \u001b[38;5;129;01mnot\u001b[39;00m has_images:\n\u001b[0;32m    131\u001b[0m     \u001b[38;5;28;01mfor\u001b[39;00m a \u001b[38;5;129;01min\u001b[39;00m artists:\n\u001b[1;32m--> 132\u001b[0m         \u001b[43ma\u001b[49m\u001b[38;5;241;43m.\u001b[39;49m\u001b[43mdraw\u001b[49m\u001b[43m(\u001b[49m\u001b[43mrenderer\u001b[49m\u001b[43m)\u001b[49m\n\u001b[0;32m    133\u001b[0m \u001b[38;5;28;01melse\u001b[39;00m:\n\u001b[0;32m    134\u001b[0m     \u001b[38;5;66;03m# Composite any adjacent images together\u001b[39;00m\n\u001b[0;32m    135\u001b[0m     image_group \u001b[38;5;241m=\u001b[39m []\n",
      "File \u001b[1;32mc:\\Users\\bcw60\\anaconda3\\envs\\yolov8\\lib\\site-packages\\matplotlib\\artist.py:72\u001b[0m, in \u001b[0;36mallow_rasterization.<locals>.draw_wrapper\u001b[1;34m(artist, renderer)\u001b[0m\n\u001b[0;32m     69\u001b[0m     \u001b[38;5;28;01mif\u001b[39;00m artist\u001b[38;5;241m.\u001b[39mget_agg_filter() \u001b[38;5;129;01mis\u001b[39;00m \u001b[38;5;129;01mnot\u001b[39;00m \u001b[38;5;28;01mNone\u001b[39;00m:\n\u001b[0;32m     70\u001b[0m         renderer\u001b[38;5;241m.\u001b[39mstart_filter()\n\u001b[1;32m---> 72\u001b[0m     \u001b[38;5;28;01mreturn\u001b[39;00m \u001b[43mdraw\u001b[49m\u001b[43m(\u001b[49m\u001b[43martist\u001b[49m\u001b[43m,\u001b[49m\u001b[43m \u001b[49m\u001b[43mrenderer\u001b[49m\u001b[43m)\u001b[49m\n\u001b[0;32m     73\u001b[0m \u001b[38;5;28;01mfinally\u001b[39;00m:\n\u001b[0;32m     74\u001b[0m     \u001b[38;5;28;01mif\u001b[39;00m artist\u001b[38;5;241m.\u001b[39mget_agg_filter() \u001b[38;5;129;01mis\u001b[39;00m \u001b[38;5;129;01mnot\u001b[39;00m \u001b[38;5;28;01mNone\u001b[39;00m:\n",
      "File \u001b[1;32mc:\\Users\\bcw60\\anaconda3\\envs\\yolov8\\lib\\site-packages\\matplotlib\\axes\\_base.py:3034\u001b[0m, in \u001b[0;36m_AxesBase.draw\u001b[1;34m(self, renderer)\u001b[0m\n\u001b[0;32m   3031\u001b[0m     \u001b[38;5;28;01mfor\u001b[39;00m spine \u001b[38;5;129;01min\u001b[39;00m \u001b[38;5;28mself\u001b[39m\u001b[38;5;241m.\u001b[39mspines\u001b[38;5;241m.\u001b[39mvalues():\n\u001b[0;32m   3032\u001b[0m         artists\u001b[38;5;241m.\u001b[39mremove(spine)\n\u001b[1;32m-> 3034\u001b[0m \u001b[38;5;28;43mself\u001b[39;49m\u001b[38;5;241;43m.\u001b[39;49m\u001b[43m_update_title_position\u001b[49m\u001b[43m(\u001b[49m\u001b[43mrenderer\u001b[49m\u001b[43m)\u001b[49m\n\u001b[0;32m   3036\u001b[0m \u001b[38;5;28;01mif\u001b[39;00m \u001b[38;5;129;01mnot\u001b[39;00m \u001b[38;5;28mself\u001b[39m\u001b[38;5;241m.\u001b[39maxison:\n\u001b[0;32m   3037\u001b[0m     \u001b[38;5;28;01mfor\u001b[39;00m _axis \u001b[38;5;129;01min\u001b[39;00m \u001b[38;5;28mself\u001b[39m\u001b[38;5;241m.\u001b[39m_axis_map\u001b[38;5;241m.\u001b[39mvalues():\n",
      "File \u001b[1;32mc:\\Users\\bcw60\\anaconda3\\envs\\yolov8\\lib\\site-packages\\matplotlib\\axes\\_base.py:2978\u001b[0m, in \u001b[0;36m_AxesBase._update_title_position\u001b[1;34m(self, renderer)\u001b[0m\n\u001b[0;32m   2976\u001b[0m top \u001b[38;5;241m=\u001b[39m \u001b[38;5;28mmax\u001b[39m(top, bb\u001b[38;5;241m.\u001b[39mymax)\n\u001b[0;32m   2977\u001b[0m \u001b[38;5;28;01mif\u001b[39;00m title\u001b[38;5;241m.\u001b[39mget_text():\n\u001b[1;32m-> 2978\u001b[0m     \u001b[43max\u001b[49m\u001b[38;5;241;43m.\u001b[39;49m\u001b[43myaxis\u001b[49m\u001b[38;5;241;43m.\u001b[39;49m\u001b[43mget_tightbbox\u001b[49m\u001b[43m(\u001b[49m\u001b[43mrenderer\u001b[49m\u001b[43m)\u001b[49m  \u001b[38;5;66;03m# update offsetText\u001b[39;00m\n\u001b[0;32m   2979\u001b[0m     \u001b[38;5;28;01mif\u001b[39;00m ax\u001b[38;5;241m.\u001b[39myaxis\u001b[38;5;241m.\u001b[39moffsetText\u001b[38;5;241m.\u001b[39mget_text():\n\u001b[0;32m   2980\u001b[0m         bb \u001b[38;5;241m=\u001b[39m ax\u001b[38;5;241m.\u001b[39myaxis\u001b[38;5;241m.\u001b[39moffsetText\u001b[38;5;241m.\u001b[39mget_tightbbox(renderer)\n",
      "File \u001b[1;32mc:\\Users\\bcw60\\anaconda3\\envs\\yolov8\\lib\\site-packages\\matplotlib\\axis.py:1336\u001b[0m, in \u001b[0;36mAxis.get_tightbbox\u001b[1;34m(self, renderer, for_layout_only)\u001b[0m\n\u001b[0;32m   1333\u001b[0m     renderer \u001b[38;5;241m=\u001b[39m \u001b[38;5;28mself\u001b[39m\u001b[38;5;241m.\u001b[39mfigure\u001b[38;5;241m.\u001b[39m_get_renderer()\n\u001b[0;32m   1334\u001b[0m ticks_to_draw \u001b[38;5;241m=\u001b[39m \u001b[38;5;28mself\u001b[39m\u001b[38;5;241m.\u001b[39m_update_ticks()\n\u001b[1;32m-> 1336\u001b[0m \u001b[38;5;28;43mself\u001b[39;49m\u001b[38;5;241;43m.\u001b[39;49m\u001b[43m_update_label_position\u001b[49m\u001b[43m(\u001b[49m\u001b[43mrenderer\u001b[49m\u001b[43m)\u001b[49m\n\u001b[0;32m   1338\u001b[0m \u001b[38;5;66;03m# go back to just this axis's tick labels\u001b[39;00m\n\u001b[0;32m   1339\u001b[0m tlb1, tlb2 \u001b[38;5;241m=\u001b[39m \u001b[38;5;28mself\u001b[39m\u001b[38;5;241m.\u001b[39m_get_ticklabel_bboxes(ticks_to_draw, renderer)\n",
      "File \u001b[1;32mc:\\Users\\bcw60\\anaconda3\\envs\\yolov8\\lib\\site-packages\\matplotlib\\axis.py:2609\u001b[0m, in \u001b[0;36mYAxis._update_label_position\u001b[1;34m(self, renderer)\u001b[0m\n\u001b[0;32m   2605\u001b[0m     \u001b[38;5;28;01mreturn\u001b[39;00m\n\u001b[0;32m   2607\u001b[0m \u001b[38;5;66;03m# get bounding boxes for this axis and any siblings\u001b[39;00m\n\u001b[0;32m   2608\u001b[0m \u001b[38;5;66;03m# that have been set by `fig.align_ylabels()`\u001b[39;00m\n\u001b[1;32m-> 2609\u001b[0m bboxes, bboxes2 \u001b[38;5;241m=\u001b[39m \u001b[38;5;28;43mself\u001b[39;49m\u001b[38;5;241;43m.\u001b[39;49m\u001b[43m_get_tick_boxes_siblings\u001b[49m\u001b[43m(\u001b[49m\u001b[43mrenderer\u001b[49m\u001b[38;5;241;43m=\u001b[39;49m\u001b[43mrenderer\u001b[49m\u001b[43m)\u001b[49m\n\u001b[0;32m   2610\u001b[0m x, y \u001b[38;5;241m=\u001b[39m \u001b[38;5;28mself\u001b[39m\u001b[38;5;241m.\u001b[39mlabel\u001b[38;5;241m.\u001b[39mget_position()\n\u001b[0;32m   2611\u001b[0m \u001b[38;5;28;01mif\u001b[39;00m \u001b[38;5;28mself\u001b[39m\u001b[38;5;241m.\u001b[39mlabel_position \u001b[38;5;241m==\u001b[39m \u001b[38;5;124m'\u001b[39m\u001b[38;5;124mleft\u001b[39m\u001b[38;5;124m'\u001b[39m:\n",
      "File \u001b[1;32mc:\\Users\\bcw60\\anaconda3\\envs\\yolov8\\lib\\site-packages\\matplotlib\\axis.py:2161\u001b[0m, in \u001b[0;36mAxis._get_tick_boxes_siblings\u001b[1;34m(self, renderer)\u001b[0m\n\u001b[0;32m   2159\u001b[0m axis \u001b[38;5;241m=\u001b[39m ax\u001b[38;5;241m.\u001b[39m_axis_map[name]\n\u001b[0;32m   2160\u001b[0m ticks_to_draw \u001b[38;5;241m=\u001b[39m axis\u001b[38;5;241m.\u001b[39m_update_ticks()\n\u001b[1;32m-> 2161\u001b[0m tlb, tlb2 \u001b[38;5;241m=\u001b[39m \u001b[43maxis\u001b[49m\u001b[38;5;241;43m.\u001b[39;49m\u001b[43m_get_ticklabel_bboxes\u001b[49m\u001b[43m(\u001b[49m\u001b[43mticks_to_draw\u001b[49m\u001b[43m,\u001b[49m\u001b[43m \u001b[49m\u001b[43mrenderer\u001b[49m\u001b[43m)\u001b[49m\n\u001b[0;32m   2162\u001b[0m bboxes\u001b[38;5;241m.\u001b[39mextend(tlb)\n\u001b[0;32m   2163\u001b[0m bboxes2\u001b[38;5;241m.\u001b[39mextend(tlb2)\n",
      "File \u001b[1;32mc:\\Users\\bcw60\\anaconda3\\envs\\yolov8\\lib\\site-packages\\matplotlib\\axis.py:1315\u001b[0m, in \u001b[0;36mAxis._get_ticklabel_bboxes\u001b[1;34m(self, ticks, renderer)\u001b[0m\n\u001b[0;32m   1313\u001b[0m \u001b[38;5;28;01mif\u001b[39;00m renderer \u001b[38;5;129;01mis\u001b[39;00m \u001b[38;5;28;01mNone\u001b[39;00m:\n\u001b[0;32m   1314\u001b[0m     renderer \u001b[38;5;241m=\u001b[39m \u001b[38;5;28mself\u001b[39m\u001b[38;5;241m.\u001b[39mfigure\u001b[38;5;241m.\u001b[39m_get_renderer()\n\u001b[1;32m-> 1315\u001b[0m \u001b[38;5;28;01mreturn\u001b[39;00m ([tick\u001b[38;5;241m.\u001b[39mlabel1\u001b[38;5;241m.\u001b[39mget_window_extent(renderer)\n\u001b[0;32m   1316\u001b[0m          \u001b[38;5;28;01mfor\u001b[39;00m tick \u001b[38;5;129;01min\u001b[39;00m ticks \u001b[38;5;28;01mif\u001b[39;00m tick\u001b[38;5;241m.\u001b[39mlabel1\u001b[38;5;241m.\u001b[39mget_visible()],\n\u001b[0;32m   1317\u001b[0m         [tick\u001b[38;5;241m.\u001b[39mlabel2\u001b[38;5;241m.\u001b[39mget_window_extent(renderer)\n\u001b[0;32m   1318\u001b[0m          \u001b[38;5;28;01mfor\u001b[39;00m tick \u001b[38;5;129;01min\u001b[39;00m ticks \u001b[38;5;28;01mif\u001b[39;00m tick\u001b[38;5;241m.\u001b[39mlabel2\u001b[38;5;241m.\u001b[39mget_visible()])\n",
      "File \u001b[1;32mc:\\Users\\bcw60\\anaconda3\\envs\\yolov8\\lib\\site-packages\\matplotlib\\axis.py:1315\u001b[0m, in \u001b[0;36m<listcomp>\u001b[1;34m(.0)\u001b[0m\n\u001b[0;32m   1313\u001b[0m \u001b[38;5;28;01mif\u001b[39;00m renderer \u001b[38;5;129;01mis\u001b[39;00m \u001b[38;5;28;01mNone\u001b[39;00m:\n\u001b[0;32m   1314\u001b[0m     renderer \u001b[38;5;241m=\u001b[39m \u001b[38;5;28mself\u001b[39m\u001b[38;5;241m.\u001b[39mfigure\u001b[38;5;241m.\u001b[39m_get_renderer()\n\u001b[1;32m-> 1315\u001b[0m \u001b[38;5;28;01mreturn\u001b[39;00m ([\u001b[43mtick\u001b[49m\u001b[38;5;241;43m.\u001b[39;49m\u001b[43mlabel1\u001b[49m\u001b[38;5;241;43m.\u001b[39;49m\u001b[43mget_window_extent\u001b[49m\u001b[43m(\u001b[49m\u001b[43mrenderer\u001b[49m\u001b[43m)\u001b[49m\n\u001b[0;32m   1316\u001b[0m          \u001b[38;5;28;01mfor\u001b[39;00m tick \u001b[38;5;129;01min\u001b[39;00m ticks \u001b[38;5;28;01mif\u001b[39;00m tick\u001b[38;5;241m.\u001b[39mlabel1\u001b[38;5;241m.\u001b[39mget_visible()],\n\u001b[0;32m   1317\u001b[0m         [tick\u001b[38;5;241m.\u001b[39mlabel2\u001b[38;5;241m.\u001b[39mget_window_extent(renderer)\n\u001b[0;32m   1318\u001b[0m          \u001b[38;5;28;01mfor\u001b[39;00m tick \u001b[38;5;129;01min\u001b[39;00m ticks \u001b[38;5;28;01mif\u001b[39;00m tick\u001b[38;5;241m.\u001b[39mlabel2\u001b[38;5;241m.\u001b[39mget_visible()])\n",
      "File \u001b[1;32mc:\\Users\\bcw60\\anaconda3\\envs\\yolov8\\lib\\site-packages\\matplotlib\\text.py:956\u001b[0m, in \u001b[0;36mText.get_window_extent\u001b[1;34m(self, renderer, dpi)\u001b[0m\n\u001b[0;32m    951\u001b[0m     \u001b[38;5;28;01mraise\u001b[39;00m \u001b[38;5;167;01mRuntimeError\u001b[39;00m(\n\u001b[0;32m    952\u001b[0m         \u001b[38;5;124m\"\u001b[39m\u001b[38;5;124mCannot get window extent of text w/o renderer. You likely \u001b[39m\u001b[38;5;124m\"\u001b[39m\n\u001b[0;32m    953\u001b[0m         \u001b[38;5;124m\"\u001b[39m\u001b[38;5;124mwant to call \u001b[39m\u001b[38;5;124m'\u001b[39m\u001b[38;5;124mfigure.draw_without_rendering()\u001b[39m\u001b[38;5;124m'\u001b[39m\u001b[38;5;124m first.\u001b[39m\u001b[38;5;124m\"\u001b[39m)\n\u001b[0;32m    955\u001b[0m \u001b[38;5;28;01mwith\u001b[39;00m cbook\u001b[38;5;241m.\u001b[39m_setattr_cm(\u001b[38;5;28mself\u001b[39m\u001b[38;5;241m.\u001b[39mfigure, dpi\u001b[38;5;241m=\u001b[39mdpi):\n\u001b[1;32m--> 956\u001b[0m     bbox, info, descent \u001b[38;5;241m=\u001b[39m \u001b[38;5;28;43mself\u001b[39;49m\u001b[38;5;241;43m.\u001b[39;49m\u001b[43m_get_layout\u001b[49m\u001b[43m(\u001b[49m\u001b[38;5;28;43mself\u001b[39;49m\u001b[38;5;241;43m.\u001b[39;49m\u001b[43m_renderer\u001b[49m\u001b[43m)\u001b[49m\n\u001b[0;32m    957\u001b[0m     x, y \u001b[38;5;241m=\u001b[39m \u001b[38;5;28mself\u001b[39m\u001b[38;5;241m.\u001b[39mget_unitless_position()\n\u001b[0;32m    958\u001b[0m     x, y \u001b[38;5;241m=\u001b[39m \u001b[38;5;28mself\u001b[39m\u001b[38;5;241m.\u001b[39mget_transform()\u001b[38;5;241m.\u001b[39mtransform((x, y))\n",
      "File \u001b[1;32mc:\\Users\\bcw60\\anaconda3\\envs\\yolov8\\lib\\site-packages\\matplotlib\\text.py:373\u001b[0m, in \u001b[0;36mText._get_layout\u001b[1;34m(self, renderer)\u001b[0m\n\u001b[0;32m    370\u001b[0m ys \u001b[38;5;241m=\u001b[39m []\n\u001b[0;32m    372\u001b[0m \u001b[38;5;66;03m# Full vertical extent of font, including ascenders and descenders:\u001b[39;00m\n\u001b[1;32m--> 373\u001b[0m _, lp_h, lp_d \u001b[38;5;241m=\u001b[39m \u001b[43m_get_text_metrics_with_cache\u001b[49m\u001b[43m(\u001b[49m\n\u001b[0;32m    374\u001b[0m \u001b[43m    \u001b[49m\u001b[43mrenderer\u001b[49m\u001b[43m,\u001b[49m\u001b[43m \u001b[49m\u001b[38;5;124;43m\"\u001b[39;49m\u001b[38;5;124;43mlp\u001b[39;49m\u001b[38;5;124;43m\"\u001b[39;49m\u001b[43m,\u001b[49m\u001b[43m \u001b[49m\u001b[38;5;28;43mself\u001b[39;49m\u001b[38;5;241;43m.\u001b[39;49m\u001b[43m_fontproperties\u001b[49m\u001b[43m,\u001b[49m\n\u001b[0;32m    375\u001b[0m \u001b[43m    \u001b[49m\u001b[43mismath\u001b[49m\u001b[38;5;241;43m=\u001b[39;49m\u001b[38;5;124;43m\"\u001b[39;49m\u001b[38;5;124;43mTeX\u001b[39;49m\u001b[38;5;124;43m\"\u001b[39;49m\u001b[43m \u001b[49m\u001b[38;5;28;43;01mif\u001b[39;49;00m\u001b[43m \u001b[49m\u001b[38;5;28;43mself\u001b[39;49m\u001b[38;5;241;43m.\u001b[39;49m\u001b[43mget_usetex\u001b[49m\u001b[43m(\u001b[49m\u001b[43m)\u001b[49m\u001b[43m \u001b[49m\u001b[38;5;28;43;01melse\u001b[39;49;00m\u001b[43m \u001b[49m\u001b[38;5;28;43;01mFalse\u001b[39;49;00m\u001b[43m,\u001b[49m\u001b[43m \u001b[49m\u001b[43mdpi\u001b[49m\u001b[38;5;241;43m=\u001b[39;49m\u001b[38;5;28;43mself\u001b[39;49m\u001b[38;5;241;43m.\u001b[39;49m\u001b[43mfigure\u001b[49m\u001b[38;5;241;43m.\u001b[39;49m\u001b[43mdpi\u001b[49m\u001b[43m)\u001b[49m\n\u001b[0;32m    376\u001b[0m min_dy \u001b[38;5;241m=\u001b[39m (lp_h \u001b[38;5;241m-\u001b[39m lp_d) \u001b[38;5;241m*\u001b[39m \u001b[38;5;28mself\u001b[39m\u001b[38;5;241m.\u001b[39m_linespacing\n\u001b[0;32m    378\u001b[0m \u001b[38;5;28;01mfor\u001b[39;00m i, line \u001b[38;5;129;01min\u001b[39;00m \u001b[38;5;28menumerate\u001b[39m(lines):\n",
      "File \u001b[1;32mc:\\Users\\bcw60\\anaconda3\\envs\\yolov8\\lib\\site-packages\\matplotlib\\text.py:69\u001b[0m, in \u001b[0;36m_get_text_metrics_with_cache\u001b[1;34m(renderer, text, fontprop, ismath, dpi)\u001b[0m\n\u001b[0;32m     66\u001b[0m \u001b[38;5;250m\u001b[39m\u001b[38;5;124;03m\"\"\"Call ``renderer.get_text_width_height_descent``, caching the results.\"\"\"\u001b[39;00m\n\u001b[0;32m     67\u001b[0m \u001b[38;5;66;03m# Cached based on a copy of fontprop so that later in-place mutations of\u001b[39;00m\n\u001b[0;32m     68\u001b[0m \u001b[38;5;66;03m# the passed-in argument do not mess up the cache.\u001b[39;00m\n\u001b[1;32m---> 69\u001b[0m \u001b[38;5;28;01mreturn\u001b[39;00m \u001b[43m_get_text_metrics_with_cache_impl\u001b[49m\u001b[43m(\u001b[49m\n\u001b[0;32m     70\u001b[0m \u001b[43m    \u001b[49m\u001b[43mweakref\u001b[49m\u001b[38;5;241;43m.\u001b[39;49m\u001b[43mref\u001b[49m\u001b[43m(\u001b[49m\u001b[43mrenderer\u001b[49m\u001b[43m)\u001b[49m\u001b[43m,\u001b[49m\u001b[43m \u001b[49m\u001b[43mtext\u001b[49m\u001b[43m,\u001b[49m\u001b[43m \u001b[49m\u001b[43mfontprop\u001b[49m\u001b[38;5;241;43m.\u001b[39;49m\u001b[43mcopy\u001b[49m\u001b[43m(\u001b[49m\u001b[43m)\u001b[49m\u001b[43m,\u001b[49m\u001b[43m \u001b[49m\u001b[43mismath\u001b[49m\u001b[43m,\u001b[49m\u001b[43m \u001b[49m\u001b[43mdpi\u001b[49m\u001b[43m)\u001b[49m\n",
      "File \u001b[1;32mc:\\Users\\bcw60\\anaconda3\\envs\\yolov8\\lib\\site-packages\\matplotlib\\text.py:77\u001b[0m, in \u001b[0;36m_get_text_metrics_with_cache_impl\u001b[1;34m(renderer_ref, text, fontprop, ismath, dpi)\u001b[0m\n\u001b[0;32m     73\u001b[0m \u001b[38;5;129m@functools\u001b[39m\u001b[38;5;241m.\u001b[39mlru_cache(\u001b[38;5;241m4096\u001b[39m)\n\u001b[0;32m     74\u001b[0m \u001b[38;5;28;01mdef\u001b[39;00m \u001b[38;5;21m_get_text_metrics_with_cache_impl\u001b[39m(\n\u001b[0;32m     75\u001b[0m         renderer_ref, text, fontprop, ismath, dpi):\n\u001b[0;32m     76\u001b[0m     \u001b[38;5;66;03m# dpi is unused, but participates in cache invalidation (via the renderer).\u001b[39;00m\n\u001b[1;32m---> 77\u001b[0m     \u001b[38;5;28;01mreturn\u001b[39;00m \u001b[43mrenderer_ref\u001b[49m\u001b[43m(\u001b[49m\u001b[43m)\u001b[49m\u001b[38;5;241;43m.\u001b[39;49m\u001b[43mget_text_width_height_descent\u001b[49m\u001b[43m(\u001b[49m\u001b[43mtext\u001b[49m\u001b[43m,\u001b[49m\u001b[43m \u001b[49m\u001b[43mfontprop\u001b[49m\u001b[43m,\u001b[49m\u001b[43m \u001b[49m\u001b[43mismath\u001b[49m\u001b[43m)\u001b[49m\n",
      "File \u001b[1;32mc:\\Users\\bcw60\\anaconda3\\envs\\yolov8\\lib\\site-packages\\matplotlib\\backends\\backend_agg.py:220\u001b[0m, in \u001b[0;36mRendererAgg.get_text_width_height_descent\u001b[1;34m(self, s, prop, ismath)\u001b[0m\n\u001b[0;32m    216\u001b[0m     ox, oy, width, height, descent, font_image \u001b[38;5;241m=\u001b[39m \\\n\u001b[0;32m    217\u001b[0m         \u001b[38;5;28mself\u001b[39m\u001b[38;5;241m.\u001b[39mmathtext_parser\u001b[38;5;241m.\u001b[39mparse(s, \u001b[38;5;28mself\u001b[39m\u001b[38;5;241m.\u001b[39mdpi, prop)\n\u001b[0;32m    218\u001b[0m     \u001b[38;5;28;01mreturn\u001b[39;00m width, height, descent\n\u001b[1;32m--> 220\u001b[0m font \u001b[38;5;241m=\u001b[39m \u001b[38;5;28;43mself\u001b[39;49m\u001b[38;5;241;43m.\u001b[39;49m\u001b[43m_prepare_font\u001b[49m\u001b[43m(\u001b[49m\u001b[43mprop\u001b[49m\u001b[43m)\u001b[49m\n\u001b[0;32m    221\u001b[0m font\u001b[38;5;241m.\u001b[39mset_text(s, \u001b[38;5;241m0.0\u001b[39m, flags\u001b[38;5;241m=\u001b[39mget_hinting_flag())\n\u001b[0;32m    222\u001b[0m w, h \u001b[38;5;241m=\u001b[39m font\u001b[38;5;241m.\u001b[39mget_width_height()  \u001b[38;5;66;03m# width and height of unrotated string\u001b[39;00m\n",
      "File \u001b[1;32mc:\\Users\\bcw60\\anaconda3\\envs\\yolov8\\lib\\site-packages\\matplotlib\\backends\\backend_agg.py:254\u001b[0m, in \u001b[0;36mRendererAgg._prepare_font\u001b[1;34m(self, font_prop)\u001b[0m\n\u001b[0;32m    250\u001b[0m \u001b[38;5;28;01mdef\u001b[39;00m \u001b[38;5;21m_prepare_font\u001b[39m(\u001b[38;5;28mself\u001b[39m, font_prop):\n\u001b[0;32m    251\u001b[0m \u001b[38;5;250m    \u001b[39m\u001b[38;5;124;03m\"\"\"\u001b[39;00m\n\u001b[0;32m    252\u001b[0m \u001b[38;5;124;03m    Get the `.FT2Font` for *font_prop*, clear its buffer, and set its size.\u001b[39;00m\n\u001b[0;32m    253\u001b[0m \u001b[38;5;124;03m    \"\"\"\u001b[39;00m\n\u001b[1;32m--> 254\u001b[0m     font \u001b[38;5;241m=\u001b[39m get_font(\u001b[43m_fontManager\u001b[49m\u001b[38;5;241;43m.\u001b[39;49m\u001b[43m_find_fonts_by_props\u001b[49m\u001b[43m(\u001b[49m\u001b[43mfont_prop\u001b[49m\u001b[43m)\u001b[49m)\n\u001b[0;32m    255\u001b[0m     font\u001b[38;5;241m.\u001b[39mclear()\n\u001b[0;32m    256\u001b[0m     size \u001b[38;5;241m=\u001b[39m font_prop\u001b[38;5;241m.\u001b[39mget_size_in_points()\n",
      "File \u001b[1;32mc:\\Users\\bcw60\\anaconda3\\envs\\yolov8\\lib\\site-packages\\matplotlib\\font_manager.py:1381\u001b[0m, in \u001b[0;36mFontManager._find_fonts_by_props\u001b[1;34m(self, prop, fontext, directory, fallback_to_default, rebuild_if_missing)\u001b[0m\n\u001b[0;32m   1378\u001b[0m     cprop \u001b[38;5;241m=\u001b[39m prop\u001b[38;5;241m.\u001b[39mcopy()\n\u001b[0;32m   1379\u001b[0m     cprop\u001b[38;5;241m.\u001b[39mset_family(dfamily)\n\u001b[0;32m   1380\u001b[0m     fpaths\u001b[38;5;241m.\u001b[39mappend(\n\u001b[1;32m-> 1381\u001b[0m         \u001b[38;5;28;43mself\u001b[39;49m\u001b[38;5;241;43m.\u001b[39;49m\u001b[43mfindfont\u001b[49m\u001b[43m(\u001b[49m\n\u001b[0;32m   1382\u001b[0m \u001b[43m            \u001b[49m\u001b[43mcprop\u001b[49m\u001b[43m,\u001b[49m\u001b[43m \u001b[49m\u001b[43mfontext\u001b[49m\u001b[43m,\u001b[49m\u001b[43m \u001b[49m\u001b[43mdirectory\u001b[49m\u001b[43m,\u001b[49m\n\u001b[0;32m   1383\u001b[0m \u001b[43m            \u001b[49m\u001b[43mfallback_to_default\u001b[49m\u001b[38;5;241;43m=\u001b[39;49m\u001b[38;5;28;43;01mTrue\u001b[39;49;00m\u001b[43m,\u001b[49m\n\u001b[0;32m   1384\u001b[0m \u001b[43m            \u001b[49m\u001b[43mrebuild_if_missing\u001b[49m\u001b[38;5;241;43m=\u001b[39;49m\u001b[43mrebuild_if_missing\u001b[49m\u001b[43m,\u001b[49m\n\u001b[0;32m   1385\u001b[0m \u001b[43m        \u001b[49m\u001b[43m)\u001b[49m\n\u001b[0;32m   1386\u001b[0m     )\n\u001b[0;32m   1387\u001b[0m \u001b[38;5;28;01melse\u001b[39;00m:\n\u001b[0;32m   1388\u001b[0m     \u001b[38;5;28;01mraise\u001b[39;00m \u001b[38;5;167;01mValueError\u001b[39;00m(\u001b[38;5;124m\"\u001b[39m\u001b[38;5;124mFailed to find any font, and fallback \u001b[39m\u001b[38;5;124m\"\u001b[39m\n\u001b[0;32m   1389\u001b[0m                      \u001b[38;5;124m\"\u001b[39m\u001b[38;5;124mto the default font was disabled\u001b[39m\u001b[38;5;124m\"\u001b[39m)\n",
      "File \u001b[1;32mc:\\Users\\bcw60\\anaconda3\\envs\\yolov8\\lib\\site-packages\\matplotlib\\font_manager.py:1292\u001b[0m, in \u001b[0;36mFontManager.findfont\u001b[1;34m(self, prop, fontext, directory, fallback_to_default, rebuild_if_missing)\u001b[0m\n\u001b[0;32m   1286\u001b[0m \u001b[38;5;66;03m# Pass the relevant rcParams (and the font manager, as `self`) to\u001b[39;00m\n\u001b[0;32m   1287\u001b[0m \u001b[38;5;66;03m# _findfont_cached so to prevent using a stale cache entry after an\u001b[39;00m\n\u001b[0;32m   1288\u001b[0m \u001b[38;5;66;03m# rcParam was changed.\u001b[39;00m\n\u001b[0;32m   1289\u001b[0m rc_params \u001b[38;5;241m=\u001b[39m \u001b[38;5;28mtuple\u001b[39m(\u001b[38;5;28mtuple\u001b[39m(mpl\u001b[38;5;241m.\u001b[39mrcParams[key]) \u001b[38;5;28;01mfor\u001b[39;00m key \u001b[38;5;129;01min\u001b[39;00m [\n\u001b[0;32m   1290\u001b[0m     \u001b[38;5;124m\"\u001b[39m\u001b[38;5;124mfont.serif\u001b[39m\u001b[38;5;124m\"\u001b[39m, \u001b[38;5;124m\"\u001b[39m\u001b[38;5;124mfont.sans-serif\u001b[39m\u001b[38;5;124m\"\u001b[39m, \u001b[38;5;124m\"\u001b[39m\u001b[38;5;124mfont.cursive\u001b[39m\u001b[38;5;124m\"\u001b[39m, \u001b[38;5;124m\"\u001b[39m\u001b[38;5;124mfont.fantasy\u001b[39m\u001b[38;5;124m\"\u001b[39m,\n\u001b[0;32m   1291\u001b[0m     \u001b[38;5;124m\"\u001b[39m\u001b[38;5;124mfont.monospace\u001b[39m\u001b[38;5;124m\"\u001b[39m])\n\u001b[1;32m-> 1292\u001b[0m ret \u001b[38;5;241m=\u001b[39m \u001b[38;5;28;43mself\u001b[39;49m\u001b[38;5;241;43m.\u001b[39;49m\u001b[43m_findfont_cached\u001b[49m\u001b[43m(\u001b[49m\n\u001b[0;32m   1293\u001b[0m \u001b[43m    \u001b[49m\u001b[43mprop\u001b[49m\u001b[43m,\u001b[49m\u001b[43m \u001b[49m\u001b[43mfontext\u001b[49m\u001b[43m,\u001b[49m\u001b[43m \u001b[49m\u001b[43mdirectory\u001b[49m\u001b[43m,\u001b[49m\u001b[43m \u001b[49m\u001b[43mfallback_to_default\u001b[49m\u001b[43m,\u001b[49m\u001b[43m \u001b[49m\u001b[43mrebuild_if_missing\u001b[49m\u001b[43m,\u001b[49m\n\u001b[0;32m   1294\u001b[0m \u001b[43m    \u001b[49m\u001b[43mrc_params\u001b[49m\u001b[43m)\u001b[49m\n\u001b[0;32m   1295\u001b[0m \u001b[38;5;28;01mif\u001b[39;00m \u001b[38;5;28misinstance\u001b[39m(ret, _ExceptionProxy):\n\u001b[0;32m   1296\u001b[0m     \u001b[38;5;28;01mraise\u001b[39;00m ret\u001b[38;5;241m.\u001b[39mklass(ret\u001b[38;5;241m.\u001b[39mmessage)\n",
      "File \u001b[1;32mc:\\Users\\bcw60\\anaconda3\\envs\\yolov8\\lib\\site-packages\\matplotlib\\font_manager.py:1443\u001b[0m, in \u001b[0;36mFontManager._findfont_cached\u001b[1;34m(self, prop, fontext, directory, fallback_to_default, rebuild_if_missing, rc_params)\u001b[0m\n\u001b[0;32m   1441\u001b[0m     default_prop \u001b[38;5;241m=\u001b[39m prop\u001b[38;5;241m.\u001b[39mcopy()\n\u001b[0;32m   1442\u001b[0m     default_prop\u001b[38;5;241m.\u001b[39mset_family(\u001b[38;5;28mself\u001b[39m\u001b[38;5;241m.\u001b[39mdefaultFamily[fontext])\n\u001b[1;32m-> 1443\u001b[0m     \u001b[38;5;28;01mreturn\u001b[39;00m \u001b[38;5;28;43mself\u001b[39;49m\u001b[38;5;241;43m.\u001b[39;49m\u001b[43mfindfont\u001b[49m\u001b[43m(\u001b[49m\u001b[43mdefault_prop\u001b[49m\u001b[43m,\u001b[49m\u001b[43m \u001b[49m\u001b[43mfontext\u001b[49m\u001b[43m,\u001b[49m\u001b[43m \u001b[49m\u001b[43mdirectory\u001b[49m\u001b[43m,\u001b[49m\n\u001b[0;32m   1444\u001b[0m \u001b[43m                         \u001b[49m\u001b[43mfallback_to_default\u001b[49m\u001b[38;5;241;43m=\u001b[39;49m\u001b[38;5;28;43;01mFalse\u001b[39;49;00m\u001b[43m)\u001b[49m\n\u001b[0;32m   1445\u001b[0m \u001b[38;5;28;01melse\u001b[39;00m:\n\u001b[0;32m   1446\u001b[0m     \u001b[38;5;66;03m# This return instead of raise is intentional, as we wish to\u001b[39;00m\n\u001b[0;32m   1447\u001b[0m     \u001b[38;5;66;03m# cache that it was not found, which will not occur if it was\u001b[39;00m\n\u001b[0;32m   1448\u001b[0m     \u001b[38;5;66;03m# actually raised.\u001b[39;00m\n\u001b[0;32m   1449\u001b[0m     \u001b[38;5;28;01mreturn\u001b[39;00m _ExceptionProxy(\n\u001b[0;32m   1450\u001b[0m         \u001b[38;5;167;01mValueError\u001b[39;00m,\n\u001b[0;32m   1451\u001b[0m         \u001b[38;5;124mf\u001b[39m\u001b[38;5;124m\"\u001b[39m\u001b[38;5;124mFailed to find font \u001b[39m\u001b[38;5;132;01m{\u001b[39;00mprop\u001b[38;5;132;01m}\u001b[39;00m\u001b[38;5;124m, and fallback to the default font was disabled\u001b[39m\u001b[38;5;124m\"\u001b[39m\n\u001b[0;32m   1452\u001b[0m     )\n",
      "File \u001b[1;32mc:\\Users\\bcw60\\anaconda3\\envs\\yolov8\\lib\\site-packages\\matplotlib\\font_manager.py:1296\u001b[0m, in \u001b[0;36mFontManager.findfont\u001b[1;34m(self, prop, fontext, directory, fallback_to_default, rebuild_if_missing)\u001b[0m\n\u001b[0;32m   1292\u001b[0m ret \u001b[38;5;241m=\u001b[39m \u001b[38;5;28mself\u001b[39m\u001b[38;5;241m.\u001b[39m_findfont_cached(\n\u001b[0;32m   1293\u001b[0m     prop, fontext, directory, fallback_to_default, rebuild_if_missing,\n\u001b[0;32m   1294\u001b[0m     rc_params)\n\u001b[0;32m   1295\u001b[0m \u001b[38;5;28;01mif\u001b[39;00m \u001b[38;5;28misinstance\u001b[39m(ret, _ExceptionProxy):\n\u001b[1;32m-> 1296\u001b[0m     \u001b[38;5;28;01mraise\u001b[39;00m ret\u001b[38;5;241m.\u001b[39mklass(ret\u001b[38;5;241m.\u001b[39mmessage)\n\u001b[0;32m   1297\u001b[0m \u001b[38;5;28;01mreturn\u001b[39;00m ret\n",
      "\u001b[1;31mValueError\u001b[0m: Failed to find font DejaVu Sans:style=normal:variant=normal:weight=normal:stretch=normal:size=11.0, and fallback to the default font was disabled"
     ]
    }
   ],
   "source": [
    "from ultralytics import YOLO as yolo\n",
    "\n",
    "model = yolo('C:/Users/bcw60/OneDrive/Desktop/mydrive/die/runs/segment/train12/weights/last.pt')\n",
    "results = model.train(resume=True)"
   ]
  },
  {
   "cell_type": "code",
   "execution_count": null,
   "metadata": {},
   "outputs": [],
   "source": [
    "from ultralytics import YOLO as yolo\n",
    "model = yolo('')\n",
    "model.tune(data='', epochs = 30, iterations=300, optimizer='AdamW',plots=True, save=False, val=False)"
   ]
  },
  {
   "cell_type": "code",
   "execution_count": 2,
   "metadata": {},
   "outputs": [
    {
     "name": "stdout",
     "output_type": "stream",
     "text": [
      "Ultralytics YOLOv8.0.230 🚀 Python-3.9.18 torch-1.9.1+cu111 CUDA:0 (NVIDIA GeForce RTX 2060 SUPER, 8192MiB)\n",
      "WARNING ⚠️ Upgrade to torch>=2.0.0 for deterministic training.\n",
      "\u001b[34m\u001b[1mengine\\trainer: \u001b[0mtask=segment, mode=train, model=C:\\Users\\bcw60\\OneDrive\\Desktop\\mydrive\\die\\runs\\segment\\train10\\weights\\last.pt, data=C:/Users/bcw60/Downloads/custon_with_wheelchair_seg.v10i.yolov8/data.yaml, epochs=130, time=None, patience=50, batch=8, imgsz=640, save=True, save_period=-1, cache=False, device=None, workers=0, project=None, name=train10, exist_ok=False, pretrained=True, optimizer=auto, verbose=True, seed=0, deterministic=True, single_cls=False, rect=False, cos_lr=False, close_mosaic=10, resume=False, amp=True, fraction=1.0, profile=False, freeze=None, overlap_mask=True, mask_ratio=4, dropout=0.0, val=True, split=val, save_json=False, save_hybrid=False, conf=None, iou=0.7, max_det=300, half=False, dnn=False, plots=True, source=None, vid_stride=1, stream_buffer=False, visualize=False, augment=False, agnostic_nms=False, classes=None, retina_masks=False, embed=None, show=False, save_frames=False, save_txt=False, save_conf=False, save_crop=False, show_labels=True, show_conf=True, show_boxes=True, line_width=None, format=torchscript, keras=False, optimize=False, int8=False, dynamic=False, simplify=False, opset=None, workspace=4, nms=False, lr0=0.01, lrf=0.01, momentum=0.937, weight_decay=0.0005, warmup_epochs=3.0, warmup_momentum=0.8, warmup_bias_lr=0.0, box=7.5, cls=0.5, dfl=1.5, pose=12.0, kobj=1.0, label_smoothing=0.0, nbs=64, hsv_h=0.015, hsv_s=0.7, hsv_v=0.4, degrees=0.0, translate=0.1, scale=0.5, shear=0.0, perspective=0.0, flipud=0.0, fliplr=0.5, mosaic=1.0, mixup=0.0, copy_paste=0.0, cfg=None, tracker=botsort.yaml, save_dir=runs\\segment\\train10\n",
      "\u001b[34m\u001b[1mTensorBoard: \u001b[0mStart with 'tensorboard --logdir runs\\segment\\train10', view at http://localhost:6006/\n",
      "\n",
      "                   from  n    params  module                                       arguments                     \n",
      "  0                  -1  1      1392  ultralytics.nn.modules.conv.Conv             [3, 48, 3, 2]                 \n",
      "  1                  -1  1     41664  ultralytics.nn.modules.conv.Conv             [48, 96, 3, 2]                \n",
      "  2                  -1  2    111360  ultralytics.nn.modules.block.C2f             [96, 96, 2, True]             \n",
      "  3                  -1  1    166272  ultralytics.nn.modules.conv.Conv             [96, 192, 3, 2]               \n",
      "  4                  -1  4    813312  ultralytics.nn.modules.block.C2f             [192, 192, 4, True]           \n",
      "  5                  -1  1    664320  ultralytics.nn.modules.conv.Conv             [192, 384, 3, 2]              \n",
      "  6                  -1  4   3248640  ultralytics.nn.modules.block.C2f             [384, 384, 4, True]           \n",
      "  7                  -1  1   1991808  ultralytics.nn.modules.conv.Conv             [384, 576, 3, 2]              \n",
      "  8                  -1  2   3985920  ultralytics.nn.modules.block.C2f             [576, 576, 2, True]           \n",
      "  9                  -1  1    831168  ultralytics.nn.modules.block.SPPF            [576, 576, 5]                 \n",
      " 10                  -1  1         0  torch.nn.modules.upsampling.Upsample         [None, 2, 'nearest']          \n",
      " 11             [-1, 6]  1         0  ultralytics.nn.modules.conv.Concat           [1]                           \n",
      " 12                  -1  2   1993728  ultralytics.nn.modules.block.C2f             [960, 384, 2]                 \n",
      " 13                  -1  1         0  torch.nn.modules.upsampling.Upsample         [None, 2, 'nearest']          \n",
      " 14             [-1, 4]  1         0  ultralytics.nn.modules.conv.Concat           [1]                           \n",
      " 15                  -1  2    517632  ultralytics.nn.modules.block.C2f             [576, 192, 2]                 \n",
      " 16                  -1  1    332160  ultralytics.nn.modules.conv.Conv             [192, 192, 3, 2]              \n",
      " 17            [-1, 12]  1         0  ultralytics.nn.modules.conv.Concat           [1]                           \n",
      " 18                  -1  2   1846272  ultralytics.nn.modules.block.C2f             [576, 384, 2]                 \n",
      " 19                  -1  1   1327872  ultralytics.nn.modules.conv.Conv             [384, 384, 3, 2]              \n",
      " 20             [-1, 9]  1         0  ultralytics.nn.modules.conv.Concat           [1]                           \n",
      " 21                  -1  2   4207104  ultralytics.nn.modules.block.C2f             [960, 576, 2]                 \n",
      " 22        [15, 18, 21]  1   5160182  ultralytics.nn.modules.head.Segment          [2, 32, 192, [192, 384, 576]] \n",
      "YOLOv8m-seg summary: 331 layers, 27240806 parameters, 27240790 gradients, 110.4 GFLOPs\n",
      "\n",
      "Transferred 537/537 items from pretrained weights\n",
      "Freezing layer 'model.22.dfl.conv.weight'\n",
      "\u001b[34m\u001b[1mAMP: \u001b[0mrunning Automatic Mixed Precision (AMP) checks with YOLOv8n...\n",
      "\u001b[34m\u001b[1mAMP: \u001b[0mchecks passed ✅\n"
     ]
    },
    {
     "name": "stderr",
     "output_type": "stream",
     "text": [
      "\u001b[34m\u001b[1mtrain: \u001b[0mScanning C:\\Users\\bcw60\\Downloads\\custon_with_wheelchair_seg.v10i.yolov8\\train\\labels.cache... 12198 images, 0 backgrounds, 0 corrupt: 100%|██████████| 12198/12198 [00:00<?, ?it/s]\n",
      "\u001b[34m\u001b[1mval: \u001b[0mScanning C:\\Users\\bcw60\\Downloads\\custon_with_wheelchair_seg.v10i.yolov8\\valid\\labels.cache... 513 images, 0 backgrounds, 0 corrupt: 100%|██████████| 513/513 [00:00<?, ?it/s]"
     ]
    },
    {
     "name": "stdout",
     "output_type": "stream",
     "text": [
      "Plotting labels to runs\\segment\\train10\\labels.jpg... \n"
     ]
    },
    {
     "name": "stderr",
     "output_type": "stream",
     "text": [
      "\n",
      "findfont: Generic family 'sans-serif' not found because none of the following families were found: DejaVu Sans, Bitstream Vera Sans, Computer Modern Sans Serif, Lucida Grande, Verdana, Geneva, Lucid, Arial, Helvetica, Avant Garde, sans-serif\n",
      "findfont: Font family ['DejaVu Sans'] not found. Falling back to DejaVu Sans.\n"
     ]
    },
    {
     "name": "stdout",
     "output_type": "stream",
     "text": [
      "Failed to find font DejaVu Sans:style=normal:variant=normal:weight=normal:stretch=normal:size=11.0, and fallback to the default font was disabled\n",
      "\u001b[34m\u001b[1moptimizer:\u001b[0m 'optimizer=auto' found, ignoring 'lr0=0.01' and 'momentum=0.937' and determining best 'optimizer', 'lr0' and 'momentum' automatically... \n",
      "\u001b[34m\u001b[1moptimizer:\u001b[0m SGD(lr=0.01, momentum=0.9) with parameter groups 86 weight(decay=0.0), 97 weight(decay=0.0005), 96 bias(decay=0.0)\n"
     ]
    },
    {
     "name": "stderr",
     "output_type": "stream",
     "text": [
      "2023/12/28 22:40:11 INFO mlflow.tracking.fluent: Autologging successfully enabled for tensorflow.\n"
     ]
    },
    {
     "name": "stdout",
     "output_type": "stream",
     "text": [
      "\u001b[34m\u001b[1mMLflow: \u001b[0mlogging run_id(b879347d9f874108b29b50e8602f4083) to runs\\mlflow\n",
      "\u001b[34m\u001b[1mMLflow: \u001b[0mview at http://127.0.0.1:5000 with 'mlflow server --backend-store-uri runs\\mlflow'\n",
      "\u001b[34m\u001b[1mMLflow: \u001b[0mdisable with 'yolo settings mlflow=False'\n",
      "130 epochs...\n",
      "\n",
      "      Epoch    GPU_mem   box_loss   seg_loss   cls_loss   dfl_loss  Instances       Size\n"
     ]
    },
    {
     "name": "stderr",
     "output_type": "stream",
     "text": [
      "    106/130      5.16G      0.299     0.8754     0.3143     0.9097         13        640: 100%|██████████| 1525/1525 [11:55<00:00,  2.13it/s]\n",
      "                 Class     Images  Instances      Box(P          R      mAP50  mAP50-95)     Mask(P          R      mAP50  mAP50-95): 100%|██████████| 33/33 [00:13<00:00,  2.39it/s]"
     ]
    },
    {
     "name": "stdout",
     "output_type": "stream",
     "text": [
      "                   all        513        809      0.804      0.919       0.92      0.881      0.805       0.92       0.92      0.824\n"
     ]
    },
    {
     "name": "stderr",
     "output_type": "stream",
     "text": [
      "\n"
     ]
    },
    {
     "name": "stdout",
     "output_type": "stream",
     "text": [
      "\n",
      "      Epoch    GPU_mem   box_loss   seg_loss   cls_loss   dfl_loss  Instances       Size\n"
     ]
    },
    {
     "name": "stderr",
     "output_type": "stream",
     "text": [
      "    107/130      4.55G     0.2976     0.8779      0.313     0.9078         19        640: 100%|██████████| 1525/1525 [10:41<00:00,  2.38it/s]\n",
      "                 Class     Images  Instances      Box(P          R      mAP50  mAP50-95)     Mask(P          R      mAP50  mAP50-95): 100%|██████████| 33/33 [00:10<00:00,  3.05it/s]"
     ]
    },
    {
     "name": "stdout",
     "output_type": "stream",
     "text": [
      "                   all        513        809      0.804      0.919      0.919      0.881      0.804       0.92      0.919      0.823\n"
     ]
    },
    {
     "name": "stderr",
     "output_type": "stream",
     "text": [
      "\n"
     ]
    },
    {
     "name": "stdout",
     "output_type": "stream",
     "text": [
      "\n",
      "      Epoch    GPU_mem   box_loss   seg_loss   cls_loss   dfl_loss  Instances       Size\n"
     ]
    },
    {
     "name": "stderr",
     "output_type": "stream",
     "text": [
      "    108/130      4.59G     0.3027       0.87     0.3171     0.9107         18        640: 100%|██████████| 1525/1525 [10:41<00:00,  2.38it/s]\n",
      "                 Class     Images  Instances      Box(P          R      mAP50  mAP50-95)     Mask(P          R      mAP50  mAP50-95): 100%|██████████| 33/33 [00:10<00:00,  3.06it/s]"
     ]
    },
    {
     "name": "stdout",
     "output_type": "stream",
     "text": [
      "                   all        513        809      0.804      0.919      0.919      0.884      0.805      0.919      0.919      0.826\n"
     ]
    },
    {
     "name": "stderr",
     "output_type": "stream",
     "text": [
      "\n"
     ]
    },
    {
     "name": "stdout",
     "output_type": "stream",
     "text": [
      "\n",
      "      Epoch    GPU_mem   box_loss   seg_loss   cls_loss   dfl_loss  Instances       Size\n"
     ]
    },
    {
     "name": "stderr",
     "output_type": "stream",
     "text": [
      "    109/130      4.53G     0.3037     0.8835     0.3216     0.9109         22        640: 100%|██████████| 1525/1525 [10:41<00:00,  2.38it/s]\n",
      "                 Class     Images  Instances      Box(P          R      mAP50  mAP50-95)     Mask(P          R      mAP50  mAP50-95): 100%|██████████| 33/33 [00:10<00:00,  3.08it/s]"
     ]
    },
    {
     "name": "stdout",
     "output_type": "stream",
     "text": [
      "                   all        513        809      0.805      0.919      0.919      0.881      0.805      0.919      0.919      0.824\n"
     ]
    },
    {
     "name": "stderr",
     "output_type": "stream",
     "text": [
      "\n"
     ]
    },
    {
     "name": "stdout",
     "output_type": "stream",
     "text": [
      "\n",
      "      Epoch    GPU_mem   box_loss   seg_loss   cls_loss   dfl_loss  Instances       Size\n"
     ]
    },
    {
     "name": "stderr",
     "output_type": "stream",
     "text": [
      "    110/130      4.56G     0.3037      0.889     0.3178     0.9111         18        640: 100%|██████████| 1525/1525 [10:41<00:00,  2.38it/s]\n",
      "                 Class     Images  Instances      Box(P          R      mAP50  mAP50-95)     Mask(P          R      mAP50  mAP50-95): 100%|██████████| 33/33 [00:10<00:00,  3.07it/s]"
     ]
    },
    {
     "name": "stdout",
     "output_type": "stream",
     "text": [
      "                   all        513        809      0.805      0.918      0.919      0.881      0.806      0.919      0.919      0.824\n"
     ]
    },
    {
     "name": "stderr",
     "output_type": "stream",
     "text": [
      "\n"
     ]
    },
    {
     "name": "stdout",
     "output_type": "stream",
     "text": [
      "\n",
      "      Epoch    GPU_mem   box_loss   seg_loss   cls_loss   dfl_loss  Instances       Size\n"
     ]
    },
    {
     "name": "stderr",
     "output_type": "stream",
     "text": [
      "    111/130      4.56G     0.3016     0.8826     0.3209     0.9081         26        640: 100%|██████████| 1525/1525 [10:41<00:00,  2.38it/s]\n",
      "                 Class     Images  Instances      Box(P          R      mAP50  mAP50-95)     Mask(P          R      mAP50  mAP50-95): 100%|██████████| 33/33 [00:10<00:00,  3.05it/s]"
     ]
    },
    {
     "name": "stdout",
     "output_type": "stream",
     "text": [
      "                   all        513        809      0.805      0.917      0.919      0.884      0.806      0.917      0.919      0.824\n"
     ]
    },
    {
     "name": "stderr",
     "output_type": "stream",
     "text": [
      "\n"
     ]
    },
    {
     "name": "stdout",
     "output_type": "stream",
     "text": [
      "\n",
      "      Epoch    GPU_mem   box_loss   seg_loss   cls_loss   dfl_loss  Instances       Size\n"
     ]
    },
    {
     "name": "stderr",
     "output_type": "stream",
     "text": [
      "    112/130      4.57G     0.3027     0.8853       0.32     0.9094         22        640: 100%|██████████| 1525/1525 [10:41<00:00,  2.38it/s]\n",
      "                 Class     Images  Instances      Box(P          R      mAP50  mAP50-95)     Mask(P          R      mAP50  mAP50-95): 100%|██████████| 33/33 [00:10<00:00,  3.08it/s]"
     ]
    },
    {
     "name": "stdout",
     "output_type": "stream",
     "text": [
      "                   all        513        809      0.805      0.916      0.917      0.881      0.806      0.917      0.916      0.821\n"
     ]
    },
    {
     "name": "stderr",
     "output_type": "stream",
     "text": [
      "\n"
     ]
    },
    {
     "name": "stdout",
     "output_type": "stream",
     "text": [
      "\n",
      "      Epoch    GPU_mem   box_loss   seg_loss   cls_loss   dfl_loss  Instances       Size\n"
     ]
    },
    {
     "name": "stderr",
     "output_type": "stream",
     "text": [
      "    113/130      4.61G     0.3036      0.888     0.3192     0.9125         22        640: 100%|██████████| 1525/1525 [10:41<00:00,  2.38it/s]\n",
      "                 Class     Images  Instances      Box(P          R      mAP50  mAP50-95)     Mask(P          R      mAP50  mAP50-95): 100%|██████████| 33/33 [00:10<00:00,  3.09it/s]"
     ]
    },
    {
     "name": "stdout",
     "output_type": "stream",
     "text": [
      "                   all        513        809      0.805      0.916      0.914      0.878      0.806      0.917      0.914      0.818\n"
     ]
    },
    {
     "name": "stderr",
     "output_type": "stream",
     "text": [
      "\n"
     ]
    },
    {
     "name": "stdout",
     "output_type": "stream",
     "text": [
      "\n",
      "      Epoch    GPU_mem   box_loss   seg_loss   cls_loss   dfl_loss  Instances       Size\n"
     ]
    },
    {
     "name": "stderr",
     "output_type": "stream",
     "text": [
      "    114/130      4.57G        0.3     0.8783     0.3112     0.9094         23        640: 100%|██████████| 1525/1525 [10:41<00:00,  2.38it/s]\n",
      "                 Class     Images  Instances      Box(P          R      mAP50  mAP50-95)     Mask(P          R      mAP50  mAP50-95): 100%|██████████| 33/33 [00:10<00:00,  3.10it/s]"
     ]
    },
    {
     "name": "stdout",
     "output_type": "stream",
     "text": [
      "                   all        513        809      0.806      0.917      0.914      0.876      0.806      0.918      0.914      0.818\n"
     ]
    },
    {
     "name": "stderr",
     "output_type": "stream",
     "text": [
      "\n"
     ]
    },
    {
     "name": "stdout",
     "output_type": "stream",
     "text": [
      "\n",
      "      Epoch    GPU_mem   box_loss   seg_loss   cls_loss   dfl_loss  Instances       Size\n"
     ]
    },
    {
     "name": "stderr",
     "output_type": "stream",
     "text": [
      "    115/130      4.58G     0.3003     0.8806     0.3185     0.9094         21        640: 100%|██████████| 1525/1525 [10:41<00:00,  2.38it/s]\n",
      "                 Class     Images  Instances      Box(P          R      mAP50  mAP50-95)     Mask(P          R      mAP50  mAP50-95): 100%|██████████| 33/33 [00:10<00:00,  3.08it/s]"
     ]
    },
    {
     "name": "stdout",
     "output_type": "stream",
     "text": [
      "                   all        513        809      0.806      0.916      0.914      0.876      0.806      0.917      0.914      0.818\n"
     ]
    },
    {
     "name": "stderr",
     "output_type": "stream",
     "text": [
      "\n"
     ]
    },
    {
     "name": "stdout",
     "output_type": "stream",
     "text": [
      "\n",
      "      Epoch    GPU_mem   box_loss   seg_loss   cls_loss   dfl_loss  Instances       Size\n"
     ]
    },
    {
     "name": "stderr",
     "output_type": "stream",
     "text": [
      "    116/130      4.61G     0.2976     0.8751     0.3149     0.9075         25        640: 100%|██████████| 1525/1525 [10:41<00:00,  2.38it/s]\n",
      "                 Class     Images  Instances      Box(P          R      mAP50  mAP50-95)     Mask(P          R      mAP50  mAP50-95): 100%|██████████| 33/33 [00:10<00:00,  3.08it/s]"
     ]
    },
    {
     "name": "stdout",
     "output_type": "stream",
     "text": [
      "                   all        513        809      0.806      0.915      0.914      0.876      0.807      0.916      0.914      0.818\n"
     ]
    },
    {
     "name": "stderr",
     "output_type": "stream",
     "text": [
      "\n"
     ]
    },
    {
     "name": "stdout",
     "output_type": "stream",
     "text": [
      "\n",
      "      Epoch    GPU_mem   box_loss   seg_loss   cls_loss   dfl_loss  Instances       Size\n"
     ]
    },
    {
     "name": "stderr",
     "output_type": "stream",
     "text": [
      "    117/130       4.6G     0.2998     0.8761     0.3154     0.9081         20        640: 100%|██████████| 1525/1525 [10:41<00:00,  2.38it/s]\n",
      "                 Class     Images  Instances      Box(P          R      mAP50  mAP50-95)     Mask(P          R      mAP50  mAP50-95): 100%|██████████| 33/33 [00:10<00:00,  3.11it/s]"
     ]
    },
    {
     "name": "stdout",
     "output_type": "stream",
     "text": [
      "                   all        513        809      0.807      0.916      0.912      0.875      0.807      0.917      0.912      0.816\n"
     ]
    },
    {
     "name": "stderr",
     "output_type": "stream",
     "text": [
      "\n"
     ]
    },
    {
     "name": "stdout",
     "output_type": "stream",
     "text": [
      "\n",
      "      Epoch    GPU_mem   box_loss   seg_loss   cls_loss   dfl_loss  Instances       Size\n"
     ]
    },
    {
     "name": "stderr",
     "output_type": "stream",
     "text": [
      "    118/130      4.53G     0.2966     0.8672     0.3114     0.9079         26        640: 100%|██████████| 1525/1525 [10:42<00:00,  2.37it/s]\n",
      "                 Class     Images  Instances      Box(P          R      mAP50  mAP50-95)     Mask(P          R      mAP50  mAP50-95): 100%|██████████| 33/33 [00:10<00:00,  3.04it/s]"
     ]
    },
    {
     "name": "stdout",
     "output_type": "stream",
     "text": [
      "                   all        513        809      0.808      0.916      0.911      0.874      0.808      0.917      0.911      0.816\n"
     ]
    },
    {
     "name": "stderr",
     "output_type": "stream",
     "text": [
      "\n"
     ]
    },
    {
     "name": "stdout",
     "output_type": "stream",
     "text": [
      "\n",
      "      Epoch    GPU_mem   box_loss   seg_loss   cls_loss   dfl_loss  Instances       Size\n"
     ]
    },
    {
     "name": "stderr",
     "output_type": "stream",
     "text": [
      "    119/130      4.58G     0.3009     0.8773      0.309     0.9105         21        640: 100%|██████████| 1525/1525 [10:41<00:00,  2.38it/s]\n",
      "                 Class     Images  Instances      Box(P          R      mAP50  mAP50-95)     Mask(P          R      mAP50  mAP50-95): 100%|██████████| 33/33 [00:10<00:00,  3.09it/s]"
     ]
    },
    {
     "name": "stdout",
     "output_type": "stream",
     "text": [
      "                   all        513        809      0.809      0.916      0.911      0.874      0.809      0.917      0.911      0.817\n"
     ]
    },
    {
     "name": "stderr",
     "output_type": "stream",
     "text": [
      "\n"
     ]
    },
    {
     "name": "stdout",
     "output_type": "stream",
     "text": [
      "\n",
      "      Epoch    GPU_mem   box_loss   seg_loss   cls_loss   dfl_loss  Instances       Size\n"
     ]
    },
    {
     "name": "stderr",
     "output_type": "stream",
     "text": [
      "    120/130      4.56G      0.302     0.8744     0.3087     0.9107         27        640: 100%|██████████| 1525/1525 [10:41<00:00,  2.38it/s]\n",
      "                 Class     Images  Instances      Box(P          R      mAP50  mAP50-95)     Mask(P          R      mAP50  mAP50-95): 100%|██████████| 33/33 [00:10<00:00,  3.10it/s]"
     ]
    },
    {
     "name": "stdout",
     "output_type": "stream",
     "text": [
      "                   all        513        809      0.808      0.916      0.911      0.874      0.809      0.917      0.911      0.817\n"
     ]
    },
    {
     "name": "stderr",
     "output_type": "stream",
     "text": [
      "\n"
     ]
    },
    {
     "name": "stdout",
     "output_type": "stream",
     "text": [
      "Closing dataloader mosaic\n",
      "\n",
      "      Epoch    GPU_mem   box_loss   seg_loss   cls_loss   dfl_loss  Instances       Size\n"
     ]
    },
    {
     "name": "stderr",
     "output_type": "stream",
     "text": [
      "    121/130      4.54G     0.1876       0.74     0.1655     0.8493          8        640: 100%|██████████| 1525/1525 [10:09<00:00,  2.50it/s]\n",
      "                 Class     Images  Instances      Box(P          R      mAP50  mAP50-95)     Mask(P          R      mAP50  mAP50-95): 100%|██████████| 33/33 [00:10<00:00,  3.06it/s]"
     ]
    },
    {
     "name": "stdout",
     "output_type": "stream",
     "text": [
      "                   all        513        809      0.808      0.916      0.915      0.878      0.809      0.917      0.915      0.821\n"
     ]
    },
    {
     "name": "stderr",
     "output_type": "stream",
     "text": [
      "\n"
     ]
    },
    {
     "name": "stdout",
     "output_type": "stream",
     "text": [
      "\n",
      "      Epoch    GPU_mem   box_loss   seg_loss   cls_loss   dfl_loss  Instances       Size\n"
     ]
    },
    {
     "name": "stderr",
     "output_type": "stream",
     "text": [
      "    122/130      4.56G     0.1827     0.7212     0.1596     0.8474          8        640: 100%|██████████| 1525/1525 [10:09<00:00,  2.50it/s]\n",
      "                 Class     Images  Instances      Box(P          R      mAP50  mAP50-95)     Mask(P          R      mAP50  mAP50-95): 100%|██████████| 33/33 [00:10<00:00,  3.05it/s]"
     ]
    },
    {
     "name": "stdout",
     "output_type": "stream",
     "text": [
      "                   all        513        809      0.809      0.915      0.917       0.88      0.809      0.916      0.916      0.823\n"
     ]
    },
    {
     "name": "stderr",
     "output_type": "stream",
     "text": [
      "\n"
     ]
    },
    {
     "name": "stdout",
     "output_type": "stream",
     "text": [
      "\n",
      "      Epoch    GPU_mem   box_loss   seg_loss   cls_loss   dfl_loss  Instances       Size\n"
     ]
    },
    {
     "name": "stderr",
     "output_type": "stream",
     "text": [
      "    123/130      4.54G     0.1827     0.7166     0.1589      0.848         10        640: 100%|██████████| 1525/1525 [10:09<00:00,  2.50it/s]\n",
      "                 Class     Images  Instances      Box(P          R      mAP50  mAP50-95)     Mask(P          R      mAP50  mAP50-95): 100%|██████████| 33/33 [00:10<00:00,  3.06it/s]"
     ]
    },
    {
     "name": "stdout",
     "output_type": "stream",
     "text": [
      "                   all        513        809      0.809      0.915      0.915      0.878      0.809      0.916      0.915      0.821\n"
     ]
    },
    {
     "name": "stderr",
     "output_type": "stream",
     "text": [
      "\n"
     ]
    },
    {
     "name": "stdout",
     "output_type": "stream",
     "text": [
      "\n",
      "      Epoch    GPU_mem   box_loss   seg_loss   cls_loss   dfl_loss  Instances       Size\n"
     ]
    },
    {
     "name": "stderr",
     "output_type": "stream",
     "text": [
      "    124/130      4.54G     0.1791     0.7058     0.1527      0.845         12        640: 100%|██████████| 1525/1525 [10:09<00:00,  2.50it/s]\n",
      "                 Class     Images  Instances      Box(P          R      mAP50  mAP50-95)     Mask(P          R      mAP50  mAP50-95): 100%|██████████| 33/33 [00:10<00:00,  3.05it/s]"
     ]
    },
    {
     "name": "stdout",
     "output_type": "stream",
     "text": [
      "                   all        513        809      0.809      0.915      0.915      0.878      0.809      0.916      0.915      0.822\n"
     ]
    },
    {
     "name": "stderr",
     "output_type": "stream",
     "text": [
      "\n"
     ]
    },
    {
     "name": "stdout",
     "output_type": "stream",
     "text": [
      "\n",
      "      Epoch    GPU_mem   box_loss   seg_loss   cls_loss   dfl_loss  Instances       Size\n"
     ]
    },
    {
     "name": "stderr",
     "output_type": "stream",
     "text": [
      "    125/130      4.55G     0.1781     0.6993     0.1513      0.846          7        640: 100%|██████████| 1525/1525 [10:09<00:00,  2.50it/s]\n",
      "                 Class     Images  Instances      Box(P          R      mAP50  mAP50-95)     Mask(P          R      mAP50  mAP50-95): 100%|██████████| 33/33 [00:10<00:00,  3.06it/s]"
     ]
    },
    {
     "name": "stdout",
     "output_type": "stream",
     "text": [
      "                   all        513        809      0.809      0.915      0.912      0.874       0.81      0.916      0.911      0.818\n"
     ]
    },
    {
     "name": "stderr",
     "output_type": "stream",
     "text": [
      "\n"
     ]
    },
    {
     "name": "stdout",
     "output_type": "stream",
     "text": [
      "\n",
      "      Epoch    GPU_mem   box_loss   seg_loss   cls_loss   dfl_loss  Instances       Size\n"
     ]
    },
    {
     "name": "stderr",
     "output_type": "stream",
     "text": [
      "    126/130      4.54G      0.174     0.7003     0.1466      0.842          8        640: 100%|██████████| 1525/1525 [10:08<00:00,  2.50it/s]\n",
      "                 Class     Images  Instances      Box(P          R      mAP50  mAP50-95)     Mask(P          R      mAP50  mAP50-95): 100%|██████████| 33/33 [00:10<00:00,  3.06it/s]"
     ]
    },
    {
     "name": "stdout",
     "output_type": "stream",
     "text": [
      "                   all        513        809      0.809      0.915      0.915      0.878      0.809      0.916      0.914      0.822\n"
     ]
    },
    {
     "name": "stderr",
     "output_type": "stream",
     "text": [
      "\n"
     ]
    },
    {
     "name": "stdout",
     "output_type": "stream",
     "text": [
      "\n",
      "      Epoch    GPU_mem   box_loss   seg_loss   cls_loss   dfl_loss  Instances       Size\n"
     ]
    },
    {
     "name": "stderr",
     "output_type": "stream",
     "text": [
      "    127/130      4.55G     0.1719       0.69     0.1456     0.8399          8        640: 100%|██████████| 1525/1525 [10:09<00:00,  2.50it/s]\n",
      "                 Class     Images  Instances      Box(P          R      mAP50  mAP50-95)     Mask(P          R      mAP50  mAP50-95): 100%|██████████| 33/33 [00:10<00:00,  3.07it/s]"
     ]
    },
    {
     "name": "stdout",
     "output_type": "stream",
     "text": [
      "                   all        513        809      0.809      0.915      0.919      0.881       0.81      0.917      0.919      0.824\n"
     ]
    },
    {
     "name": "stderr",
     "output_type": "stream",
     "text": [
      "\n"
     ]
    },
    {
     "name": "stdout",
     "output_type": "stream",
     "text": [
      "\n",
      "      Epoch    GPU_mem   box_loss   seg_loss   cls_loss   dfl_loss  Instances       Size\n"
     ]
    },
    {
     "name": "stderr",
     "output_type": "stream",
     "text": [
      "    128/130      4.54G     0.1713     0.6891     0.1436     0.8415         10        640: 100%|██████████| 1525/1525 [10:09<00:00,  2.50it/s]\n",
      "                 Class     Images  Instances      Box(P          R      mAP50  mAP50-95)     Mask(P          R      mAP50  mAP50-95): 100%|██████████| 33/33 [00:10<00:00,  3.05it/s]"
     ]
    },
    {
     "name": "stdout",
     "output_type": "stream",
     "text": [
      "                   all        513        809       0.81      0.916      0.919      0.881       0.81      0.917      0.919      0.824\n"
     ]
    },
    {
     "name": "stderr",
     "output_type": "stream",
     "text": [
      "\n"
     ]
    },
    {
     "name": "stdout",
     "output_type": "stream",
     "text": [
      "\n",
      "      Epoch    GPU_mem   box_loss   seg_loss   cls_loss   dfl_loss  Instances       Size\n"
     ]
    },
    {
     "name": "stderr",
     "output_type": "stream",
     "text": [
      "    129/130      4.54G     0.1697     0.6912     0.1421     0.8396          6        640: 100%|██████████| 1525/1525 [10:09<00:00,  2.50it/s]\n",
      "                 Class     Images  Instances      Box(P          R      mAP50  mAP50-95)     Mask(P          R      mAP50  mAP50-95): 100%|██████████| 33/33 [00:10<00:00,  3.07it/s]"
     ]
    },
    {
     "name": "stdout",
     "output_type": "stream",
     "text": [
      "                   all        513        809      0.809      0.916      0.919      0.881       0.81      0.917      0.919      0.824\n"
     ]
    },
    {
     "name": "stderr",
     "output_type": "stream",
     "text": [
      "\n"
     ]
    },
    {
     "name": "stdout",
     "output_type": "stream",
     "text": [
      "\n",
      "      Epoch    GPU_mem   box_loss   seg_loss   cls_loss   dfl_loss  Instances       Size\n"
     ]
    },
    {
     "name": "stderr",
     "output_type": "stream",
     "text": [
      "    130/130      4.55G     0.1687     0.6808     0.1403     0.8402          7        640: 100%|██████████| 1525/1525 [10:09<00:00,  2.50it/s]\n",
      "                 Class     Images  Instances      Box(P          R      mAP50  mAP50-95)     Mask(P          R      mAP50  mAP50-95): 100%|██████████| 33/33 [00:10<00:00,  3.08it/s]"
     ]
    },
    {
     "name": "stdout",
     "output_type": "stream",
     "text": [
      "                   all        513        809       0.81      0.916      0.919      0.881       0.81      0.917      0.919      0.825\n"
     ]
    },
    {
     "name": "stderr",
     "output_type": "stream",
     "text": [
      "\n"
     ]
    },
    {
     "name": "stdout",
     "output_type": "stream",
     "text": [
      "\n",
      "25 epochs completed in 4.467 hours.\n",
      "Optimizer stripped from runs\\segment\\train10\\weights\\last.pt, 54.8MB\n",
      "Optimizer stripped from runs\\segment\\train10\\weights\\best.pt, 54.8MB\n",
      "\n",
      "Validating runs\\segment\\train10\\weights\\best.pt...\n",
      "Ultralytics YOLOv8.0.230 🚀 Python-3.9.18 torch-1.9.1+cu111 CUDA:0 (NVIDIA GeForce RTX 2060 SUPER, 8192MiB)\n",
      "YOLOv8m-seg summary (fused): 245 layers, 27223542 parameters, 0 gradients, 110.0 GFLOPs\n"
     ]
    },
    {
     "name": "stderr",
     "output_type": "stream",
     "text": [
      "                 Class     Images  Instances      Box(P          R      mAP50  mAP50-95)     Mask(P          R      mAP50  mAP50-95): 100%|██████████| 33/33 [00:11<00:00,  2.88it/s]\n",
      "findfont: Generic family 'sans-serif' not found because none of the following families were found: DejaVu Sans, Bitstream Vera Sans, Computer Modern Sans Serif, Lucida Grande, Verdana, Geneva, Lucid, Arial, Helvetica, Avant Garde, sans-serif\n",
      "findfont: Font family ['DejaVu Sans'] not found. Falling back to DejaVu Sans.\n",
      "findfont: Generic family 'sans-serif' not found because none of the following families were found: DejaVu Sans, Bitstream Vera Sans, Computer Modern Sans Serif, Lucida Grande, Verdana, Geneva, Lucid, Arial, Helvetica, Avant Garde, sans-serif\n",
      "findfont: Font family ['DejaVu Sans'] not found. Falling back to DejaVu Sans.\n"
     ]
    },
    {
     "ename": "ValueError",
     "evalue": "Failed to find font DejaVu Sans:style=normal:variant=normal:weight=normal:stretch=normal:size=11.0, and fallback to the default font was disabled",
     "output_type": "error",
     "traceback": [
      "\u001b[1;31m---------------------------------------------------------------------------\u001b[0m",
      "\u001b[1;31mValueError\u001b[0m                                Traceback (most recent call last)",
      "Cell \u001b[1;32mIn[2], line 3\u001b[0m\n\u001b[0;32m      1\u001b[0m \u001b[38;5;28;01mfrom\u001b[39;00m \u001b[38;5;21;01multralytics\u001b[39;00m \u001b[38;5;28;01mimport\u001b[39;00m YOLO \u001b[38;5;28;01mas\u001b[39;00m yolo\n\u001b[0;32m      2\u001b[0m model \u001b[38;5;241m=\u001b[39m yolo(\u001b[38;5;124m\"\u001b[39m\u001b[38;5;124mC:/Users/bcw60/OneDrive/Desktop/mydrive/die/runs/segment/train10/weights/last.pt\u001b[39m\u001b[38;5;124m\"\u001b[39m)\n\u001b[1;32m----> 3\u001b[0m \u001b[43mmodel\u001b[49m\u001b[38;5;241;43m.\u001b[39;49m\u001b[43mtrain\u001b[49m\u001b[43m(\u001b[49m\u001b[43mresume\u001b[49m\u001b[38;5;241;43m=\u001b[39;49m\u001b[38;5;28;43;01mTrue\u001b[39;49;00m\u001b[43m)\u001b[49m\n",
      "File \u001b[1;32mc:\\Users\\bcw60\\anaconda3\\envs\\yolov8\\lib\\site-packages\\ultralytics\\engine\\model.py:356\u001b[0m, in \u001b[0;36mModel.train\u001b[1;34m(self, trainer, **kwargs)\u001b[0m\n\u001b[0;32m    354\u001b[0m     \u001b[38;5;28mself\u001b[39m\u001b[38;5;241m.\u001b[39mmodel \u001b[38;5;241m=\u001b[39m \u001b[38;5;28mself\u001b[39m\u001b[38;5;241m.\u001b[39mtrainer\u001b[38;5;241m.\u001b[39mmodel\n\u001b[0;32m    355\u001b[0m \u001b[38;5;28mself\u001b[39m\u001b[38;5;241m.\u001b[39mtrainer\u001b[38;5;241m.\u001b[39mhub_session \u001b[38;5;241m=\u001b[39m \u001b[38;5;28mself\u001b[39m\u001b[38;5;241m.\u001b[39msession  \u001b[38;5;66;03m# attach optional HUB session\u001b[39;00m\n\u001b[1;32m--> 356\u001b[0m \u001b[38;5;28;43mself\u001b[39;49m\u001b[38;5;241;43m.\u001b[39;49m\u001b[43mtrainer\u001b[49m\u001b[38;5;241;43m.\u001b[39;49m\u001b[43mtrain\u001b[49m\u001b[43m(\u001b[49m\u001b[43m)\u001b[49m\n\u001b[0;32m    357\u001b[0m \u001b[38;5;66;03m# Update model and cfg after training\u001b[39;00m\n\u001b[0;32m    358\u001b[0m \u001b[38;5;28;01mif\u001b[39;00m RANK \u001b[38;5;129;01min\u001b[39;00m (\u001b[38;5;241m-\u001b[39m\u001b[38;5;241m1\u001b[39m, \u001b[38;5;241m0\u001b[39m):\n",
      "File \u001b[1;32mc:\\Users\\bcw60\\anaconda3\\envs\\yolov8\\lib\\site-packages\\ultralytics\\engine\\trainer.py:190\u001b[0m, in \u001b[0;36mBaseTrainer.train\u001b[1;34m(self)\u001b[0m\n\u001b[0;32m    187\u001b[0m         ddp_cleanup(\u001b[38;5;28mself\u001b[39m, \u001b[38;5;28mstr\u001b[39m(file))\n\u001b[0;32m    189\u001b[0m \u001b[38;5;28;01melse\u001b[39;00m:\n\u001b[1;32m--> 190\u001b[0m     \u001b[38;5;28;43mself\u001b[39;49m\u001b[38;5;241;43m.\u001b[39;49m\u001b[43m_do_train\u001b[49m\u001b[43m(\u001b[49m\u001b[43mworld_size\u001b[49m\u001b[43m)\u001b[49m\n",
      "File \u001b[1;32mc:\\Users\\bcw60\\anaconda3\\envs\\yolov8\\lib\\site-packages\\ultralytics\\engine\\trainer.py:427\u001b[0m, in \u001b[0;36mBaseTrainer._do_train\u001b[1;34m(self, world_size)\u001b[0m\n\u001b[0;32m    423\u001b[0m \u001b[38;5;28;01mif\u001b[39;00m RANK \u001b[38;5;129;01min\u001b[39;00m (\u001b[38;5;241m-\u001b[39m\u001b[38;5;241m1\u001b[39m, \u001b[38;5;241m0\u001b[39m):\n\u001b[0;32m    424\u001b[0m     \u001b[38;5;66;03m# Do final val with best.pt\u001b[39;00m\n\u001b[0;32m    425\u001b[0m     LOGGER\u001b[38;5;241m.\u001b[39minfo(\u001b[38;5;124mf\u001b[39m\u001b[38;5;124m'\u001b[39m\u001b[38;5;130;01m\\n\u001b[39;00m\u001b[38;5;132;01m{\u001b[39;00mepoch\u001b[38;5;250m \u001b[39m\u001b[38;5;241m-\u001b[39m\u001b[38;5;250m \u001b[39m\u001b[38;5;28mself\u001b[39m\u001b[38;5;241m.\u001b[39mstart_epoch\u001b[38;5;250m \u001b[39m\u001b[38;5;241m+\u001b[39m\u001b[38;5;250m \u001b[39m\u001b[38;5;241m1\u001b[39m\u001b[38;5;132;01m}\u001b[39;00m\u001b[38;5;124m epochs completed in \u001b[39m\u001b[38;5;124m'\u001b[39m\n\u001b[0;32m    426\u001b[0m                 \u001b[38;5;124mf\u001b[39m\u001b[38;5;124m'\u001b[39m\u001b[38;5;132;01m{\u001b[39;00m(time\u001b[38;5;241m.\u001b[39mtime()\u001b[38;5;250m \u001b[39m\u001b[38;5;241m-\u001b[39m\u001b[38;5;250m \u001b[39m\u001b[38;5;28mself\u001b[39m\u001b[38;5;241m.\u001b[39mtrain_time_start)\u001b[38;5;250m \u001b[39m\u001b[38;5;241m/\u001b[39m\u001b[38;5;250m \u001b[39m\u001b[38;5;241m3600\u001b[39m\u001b[38;5;132;01m:\u001b[39;00m\u001b[38;5;124m.3f\u001b[39m\u001b[38;5;132;01m}\u001b[39;00m\u001b[38;5;124m hours.\u001b[39m\u001b[38;5;124m'\u001b[39m)\n\u001b[1;32m--> 427\u001b[0m     \u001b[38;5;28;43mself\u001b[39;49m\u001b[38;5;241;43m.\u001b[39;49m\u001b[43mfinal_eval\u001b[49m\u001b[43m(\u001b[49m\u001b[43m)\u001b[49m\n\u001b[0;32m    428\u001b[0m     \u001b[38;5;28;01mif\u001b[39;00m \u001b[38;5;28mself\u001b[39m\u001b[38;5;241m.\u001b[39margs\u001b[38;5;241m.\u001b[39mplots:\n\u001b[0;32m    429\u001b[0m         \u001b[38;5;28mself\u001b[39m\u001b[38;5;241m.\u001b[39mplot_metrics()\n",
      "File \u001b[1;32mc:\\Users\\bcw60\\anaconda3\\envs\\yolov8\\lib\\site-packages\\ultralytics\\engine\\trainer.py:576\u001b[0m, in \u001b[0;36mBaseTrainer.final_eval\u001b[1;34m(self)\u001b[0m\n\u001b[0;32m    574\u001b[0m LOGGER\u001b[38;5;241m.\u001b[39minfo(\u001b[38;5;124mf\u001b[39m\u001b[38;5;124m'\u001b[39m\u001b[38;5;130;01m\\n\u001b[39;00m\u001b[38;5;124mValidating \u001b[39m\u001b[38;5;132;01m{\u001b[39;00mf\u001b[38;5;132;01m}\u001b[39;00m\u001b[38;5;124m...\u001b[39m\u001b[38;5;124m'\u001b[39m)\n\u001b[0;32m    575\u001b[0m \u001b[38;5;28mself\u001b[39m\u001b[38;5;241m.\u001b[39mvalidator\u001b[38;5;241m.\u001b[39margs\u001b[38;5;241m.\u001b[39mplots \u001b[38;5;241m=\u001b[39m \u001b[38;5;28mself\u001b[39m\u001b[38;5;241m.\u001b[39margs\u001b[38;5;241m.\u001b[39mplots\n\u001b[1;32m--> 576\u001b[0m \u001b[38;5;28mself\u001b[39m\u001b[38;5;241m.\u001b[39mmetrics \u001b[38;5;241m=\u001b[39m \u001b[38;5;28;43mself\u001b[39;49m\u001b[38;5;241;43m.\u001b[39;49m\u001b[43mvalidator\u001b[49m\u001b[43m(\u001b[49m\u001b[43mmodel\u001b[49m\u001b[38;5;241;43m=\u001b[39;49m\u001b[43mf\u001b[49m\u001b[43m)\u001b[49m\n\u001b[0;32m    577\u001b[0m \u001b[38;5;28mself\u001b[39m\u001b[38;5;241m.\u001b[39mmetrics\u001b[38;5;241m.\u001b[39mpop(\u001b[38;5;124m'\u001b[39m\u001b[38;5;124mfitness\u001b[39m\u001b[38;5;124m'\u001b[39m, \u001b[38;5;28;01mNone\u001b[39;00m)\n\u001b[0;32m    578\u001b[0m \u001b[38;5;28mself\u001b[39m\u001b[38;5;241m.\u001b[39mrun_callbacks(\u001b[38;5;124m'\u001b[39m\u001b[38;5;124mon_fit_epoch_end\u001b[39m\u001b[38;5;124m'\u001b[39m)\n",
      "File \u001b[1;32mc:\\Users\\bcw60\\anaconda3\\envs\\yolov8\\lib\\site-packages\\torch\\autograd\\grad_mode.py:28\u001b[0m, in \u001b[0;36m_DecoratorContextManager.__call__.<locals>.decorate_context\u001b[1;34m(*args, **kwargs)\u001b[0m\n\u001b[0;32m     25\u001b[0m \u001b[38;5;129m@functools\u001b[39m\u001b[38;5;241m.\u001b[39mwraps(func)\n\u001b[0;32m     26\u001b[0m \u001b[38;5;28;01mdef\u001b[39;00m \u001b[38;5;21mdecorate_context\u001b[39m(\u001b[38;5;241m*\u001b[39margs, \u001b[38;5;241m*\u001b[39m\u001b[38;5;241m*\u001b[39mkwargs):\n\u001b[0;32m     27\u001b[0m     \u001b[38;5;28;01mwith\u001b[39;00m \u001b[38;5;28mself\u001b[39m\u001b[38;5;241m.\u001b[39m\u001b[38;5;18m__class__\u001b[39m():\n\u001b[1;32m---> 28\u001b[0m         \u001b[38;5;28;01mreturn\u001b[39;00m func(\u001b[38;5;241m*\u001b[39margs, \u001b[38;5;241m*\u001b[39m\u001b[38;5;241m*\u001b[39mkwargs)\n",
      "File \u001b[1;32mc:\\Users\\bcw60\\anaconda3\\envs\\yolov8\\lib\\site-packages\\ultralytics\\engine\\validator.py:186\u001b[0m, in \u001b[0;36mBaseValidator.__call__\u001b[1;34m(self, trainer, model)\u001b[0m\n\u001b[0;32m    183\u001b[0m         \u001b[38;5;28mself\u001b[39m\u001b[38;5;241m.\u001b[39mplot_predictions(batch, preds, batch_i)\n\u001b[0;32m    185\u001b[0m     \u001b[38;5;28mself\u001b[39m\u001b[38;5;241m.\u001b[39mrun_callbacks(\u001b[38;5;124m'\u001b[39m\u001b[38;5;124mon_val_batch_end\u001b[39m\u001b[38;5;124m'\u001b[39m)\n\u001b[1;32m--> 186\u001b[0m stats \u001b[38;5;241m=\u001b[39m \u001b[38;5;28;43mself\u001b[39;49m\u001b[38;5;241;43m.\u001b[39;49m\u001b[43mget_stats\u001b[49m\u001b[43m(\u001b[49m\u001b[43m)\u001b[49m\n\u001b[0;32m    187\u001b[0m \u001b[38;5;28mself\u001b[39m\u001b[38;5;241m.\u001b[39mcheck_stats(stats)\n\u001b[0;32m    188\u001b[0m \u001b[38;5;28mself\u001b[39m\u001b[38;5;241m.\u001b[39mspeed \u001b[38;5;241m=\u001b[39m \u001b[38;5;28mdict\u001b[39m(\u001b[38;5;28mzip\u001b[39m(\u001b[38;5;28mself\u001b[39m\u001b[38;5;241m.\u001b[39mspeed\u001b[38;5;241m.\u001b[39mkeys(), (x\u001b[38;5;241m.\u001b[39mt \u001b[38;5;241m/\u001b[39m \u001b[38;5;28mlen\u001b[39m(\u001b[38;5;28mself\u001b[39m\u001b[38;5;241m.\u001b[39mdataloader\u001b[38;5;241m.\u001b[39mdataset) \u001b[38;5;241m*\u001b[39m \u001b[38;5;241m1E3\u001b[39m \u001b[38;5;28;01mfor\u001b[39;00m x \u001b[38;5;129;01min\u001b[39;00m dt)))\n",
      "File \u001b[1;32mc:\\Users\\bcw60\\anaconda3\\envs\\yolov8\\lib\\site-packages\\ultralytics\\models\\yolo\\detect\\val.py:144\u001b[0m, in \u001b[0;36mDetectionValidator.get_stats\u001b[1;34m(self)\u001b[0m\n\u001b[0;32m    142\u001b[0m stats \u001b[38;5;241m=\u001b[39m [torch\u001b[38;5;241m.\u001b[39mcat(x, \u001b[38;5;241m0\u001b[39m)\u001b[38;5;241m.\u001b[39mcpu()\u001b[38;5;241m.\u001b[39mnumpy() \u001b[38;5;28;01mfor\u001b[39;00m x \u001b[38;5;129;01min\u001b[39;00m \u001b[38;5;28mzip\u001b[39m(\u001b[38;5;241m*\u001b[39m\u001b[38;5;28mself\u001b[39m\u001b[38;5;241m.\u001b[39mstats)]  \u001b[38;5;66;03m# to numpy\u001b[39;00m\n\u001b[0;32m    143\u001b[0m \u001b[38;5;28;01mif\u001b[39;00m \u001b[38;5;28mlen\u001b[39m(stats) \u001b[38;5;129;01mand\u001b[39;00m stats[\u001b[38;5;241m0\u001b[39m]\u001b[38;5;241m.\u001b[39many():\n\u001b[1;32m--> 144\u001b[0m     \u001b[38;5;28;43mself\u001b[39;49m\u001b[38;5;241;43m.\u001b[39;49m\u001b[43mmetrics\u001b[49m\u001b[38;5;241;43m.\u001b[39;49m\u001b[43mprocess\u001b[49m\u001b[43m(\u001b[49m\u001b[38;5;241;43m*\u001b[39;49m\u001b[43mstats\u001b[49m\u001b[43m)\u001b[49m\n\u001b[0;32m    145\u001b[0m \u001b[38;5;28mself\u001b[39m\u001b[38;5;241m.\u001b[39mnt_per_class \u001b[38;5;241m=\u001b[39m np\u001b[38;5;241m.\u001b[39mbincount(stats[\u001b[38;5;241m-\u001b[39m\u001b[38;5;241m1\u001b[39m]\u001b[38;5;241m.\u001b[39mastype(\u001b[38;5;28mint\u001b[39m), minlength\u001b[38;5;241m=\u001b[39m\u001b[38;5;28mself\u001b[39m\u001b[38;5;241m.\u001b[39mnc)  \u001b[38;5;66;03m# number of targets per class\u001b[39;00m\n\u001b[0;32m    146\u001b[0m \u001b[38;5;28;01mreturn\u001b[39;00m \u001b[38;5;28mself\u001b[39m\u001b[38;5;241m.\u001b[39mmetrics\u001b[38;5;241m.\u001b[39mresults_dict\n",
      "File \u001b[1;32mc:\\Users\\bcw60\\anaconda3\\envs\\yolov8\\lib\\site-packages\\ultralytics\\utils\\metrics.py:829\u001b[0m, in \u001b[0;36mSegmentMetrics.process\u001b[1;34m(self, tp_b, tp_m, conf, pred_cls, target_cls)\u001b[0m\n\u001b[0;32m    817\u001b[0m \u001b[38;5;28;01mdef\u001b[39;00m \u001b[38;5;21mprocess\u001b[39m(\u001b[38;5;28mself\u001b[39m, tp_b, tp_m, conf, pred_cls, target_cls):\n\u001b[0;32m    818\u001b[0m \u001b[38;5;250m    \u001b[39m\u001b[38;5;124;03m\"\"\"\u001b[39;00m\n\u001b[0;32m    819\u001b[0m \u001b[38;5;124;03m    Processes the detection and segmentation metrics over the given set of predictions.\u001b[39;00m\n\u001b[0;32m    820\u001b[0m \n\u001b[1;32m   (...)\u001b[0m\n\u001b[0;32m    826\u001b[0m \u001b[38;5;124;03m        target_cls (list): List of target classes.\u001b[39;00m\n\u001b[0;32m    827\u001b[0m \u001b[38;5;124;03m    \"\"\"\u001b[39;00m\n\u001b[1;32m--> 829\u001b[0m     results_mask \u001b[38;5;241m=\u001b[39m \u001b[43map_per_class\u001b[49m\u001b[43m(\u001b[49m\u001b[43mtp_m\u001b[49m\u001b[43m,\u001b[49m\n\u001b[0;32m    830\u001b[0m \u001b[43m                                \u001b[49m\u001b[43mconf\u001b[49m\u001b[43m,\u001b[49m\n\u001b[0;32m    831\u001b[0m \u001b[43m                                \u001b[49m\u001b[43mpred_cls\u001b[49m\u001b[43m,\u001b[49m\n\u001b[0;32m    832\u001b[0m \u001b[43m                                \u001b[49m\u001b[43mtarget_cls\u001b[49m\u001b[43m,\u001b[49m\n\u001b[0;32m    833\u001b[0m \u001b[43m                                \u001b[49m\u001b[43mplot\u001b[49m\u001b[38;5;241;43m=\u001b[39;49m\u001b[38;5;28;43mself\u001b[39;49m\u001b[38;5;241;43m.\u001b[39;49m\u001b[43mplot\u001b[49m\u001b[43m,\u001b[49m\n\u001b[0;32m    834\u001b[0m \u001b[43m                                \u001b[49m\u001b[43mon_plot\u001b[49m\u001b[38;5;241;43m=\u001b[39;49m\u001b[38;5;28;43mself\u001b[39;49m\u001b[38;5;241;43m.\u001b[39;49m\u001b[43mon_plot\u001b[49m\u001b[43m,\u001b[49m\n\u001b[0;32m    835\u001b[0m \u001b[43m                                \u001b[49m\u001b[43msave_dir\u001b[49m\u001b[38;5;241;43m=\u001b[39;49m\u001b[38;5;28;43mself\u001b[39;49m\u001b[38;5;241;43m.\u001b[39;49m\u001b[43msave_dir\u001b[49m\u001b[43m,\u001b[49m\n\u001b[0;32m    836\u001b[0m \u001b[43m                                \u001b[49m\u001b[43mnames\u001b[49m\u001b[38;5;241;43m=\u001b[39;49m\u001b[38;5;28;43mself\u001b[39;49m\u001b[38;5;241;43m.\u001b[39;49m\u001b[43mnames\u001b[49m\u001b[43m,\u001b[49m\n\u001b[0;32m    837\u001b[0m \u001b[43m                                \u001b[49m\u001b[43mprefix\u001b[49m\u001b[38;5;241;43m=\u001b[39;49m\u001b[38;5;124;43m'\u001b[39;49m\u001b[38;5;124;43mMask\u001b[39;49m\u001b[38;5;124;43m'\u001b[39;49m\u001b[43m)\u001b[49m[\u001b[38;5;241m2\u001b[39m:]\n\u001b[0;32m    838\u001b[0m     \u001b[38;5;28mself\u001b[39m\u001b[38;5;241m.\u001b[39mseg\u001b[38;5;241m.\u001b[39mnc \u001b[38;5;241m=\u001b[39m \u001b[38;5;28mlen\u001b[39m(\u001b[38;5;28mself\u001b[39m\u001b[38;5;241m.\u001b[39mnames)\n\u001b[0;32m    839\u001b[0m     \u001b[38;5;28mself\u001b[39m\u001b[38;5;241m.\u001b[39mseg\u001b[38;5;241m.\u001b[39mupdate(results_mask)\n",
      "File \u001b[1;32mc:\\Users\\bcw60\\anaconda3\\envs\\yolov8\\lib\\site-packages\\ultralytics\\utils\\metrics.py:508\u001b[0m, in \u001b[0;36map_per_class\u001b[1;34m(tp, conf, pred_cls, target_cls, plot, on_plot, save_dir, names, eps, prefix)\u001b[0m\n\u001b[0;32m    506\u001b[0m names \u001b[38;5;241m=\u001b[39m \u001b[38;5;28mdict\u001b[39m(\u001b[38;5;28menumerate\u001b[39m(names))  \u001b[38;5;66;03m# to dict\u001b[39;00m\n\u001b[0;32m    507\u001b[0m \u001b[38;5;28;01mif\u001b[39;00m plot:\n\u001b[1;32m--> 508\u001b[0m     \u001b[43mplot_pr_curve\u001b[49m\u001b[43m(\u001b[49m\u001b[43mx\u001b[49m\u001b[43m,\u001b[49m\u001b[43m \u001b[49m\u001b[43mprec_values\u001b[49m\u001b[43m,\u001b[49m\u001b[43m \u001b[49m\u001b[43map\u001b[49m\u001b[43m,\u001b[49m\u001b[43m \u001b[49m\u001b[43msave_dir\u001b[49m\u001b[43m \u001b[49m\u001b[38;5;241;43m/\u001b[39;49m\u001b[43m \u001b[49m\u001b[38;5;124;43mf\u001b[39;49m\u001b[38;5;124;43m'\u001b[39;49m\u001b[38;5;132;43;01m{\u001b[39;49;00m\u001b[43mprefix\u001b[49m\u001b[38;5;132;43;01m}\u001b[39;49;00m\u001b[38;5;124;43mPR_curve.png\u001b[39;49m\u001b[38;5;124;43m'\u001b[39;49m\u001b[43m,\u001b[49m\u001b[43m \u001b[49m\u001b[43mnames\u001b[49m\u001b[43m,\u001b[49m\u001b[43m \u001b[49m\u001b[43mon_plot\u001b[49m\u001b[38;5;241;43m=\u001b[39;49m\u001b[43mon_plot\u001b[49m\u001b[43m)\u001b[49m\n\u001b[0;32m    509\u001b[0m     plot_mc_curve(x, f1_curve, save_dir \u001b[38;5;241m/\u001b[39m \u001b[38;5;124mf\u001b[39m\u001b[38;5;124m'\u001b[39m\u001b[38;5;132;01m{\u001b[39;00mprefix\u001b[38;5;132;01m}\u001b[39;00m\u001b[38;5;124mF1_curve.png\u001b[39m\u001b[38;5;124m'\u001b[39m, names, ylabel\u001b[38;5;241m=\u001b[39m\u001b[38;5;124m'\u001b[39m\u001b[38;5;124mF1\u001b[39m\u001b[38;5;124m'\u001b[39m, on_plot\u001b[38;5;241m=\u001b[39mon_plot)\n\u001b[0;32m    510\u001b[0m     plot_mc_curve(x, p_curve, save_dir \u001b[38;5;241m/\u001b[39m \u001b[38;5;124mf\u001b[39m\u001b[38;5;124m'\u001b[39m\u001b[38;5;132;01m{\u001b[39;00mprefix\u001b[38;5;132;01m}\u001b[39;00m\u001b[38;5;124mP_curve.png\u001b[39m\u001b[38;5;124m'\u001b[39m, names, ylabel\u001b[38;5;241m=\u001b[39m\u001b[38;5;124m'\u001b[39m\u001b[38;5;124mPrecision\u001b[39m\u001b[38;5;124m'\u001b[39m, on_plot\u001b[38;5;241m=\u001b[39mon_plot)\n",
      "File \u001b[1;32mc:\\Users\\bcw60\\anaconda3\\envs\\yolov8\\lib\\site-packages\\ultralytics\\utils\\__init__.py:215\u001b[0m, in \u001b[0;36mplt_settings.<locals>.decorator.<locals>.wrapper\u001b[1;34m(*args, **kwargs)\u001b[0m\n\u001b[0;32m    212\u001b[0m     plt\u001b[38;5;241m.\u001b[39mswitch_backend(backend)\n\u001b[0;32m    214\u001b[0m \u001b[38;5;28;01mwith\u001b[39;00m plt\u001b[38;5;241m.\u001b[39mrc_context(rcparams):\n\u001b[1;32m--> 215\u001b[0m     result \u001b[38;5;241m=\u001b[39m func(\u001b[38;5;241m*\u001b[39margs, \u001b[38;5;241m*\u001b[39m\u001b[38;5;241m*\u001b[39mkwargs)\n\u001b[0;32m    217\u001b[0m \u001b[38;5;28;01mif\u001b[39;00m backend \u001b[38;5;241m!=\u001b[39m original_backend:\n\u001b[0;32m    218\u001b[0m     plt\u001b[38;5;241m.\u001b[39mclose(\u001b[38;5;124m'\u001b[39m\u001b[38;5;124mall\u001b[39m\u001b[38;5;124m'\u001b[39m)\n",
      "File \u001b[1;32mc:\\Users\\bcw60\\anaconda3\\envs\\yolov8\\lib\\site-packages\\ultralytics\\utils\\metrics.py:358\u001b[0m, in \u001b[0;36mplot_pr_curve\u001b[1;34m(px, py, ap, save_dir, names, on_plot)\u001b[0m\n\u001b[0;32m    356\u001b[0m ax\u001b[38;5;241m.\u001b[39mlegend(bbox_to_anchor\u001b[38;5;241m=\u001b[39m(\u001b[38;5;241m1.04\u001b[39m, \u001b[38;5;241m1\u001b[39m), loc\u001b[38;5;241m=\u001b[39m\u001b[38;5;124m'\u001b[39m\u001b[38;5;124mupper left\u001b[39m\u001b[38;5;124m'\u001b[39m)\n\u001b[0;32m    357\u001b[0m ax\u001b[38;5;241m.\u001b[39mset_title(\u001b[38;5;124m'\u001b[39m\u001b[38;5;124mPrecision-Recall Curve\u001b[39m\u001b[38;5;124m'\u001b[39m)\n\u001b[1;32m--> 358\u001b[0m \u001b[43mfig\u001b[49m\u001b[38;5;241;43m.\u001b[39;49m\u001b[43msavefig\u001b[49m\u001b[43m(\u001b[49m\u001b[43msave_dir\u001b[49m\u001b[43m,\u001b[49m\u001b[43m \u001b[49m\u001b[43mdpi\u001b[49m\u001b[38;5;241;43m=\u001b[39;49m\u001b[38;5;241;43m250\u001b[39;49m\u001b[43m)\u001b[49m\n\u001b[0;32m    359\u001b[0m plt\u001b[38;5;241m.\u001b[39mclose(fig)\n\u001b[0;32m    360\u001b[0m \u001b[38;5;28;01mif\u001b[39;00m on_plot:\n",
      "File \u001b[1;32mc:\\Users\\bcw60\\anaconda3\\envs\\yolov8\\lib\\site-packages\\matplotlib\\figure.py:3390\u001b[0m, in \u001b[0;36mFigure.savefig\u001b[1;34m(self, fname, transparent, **kwargs)\u001b[0m\n\u001b[0;32m   3388\u001b[0m     \u001b[38;5;28;01mfor\u001b[39;00m ax \u001b[38;5;129;01min\u001b[39;00m \u001b[38;5;28mself\u001b[39m\u001b[38;5;241m.\u001b[39maxes:\n\u001b[0;32m   3389\u001b[0m         _recursively_make_axes_transparent(stack, ax)\n\u001b[1;32m-> 3390\u001b[0m \u001b[38;5;28mself\u001b[39m\u001b[38;5;241m.\u001b[39mcanvas\u001b[38;5;241m.\u001b[39mprint_figure(fname, \u001b[38;5;241m*\u001b[39m\u001b[38;5;241m*\u001b[39mkwargs)\n",
      "File \u001b[1;32mc:\\Users\\bcw60\\anaconda3\\envs\\yolov8\\lib\\site-packages\\matplotlib\\backend_bases.py:2158\u001b[0m, in \u001b[0;36mFigureCanvasBase.print_figure\u001b[1;34m(self, filename, dpi, facecolor, edgecolor, orientation, format, bbox_inches, pad_inches, bbox_extra_artists, backend, **kwargs)\u001b[0m\n\u001b[0;32m   2155\u001b[0m     \u001b[38;5;66;03m# we do this instead of `self.figure.draw_without_rendering`\u001b[39;00m\n\u001b[0;32m   2156\u001b[0m     \u001b[38;5;66;03m# so that we can inject the orientation\u001b[39;00m\n\u001b[0;32m   2157\u001b[0m     \u001b[38;5;28;01mwith\u001b[39;00m \u001b[38;5;28mgetattr\u001b[39m(renderer, \u001b[38;5;124m\"\u001b[39m\u001b[38;5;124m_draw_disabled\u001b[39m\u001b[38;5;124m\"\u001b[39m, nullcontext)():\n\u001b[1;32m-> 2158\u001b[0m         \u001b[38;5;28;43mself\u001b[39;49m\u001b[38;5;241;43m.\u001b[39;49m\u001b[43mfigure\u001b[49m\u001b[38;5;241;43m.\u001b[39;49m\u001b[43mdraw\u001b[49m\u001b[43m(\u001b[49m\u001b[43mrenderer\u001b[49m\u001b[43m)\u001b[49m\n\u001b[0;32m   2159\u001b[0m \u001b[38;5;28;01mif\u001b[39;00m bbox_inches:\n\u001b[0;32m   2160\u001b[0m     \u001b[38;5;28;01mif\u001b[39;00m bbox_inches \u001b[38;5;241m==\u001b[39m \u001b[38;5;124m\"\u001b[39m\u001b[38;5;124mtight\u001b[39m\u001b[38;5;124m\"\u001b[39m:\n",
      "File \u001b[1;32mc:\\Users\\bcw60\\anaconda3\\envs\\yolov8\\lib\\site-packages\\matplotlib\\artist.py:95\u001b[0m, in \u001b[0;36m_finalize_rasterization.<locals>.draw_wrapper\u001b[1;34m(artist, renderer, *args, **kwargs)\u001b[0m\n\u001b[0;32m     93\u001b[0m \u001b[38;5;129m@wraps\u001b[39m(draw)\n\u001b[0;32m     94\u001b[0m \u001b[38;5;28;01mdef\u001b[39;00m \u001b[38;5;21mdraw_wrapper\u001b[39m(artist, renderer, \u001b[38;5;241m*\u001b[39margs, \u001b[38;5;241m*\u001b[39m\u001b[38;5;241m*\u001b[39mkwargs):\n\u001b[1;32m---> 95\u001b[0m     result \u001b[38;5;241m=\u001b[39m draw(artist, renderer, \u001b[38;5;241m*\u001b[39margs, \u001b[38;5;241m*\u001b[39m\u001b[38;5;241m*\u001b[39mkwargs)\n\u001b[0;32m     96\u001b[0m     \u001b[38;5;28;01mif\u001b[39;00m renderer\u001b[38;5;241m.\u001b[39m_rasterizing:\n\u001b[0;32m     97\u001b[0m         renderer\u001b[38;5;241m.\u001b[39mstop_rasterizing()\n",
      "File \u001b[1;32mc:\\Users\\bcw60\\anaconda3\\envs\\yolov8\\lib\\site-packages\\matplotlib\\artist.py:72\u001b[0m, in \u001b[0;36mallow_rasterization.<locals>.draw_wrapper\u001b[1;34m(artist, renderer)\u001b[0m\n\u001b[0;32m     69\u001b[0m     \u001b[38;5;28;01mif\u001b[39;00m artist\u001b[38;5;241m.\u001b[39mget_agg_filter() \u001b[38;5;129;01mis\u001b[39;00m \u001b[38;5;129;01mnot\u001b[39;00m \u001b[38;5;28;01mNone\u001b[39;00m:\n\u001b[0;32m     70\u001b[0m         renderer\u001b[38;5;241m.\u001b[39mstart_filter()\n\u001b[1;32m---> 72\u001b[0m     \u001b[38;5;28;01mreturn\u001b[39;00m \u001b[43mdraw\u001b[49m\u001b[43m(\u001b[49m\u001b[43martist\u001b[49m\u001b[43m,\u001b[49m\u001b[43m \u001b[49m\u001b[43mrenderer\u001b[49m\u001b[43m)\u001b[49m\n\u001b[0;32m     73\u001b[0m \u001b[38;5;28;01mfinally\u001b[39;00m:\n\u001b[0;32m     74\u001b[0m     \u001b[38;5;28;01mif\u001b[39;00m artist\u001b[38;5;241m.\u001b[39mget_agg_filter() \u001b[38;5;129;01mis\u001b[39;00m \u001b[38;5;129;01mnot\u001b[39;00m \u001b[38;5;28;01mNone\u001b[39;00m:\n",
      "File \u001b[1;32mc:\\Users\\bcw60\\anaconda3\\envs\\yolov8\\lib\\site-packages\\matplotlib\\figure.py:3154\u001b[0m, in \u001b[0;36mFigure.draw\u001b[1;34m(self, renderer)\u001b[0m\n\u001b[0;32m   3151\u001b[0m         \u001b[38;5;66;03m# ValueError can occur when resizing a window.\u001b[39;00m\n\u001b[0;32m   3153\u001b[0m \u001b[38;5;28mself\u001b[39m\u001b[38;5;241m.\u001b[39mpatch\u001b[38;5;241m.\u001b[39mdraw(renderer)\n\u001b[1;32m-> 3154\u001b[0m \u001b[43mmimage\u001b[49m\u001b[38;5;241;43m.\u001b[39;49m\u001b[43m_draw_list_compositing_images\u001b[49m\u001b[43m(\u001b[49m\n\u001b[0;32m   3155\u001b[0m \u001b[43m    \u001b[49m\u001b[43mrenderer\u001b[49m\u001b[43m,\u001b[49m\u001b[43m \u001b[49m\u001b[38;5;28;43mself\u001b[39;49m\u001b[43m,\u001b[49m\u001b[43m \u001b[49m\u001b[43martists\u001b[49m\u001b[43m,\u001b[49m\u001b[43m \u001b[49m\u001b[38;5;28;43mself\u001b[39;49m\u001b[38;5;241;43m.\u001b[39;49m\u001b[43msuppressComposite\u001b[49m\u001b[43m)\u001b[49m\n\u001b[0;32m   3157\u001b[0m \u001b[38;5;28;01mfor\u001b[39;00m sfig \u001b[38;5;129;01min\u001b[39;00m \u001b[38;5;28mself\u001b[39m\u001b[38;5;241m.\u001b[39msubfigs:\n\u001b[0;32m   3158\u001b[0m     sfig\u001b[38;5;241m.\u001b[39mdraw(renderer)\n",
      "File \u001b[1;32mc:\\Users\\bcw60\\anaconda3\\envs\\yolov8\\lib\\site-packages\\matplotlib\\image.py:132\u001b[0m, in \u001b[0;36m_draw_list_compositing_images\u001b[1;34m(renderer, parent, artists, suppress_composite)\u001b[0m\n\u001b[0;32m    130\u001b[0m \u001b[38;5;28;01mif\u001b[39;00m not_composite \u001b[38;5;129;01mor\u001b[39;00m \u001b[38;5;129;01mnot\u001b[39;00m has_images:\n\u001b[0;32m    131\u001b[0m     \u001b[38;5;28;01mfor\u001b[39;00m a \u001b[38;5;129;01min\u001b[39;00m artists:\n\u001b[1;32m--> 132\u001b[0m         \u001b[43ma\u001b[49m\u001b[38;5;241;43m.\u001b[39;49m\u001b[43mdraw\u001b[49m\u001b[43m(\u001b[49m\u001b[43mrenderer\u001b[49m\u001b[43m)\u001b[49m\n\u001b[0;32m    133\u001b[0m \u001b[38;5;28;01melse\u001b[39;00m:\n\u001b[0;32m    134\u001b[0m     \u001b[38;5;66;03m# Composite any adjacent images together\u001b[39;00m\n\u001b[0;32m    135\u001b[0m     image_group \u001b[38;5;241m=\u001b[39m []\n",
      "File \u001b[1;32mc:\\Users\\bcw60\\anaconda3\\envs\\yolov8\\lib\\site-packages\\matplotlib\\artist.py:72\u001b[0m, in \u001b[0;36mallow_rasterization.<locals>.draw_wrapper\u001b[1;34m(artist, renderer)\u001b[0m\n\u001b[0;32m     69\u001b[0m     \u001b[38;5;28;01mif\u001b[39;00m artist\u001b[38;5;241m.\u001b[39mget_agg_filter() \u001b[38;5;129;01mis\u001b[39;00m \u001b[38;5;129;01mnot\u001b[39;00m \u001b[38;5;28;01mNone\u001b[39;00m:\n\u001b[0;32m     70\u001b[0m         renderer\u001b[38;5;241m.\u001b[39mstart_filter()\n\u001b[1;32m---> 72\u001b[0m     \u001b[38;5;28;01mreturn\u001b[39;00m \u001b[43mdraw\u001b[49m\u001b[43m(\u001b[49m\u001b[43martist\u001b[49m\u001b[43m,\u001b[49m\u001b[43m \u001b[49m\u001b[43mrenderer\u001b[49m\u001b[43m)\u001b[49m\n\u001b[0;32m     73\u001b[0m \u001b[38;5;28;01mfinally\u001b[39;00m:\n\u001b[0;32m     74\u001b[0m     \u001b[38;5;28;01mif\u001b[39;00m artist\u001b[38;5;241m.\u001b[39mget_agg_filter() \u001b[38;5;129;01mis\u001b[39;00m \u001b[38;5;129;01mnot\u001b[39;00m \u001b[38;5;28;01mNone\u001b[39;00m:\n",
      "File \u001b[1;32mc:\\Users\\bcw60\\anaconda3\\envs\\yolov8\\lib\\site-packages\\matplotlib\\axes\\_base.py:3034\u001b[0m, in \u001b[0;36m_AxesBase.draw\u001b[1;34m(self, renderer)\u001b[0m\n\u001b[0;32m   3031\u001b[0m     \u001b[38;5;28;01mfor\u001b[39;00m spine \u001b[38;5;129;01min\u001b[39;00m \u001b[38;5;28mself\u001b[39m\u001b[38;5;241m.\u001b[39mspines\u001b[38;5;241m.\u001b[39mvalues():\n\u001b[0;32m   3032\u001b[0m         artists\u001b[38;5;241m.\u001b[39mremove(spine)\n\u001b[1;32m-> 3034\u001b[0m \u001b[38;5;28;43mself\u001b[39;49m\u001b[38;5;241;43m.\u001b[39;49m\u001b[43m_update_title_position\u001b[49m\u001b[43m(\u001b[49m\u001b[43mrenderer\u001b[49m\u001b[43m)\u001b[49m\n\u001b[0;32m   3036\u001b[0m \u001b[38;5;28;01mif\u001b[39;00m \u001b[38;5;129;01mnot\u001b[39;00m \u001b[38;5;28mself\u001b[39m\u001b[38;5;241m.\u001b[39maxison:\n\u001b[0;32m   3037\u001b[0m     \u001b[38;5;28;01mfor\u001b[39;00m _axis \u001b[38;5;129;01min\u001b[39;00m \u001b[38;5;28mself\u001b[39m\u001b[38;5;241m.\u001b[39m_axis_map\u001b[38;5;241m.\u001b[39mvalues():\n",
      "File \u001b[1;32mc:\\Users\\bcw60\\anaconda3\\envs\\yolov8\\lib\\site-packages\\matplotlib\\axes\\_base.py:2978\u001b[0m, in \u001b[0;36m_AxesBase._update_title_position\u001b[1;34m(self, renderer)\u001b[0m\n\u001b[0;32m   2976\u001b[0m top \u001b[38;5;241m=\u001b[39m \u001b[38;5;28mmax\u001b[39m(top, bb\u001b[38;5;241m.\u001b[39mymax)\n\u001b[0;32m   2977\u001b[0m \u001b[38;5;28;01mif\u001b[39;00m title\u001b[38;5;241m.\u001b[39mget_text():\n\u001b[1;32m-> 2978\u001b[0m     \u001b[43max\u001b[49m\u001b[38;5;241;43m.\u001b[39;49m\u001b[43myaxis\u001b[49m\u001b[38;5;241;43m.\u001b[39;49m\u001b[43mget_tightbbox\u001b[49m\u001b[43m(\u001b[49m\u001b[43mrenderer\u001b[49m\u001b[43m)\u001b[49m  \u001b[38;5;66;03m# update offsetText\u001b[39;00m\n\u001b[0;32m   2979\u001b[0m     \u001b[38;5;28;01mif\u001b[39;00m ax\u001b[38;5;241m.\u001b[39myaxis\u001b[38;5;241m.\u001b[39moffsetText\u001b[38;5;241m.\u001b[39mget_text():\n\u001b[0;32m   2980\u001b[0m         bb \u001b[38;5;241m=\u001b[39m ax\u001b[38;5;241m.\u001b[39myaxis\u001b[38;5;241m.\u001b[39moffsetText\u001b[38;5;241m.\u001b[39mget_tightbbox(renderer)\n",
      "File \u001b[1;32mc:\\Users\\bcw60\\anaconda3\\envs\\yolov8\\lib\\site-packages\\matplotlib\\axis.py:1336\u001b[0m, in \u001b[0;36mAxis.get_tightbbox\u001b[1;34m(self, renderer, for_layout_only)\u001b[0m\n\u001b[0;32m   1333\u001b[0m     renderer \u001b[38;5;241m=\u001b[39m \u001b[38;5;28mself\u001b[39m\u001b[38;5;241m.\u001b[39mfigure\u001b[38;5;241m.\u001b[39m_get_renderer()\n\u001b[0;32m   1334\u001b[0m ticks_to_draw \u001b[38;5;241m=\u001b[39m \u001b[38;5;28mself\u001b[39m\u001b[38;5;241m.\u001b[39m_update_ticks()\n\u001b[1;32m-> 1336\u001b[0m \u001b[38;5;28;43mself\u001b[39;49m\u001b[38;5;241;43m.\u001b[39;49m\u001b[43m_update_label_position\u001b[49m\u001b[43m(\u001b[49m\u001b[43mrenderer\u001b[49m\u001b[43m)\u001b[49m\n\u001b[0;32m   1338\u001b[0m \u001b[38;5;66;03m# go back to just this axis's tick labels\u001b[39;00m\n\u001b[0;32m   1339\u001b[0m tlb1, tlb2 \u001b[38;5;241m=\u001b[39m \u001b[38;5;28mself\u001b[39m\u001b[38;5;241m.\u001b[39m_get_ticklabel_bboxes(ticks_to_draw, renderer)\n",
      "File \u001b[1;32mc:\\Users\\bcw60\\anaconda3\\envs\\yolov8\\lib\\site-packages\\matplotlib\\axis.py:2609\u001b[0m, in \u001b[0;36mYAxis._update_label_position\u001b[1;34m(self, renderer)\u001b[0m\n\u001b[0;32m   2605\u001b[0m     \u001b[38;5;28;01mreturn\u001b[39;00m\n\u001b[0;32m   2607\u001b[0m \u001b[38;5;66;03m# get bounding boxes for this axis and any siblings\u001b[39;00m\n\u001b[0;32m   2608\u001b[0m \u001b[38;5;66;03m# that have been set by `fig.align_ylabels()`\u001b[39;00m\n\u001b[1;32m-> 2609\u001b[0m bboxes, bboxes2 \u001b[38;5;241m=\u001b[39m \u001b[38;5;28;43mself\u001b[39;49m\u001b[38;5;241;43m.\u001b[39;49m\u001b[43m_get_tick_boxes_siblings\u001b[49m\u001b[43m(\u001b[49m\u001b[43mrenderer\u001b[49m\u001b[38;5;241;43m=\u001b[39;49m\u001b[43mrenderer\u001b[49m\u001b[43m)\u001b[49m\n\u001b[0;32m   2610\u001b[0m x, y \u001b[38;5;241m=\u001b[39m \u001b[38;5;28mself\u001b[39m\u001b[38;5;241m.\u001b[39mlabel\u001b[38;5;241m.\u001b[39mget_position()\n\u001b[0;32m   2611\u001b[0m \u001b[38;5;28;01mif\u001b[39;00m \u001b[38;5;28mself\u001b[39m\u001b[38;5;241m.\u001b[39mlabel_position \u001b[38;5;241m==\u001b[39m \u001b[38;5;124m'\u001b[39m\u001b[38;5;124mleft\u001b[39m\u001b[38;5;124m'\u001b[39m:\n",
      "File \u001b[1;32mc:\\Users\\bcw60\\anaconda3\\envs\\yolov8\\lib\\site-packages\\matplotlib\\axis.py:2161\u001b[0m, in \u001b[0;36mAxis._get_tick_boxes_siblings\u001b[1;34m(self, renderer)\u001b[0m\n\u001b[0;32m   2159\u001b[0m axis \u001b[38;5;241m=\u001b[39m ax\u001b[38;5;241m.\u001b[39m_axis_map[name]\n\u001b[0;32m   2160\u001b[0m ticks_to_draw \u001b[38;5;241m=\u001b[39m axis\u001b[38;5;241m.\u001b[39m_update_ticks()\n\u001b[1;32m-> 2161\u001b[0m tlb, tlb2 \u001b[38;5;241m=\u001b[39m \u001b[43maxis\u001b[49m\u001b[38;5;241;43m.\u001b[39;49m\u001b[43m_get_ticklabel_bboxes\u001b[49m\u001b[43m(\u001b[49m\u001b[43mticks_to_draw\u001b[49m\u001b[43m,\u001b[49m\u001b[43m \u001b[49m\u001b[43mrenderer\u001b[49m\u001b[43m)\u001b[49m\n\u001b[0;32m   2162\u001b[0m bboxes\u001b[38;5;241m.\u001b[39mextend(tlb)\n\u001b[0;32m   2163\u001b[0m bboxes2\u001b[38;5;241m.\u001b[39mextend(tlb2)\n",
      "File \u001b[1;32mc:\\Users\\bcw60\\anaconda3\\envs\\yolov8\\lib\\site-packages\\matplotlib\\axis.py:1315\u001b[0m, in \u001b[0;36mAxis._get_ticklabel_bboxes\u001b[1;34m(self, ticks, renderer)\u001b[0m\n\u001b[0;32m   1313\u001b[0m \u001b[38;5;28;01mif\u001b[39;00m renderer \u001b[38;5;129;01mis\u001b[39;00m \u001b[38;5;28;01mNone\u001b[39;00m:\n\u001b[0;32m   1314\u001b[0m     renderer \u001b[38;5;241m=\u001b[39m \u001b[38;5;28mself\u001b[39m\u001b[38;5;241m.\u001b[39mfigure\u001b[38;5;241m.\u001b[39m_get_renderer()\n\u001b[1;32m-> 1315\u001b[0m \u001b[38;5;28;01mreturn\u001b[39;00m ([tick\u001b[38;5;241m.\u001b[39mlabel1\u001b[38;5;241m.\u001b[39mget_window_extent(renderer)\n\u001b[0;32m   1316\u001b[0m          \u001b[38;5;28;01mfor\u001b[39;00m tick \u001b[38;5;129;01min\u001b[39;00m ticks \u001b[38;5;28;01mif\u001b[39;00m tick\u001b[38;5;241m.\u001b[39mlabel1\u001b[38;5;241m.\u001b[39mget_visible()],\n\u001b[0;32m   1317\u001b[0m         [tick\u001b[38;5;241m.\u001b[39mlabel2\u001b[38;5;241m.\u001b[39mget_window_extent(renderer)\n\u001b[0;32m   1318\u001b[0m          \u001b[38;5;28;01mfor\u001b[39;00m tick \u001b[38;5;129;01min\u001b[39;00m ticks \u001b[38;5;28;01mif\u001b[39;00m tick\u001b[38;5;241m.\u001b[39mlabel2\u001b[38;5;241m.\u001b[39mget_visible()])\n",
      "File \u001b[1;32mc:\\Users\\bcw60\\anaconda3\\envs\\yolov8\\lib\\site-packages\\matplotlib\\axis.py:1315\u001b[0m, in \u001b[0;36m<listcomp>\u001b[1;34m(.0)\u001b[0m\n\u001b[0;32m   1313\u001b[0m \u001b[38;5;28;01mif\u001b[39;00m renderer \u001b[38;5;129;01mis\u001b[39;00m \u001b[38;5;28;01mNone\u001b[39;00m:\n\u001b[0;32m   1314\u001b[0m     renderer \u001b[38;5;241m=\u001b[39m \u001b[38;5;28mself\u001b[39m\u001b[38;5;241m.\u001b[39mfigure\u001b[38;5;241m.\u001b[39m_get_renderer()\n\u001b[1;32m-> 1315\u001b[0m \u001b[38;5;28;01mreturn\u001b[39;00m ([\u001b[43mtick\u001b[49m\u001b[38;5;241;43m.\u001b[39;49m\u001b[43mlabel1\u001b[49m\u001b[38;5;241;43m.\u001b[39;49m\u001b[43mget_window_extent\u001b[49m\u001b[43m(\u001b[49m\u001b[43mrenderer\u001b[49m\u001b[43m)\u001b[49m\n\u001b[0;32m   1316\u001b[0m          \u001b[38;5;28;01mfor\u001b[39;00m tick \u001b[38;5;129;01min\u001b[39;00m ticks \u001b[38;5;28;01mif\u001b[39;00m tick\u001b[38;5;241m.\u001b[39mlabel1\u001b[38;5;241m.\u001b[39mget_visible()],\n\u001b[0;32m   1317\u001b[0m         [tick\u001b[38;5;241m.\u001b[39mlabel2\u001b[38;5;241m.\u001b[39mget_window_extent(renderer)\n\u001b[0;32m   1318\u001b[0m          \u001b[38;5;28;01mfor\u001b[39;00m tick \u001b[38;5;129;01min\u001b[39;00m ticks \u001b[38;5;28;01mif\u001b[39;00m tick\u001b[38;5;241m.\u001b[39mlabel2\u001b[38;5;241m.\u001b[39mget_visible()])\n",
      "File \u001b[1;32mc:\\Users\\bcw60\\anaconda3\\envs\\yolov8\\lib\\site-packages\\matplotlib\\text.py:956\u001b[0m, in \u001b[0;36mText.get_window_extent\u001b[1;34m(self, renderer, dpi)\u001b[0m\n\u001b[0;32m    951\u001b[0m     \u001b[38;5;28;01mraise\u001b[39;00m \u001b[38;5;167;01mRuntimeError\u001b[39;00m(\n\u001b[0;32m    952\u001b[0m         \u001b[38;5;124m\"\u001b[39m\u001b[38;5;124mCannot get window extent of text w/o renderer. You likely \u001b[39m\u001b[38;5;124m\"\u001b[39m\n\u001b[0;32m    953\u001b[0m         \u001b[38;5;124m\"\u001b[39m\u001b[38;5;124mwant to call \u001b[39m\u001b[38;5;124m'\u001b[39m\u001b[38;5;124mfigure.draw_without_rendering()\u001b[39m\u001b[38;5;124m'\u001b[39m\u001b[38;5;124m first.\u001b[39m\u001b[38;5;124m\"\u001b[39m)\n\u001b[0;32m    955\u001b[0m \u001b[38;5;28;01mwith\u001b[39;00m cbook\u001b[38;5;241m.\u001b[39m_setattr_cm(\u001b[38;5;28mself\u001b[39m\u001b[38;5;241m.\u001b[39mfigure, dpi\u001b[38;5;241m=\u001b[39mdpi):\n\u001b[1;32m--> 956\u001b[0m     bbox, info, descent \u001b[38;5;241m=\u001b[39m \u001b[38;5;28;43mself\u001b[39;49m\u001b[38;5;241;43m.\u001b[39;49m\u001b[43m_get_layout\u001b[49m\u001b[43m(\u001b[49m\u001b[38;5;28;43mself\u001b[39;49m\u001b[38;5;241;43m.\u001b[39;49m\u001b[43m_renderer\u001b[49m\u001b[43m)\u001b[49m\n\u001b[0;32m    957\u001b[0m     x, y \u001b[38;5;241m=\u001b[39m \u001b[38;5;28mself\u001b[39m\u001b[38;5;241m.\u001b[39mget_unitless_position()\n\u001b[0;32m    958\u001b[0m     x, y \u001b[38;5;241m=\u001b[39m \u001b[38;5;28mself\u001b[39m\u001b[38;5;241m.\u001b[39mget_transform()\u001b[38;5;241m.\u001b[39mtransform((x, y))\n",
      "File \u001b[1;32mc:\\Users\\bcw60\\anaconda3\\envs\\yolov8\\lib\\site-packages\\matplotlib\\text.py:373\u001b[0m, in \u001b[0;36mText._get_layout\u001b[1;34m(self, renderer)\u001b[0m\n\u001b[0;32m    370\u001b[0m ys \u001b[38;5;241m=\u001b[39m []\n\u001b[0;32m    372\u001b[0m \u001b[38;5;66;03m# Full vertical extent of font, including ascenders and descenders:\u001b[39;00m\n\u001b[1;32m--> 373\u001b[0m _, lp_h, lp_d \u001b[38;5;241m=\u001b[39m \u001b[43m_get_text_metrics_with_cache\u001b[49m\u001b[43m(\u001b[49m\n\u001b[0;32m    374\u001b[0m \u001b[43m    \u001b[49m\u001b[43mrenderer\u001b[49m\u001b[43m,\u001b[49m\u001b[43m \u001b[49m\u001b[38;5;124;43m\"\u001b[39;49m\u001b[38;5;124;43mlp\u001b[39;49m\u001b[38;5;124;43m\"\u001b[39;49m\u001b[43m,\u001b[49m\u001b[43m \u001b[49m\u001b[38;5;28;43mself\u001b[39;49m\u001b[38;5;241;43m.\u001b[39;49m\u001b[43m_fontproperties\u001b[49m\u001b[43m,\u001b[49m\n\u001b[0;32m    375\u001b[0m \u001b[43m    \u001b[49m\u001b[43mismath\u001b[49m\u001b[38;5;241;43m=\u001b[39;49m\u001b[38;5;124;43m\"\u001b[39;49m\u001b[38;5;124;43mTeX\u001b[39;49m\u001b[38;5;124;43m\"\u001b[39;49m\u001b[43m \u001b[49m\u001b[38;5;28;43;01mif\u001b[39;49;00m\u001b[43m \u001b[49m\u001b[38;5;28;43mself\u001b[39;49m\u001b[38;5;241;43m.\u001b[39;49m\u001b[43mget_usetex\u001b[49m\u001b[43m(\u001b[49m\u001b[43m)\u001b[49m\u001b[43m \u001b[49m\u001b[38;5;28;43;01melse\u001b[39;49;00m\u001b[43m \u001b[49m\u001b[38;5;28;43;01mFalse\u001b[39;49;00m\u001b[43m,\u001b[49m\u001b[43m \u001b[49m\u001b[43mdpi\u001b[49m\u001b[38;5;241;43m=\u001b[39;49m\u001b[38;5;28;43mself\u001b[39;49m\u001b[38;5;241;43m.\u001b[39;49m\u001b[43mfigure\u001b[49m\u001b[38;5;241;43m.\u001b[39;49m\u001b[43mdpi\u001b[49m\u001b[43m)\u001b[49m\n\u001b[0;32m    376\u001b[0m min_dy \u001b[38;5;241m=\u001b[39m (lp_h \u001b[38;5;241m-\u001b[39m lp_d) \u001b[38;5;241m*\u001b[39m \u001b[38;5;28mself\u001b[39m\u001b[38;5;241m.\u001b[39m_linespacing\n\u001b[0;32m    378\u001b[0m \u001b[38;5;28;01mfor\u001b[39;00m i, line \u001b[38;5;129;01min\u001b[39;00m \u001b[38;5;28menumerate\u001b[39m(lines):\n",
      "File \u001b[1;32mc:\\Users\\bcw60\\anaconda3\\envs\\yolov8\\lib\\site-packages\\matplotlib\\text.py:69\u001b[0m, in \u001b[0;36m_get_text_metrics_with_cache\u001b[1;34m(renderer, text, fontprop, ismath, dpi)\u001b[0m\n\u001b[0;32m     66\u001b[0m \u001b[38;5;250m\u001b[39m\u001b[38;5;124;03m\"\"\"Call ``renderer.get_text_width_height_descent``, caching the results.\"\"\"\u001b[39;00m\n\u001b[0;32m     67\u001b[0m \u001b[38;5;66;03m# Cached based on a copy of fontprop so that later in-place mutations of\u001b[39;00m\n\u001b[0;32m     68\u001b[0m \u001b[38;5;66;03m# the passed-in argument do not mess up the cache.\u001b[39;00m\n\u001b[1;32m---> 69\u001b[0m \u001b[38;5;28;01mreturn\u001b[39;00m \u001b[43m_get_text_metrics_with_cache_impl\u001b[49m\u001b[43m(\u001b[49m\n\u001b[0;32m     70\u001b[0m \u001b[43m    \u001b[49m\u001b[43mweakref\u001b[49m\u001b[38;5;241;43m.\u001b[39;49m\u001b[43mref\u001b[49m\u001b[43m(\u001b[49m\u001b[43mrenderer\u001b[49m\u001b[43m)\u001b[49m\u001b[43m,\u001b[49m\u001b[43m \u001b[49m\u001b[43mtext\u001b[49m\u001b[43m,\u001b[49m\u001b[43m \u001b[49m\u001b[43mfontprop\u001b[49m\u001b[38;5;241;43m.\u001b[39;49m\u001b[43mcopy\u001b[49m\u001b[43m(\u001b[49m\u001b[43m)\u001b[49m\u001b[43m,\u001b[49m\u001b[43m \u001b[49m\u001b[43mismath\u001b[49m\u001b[43m,\u001b[49m\u001b[43m \u001b[49m\u001b[43mdpi\u001b[49m\u001b[43m)\u001b[49m\n",
      "File \u001b[1;32mc:\\Users\\bcw60\\anaconda3\\envs\\yolov8\\lib\\site-packages\\matplotlib\\text.py:77\u001b[0m, in \u001b[0;36m_get_text_metrics_with_cache_impl\u001b[1;34m(renderer_ref, text, fontprop, ismath, dpi)\u001b[0m\n\u001b[0;32m     73\u001b[0m \u001b[38;5;129m@functools\u001b[39m\u001b[38;5;241m.\u001b[39mlru_cache(\u001b[38;5;241m4096\u001b[39m)\n\u001b[0;32m     74\u001b[0m \u001b[38;5;28;01mdef\u001b[39;00m \u001b[38;5;21m_get_text_metrics_with_cache_impl\u001b[39m(\n\u001b[0;32m     75\u001b[0m         renderer_ref, text, fontprop, ismath, dpi):\n\u001b[0;32m     76\u001b[0m     \u001b[38;5;66;03m# dpi is unused, but participates in cache invalidation (via the renderer).\u001b[39;00m\n\u001b[1;32m---> 77\u001b[0m     \u001b[38;5;28;01mreturn\u001b[39;00m \u001b[43mrenderer_ref\u001b[49m\u001b[43m(\u001b[49m\u001b[43m)\u001b[49m\u001b[38;5;241;43m.\u001b[39;49m\u001b[43mget_text_width_height_descent\u001b[49m\u001b[43m(\u001b[49m\u001b[43mtext\u001b[49m\u001b[43m,\u001b[49m\u001b[43m \u001b[49m\u001b[43mfontprop\u001b[49m\u001b[43m,\u001b[49m\u001b[43m \u001b[49m\u001b[43mismath\u001b[49m\u001b[43m)\u001b[49m\n",
      "File \u001b[1;32mc:\\Users\\bcw60\\anaconda3\\envs\\yolov8\\lib\\site-packages\\matplotlib\\backends\\backend_agg.py:220\u001b[0m, in \u001b[0;36mRendererAgg.get_text_width_height_descent\u001b[1;34m(self, s, prop, ismath)\u001b[0m\n\u001b[0;32m    216\u001b[0m     ox, oy, width, height, descent, font_image \u001b[38;5;241m=\u001b[39m \\\n\u001b[0;32m    217\u001b[0m         \u001b[38;5;28mself\u001b[39m\u001b[38;5;241m.\u001b[39mmathtext_parser\u001b[38;5;241m.\u001b[39mparse(s, \u001b[38;5;28mself\u001b[39m\u001b[38;5;241m.\u001b[39mdpi, prop)\n\u001b[0;32m    218\u001b[0m     \u001b[38;5;28;01mreturn\u001b[39;00m width, height, descent\n\u001b[1;32m--> 220\u001b[0m font \u001b[38;5;241m=\u001b[39m \u001b[38;5;28;43mself\u001b[39;49m\u001b[38;5;241;43m.\u001b[39;49m\u001b[43m_prepare_font\u001b[49m\u001b[43m(\u001b[49m\u001b[43mprop\u001b[49m\u001b[43m)\u001b[49m\n\u001b[0;32m    221\u001b[0m font\u001b[38;5;241m.\u001b[39mset_text(s, \u001b[38;5;241m0.0\u001b[39m, flags\u001b[38;5;241m=\u001b[39mget_hinting_flag())\n\u001b[0;32m    222\u001b[0m w, h \u001b[38;5;241m=\u001b[39m font\u001b[38;5;241m.\u001b[39mget_width_height()  \u001b[38;5;66;03m# width and height of unrotated string\u001b[39;00m\n",
      "File \u001b[1;32mc:\\Users\\bcw60\\anaconda3\\envs\\yolov8\\lib\\site-packages\\matplotlib\\backends\\backend_agg.py:254\u001b[0m, in \u001b[0;36mRendererAgg._prepare_font\u001b[1;34m(self, font_prop)\u001b[0m\n\u001b[0;32m    250\u001b[0m \u001b[38;5;28;01mdef\u001b[39;00m \u001b[38;5;21m_prepare_font\u001b[39m(\u001b[38;5;28mself\u001b[39m, font_prop):\n\u001b[0;32m    251\u001b[0m \u001b[38;5;250m    \u001b[39m\u001b[38;5;124;03m\"\"\"\u001b[39;00m\n\u001b[0;32m    252\u001b[0m \u001b[38;5;124;03m    Get the `.FT2Font` for *font_prop*, clear its buffer, and set its size.\u001b[39;00m\n\u001b[0;32m    253\u001b[0m \u001b[38;5;124;03m    \"\"\"\u001b[39;00m\n\u001b[1;32m--> 254\u001b[0m     font \u001b[38;5;241m=\u001b[39m get_font(\u001b[43m_fontManager\u001b[49m\u001b[38;5;241;43m.\u001b[39;49m\u001b[43m_find_fonts_by_props\u001b[49m\u001b[43m(\u001b[49m\u001b[43mfont_prop\u001b[49m\u001b[43m)\u001b[49m)\n\u001b[0;32m    255\u001b[0m     font\u001b[38;5;241m.\u001b[39mclear()\n\u001b[0;32m    256\u001b[0m     size \u001b[38;5;241m=\u001b[39m font_prop\u001b[38;5;241m.\u001b[39mget_size_in_points()\n",
      "File \u001b[1;32mc:\\Users\\bcw60\\anaconda3\\envs\\yolov8\\lib\\site-packages\\matplotlib\\font_manager.py:1381\u001b[0m, in \u001b[0;36mFontManager._find_fonts_by_props\u001b[1;34m(self, prop, fontext, directory, fallback_to_default, rebuild_if_missing)\u001b[0m\n\u001b[0;32m   1378\u001b[0m     cprop \u001b[38;5;241m=\u001b[39m prop\u001b[38;5;241m.\u001b[39mcopy()\n\u001b[0;32m   1379\u001b[0m     cprop\u001b[38;5;241m.\u001b[39mset_family(dfamily)\n\u001b[0;32m   1380\u001b[0m     fpaths\u001b[38;5;241m.\u001b[39mappend(\n\u001b[1;32m-> 1381\u001b[0m         \u001b[38;5;28;43mself\u001b[39;49m\u001b[38;5;241;43m.\u001b[39;49m\u001b[43mfindfont\u001b[49m\u001b[43m(\u001b[49m\n\u001b[0;32m   1382\u001b[0m \u001b[43m            \u001b[49m\u001b[43mcprop\u001b[49m\u001b[43m,\u001b[49m\u001b[43m \u001b[49m\u001b[43mfontext\u001b[49m\u001b[43m,\u001b[49m\u001b[43m \u001b[49m\u001b[43mdirectory\u001b[49m\u001b[43m,\u001b[49m\n\u001b[0;32m   1383\u001b[0m \u001b[43m            \u001b[49m\u001b[43mfallback_to_default\u001b[49m\u001b[38;5;241;43m=\u001b[39;49m\u001b[38;5;28;43;01mTrue\u001b[39;49;00m\u001b[43m,\u001b[49m\n\u001b[0;32m   1384\u001b[0m \u001b[43m            \u001b[49m\u001b[43mrebuild_if_missing\u001b[49m\u001b[38;5;241;43m=\u001b[39;49m\u001b[43mrebuild_if_missing\u001b[49m\u001b[43m,\u001b[49m\n\u001b[0;32m   1385\u001b[0m \u001b[43m        \u001b[49m\u001b[43m)\u001b[49m\n\u001b[0;32m   1386\u001b[0m     )\n\u001b[0;32m   1387\u001b[0m \u001b[38;5;28;01melse\u001b[39;00m:\n\u001b[0;32m   1388\u001b[0m     \u001b[38;5;28;01mraise\u001b[39;00m \u001b[38;5;167;01mValueError\u001b[39;00m(\u001b[38;5;124m\"\u001b[39m\u001b[38;5;124mFailed to find any font, and fallback \u001b[39m\u001b[38;5;124m\"\u001b[39m\n\u001b[0;32m   1389\u001b[0m                      \u001b[38;5;124m\"\u001b[39m\u001b[38;5;124mto the default font was disabled\u001b[39m\u001b[38;5;124m\"\u001b[39m)\n",
      "File \u001b[1;32mc:\\Users\\bcw60\\anaconda3\\envs\\yolov8\\lib\\site-packages\\matplotlib\\font_manager.py:1292\u001b[0m, in \u001b[0;36mFontManager.findfont\u001b[1;34m(self, prop, fontext, directory, fallback_to_default, rebuild_if_missing)\u001b[0m\n\u001b[0;32m   1286\u001b[0m \u001b[38;5;66;03m# Pass the relevant rcParams (and the font manager, as `self`) to\u001b[39;00m\n\u001b[0;32m   1287\u001b[0m \u001b[38;5;66;03m# _findfont_cached so to prevent using a stale cache entry after an\u001b[39;00m\n\u001b[0;32m   1288\u001b[0m \u001b[38;5;66;03m# rcParam was changed.\u001b[39;00m\n\u001b[0;32m   1289\u001b[0m rc_params \u001b[38;5;241m=\u001b[39m \u001b[38;5;28mtuple\u001b[39m(\u001b[38;5;28mtuple\u001b[39m(mpl\u001b[38;5;241m.\u001b[39mrcParams[key]) \u001b[38;5;28;01mfor\u001b[39;00m key \u001b[38;5;129;01min\u001b[39;00m [\n\u001b[0;32m   1290\u001b[0m     \u001b[38;5;124m\"\u001b[39m\u001b[38;5;124mfont.serif\u001b[39m\u001b[38;5;124m\"\u001b[39m, \u001b[38;5;124m\"\u001b[39m\u001b[38;5;124mfont.sans-serif\u001b[39m\u001b[38;5;124m\"\u001b[39m, \u001b[38;5;124m\"\u001b[39m\u001b[38;5;124mfont.cursive\u001b[39m\u001b[38;5;124m\"\u001b[39m, \u001b[38;5;124m\"\u001b[39m\u001b[38;5;124mfont.fantasy\u001b[39m\u001b[38;5;124m\"\u001b[39m,\n\u001b[0;32m   1291\u001b[0m     \u001b[38;5;124m\"\u001b[39m\u001b[38;5;124mfont.monospace\u001b[39m\u001b[38;5;124m\"\u001b[39m])\n\u001b[1;32m-> 1292\u001b[0m ret \u001b[38;5;241m=\u001b[39m \u001b[38;5;28;43mself\u001b[39;49m\u001b[38;5;241;43m.\u001b[39;49m\u001b[43m_findfont_cached\u001b[49m\u001b[43m(\u001b[49m\n\u001b[0;32m   1293\u001b[0m \u001b[43m    \u001b[49m\u001b[43mprop\u001b[49m\u001b[43m,\u001b[49m\u001b[43m \u001b[49m\u001b[43mfontext\u001b[49m\u001b[43m,\u001b[49m\u001b[43m \u001b[49m\u001b[43mdirectory\u001b[49m\u001b[43m,\u001b[49m\u001b[43m \u001b[49m\u001b[43mfallback_to_default\u001b[49m\u001b[43m,\u001b[49m\u001b[43m \u001b[49m\u001b[43mrebuild_if_missing\u001b[49m\u001b[43m,\u001b[49m\n\u001b[0;32m   1294\u001b[0m \u001b[43m    \u001b[49m\u001b[43mrc_params\u001b[49m\u001b[43m)\u001b[49m\n\u001b[0;32m   1295\u001b[0m \u001b[38;5;28;01mif\u001b[39;00m \u001b[38;5;28misinstance\u001b[39m(ret, _ExceptionProxy):\n\u001b[0;32m   1296\u001b[0m     \u001b[38;5;28;01mraise\u001b[39;00m ret\u001b[38;5;241m.\u001b[39mklass(ret\u001b[38;5;241m.\u001b[39mmessage)\n",
      "File \u001b[1;32mc:\\Users\\bcw60\\anaconda3\\envs\\yolov8\\lib\\site-packages\\matplotlib\\font_manager.py:1443\u001b[0m, in \u001b[0;36mFontManager._findfont_cached\u001b[1;34m(self, prop, fontext, directory, fallback_to_default, rebuild_if_missing, rc_params)\u001b[0m\n\u001b[0;32m   1441\u001b[0m     default_prop \u001b[38;5;241m=\u001b[39m prop\u001b[38;5;241m.\u001b[39mcopy()\n\u001b[0;32m   1442\u001b[0m     default_prop\u001b[38;5;241m.\u001b[39mset_family(\u001b[38;5;28mself\u001b[39m\u001b[38;5;241m.\u001b[39mdefaultFamily[fontext])\n\u001b[1;32m-> 1443\u001b[0m     \u001b[38;5;28;01mreturn\u001b[39;00m \u001b[38;5;28;43mself\u001b[39;49m\u001b[38;5;241;43m.\u001b[39;49m\u001b[43mfindfont\u001b[49m\u001b[43m(\u001b[49m\u001b[43mdefault_prop\u001b[49m\u001b[43m,\u001b[49m\u001b[43m \u001b[49m\u001b[43mfontext\u001b[49m\u001b[43m,\u001b[49m\u001b[43m \u001b[49m\u001b[43mdirectory\u001b[49m\u001b[43m,\u001b[49m\n\u001b[0;32m   1444\u001b[0m \u001b[43m                         \u001b[49m\u001b[43mfallback_to_default\u001b[49m\u001b[38;5;241;43m=\u001b[39;49m\u001b[38;5;28;43;01mFalse\u001b[39;49;00m\u001b[43m)\u001b[49m\n\u001b[0;32m   1445\u001b[0m \u001b[38;5;28;01melse\u001b[39;00m:\n\u001b[0;32m   1446\u001b[0m     \u001b[38;5;66;03m# This return instead of raise is intentional, as we wish to\u001b[39;00m\n\u001b[0;32m   1447\u001b[0m     \u001b[38;5;66;03m# cache that it was not found, which will not occur if it was\u001b[39;00m\n\u001b[0;32m   1448\u001b[0m     \u001b[38;5;66;03m# actually raised.\u001b[39;00m\n\u001b[0;32m   1449\u001b[0m     \u001b[38;5;28;01mreturn\u001b[39;00m _ExceptionProxy(\n\u001b[0;32m   1450\u001b[0m         \u001b[38;5;167;01mValueError\u001b[39;00m,\n\u001b[0;32m   1451\u001b[0m         \u001b[38;5;124mf\u001b[39m\u001b[38;5;124m\"\u001b[39m\u001b[38;5;124mFailed to find font \u001b[39m\u001b[38;5;132;01m{\u001b[39;00mprop\u001b[38;5;132;01m}\u001b[39;00m\u001b[38;5;124m, and fallback to the default font was disabled\u001b[39m\u001b[38;5;124m\"\u001b[39m\n\u001b[0;32m   1452\u001b[0m     )\n",
      "File \u001b[1;32mc:\\Users\\bcw60\\anaconda3\\envs\\yolov8\\lib\\site-packages\\matplotlib\\font_manager.py:1296\u001b[0m, in \u001b[0;36mFontManager.findfont\u001b[1;34m(self, prop, fontext, directory, fallback_to_default, rebuild_if_missing)\u001b[0m\n\u001b[0;32m   1292\u001b[0m ret \u001b[38;5;241m=\u001b[39m \u001b[38;5;28mself\u001b[39m\u001b[38;5;241m.\u001b[39m_findfont_cached(\n\u001b[0;32m   1293\u001b[0m     prop, fontext, directory, fallback_to_default, rebuild_if_missing,\n\u001b[0;32m   1294\u001b[0m     rc_params)\n\u001b[0;32m   1295\u001b[0m \u001b[38;5;28;01mif\u001b[39;00m \u001b[38;5;28misinstance\u001b[39m(ret, _ExceptionProxy):\n\u001b[1;32m-> 1296\u001b[0m     \u001b[38;5;28;01mraise\u001b[39;00m ret\u001b[38;5;241m.\u001b[39mklass(ret\u001b[38;5;241m.\u001b[39mmessage)\n\u001b[0;32m   1297\u001b[0m \u001b[38;5;28;01mreturn\u001b[39;00m ret\n",
      "\u001b[1;31mValueError\u001b[0m: Failed to find font DejaVu Sans:style=normal:variant=normal:weight=normal:stretch=normal:size=11.0, and fallback to the default font was disabled"
     ]
    }
   ],
   "source": [
    "from ultralytics import YOLO as yolo\n",
    "model = yolo(\"C:/Users/bcw60/OneDrive/Desktop/mydrive/die/runs/segment/train10/weights/last.pt\")\n",
    "model.train(resume=True)"
   ]
  },
  {
   "cell_type": "code",
   "execution_count": 6,
   "metadata": {},
   "outputs": [
    {
     "name": "stdout",
     "output_type": "stream",
     "text": [
      "\n",
      "\n",
      "\n",
      "WARNING ⚠️ inference results will accumulate in RAM unless `stream=True` is passed, causing potential out-of-memory\n",
      "errors for large sources or long-running streams and videos. See https://docs.ultralytics.com/modes/predict/ for help.\n",
      "\n",
      "Example:\n",
      "    results = model(source=..., stream=True)  # generator of Results objects\n",
      "    for r in results:\n",
      "        boxes = r.boxes  # Boxes object for bbox outputs\n",
      "        masks = r.masks  # Masks object for segment masks outputs\n",
      "        probs = r.probs  # Class probabilities for classification outputs\n",
      "\n",
      "\n",
      "WARNING ⚠️ inference results will accumulate in RAM unless `stream=True` is passed, causing potential out-of-memory\n",
      "errors for large sources or long-running streams and videos. See https://docs.ultralytics.com/modes/predict/ for help.\n",
      "\n",
      "Example:\n",
      "    results = model(source=..., stream=True)  # generator of Results objects\n",
      "    for r in results:\n",
      "        boxes = r.boxes  # Boxes object for bbox outputs\n",
      "        masks = r.masks  # Masks object for segment masks outputs\n",
      "        probs = r.probs  # Class probabilities for classification outputs\n",
      "\n",
      "video 1/1 (1/1727) C:\\Users\\bcw60\\OneDrive\\Desktop\\TestData\\walker_hos.mp4: 384x640 (no detections), 34.2ms\n",
      "video 1/1 (1/1727) C:\\Users\\bcw60\\OneDrive\\Desktop\\TestData\\walker_hos.mp4: 384x640 (no detections), 34.2ms\n",
      "video 1/1 (2/1727) C:\\Users\\bcw60\\OneDrive\\Desktop\\TestData\\walker_hos.mp4: 384x640 (no detections), 49.2ms\n",
      "video 1/1 (2/1727) C:\\Users\\bcw60\\OneDrive\\Desktop\\TestData\\walker_hos.mp4: 384x640 (no detections), 49.2ms\n",
      "video 1/1 (3/1727) C:\\Users\\bcw60\\OneDrive\\Desktop\\TestData\\walker_hos.mp4: 384x640 (no detections), 31.6ms\n",
      "video 1/1 (3/1727) C:\\Users\\bcw60\\OneDrive\\Desktop\\TestData\\walker_hos.mp4: 384x640 (no detections), 31.6ms\n",
      "video 1/1 (4/1727) C:\\Users\\bcw60\\OneDrive\\Desktop\\TestData\\walker_hos.mp4: 384x640 (no detections), 33.6ms\n",
      "video 1/1 (4/1727) C:\\Users\\bcw60\\OneDrive\\Desktop\\TestData\\walker_hos.mp4: 384x640 (no detections), 33.6ms\n",
      "video 1/1 (5/1727) C:\\Users\\bcw60\\OneDrive\\Desktop\\TestData\\walker_hos.mp4: 384x640 (no detections), 37.5ms\n",
      "video 1/1 (5/1727) C:\\Users\\bcw60\\OneDrive\\Desktop\\TestData\\walker_hos.mp4: 384x640 (no detections), 37.5ms\n",
      "video 1/1 (6/1727) C:\\Users\\bcw60\\OneDrive\\Desktop\\TestData\\walker_hos.mp4: 384x640 (no detections), 34.8ms\n",
      "video 1/1 (6/1727) C:\\Users\\bcw60\\OneDrive\\Desktop\\TestData\\walker_hos.mp4: 384x640 (no detections), 34.8ms\n",
      "video 1/1 (7/1727) C:\\Users\\bcw60\\OneDrive\\Desktop\\TestData\\walker_hos.mp4: 384x640 (no detections), 45.5ms\n",
      "video 1/1 (7/1727) C:\\Users\\bcw60\\OneDrive\\Desktop\\TestData\\walker_hos.mp4: 384x640 (no detections), 45.5ms\n",
      "video 1/1 (8/1727) C:\\Users\\bcw60\\OneDrive\\Desktop\\TestData\\walker_hos.mp4: 384x640 (no detections), 37.6ms\n",
      "video 1/1 (8/1727) C:\\Users\\bcw60\\OneDrive\\Desktop\\TestData\\walker_hos.mp4: 384x640 (no detections), 37.6ms\n",
      "video 1/1 (9/1727) C:\\Users\\bcw60\\OneDrive\\Desktop\\TestData\\walker_hos.mp4: 384x640 (no detections), 35.8ms\n",
      "video 1/1 (9/1727) C:\\Users\\bcw60\\OneDrive\\Desktop\\TestData\\walker_hos.mp4: 384x640 (no detections), 35.8ms\n",
      "video 1/1 (10/1727) C:\\Users\\bcw60\\OneDrive\\Desktop\\TestData\\walker_hos.mp4: 384x640 (no detections), 32.3ms\n",
      "video 1/1 (10/1727) C:\\Users\\bcw60\\OneDrive\\Desktop\\TestData\\walker_hos.mp4: 384x640 (no detections), 32.3ms\n",
      "video 1/1 (11/1727) C:\\Users\\bcw60\\OneDrive\\Desktop\\TestData\\walker_hos.mp4: 384x640 (no detections), 38.4ms\n",
      "video 1/1 (11/1727) C:\\Users\\bcw60\\OneDrive\\Desktop\\TestData\\walker_hos.mp4: 384x640 (no detections), 38.4ms\n",
      "video 1/1 (12/1727) C:\\Users\\bcw60\\OneDrive\\Desktop\\TestData\\walker_hos.mp4: 384x640 (no detections), 38.9ms\n",
      "video 1/1 (12/1727) C:\\Users\\bcw60\\OneDrive\\Desktop\\TestData\\walker_hos.mp4: 384x640 (no detections), 38.9ms\n",
      "video 1/1 (13/1727) C:\\Users\\bcw60\\OneDrive\\Desktop\\TestData\\walker_hos.mp4: 384x640 (no detections), 39.6ms\n",
      "video 1/1 (13/1727) C:\\Users\\bcw60\\OneDrive\\Desktop\\TestData\\walker_hos.mp4: 384x640 (no detections), 39.6ms\n",
      "video 1/1 (14/1727) C:\\Users\\bcw60\\OneDrive\\Desktop\\TestData\\walker_hos.mp4: 384x640 (no detections), 38.7ms\n",
      "video 1/1 (14/1727) C:\\Users\\bcw60\\OneDrive\\Desktop\\TestData\\walker_hos.mp4: 384x640 (no detections), 38.7ms\n",
      "video 1/1 (15/1727) C:\\Users\\bcw60\\OneDrive\\Desktop\\TestData\\walker_hos.mp4: 384x640 (no detections), 32.0ms\n",
      "video 1/1 (15/1727) C:\\Users\\bcw60\\OneDrive\\Desktop\\TestData\\walker_hos.mp4: 384x640 (no detections), 32.0ms\n",
      "video 1/1 (16/1727) C:\\Users\\bcw60\\OneDrive\\Desktop\\TestData\\walker_hos.mp4: 384x640 (no detections), 38.5ms\n",
      "video 1/1 (16/1727) C:\\Users\\bcw60\\OneDrive\\Desktop\\TestData\\walker_hos.mp4: 384x640 (no detections), 38.5ms\n",
      "video 1/1 (17/1727) C:\\Users\\bcw60\\OneDrive\\Desktop\\TestData\\walker_hos.mp4: 384x640 (no detections), 37.8ms\n",
      "video 1/1 (17/1727) C:\\Users\\bcw60\\OneDrive\\Desktop\\TestData\\walker_hos.mp4: 384x640 (no detections), 37.8ms\n",
      "video 1/1 (18/1727) C:\\Users\\bcw60\\OneDrive\\Desktop\\TestData\\walker_hos.mp4: 384x640 (no detections), 37.4ms\n",
      "video 1/1 (18/1727) C:\\Users\\bcw60\\OneDrive\\Desktop\\TestData\\walker_hos.mp4: 384x640 (no detections), 37.4ms\n",
      "video 1/1 (19/1727) C:\\Users\\bcw60\\OneDrive\\Desktop\\TestData\\walker_hos.mp4: 384x640 (no detections), 39.0ms\n",
      "video 1/1 (19/1727) C:\\Users\\bcw60\\OneDrive\\Desktop\\TestData\\walker_hos.mp4: 384x640 (no detections), 39.0ms\n",
      "video 1/1 (20/1727) C:\\Users\\bcw60\\OneDrive\\Desktop\\TestData\\walker_hos.mp4: 384x640 (no detections), 42.9ms\n",
      "video 1/1 (20/1727) C:\\Users\\bcw60\\OneDrive\\Desktop\\TestData\\walker_hos.mp4: 384x640 (no detections), 42.9ms\n",
      "video 1/1 (21/1727) C:\\Users\\bcw60\\OneDrive\\Desktop\\TestData\\walker_hos.mp4: 384x640 (no detections), 34.3ms\n",
      "video 1/1 (21/1727) C:\\Users\\bcw60\\OneDrive\\Desktop\\TestData\\walker_hos.mp4: 384x640 (no detections), 34.3ms\n",
      "video 1/1 (22/1727) C:\\Users\\bcw60\\OneDrive\\Desktop\\TestData\\walker_hos.mp4: 384x640 (no detections), 49.5ms\n",
      "video 1/1 (22/1727) C:\\Users\\bcw60\\OneDrive\\Desktop\\TestData\\walker_hos.mp4: 384x640 (no detections), 49.5ms\n",
      "video 1/1 (23/1727) C:\\Users\\bcw60\\OneDrive\\Desktop\\TestData\\walker_hos.mp4: 384x640 (no detections), 44.5ms\n",
      "video 1/1 (23/1727) C:\\Users\\bcw60\\OneDrive\\Desktop\\TestData\\walker_hos.mp4: 384x640 (no detections), 44.5ms\n",
      "video 1/1 (24/1727) C:\\Users\\bcw60\\OneDrive\\Desktop\\TestData\\walker_hos.mp4: 384x640 (no detections), 34.7ms\n",
      "video 1/1 (24/1727) C:\\Users\\bcw60\\OneDrive\\Desktop\\TestData\\walker_hos.mp4: 384x640 (no detections), 34.7ms\n",
      "video 1/1 (25/1727) C:\\Users\\bcw60\\OneDrive\\Desktop\\TestData\\walker_hos.mp4: 384x640 (no detections), 46.7ms\n",
      "video 1/1 (25/1727) C:\\Users\\bcw60\\OneDrive\\Desktop\\TestData\\walker_hos.mp4: 384x640 (no detections), 46.7ms\n",
      "video 1/1 (26/1727) C:\\Users\\bcw60\\OneDrive\\Desktop\\TestData\\walker_hos.mp4: 384x640 (no detections), 40.8ms\n",
      "video 1/1 (26/1727) C:\\Users\\bcw60\\OneDrive\\Desktop\\TestData\\walker_hos.mp4: 384x640 (no detections), 40.8ms\n",
      "video 1/1 (27/1727) C:\\Users\\bcw60\\OneDrive\\Desktop\\TestData\\walker_hos.mp4: 384x640 (no detections), 38.4ms\n",
      "video 1/1 (27/1727) C:\\Users\\bcw60\\OneDrive\\Desktop\\TestData\\walker_hos.mp4: 384x640 (no detections), 38.4ms\n",
      "video 1/1 (28/1727) C:\\Users\\bcw60\\OneDrive\\Desktop\\TestData\\walker_hos.mp4: 384x640 (no detections), 44.1ms\n",
      "video 1/1 (28/1727) C:\\Users\\bcw60\\OneDrive\\Desktop\\TestData\\walker_hos.mp4: 384x640 (no detections), 44.1ms\n",
      "video 1/1 (29/1727) C:\\Users\\bcw60\\OneDrive\\Desktop\\TestData\\walker_hos.mp4: 384x640 (no detections), 34.8ms\n",
      "video 1/1 (29/1727) C:\\Users\\bcw60\\OneDrive\\Desktop\\TestData\\walker_hos.mp4: 384x640 (no detections), 34.8ms\n",
      "video 1/1 (30/1727) C:\\Users\\bcw60\\OneDrive\\Desktop\\TestData\\walker_hos.mp4: 384x640 (no detections), 46.9ms\n",
      "video 1/1 (30/1727) C:\\Users\\bcw60\\OneDrive\\Desktop\\TestData\\walker_hos.mp4: 384x640 (no detections), 46.9ms\n",
      "video 1/1 (31/1727) C:\\Users\\bcw60\\OneDrive\\Desktop\\TestData\\walker_hos.mp4: 384x640 (no detections), 41.3ms\n",
      "video 1/1 (31/1727) C:\\Users\\bcw60\\OneDrive\\Desktop\\TestData\\walker_hos.mp4: 384x640 (no detections), 41.3ms\n",
      "video 1/1 (32/1727) C:\\Users\\bcw60\\OneDrive\\Desktop\\TestData\\walker_hos.mp4: 384x640 (no detections), 39.2ms\n",
      "video 1/1 (32/1727) C:\\Users\\bcw60\\OneDrive\\Desktop\\TestData\\walker_hos.mp4: 384x640 (no detections), 39.2ms\n",
      "video 1/1 (33/1727) C:\\Users\\bcw60\\OneDrive\\Desktop\\TestData\\walker_hos.mp4: 384x640 (no detections), 30.0ms\n",
      "video 1/1 (33/1727) C:\\Users\\bcw60\\OneDrive\\Desktop\\TestData\\walker_hos.mp4: 384x640 (no detections), 30.0ms\n",
      "video 1/1 (34/1727) C:\\Users\\bcw60\\OneDrive\\Desktop\\TestData\\walker_hos.mp4: 384x640 (no detections), 39.3ms\n",
      "video 1/1 (34/1727) C:\\Users\\bcw60\\OneDrive\\Desktop\\TestData\\walker_hos.mp4: 384x640 (no detections), 39.3ms\n",
      "video 1/1 (35/1727) C:\\Users\\bcw60\\OneDrive\\Desktop\\TestData\\walker_hos.mp4: 384x640 (no detections), 24.7ms\n",
      "video 1/1 (35/1727) C:\\Users\\bcw60\\OneDrive\\Desktop\\TestData\\walker_hos.mp4: 384x640 (no detections), 24.7ms\n",
      "video 1/1 (36/1727) C:\\Users\\bcw60\\OneDrive\\Desktop\\TestData\\walker_hos.mp4: 384x640 (no detections), 38.1ms\n",
      "video 1/1 (36/1727) C:\\Users\\bcw60\\OneDrive\\Desktop\\TestData\\walker_hos.mp4: 384x640 (no detections), 38.1ms\n",
      "video 1/1 (37/1727) C:\\Users\\bcw60\\OneDrive\\Desktop\\TestData\\walker_hos.mp4: 384x640 (no detections), 38.9ms\n",
      "video 1/1 (37/1727) C:\\Users\\bcw60\\OneDrive\\Desktop\\TestData\\walker_hos.mp4: 384x640 (no detections), 38.9ms\n",
      "video 1/1 (38/1727) C:\\Users\\bcw60\\OneDrive\\Desktop\\TestData\\walker_hos.mp4: 384x640 (no detections), 42.3ms\n",
      "video 1/1 (38/1727) C:\\Users\\bcw60\\OneDrive\\Desktop\\TestData\\walker_hos.mp4: 384x640 (no detections), 42.3ms\n",
      "video 1/1 (39/1727) C:\\Users\\bcw60\\OneDrive\\Desktop\\TestData\\walker_hos.mp4: 384x640 (no detections), 36.5ms\n",
      "video 1/1 (39/1727) C:\\Users\\bcw60\\OneDrive\\Desktop\\TestData\\walker_hos.mp4: 384x640 (no detections), 36.5ms\n",
      "video 1/1 (40/1727) C:\\Users\\bcw60\\OneDrive\\Desktop\\TestData\\walker_hos.mp4: 384x640 (no detections), 43.5ms\n",
      "video 1/1 (40/1727) C:\\Users\\bcw60\\OneDrive\\Desktop\\TestData\\walker_hos.mp4: 384x640 (no detections), 43.5ms\n",
      "video 1/1 (41/1727) C:\\Users\\bcw60\\OneDrive\\Desktop\\TestData\\walker_hos.mp4: 384x640 (no detections), 35.7ms\n",
      "video 1/1 (41/1727) C:\\Users\\bcw60\\OneDrive\\Desktop\\TestData\\walker_hos.mp4: 384x640 (no detections), 35.7ms\n",
      "video 1/1 (42/1727) C:\\Users\\bcw60\\OneDrive\\Desktop\\TestData\\walker_hos.mp4: 384x640 (no detections), 33.1ms\n",
      "video 1/1 (42/1727) C:\\Users\\bcw60\\OneDrive\\Desktop\\TestData\\walker_hos.mp4: 384x640 (no detections), 33.1ms\n",
      "video 1/1 (43/1727) C:\\Users\\bcw60\\OneDrive\\Desktop\\TestData\\walker_hos.mp4: 384x640 (no detections), 37.7ms\n",
      "video 1/1 (43/1727) C:\\Users\\bcw60\\OneDrive\\Desktop\\TestData\\walker_hos.mp4: 384x640 (no detections), 37.7ms\n",
      "video 1/1 (44/1727) C:\\Users\\bcw60\\OneDrive\\Desktop\\TestData\\walker_hos.mp4: 384x640 (no detections), 37.0ms\n",
      "video 1/1 (44/1727) C:\\Users\\bcw60\\OneDrive\\Desktop\\TestData\\walker_hos.mp4: 384x640 (no detections), 37.0ms\n",
      "video 1/1 (45/1727) C:\\Users\\bcw60\\OneDrive\\Desktop\\TestData\\walker_hos.mp4: 384x640 (no detections), 37.8ms\n",
      "video 1/1 (45/1727) C:\\Users\\bcw60\\OneDrive\\Desktop\\TestData\\walker_hos.mp4: 384x640 (no detections), 37.8ms\n",
      "video 1/1 (46/1727) C:\\Users\\bcw60\\OneDrive\\Desktop\\TestData\\walker_hos.mp4: 384x640 (no detections), 40.0ms\n",
      "video 1/1 (46/1727) C:\\Users\\bcw60\\OneDrive\\Desktop\\TestData\\walker_hos.mp4: 384x640 (no detections), 40.0ms\n",
      "video 1/1 (47/1727) C:\\Users\\bcw60\\OneDrive\\Desktop\\TestData\\walker_hos.mp4: 384x640 (no detections), 42.4ms\n",
      "video 1/1 (47/1727) C:\\Users\\bcw60\\OneDrive\\Desktop\\TestData\\walker_hos.mp4: 384x640 (no detections), 42.4ms\n",
      "video 1/1 (48/1727) C:\\Users\\bcw60\\OneDrive\\Desktop\\TestData\\walker_hos.mp4: 384x640 (no detections), 36.6ms\n",
      "video 1/1 (48/1727) C:\\Users\\bcw60\\OneDrive\\Desktop\\TestData\\walker_hos.mp4: 384x640 (no detections), 36.6ms\n",
      "video 1/1 (49/1727) C:\\Users\\bcw60\\OneDrive\\Desktop\\TestData\\walker_hos.mp4: 384x640 (no detections), 42.8ms\n",
      "video 1/1 (49/1727) C:\\Users\\bcw60\\OneDrive\\Desktop\\TestData\\walker_hos.mp4: 384x640 (no detections), 42.8ms\n",
      "video 1/1 (50/1727) C:\\Users\\bcw60\\OneDrive\\Desktop\\TestData\\walker_hos.mp4: 384x640 (no detections), 35.9ms\n",
      "video 1/1 (50/1727) C:\\Users\\bcw60\\OneDrive\\Desktop\\TestData\\walker_hos.mp4: 384x640 (no detections), 35.9ms\n",
      "video 1/1 (51/1727) C:\\Users\\bcw60\\OneDrive\\Desktop\\TestData\\walker_hos.mp4: 384x640 (no detections), 34.6ms\n",
      "video 1/1 (51/1727) C:\\Users\\bcw60\\OneDrive\\Desktop\\TestData\\walker_hos.mp4: 384x640 (no detections), 34.6ms\n",
      "video 1/1 (52/1727) C:\\Users\\bcw60\\OneDrive\\Desktop\\TestData\\walker_hos.mp4: 384x640 (no detections), 38.4ms\n",
      "video 1/1 (52/1727) C:\\Users\\bcw60\\OneDrive\\Desktop\\TestData\\walker_hos.mp4: 384x640 (no detections), 38.4ms\n",
      "video 1/1 (53/1727) C:\\Users\\bcw60\\OneDrive\\Desktop\\TestData\\walker_hos.mp4: 384x640 (no detections), 24.0ms\n",
      "video 1/1 (53/1727) C:\\Users\\bcw60\\OneDrive\\Desktop\\TestData\\walker_hos.mp4: 384x640 (no detections), 24.0ms\n",
      "video 1/1 (54/1727) C:\\Users\\bcw60\\OneDrive\\Desktop\\TestData\\walker_hos.mp4: 384x640 (no detections), 38.0ms\n",
      "video 1/1 (54/1727) C:\\Users\\bcw60\\OneDrive\\Desktop\\TestData\\walker_hos.mp4: 384x640 (no detections), 38.0ms\n",
      "video 1/1 (55/1727) C:\\Users\\bcw60\\OneDrive\\Desktop\\TestData\\walker_hos.mp4: 384x640 (no detections), 38.9ms\n",
      "video 1/1 (55/1727) C:\\Users\\bcw60\\OneDrive\\Desktop\\TestData\\walker_hos.mp4: 384x640 (no detections), 38.9ms\n",
      "video 1/1 (56/1727) C:\\Users\\bcw60\\OneDrive\\Desktop\\TestData\\walker_hos.mp4: 384x640 (no detections), 40.0ms\n",
      "video 1/1 (56/1727) C:\\Users\\bcw60\\OneDrive\\Desktop\\TestData\\walker_hos.mp4: 384x640 (no detections), 40.0ms\n",
      "video 1/1 (57/1727) C:\\Users\\bcw60\\OneDrive\\Desktop\\TestData\\walker_hos.mp4: 384x640 (no detections), 37.6ms\n",
      "video 1/1 (57/1727) C:\\Users\\bcw60\\OneDrive\\Desktop\\TestData\\walker_hos.mp4: 384x640 (no detections), 37.6ms\n",
      "video 1/1 (58/1727) C:\\Users\\bcw60\\OneDrive\\Desktop\\TestData\\walker_hos.mp4: 384x640 (no detections), 32.8ms\n",
      "video 1/1 (58/1727) C:\\Users\\bcw60\\OneDrive\\Desktop\\TestData\\walker_hos.mp4: 384x640 (no detections), 32.8ms\n",
      "video 1/1 (59/1727) C:\\Users\\bcw60\\OneDrive\\Desktop\\TestData\\walker_hos.mp4: 384x640 (no detections), 37.4ms\n",
      "video 1/1 (59/1727) C:\\Users\\bcw60\\OneDrive\\Desktop\\TestData\\walker_hos.mp4: 384x640 (no detections), 37.4ms\n",
      "video 1/1 (60/1727) C:\\Users\\bcw60\\OneDrive\\Desktop\\TestData\\walker_hos.mp4: 384x640 (no detections), 29.3ms\n",
      "video 1/1 (60/1727) C:\\Users\\bcw60\\OneDrive\\Desktop\\TestData\\walker_hos.mp4: 384x640 (no detections), 29.3ms\n",
      "video 1/1 (61/1727) C:\\Users\\bcw60\\OneDrive\\Desktop\\TestData\\walker_hos.mp4: 384x640 (no detections), 38.4ms\n",
      "video 1/1 (61/1727) C:\\Users\\bcw60\\OneDrive\\Desktop\\TestData\\walker_hos.mp4: 384x640 (no detections), 38.4ms\n",
      "video 1/1 (62/1727) C:\\Users\\bcw60\\OneDrive\\Desktop\\TestData\\walker_hos.mp4: 384x640 (no detections), 39.8ms\n",
      "video 1/1 (62/1727) C:\\Users\\bcw60\\OneDrive\\Desktop\\TestData\\walker_hos.mp4: 384x640 (no detections), 39.8ms\n",
      "video 1/1 (63/1727) C:\\Users\\bcw60\\OneDrive\\Desktop\\TestData\\walker_hos.mp4: 384x640 (no detections), 41.7ms\n",
      "video 1/1 (63/1727) C:\\Users\\bcw60\\OneDrive\\Desktop\\TestData\\walker_hos.mp4: 384x640 (no detections), 41.7ms\n",
      "video 1/1 (64/1727) C:\\Users\\bcw60\\OneDrive\\Desktop\\TestData\\walker_hos.mp4: 384x640 (no detections), 38.4ms\n",
      "video 1/1 (64/1727) C:\\Users\\bcw60\\OneDrive\\Desktop\\TestData\\walker_hos.mp4: 384x640 (no detections), 38.4ms\n",
      "video 1/1 (65/1727) C:\\Users\\bcw60\\OneDrive\\Desktop\\TestData\\walker_hos.mp4: 384x640 (no detections), 29.5ms\n",
      "video 1/1 (65/1727) C:\\Users\\bcw60\\OneDrive\\Desktop\\TestData\\walker_hos.mp4: 384x640 (no detections), 29.5ms\n",
      "video 1/1 (66/1727) C:\\Users\\bcw60\\OneDrive\\Desktop\\TestData\\walker_hos.mp4: 384x640 (no detections), 38.3ms\n",
      "video 1/1 (66/1727) C:\\Users\\bcw60\\OneDrive\\Desktop\\TestData\\walker_hos.mp4: 384x640 (no detections), 38.3ms\n",
      "video 1/1 (67/1727) C:\\Users\\bcw60\\OneDrive\\Desktop\\TestData\\walker_hos.mp4: 384x640 (no detections), 28.3ms\n",
      "video 1/1 (67/1727) C:\\Users\\bcw60\\OneDrive\\Desktop\\TestData\\walker_hos.mp4: 384x640 (no detections), 28.3ms\n",
      "video 1/1 (68/1727) C:\\Users\\bcw60\\OneDrive\\Desktop\\TestData\\walker_hos.mp4: 384x640 (no detections), 38.4ms\n",
      "video 1/1 (68/1727) C:\\Users\\bcw60\\OneDrive\\Desktop\\TestData\\walker_hos.mp4: 384x640 (no detections), 38.4ms\n",
      "video 1/1 (69/1727) C:\\Users\\bcw60\\OneDrive\\Desktop\\TestData\\walker_hos.mp4: 384x640 (no detections), 26.1ms\n",
      "video 1/1 (69/1727) C:\\Users\\bcw60\\OneDrive\\Desktop\\TestData\\walker_hos.mp4: 384x640 (no detections), 26.1ms\n",
      "video 1/1 (70/1727) C:\\Users\\bcw60\\OneDrive\\Desktop\\TestData\\walker_hos.mp4: 384x640 (no detections), 34.1ms\n",
      "video 1/1 (70/1727) C:\\Users\\bcw60\\OneDrive\\Desktop\\TestData\\walker_hos.mp4: 384x640 (no detections), 34.1ms\n",
      "video 1/1 (71/1727) C:\\Users\\bcw60\\OneDrive\\Desktop\\TestData\\walker_hos.mp4: 384x640 (no detections), 34.1ms\n",
      "video 1/1 (71/1727) C:\\Users\\bcw60\\OneDrive\\Desktop\\TestData\\walker_hos.mp4: 384x640 (no detections), 34.1ms\n",
      "video 1/1 (72/1727) C:\\Users\\bcw60\\OneDrive\\Desktop\\TestData\\walker_hos.mp4: 384x640 (no detections), 39.5ms\n",
      "video 1/1 (72/1727) C:\\Users\\bcw60\\OneDrive\\Desktop\\TestData\\walker_hos.mp4: 384x640 (no detections), 39.5ms\n",
      "video 1/1 (73/1727) C:\\Users\\bcw60\\OneDrive\\Desktop\\TestData\\walker_hos.mp4: 384x640 (no detections), 23.6ms\n",
      "video 1/1 (73/1727) C:\\Users\\bcw60\\OneDrive\\Desktop\\TestData\\walker_hos.mp4: 384x640 (no detections), 23.6ms\n",
      "video 1/1 (74/1727) C:\\Users\\bcw60\\OneDrive\\Desktop\\TestData\\walker_hos.mp4: 384x640 (no detections), 38.5ms\n",
      "video 1/1 (74/1727) C:\\Users\\bcw60\\OneDrive\\Desktop\\TestData\\walker_hos.mp4: 384x640 (no detections), 38.5ms\n",
      "video 1/1 (75/1727) C:\\Users\\bcw60\\OneDrive\\Desktop\\TestData\\walker_hos.mp4: 384x640 (no detections), 22.0ms\n",
      "video 1/1 (75/1727) C:\\Users\\bcw60\\OneDrive\\Desktop\\TestData\\walker_hos.mp4: 384x640 (no detections), 22.0ms\n",
      "video 1/1 (76/1727) C:\\Users\\bcw60\\OneDrive\\Desktop\\TestData\\walker_hos.mp4: 384x640 (no detections), 37.3ms\n",
      "video 1/1 (76/1727) C:\\Users\\bcw60\\OneDrive\\Desktop\\TestData\\walker_hos.mp4: 384x640 (no detections), 37.3ms\n",
      "video 1/1 (77/1727) C:\\Users\\bcw60\\OneDrive\\Desktop\\TestData\\walker_hos.mp4: 384x640 (no detections), 32.3ms\n",
      "video 1/1 (77/1727) C:\\Users\\bcw60\\OneDrive\\Desktop\\TestData\\walker_hos.mp4: 384x640 (no detections), 32.3ms\n",
      "video 1/1 (78/1727) C:\\Users\\bcw60\\OneDrive\\Desktop\\TestData\\walker_hos.mp4: 384x640 (no detections), 38.1ms\n",
      "video 1/1 (78/1727) C:\\Users\\bcw60\\OneDrive\\Desktop\\TestData\\walker_hos.mp4: 384x640 (no detections), 38.1ms\n",
      "video 1/1 (79/1727) C:\\Users\\bcw60\\OneDrive\\Desktop\\TestData\\walker_hos.mp4: 384x640 (no detections), 22.4ms\n",
      "video 1/1 (79/1727) C:\\Users\\bcw60\\OneDrive\\Desktop\\TestData\\walker_hos.mp4: 384x640 (no detections), 22.4ms\n",
      "video 1/1 (80/1727) C:\\Users\\bcw60\\OneDrive\\Desktop\\TestData\\walker_hos.mp4: 384x640 (no detections), 39.2ms\n",
      "video 1/1 (80/1727) C:\\Users\\bcw60\\OneDrive\\Desktop\\TestData\\walker_hos.mp4: 384x640 (no detections), 39.2ms\n",
      "video 1/1 (81/1727) C:\\Users\\bcw60\\OneDrive\\Desktop\\TestData\\walker_hos.mp4: 384x640 (no detections), 37.9ms\n",
      "video 1/1 (81/1727) C:\\Users\\bcw60\\OneDrive\\Desktop\\TestData\\walker_hos.mp4: 384x640 (no detections), 37.9ms\n",
      "video 1/1 (82/1727) C:\\Users\\bcw60\\OneDrive\\Desktop\\TestData\\walker_hos.mp4: 384x640 (no detections), 39.4ms\n",
      "video 1/1 (82/1727) C:\\Users\\bcw60\\OneDrive\\Desktop\\TestData\\walker_hos.mp4: 384x640 (no detections), 39.4ms\n",
      "video 1/1 (83/1727) C:\\Users\\bcw60\\OneDrive\\Desktop\\TestData\\walker_hos.mp4: 384x640 (no detections), 37.0ms\n",
      "video 1/1 (83/1727) C:\\Users\\bcw60\\OneDrive\\Desktop\\TestData\\walker_hos.mp4: 384x640 (no detections), 37.0ms\n",
      "video 1/1 (84/1727) C:\\Users\\bcw60\\OneDrive\\Desktop\\TestData\\walker_hos.mp4: 384x640 (no detections), 39.9ms\n",
      "video 1/1 (84/1727) C:\\Users\\bcw60\\OneDrive\\Desktop\\TestData\\walker_hos.mp4: 384x640 (no detections), 39.9ms\n",
      "video 1/1 (85/1727) C:\\Users\\bcw60\\OneDrive\\Desktop\\TestData\\walker_hos.mp4: 384x640 (no detections), 36.9ms\n",
      "video 1/1 (85/1727) C:\\Users\\bcw60\\OneDrive\\Desktop\\TestData\\walker_hos.mp4: 384x640 (no detections), 36.9ms\n",
      "video 1/1 (86/1727) C:\\Users\\bcw60\\OneDrive\\Desktop\\TestData\\walker_hos.mp4: 384x640 (no detections), 38.9ms\n",
      "video 1/1 (86/1727) C:\\Users\\bcw60\\OneDrive\\Desktop\\TestData\\walker_hos.mp4: 384x640 (no detections), 38.9ms\n",
      "video 1/1 (87/1727) C:\\Users\\bcw60\\OneDrive\\Desktop\\TestData\\walker_hos.mp4: 384x640 (no detections), 36.9ms\n",
      "video 1/1 (87/1727) C:\\Users\\bcw60\\OneDrive\\Desktop\\TestData\\walker_hos.mp4: 384x640 (no detections), 36.9ms\n",
      "video 1/1 (88/1727) C:\\Users\\bcw60\\OneDrive\\Desktop\\TestData\\walker_hos.mp4: 384x640 (no detections), 39.3ms\n",
      "video 1/1 (88/1727) C:\\Users\\bcw60\\OneDrive\\Desktop\\TestData\\walker_hos.mp4: 384x640 (no detections), 39.3ms\n",
      "video 1/1 (89/1727) C:\\Users\\bcw60\\OneDrive\\Desktop\\TestData\\walker_hos.mp4: 384x640 (no detections), 37.9ms\n",
      "video 1/1 (89/1727) C:\\Users\\bcw60\\OneDrive\\Desktop\\TestData\\walker_hos.mp4: 384x640 (no detections), 37.9ms\n",
      "video 1/1 (90/1727) C:\\Users\\bcw60\\OneDrive\\Desktop\\TestData\\walker_hos.mp4: 384x640 (no detections), 39.8ms\n",
      "video 1/1 (90/1727) C:\\Users\\bcw60\\OneDrive\\Desktop\\TestData\\walker_hos.mp4: 384x640 (no detections), 39.8ms\n",
      "video 1/1 (91/1727) C:\\Users\\bcw60\\OneDrive\\Desktop\\TestData\\walker_hos.mp4: 384x640 (no detections), 36.9ms\n",
      "video 1/1 (91/1727) C:\\Users\\bcw60\\OneDrive\\Desktop\\TestData\\walker_hos.mp4: 384x640 (no detections), 36.9ms\n",
      "video 1/1 (92/1727) C:\\Users\\bcw60\\OneDrive\\Desktop\\TestData\\walker_hos.mp4: 384x640 (no detections), 39.8ms\n",
      "video 1/1 (92/1727) C:\\Users\\bcw60\\OneDrive\\Desktop\\TestData\\walker_hos.mp4: 384x640 (no detections), 39.8ms\n",
      "video 1/1 (93/1727) C:\\Users\\bcw60\\OneDrive\\Desktop\\TestData\\walker_hos.mp4: 384x640 (no detections), 23.5ms\n",
      "video 1/1 (93/1727) C:\\Users\\bcw60\\OneDrive\\Desktop\\TestData\\walker_hos.mp4: 384x640 (no detections), 23.5ms\n",
      "video 1/1 (94/1727) C:\\Users\\bcw60\\OneDrive\\Desktop\\TestData\\walker_hos.mp4: 384x640 (no detections), 38.4ms\n",
      "video 1/1 (94/1727) C:\\Users\\bcw60\\OneDrive\\Desktop\\TestData\\walker_hos.mp4: 384x640 (no detections), 38.4ms\n",
      "video 1/1 (95/1727) C:\\Users\\bcw60\\OneDrive\\Desktop\\TestData\\walker_hos.mp4: 384x640 (no detections), 36.5ms\n",
      "video 1/1 (95/1727) C:\\Users\\bcw60\\OneDrive\\Desktop\\TestData\\walker_hos.mp4: 384x640 (no detections), 36.5ms\n",
      "video 1/1 (96/1727) C:\\Users\\bcw60\\OneDrive\\Desktop\\TestData\\walker_hos.mp4: 384x640 (no detections), 36.7ms\n",
      "video 1/1 (96/1727) C:\\Users\\bcw60\\OneDrive\\Desktop\\TestData\\walker_hos.mp4: 384x640 (no detections), 36.7ms\n",
      "video 1/1 (97/1727) C:\\Users\\bcw60\\OneDrive\\Desktop\\TestData\\walker_hos.mp4: 384x640 (no detections), 21.9ms\n",
      "video 1/1 (97/1727) C:\\Users\\bcw60\\OneDrive\\Desktop\\TestData\\walker_hos.mp4: 384x640 (no detections), 21.9ms\n",
      "video 1/1 (98/1727) C:\\Users\\bcw60\\OneDrive\\Desktop\\TestData\\walker_hos.mp4: 384x640 (no detections), 38.3ms\n",
      "video 1/1 (98/1727) C:\\Users\\bcw60\\OneDrive\\Desktop\\TestData\\walker_hos.mp4: 384x640 (no detections), 38.3ms\n",
      "video 1/1 (99/1727) C:\\Users\\bcw60\\OneDrive\\Desktop\\TestData\\walker_hos.mp4: 384x640 (no detections), 37.5ms\n",
      "video 1/1 (99/1727) C:\\Users\\bcw60\\OneDrive\\Desktop\\TestData\\walker_hos.mp4: 384x640 (no detections), 37.5ms\n",
      "video 1/1 (100/1727) C:\\Users\\bcw60\\OneDrive\\Desktop\\TestData\\walker_hos.mp4: 384x640 (no detections), 40.3ms\n",
      "video 1/1 (100/1727) C:\\Users\\bcw60\\OneDrive\\Desktop\\TestData\\walker_hos.mp4: 384x640 (no detections), 40.3ms\n",
      "video 1/1 (101/1727) C:\\Users\\bcw60\\OneDrive\\Desktop\\TestData\\walker_hos.mp4: 384x640 (no detections), 38.3ms\n",
      "video 1/1 (101/1727) C:\\Users\\bcw60\\OneDrive\\Desktop\\TestData\\walker_hos.mp4: 384x640 (no detections), 38.3ms\n",
      "video 1/1 (102/1727) C:\\Users\\bcw60\\OneDrive\\Desktop\\TestData\\walker_hos.mp4: 384x640 (no detections), 42.9ms\n",
      "video 1/1 (102/1727) C:\\Users\\bcw60\\OneDrive\\Desktop\\TestData\\walker_hos.mp4: 384x640 (no detections), 42.9ms\n",
      "video 1/1 (103/1727) C:\\Users\\bcw60\\OneDrive\\Desktop\\TestData\\walker_hos.mp4: 384x640 (no detections), 35.2ms\n",
      "video 1/1 (103/1727) C:\\Users\\bcw60\\OneDrive\\Desktop\\TestData\\walker_hos.mp4: 384x640 (no detections), 35.2ms\n",
      "video 1/1 (104/1727) C:\\Users\\bcw60\\OneDrive\\Desktop\\TestData\\walker_hos.mp4: 384x640 (no detections), 43.2ms\n",
      "video 1/1 (104/1727) C:\\Users\\bcw60\\OneDrive\\Desktop\\TestData\\walker_hos.mp4: 384x640 (no detections), 43.2ms\n",
      "video 1/1 (105/1727) C:\\Users\\bcw60\\OneDrive\\Desktop\\TestData\\walker_hos.mp4: 384x640 (no detections), 37.3ms\n",
      "video 1/1 (105/1727) C:\\Users\\bcw60\\OneDrive\\Desktop\\TestData\\walker_hos.mp4: 384x640 (no detections), 37.3ms\n",
      "video 1/1 (106/1727) C:\\Users\\bcw60\\OneDrive\\Desktop\\TestData\\walker_hos.mp4: 384x640 (no detections), 41.7ms\n",
      "video 1/1 (106/1727) C:\\Users\\bcw60\\OneDrive\\Desktop\\TestData\\walker_hos.mp4: 384x640 (no detections), 41.7ms\n",
      "video 1/1 (107/1727) C:\\Users\\bcw60\\OneDrive\\Desktop\\TestData\\walker_hos.mp4: 384x640 (no detections), 35.3ms\n",
      "video 1/1 (107/1727) C:\\Users\\bcw60\\OneDrive\\Desktop\\TestData\\walker_hos.mp4: 384x640 (no detections), 35.3ms\n",
      "video 1/1 (108/1727) C:\\Users\\bcw60\\OneDrive\\Desktop\\TestData\\walker_hos.mp4: 384x640 (no detections), 33.3ms\n",
      "video 1/1 (108/1727) C:\\Users\\bcw60\\OneDrive\\Desktop\\TestData\\walker_hos.mp4: 384x640 (no detections), 33.3ms\n",
      "video 1/1 (109/1727) C:\\Users\\bcw60\\OneDrive\\Desktop\\TestData\\walker_hos.mp4: 384x640 (no detections), 51.5ms\n",
      "video 1/1 (109/1727) C:\\Users\\bcw60\\OneDrive\\Desktop\\TestData\\walker_hos.mp4: 384x640 (no detections), 51.5ms\n",
      "video 1/1 (110/1727) C:\\Users\\bcw60\\OneDrive\\Desktop\\TestData\\walker_hos.mp4: 384x640 (no detections), 37.5ms\n",
      "video 1/1 (110/1727) C:\\Users\\bcw60\\OneDrive\\Desktop\\TestData\\walker_hos.mp4: 384x640 (no detections), 37.5ms\n",
      "video 1/1 (111/1727) C:\\Users\\bcw60\\OneDrive\\Desktop\\TestData\\walker_hos.mp4: 384x640 (no detections), 36.5ms\n",
      "video 1/1 (111/1727) C:\\Users\\bcw60\\OneDrive\\Desktop\\TestData\\walker_hos.mp4: 384x640 (no detections), 36.5ms\n",
      "video 1/1 (112/1727) C:\\Users\\bcw60\\OneDrive\\Desktop\\TestData\\walker_hos.mp4: 384x640 (no detections), 20.9ms\n",
      "video 1/1 (112/1727) C:\\Users\\bcw60\\OneDrive\\Desktop\\TestData\\walker_hos.mp4: 384x640 (no detections), 20.9ms\n",
      "video 1/1 (113/1727) C:\\Users\\bcw60\\OneDrive\\Desktop\\TestData\\walker_hos.mp4: 384x640 (no detections), 38.7ms\n",
      "video 1/1 (113/1727) C:\\Users\\bcw60\\OneDrive\\Desktop\\TestData\\walker_hos.mp4: 384x640 (no detections), 38.7ms\n",
      "video 1/1 (114/1727) C:\\Users\\bcw60\\OneDrive\\Desktop\\TestData\\walker_hos.mp4: 384x640 (no detections), 21.7ms\n",
      "video 1/1 (114/1727) C:\\Users\\bcw60\\OneDrive\\Desktop\\TestData\\walker_hos.mp4: 384x640 (no detections), 21.7ms\n",
      "video 1/1 (115/1727) C:\\Users\\bcw60\\OneDrive\\Desktop\\TestData\\walker_hos.mp4: 384x640 (no detections), 39.6ms\n",
      "video 1/1 (115/1727) C:\\Users\\bcw60\\OneDrive\\Desktop\\TestData\\walker_hos.mp4: 384x640 (no detections), 39.6ms\n",
      "video 1/1 (116/1727) C:\\Users\\bcw60\\OneDrive\\Desktop\\TestData\\walker_hos.mp4: 384x640 (no detections), 37.3ms\n",
      "video 1/1 (116/1727) C:\\Users\\bcw60\\OneDrive\\Desktop\\TestData\\walker_hos.mp4: 384x640 (no detections), 37.3ms\n",
      "video 1/1 (117/1727) C:\\Users\\bcw60\\OneDrive\\Desktop\\TestData\\walker_hos.mp4: 384x640 (no detections), 51.1ms\n",
      "video 1/1 (117/1727) C:\\Users\\bcw60\\OneDrive\\Desktop\\TestData\\walker_hos.mp4: 384x640 (no detections), 51.1ms\n",
      "video 1/1 (118/1727) C:\\Users\\bcw60\\OneDrive\\Desktop\\TestData\\walker_hos.mp4: 384x640 (no detections), 29.4ms\n",
      "video 1/1 (118/1727) C:\\Users\\bcw60\\OneDrive\\Desktop\\TestData\\walker_hos.mp4: 384x640 (no detections), 29.4ms\n",
      "video 1/1 (119/1727) C:\\Users\\bcw60\\OneDrive\\Desktop\\TestData\\walker_hos.mp4: 384x640 (no detections), 23.0ms\n",
      "video 1/1 (119/1727) C:\\Users\\bcw60\\OneDrive\\Desktop\\TestData\\walker_hos.mp4: 384x640 (no detections), 23.0ms\n",
      "video 1/1 (120/1727) C:\\Users\\bcw60\\OneDrive\\Desktop\\TestData\\walker_hos.mp4: 384x640 (no detections), 31.1ms\n",
      "video 1/1 (120/1727) C:\\Users\\bcw60\\OneDrive\\Desktop\\TestData\\walker_hos.mp4: 384x640 (no detections), 31.1ms\n",
      "video 1/1 (121/1727) C:\\Users\\bcw60\\OneDrive\\Desktop\\TestData\\walker_hos.mp4: 384x640 1 walker, 34.6ms\n",
      "video 1/1 (121/1727) C:\\Users\\bcw60\\OneDrive\\Desktop\\TestData\\walker_hos.mp4: 384x640 1 walker, 34.6ms\n",
      "video 1/1 (122/1727) C:\\Users\\bcw60\\OneDrive\\Desktop\\TestData\\walker_hos.mp4: 384x640 1 walker, 32.3ms\n",
      "video 1/1 (122/1727) C:\\Users\\bcw60\\OneDrive\\Desktop\\TestData\\walker_hos.mp4: 384x640 1 walker, 32.3ms\n",
      "video 1/1 (123/1727) C:\\Users\\bcw60\\OneDrive\\Desktop\\TestData\\walker_hos.mp4: 384x640 1 walker, 36.1ms\n",
      "video 1/1 (123/1727) C:\\Users\\bcw60\\OneDrive\\Desktop\\TestData\\walker_hos.mp4: 384x640 1 walker, 36.1ms\n",
      "video 1/1 (124/1727) C:\\Users\\bcw60\\OneDrive\\Desktop\\TestData\\walker_hos.mp4: 384x640 1 walker, 21.0ms\n",
      "video 1/1 (124/1727) C:\\Users\\bcw60\\OneDrive\\Desktop\\TestData\\walker_hos.mp4: 384x640 1 walker, 21.0ms\n",
      "video 1/1 (125/1727) C:\\Users\\bcw60\\OneDrive\\Desktop\\TestData\\walker_hos.mp4: 384x640 1 walker, 30.4ms\n",
      "video 1/1 (125/1727) C:\\Users\\bcw60\\OneDrive\\Desktop\\TestData\\walker_hos.mp4: 384x640 1 walker, 30.4ms\n",
      "video 1/1 (126/1727) C:\\Users\\bcw60\\OneDrive\\Desktop\\TestData\\walker_hos.mp4: 384x640 1 walker, 27.5ms\n",
      "video 1/1 (126/1727) C:\\Users\\bcw60\\OneDrive\\Desktop\\TestData\\walker_hos.mp4: 384x640 1 walker, 27.5ms\n",
      "video 1/1 (127/1727) C:\\Users\\bcw60\\OneDrive\\Desktop\\TestData\\walker_hos.mp4: 384x640 1 walker, 30.7ms\n",
      "video 1/1 (127/1727) C:\\Users\\bcw60\\OneDrive\\Desktop\\TestData\\walker_hos.mp4: 384x640 1 walker, 30.7ms\n",
      "video 1/1 (128/1727) C:\\Users\\bcw60\\OneDrive\\Desktop\\TestData\\walker_hos.mp4: 384x640 1 walker, 34.7ms\n",
      "video 1/1 (128/1727) C:\\Users\\bcw60\\OneDrive\\Desktop\\TestData\\walker_hos.mp4: 384x640 1 walker, 34.7ms\n",
      "video 1/1 (129/1727) C:\\Users\\bcw60\\OneDrive\\Desktop\\TestData\\walker_hos.mp4: 384x640 1 walker, 39.4ms\n",
      "video 1/1 (129/1727) C:\\Users\\bcw60\\OneDrive\\Desktop\\TestData\\walker_hos.mp4: 384x640 1 walker, 39.4ms\n",
      "video 1/1 (130/1727) C:\\Users\\bcw60\\OneDrive\\Desktop\\TestData\\walker_hos.mp4: 384x640 1 walker, 29.6ms\n",
      "video 1/1 (130/1727) C:\\Users\\bcw60\\OneDrive\\Desktop\\TestData\\walker_hos.mp4: 384x640 1 walker, 29.6ms\n",
      "video 1/1 (131/1727) C:\\Users\\bcw60\\OneDrive\\Desktop\\TestData\\walker_hos.mp4: 384x640 1 walker, 51.7ms\n",
      "video 1/1 (131/1727) C:\\Users\\bcw60\\OneDrive\\Desktop\\TestData\\walker_hos.mp4: 384x640 1 walker, 51.7ms\n",
      "video 1/1 (132/1727) C:\\Users\\bcw60\\OneDrive\\Desktop\\TestData\\walker_hos.mp4: 384x640 1 walker, 33.9ms\n",
      "video 1/1 (132/1727) C:\\Users\\bcw60\\OneDrive\\Desktop\\TestData\\walker_hos.mp4: 384x640 1 walker, 33.9ms\n",
      "video 1/1 (133/1727) C:\\Users\\bcw60\\OneDrive\\Desktop\\TestData\\walker_hos.mp4: 384x640 1 walker, 24.1ms\n",
      "video 1/1 (133/1727) C:\\Users\\bcw60\\OneDrive\\Desktop\\TestData\\walker_hos.mp4: 384x640 1 walker, 24.1ms\n",
      "video 1/1 (134/1727) C:\\Users\\bcw60\\OneDrive\\Desktop\\TestData\\walker_hos.mp4: 384x640 1 walker, 32.6ms\n",
      "video 1/1 (134/1727) C:\\Users\\bcw60\\OneDrive\\Desktop\\TestData\\walker_hos.mp4: 384x640 1 walker, 32.6ms\n",
      "video 1/1 (135/1727) C:\\Users\\bcw60\\OneDrive\\Desktop\\TestData\\walker_hos.mp4: 384x640 1 walker, 24.0ms\n",
      "video 1/1 (135/1727) C:\\Users\\bcw60\\OneDrive\\Desktop\\TestData\\walker_hos.mp4: 384x640 1 walker, 24.0ms\n",
      "video 1/1 (136/1727) C:\\Users\\bcw60\\OneDrive\\Desktop\\TestData\\walker_hos.mp4: 384x640 1 walker, 22.6ms\n",
      "video 1/1 (136/1727) C:\\Users\\bcw60\\OneDrive\\Desktop\\TestData\\walker_hos.mp4: 384x640 1 walker, 22.6ms\n",
      "video 1/1 (137/1727) C:\\Users\\bcw60\\OneDrive\\Desktop\\TestData\\walker_hos.mp4: 384x640 1 walker, 36.7ms\n",
      "video 1/1 (137/1727) C:\\Users\\bcw60\\OneDrive\\Desktop\\TestData\\walker_hos.mp4: 384x640 1 walker, 36.7ms\n",
      "video 1/1 (138/1727) C:\\Users\\bcw60\\OneDrive\\Desktop\\TestData\\walker_hos.mp4: 384x640 1 walker, 31.5ms\n",
      "video 1/1 (138/1727) C:\\Users\\bcw60\\OneDrive\\Desktop\\TestData\\walker_hos.mp4: 384x640 1 walker, 31.5ms\n",
      "video 1/1 (139/1727) C:\\Users\\bcw60\\OneDrive\\Desktop\\TestData\\walker_hos.mp4: 384x640 1 walker, 29.6ms\n",
      "video 1/1 (139/1727) C:\\Users\\bcw60\\OneDrive\\Desktop\\TestData\\walker_hos.mp4: 384x640 1 walker, 29.6ms\n",
      "video 1/1 (140/1727) C:\\Users\\bcw60\\OneDrive\\Desktop\\TestData\\walker_hos.mp4: 384x640 1 walker, 30.8ms\n",
      "video 1/1 (140/1727) C:\\Users\\bcw60\\OneDrive\\Desktop\\TestData\\walker_hos.mp4: 384x640 1 walker, 30.8ms\n",
      "video 1/1 (141/1727) C:\\Users\\bcw60\\OneDrive\\Desktop\\TestData\\walker_hos.mp4: 384x640 1 walker, 20.6ms\n",
      "video 1/1 (141/1727) C:\\Users\\bcw60\\OneDrive\\Desktop\\TestData\\walker_hos.mp4: 384x640 1 walker, 20.6ms\n",
      "video 1/1 (142/1727) C:\\Users\\bcw60\\OneDrive\\Desktop\\TestData\\walker_hos.mp4: 384x640 1 walker, 25.8ms\n",
      "video 1/1 (142/1727) C:\\Users\\bcw60\\OneDrive\\Desktop\\TestData\\walker_hos.mp4: 384x640 1 walker, 25.8ms\n",
      "video 1/1 (143/1727) C:\\Users\\bcw60\\OneDrive\\Desktop\\TestData\\walker_hos.mp4: 384x640 1 walker, 31.5ms\n",
      "video 1/1 (143/1727) C:\\Users\\bcw60\\OneDrive\\Desktop\\TestData\\walker_hos.mp4: 384x640 1 walker, 31.5ms\n",
      "video 1/1 (144/1727) C:\\Users\\bcw60\\OneDrive\\Desktop\\TestData\\walker_hos.mp4: 384x640 1 walker, 28.0ms\n",
      "video 1/1 (144/1727) C:\\Users\\bcw60\\OneDrive\\Desktop\\TestData\\walker_hos.mp4: 384x640 1 walker, 28.0ms\n",
      "video 1/1 (145/1727) C:\\Users\\bcw60\\OneDrive\\Desktop\\TestData\\walker_hos.mp4: 384x640 1 walker, 47.3ms\n",
      "video 1/1 (145/1727) C:\\Users\\bcw60\\OneDrive\\Desktop\\TestData\\walker_hos.mp4: 384x640 1 walker, 47.3ms\n",
      "video 1/1 (146/1727) C:\\Users\\bcw60\\OneDrive\\Desktop\\TestData\\walker_hos.mp4: 384x640 1 walker, 38.8ms\n",
      "video 1/1 (146/1727) C:\\Users\\bcw60\\OneDrive\\Desktop\\TestData\\walker_hos.mp4: 384x640 1 walker, 38.8ms\n",
      "video 1/1 (147/1727) C:\\Users\\bcw60\\OneDrive\\Desktop\\TestData\\walker_hos.mp4: 384x640 1 walker, 18.8ms\n",
      "video 1/1 (147/1727) C:\\Users\\bcw60\\OneDrive\\Desktop\\TestData\\walker_hos.mp4: 384x640 1 walker, 18.8ms\n",
      "video 1/1 (148/1727) C:\\Users\\bcw60\\OneDrive\\Desktop\\TestData\\walker_hos.mp4: 384x640 1 walker, 33.2ms\n",
      "video 1/1 (148/1727) C:\\Users\\bcw60\\OneDrive\\Desktop\\TestData\\walker_hos.mp4: 384x640 1 walker, 33.2ms\n",
      "video 1/1 (149/1727) C:\\Users\\bcw60\\OneDrive\\Desktop\\TestData\\walker_hos.mp4: 384x640 1 walker, 37.6ms\n",
      "video 1/1 (149/1727) C:\\Users\\bcw60\\OneDrive\\Desktop\\TestData\\walker_hos.mp4: 384x640 1 walker, 37.6ms\n",
      "video 1/1 (150/1727) C:\\Users\\bcw60\\OneDrive\\Desktop\\TestData\\walker_hos.mp4: 384x640 1 walker, 36.5ms\n",
      "video 1/1 (150/1727) C:\\Users\\bcw60\\OneDrive\\Desktop\\TestData\\walker_hos.mp4: 384x640 1 walker, 36.5ms\n",
      "video 1/1 (151/1727) C:\\Users\\bcw60\\OneDrive\\Desktop\\TestData\\walker_hos.mp4: 384x640 1 walker, 20.0ms\n",
      "video 1/1 (151/1727) C:\\Users\\bcw60\\OneDrive\\Desktop\\TestData\\walker_hos.mp4: 384x640 1 walker, 20.0ms\n",
      "video 1/1 (152/1727) C:\\Users\\bcw60\\OneDrive\\Desktop\\TestData\\walker_hos.mp4: 384x640 1 walker, 33.8ms\n",
      "video 1/1 (152/1727) C:\\Users\\bcw60\\OneDrive\\Desktop\\TestData\\walker_hos.mp4: 384x640 1 walker, 33.8ms\n",
      "video 1/1 (153/1727) C:\\Users\\bcw60\\OneDrive\\Desktop\\TestData\\walker_hos.mp4: 384x640 1 walker, 34.9ms\n",
      "video 1/1 (153/1727) C:\\Users\\bcw60\\OneDrive\\Desktop\\TestData\\walker_hos.mp4: 384x640 1 walker, 34.9ms\n",
      "video 1/1 (154/1727) C:\\Users\\bcw60\\OneDrive\\Desktop\\TestData\\walker_hos.mp4: 384x640 1 walker, 34.4ms\n",
      "video 1/1 (154/1727) C:\\Users\\bcw60\\OneDrive\\Desktop\\TestData\\walker_hos.mp4: 384x640 1 walker, 34.4ms\n",
      "video 1/1 (155/1727) C:\\Users\\bcw60\\OneDrive\\Desktop\\TestData\\walker_hos.mp4: 384x640 1 walker, 24.4ms\n",
      "video 1/1 (155/1727) C:\\Users\\bcw60\\OneDrive\\Desktop\\TestData\\walker_hos.mp4: 384x640 1 walker, 24.4ms\n",
      "video 1/1 (156/1727) C:\\Users\\bcw60\\OneDrive\\Desktop\\TestData\\walker_hos.mp4: 384x640 1 walker, 20.6ms\n",
      "video 1/1 (156/1727) C:\\Users\\bcw60\\OneDrive\\Desktop\\TestData\\walker_hos.mp4: 384x640 1 walker, 20.6ms\n",
      "video 1/1 (157/1727) C:\\Users\\bcw60\\OneDrive\\Desktop\\TestData\\walker_hos.mp4: 384x640 1 walker, 35.5ms\n",
      "video 1/1 (157/1727) C:\\Users\\bcw60\\OneDrive\\Desktop\\TestData\\walker_hos.mp4: 384x640 1 walker, 35.5ms\n",
      "video 1/1 (158/1727) C:\\Users\\bcw60\\OneDrive\\Desktop\\TestData\\walker_hos.mp4: 384x640 1 walker, 15.4ms\n",
      "video 1/1 (158/1727) C:\\Users\\bcw60\\OneDrive\\Desktop\\TestData\\walker_hos.mp4: 384x640 1 walker, 15.4ms\n",
      "video 1/1 (159/1727) C:\\Users\\bcw60\\OneDrive\\Desktop\\TestData\\walker_hos.mp4: 384x640 1 walker, 33.2ms\n",
      "video 1/1 (159/1727) C:\\Users\\bcw60\\OneDrive\\Desktop\\TestData\\walker_hos.mp4: 384x640 1 walker, 33.2ms\n",
      "video 1/1 (160/1727) C:\\Users\\bcw60\\OneDrive\\Desktop\\TestData\\walker_hos.mp4: 384x640 1 walker, 23.4ms\n",
      "video 1/1 (160/1727) C:\\Users\\bcw60\\OneDrive\\Desktop\\TestData\\walker_hos.mp4: 384x640 1 walker, 23.4ms\n",
      "video 1/1 (161/1727) C:\\Users\\bcw60\\OneDrive\\Desktop\\TestData\\walker_hos.mp4: 384x640 1 walker, 31.8ms\n",
      "video 1/1 (161/1727) C:\\Users\\bcw60\\OneDrive\\Desktop\\TestData\\walker_hos.mp4: 384x640 1 walker, 31.8ms\n",
      "video 1/1 (162/1727) C:\\Users\\bcw60\\OneDrive\\Desktop\\TestData\\walker_hos.mp4: 384x640 1 walker, 23.9ms\n",
      "video 1/1 (162/1727) C:\\Users\\bcw60\\OneDrive\\Desktop\\TestData\\walker_hos.mp4: 384x640 1 walker, 23.9ms\n",
      "video 1/1 (163/1727) C:\\Users\\bcw60\\OneDrive\\Desktop\\TestData\\walker_hos.mp4: 384x640 1 walker, 23.8ms\n",
      "video 1/1 (163/1727) C:\\Users\\bcw60\\OneDrive\\Desktop\\TestData\\walker_hos.mp4: 384x640 1 walker, 23.8ms\n",
      "video 1/1 (164/1727) C:\\Users\\bcw60\\OneDrive\\Desktop\\TestData\\walker_hos.mp4: 384x640 1 walker, 30.4ms\n",
      "video 1/1 (164/1727) C:\\Users\\bcw60\\OneDrive\\Desktop\\TestData\\walker_hos.mp4: 384x640 1 walker, 30.4ms\n",
      "video 1/1 (165/1727) C:\\Users\\bcw60\\OneDrive\\Desktop\\TestData\\walker_hos.mp4: 384x640 1 walker, 33.3ms\n",
      "video 1/1 (165/1727) C:\\Users\\bcw60\\OneDrive\\Desktop\\TestData\\walker_hos.mp4: 384x640 1 walker, 33.3ms\n",
      "video 1/1 (166/1727) C:\\Users\\bcw60\\OneDrive\\Desktop\\TestData\\walker_hos.mp4: 384x640 1 walker, 36.4ms\n",
      "video 1/1 (166/1727) C:\\Users\\bcw60\\OneDrive\\Desktop\\TestData\\walker_hos.mp4: 384x640 1 walker, 36.4ms\n",
      "video 1/1 (167/1727) C:\\Users\\bcw60\\OneDrive\\Desktop\\TestData\\walker_hos.mp4: 384x640 1 walker, 21.1ms\n",
      "video 1/1 (167/1727) C:\\Users\\bcw60\\OneDrive\\Desktop\\TestData\\walker_hos.mp4: 384x640 1 walker, 21.1ms\n",
      "video 1/1 (168/1727) C:\\Users\\bcw60\\OneDrive\\Desktop\\TestData\\walker_hos.mp4: 384x640 1 walker, 29.5ms\n",
      "video 1/1 (168/1727) C:\\Users\\bcw60\\OneDrive\\Desktop\\TestData\\walker_hos.mp4: 384x640 1 walker, 29.5ms\n",
      "video 1/1 (169/1727) C:\\Users\\bcw60\\OneDrive\\Desktop\\TestData\\walker_hos.mp4: 384x640 1 walker, 27.3ms\n",
      "video 1/1 (169/1727) C:\\Users\\bcw60\\OneDrive\\Desktop\\TestData\\walker_hos.mp4: 384x640 1 walker, 27.3ms\n",
      "video 1/1 (170/1727) C:\\Users\\bcw60\\OneDrive\\Desktop\\TestData\\walker_hos.mp4: 384x640 1 walker, 50.8ms\n",
      "video 1/1 (170/1727) C:\\Users\\bcw60\\OneDrive\\Desktop\\TestData\\walker_hos.mp4: 384x640 1 walker, 50.8ms\n",
      "video 1/1 (171/1727) C:\\Users\\bcw60\\OneDrive\\Desktop\\TestData\\walker_hos.mp4: 384x640 1 walker, 30.1ms\n",
      "video 1/1 (171/1727) C:\\Users\\bcw60\\OneDrive\\Desktop\\TestData\\walker_hos.mp4: 384x640 1 walker, 30.1ms\n",
      "video 1/1 (172/1727) C:\\Users\\bcw60\\OneDrive\\Desktop\\TestData\\walker_hos.mp4: 384x640 1 walker, 22.4ms\n",
      "video 1/1 (172/1727) C:\\Users\\bcw60\\OneDrive\\Desktop\\TestData\\walker_hos.mp4: 384x640 1 walker, 22.4ms\n",
      "video 1/1 (173/1727) C:\\Users\\bcw60\\OneDrive\\Desktop\\TestData\\walker_hos.mp4: 384x640 1 walker, 31.3ms\n",
      "video 1/1 (173/1727) C:\\Users\\bcw60\\OneDrive\\Desktop\\TestData\\walker_hos.mp4: 384x640 1 walker, 31.3ms\n",
      "video 1/1 (174/1727) C:\\Users\\bcw60\\OneDrive\\Desktop\\TestData\\walker_hos.mp4: 384x640 1 walker, 30.1ms\n",
      "video 1/1 (174/1727) C:\\Users\\bcw60\\OneDrive\\Desktop\\TestData\\walker_hos.mp4: 384x640 1 walker, 30.1ms\n",
      "video 1/1 (175/1727) C:\\Users\\bcw60\\OneDrive\\Desktop\\TestData\\walker_hos.mp4: 384x640 1 walker, 34.2ms\n",
      "video 1/1 (175/1727) C:\\Users\\bcw60\\OneDrive\\Desktop\\TestData\\walker_hos.mp4: 384x640 1 walker, 34.2ms\n",
      "video 1/1 (176/1727) C:\\Users\\bcw60\\OneDrive\\Desktop\\TestData\\walker_hos.mp4: 384x640 1 walker, 21.9ms\n",
      "video 1/1 (176/1727) C:\\Users\\bcw60\\OneDrive\\Desktop\\TestData\\walker_hos.mp4: 384x640 1 walker, 21.9ms\n",
      "video 1/1 (177/1727) C:\\Users\\bcw60\\OneDrive\\Desktop\\TestData\\walker_hos.mp4: 384x640 1 walker, 31.3ms\n",
      "video 1/1 (177/1727) C:\\Users\\bcw60\\OneDrive\\Desktop\\TestData\\walker_hos.mp4: 384x640 1 walker, 31.3ms\n",
      "video 1/1 (178/1727) C:\\Users\\bcw60\\OneDrive\\Desktop\\TestData\\walker_hos.mp4: 384x640 1 walker, 27.8ms\n",
      "video 1/1 (178/1727) C:\\Users\\bcw60\\OneDrive\\Desktop\\TestData\\walker_hos.mp4: 384x640 1 walker, 27.8ms\n",
      "video 1/1 (179/1727) C:\\Users\\bcw60\\OneDrive\\Desktop\\TestData\\walker_hos.mp4: 384x640 1 walker, 16.5ms\n",
      "video 1/1 (179/1727) C:\\Users\\bcw60\\OneDrive\\Desktop\\TestData\\walker_hos.mp4: 384x640 1 walker, 16.5ms\n",
      "video 1/1 (180/1727) C:\\Users\\bcw60\\OneDrive\\Desktop\\TestData\\walker_hos.mp4: 384x640 1 walker, 35.1ms\n",
      "video 1/1 (180/1727) C:\\Users\\bcw60\\OneDrive\\Desktop\\TestData\\walker_hos.mp4: 384x640 1 walker, 35.1ms\n",
      "video 1/1 (181/1727) C:\\Users\\bcw60\\OneDrive\\Desktop\\TestData\\walker_hos.mp4: 384x640 1 walker, 20.8ms\n",
      "video 1/1 (181/1727) C:\\Users\\bcw60\\OneDrive\\Desktop\\TestData\\walker_hos.mp4: 384x640 1 walker, 20.8ms\n",
      "video 1/1 (182/1727) C:\\Users\\bcw60\\OneDrive\\Desktop\\TestData\\walker_hos.mp4: 384x640 1 walker, 36.2ms\n",
      "video 1/1 (182/1727) C:\\Users\\bcw60\\OneDrive\\Desktop\\TestData\\walker_hos.mp4: 384x640 1 walker, 36.2ms\n",
      "video 1/1 (183/1727) C:\\Users\\bcw60\\OneDrive\\Desktop\\TestData\\walker_hos.mp4: 384x640 1 walker, 19.0ms\n",
      "video 1/1 (183/1727) C:\\Users\\bcw60\\OneDrive\\Desktop\\TestData\\walker_hos.mp4: 384x640 1 walker, 19.0ms\n",
      "video 1/1 (184/1727) C:\\Users\\bcw60\\OneDrive\\Desktop\\TestData\\walker_hos.mp4: 384x640 1 walker, 33.5ms\n",
      "video 1/1 (184/1727) C:\\Users\\bcw60\\OneDrive\\Desktop\\TestData\\walker_hos.mp4: 384x640 1 walker, 33.5ms\n",
      "video 1/1 (185/1727) C:\\Users\\bcw60\\OneDrive\\Desktop\\TestData\\walker_hos.mp4: 384x640 1 walker, 23.9ms\n",
      "video 1/1 (185/1727) C:\\Users\\bcw60\\OneDrive\\Desktop\\TestData\\walker_hos.mp4: 384x640 1 walker, 23.9ms\n",
      "video 1/1 (186/1727) C:\\Users\\bcw60\\OneDrive\\Desktop\\TestData\\walker_hos.mp4: 384x640 1 walker, 37.3ms\n",
      "video 1/1 (186/1727) C:\\Users\\bcw60\\OneDrive\\Desktop\\TestData\\walker_hos.mp4: 384x640 1 walker, 37.3ms\n",
      "video 1/1 (187/1727) C:\\Users\\bcw60\\OneDrive\\Desktop\\TestData\\walker_hos.mp4: 384x640 1 walker, 26.4ms\n",
      "video 1/1 (187/1727) C:\\Users\\bcw60\\OneDrive\\Desktop\\TestData\\walker_hos.mp4: 384x640 1 walker, 26.4ms\n",
      "video 1/1 (188/1727) C:\\Users\\bcw60\\OneDrive\\Desktop\\TestData\\walker_hos.mp4: 384x640 1 walker, 22.8ms\n",
      "video 1/1 (188/1727) C:\\Users\\bcw60\\OneDrive\\Desktop\\TestData\\walker_hos.mp4: 384x640 1 walker, 22.8ms\n",
      "video 1/1 (189/1727) C:\\Users\\bcw60\\OneDrive\\Desktop\\TestData\\walker_hos.mp4: 384x640 1 walker, 28.5ms\n",
      "video 1/1 (189/1727) C:\\Users\\bcw60\\OneDrive\\Desktop\\TestData\\walker_hos.mp4: 384x640 1 walker, 28.5ms\n",
      "video 1/1 (190/1727) C:\\Users\\bcw60\\OneDrive\\Desktop\\TestData\\walker_hos.mp4: 384x640 1 walker, 46.7ms\n",
      "video 1/1 (190/1727) C:\\Users\\bcw60\\OneDrive\\Desktop\\TestData\\walker_hos.mp4: 384x640 1 walker, 46.7ms\n",
      "video 1/1 (191/1727) C:\\Users\\bcw60\\OneDrive\\Desktop\\TestData\\walker_hos.mp4: 384x640 1 walker, 36.2ms\n",
      "video 1/1 (191/1727) C:\\Users\\bcw60\\OneDrive\\Desktop\\TestData\\walker_hos.mp4: 384x640 1 walker, 36.2ms\n",
      "video 1/1 (192/1727) C:\\Users\\bcw60\\OneDrive\\Desktop\\TestData\\walker_hos.mp4: 384x640 1 walker, 38.7ms\n",
      "video 1/1 (192/1727) C:\\Users\\bcw60\\OneDrive\\Desktop\\TestData\\walker_hos.mp4: 384x640 1 walker, 38.7ms\n",
      "video 1/1 (193/1727) C:\\Users\\bcw60\\OneDrive\\Desktop\\TestData\\walker_hos.mp4: 384x640 1 walker, 50.4ms\n",
      "video 1/1 (193/1727) C:\\Users\\bcw60\\OneDrive\\Desktop\\TestData\\walker_hos.mp4: 384x640 1 walker, 50.4ms\n",
      "video 1/1 (194/1727) C:\\Users\\bcw60\\OneDrive\\Desktop\\TestData\\walker_hos.mp4: 384x640 1 walker, 47.9ms\n",
      "video 1/1 (194/1727) C:\\Users\\bcw60\\OneDrive\\Desktop\\TestData\\walker_hos.mp4: 384x640 1 walker, 47.9ms\n",
      "video 1/1 (195/1727) C:\\Users\\bcw60\\OneDrive\\Desktop\\TestData\\walker_hos.mp4: 384x640 1 walker, 48.9ms\n",
      "video 1/1 (195/1727) C:\\Users\\bcw60\\OneDrive\\Desktop\\TestData\\walker_hos.mp4: 384x640 1 walker, 48.9ms\n",
      "video 1/1 (196/1727) C:\\Users\\bcw60\\OneDrive\\Desktop\\TestData\\walker_hos.mp4: 384x640 1 walker, 36.2ms\n",
      "video 1/1 (196/1727) C:\\Users\\bcw60\\OneDrive\\Desktop\\TestData\\walker_hos.mp4: 384x640 1 walker, 36.2ms\n",
      "video 1/1 (197/1727) C:\\Users\\bcw60\\OneDrive\\Desktop\\TestData\\walker_hos.mp4: 384x640 1 walker, 45.4ms\n",
      "video 1/1 (197/1727) C:\\Users\\bcw60\\OneDrive\\Desktop\\TestData\\walker_hos.mp4: 384x640 1 walker, 45.4ms\n",
      "video 1/1 (198/1727) C:\\Users\\bcw60\\OneDrive\\Desktop\\TestData\\walker_hos.mp4: 384x640 1 walker, 36.6ms\n",
      "video 1/1 (198/1727) C:\\Users\\bcw60\\OneDrive\\Desktop\\TestData\\walker_hos.mp4: 384x640 1 walker, 36.6ms\n",
      "video 1/1 (199/1727) C:\\Users\\bcw60\\OneDrive\\Desktop\\TestData\\walker_hos.mp4: 384x640 1 walker, 35.4ms\n",
      "video 1/1 (199/1727) C:\\Users\\bcw60\\OneDrive\\Desktop\\TestData\\walker_hos.mp4: 384x640 1 walker, 35.4ms\n",
      "video 1/1 (200/1727) C:\\Users\\bcw60\\OneDrive\\Desktop\\TestData\\walker_hos.mp4: 384x640 1 walker, 47.7ms\n",
      "video 1/1 (200/1727) C:\\Users\\bcw60\\OneDrive\\Desktop\\TestData\\walker_hos.mp4: 384x640 1 walker, 47.7ms\n",
      "video 1/1 (201/1727) C:\\Users\\bcw60\\OneDrive\\Desktop\\TestData\\walker_hos.mp4: 384x640 1 walker, 48.2ms\n",
      "video 1/1 (201/1727) C:\\Users\\bcw60\\OneDrive\\Desktop\\TestData\\walker_hos.mp4: 384x640 1 walker, 48.2ms\n",
      "video 1/1 (202/1727) C:\\Users\\bcw60\\OneDrive\\Desktop\\TestData\\walker_hos.mp4: 384x640 1 walker, 45.7ms\n",
      "video 1/1 (202/1727) C:\\Users\\bcw60\\OneDrive\\Desktop\\TestData\\walker_hos.mp4: 384x640 1 walker, 45.7ms\n",
      "video 1/1 (203/1727) C:\\Users\\bcw60\\OneDrive\\Desktop\\TestData\\walker_hos.mp4: 384x640 1 walker, 41.7ms\n",
      "video 1/1 (203/1727) C:\\Users\\bcw60\\OneDrive\\Desktop\\TestData\\walker_hos.mp4: 384x640 1 walker, 41.7ms\n",
      "video 1/1 (204/1727) C:\\Users\\bcw60\\OneDrive\\Desktop\\TestData\\walker_hos.mp4: 384x640 1 walker, 46.9ms\n",
      "video 1/1 (204/1727) C:\\Users\\bcw60\\OneDrive\\Desktop\\TestData\\walker_hos.mp4: 384x640 1 walker, 46.9ms\n",
      "video 1/1 (205/1727) C:\\Users\\bcw60\\OneDrive\\Desktop\\TestData\\walker_hos.mp4: 384x640 1 walker, 31.9ms\n",
      "video 1/1 (205/1727) C:\\Users\\bcw60\\OneDrive\\Desktop\\TestData\\walker_hos.mp4: 384x640 1 walker, 31.9ms\n",
      "video 1/1 (206/1727) C:\\Users\\bcw60\\OneDrive\\Desktop\\TestData\\walker_hos.mp4: 384x640 1 walker, 29.2ms\n",
      "video 1/1 (206/1727) C:\\Users\\bcw60\\OneDrive\\Desktop\\TestData\\walker_hos.mp4: 384x640 1 walker, 29.2ms\n",
      "video 1/1 (207/1727) C:\\Users\\bcw60\\OneDrive\\Desktop\\TestData\\walker_hos.mp4: 384x640 1 walker, 34.3ms\n",
      "video 1/1 (207/1727) C:\\Users\\bcw60\\OneDrive\\Desktop\\TestData\\walker_hos.mp4: 384x640 1 walker, 34.3ms\n",
      "video 1/1 (208/1727) C:\\Users\\bcw60\\OneDrive\\Desktop\\TestData\\walker_hos.mp4: 384x640 1 walker, 49.9ms\n",
      "video 1/1 (208/1727) C:\\Users\\bcw60\\OneDrive\\Desktop\\TestData\\walker_hos.mp4: 384x640 1 walker, 49.9ms\n",
      "video 1/1 (209/1727) C:\\Users\\bcw60\\OneDrive\\Desktop\\TestData\\walker_hos.mp4: 384x640 1 walker, 50.0ms\n",
      "video 1/1 (209/1727) C:\\Users\\bcw60\\OneDrive\\Desktop\\TestData\\walker_hos.mp4: 384x640 1 walker, 50.0ms\n",
      "video 1/1 (210/1727) C:\\Users\\bcw60\\OneDrive\\Desktop\\TestData\\walker_hos.mp4: 384x640 1 walker, 46.8ms\n",
      "video 1/1 (210/1727) C:\\Users\\bcw60\\OneDrive\\Desktop\\TestData\\walker_hos.mp4: 384x640 1 walker, 46.8ms\n",
      "video 1/1 (211/1727) C:\\Users\\bcw60\\OneDrive\\Desktop\\TestData\\walker_hos.mp4: 384x640 1 walker, 47.6ms\n",
      "video 1/1 (211/1727) C:\\Users\\bcw60\\OneDrive\\Desktop\\TestData\\walker_hos.mp4: 384x640 1 walker, 47.6ms\n",
      "video 1/1 (212/1727) C:\\Users\\bcw60\\OneDrive\\Desktop\\TestData\\walker_hos.mp4: 384x640 1 walker, 38.5ms\n",
      "video 1/1 (212/1727) C:\\Users\\bcw60\\OneDrive\\Desktop\\TestData\\walker_hos.mp4: 384x640 1 walker, 38.5ms\n",
      "video 1/1 (213/1727) C:\\Users\\bcw60\\OneDrive\\Desktop\\TestData\\walker_hos.mp4: 384x640 1 walker, 28.1ms\n",
      "video 1/1 (213/1727) C:\\Users\\bcw60\\OneDrive\\Desktop\\TestData\\walker_hos.mp4: 384x640 1 walker, 28.1ms\n",
      "video 1/1 (214/1727) C:\\Users\\bcw60\\OneDrive\\Desktop\\TestData\\walker_hos.mp4: 384x640 1 walker, 32.1ms\n",
      "video 1/1 (214/1727) C:\\Users\\bcw60\\OneDrive\\Desktop\\TestData\\walker_hos.mp4: 384x640 1 walker, 32.1ms\n",
      "video 1/1 (215/1727) C:\\Users\\bcw60\\OneDrive\\Desktop\\TestData\\walker_hos.mp4: 384x640 1 walker, 50.6ms\n",
      "video 1/1 (215/1727) C:\\Users\\bcw60\\OneDrive\\Desktop\\TestData\\walker_hos.mp4: 384x640 1 walker, 50.6ms\n",
      "video 1/1 (216/1727) C:\\Users\\bcw60\\OneDrive\\Desktop\\TestData\\walker_hos.mp4: 384x640 1 walker, 37.2ms\n",
      "video 1/1 (216/1727) C:\\Users\\bcw60\\OneDrive\\Desktop\\TestData\\walker_hos.mp4: 384x640 1 walker, 37.2ms\n",
      "video 1/1 (217/1727) C:\\Users\\bcw60\\OneDrive\\Desktop\\TestData\\walker_hos.mp4: 384x640 1 walker, 49.0ms\n",
      "video 1/1 (217/1727) C:\\Users\\bcw60\\OneDrive\\Desktop\\TestData\\walker_hos.mp4: 384x640 1 walker, 49.0ms\n",
      "video 1/1 (218/1727) C:\\Users\\bcw60\\OneDrive\\Desktop\\TestData\\walker_hos.mp4: 384x640 1 walker, 51.3ms\n",
      "video 1/1 (218/1727) C:\\Users\\bcw60\\OneDrive\\Desktop\\TestData\\walker_hos.mp4: 384x640 1 walker, 51.3ms\n",
      "video 1/1 (219/1727) C:\\Users\\bcw60\\OneDrive\\Desktop\\TestData\\walker_hos.mp4: 384x640 1 walker, 36.1ms\n",
      "video 1/1 (219/1727) C:\\Users\\bcw60\\OneDrive\\Desktop\\TestData\\walker_hos.mp4: 384x640 1 walker, 36.1ms\n",
      "video 1/1 (220/1727) C:\\Users\\bcw60\\OneDrive\\Desktop\\TestData\\walker_hos.mp4: 384x640 1 walker, 43.1ms\n",
      "video 1/1 (220/1727) C:\\Users\\bcw60\\OneDrive\\Desktop\\TestData\\walker_hos.mp4: 384x640 1 walker, 43.1ms\n",
      "video 1/1 (221/1727) C:\\Users\\bcw60\\OneDrive\\Desktop\\TestData\\walker_hos.mp4: 384x640 1 walker, 36.8ms\n",
      "video 1/1 (221/1727) C:\\Users\\bcw60\\OneDrive\\Desktop\\TestData\\walker_hos.mp4: 384x640 1 walker, 36.8ms\n",
      "video 1/1 (222/1727) C:\\Users\\bcw60\\OneDrive\\Desktop\\TestData\\walker_hos.mp4: 384x640 1 walker, 33.2ms\n",
      "video 1/1 (222/1727) C:\\Users\\bcw60\\OneDrive\\Desktop\\TestData\\walker_hos.mp4: 384x640 1 walker, 33.2ms\n",
      "video 1/1 (223/1727) C:\\Users\\bcw60\\OneDrive\\Desktop\\TestData\\walker_hos.mp4: 384x640 1 walker, 49.8ms\n",
      "video 1/1 (223/1727) C:\\Users\\bcw60\\OneDrive\\Desktop\\TestData\\walker_hos.mp4: 384x640 1 walker, 49.8ms\n",
      "video 1/1 (224/1727) C:\\Users\\bcw60\\OneDrive\\Desktop\\TestData\\walker_hos.mp4: 384x640 1 walker, 46.0ms\n",
      "video 1/1 (224/1727) C:\\Users\\bcw60\\OneDrive\\Desktop\\TestData\\walker_hos.mp4: 384x640 1 walker, 46.0ms\n",
      "video 1/1 (225/1727) C:\\Users\\bcw60\\OneDrive\\Desktop\\TestData\\walker_hos.mp4: 384x640 1 walker, 49.5ms\n",
      "video 1/1 (225/1727) C:\\Users\\bcw60\\OneDrive\\Desktop\\TestData\\walker_hos.mp4: 384x640 1 walker, 49.5ms\n",
      "video 1/1 (226/1727) C:\\Users\\bcw60\\OneDrive\\Desktop\\TestData\\walker_hos.mp4: 384x640 1 walker, 42.8ms\n",
      "video 1/1 (226/1727) C:\\Users\\bcw60\\OneDrive\\Desktop\\TestData\\walker_hos.mp4: 384x640 1 walker, 42.8ms\n",
      "video 1/1 (227/1727) C:\\Users\\bcw60\\OneDrive\\Desktop\\TestData\\walker_hos.mp4: 384x640 1 walker, 43.5ms\n",
      "video 1/1 (227/1727) C:\\Users\\bcw60\\OneDrive\\Desktop\\TestData\\walker_hos.mp4: 384x640 1 walker, 43.5ms\n",
      "video 1/1 (228/1727) C:\\Users\\bcw60\\OneDrive\\Desktop\\TestData\\walker_hos.mp4: 384x640 1 walker, 31.4ms\n",
      "video 1/1 (228/1727) C:\\Users\\bcw60\\OneDrive\\Desktop\\TestData\\walker_hos.mp4: 384x640 1 walker, 31.4ms\n",
      "video 1/1 (229/1727) C:\\Users\\bcw60\\OneDrive\\Desktop\\TestData\\walker_hos.mp4: 384x640 1 walker, 35.8ms\n",
      "video 1/1 (229/1727) C:\\Users\\bcw60\\OneDrive\\Desktop\\TestData\\walker_hos.mp4: 384x640 1 walker, 35.8ms\n",
      "video 1/1 (230/1727) C:\\Users\\bcw60\\OneDrive\\Desktop\\TestData\\walker_hos.mp4: 384x640 1 walker, 35.4ms\n",
      "video 1/1 (230/1727) C:\\Users\\bcw60\\OneDrive\\Desktop\\TestData\\walker_hos.mp4: 384x640 1 walker, 35.4ms\n",
      "video 1/1 (231/1727) C:\\Users\\bcw60\\OneDrive\\Desktop\\TestData\\walker_hos.mp4: 384x640 1 walker, 49.9ms\n",
      "video 1/1 (231/1727) C:\\Users\\bcw60\\OneDrive\\Desktop\\TestData\\walker_hos.mp4: 384x640 1 walker, 49.9ms\n",
      "video 1/1 (232/1727) C:\\Users\\bcw60\\OneDrive\\Desktop\\TestData\\walker_hos.mp4: 384x640 1 walker, 48.7ms\n",
      "video 1/1 (232/1727) C:\\Users\\bcw60\\OneDrive\\Desktop\\TestData\\walker_hos.mp4: 384x640 1 walker, 48.7ms\n",
      "video 1/1 (233/1727) C:\\Users\\bcw60\\OneDrive\\Desktop\\TestData\\walker_hos.mp4: 384x640 1 walker, 49.3ms\n",
      "video 1/1 (233/1727) C:\\Users\\bcw60\\OneDrive\\Desktop\\TestData\\walker_hos.mp4: 384x640 1 walker, 49.3ms\n",
      "video 1/1 (234/1727) C:\\Users\\bcw60\\OneDrive\\Desktop\\TestData\\walker_hos.mp4: 384x640 1 walker, 32.5ms\n",
      "video 1/1 (234/1727) C:\\Users\\bcw60\\OneDrive\\Desktop\\TestData\\walker_hos.mp4: 384x640 1 walker, 32.5ms\n",
      "video 1/1 (235/1727) C:\\Users\\bcw60\\OneDrive\\Desktop\\TestData\\walker_hos.mp4: 384x640 1 walker, 37.7ms\n",
      "video 1/1 (235/1727) C:\\Users\\bcw60\\OneDrive\\Desktop\\TestData\\walker_hos.mp4: 384x640 1 walker, 37.7ms\n",
      "video 1/1 (236/1727) C:\\Users\\bcw60\\OneDrive\\Desktop\\TestData\\walker_hos.mp4: 384x640 1 walker, 31.1ms\n",
      "video 1/1 (236/1727) C:\\Users\\bcw60\\OneDrive\\Desktop\\TestData\\walker_hos.mp4: 384x640 1 walker, 31.1ms\n",
      "video 1/1 (237/1727) C:\\Users\\bcw60\\OneDrive\\Desktop\\TestData\\walker_hos.mp4: 384x640 1 walker, 35.2ms\n",
      "video 1/1 (237/1727) C:\\Users\\bcw60\\OneDrive\\Desktop\\TestData\\walker_hos.mp4: 384x640 1 walker, 35.2ms\n",
      "video 1/1 (238/1727) C:\\Users\\bcw60\\OneDrive\\Desktop\\TestData\\walker_hos.mp4: 384x640 1 walker, 51.0ms\n",
      "video 1/1 (238/1727) C:\\Users\\bcw60\\OneDrive\\Desktop\\TestData\\walker_hos.mp4: 384x640 1 walker, 51.0ms\n",
      "video 1/1 (239/1727) C:\\Users\\bcw60\\OneDrive\\Desktop\\TestData\\walker_hos.mp4: 384x640 1 walker, 47.0ms\n",
      "video 1/1 (239/1727) C:\\Users\\bcw60\\OneDrive\\Desktop\\TestData\\walker_hos.mp4: 384x640 1 walker, 47.0ms\n",
      "video 1/1 (240/1727) C:\\Users\\bcw60\\OneDrive\\Desktop\\TestData\\walker_hos.mp4: 384x640 1 walker, 38.8ms\n",
      "video 1/1 (240/1727) C:\\Users\\bcw60\\OneDrive\\Desktop\\TestData\\walker_hos.mp4: 384x640 1 walker, 38.8ms\n",
      "video 1/1 (241/1727) C:\\Users\\bcw60\\OneDrive\\Desktop\\TestData\\walker_hos.mp4: 384x640 1 walker, 39.0ms\n",
      "video 1/1 (241/1727) C:\\Users\\bcw60\\OneDrive\\Desktop\\TestData\\walker_hos.mp4: 384x640 1 walker, 39.0ms\n",
      "video 1/1 (242/1727) C:\\Users\\bcw60\\OneDrive\\Desktop\\TestData\\walker_hos.mp4: 384x640 1 walker, 40.1ms\n",
      "video 1/1 (242/1727) C:\\Users\\bcw60\\OneDrive\\Desktop\\TestData\\walker_hos.mp4: 384x640 1 walker, 40.1ms\n",
      "video 1/1 (243/1727) C:\\Users\\bcw60\\OneDrive\\Desktop\\TestData\\walker_hos.mp4: 384x640 1 walker, 34.1ms\n",
      "video 1/1 (243/1727) C:\\Users\\bcw60\\OneDrive\\Desktop\\TestData\\walker_hos.mp4: 384x640 1 walker, 34.1ms\n",
      "video 1/1 (244/1727) C:\\Users\\bcw60\\OneDrive\\Desktop\\TestData\\walker_hos.mp4: 384x640 1 walker, 47.9ms\n",
      "video 1/1 (244/1727) C:\\Users\\bcw60\\OneDrive\\Desktop\\TestData\\walker_hos.mp4: 384x640 1 walker, 47.9ms\n",
      "video 1/1 (245/1727) C:\\Users\\bcw60\\OneDrive\\Desktop\\TestData\\walker_hos.mp4: 384x640 1 walker, 44.6ms\n",
      "video 1/1 (245/1727) C:\\Users\\bcw60\\OneDrive\\Desktop\\TestData\\walker_hos.mp4: 384x640 1 walker, 44.6ms\n",
      "video 1/1 (246/1727) C:\\Users\\bcw60\\OneDrive\\Desktop\\TestData\\walker_hos.mp4: 384x640 1 walker, 36.1ms\n",
      "video 1/1 (246/1727) C:\\Users\\bcw60\\OneDrive\\Desktop\\TestData\\walker_hos.mp4: 384x640 1 walker, 36.1ms\n",
      "video 1/1 (247/1727) C:\\Users\\bcw60\\OneDrive\\Desktop\\TestData\\walker_hos.mp4: 384x640 1 walker, 31.3ms\n",
      "video 1/1 (247/1727) C:\\Users\\bcw60\\OneDrive\\Desktop\\TestData\\walker_hos.mp4: 384x640 1 walker, 31.3ms\n",
      "video 1/1 (248/1727) C:\\Users\\bcw60\\OneDrive\\Desktop\\TestData\\walker_hos.mp4: 384x640 1 walker, 35.0ms\n",
      "video 1/1 (248/1727) C:\\Users\\bcw60\\OneDrive\\Desktop\\TestData\\walker_hos.mp4: 384x640 1 walker, 35.0ms\n",
      "video 1/1 (249/1727) C:\\Users\\bcw60\\OneDrive\\Desktop\\TestData\\walker_hos.mp4: 384x640 1 walker, 51.3ms\n",
      "video 1/1 (249/1727) C:\\Users\\bcw60\\OneDrive\\Desktop\\TestData\\walker_hos.mp4: 384x640 1 walker, 51.3ms\n",
      "video 1/1 (250/1727) C:\\Users\\bcw60\\OneDrive\\Desktop\\TestData\\walker_hos.mp4: 384x640 1 walker, 48.7ms\n",
      "video 1/1 (250/1727) C:\\Users\\bcw60\\OneDrive\\Desktop\\TestData\\walker_hos.mp4: 384x640 1 walker, 48.7ms\n",
      "video 1/1 (251/1727) C:\\Users\\bcw60\\OneDrive\\Desktop\\TestData\\walker_hos.mp4: 384x640 1 walker, 44.7ms\n",
      "video 1/1 (251/1727) C:\\Users\\bcw60\\OneDrive\\Desktop\\TestData\\walker_hos.mp4: 384x640 1 walker, 44.7ms\n",
      "video 1/1 (252/1727) C:\\Users\\bcw60\\OneDrive\\Desktop\\TestData\\walker_hos.mp4: 384x640 1 walker, 45.3ms\n",
      "video 1/1 (252/1727) C:\\Users\\bcw60\\OneDrive\\Desktop\\TestData\\walker_hos.mp4: 384x640 1 walker, 45.3ms\n",
      "video 1/1 (253/1727) C:\\Users\\bcw60\\OneDrive\\Desktop\\TestData\\walker_hos.mp4: 384x640 1 walker, 29.0ms\n",
      "video 1/1 (253/1727) C:\\Users\\bcw60\\OneDrive\\Desktop\\TestData\\walker_hos.mp4: 384x640 1 walker, 29.0ms\n",
      "video 1/1 (254/1727) C:\\Users\\bcw60\\OneDrive\\Desktop\\TestData\\walker_hos.mp4: 384x640 1 walker, 32.0ms\n",
      "video 1/1 (254/1727) C:\\Users\\bcw60\\OneDrive\\Desktop\\TestData\\walker_hos.mp4: 384x640 1 walker, 32.0ms\n",
      "video 1/1 (255/1727) C:\\Users\\bcw60\\OneDrive\\Desktop\\TestData\\walker_hos.mp4: 384x640 1 walker, 50.0ms\n",
      "video 1/1 (255/1727) C:\\Users\\bcw60\\OneDrive\\Desktop\\TestData\\walker_hos.mp4: 384x640 1 walker, 50.0ms\n",
      "video 1/1 (256/1727) C:\\Users\\bcw60\\OneDrive\\Desktop\\TestData\\walker_hos.mp4: 384x640 1 walker, 50.1ms\n",
      "video 1/1 (256/1727) C:\\Users\\bcw60\\OneDrive\\Desktop\\TestData\\walker_hos.mp4: 384x640 1 walker, 50.1ms\n",
      "video 1/1 (257/1727) C:\\Users\\bcw60\\OneDrive\\Desktop\\TestData\\walker_hos.mp4: 384x640 1 walker, 38.7ms\n",
      "video 1/1 (257/1727) C:\\Users\\bcw60\\OneDrive\\Desktop\\TestData\\walker_hos.mp4: 384x640 1 walker, 38.7ms\n",
      "video 1/1 (258/1727) C:\\Users\\bcw60\\OneDrive\\Desktop\\TestData\\walker_hos.mp4: 384x640 1 walker, 42.5ms\n",
      "video 1/1 (258/1727) C:\\Users\\bcw60\\OneDrive\\Desktop\\TestData\\walker_hos.mp4: 384x640 1 walker, 42.5ms\n",
      "video 1/1 (259/1727) C:\\Users\\bcw60\\OneDrive\\Desktop\\TestData\\walker_hos.mp4: 384x640 1 walker, 42.0ms\n",
      "video 1/1 (259/1727) C:\\Users\\bcw60\\OneDrive\\Desktop\\TestData\\walker_hos.mp4: 384x640 1 walker, 42.0ms\n",
      "video 1/1 (260/1727) C:\\Users\\bcw60\\OneDrive\\Desktop\\TestData\\walker_hos.mp4: 384x640 1 walker, 37.4ms\n",
      "video 1/1 (260/1727) C:\\Users\\bcw60\\OneDrive\\Desktop\\TestData\\walker_hos.mp4: 384x640 1 walker, 37.4ms\n",
      "video 1/1 (261/1727) C:\\Users\\bcw60\\OneDrive\\Desktop\\TestData\\walker_hos.mp4: 384x640 1 walker, 39.0ms\n",
      "video 1/1 (261/1727) C:\\Users\\bcw60\\OneDrive\\Desktop\\TestData\\walker_hos.mp4: 384x640 1 walker, 39.0ms\n",
      "video 1/1 (262/1727) C:\\Users\\bcw60\\OneDrive\\Desktop\\TestData\\walker_hos.mp4: 384x640 1 walker, 25.7ms\n",
      "video 1/1 (262/1727) C:\\Users\\bcw60\\OneDrive\\Desktop\\TestData\\walker_hos.mp4: 384x640 1 walker, 25.7ms\n",
      "video 1/1 (263/1727) C:\\Users\\bcw60\\OneDrive\\Desktop\\TestData\\walker_hos.mp4: 384x640 1 walker, 29.0ms\n",
      "video 1/1 (263/1727) C:\\Users\\bcw60\\OneDrive\\Desktop\\TestData\\walker_hos.mp4: 384x640 1 walker, 29.0ms\n",
      "video 1/1 (264/1727) C:\\Users\\bcw60\\OneDrive\\Desktop\\TestData\\walker_hos.mp4: 384x640 1 walker, 29.5ms\n",
      "video 1/1 (264/1727) C:\\Users\\bcw60\\OneDrive\\Desktop\\TestData\\walker_hos.mp4: 384x640 1 walker, 29.5ms\n",
      "video 1/1 (265/1727) C:\\Users\\bcw60\\OneDrive\\Desktop\\TestData\\walker_hos.mp4: 384x640 1 walker, 35.5ms\n",
      "video 1/1 (265/1727) C:\\Users\\bcw60\\OneDrive\\Desktop\\TestData\\walker_hos.mp4: 384x640 1 walker, 35.5ms\n",
      "video 1/1 (266/1727) C:\\Users\\bcw60\\OneDrive\\Desktop\\TestData\\walker_hos.mp4: 384x640 1 walker, 52.2ms\n",
      "video 1/1 (266/1727) C:\\Users\\bcw60\\OneDrive\\Desktop\\TestData\\walker_hos.mp4: 384x640 1 walker, 52.2ms\n",
      "video 1/1 (267/1727) C:\\Users\\bcw60\\OneDrive\\Desktop\\TestData\\walker_hos.mp4: 384x640 1 walker, 40.2ms\n",
      "video 1/1 (267/1727) C:\\Users\\bcw60\\OneDrive\\Desktop\\TestData\\walker_hos.mp4: 384x640 1 walker, 40.2ms\n",
      "video 1/1 (268/1727) C:\\Users\\bcw60\\OneDrive\\Desktop\\TestData\\walker_hos.mp4: 384x640 1 walker, 43.3ms\n",
      "video 1/1 (268/1727) C:\\Users\\bcw60\\OneDrive\\Desktop\\TestData\\walker_hos.mp4: 384x640 1 walker, 43.3ms\n",
      "video 1/1 (269/1727) C:\\Users\\bcw60\\OneDrive\\Desktop\\TestData\\walker_hos.mp4: 384x640 1 walker, 34.3ms\n",
      "video 1/1 (269/1727) C:\\Users\\bcw60\\OneDrive\\Desktop\\TestData\\walker_hos.mp4: 384x640 1 walker, 34.3ms\n",
      "video 1/1 (270/1727) C:\\Users\\bcw60\\OneDrive\\Desktop\\TestData\\walker_hos.mp4: 384x640 1 walker, 49.9ms\n",
      "video 1/1 (270/1727) C:\\Users\\bcw60\\OneDrive\\Desktop\\TestData\\walker_hos.mp4: 384x640 1 walker, 49.9ms\n",
      "video 1/1 (271/1727) C:\\Users\\bcw60\\OneDrive\\Desktop\\TestData\\walker_hos.mp4: 384x640 1 walker, 34.1ms\n",
      "video 1/1 (271/1727) C:\\Users\\bcw60\\OneDrive\\Desktop\\TestData\\walker_hos.mp4: 384x640 1 walker, 34.1ms\n",
      "video 1/1 (272/1727) C:\\Users\\bcw60\\OneDrive\\Desktop\\TestData\\walker_hos.mp4: 384x640 1 walker, 39.7ms\n",
      "video 1/1 (272/1727) C:\\Users\\bcw60\\OneDrive\\Desktop\\TestData\\walker_hos.mp4: 384x640 1 walker, 39.7ms\n",
      "video 1/1 (273/1727) C:\\Users\\bcw60\\OneDrive\\Desktop\\TestData\\walker_hos.mp4: 384x640 1 walker, 42.5ms\n",
      "video 1/1 (273/1727) C:\\Users\\bcw60\\OneDrive\\Desktop\\TestData\\walker_hos.mp4: 384x640 1 walker, 42.5ms\n",
      "video 1/1 (274/1727) C:\\Users\\bcw60\\OneDrive\\Desktop\\TestData\\walker_hos.mp4: 384x640 1 walker, 39.1ms\n",
      "video 1/1 (274/1727) C:\\Users\\bcw60\\OneDrive\\Desktop\\TestData\\walker_hos.mp4: 384x640 1 walker, 39.1ms\n",
      "video 1/1 (275/1727) C:\\Users\\bcw60\\OneDrive\\Desktop\\TestData\\walker_hos.mp4: 384x640 1 walker, 35.2ms\n",
      "video 1/1 (275/1727) C:\\Users\\bcw60\\OneDrive\\Desktop\\TestData\\walker_hos.mp4: 384x640 1 walker, 35.2ms\n",
      "video 1/1 (276/1727) C:\\Users\\bcw60\\OneDrive\\Desktop\\TestData\\walker_hos.mp4: 384x640 1 walker, 34.9ms\n",
      "video 1/1 (276/1727) C:\\Users\\bcw60\\OneDrive\\Desktop\\TestData\\walker_hos.mp4: 384x640 1 walker, 34.9ms\n",
      "video 1/1 (277/1727) C:\\Users\\bcw60\\OneDrive\\Desktop\\TestData\\walker_hos.mp4: 384x640 1 walker, 48.7ms\n",
      "video 1/1 (277/1727) C:\\Users\\bcw60\\OneDrive\\Desktop\\TestData\\walker_hos.mp4: 384x640 1 walker, 48.7ms\n",
      "video 1/1 (278/1727) C:\\Users\\bcw60\\OneDrive\\Desktop\\TestData\\walker_hos.mp4: 384x640 1 walker, 37.1ms\n",
      "video 1/1 (278/1727) C:\\Users\\bcw60\\OneDrive\\Desktop\\TestData\\walker_hos.mp4: 384x640 1 walker, 37.1ms\n",
      "video 1/1 (279/1727) C:\\Users\\bcw60\\OneDrive\\Desktop\\TestData\\walker_hos.mp4: 384x640 1 walker, 29.4ms\n",
      "video 1/1 (279/1727) C:\\Users\\bcw60\\OneDrive\\Desktop\\TestData\\walker_hos.mp4: 384x640 1 walker, 29.4ms\n",
      "video 1/1 (280/1727) C:\\Users\\bcw60\\OneDrive\\Desktop\\TestData\\walker_hos.mp4: 384x640 1 walker, 35.3ms\n",
      "video 1/1 (280/1727) C:\\Users\\bcw60\\OneDrive\\Desktop\\TestData\\walker_hos.mp4: 384x640 1 walker, 35.3ms\n",
      "video 1/1 (281/1727) C:\\Users\\bcw60\\OneDrive\\Desktop\\TestData\\walker_hos.mp4: 384x640 1 walker, 48.8ms\n",
      "video 1/1 (281/1727) C:\\Users\\bcw60\\OneDrive\\Desktop\\TestData\\walker_hos.mp4: 384x640 1 walker, 48.8ms\n",
      "video 1/1 (282/1727) C:\\Users\\bcw60\\OneDrive\\Desktop\\TestData\\walker_hos.mp4: 384x640 1 walker, 40.3ms\n",
      "video 1/1 (282/1727) C:\\Users\\bcw60\\OneDrive\\Desktop\\TestData\\walker_hos.mp4: 384x640 1 walker, 40.3ms\n",
      "video 1/1 (283/1727) C:\\Users\\bcw60\\OneDrive\\Desktop\\TestData\\walker_hos.mp4: 384x640 1 walker, 32.6ms\n",
      "video 1/1 (283/1727) C:\\Users\\bcw60\\OneDrive\\Desktop\\TestData\\walker_hos.mp4: 384x640 1 walker, 32.6ms\n",
      "video 1/1 (284/1727) C:\\Users\\bcw60\\OneDrive\\Desktop\\TestData\\walker_hos.mp4: 384x640 1 walker, 46.3ms\n",
      "video 1/1 (284/1727) C:\\Users\\bcw60\\OneDrive\\Desktop\\TestData\\walker_hos.mp4: 384x640 1 walker, 46.3ms\n",
      "video 1/1 (285/1727) C:\\Users\\bcw60\\OneDrive\\Desktop\\TestData\\walker_hos.mp4: 384x640 1 walker, 26.7ms\n",
      "video 1/1 (285/1727) C:\\Users\\bcw60\\OneDrive\\Desktop\\TestData\\walker_hos.mp4: 384x640 1 walker, 26.7ms\n",
      "video 1/1 (286/1727) C:\\Users\\bcw60\\OneDrive\\Desktop\\TestData\\walker_hos.mp4: 384x640 1 walker, 32.1ms\n",
      "video 1/1 (286/1727) C:\\Users\\bcw60\\OneDrive\\Desktop\\TestData\\walker_hos.mp4: 384x640 1 walker, 32.1ms\n",
      "video 1/1 (287/1727) C:\\Users\\bcw60\\OneDrive\\Desktop\\TestData\\walker_hos.mp4: 384x640 1 walker, 48.2ms\n",
      "video 1/1 (287/1727) C:\\Users\\bcw60\\OneDrive\\Desktop\\TestData\\walker_hos.mp4: 384x640 1 walker, 48.2ms\n",
      "video 1/1 (288/1727) C:\\Users\\bcw60\\OneDrive\\Desktop\\TestData\\walker_hos.mp4: 384x640 1 walker, 47.2ms\n",
      "video 1/1 (288/1727) C:\\Users\\bcw60\\OneDrive\\Desktop\\TestData\\walker_hos.mp4: 384x640 1 walker, 47.2ms\n",
      "video 1/1 (289/1727) C:\\Users\\bcw60\\OneDrive\\Desktop\\TestData\\walker_hos.mp4: 384x640 1 walker, 41.4ms\n",
      "video 1/1 (289/1727) C:\\Users\\bcw60\\OneDrive\\Desktop\\TestData\\walker_hos.mp4: 384x640 1 walker, 41.4ms\n",
      "video 1/1 (290/1727) C:\\Users\\bcw60\\OneDrive\\Desktop\\TestData\\walker_hos.mp4: 384x640 1 walker, 31.2ms\n",
      "video 1/1 (290/1727) C:\\Users\\bcw60\\OneDrive\\Desktop\\TestData\\walker_hos.mp4: 384x640 1 walker, 31.2ms\n",
      "video 1/1 (291/1727) C:\\Users\\bcw60\\OneDrive\\Desktop\\TestData\\walker_hos.mp4: 384x640 1 walker, 53.9ms\n",
      "video 1/1 (291/1727) C:\\Users\\bcw60\\OneDrive\\Desktop\\TestData\\walker_hos.mp4: 384x640 1 walker, 53.9ms\n",
      "video 1/1 (292/1727) C:\\Users\\bcw60\\OneDrive\\Desktop\\TestData\\walker_hos.mp4: 384x640 1 walker, 38.3ms\n",
      "video 1/1 (292/1727) C:\\Users\\bcw60\\OneDrive\\Desktop\\TestData\\walker_hos.mp4: 384x640 1 walker, 38.3ms\n",
      "video 1/1 (293/1727) C:\\Users\\bcw60\\OneDrive\\Desktop\\TestData\\walker_hos.mp4: 384x640 1 walker, 45.0ms\n",
      "video 1/1 (293/1727) C:\\Users\\bcw60\\OneDrive\\Desktop\\TestData\\walker_hos.mp4: 384x640 1 walker, 45.0ms\n",
      "video 1/1 (294/1727) C:\\Users\\bcw60\\OneDrive\\Desktop\\TestData\\walker_hos.mp4: 384x640 1 walker, 40.3ms\n",
      "video 1/1 (294/1727) C:\\Users\\bcw60\\OneDrive\\Desktop\\TestData\\walker_hos.mp4: 384x640 1 walker, 40.3ms\n",
      "video 1/1 (295/1727) C:\\Users\\bcw60\\OneDrive\\Desktop\\TestData\\walker_hos.mp4: 384x640 1 walker, 34.0ms\n",
      "video 1/1 (295/1727) C:\\Users\\bcw60\\OneDrive\\Desktop\\TestData\\walker_hos.mp4: 384x640 1 walker, 34.0ms\n",
      "video 1/1 (296/1727) C:\\Users\\bcw60\\OneDrive\\Desktop\\TestData\\walker_hos.mp4: 384x640 1 walker, 35.3ms\n",
      "video 1/1 (296/1727) C:\\Users\\bcw60\\OneDrive\\Desktop\\TestData\\walker_hos.mp4: 384x640 1 walker, 35.3ms\n",
      "video 1/1 (297/1727) C:\\Users\\bcw60\\OneDrive\\Desktop\\TestData\\walker_hos.mp4: 384x640 1 walker, 31.1ms\n",
      "video 1/1 (297/1727) C:\\Users\\bcw60\\OneDrive\\Desktop\\TestData\\walker_hos.mp4: 384x640 1 walker, 31.1ms\n",
      "video 1/1 (298/1727) C:\\Users\\bcw60\\OneDrive\\Desktop\\TestData\\walker_hos.mp4: 384x640 1 walker, 43.3ms\n",
      "video 1/1 (298/1727) C:\\Users\\bcw60\\OneDrive\\Desktop\\TestData\\walker_hos.mp4: 384x640 1 walker, 43.3ms\n",
      "video 1/1 (299/1727) C:\\Users\\bcw60\\OneDrive\\Desktop\\TestData\\walker_hos.mp4: 384x640 2 walkers, 30.5ms\n",
      "video 1/1 (299/1727) C:\\Users\\bcw60\\OneDrive\\Desktop\\TestData\\walker_hos.mp4: 384x640 2 walkers, 30.5ms\n",
      "video 1/1 (300/1727) C:\\Users\\bcw60\\OneDrive\\Desktop\\TestData\\walker_hos.mp4: 384x640 2 walkers, 33.0ms\n",
      "video 1/1 (300/1727) C:\\Users\\bcw60\\OneDrive\\Desktop\\TestData\\walker_hos.mp4: 384x640 2 walkers, 33.0ms\n",
      "video 1/1 (301/1727) C:\\Users\\bcw60\\OneDrive\\Desktop\\TestData\\walker_hos.mp4: 384x640 2 walkers, 50.2ms\n",
      "video 1/1 (301/1727) C:\\Users\\bcw60\\OneDrive\\Desktop\\TestData\\walker_hos.mp4: 384x640 2 walkers, 50.2ms\n",
      "video 1/1 (302/1727) C:\\Users\\bcw60\\OneDrive\\Desktop\\TestData\\walker_hos.mp4: 384x640 2 walkers, 50.3ms\n",
      "video 1/1 (302/1727) C:\\Users\\bcw60\\OneDrive\\Desktop\\TestData\\walker_hos.mp4: 384x640 2 walkers, 50.3ms\n",
      "video 1/1 (303/1727) C:\\Users\\bcw60\\OneDrive\\Desktop\\TestData\\walker_hos.mp4: 384x640 2 walkers, 49.8ms\n",
      "video 1/1 (303/1727) C:\\Users\\bcw60\\OneDrive\\Desktop\\TestData\\walker_hos.mp4: 384x640 2 walkers, 49.8ms\n",
      "video 1/1 (304/1727) C:\\Users\\bcw60\\OneDrive\\Desktop\\TestData\\walker_hos.mp4: 384x640 2 walkers, 40.4ms\n",
      "video 1/1 (304/1727) C:\\Users\\bcw60\\OneDrive\\Desktop\\TestData\\walker_hos.mp4: 384x640 2 walkers, 40.4ms\n",
      "video 1/1 (305/1727) C:\\Users\\bcw60\\OneDrive\\Desktop\\TestData\\walker_hos.mp4: 384x640 2 walkers, 40.3ms\n",
      "video 1/1 (305/1727) C:\\Users\\bcw60\\OneDrive\\Desktop\\TestData\\walker_hos.mp4: 384x640 2 walkers, 40.3ms\n",
      "video 1/1 (306/1727) C:\\Users\\bcw60\\OneDrive\\Desktop\\TestData\\walker_hos.mp4: 384x640 2 walkers, 33.9ms\n",
      "video 1/1 (306/1727) C:\\Users\\bcw60\\OneDrive\\Desktop\\TestData\\walker_hos.mp4: 384x640 2 walkers, 33.9ms\n",
      "video 1/1 (307/1727) C:\\Users\\bcw60\\OneDrive\\Desktop\\TestData\\walker_hos.mp4: 384x640 2 walkers, 36.2ms\n",
      "video 1/1 (307/1727) C:\\Users\\bcw60\\OneDrive\\Desktop\\TestData\\walker_hos.mp4: 384x640 2 walkers, 36.2ms\n",
      "video 1/1 (308/1727) C:\\Users\\bcw60\\OneDrive\\Desktop\\TestData\\walker_hos.mp4: 384x640 2 walkers, 45.8ms\n",
      "video 1/1 (308/1727) C:\\Users\\bcw60\\OneDrive\\Desktop\\TestData\\walker_hos.mp4: 384x640 2 walkers, 45.8ms\n",
      "video 1/1 (309/1727) C:\\Users\\bcw60\\OneDrive\\Desktop\\TestData\\walker_hos.mp4: 384x640 2 walkers, 45.2ms\n",
      "video 1/1 (309/1727) C:\\Users\\bcw60\\OneDrive\\Desktop\\TestData\\walker_hos.mp4: 384x640 2 walkers, 45.2ms\n",
      "video 1/1 (310/1727) C:\\Users\\bcw60\\OneDrive\\Desktop\\TestData\\walker_hos.mp4: 384x640 2 walkers, 32.4ms\n",
      "video 1/1 (310/1727) C:\\Users\\bcw60\\OneDrive\\Desktop\\TestData\\walker_hos.mp4: 384x640 2 walkers, 32.4ms\n",
      "video 1/1 (311/1727) C:\\Users\\bcw60\\OneDrive\\Desktop\\TestData\\walker_hos.mp4: 384x640 2 walkers, 32.1ms\n",
      "video 1/1 (311/1727) C:\\Users\\bcw60\\OneDrive\\Desktop\\TestData\\walker_hos.mp4: 384x640 2 walkers, 32.1ms\n",
      "video 1/1 (312/1727) C:\\Users\\bcw60\\OneDrive\\Desktop\\TestData\\walker_hos.mp4: 384x640 2 walkers, 50.2ms\n",
      "video 1/1 (312/1727) C:\\Users\\bcw60\\OneDrive\\Desktop\\TestData\\walker_hos.mp4: 384x640 2 walkers, 50.2ms\n",
      "video 1/1 (313/1727) C:\\Users\\bcw60\\OneDrive\\Desktop\\TestData\\walker_hos.mp4: 384x640 2 walkers, 49.7ms\n",
      "video 1/1 (313/1727) C:\\Users\\bcw60\\OneDrive\\Desktop\\TestData\\walker_hos.mp4: 384x640 2 walkers, 49.7ms\n",
      "video 1/1 (314/1727) C:\\Users\\bcw60\\OneDrive\\Desktop\\TestData\\walker_hos.mp4: 384x640 2 walkers, 49.3ms\n",
      "video 1/1 (314/1727) C:\\Users\\bcw60\\OneDrive\\Desktop\\TestData\\walker_hos.mp4: 384x640 2 walkers, 49.3ms\n",
      "video 1/1 (315/1727) C:\\Users\\bcw60\\OneDrive\\Desktop\\TestData\\walker_hos.mp4: 384x640 2 walkers, 24.6ms\n",
      "video 1/1 (315/1727) C:\\Users\\bcw60\\OneDrive\\Desktop\\TestData\\walker_hos.mp4: 384x640 2 walkers, 24.6ms\n",
      "video 1/1 (316/1727) C:\\Users\\bcw60\\OneDrive\\Desktop\\TestData\\walker_hos.mp4: 384x640 2 walkers, 41.2ms\n",
      "video 1/1 (316/1727) C:\\Users\\bcw60\\OneDrive\\Desktop\\TestData\\walker_hos.mp4: 384x640 2 walkers, 41.2ms\n",
      "video 1/1 (317/1727) C:\\Users\\bcw60\\OneDrive\\Desktop\\TestData\\walker_hos.mp4: 384x640 2 walkers, 32.9ms\n",
      "video 1/1 (317/1727) C:\\Users\\bcw60\\OneDrive\\Desktop\\TestData\\walker_hos.mp4: 384x640 2 walkers, 32.9ms\n",
      "video 1/1 (318/1727) C:\\Users\\bcw60\\OneDrive\\Desktop\\TestData\\walker_hos.mp4: 384x640 2 walkers, 50.9ms\n",
      "video 1/1 (318/1727) C:\\Users\\bcw60\\OneDrive\\Desktop\\TestData\\walker_hos.mp4: 384x640 2 walkers, 50.9ms\n",
      "video 1/1 (319/1727) C:\\Users\\bcw60\\OneDrive\\Desktop\\TestData\\walker_hos.mp4: 384x640 2 walkers, 47.2ms\n",
      "video 1/1 (319/1727) C:\\Users\\bcw60\\OneDrive\\Desktop\\TestData\\walker_hos.mp4: 384x640 2 walkers, 47.2ms\n",
      "video 1/1 (320/1727) C:\\Users\\bcw60\\OneDrive\\Desktop\\TestData\\walker_hos.mp4: 384x640 2 walkers, 32.4ms\n",
      "video 1/1 (320/1727) C:\\Users\\bcw60\\OneDrive\\Desktop\\TestData\\walker_hos.mp4: 384x640 2 walkers, 32.4ms\n",
      "video 1/1 (321/1727) C:\\Users\\bcw60\\OneDrive\\Desktop\\TestData\\walker_hos.mp4: 384x640 2 walkers, 39.9ms\n",
      "video 1/1 (321/1727) C:\\Users\\bcw60\\OneDrive\\Desktop\\TestData\\walker_hos.mp4: 384x640 2 walkers, 39.9ms\n",
      "video 1/1 (322/1727) C:\\Users\\bcw60\\OneDrive\\Desktop\\TestData\\walker_hos.mp4: 384x640 2 walkers, 39.3ms\n",
      "video 1/1 (322/1727) C:\\Users\\bcw60\\OneDrive\\Desktop\\TestData\\walker_hos.mp4: 384x640 2 walkers, 39.3ms\n",
      "video 1/1 (323/1727) C:\\Users\\bcw60\\OneDrive\\Desktop\\TestData\\walker_hos.mp4: 384x640 2 walkers, 32.6ms\n",
      "video 1/1 (323/1727) C:\\Users\\bcw60\\OneDrive\\Desktop\\TestData\\walker_hos.mp4: 384x640 2 walkers, 32.6ms\n",
      "video 1/1 (324/1727) C:\\Users\\bcw60\\OneDrive\\Desktop\\TestData\\walker_hos.mp4: 384x640 2 walkers, 39.6ms\n",
      "video 1/1 (324/1727) C:\\Users\\bcw60\\OneDrive\\Desktop\\TestData\\walker_hos.mp4: 384x640 2 walkers, 39.6ms\n",
      "video 1/1 (325/1727) C:\\Users\\bcw60\\OneDrive\\Desktop\\TestData\\walker_hos.mp4: 384x640 2 walkers, 52.8ms\n",
      "video 1/1 (325/1727) C:\\Users\\bcw60\\OneDrive\\Desktop\\TestData\\walker_hos.mp4: 384x640 2 walkers, 52.8ms\n",
      "video 1/1 (326/1727) C:\\Users\\bcw60\\OneDrive\\Desktop\\TestData\\walker_hos.mp4: 384x640 2 walkers, 37.5ms\n",
      "video 1/1 (326/1727) C:\\Users\\bcw60\\OneDrive\\Desktop\\TestData\\walker_hos.mp4: 384x640 2 walkers, 37.5ms\n",
      "video 1/1 (327/1727) C:\\Users\\bcw60\\OneDrive\\Desktop\\TestData\\walker_hos.mp4: 384x640 2 walkers, 36.3ms\n",
      "video 1/1 (327/1727) C:\\Users\\bcw60\\OneDrive\\Desktop\\TestData\\walker_hos.mp4: 384x640 2 walkers, 36.3ms\n",
      "video 1/1 (328/1727) C:\\Users\\bcw60\\OneDrive\\Desktop\\TestData\\walker_hos.mp4: 384x640 2 walkers, 39.6ms\n",
      "video 1/1 (328/1727) C:\\Users\\bcw60\\OneDrive\\Desktop\\TestData\\walker_hos.mp4: 384x640 2 walkers, 39.6ms\n",
      "video 1/1 (329/1727) C:\\Users\\bcw60\\OneDrive\\Desktop\\TestData\\walker_hos.mp4: 384x640 2 walkers, 36.2ms\n",
      "video 1/1 (329/1727) C:\\Users\\bcw60\\OneDrive\\Desktop\\TestData\\walker_hos.mp4: 384x640 2 walkers, 36.2ms\n",
      "video 1/1 (330/1727) C:\\Users\\bcw60\\OneDrive\\Desktop\\TestData\\walker_hos.mp4: 384x640 2 walkers, 48.5ms\n",
      "video 1/1 (330/1727) C:\\Users\\bcw60\\OneDrive\\Desktop\\TestData\\walker_hos.mp4: 384x640 2 walkers, 48.5ms\n",
      "video 1/1 (331/1727) C:\\Users\\bcw60\\OneDrive\\Desktop\\TestData\\walker_hos.mp4: 384x640 2 walkers, 32.6ms\n",
      "video 1/1 (331/1727) C:\\Users\\bcw60\\OneDrive\\Desktop\\TestData\\walker_hos.mp4: 384x640 2 walkers, 32.6ms\n",
      "video 1/1 (332/1727) C:\\Users\\bcw60\\OneDrive\\Desktop\\TestData\\walker_hos.mp4: 384x640 2 walkers, 48.6ms\n",
      "video 1/1 (332/1727) C:\\Users\\bcw60\\OneDrive\\Desktop\\TestData\\walker_hos.mp4: 384x640 2 walkers, 48.6ms\n",
      "video 1/1 (333/1727) C:\\Users\\bcw60\\OneDrive\\Desktop\\TestData\\walker_hos.mp4: 384x640 2 walkers, 32.3ms\n",
      "video 1/1 (333/1727) C:\\Users\\bcw60\\OneDrive\\Desktop\\TestData\\walker_hos.mp4: 384x640 2 walkers, 32.3ms\n",
      "video 1/1 (334/1727) C:\\Users\\bcw60\\OneDrive\\Desktop\\TestData\\walker_hos.mp4: 384x640 2 walkers, 39.9ms\n",
      "video 1/1 (334/1727) C:\\Users\\bcw60\\OneDrive\\Desktop\\TestData\\walker_hos.mp4: 384x640 2 walkers, 39.9ms\n",
      "video 1/1 (335/1727) C:\\Users\\bcw60\\OneDrive\\Desktop\\TestData\\walker_hos.mp4: 384x640 2 walkers, 34.2ms\n",
      "video 1/1 (335/1727) C:\\Users\\bcw60\\OneDrive\\Desktop\\TestData\\walker_hos.mp4: 384x640 2 walkers, 34.2ms\n",
      "video 1/1 (336/1727) C:\\Users\\bcw60\\OneDrive\\Desktop\\TestData\\walker_hos.mp4: 384x640 2 walkers, 50.2ms\n",
      "video 1/1 (336/1727) C:\\Users\\bcw60\\OneDrive\\Desktop\\TestData\\walker_hos.mp4: 384x640 2 walkers, 50.2ms\n",
      "video 1/1 (337/1727) C:\\Users\\bcw60\\OneDrive\\Desktop\\TestData\\walker_hos.mp4: 384x640 2 walkers, 35.5ms\n",
      "video 1/1 (337/1727) C:\\Users\\bcw60\\OneDrive\\Desktop\\TestData\\walker_hos.mp4: 384x640 2 walkers, 35.5ms\n",
      "video 1/1 (338/1727) C:\\Users\\bcw60\\OneDrive\\Desktop\\TestData\\walker_hos.mp4: 384x640 2 walkers, 48.8ms\n",
      "video 1/1 (338/1727) C:\\Users\\bcw60\\OneDrive\\Desktop\\TestData\\walker_hos.mp4: 384x640 2 walkers, 48.8ms\n",
      "video 1/1 (339/1727) C:\\Users\\bcw60\\OneDrive\\Desktop\\TestData\\walker_hos.mp4: 384x640 2 walkers, 50.2ms\n",
      "video 1/1 (339/1727) C:\\Users\\bcw60\\OneDrive\\Desktop\\TestData\\walker_hos.mp4: 384x640 2 walkers, 50.2ms\n",
      "video 1/1 (340/1727) C:\\Users\\bcw60\\OneDrive\\Desktop\\TestData\\walker_hos.mp4: 384x640 2 walkers, 44.0ms\n",
      "video 1/1 (340/1727) C:\\Users\\bcw60\\OneDrive\\Desktop\\TestData\\walker_hos.mp4: 384x640 2 walkers, 44.0ms\n",
      "video 1/1 (341/1727) C:\\Users\\bcw60\\OneDrive\\Desktop\\TestData\\walker_hos.mp4: 384x640 2 walkers, 42.3ms\n",
      "video 1/1 (341/1727) C:\\Users\\bcw60\\OneDrive\\Desktop\\TestData\\walker_hos.mp4: 384x640 2 walkers, 42.3ms\n",
      "video 1/1 (342/1727) C:\\Users\\bcw60\\OneDrive\\Desktop\\TestData\\walker_hos.mp4: 384x640 2 walkers, 34.6ms\n",
      "video 1/1 (342/1727) C:\\Users\\bcw60\\OneDrive\\Desktop\\TestData\\walker_hos.mp4: 384x640 2 walkers, 34.6ms\n",
      "video 1/1 (343/1727) C:\\Users\\bcw60\\OneDrive\\Desktop\\TestData\\walker_hos.mp4: 384x640 2 walkers, 39.2ms\n",
      "video 1/1 (343/1727) C:\\Users\\bcw60\\OneDrive\\Desktop\\TestData\\walker_hos.mp4: 384x640 2 walkers, 39.2ms\n",
      "video 1/1 (344/1727) C:\\Users\\bcw60\\OneDrive\\Desktop\\TestData\\walker_hos.mp4: 384x640 2 walkers, 33.1ms\n",
      "video 1/1 (344/1727) C:\\Users\\bcw60\\OneDrive\\Desktop\\TestData\\walker_hos.mp4: 384x640 2 walkers, 33.1ms\n",
      "video 1/1 (345/1727) C:\\Users\\bcw60\\OneDrive\\Desktop\\TestData\\walker_hos.mp4: 384x640 1 walker, 37.2ms\n",
      "video 1/1 (345/1727) C:\\Users\\bcw60\\OneDrive\\Desktop\\TestData\\walker_hos.mp4: 384x640 1 walker, 37.2ms\n",
      "video 1/1 (346/1727) C:\\Users\\bcw60\\OneDrive\\Desktop\\TestData\\walker_hos.mp4: 384x640 2 walkers, 49.6ms\n",
      "video 1/1 (346/1727) C:\\Users\\bcw60\\OneDrive\\Desktop\\TestData\\walker_hos.mp4: 384x640 2 walkers, 49.6ms\n",
      "video 1/1 (347/1727) C:\\Users\\bcw60\\OneDrive\\Desktop\\TestData\\walker_hos.mp4: 384x640 2 walkers, 31.3ms\n",
      "video 1/1 (347/1727) C:\\Users\\bcw60\\OneDrive\\Desktop\\TestData\\walker_hos.mp4: 384x640 2 walkers, 31.3ms\n",
      "video 1/1 (348/1727) C:\\Users\\bcw60\\OneDrive\\Desktop\\TestData\\walker_hos.mp4: 384x640 2 walkers, 40.3ms\n",
      "video 1/1 (348/1727) C:\\Users\\bcw60\\OneDrive\\Desktop\\TestData\\walker_hos.mp4: 384x640 2 walkers, 40.3ms\n",
      "video 1/1 (349/1727) C:\\Users\\bcw60\\OneDrive\\Desktop\\TestData\\walker_hos.mp4: 384x640 2 walkers, 33.8ms\n",
      "video 1/1 (349/1727) C:\\Users\\bcw60\\OneDrive\\Desktop\\TestData\\walker_hos.mp4: 384x640 2 walkers, 33.8ms\n",
      "video 1/1 (350/1727) C:\\Users\\bcw60\\OneDrive\\Desktop\\TestData\\walker_hos.mp4: 384x640 1 walker, 50.0ms\n",
      "video 1/1 (350/1727) C:\\Users\\bcw60\\OneDrive\\Desktop\\TestData\\walker_hos.mp4: 384x640 1 walker, 50.0ms\n",
      "video 1/1 (351/1727) C:\\Users\\bcw60\\OneDrive\\Desktop\\TestData\\walker_hos.mp4: 384x640 1 walker, 33.9ms\n",
      "video 1/1 (351/1727) C:\\Users\\bcw60\\OneDrive\\Desktop\\TestData\\walker_hos.mp4: 384x640 1 walker, 33.9ms\n",
      "video 1/1 (352/1727) C:\\Users\\bcw60\\OneDrive\\Desktop\\TestData\\walker_hos.mp4: 384x640 1 walker, 48.4ms\n",
      "video 1/1 (352/1727) C:\\Users\\bcw60\\OneDrive\\Desktop\\TestData\\walker_hos.mp4: 384x640 1 walker, 48.4ms\n",
      "video 1/1 (353/1727) C:\\Users\\bcw60\\OneDrive\\Desktop\\TestData\\walker_hos.mp4: 384x640 1 walker, 50.1ms\n",
      "video 1/1 (353/1727) C:\\Users\\bcw60\\OneDrive\\Desktop\\TestData\\walker_hos.mp4: 384x640 1 walker, 50.1ms\n",
      "video 1/1 (354/1727) C:\\Users\\bcw60\\OneDrive\\Desktop\\TestData\\walker_hos.mp4: 384x640 1 walker, 32.3ms\n",
      "video 1/1 (354/1727) C:\\Users\\bcw60\\OneDrive\\Desktop\\TestData\\walker_hos.mp4: 384x640 1 walker, 32.3ms\n",
      "video 1/1 (355/1727) C:\\Users\\bcw60\\OneDrive\\Desktop\\TestData\\walker_hos.mp4: 384x640 1 walker, 41.6ms\n",
      "video 1/1 (355/1727) C:\\Users\\bcw60\\OneDrive\\Desktop\\TestData\\walker_hos.mp4: 384x640 1 walker, 41.6ms\n",
      "video 1/1 (356/1727) C:\\Users\\bcw60\\OneDrive\\Desktop\\TestData\\walker_hos.mp4: 384x640 1 walker, 34.0ms\n",
      "video 1/1 (356/1727) C:\\Users\\bcw60\\OneDrive\\Desktop\\TestData\\walker_hos.mp4: 384x640 1 walker, 34.0ms\n",
      "video 1/1 (357/1727) C:\\Users\\bcw60\\OneDrive\\Desktop\\TestData\\walker_hos.mp4: 384x640 1 walker, 51.4ms\n",
      "video 1/1 (357/1727) C:\\Users\\bcw60\\OneDrive\\Desktop\\TestData\\walker_hos.mp4: 384x640 1 walker, 51.4ms\n",
      "video 1/1 (358/1727) C:\\Users\\bcw60\\OneDrive\\Desktop\\TestData\\walker_hos.mp4: 384x640 1 walker, 31.0ms\n",
      "video 1/1 (358/1727) C:\\Users\\bcw60\\OneDrive\\Desktop\\TestData\\walker_hos.mp4: 384x640 1 walker, 31.0ms\n",
      "video 1/1 (359/1727) C:\\Users\\bcw60\\OneDrive\\Desktop\\TestData\\walker_hos.mp4: 384x640 1 walker, 42.0ms\n",
      "video 1/1 (359/1727) C:\\Users\\bcw60\\OneDrive\\Desktop\\TestData\\walker_hos.mp4: 384x640 1 walker, 42.0ms\n",
      "video 1/1 (360/1727) C:\\Users\\bcw60\\OneDrive\\Desktop\\TestData\\walker_hos.mp4: 384x640 1 walker, 41.0ms\n",
      "video 1/1 (360/1727) C:\\Users\\bcw60\\OneDrive\\Desktop\\TestData\\walker_hos.mp4: 384x640 1 walker, 41.0ms\n",
      "video 1/1 (361/1727) C:\\Users\\bcw60\\OneDrive\\Desktop\\TestData\\walker_hos.mp4: 384x640 1 walker, 34.0ms\n",
      "video 1/1 (361/1727) C:\\Users\\bcw60\\OneDrive\\Desktop\\TestData\\walker_hos.mp4: 384x640 1 walker, 34.0ms\n",
      "video 1/1 (362/1727) C:\\Users\\bcw60\\OneDrive\\Desktop\\TestData\\walker_hos.mp4: 384x640 1 walker, 36.8ms\n",
      "video 1/1 (362/1727) C:\\Users\\bcw60\\OneDrive\\Desktop\\TestData\\walker_hos.mp4: 384x640 1 walker, 36.8ms\n",
      "video 1/1 (363/1727) C:\\Users\\bcw60\\OneDrive\\Desktop\\TestData\\walker_hos.mp4: 384x640 1 walker, 43.0ms\n",
      "video 1/1 (363/1727) C:\\Users\\bcw60\\OneDrive\\Desktop\\TestData\\walker_hos.mp4: 384x640 1 walker, 43.0ms\n",
      "video 1/1 (364/1727) C:\\Users\\bcw60\\OneDrive\\Desktop\\TestData\\walker_hos.mp4: 384x640 2 walkers, 42.4ms\n",
      "video 1/1 (364/1727) C:\\Users\\bcw60\\OneDrive\\Desktop\\TestData\\walker_hos.mp4: 384x640 2 walkers, 42.4ms\n",
      "video 1/1 (365/1727) C:\\Users\\bcw60\\OneDrive\\Desktop\\TestData\\walker_hos.mp4: 384x640 2 walkers, 34.8ms\n",
      "video 1/1 (365/1727) C:\\Users\\bcw60\\OneDrive\\Desktop\\TestData\\walker_hos.mp4: 384x640 2 walkers, 34.8ms\n",
      "video 1/1 (366/1727) C:\\Users\\bcw60\\OneDrive\\Desktop\\TestData\\walker_hos.mp4: 384x640 2 walkers, 36.8ms\n",
      "video 1/1 (366/1727) C:\\Users\\bcw60\\OneDrive\\Desktop\\TestData\\walker_hos.mp4: 384x640 2 walkers, 36.8ms\n",
      "video 1/1 (367/1727) C:\\Users\\bcw60\\OneDrive\\Desktop\\TestData\\walker_hos.mp4: 384x640 2 walkers, 22.7ms\n",
      "video 1/1 (367/1727) C:\\Users\\bcw60\\OneDrive\\Desktop\\TestData\\walker_hos.mp4: 384x640 2 walkers, 22.7ms\n",
      "video 1/1 (368/1727) C:\\Users\\bcw60\\OneDrive\\Desktop\\TestData\\walker_hos.mp4: 384x640 2 walkers, 36.4ms\n",
      "video 1/1 (368/1727) C:\\Users\\bcw60\\OneDrive\\Desktop\\TestData\\walker_hos.mp4: 384x640 2 walkers, 36.4ms\n",
      "video 1/1 (369/1727) C:\\Users\\bcw60\\OneDrive\\Desktop\\TestData\\walker_hos.mp4: 384x640 2 walkers, 32.5ms\n",
      "video 1/1 (369/1727) C:\\Users\\bcw60\\OneDrive\\Desktop\\TestData\\walker_hos.mp4: 384x640 2 walkers, 32.5ms\n",
      "video 1/1 (370/1727) C:\\Users\\bcw60\\OneDrive\\Desktop\\TestData\\walker_hos.mp4: 384x640 2 walkers, 33.0ms\n",
      "video 1/1 (370/1727) C:\\Users\\bcw60\\OneDrive\\Desktop\\TestData\\walker_hos.mp4: 384x640 2 walkers, 33.0ms\n",
      "video 1/1 (371/1727) C:\\Users\\bcw60\\OneDrive\\Desktop\\TestData\\walker_hos.mp4: 384x640 2 walkers, 50.0ms\n",
      "video 1/1 (371/1727) C:\\Users\\bcw60\\OneDrive\\Desktop\\TestData\\walker_hos.mp4: 384x640 2 walkers, 50.0ms\n",
      "video 1/1 (372/1727) C:\\Users\\bcw60\\OneDrive\\Desktop\\TestData\\walker_hos.mp4: 384x640 2 walkers, 45.9ms\n",
      "video 1/1 (372/1727) C:\\Users\\bcw60\\OneDrive\\Desktop\\TestData\\walker_hos.mp4: 384x640 2 walkers, 45.9ms\n",
      "video 1/1 (373/1727) C:\\Users\\bcw60\\OneDrive\\Desktop\\TestData\\walker_hos.mp4: 384x640 2 walkers, 43.1ms\n",
      "video 1/1 (373/1727) C:\\Users\\bcw60\\OneDrive\\Desktop\\TestData\\walker_hos.mp4: 384x640 2 walkers, 43.1ms\n",
      "video 1/1 (374/1727) C:\\Users\\bcw60\\OneDrive\\Desktop\\TestData\\walker_hos.mp4: 384x640 2 walkers, 34.3ms\n",
      "video 1/1 (374/1727) C:\\Users\\bcw60\\OneDrive\\Desktop\\TestData\\walker_hos.mp4: 384x640 2 walkers, 34.3ms\n",
      "video 1/1 (375/1727) C:\\Users\\bcw60\\OneDrive\\Desktop\\TestData\\walker_hos.mp4: 384x640 2 walkers, 38.5ms\n",
      "video 1/1 (375/1727) C:\\Users\\bcw60\\OneDrive\\Desktop\\TestData\\walker_hos.mp4: 384x640 2 walkers, 38.5ms\n",
      "video 1/1 (376/1727) C:\\Users\\bcw60\\OneDrive\\Desktop\\TestData\\walker_hos.mp4: 384x640 2 walkers, 48.6ms\n",
      "video 1/1 (376/1727) C:\\Users\\bcw60\\OneDrive\\Desktop\\TestData\\walker_hos.mp4: 384x640 2 walkers, 48.6ms\n",
      "video 1/1 (377/1727) C:\\Users\\bcw60\\OneDrive\\Desktop\\TestData\\walker_hos.mp4: 384x640 2 walkers, 32.8ms\n",
      "video 1/1 (377/1727) C:\\Users\\bcw60\\OneDrive\\Desktop\\TestData\\walker_hos.mp4: 384x640 2 walkers, 32.8ms\n",
      "video 1/1 (378/1727) C:\\Users\\bcw60\\OneDrive\\Desktop\\TestData\\walker_hos.mp4: 384x640 2 walkers, 44.4ms\n",
      "video 1/1 (378/1727) C:\\Users\\bcw60\\OneDrive\\Desktop\\TestData\\walker_hos.mp4: 384x640 2 walkers, 44.4ms\n",
      "video 1/1 (379/1727) C:\\Users\\bcw60\\OneDrive\\Desktop\\TestData\\walker_hos.mp4: 384x640 2 walkers, 34.4ms\n",
      "video 1/1 (379/1727) C:\\Users\\bcw60\\OneDrive\\Desktop\\TestData\\walker_hos.mp4: 384x640 2 walkers, 34.4ms\n",
      "video 1/1 (380/1727) C:\\Users\\bcw60\\OneDrive\\Desktop\\TestData\\walker_hos.mp4: 384x640 2 walkers, 33.8ms\n",
      "video 1/1 (380/1727) C:\\Users\\bcw60\\OneDrive\\Desktop\\TestData\\walker_hos.mp4: 384x640 2 walkers, 33.8ms\n",
      "video 1/1 (381/1727) C:\\Users\\bcw60\\OneDrive\\Desktop\\TestData\\walker_hos.mp4: 384x640 2 walkers, 50.2ms\n",
      "video 1/1 (381/1727) C:\\Users\\bcw60\\OneDrive\\Desktop\\TestData\\walker_hos.mp4: 384x640 2 walkers, 50.2ms\n",
      "video 1/1 (382/1727) C:\\Users\\bcw60\\OneDrive\\Desktop\\TestData\\walker_hos.mp4: 384x640 2 walkers, 49.9ms\n",
      "video 1/1 (382/1727) C:\\Users\\bcw60\\OneDrive\\Desktop\\TestData\\walker_hos.mp4: 384x640 2 walkers, 49.9ms\n",
      "video 1/1 (383/1727) C:\\Users\\bcw60\\OneDrive\\Desktop\\TestData\\walker_hos.mp4: 384x640 2 walkers, 32.5ms\n",
      "video 1/1 (383/1727) C:\\Users\\bcw60\\OneDrive\\Desktop\\TestData\\walker_hos.mp4: 384x640 2 walkers, 32.5ms\n",
      "video 1/1 (384/1727) C:\\Users\\bcw60\\OneDrive\\Desktop\\TestData\\walker_hos.mp4: 384x640 2 walkers, 42.4ms\n",
      "video 1/1 (384/1727) C:\\Users\\bcw60\\OneDrive\\Desktop\\TestData\\walker_hos.mp4: 384x640 2 walkers, 42.4ms\n",
      "video 1/1 (385/1727) C:\\Users\\bcw60\\OneDrive\\Desktop\\TestData\\walker_hos.mp4: 384x640 2 walkers, 41.5ms\n",
      "video 1/1 (385/1727) C:\\Users\\bcw60\\OneDrive\\Desktop\\TestData\\walker_hos.mp4: 384x640 2 walkers, 41.5ms\n",
      "video 1/1 (386/1727) C:\\Users\\bcw60\\OneDrive\\Desktop\\TestData\\walker_hos.mp4: 384x640 2 walkers, 32.1ms\n",
      "video 1/1 (386/1727) C:\\Users\\bcw60\\OneDrive\\Desktop\\TestData\\walker_hos.mp4: 384x640 2 walkers, 32.1ms\n",
      "video 1/1 (387/1727) C:\\Users\\bcw60\\OneDrive\\Desktop\\TestData\\walker_hos.mp4: 384x640 2 walkers, 48.2ms\n",
      "video 1/1 (387/1727) C:\\Users\\bcw60\\OneDrive\\Desktop\\TestData\\walker_hos.mp4: 384x640 2 walkers, 48.2ms\n",
      "video 1/1 (388/1727) C:\\Users\\bcw60\\OneDrive\\Desktop\\TestData\\walker_hos.mp4: 384x640 2 walkers, 43.4ms\n",
      "video 1/1 (388/1727) C:\\Users\\bcw60\\OneDrive\\Desktop\\TestData\\walker_hos.mp4: 384x640 2 walkers, 43.4ms\n",
      "video 1/1 (389/1727) C:\\Users\\bcw60\\OneDrive\\Desktop\\TestData\\walker_hos.mp4: 384x640 2 walkers, 32.2ms\n",
      "video 1/1 (389/1727) C:\\Users\\bcw60\\OneDrive\\Desktop\\TestData\\walker_hos.mp4: 384x640 2 walkers, 32.2ms\n",
      "video 1/1 (390/1727) C:\\Users\\bcw60\\OneDrive\\Desktop\\TestData\\walker_hos.mp4: 384x640 2 walkers, 33.7ms\n",
      "video 1/1 (390/1727) C:\\Users\\bcw60\\OneDrive\\Desktop\\TestData\\walker_hos.mp4: 384x640 2 walkers, 33.7ms\n",
      "video 1/1 (391/1727) C:\\Users\\bcw60\\OneDrive\\Desktop\\TestData\\walker_hos.mp4: 384x640 2 walkers, 48.4ms\n",
      "video 1/1 (391/1727) C:\\Users\\bcw60\\OneDrive\\Desktop\\TestData\\walker_hos.mp4: 384x640 2 walkers, 48.4ms\n",
      "video 1/1 (392/1727) C:\\Users\\bcw60\\OneDrive\\Desktop\\TestData\\walker_hos.mp4: 384x640 2 walkers, 33.8ms\n",
      "video 1/1 (392/1727) C:\\Users\\bcw60\\OneDrive\\Desktop\\TestData\\walker_hos.mp4: 384x640 2 walkers, 33.8ms\n",
      "video 1/1 (393/1727) C:\\Users\\bcw60\\OneDrive\\Desktop\\TestData\\walker_hos.mp4: 384x640 2 walkers, 28.8ms\n",
      "video 1/1 (393/1727) C:\\Users\\bcw60\\OneDrive\\Desktop\\TestData\\walker_hos.mp4: 384x640 2 walkers, 28.8ms\n",
      "video 1/1 (394/1727) C:\\Users\\bcw60\\OneDrive\\Desktop\\TestData\\walker_hos.mp4: 384x640 2 walkers, 33.1ms\n",
      "video 1/1 (394/1727) C:\\Users\\bcw60\\OneDrive\\Desktop\\TestData\\walker_hos.mp4: 384x640 2 walkers, 33.1ms\n",
      "video 1/1 (395/1727) C:\\Users\\bcw60\\OneDrive\\Desktop\\TestData\\walker_hos.mp4: 384x640 2 walkers, 49.3ms\n",
      "video 1/1 (395/1727) C:\\Users\\bcw60\\OneDrive\\Desktop\\TestData\\walker_hos.mp4: 384x640 2 walkers, 49.3ms\n",
      "video 1/1 (396/1727) C:\\Users\\bcw60\\OneDrive\\Desktop\\TestData\\walker_hos.mp4: 384x640 2 walkers, 49.9ms\n",
      "video 1/1 (396/1727) C:\\Users\\bcw60\\OneDrive\\Desktop\\TestData\\walker_hos.mp4: 384x640 2 walkers, 49.9ms\n",
      "video 1/1 (397/1727) C:\\Users\\bcw60\\OneDrive\\Desktop\\TestData\\walker_hos.mp4: 384x640 2 walkers, 32.6ms\n",
      "video 1/1 (397/1727) C:\\Users\\bcw60\\OneDrive\\Desktop\\TestData\\walker_hos.mp4: 384x640 2 walkers, 32.6ms\n",
      "video 1/1 (398/1727) C:\\Users\\bcw60\\OneDrive\\Desktop\\TestData\\walker_hos.mp4: 384x640 2 walkers, 40.0ms\n",
      "video 1/1 (398/1727) C:\\Users\\bcw60\\OneDrive\\Desktop\\TestData\\walker_hos.mp4: 384x640 2 walkers, 40.0ms\n",
      "video 1/1 (399/1727) C:\\Users\\bcw60\\OneDrive\\Desktop\\TestData\\walker_hos.mp4: 384x640 2 walkers, 34.3ms\n",
      "video 1/1 (399/1727) C:\\Users\\bcw60\\OneDrive\\Desktop\\TestData\\walker_hos.mp4: 384x640 2 walkers, 34.3ms\n",
      "video 1/1 (400/1727) C:\\Users\\bcw60\\OneDrive\\Desktop\\TestData\\walker_hos.mp4: 384x640 2 walkers, 50.2ms\n",
      "video 1/1 (400/1727) C:\\Users\\bcw60\\OneDrive\\Desktop\\TestData\\walker_hos.mp4: 384x640 2 walkers, 50.2ms\n",
      "video 1/1 (401/1727) C:\\Users\\bcw60\\OneDrive\\Desktop\\TestData\\walker_hos.mp4: 384x640 2 walkers, 49.6ms\n",
      "video 1/1 (401/1727) C:\\Users\\bcw60\\OneDrive\\Desktop\\TestData\\walker_hos.mp4: 384x640 2 walkers, 49.6ms\n",
      "video 1/1 (402/1727) C:\\Users\\bcw60\\OneDrive\\Desktop\\TestData\\walker_hos.mp4: 384x640 2 walkers, 32.5ms\n",
      "video 1/1 (402/1727) C:\\Users\\bcw60\\OneDrive\\Desktop\\TestData\\walker_hos.mp4: 384x640 2 walkers, 32.5ms\n",
      "video 1/1 (403/1727) C:\\Users\\bcw60\\OneDrive\\Desktop\\TestData\\walker_hos.mp4: 384x640 2 walkers, 43.4ms\n",
      "video 1/1 (403/1727) C:\\Users\\bcw60\\OneDrive\\Desktop\\TestData\\walker_hos.mp4: 384x640 2 walkers, 43.4ms\n",
      "video 1/1 (404/1727) C:\\Users\\bcw60\\OneDrive\\Desktop\\TestData\\walker_hos.mp4: 384x640 2 walkers, 35.2ms\n",
      "video 1/1 (404/1727) C:\\Users\\bcw60\\OneDrive\\Desktop\\TestData\\walker_hos.mp4: 384x640 2 walkers, 35.2ms\n",
      "video 1/1 (405/1727) C:\\Users\\bcw60\\OneDrive\\Desktop\\TestData\\walker_hos.mp4: 384x640 2 walkers, 49.1ms\n",
      "video 1/1 (405/1727) C:\\Users\\bcw60\\OneDrive\\Desktop\\TestData\\walker_hos.mp4: 384x640 2 walkers, 49.1ms\n",
      "video 1/1 (406/1727) C:\\Users\\bcw60\\OneDrive\\Desktop\\TestData\\walker_hos.mp4: 384x640 2 walkers, 45.0ms\n",
      "video 1/1 (406/1727) C:\\Users\\bcw60\\OneDrive\\Desktop\\TestData\\walker_hos.mp4: 384x640 2 walkers, 45.0ms\n",
      "video 1/1 (407/1727) C:\\Users\\bcw60\\OneDrive\\Desktop\\TestData\\walker_hos.mp4: 384x640 2 walkers, 44.3ms\n",
      "video 1/1 (407/1727) C:\\Users\\bcw60\\OneDrive\\Desktop\\TestData\\walker_hos.mp4: 384x640 2 walkers, 44.3ms\n",
      "video 1/1 (408/1727) C:\\Users\\bcw60\\OneDrive\\Desktop\\TestData\\walker_hos.mp4: 384x640 2 walkers, 34.2ms\n",
      "video 1/1 (408/1727) C:\\Users\\bcw60\\OneDrive\\Desktop\\TestData\\walker_hos.mp4: 384x640 2 walkers, 34.2ms\n",
      "video 1/1 (409/1727) C:\\Users\\bcw60\\OneDrive\\Desktop\\TestData\\walker_hos.mp4: 384x640 2 walkers, 35.6ms\n",
      "video 1/1 (409/1727) C:\\Users\\bcw60\\OneDrive\\Desktop\\TestData\\walker_hos.mp4: 384x640 2 walkers, 35.6ms\n",
      "video 1/1 (410/1727) C:\\Users\\bcw60\\OneDrive\\Desktop\\TestData\\walker_hos.mp4: 384x640 2 walkers, 45.4ms\n",
      "video 1/1 (410/1727) C:\\Users\\bcw60\\OneDrive\\Desktop\\TestData\\walker_hos.mp4: 384x640 2 walkers, 45.4ms\n",
      "video 1/1 (411/1727) C:\\Users\\bcw60\\OneDrive\\Desktop\\TestData\\walker_hos.mp4: 384x640 2 walkers, 37.9ms\n",
      "video 1/1 (411/1727) C:\\Users\\bcw60\\OneDrive\\Desktop\\TestData\\walker_hos.mp4: 384x640 2 walkers, 37.9ms\n",
      "video 1/1 (412/1727) C:\\Users\\bcw60\\OneDrive\\Desktop\\TestData\\walker_hos.mp4: 384x640 2 walkers, 23.2ms\n",
      "video 1/1 (412/1727) C:\\Users\\bcw60\\OneDrive\\Desktop\\TestData\\walker_hos.mp4: 384x640 2 walkers, 23.2ms\n",
      "video 1/1 (413/1727) C:\\Users\\bcw60\\OneDrive\\Desktop\\TestData\\walker_hos.mp4: 384x640 2 walkers, 41.5ms\n",
      "video 1/1 (413/1727) C:\\Users\\bcw60\\OneDrive\\Desktop\\TestData\\walker_hos.mp4: 384x640 2 walkers, 41.5ms\n",
      "video 1/1 (414/1727) C:\\Users\\bcw60\\OneDrive\\Desktop\\TestData\\walker_hos.mp4: 384x640 2 walkers, 33.8ms\n",
      "video 1/1 (414/1727) C:\\Users\\bcw60\\OneDrive\\Desktop\\TestData\\walker_hos.mp4: 384x640 2 walkers, 33.8ms\n",
      "video 1/1 (415/1727) C:\\Users\\bcw60\\OneDrive\\Desktop\\TestData\\walker_hos.mp4: 384x640 2 walkers, 31.3ms\n",
      "video 1/1 (415/1727) C:\\Users\\bcw60\\OneDrive\\Desktop\\TestData\\walker_hos.mp4: 384x640 2 walkers, 31.3ms\n",
      "video 1/1 (416/1727) C:\\Users\\bcw60\\OneDrive\\Desktop\\TestData\\walker_hos.mp4: 384x640 2 walkers, 48.8ms\n",
      "video 1/1 (416/1727) C:\\Users\\bcw60\\OneDrive\\Desktop\\TestData\\walker_hos.mp4: 384x640 2 walkers, 48.8ms\n",
      "video 1/1 (417/1727) C:\\Users\\bcw60\\OneDrive\\Desktop\\TestData\\walker_hos.mp4: 384x640 2 walkers, 32.5ms\n",
      "video 1/1 (417/1727) C:\\Users\\bcw60\\OneDrive\\Desktop\\TestData\\walker_hos.mp4: 384x640 2 walkers, 32.5ms\n",
      "video 1/1 (418/1727) C:\\Users\\bcw60\\OneDrive\\Desktop\\TestData\\walker_hos.mp4: 384x640 2 walkers, 38.1ms\n",
      "video 1/1 (418/1727) C:\\Users\\bcw60\\OneDrive\\Desktop\\TestData\\walker_hos.mp4: 384x640 2 walkers, 38.1ms\n",
      "video 1/1 (419/1727) C:\\Users\\bcw60\\OneDrive\\Desktop\\TestData\\walker_hos.mp4: 384x640 2 walkers, 34.3ms\n",
      "video 1/1 (419/1727) C:\\Users\\bcw60\\OneDrive\\Desktop\\TestData\\walker_hos.mp4: 384x640 2 walkers, 34.3ms\n",
      "video 1/1 (420/1727) C:\\Users\\bcw60\\OneDrive\\Desktop\\TestData\\walker_hos.mp4: 384x640 2 walkers, 50.9ms\n",
      "video 1/1 (420/1727) C:\\Users\\bcw60\\OneDrive\\Desktop\\TestData\\walker_hos.mp4: 384x640 2 walkers, 50.9ms\n",
      "video 1/1 (421/1727) C:\\Users\\bcw60\\OneDrive\\Desktop\\TestData\\walker_hos.mp4: 384x640 2 walkers, 48.1ms\n",
      "video 1/1 (421/1727) C:\\Users\\bcw60\\OneDrive\\Desktop\\TestData\\walker_hos.mp4: 384x640 2 walkers, 48.1ms\n",
      "video 1/1 (422/1727) C:\\Users\\bcw60\\OneDrive\\Desktop\\TestData\\walker_hos.mp4: 384x640 2 walkers, 32.4ms\n",
      "video 1/1 (422/1727) C:\\Users\\bcw60\\OneDrive\\Desktop\\TestData\\walker_hos.mp4: 384x640 2 walkers, 32.4ms\n",
      "video 1/1 (423/1727) C:\\Users\\bcw60\\OneDrive\\Desktop\\TestData\\walker_hos.mp4: 384x640 2 walkers, 42.2ms\n",
      "video 1/1 (423/1727) C:\\Users\\bcw60\\OneDrive\\Desktop\\TestData\\walker_hos.mp4: 384x640 2 walkers, 42.2ms\n",
      "video 1/1 (424/1727) C:\\Users\\bcw60\\OneDrive\\Desktop\\TestData\\walker_hos.mp4: 384x640 2 walkers, 34.4ms\n",
      "video 1/1 (424/1727) C:\\Users\\bcw60\\OneDrive\\Desktop\\TestData\\walker_hos.mp4: 384x640 2 walkers, 34.4ms\n",
      "video 1/1 (425/1727) C:\\Users\\bcw60\\OneDrive\\Desktop\\TestData\\walker_hos.mp4: 384x640 2 walkers, 50.0ms\n",
      "video 1/1 (425/1727) C:\\Users\\bcw60\\OneDrive\\Desktop\\TestData\\walker_hos.mp4: 384x640 2 walkers, 50.0ms\n",
      "video 1/1 (426/1727) C:\\Users\\bcw60\\OneDrive\\Desktop\\TestData\\walker_hos.mp4: 384x640 2 walkers, 35.2ms\n",
      "video 1/1 (426/1727) C:\\Users\\bcw60\\OneDrive\\Desktop\\TestData\\walker_hos.mp4: 384x640 2 walkers, 35.2ms\n",
      "video 1/1 (427/1727) C:\\Users\\bcw60\\OneDrive\\Desktop\\TestData\\walker_hos.mp4: 384x640 2 walkers, 32.4ms\n",
      "video 1/1 (427/1727) C:\\Users\\bcw60\\OneDrive\\Desktop\\TestData\\walker_hos.mp4: 384x640 2 walkers, 32.4ms\n",
      "video 1/1 (428/1727) C:\\Users\\bcw60\\OneDrive\\Desktop\\TestData\\walker_hos.mp4: 384x640 2 walkers, 47.9ms\n",
      "video 1/1 (428/1727) C:\\Users\\bcw60\\OneDrive\\Desktop\\TestData\\walker_hos.mp4: 384x640 2 walkers, 47.9ms\n",
      "video 1/1 (429/1727) C:\\Users\\bcw60\\OneDrive\\Desktop\\TestData\\walker_hos.mp4: 384x640 2 walkers, 32.1ms\n",
      "video 1/1 (429/1727) C:\\Users\\bcw60\\OneDrive\\Desktop\\TestData\\walker_hos.mp4: 384x640 2 walkers, 32.1ms\n",
      "video 1/1 (430/1727) C:\\Users\\bcw60\\OneDrive\\Desktop\\TestData\\walker_hos.mp4: 384x640 2 walkers, 31.6ms\n",
      "video 1/1 (430/1727) C:\\Users\\bcw60\\OneDrive\\Desktop\\TestData\\walker_hos.mp4: 384x640 2 walkers, 31.6ms\n",
      "video 1/1 (431/1727) C:\\Users\\bcw60\\OneDrive\\Desktop\\TestData\\walker_hos.mp4: 384x640 2 walkers, 49.0ms\n",
      "video 1/1 (431/1727) C:\\Users\\bcw60\\OneDrive\\Desktop\\TestData\\walker_hos.mp4: 384x640 2 walkers, 49.0ms\n",
      "video 1/1 (432/1727) C:\\Users\\bcw60\\OneDrive\\Desktop\\TestData\\walker_hos.mp4: 384x640 2 walkers, 32.5ms\n",
      "video 1/1 (432/1727) C:\\Users\\bcw60\\OneDrive\\Desktop\\TestData\\walker_hos.mp4: 384x640 2 walkers, 32.5ms\n",
      "video 1/1 (433/1727) C:\\Users\\bcw60\\OneDrive\\Desktop\\TestData\\walker_hos.mp4: 384x640 2 walkers, 32.0ms\n",
      "video 1/1 (433/1727) C:\\Users\\bcw60\\OneDrive\\Desktop\\TestData\\walker_hos.mp4: 384x640 2 walkers, 32.0ms\n",
      "video 1/1 (434/1727) C:\\Users\\bcw60\\OneDrive\\Desktop\\TestData\\walker_hos.mp4: 384x640 2 walkers, 40.4ms\n",
      "video 1/1 (434/1727) C:\\Users\\bcw60\\OneDrive\\Desktop\\TestData\\walker_hos.mp4: 384x640 2 walkers, 40.4ms\n",
      "video 1/1 (435/1727) C:\\Users\\bcw60\\OneDrive\\Desktop\\TestData\\walker_hos.mp4: 384x640 2 walkers, 39.9ms\n",
      "video 1/1 (435/1727) C:\\Users\\bcw60\\OneDrive\\Desktop\\TestData\\walker_hos.mp4: 384x640 2 walkers, 39.9ms\n",
      "video 1/1 (436/1727) C:\\Users\\bcw60\\OneDrive\\Desktop\\TestData\\walker_hos.mp4: 384x640 2 walkers, 36.7ms\n",
      "video 1/1 (436/1727) C:\\Users\\bcw60\\OneDrive\\Desktop\\TestData\\walker_hos.mp4: 384x640 2 walkers, 36.7ms\n",
      "video 1/1 (437/1727) C:\\Users\\bcw60\\OneDrive\\Desktop\\TestData\\walker_hos.mp4: 384x640 2 walkers, 32.4ms\n",
      "video 1/1 (437/1727) C:\\Users\\bcw60\\OneDrive\\Desktop\\TestData\\walker_hos.mp4: 384x640 2 walkers, 32.4ms\n",
      "video 1/1 (438/1727) C:\\Users\\bcw60\\OneDrive\\Desktop\\TestData\\walker_hos.mp4: 384x640 2 walkers, 39.1ms\n",
      "video 1/1 (438/1727) C:\\Users\\bcw60\\OneDrive\\Desktop\\TestData\\walker_hos.mp4: 384x640 2 walkers, 39.1ms\n",
      "video 1/1 (439/1727) C:\\Users\\bcw60\\OneDrive\\Desktop\\TestData\\walker_hos.mp4: 384x640 2 walkers, 34.5ms\n",
      "video 1/1 (439/1727) C:\\Users\\bcw60\\OneDrive\\Desktop\\TestData\\walker_hos.mp4: 384x640 2 walkers, 34.5ms\n",
      "video 1/1 (440/1727) C:\\Users\\bcw60\\OneDrive\\Desktop\\TestData\\walker_hos.mp4: 384x640 2 walkers, 33.8ms\n",
      "video 1/1 (440/1727) C:\\Users\\bcw60\\OneDrive\\Desktop\\TestData\\walker_hos.mp4: 384x640 2 walkers, 33.8ms\n",
      "video 1/1 (441/1727) C:\\Users\\bcw60\\OneDrive\\Desktop\\TestData\\walker_hos.mp4: 384x640 2 walkers, 48.4ms\n",
      "video 1/1 (441/1727) C:\\Users\\bcw60\\OneDrive\\Desktop\\TestData\\walker_hos.mp4: 384x640 2 walkers, 48.4ms\n",
      "video 1/1 (442/1727) C:\\Users\\bcw60\\OneDrive\\Desktop\\TestData\\walker_hos.mp4: 384x640 2 walkers, 32.3ms\n",
      "video 1/1 (442/1727) C:\\Users\\bcw60\\OneDrive\\Desktop\\TestData\\walker_hos.mp4: 384x640 2 walkers, 32.3ms\n",
      "video 1/1 (443/1727) C:\\Users\\bcw60\\OneDrive\\Desktop\\TestData\\walker_hos.mp4: 384x640 2 walkers, 37.1ms\n",
      "video 1/1 (443/1727) C:\\Users\\bcw60\\OneDrive\\Desktop\\TestData\\walker_hos.mp4: 384x640 2 walkers, 37.1ms\n",
      "video 1/1 (444/1727) C:\\Users\\bcw60\\OneDrive\\Desktop\\TestData\\walker_hos.mp4: 384x640 2 walkers, 35.9ms\n",
      "video 1/1 (444/1727) C:\\Users\\bcw60\\OneDrive\\Desktop\\TestData\\walker_hos.mp4: 384x640 2 walkers, 35.9ms\n",
      "video 1/1 (445/1727) C:\\Users\\bcw60\\OneDrive\\Desktop\\TestData\\walker_hos.mp4: 384x640 2 walkers, 31.2ms\n",
      "video 1/1 (445/1727) C:\\Users\\bcw60\\OneDrive\\Desktop\\TestData\\walker_hos.mp4: 384x640 2 walkers, 31.2ms\n",
      "video 1/1 (446/1727) C:\\Users\\bcw60\\OneDrive\\Desktop\\TestData\\walker_hos.mp4: 384x640 2 walkers, 46.7ms\n",
      "video 1/1 (446/1727) C:\\Users\\bcw60\\OneDrive\\Desktop\\TestData\\walker_hos.mp4: 384x640 2 walkers, 46.7ms\n",
      "video 1/1 (447/1727) C:\\Users\\bcw60\\OneDrive\\Desktop\\TestData\\walker_hos.mp4: 384x640 2 walkers, 32.2ms\n",
      "video 1/1 (447/1727) C:\\Users\\bcw60\\OneDrive\\Desktop\\TestData\\walker_hos.mp4: 384x640 2 walkers, 32.2ms\n",
      "video 1/1 (448/1727) C:\\Users\\bcw60\\OneDrive\\Desktop\\TestData\\walker_hos.mp4: 384x640 2 walkers, 33.2ms\n",
      "video 1/1 (448/1727) C:\\Users\\bcw60\\OneDrive\\Desktop\\TestData\\walker_hos.mp4: 384x640 2 walkers, 33.2ms\n",
      "video 1/1 (449/1727) C:\\Users\\bcw60\\OneDrive\\Desktop\\TestData\\walker_hos.mp4: 384x640 2 walkers, 48.8ms\n",
      "video 1/1 (449/1727) C:\\Users\\bcw60\\OneDrive\\Desktop\\TestData\\walker_hos.mp4: 384x640 2 walkers, 48.8ms\n",
      "video 1/1 (450/1727) C:\\Users\\bcw60\\OneDrive\\Desktop\\TestData\\walker_hos.mp4: 384x640 2 walkers, 49.9ms\n",
      "video 1/1 (450/1727) C:\\Users\\bcw60\\OneDrive\\Desktop\\TestData\\walker_hos.mp4: 384x640 2 walkers, 49.9ms\n",
      "video 1/1 (451/1727) C:\\Users\\bcw60\\OneDrive\\Desktop\\TestData\\walker_hos.mp4: 384x640 2 walkers, 35.5ms\n",
      "video 1/1 (451/1727) C:\\Users\\bcw60\\OneDrive\\Desktop\\TestData\\walker_hos.mp4: 384x640 2 walkers, 35.5ms\n",
      "video 1/1 (452/1727) C:\\Users\\bcw60\\OneDrive\\Desktop\\TestData\\walker_hos.mp4: 384x640 2 walkers, 41.3ms\n",
      "video 1/1 (452/1727) C:\\Users\\bcw60\\OneDrive\\Desktop\\TestData\\walker_hos.mp4: 384x640 2 walkers, 41.3ms\n",
      "video 1/1 (453/1727) C:\\Users\\bcw60\\OneDrive\\Desktop\\TestData\\walker_hos.mp4: 384x640 2 walkers, 40.8ms\n",
      "video 1/1 (453/1727) C:\\Users\\bcw60\\OneDrive\\Desktop\\TestData\\walker_hos.mp4: 384x640 2 walkers, 40.8ms\n",
      "video 1/1 (454/1727) C:\\Users\\bcw60\\OneDrive\\Desktop\\TestData\\walker_hos.mp4: 384x640 2 walkers, 36.3ms\n",
      "video 1/1 (454/1727) C:\\Users\\bcw60\\OneDrive\\Desktop\\TestData\\walker_hos.mp4: 384x640 2 walkers, 36.3ms\n",
      "video 1/1 (455/1727) C:\\Users\\bcw60\\OneDrive\\Desktop\\TestData\\walker_hos.mp4: 384x640 2 walkers, 25.2ms\n",
      "video 1/1 (455/1727) C:\\Users\\bcw60\\OneDrive\\Desktop\\TestData\\walker_hos.mp4: 384x640 2 walkers, 25.2ms\n",
      "video 1/1 (456/1727) C:\\Users\\bcw60\\OneDrive\\Desktop\\TestData\\walker_hos.mp4: 384x640 2 walkers, 25.6ms\n",
      "video 1/1 (456/1727) C:\\Users\\bcw60\\OneDrive\\Desktop\\TestData\\walker_hos.mp4: 384x640 2 walkers, 25.6ms\n",
      "video 1/1 (457/1727) C:\\Users\\bcw60\\OneDrive\\Desktop\\TestData\\walker_hos.mp4: 384x640 2 walkers, 45.0ms\n",
      "video 1/1 (457/1727) C:\\Users\\bcw60\\OneDrive\\Desktop\\TestData\\walker_hos.mp4: 384x640 2 walkers, 45.0ms\n",
      "video 1/1 (458/1727) C:\\Users\\bcw60\\OneDrive\\Desktop\\TestData\\walker_hos.mp4: 384x640 2 walkers, 32.5ms\n",
      "video 1/1 (458/1727) C:\\Users\\bcw60\\OneDrive\\Desktop\\TestData\\walker_hos.mp4: 384x640 2 walkers, 32.5ms\n",
      "video 1/1 (459/1727) C:\\Users\\bcw60\\OneDrive\\Desktop\\TestData\\walker_hos.mp4: 384x640 2 walkers, 32.1ms\n",
      "video 1/1 (459/1727) C:\\Users\\bcw60\\OneDrive\\Desktop\\TestData\\walker_hos.mp4: 384x640 2 walkers, 32.1ms\n",
      "video 1/1 (460/1727) C:\\Users\\bcw60\\OneDrive\\Desktop\\TestData\\walker_hos.mp4: 384x640 2 walkers, 52.2ms\n",
      "video 1/1 (460/1727) C:\\Users\\bcw60\\OneDrive\\Desktop\\TestData\\walker_hos.mp4: 384x640 2 walkers, 52.2ms\n",
      "video 1/1 (461/1727) C:\\Users\\bcw60\\OneDrive\\Desktop\\TestData\\walker_hos.mp4: 384x640 2 walkers, 39.2ms\n",
      "video 1/1 (461/1727) C:\\Users\\bcw60\\OneDrive\\Desktop\\TestData\\walker_hos.mp4: 384x640 2 walkers, 39.2ms\n",
      "video 1/1 (462/1727) C:\\Users\\bcw60\\OneDrive\\Desktop\\TestData\\walker_hos.mp4: 384x640 2 walkers, 32.3ms\n",
      "video 1/1 (462/1727) C:\\Users\\bcw60\\OneDrive\\Desktop\\TestData\\walker_hos.mp4: 384x640 2 walkers, 32.3ms\n",
      "video 1/1 (463/1727) C:\\Users\\bcw60\\OneDrive\\Desktop\\TestData\\walker_hos.mp4: 384x640 2 walkers, 41.2ms\n",
      "video 1/1 (463/1727) C:\\Users\\bcw60\\OneDrive\\Desktop\\TestData\\walker_hos.mp4: 384x640 2 walkers, 41.2ms\n",
      "video 1/1 (464/1727) C:\\Users\\bcw60\\OneDrive\\Desktop\\TestData\\walker_hos.mp4: 384x640 2 walkers, 34.7ms\n",
      "video 1/1 (464/1727) C:\\Users\\bcw60\\OneDrive\\Desktop\\TestData\\walker_hos.mp4: 384x640 2 walkers, 34.7ms\n",
      "video 1/1 (465/1727) C:\\Users\\bcw60\\OneDrive\\Desktop\\TestData\\walker_hos.mp4: 384x640 2 walkers, 31.2ms\n",
      "video 1/1 (465/1727) C:\\Users\\bcw60\\OneDrive\\Desktop\\TestData\\walker_hos.mp4: 384x640 2 walkers, 31.2ms\n",
      "video 1/1 (466/1727) C:\\Users\\bcw60\\OneDrive\\Desktop\\TestData\\walker_hos.mp4: 384x640 2 walkers, 49.7ms\n",
      "video 1/1 (466/1727) C:\\Users\\bcw60\\OneDrive\\Desktop\\TestData\\walker_hos.mp4: 384x640 2 walkers, 49.7ms\n",
      "video 1/1 (467/1727) C:\\Users\\bcw60\\OneDrive\\Desktop\\TestData\\walker_hos.mp4: 384x640 2 walkers, 31.4ms\n",
      "video 1/1 (467/1727) C:\\Users\\bcw60\\OneDrive\\Desktop\\TestData\\walker_hos.mp4: 384x640 2 walkers, 31.4ms\n",
      "video 1/1 (468/1727) C:\\Users\\bcw60\\OneDrive\\Desktop\\TestData\\walker_hos.mp4: 384x640 2 walkers, 36.8ms\n",
      "video 1/1 (468/1727) C:\\Users\\bcw60\\OneDrive\\Desktop\\TestData\\walker_hos.mp4: 384x640 2 walkers, 36.8ms\n",
      "video 1/1 (469/1727) C:\\Users\\bcw60\\OneDrive\\Desktop\\TestData\\walker_hos.mp4: 384x640 2 walkers, 35.1ms\n",
      "video 1/1 (469/1727) C:\\Users\\bcw60\\OneDrive\\Desktop\\TestData\\walker_hos.mp4: 384x640 2 walkers, 35.1ms\n",
      "video 1/1 (470/1727) C:\\Users\\bcw60\\OneDrive\\Desktop\\TestData\\walker_hos.mp4: 384x640 2 walkers, 49.2ms\n",
      "video 1/1 (470/1727) C:\\Users\\bcw60\\OneDrive\\Desktop\\TestData\\walker_hos.mp4: 384x640 2 walkers, 49.2ms\n",
      "video 1/1 (471/1727) C:\\Users\\bcw60\\OneDrive\\Desktop\\TestData\\walker_hos.mp4: 384x640 2 walkers, 51.1ms\n",
      "video 1/1 (471/1727) C:\\Users\\bcw60\\OneDrive\\Desktop\\TestData\\walker_hos.mp4: 384x640 2 walkers, 51.1ms\n",
      "video 1/1 (472/1727) C:\\Users\\bcw60\\OneDrive\\Desktop\\TestData\\walker_hos.mp4: 384x640 2 walkers, 29.3ms\n",
      "video 1/1 (472/1727) C:\\Users\\bcw60\\OneDrive\\Desktop\\TestData\\walker_hos.mp4: 384x640 2 walkers, 29.3ms\n",
      "video 1/1 (473/1727) C:\\Users\\bcw60\\OneDrive\\Desktop\\TestData\\walker_hos.mp4: 384x640 2 walkers, 42.3ms\n",
      "video 1/1 (473/1727) C:\\Users\\bcw60\\OneDrive\\Desktop\\TestData\\walker_hos.mp4: 384x640 2 walkers, 42.3ms\n",
      "video 1/1 (474/1727) C:\\Users\\bcw60\\OneDrive\\Desktop\\TestData\\walker_hos.mp4: 384x640 2 walkers, 32.8ms\n",
      "video 1/1 (474/1727) C:\\Users\\bcw60\\OneDrive\\Desktop\\TestData\\walker_hos.mp4: 384x640 2 walkers, 32.8ms\n",
      "video 1/1 (475/1727) C:\\Users\\bcw60\\OneDrive\\Desktop\\TestData\\walker_hos.mp4: 384x640 2 walkers, 51.6ms\n",
      "video 1/1 (475/1727) C:\\Users\\bcw60\\OneDrive\\Desktop\\TestData\\walker_hos.mp4: 384x640 2 walkers, 51.6ms\n",
      "video 1/1 (476/1727) C:\\Users\\bcw60\\OneDrive\\Desktop\\TestData\\walker_hos.mp4: 384x640 2 walkers, 48.6ms\n",
      "video 1/1 (476/1727) C:\\Users\\bcw60\\OneDrive\\Desktop\\TestData\\walker_hos.mp4: 384x640 2 walkers, 48.6ms\n",
      "video 1/1 (477/1727) C:\\Users\\bcw60\\OneDrive\\Desktop\\TestData\\walker_hos.mp4: 384x640 2 walkers, 32.3ms\n",
      "video 1/1 (477/1727) C:\\Users\\bcw60\\OneDrive\\Desktop\\TestData\\walker_hos.mp4: 384x640 2 walkers, 32.3ms\n",
      "video 1/1 (478/1727) C:\\Users\\bcw60\\OneDrive\\Desktop\\TestData\\walker_hos.mp4: 384x640 2 walkers, 48.1ms\n",
      "video 1/1 (478/1727) C:\\Users\\bcw60\\OneDrive\\Desktop\\TestData\\walker_hos.mp4: 384x640 2 walkers, 48.1ms\n",
      "video 1/1 (479/1727) C:\\Users\\bcw60\\OneDrive\\Desktop\\TestData\\walker_hos.mp4: 384x640 2 walkers, 35.9ms\n",
      "video 1/1 (479/1727) C:\\Users\\bcw60\\OneDrive\\Desktop\\TestData\\walker_hos.mp4: 384x640 2 walkers, 35.9ms\n",
      "video 1/1 (480/1727) C:\\Users\\bcw60\\OneDrive\\Desktop\\TestData\\walker_hos.mp4: 384x640 2 walkers, 36.1ms\n",
      "video 1/1 (480/1727) C:\\Users\\bcw60\\OneDrive\\Desktop\\TestData\\walker_hos.mp4: 384x640 2 walkers, 36.1ms\n",
      "video 1/1 (481/1727) C:\\Users\\bcw60\\OneDrive\\Desktop\\TestData\\walker_hos.mp4: 384x640 1 walker, 38.1ms\n",
      "video 1/1 (481/1727) C:\\Users\\bcw60\\OneDrive\\Desktop\\TestData\\walker_hos.mp4: 384x640 1 walker, 38.1ms\n",
      "video 1/1 (482/1727) C:\\Users\\bcw60\\OneDrive\\Desktop\\TestData\\walker_hos.mp4: 384x640 1 walker, 47.2ms\n",
      "video 1/1 (482/1727) C:\\Users\\bcw60\\OneDrive\\Desktop\\TestData\\walker_hos.mp4: 384x640 1 walker, 47.2ms\n",
      "video 1/1 (483/1727) C:\\Users\\bcw60\\OneDrive\\Desktop\\TestData\\walker_hos.mp4: 384x640 1 walker, 35.1ms\n",
      "video 1/1 (483/1727) C:\\Users\\bcw60\\OneDrive\\Desktop\\TestData\\walker_hos.mp4: 384x640 1 walker, 35.1ms\n",
      "video 1/1 (484/1727) C:\\Users\\bcw60\\OneDrive\\Desktop\\TestData\\walker_hos.mp4: 384x640 1 walker, 32.4ms\n",
      "video 1/1 (484/1727) C:\\Users\\bcw60\\OneDrive\\Desktop\\TestData\\walker_hos.mp4: 384x640 1 walker, 32.4ms\n",
      "video 1/1 (485/1727) C:\\Users\\bcw60\\OneDrive\\Desktop\\TestData\\walker_hos.mp4: 384x640 1 walker, 45.7ms\n",
      "video 1/1 (485/1727) C:\\Users\\bcw60\\OneDrive\\Desktop\\TestData\\walker_hos.mp4: 384x640 1 walker, 45.7ms\n",
      "video 1/1 (486/1727) C:\\Users\\bcw60\\OneDrive\\Desktop\\TestData\\walker_hos.mp4: 384x640 1 walker, 34.7ms\n",
      "video 1/1 (486/1727) C:\\Users\\bcw60\\OneDrive\\Desktop\\TestData\\walker_hos.mp4: 384x640 1 walker, 34.7ms\n",
      "video 1/1 (487/1727) C:\\Users\\bcw60\\OneDrive\\Desktop\\TestData\\walker_hos.mp4: 384x640 1 walker, 33.2ms\n",
      "video 1/1 (487/1727) C:\\Users\\bcw60\\OneDrive\\Desktop\\TestData\\walker_hos.mp4: 384x640 1 walker, 33.2ms\n",
      "video 1/1 (488/1727) C:\\Users\\bcw60\\OneDrive\\Desktop\\TestData\\walker_hos.mp4: 384x640 1 walker, 48.1ms\n",
      "video 1/1 (488/1727) C:\\Users\\bcw60\\OneDrive\\Desktop\\TestData\\walker_hos.mp4: 384x640 1 walker, 48.1ms\n",
      "video 1/1 (489/1727) C:\\Users\\bcw60\\OneDrive\\Desktop\\TestData\\walker_hos.mp4: 384x640 1 walker, 46.1ms\n",
      "video 1/1 (489/1727) C:\\Users\\bcw60\\OneDrive\\Desktop\\TestData\\walker_hos.mp4: 384x640 1 walker, 46.1ms\n",
      "video 1/1 (490/1727) C:\\Users\\bcw60\\OneDrive\\Desktop\\TestData\\walker_hos.mp4: 384x640 1 walker, 28.2ms\n",
      "video 1/1 (490/1727) C:\\Users\\bcw60\\OneDrive\\Desktop\\TestData\\walker_hos.mp4: 384x640 1 walker, 28.2ms\n",
      "video 1/1 (491/1727) C:\\Users\\bcw60\\OneDrive\\Desktop\\TestData\\walker_hos.mp4: 384x640 1 walker, 33.4ms\n",
      "video 1/1 (491/1727) C:\\Users\\bcw60\\OneDrive\\Desktop\\TestData\\walker_hos.mp4: 384x640 1 walker, 33.4ms\n",
      "video 1/1 (492/1727) C:\\Users\\bcw60\\OneDrive\\Desktop\\TestData\\walker_hos.mp4: 384x640 1 walker, 47.7ms\n",
      "video 1/1 (492/1727) C:\\Users\\bcw60\\OneDrive\\Desktop\\TestData\\walker_hos.mp4: 384x640 1 walker, 47.7ms\n",
      "video 1/1 (493/1727) C:\\Users\\bcw60\\OneDrive\\Desktop\\TestData\\walker_hos.mp4: 384x640 1 walker, 23.8ms\n",
      "video 1/1 (493/1727) C:\\Users\\bcw60\\OneDrive\\Desktop\\TestData\\walker_hos.mp4: 384x640 1 walker, 23.8ms\n",
      "video 1/1 (494/1727) C:\\Users\\bcw60\\OneDrive\\Desktop\\TestData\\walker_hos.mp4: 384x640 1 walker, 32.3ms\n",
      "video 1/1 (494/1727) C:\\Users\\bcw60\\OneDrive\\Desktop\\TestData\\walker_hos.mp4: 384x640 1 walker, 32.3ms\n",
      "video 1/1 (495/1727) C:\\Users\\bcw60\\OneDrive\\Desktop\\TestData\\walker_hos.mp4: 384x640 1 walker, 38.1ms\n",
      "video 1/1 (495/1727) C:\\Users\\bcw60\\OneDrive\\Desktop\\TestData\\walker_hos.mp4: 384x640 1 walker, 38.1ms\n",
      "video 1/1 (496/1727) C:\\Users\\bcw60\\OneDrive\\Desktop\\TestData\\walker_hos.mp4: 384x640 1 walker, 37.8ms\n",
      "video 1/1 (496/1727) C:\\Users\\bcw60\\OneDrive\\Desktop\\TestData\\walker_hos.mp4: 384x640 1 walker, 37.8ms\n",
      "video 1/1 (497/1727) C:\\Users\\bcw60\\OneDrive\\Desktop\\TestData\\walker_hos.mp4: 384x640 1 walker, 50.1ms\n",
      "video 1/1 (497/1727) C:\\Users\\bcw60\\OneDrive\\Desktop\\TestData\\walker_hos.mp4: 384x640 1 walker, 50.1ms\n",
      "video 1/1 (498/1727) C:\\Users\\bcw60\\OneDrive\\Desktop\\TestData\\walker_hos.mp4: 384x640 1 walker, 43.9ms\n",
      "video 1/1 (498/1727) C:\\Users\\bcw60\\OneDrive\\Desktop\\TestData\\walker_hos.mp4: 384x640 1 walker, 43.9ms\n",
      "video 1/1 (499/1727) C:\\Users\\bcw60\\OneDrive\\Desktop\\TestData\\walker_hos.mp4: 384x640 1 walker, 40.3ms\n",
      "video 1/1 (499/1727) C:\\Users\\bcw60\\OneDrive\\Desktop\\TestData\\walker_hos.mp4: 384x640 1 walker, 40.3ms\n",
      "video 1/1 (500/1727) C:\\Users\\bcw60\\OneDrive\\Desktop\\TestData\\walker_hos.mp4: 384x640 1 walker, 33.6ms\n",
      "video 1/1 (500/1727) C:\\Users\\bcw60\\OneDrive\\Desktop\\TestData\\walker_hos.mp4: 384x640 1 walker, 33.6ms\n",
      "video 1/1 (501/1727) C:\\Users\\bcw60\\OneDrive\\Desktop\\TestData\\walker_hos.mp4: 384x640 1 walker, 50.0ms\n",
      "video 1/1 (501/1727) C:\\Users\\bcw60\\OneDrive\\Desktop\\TestData\\walker_hos.mp4: 384x640 1 walker, 50.0ms\n",
      "video 1/1 (502/1727) C:\\Users\\bcw60\\OneDrive\\Desktop\\TestData\\walker_hos.mp4: 384x640 1 walker, 32.6ms\n",
      "video 1/1 (502/1727) C:\\Users\\bcw60\\OneDrive\\Desktop\\TestData\\walker_hos.mp4: 384x640 1 walker, 32.6ms\n",
      "video 1/1 (503/1727) C:\\Users\\bcw60\\OneDrive\\Desktop\\TestData\\walker_hos.mp4: 384x640 1 walker, 49.9ms\n",
      "video 1/1 (503/1727) C:\\Users\\bcw60\\OneDrive\\Desktop\\TestData\\walker_hos.mp4: 384x640 1 walker, 49.9ms\n",
      "video 1/1 (504/1727) C:\\Users\\bcw60\\OneDrive\\Desktop\\TestData\\walker_hos.mp4: 384x640 1 walker, 32.5ms\n",
      "video 1/1 (504/1727) C:\\Users\\bcw60\\OneDrive\\Desktop\\TestData\\walker_hos.mp4: 384x640 1 walker, 32.5ms\n",
      "video 1/1 (505/1727) C:\\Users\\bcw60\\OneDrive\\Desktop\\TestData\\walker_hos.mp4: 384x640 1 walker, 41.3ms\n",
      "video 1/1 (505/1727) C:\\Users\\bcw60\\OneDrive\\Desktop\\TestData\\walker_hos.mp4: 384x640 1 walker, 41.3ms\n",
      "video 1/1 (506/1727) C:\\Users\\bcw60\\OneDrive\\Desktop\\TestData\\walker_hos.mp4: 384x640 1 walker, 34.4ms\n",
      "video 1/1 (506/1727) C:\\Users\\bcw60\\OneDrive\\Desktop\\TestData\\walker_hos.mp4: 384x640 1 walker, 34.4ms\n",
      "video 1/1 (507/1727) C:\\Users\\bcw60\\OneDrive\\Desktop\\TestData\\walker_hos.mp4: 384x640 1 walker, 51.3ms\n",
      "video 1/1 (507/1727) C:\\Users\\bcw60\\OneDrive\\Desktop\\TestData\\walker_hos.mp4: 384x640 1 walker, 51.3ms\n",
      "video 1/1 (508/1727) C:\\Users\\bcw60\\OneDrive\\Desktop\\TestData\\walker_hos.mp4: 384x640 1 walker, 49.7ms\n",
      "video 1/1 (508/1727) C:\\Users\\bcw60\\OneDrive\\Desktop\\TestData\\walker_hos.mp4: 384x640 1 walker, 49.7ms\n",
      "video 1/1 (509/1727) C:\\Users\\bcw60\\OneDrive\\Desktop\\TestData\\walker_hos.mp4: 384x640 1 walker, 31.2ms\n",
      "video 1/1 (509/1727) C:\\Users\\bcw60\\OneDrive\\Desktop\\TestData\\walker_hos.mp4: 384x640 1 walker, 31.2ms\n",
      "video 1/1 (510/1727) C:\\Users\\bcw60\\OneDrive\\Desktop\\TestData\\walker_hos.mp4: 384x640 1 walker, 45.0ms\n",
      "video 1/1 (510/1727) C:\\Users\\bcw60\\OneDrive\\Desktop\\TestData\\walker_hos.mp4: 384x640 1 walker, 45.0ms\n",
      "video 1/1 (511/1727) C:\\Users\\bcw60\\OneDrive\\Desktop\\TestData\\walker_hos.mp4: 384x640 1 walker, 32.2ms\n",
      "video 1/1 (511/1727) C:\\Users\\bcw60\\OneDrive\\Desktop\\TestData\\walker_hos.mp4: 384x640 1 walker, 32.2ms\n",
      "video 1/1 (512/1727) C:\\Users\\bcw60\\OneDrive\\Desktop\\TestData\\walker_hos.mp4: 384x640 1 walker, 34.4ms\n",
      "video 1/1 (512/1727) C:\\Users\\bcw60\\OneDrive\\Desktop\\TestData\\walker_hos.mp4: 384x640 1 walker, 34.4ms\n",
      "video 1/1 (513/1727) C:\\Users\\bcw60\\OneDrive\\Desktop\\TestData\\walker_hos.mp4: 384x640 1 walker, 47.6ms\n",
      "video 1/1 (513/1727) C:\\Users\\bcw60\\OneDrive\\Desktop\\TestData\\walker_hos.mp4: 384x640 1 walker, 47.6ms\n",
      "video 1/1 (514/1727) C:\\Users\\bcw60\\OneDrive\\Desktop\\TestData\\walker_hos.mp4: 384x640 1 walker, 48.3ms\n",
      "video 1/1 (514/1727) C:\\Users\\bcw60\\OneDrive\\Desktop\\TestData\\walker_hos.mp4: 384x640 1 walker, 48.3ms\n",
      "video 1/1 (515/1727) C:\\Users\\bcw60\\OneDrive\\Desktop\\TestData\\walker_hos.mp4: 384x640 1 walker, 45.4ms\n",
      "video 1/1 (515/1727) C:\\Users\\bcw60\\OneDrive\\Desktop\\TestData\\walker_hos.mp4: 384x640 1 walker, 45.4ms\n",
      "video 1/1 (516/1727) C:\\Users\\bcw60\\OneDrive\\Desktop\\TestData\\walker_hos.mp4: 384x640 1 walker, 34.7ms\n",
      "video 1/1 (516/1727) C:\\Users\\bcw60\\OneDrive\\Desktop\\TestData\\walker_hos.mp4: 384x640 1 walker, 34.7ms\n",
      "video 1/1 (517/1727) C:\\Users\\bcw60\\OneDrive\\Desktop\\TestData\\walker_hos.mp4: 384x640 1 walker, 42.9ms\n",
      "video 1/1 (517/1727) C:\\Users\\bcw60\\OneDrive\\Desktop\\TestData\\walker_hos.mp4: 384x640 1 walker, 42.9ms\n",
      "video 1/1 (518/1727) C:\\Users\\bcw60\\OneDrive\\Desktop\\TestData\\walker_hos.mp4: 384x640 1 walker, 30.2ms\n",
      "video 1/1 (518/1727) C:\\Users\\bcw60\\OneDrive\\Desktop\\TestData\\walker_hos.mp4: 384x640 1 walker, 30.2ms\n",
      "video 1/1 (519/1727) C:\\Users\\bcw60\\OneDrive\\Desktop\\TestData\\walker_hos.mp4: 384x640 1 walker, 35.1ms\n",
      "video 1/1 (519/1727) C:\\Users\\bcw60\\OneDrive\\Desktop\\TestData\\walker_hos.mp4: 384x640 1 walker, 35.1ms\n",
      "video 1/1 (520/1727) C:\\Users\\bcw60\\OneDrive\\Desktop\\TestData\\walker_hos.mp4: 384x640 1 walker, 49.9ms\n",
      "video 1/1 (520/1727) C:\\Users\\bcw60\\OneDrive\\Desktop\\TestData\\walker_hos.mp4: 384x640 1 walker, 49.9ms\n",
      "video 1/1 (521/1727) C:\\Users\\bcw60\\OneDrive\\Desktop\\TestData\\walker_hos.mp4: 384x640 1 walker, 51.3ms\n",
      "video 1/1 (521/1727) C:\\Users\\bcw60\\OneDrive\\Desktop\\TestData\\walker_hos.mp4: 384x640 1 walker, 51.3ms\n",
      "video 1/1 (522/1727) C:\\Users\\bcw60\\OneDrive\\Desktop\\TestData\\walker_hos.mp4: 384x640 1 walker, 34.3ms\n",
      "video 1/1 (522/1727) C:\\Users\\bcw60\\OneDrive\\Desktop\\TestData\\walker_hos.mp4: 384x640 1 walker, 34.3ms\n",
      "video 1/1 (523/1727) C:\\Users\\bcw60\\OneDrive\\Desktop\\TestData\\walker_hos.mp4: 384x640 1 walker, 42.1ms\n",
      "video 1/1 (523/1727) C:\\Users\\bcw60\\OneDrive\\Desktop\\TestData\\walker_hos.mp4: 384x640 1 walker, 42.1ms\n",
      "video 1/1 (524/1727) C:\\Users\\bcw60\\OneDrive\\Desktop\\TestData\\walker_hos.mp4: 384x640 1 walker, 41.8ms\n",
      "video 1/1 (524/1727) C:\\Users\\bcw60\\OneDrive\\Desktop\\TestData\\walker_hos.mp4: 384x640 1 walker, 41.8ms\n",
      "video 1/1 (525/1727) C:\\Users\\bcw60\\OneDrive\\Desktop\\TestData\\walker_hos.mp4: 384x640 1 walker, 31.7ms\n",
      "video 1/1 (525/1727) C:\\Users\\bcw60\\OneDrive\\Desktop\\TestData\\walker_hos.mp4: 384x640 1 walker, 31.7ms\n",
      "video 1/1 (526/1727) C:\\Users\\bcw60\\OneDrive\\Desktop\\TestData\\walker_hos.mp4: 384x640 1 walker, 52.5ms\n",
      "video 1/1 (526/1727) C:\\Users\\bcw60\\OneDrive\\Desktop\\TestData\\walker_hos.mp4: 384x640 1 walker, 52.5ms\n",
      "video 1/1 (527/1727) C:\\Users\\bcw60\\OneDrive\\Desktop\\TestData\\walker_hos.mp4: 384x640 1 walker, 29.8ms\n",
      "video 1/1 (527/1727) C:\\Users\\bcw60\\OneDrive\\Desktop\\TestData\\walker_hos.mp4: 384x640 1 walker, 29.8ms\n",
      "video 1/1 (528/1727) C:\\Users\\bcw60\\OneDrive\\Desktop\\TestData\\walker_hos.mp4: 384x640 1 walker, 47.4ms\n",
      "video 1/1 (528/1727) C:\\Users\\bcw60\\OneDrive\\Desktop\\TestData\\walker_hos.mp4: 384x640 1 walker, 47.4ms\n",
      "video 1/1 (529/1727) C:\\Users\\bcw60\\OneDrive\\Desktop\\TestData\\walker_hos.mp4: 384x640 2 walkers, 31.0ms\n",
      "video 1/1 (529/1727) C:\\Users\\bcw60\\OneDrive\\Desktop\\TestData\\walker_hos.mp4: 384x640 2 walkers, 31.0ms\n",
      "video 1/1 (530/1727) C:\\Users\\bcw60\\OneDrive\\Desktop\\TestData\\walker_hos.mp4: 384x640 2 walkers, 29.6ms\n",
      "video 1/1 (530/1727) C:\\Users\\bcw60\\OneDrive\\Desktop\\TestData\\walker_hos.mp4: 384x640 2 walkers, 29.6ms\n",
      "video 1/1 (531/1727) C:\\Users\\bcw60\\OneDrive\\Desktop\\TestData\\walker_hos.mp4: 384x640 2 walkers, 41.7ms\n",
      "video 1/1 (531/1727) C:\\Users\\bcw60\\OneDrive\\Desktop\\TestData\\walker_hos.mp4: 384x640 2 walkers, 41.7ms\n",
      "video 1/1 (532/1727) C:\\Users\\bcw60\\OneDrive\\Desktop\\TestData\\walker_hos.mp4: 384x640 2 walkers, 30.1ms\n",
      "video 1/1 (532/1727) C:\\Users\\bcw60\\OneDrive\\Desktop\\TestData\\walker_hos.mp4: 384x640 2 walkers, 30.1ms\n",
      "video 1/1 (533/1727) C:\\Users\\bcw60\\OneDrive\\Desktop\\TestData\\walker_hos.mp4: 384x640 2 walkers, 35.0ms\n",
      "video 1/1 (533/1727) C:\\Users\\bcw60\\OneDrive\\Desktop\\TestData\\walker_hos.mp4: 384x640 2 walkers, 35.0ms\n",
      "video 1/1 (534/1727) C:\\Users\\bcw60\\OneDrive\\Desktop\\TestData\\walker_hos.mp4: 384x640 2 walkers, 48.9ms\n",
      "video 1/1 (534/1727) C:\\Users\\bcw60\\OneDrive\\Desktop\\TestData\\walker_hos.mp4: 384x640 2 walkers, 48.9ms\n",
      "video 1/1 (535/1727) C:\\Users\\bcw60\\OneDrive\\Desktop\\TestData\\walker_hos.mp4: 384x640 2 walkers, 47.7ms\n",
      "video 1/1 (535/1727) C:\\Users\\bcw60\\OneDrive\\Desktop\\TestData\\walker_hos.mp4: 384x640 2 walkers, 47.7ms\n",
      "video 1/1 (536/1727) C:\\Users\\bcw60\\OneDrive\\Desktop\\TestData\\walker_hos.mp4: 384x640 2 walkers, 37.2ms\n",
      "video 1/1 (536/1727) C:\\Users\\bcw60\\OneDrive\\Desktop\\TestData\\walker_hos.mp4: 384x640 2 walkers, 37.2ms\n",
      "video 1/1 (537/1727) C:\\Users\\bcw60\\OneDrive\\Desktop\\TestData\\walker_hos.mp4: 384x640 2 walkers, 30.3ms\n",
      "video 1/1 (537/1727) C:\\Users\\bcw60\\OneDrive\\Desktop\\TestData\\walker_hos.mp4: 384x640 2 walkers, 30.3ms\n",
      "video 1/1 (538/1727) C:\\Users\\bcw60\\OneDrive\\Desktop\\TestData\\walker_hos.mp4: 384x640 2 walkers, 40.8ms\n",
      "video 1/1 (538/1727) C:\\Users\\bcw60\\OneDrive\\Desktop\\TestData\\walker_hos.mp4: 384x640 2 walkers, 40.8ms\n",
      "video 1/1 (539/1727) C:\\Users\\bcw60\\OneDrive\\Desktop\\TestData\\walker_hos.mp4: 384x640 2 walkers, 32.1ms\n",
      "video 1/1 (539/1727) C:\\Users\\bcw60\\OneDrive\\Desktop\\TestData\\walker_hos.mp4: 384x640 2 walkers, 32.1ms\n",
      "video 1/1 (540/1727) C:\\Users\\bcw60\\OneDrive\\Desktop\\TestData\\walker_hos.mp4: 384x640 1 walker, 50.1ms\n",
      "video 1/1 (540/1727) C:\\Users\\bcw60\\OneDrive\\Desktop\\TestData\\walker_hos.mp4: 384x640 1 walker, 50.1ms\n",
      "video 1/1 (541/1727) C:\\Users\\bcw60\\OneDrive\\Desktop\\TestData\\walker_hos.mp4: 384x640 1 walker, 50.3ms\n",
      "video 1/1 (541/1727) C:\\Users\\bcw60\\OneDrive\\Desktop\\TestData\\walker_hos.mp4: 384x640 1 walker, 50.3ms\n",
      "video 1/1 (542/1727) C:\\Users\\bcw60\\OneDrive\\Desktop\\TestData\\walker_hos.mp4: 384x640 1 walker, 49.7ms\n",
      "video 1/1 (542/1727) C:\\Users\\bcw60\\OneDrive\\Desktop\\TestData\\walker_hos.mp4: 384x640 1 walker, 49.7ms\n",
      "video 1/1 (543/1727) C:\\Users\\bcw60\\OneDrive\\Desktop\\TestData\\walker_hos.mp4: 384x640 1 walker, 50.1ms\n",
      "video 1/1 (543/1727) C:\\Users\\bcw60\\OneDrive\\Desktop\\TestData\\walker_hos.mp4: 384x640 1 walker, 50.1ms\n",
      "video 1/1 (544/1727) C:\\Users\\bcw60\\OneDrive\\Desktop\\TestData\\walker_hos.mp4: 384x640 1 walker, 32.4ms\n",
      "video 1/1 (544/1727) C:\\Users\\bcw60\\OneDrive\\Desktop\\TestData\\walker_hos.mp4: 384x640 1 walker, 32.4ms\n",
      "video 1/1 (545/1727) C:\\Users\\bcw60\\OneDrive\\Desktop\\TestData\\walker_hos.mp4: 384x640 1 walker, 46.6ms\n",
      "video 1/1 (545/1727) C:\\Users\\bcw60\\OneDrive\\Desktop\\TestData\\walker_hos.mp4: 384x640 1 walker, 46.6ms\n",
      "video 1/1 (546/1727) C:\\Users\\bcw60\\OneDrive\\Desktop\\TestData\\walker_hos.mp4: 384x640 1 walker, 34.0ms\n",
      "video 1/1 (546/1727) C:\\Users\\bcw60\\OneDrive\\Desktop\\TestData\\walker_hos.mp4: 384x640 1 walker, 34.0ms\n",
      "video 1/1 (547/1727) C:\\Users\\bcw60\\OneDrive\\Desktop\\TestData\\walker_hos.mp4: 384x640 1 walker, 35.5ms\n",
      "video 1/1 (547/1727) C:\\Users\\bcw60\\OneDrive\\Desktop\\TestData\\walker_hos.mp4: 384x640 1 walker, 35.5ms\n",
      "video 1/1 (548/1727) C:\\Users\\bcw60\\OneDrive\\Desktop\\TestData\\walker_hos.mp4: 384x640 1 walker, 47.3ms\n",
      "video 1/1 (548/1727) C:\\Users\\bcw60\\OneDrive\\Desktop\\TestData\\walker_hos.mp4: 384x640 1 walker, 47.3ms\n",
      "video 1/1 (549/1727) C:\\Users\\bcw60\\OneDrive\\Desktop\\TestData\\walker_hos.mp4: 384x640 1 walker, 52.6ms\n",
      "video 1/1 (549/1727) C:\\Users\\bcw60\\OneDrive\\Desktop\\TestData\\walker_hos.mp4: 384x640 1 walker, 52.6ms\n",
      "video 1/1 (550/1727) C:\\Users\\bcw60\\OneDrive\\Desktop\\TestData\\walker_hos.mp4: 384x640 1 walker, 35.2ms\n",
      "video 1/1 (550/1727) C:\\Users\\bcw60\\OneDrive\\Desktop\\TestData\\walker_hos.mp4: 384x640 1 walker, 35.2ms\n",
      "video 1/1 (551/1727) C:\\Users\\bcw60\\OneDrive\\Desktop\\TestData\\walker_hos.mp4: 384x640 1 walker, 48.1ms\n",
      "video 1/1 (551/1727) C:\\Users\\bcw60\\OneDrive\\Desktop\\TestData\\walker_hos.mp4: 384x640 1 walker, 48.1ms\n",
      "video 1/1 (552/1727) C:\\Users\\bcw60\\OneDrive\\Desktop\\TestData\\walker_hos.mp4: 384x640 1 walker, 43.6ms\n",
      "video 1/1 (552/1727) C:\\Users\\bcw60\\OneDrive\\Desktop\\TestData\\walker_hos.mp4: 384x640 1 walker, 43.6ms\n",
      "video 1/1 (553/1727) C:\\Users\\bcw60\\OneDrive\\Desktop\\TestData\\walker_hos.mp4: 384x640 1 walker, 36.2ms\n",
      "video 1/1 (553/1727) C:\\Users\\bcw60\\OneDrive\\Desktop\\TestData\\walker_hos.mp4: 384x640 1 walker, 36.2ms\n",
      "video 1/1 (554/1727) C:\\Users\\bcw60\\OneDrive\\Desktop\\TestData\\walker_hos.mp4: 384x640 1 walker, 31.0ms\n",
      "video 1/1 (554/1727) C:\\Users\\bcw60\\OneDrive\\Desktop\\TestData\\walker_hos.mp4: 384x640 1 walker, 31.0ms\n",
      "video 1/1 (555/1727) C:\\Users\\bcw60\\OneDrive\\Desktop\\TestData\\walker_hos.mp4: 384x640 1 walker, 53.0ms\n",
      "video 1/1 (555/1727) C:\\Users\\bcw60\\OneDrive\\Desktop\\TestData\\walker_hos.mp4: 384x640 1 walker, 53.0ms\n",
      "video 1/1 (556/1727) C:\\Users\\bcw60\\OneDrive\\Desktop\\TestData\\walker_hos.mp4: 384x640 1 walker, 34.7ms\n",
      "video 1/1 (556/1727) C:\\Users\\bcw60\\OneDrive\\Desktop\\TestData\\walker_hos.mp4: 384x640 1 walker, 34.7ms\n",
      "video 1/1 (557/1727) C:\\Users\\bcw60\\OneDrive\\Desktop\\TestData\\walker_hos.mp4: 384x640 1 walker, 52.0ms\n",
      "video 1/1 (557/1727) C:\\Users\\bcw60\\OneDrive\\Desktop\\TestData\\walker_hos.mp4: 384x640 1 walker, 52.0ms\n",
      "video 1/1 (558/1727) C:\\Users\\bcw60\\OneDrive\\Desktop\\TestData\\walker_hos.mp4: 384x640 1 walker, 37.6ms\n",
      "video 1/1 (558/1727) C:\\Users\\bcw60\\OneDrive\\Desktop\\TestData\\walker_hos.mp4: 384x640 1 walker, 37.6ms\n",
      "video 1/1 (559/1727) C:\\Users\\bcw60\\OneDrive\\Desktop\\TestData\\walker_hos.mp4: 384x640 1 walker, 37.5ms\n",
      "video 1/1 (559/1727) C:\\Users\\bcw60\\OneDrive\\Desktop\\TestData\\walker_hos.mp4: 384x640 1 walker, 37.5ms\n",
      "video 1/1 (560/1727) C:\\Users\\bcw60\\OneDrive\\Desktop\\TestData\\walker_hos.mp4: 384x640 1 walker, 30.3ms\n",
      "video 1/1 (560/1727) C:\\Users\\bcw60\\OneDrive\\Desktop\\TestData\\walker_hos.mp4: 384x640 1 walker, 30.3ms\n",
      "video 1/1 (561/1727) C:\\Users\\bcw60\\OneDrive\\Desktop\\TestData\\walker_hos.mp4: 384x640 1 walker, 34.0ms\n",
      "video 1/1 (561/1727) C:\\Users\\bcw60\\OneDrive\\Desktop\\TestData\\walker_hos.mp4: 384x640 1 walker, 34.0ms\n",
      "video 1/1 (562/1727) C:\\Users\\bcw60\\OneDrive\\Desktop\\TestData\\walker_hos.mp4: 384x640 1 walker, 39.6ms\n",
      "video 1/1 (562/1727) C:\\Users\\bcw60\\OneDrive\\Desktop\\TestData\\walker_hos.mp4: 384x640 1 walker, 39.6ms\n",
      "video 1/1 (563/1727) C:\\Users\\bcw60\\OneDrive\\Desktop\\TestData\\walker_hos.mp4: 384x640 1 walker, 33.0ms\n",
      "video 1/1 (563/1727) C:\\Users\\bcw60\\OneDrive\\Desktop\\TestData\\walker_hos.mp4: 384x640 1 walker, 33.0ms\n",
      "video 1/1 (564/1727) C:\\Users\\bcw60\\OneDrive\\Desktop\\TestData\\walker_hos.mp4: 384x640 1 walker, 52.0ms\n",
      "video 1/1 (564/1727) C:\\Users\\bcw60\\OneDrive\\Desktop\\TestData\\walker_hos.mp4: 384x640 1 walker, 52.0ms\n",
      "video 1/1 (565/1727) C:\\Users\\bcw60\\OneDrive\\Desktop\\TestData\\walker_hos.mp4: 384x640 1 walker, 47.8ms\n",
      "video 1/1 (565/1727) C:\\Users\\bcw60\\OneDrive\\Desktop\\TestData\\walker_hos.mp4: 384x640 1 walker, 47.8ms\n",
      "video 1/1 (566/1727) C:\\Users\\bcw60\\OneDrive\\Desktop\\TestData\\walker_hos.mp4: 384x640 1 walker, 50.5ms\n",
      "video 1/1 (566/1727) C:\\Users\\bcw60\\OneDrive\\Desktop\\TestData\\walker_hos.mp4: 384x640 1 walker, 50.5ms\n",
      "video 1/1 (567/1727) C:\\Users\\bcw60\\OneDrive\\Desktop\\TestData\\walker_hos.mp4: 384x640 1 walker, 51.0ms\n",
      "video 1/1 (567/1727) C:\\Users\\bcw60\\OneDrive\\Desktop\\TestData\\walker_hos.mp4: 384x640 1 walker, 51.0ms\n",
      "video 1/1 (568/1727) C:\\Users\\bcw60\\OneDrive\\Desktop\\TestData\\walker_hos.mp4: 384x640 1 walker, 35.8ms\n",
      "video 1/1 (568/1727) C:\\Users\\bcw60\\OneDrive\\Desktop\\TestData\\walker_hos.mp4: 384x640 1 walker, 35.8ms\n",
      "video 1/1 (569/1727) C:\\Users\\bcw60\\OneDrive\\Desktop\\TestData\\walker_hos.mp4: 384x640 1 walker, 40.6ms\n",
      "video 1/1 (569/1727) C:\\Users\\bcw60\\OneDrive\\Desktop\\TestData\\walker_hos.mp4: 384x640 1 walker, 40.6ms\n",
      "video 1/1 (570/1727) C:\\Users\\bcw60\\OneDrive\\Desktop\\TestData\\walker_hos.mp4: 384x640 1 walker, 38.0ms\n",
      "video 1/1 (570/1727) C:\\Users\\bcw60\\OneDrive\\Desktop\\TestData\\walker_hos.mp4: 384x640 1 walker, 38.0ms\n",
      "video 1/1 (571/1727) C:\\Users\\bcw60\\OneDrive\\Desktop\\TestData\\walker_hos.mp4: 384x640 1 walker, 34.2ms\n",
      "video 1/1 (571/1727) C:\\Users\\bcw60\\OneDrive\\Desktop\\TestData\\walker_hos.mp4: 384x640 1 walker, 34.2ms\n",
      "video 1/1 (572/1727) C:\\Users\\bcw60\\OneDrive\\Desktop\\TestData\\walker_hos.mp4: 384x640 1 walker, 36.2ms\n",
      "video 1/1 (572/1727) C:\\Users\\bcw60\\OneDrive\\Desktop\\TestData\\walker_hos.mp4: 384x640 1 walker, 36.2ms\n",
      "video 1/1 (573/1727) C:\\Users\\bcw60\\OneDrive\\Desktop\\TestData\\walker_hos.mp4: 384x640 1 walker, 48.7ms\n",
      "video 1/1 (573/1727) C:\\Users\\bcw60\\OneDrive\\Desktop\\TestData\\walker_hos.mp4: 384x640 1 walker, 48.7ms\n",
      "video 1/1 (574/1727) C:\\Users\\bcw60\\OneDrive\\Desktop\\TestData\\walker_hos.mp4: 384x640 1 walker, 37.1ms\n",
      "video 1/1 (574/1727) C:\\Users\\bcw60\\OneDrive\\Desktop\\TestData\\walker_hos.mp4: 384x640 1 walker, 37.1ms\n",
      "video 1/1 (575/1727) C:\\Users\\bcw60\\OneDrive\\Desktop\\TestData\\walker_hos.mp4: 384x640 1 walker, 30.3ms\n",
      "video 1/1 (575/1727) C:\\Users\\bcw60\\OneDrive\\Desktop\\TestData\\walker_hos.mp4: 384x640 1 walker, 30.3ms\n",
      "video 1/1 (576/1727) C:\\Users\\bcw60\\OneDrive\\Desktop\\TestData\\walker_hos.mp4: 384x640 1 walker, 33.1ms\n",
      "video 1/1 (576/1727) C:\\Users\\bcw60\\OneDrive\\Desktop\\TestData\\walker_hos.mp4: 384x640 1 walker, 33.1ms\n",
      "video 1/1 (577/1727) C:\\Users\\bcw60\\OneDrive\\Desktop\\TestData\\walker_hos.mp4: 384x640 1 walker, 36.3ms\n",
      "video 1/1 (577/1727) C:\\Users\\bcw60\\OneDrive\\Desktop\\TestData\\walker_hos.mp4: 384x640 1 walker, 36.3ms\n",
      "video 1/1 (578/1727) C:\\Users\\bcw60\\OneDrive\\Desktop\\TestData\\walker_hos.mp4: 384x640 1 walker, 49.9ms\n",
      "video 1/1 (578/1727) C:\\Users\\bcw60\\OneDrive\\Desktop\\TestData\\walker_hos.mp4: 384x640 1 walker, 49.9ms\n",
      "video 1/1 (579/1727) C:\\Users\\bcw60\\OneDrive\\Desktop\\TestData\\walker_hos.mp4: 384x640 1 walker, 46.1ms\n",
      "video 1/1 (579/1727) C:\\Users\\bcw60\\OneDrive\\Desktop\\TestData\\walker_hos.mp4: 384x640 1 walker, 46.1ms\n",
      "video 1/1 (580/1727) C:\\Users\\bcw60\\OneDrive\\Desktop\\TestData\\walker_hos.mp4: 384x640 1 walker, 42.7ms\n",
      "video 1/1 (580/1727) C:\\Users\\bcw60\\OneDrive\\Desktop\\TestData\\walker_hos.mp4: 384x640 1 walker, 42.7ms\n",
      "video 1/1 (581/1727) C:\\Users\\bcw60\\OneDrive\\Desktop\\TestData\\walker_hos.mp4: 384x640 1 walker, 34.2ms\n",
      "video 1/1 (581/1727) C:\\Users\\bcw60\\OneDrive\\Desktop\\TestData\\walker_hos.mp4: 384x640 1 walker, 34.2ms\n",
      "video 1/1 (582/1727) C:\\Users\\bcw60\\OneDrive\\Desktop\\TestData\\walker_hos.mp4: 384x640 1 walker, 33.6ms\n",
      "video 1/1 (582/1727) C:\\Users\\bcw60\\OneDrive\\Desktop\\TestData\\walker_hos.mp4: 384x640 1 walker, 33.6ms\n",
      "video 1/1 (583/1727) C:\\Users\\bcw60\\OneDrive\\Desktop\\TestData\\walker_hos.mp4: 384x640 1 walker, 37.2ms\n",
      "video 1/1 (583/1727) C:\\Users\\bcw60\\OneDrive\\Desktop\\TestData\\walker_hos.mp4: 384x640 1 walker, 37.2ms\n",
      "video 1/1 (584/1727) C:\\Users\\bcw60\\OneDrive\\Desktop\\TestData\\walker_hos.mp4: 384x640 1 walker, 49.1ms\n",
      "video 1/1 (584/1727) C:\\Users\\bcw60\\OneDrive\\Desktop\\TestData\\walker_hos.mp4: 384x640 1 walker, 49.1ms\n",
      "video 1/1 (585/1727) C:\\Users\\bcw60\\OneDrive\\Desktop\\TestData\\walker_hos.mp4: 384x640 1 walker, 32.0ms\n",
      "video 1/1 (585/1727) C:\\Users\\bcw60\\OneDrive\\Desktop\\TestData\\walker_hos.mp4: 384x640 1 walker, 32.0ms\n",
      "video 1/1 (586/1727) C:\\Users\\bcw60\\OneDrive\\Desktop\\TestData\\walker_hos.mp4: 384x640 1 walker, 42.2ms\n",
      "video 1/1 (586/1727) C:\\Users\\bcw60\\OneDrive\\Desktop\\TestData\\walker_hos.mp4: 384x640 1 walker, 42.2ms\n",
      "video 1/1 (587/1727) C:\\Users\\bcw60\\OneDrive\\Desktop\\TestData\\walker_hos.mp4: 384x640 1 walker, 34.8ms\n",
      "video 1/1 (587/1727) C:\\Users\\bcw60\\OneDrive\\Desktop\\TestData\\walker_hos.mp4: 384x640 1 walker, 34.8ms\n",
      "video 1/1 (588/1727) C:\\Users\\bcw60\\OneDrive\\Desktop\\TestData\\walker_hos.mp4: 384x640 1 walker, 35.1ms\n",
      "video 1/1 (588/1727) C:\\Users\\bcw60\\OneDrive\\Desktop\\TestData\\walker_hos.mp4: 384x640 1 walker, 35.1ms\n",
      "video 1/1 (589/1727) C:\\Users\\bcw60\\OneDrive\\Desktop\\TestData\\walker_hos.mp4: 384x640 1 walker, 49.4ms\n",
      "video 1/1 (589/1727) C:\\Users\\bcw60\\OneDrive\\Desktop\\TestData\\walker_hos.mp4: 384x640 1 walker, 49.4ms\n",
      "video 1/1 (590/1727) C:\\Users\\bcw60\\OneDrive\\Desktop\\TestData\\walker_hos.mp4: 384x640 1 walker, 49.8ms\n",
      "video 1/1 (590/1727) C:\\Users\\bcw60\\OneDrive\\Desktop\\TestData\\walker_hos.mp4: 384x640 1 walker, 49.8ms\n",
      "video 1/1 (591/1727) C:\\Users\\bcw60\\OneDrive\\Desktop\\TestData\\walker_hos.mp4: 384x640 1 walker, 47.7ms\n",
      "video 1/1 (591/1727) C:\\Users\\bcw60\\OneDrive\\Desktop\\TestData\\walker_hos.mp4: 384x640 1 walker, 47.7ms\n",
      "video 1/1 (592/1727) C:\\Users\\bcw60\\OneDrive\\Desktop\\TestData\\walker_hos.mp4: 384x640 1 walker, 34.5ms\n",
      "video 1/1 (592/1727) C:\\Users\\bcw60\\OneDrive\\Desktop\\TestData\\walker_hos.mp4: 384x640 1 walker, 34.5ms\n",
      "video 1/1 (593/1727) C:\\Users\\bcw60\\OneDrive\\Desktop\\TestData\\walker_hos.mp4: 384x640 1 walker, 39.5ms\n",
      "video 1/1 (593/1727) C:\\Users\\bcw60\\OneDrive\\Desktop\\TestData\\walker_hos.mp4: 384x640 1 walker, 39.5ms\n",
      "video 1/1 (594/1727) C:\\Users\\bcw60\\OneDrive\\Desktop\\TestData\\walker_hos.mp4: 384x640 1 walker, 37.1ms\n",
      "video 1/1 (594/1727) C:\\Users\\bcw60\\OneDrive\\Desktop\\TestData\\walker_hos.mp4: 384x640 1 walker, 37.1ms\n",
      "video 1/1 (595/1727) C:\\Users\\bcw60\\OneDrive\\Desktop\\TestData\\walker_hos.mp4: 384x640 1 walker, 31.2ms\n",
      "video 1/1 (595/1727) C:\\Users\\bcw60\\OneDrive\\Desktop\\TestData\\walker_hos.mp4: 384x640 1 walker, 31.2ms\n",
      "video 1/1 (596/1727) C:\\Users\\bcw60\\OneDrive\\Desktop\\TestData\\walker_hos.mp4: 384x640 1 walker, 44.4ms\n",
      "video 1/1 (596/1727) C:\\Users\\bcw60\\OneDrive\\Desktop\\TestData\\walker_hos.mp4: 384x640 1 walker, 44.4ms\n",
      "video 1/1 (597/1727) C:\\Users\\bcw60\\OneDrive\\Desktop\\TestData\\walker_hos.mp4: 384x640 1 walker, 34.1ms\n",
      "video 1/1 (597/1727) C:\\Users\\bcw60\\OneDrive\\Desktop\\TestData\\walker_hos.mp4: 384x640 1 walker, 34.1ms\n",
      "video 1/1 (598/1727) C:\\Users\\bcw60\\OneDrive\\Desktop\\TestData\\walker_hos.mp4: 384x640 1 walker, 35.2ms\n",
      "video 1/1 (598/1727) C:\\Users\\bcw60\\OneDrive\\Desktop\\TestData\\walker_hos.mp4: 384x640 1 walker, 35.2ms\n",
      "video 1/1 (599/1727) C:\\Users\\bcw60\\OneDrive\\Desktop\\TestData\\walker_hos.mp4: 384x640 1 walker, 50.1ms\n",
      "video 1/1 (599/1727) C:\\Users\\bcw60\\OneDrive\\Desktop\\TestData\\walker_hos.mp4: 384x640 1 walker, 50.1ms\n",
      "video 1/1 (600/1727) C:\\Users\\bcw60\\OneDrive\\Desktop\\TestData\\walker_hos.mp4: 384x640 1 walker, 32.1ms\n",
      "video 1/1 (600/1727) C:\\Users\\bcw60\\OneDrive\\Desktop\\TestData\\walker_hos.mp4: 384x640 1 walker, 32.1ms\n",
      "video 1/1 (601/1727) C:\\Users\\bcw60\\OneDrive\\Desktop\\TestData\\walker_hos.mp4: 384x640 1 walker, 42.2ms\n",
      "video 1/1 (601/1727) C:\\Users\\bcw60\\OneDrive\\Desktop\\TestData\\walker_hos.mp4: 384x640 1 walker, 42.2ms\n",
      "video 1/1 (602/1727) C:\\Users\\bcw60\\OneDrive\\Desktop\\TestData\\walker_hos.mp4: 384x640 1 walker, 34.8ms\n",
      "video 1/1 (602/1727) C:\\Users\\bcw60\\OneDrive\\Desktop\\TestData\\walker_hos.mp4: 384x640 1 walker, 34.8ms\n",
      "video 1/1 (603/1727) C:\\Users\\bcw60\\OneDrive\\Desktop\\TestData\\walker_hos.mp4: 384x640 1 walker, 51.2ms\n",
      "video 1/1 (603/1727) C:\\Users\\bcw60\\OneDrive\\Desktop\\TestData\\walker_hos.mp4: 384x640 1 walker, 51.2ms\n",
      "video 1/1 (604/1727) C:\\Users\\bcw60\\OneDrive\\Desktop\\TestData\\walker_hos.mp4: 384x640 1 walker, 43.3ms\n",
      "video 1/1 (604/1727) C:\\Users\\bcw60\\OneDrive\\Desktop\\TestData\\walker_hos.mp4: 384x640 1 walker, 43.3ms\n",
      "video 1/1 (605/1727) C:\\Users\\bcw60\\OneDrive\\Desktop\\TestData\\walker_hos.mp4: 384x640 1 walker, 40.5ms\n",
      "video 1/1 (605/1727) C:\\Users\\bcw60\\OneDrive\\Desktop\\TestData\\walker_hos.mp4: 384x640 1 walker, 40.5ms\n",
      "video 1/1 (606/1727) C:\\Users\\bcw60\\OneDrive\\Desktop\\TestData\\walker_hos.mp4: 384x640 1 walker, 33.8ms\n",
      "video 1/1 (606/1727) C:\\Users\\bcw60\\OneDrive\\Desktop\\TestData\\walker_hos.mp4: 384x640 1 walker, 33.8ms\n",
      "video 1/1 (607/1727) C:\\Users\\bcw60\\OneDrive\\Desktop\\TestData\\walker_hos.mp4: 384x640 1 walker, 49.9ms\n",
      "video 1/1 (607/1727) C:\\Users\\bcw60\\OneDrive\\Desktop\\TestData\\walker_hos.mp4: 384x640 1 walker, 49.9ms\n",
      "video 1/1 (608/1727) C:\\Users\\bcw60\\OneDrive\\Desktop\\TestData\\walker_hos.mp4: 384x640 1 walker, 32.4ms\n",
      "video 1/1 (608/1727) C:\\Users\\bcw60\\OneDrive\\Desktop\\TestData\\walker_hos.mp4: 384x640 1 walker, 32.4ms\n",
      "video 1/1 (609/1727) C:\\Users\\bcw60\\OneDrive\\Desktop\\TestData\\walker_hos.mp4: 384x640 1 walker, 44.5ms\n",
      "video 1/1 (609/1727) C:\\Users\\bcw60\\OneDrive\\Desktop\\TestData\\walker_hos.mp4: 384x640 1 walker, 44.5ms\n",
      "video 1/1 (610/1727) C:\\Users\\bcw60\\OneDrive\\Desktop\\TestData\\walker_hos.mp4: 384x640 1 walker, 35.7ms\n",
      "video 1/1 (610/1727) C:\\Users\\bcw60\\OneDrive\\Desktop\\TestData\\walker_hos.mp4: 384x640 1 walker, 35.7ms\n",
      "video 1/1 (611/1727) C:\\Users\\bcw60\\OneDrive\\Desktop\\TestData\\walker_hos.mp4: 384x640 1 walker, 32.1ms\n",
      "video 1/1 (611/1727) C:\\Users\\bcw60\\OneDrive\\Desktop\\TestData\\walker_hos.mp4: 384x640 1 walker, 32.1ms\n",
      "video 1/1 (612/1727) C:\\Users\\bcw60\\OneDrive\\Desktop\\TestData\\walker_hos.mp4: 384x640 1 walker, 50.3ms\n",
      "video 1/1 (612/1727) C:\\Users\\bcw60\\OneDrive\\Desktop\\TestData\\walker_hos.mp4: 384x640 1 walker, 50.3ms\n",
      "video 1/1 (613/1727) C:\\Users\\bcw60\\OneDrive\\Desktop\\TestData\\walker_hos.mp4: 384x640 1 walker, 31.0ms\n",
      "video 1/1 (613/1727) C:\\Users\\bcw60\\OneDrive\\Desktop\\TestData\\walker_hos.mp4: 384x640 1 walker, 31.0ms\n",
      "video 1/1 (614/1727) C:\\Users\\bcw60\\OneDrive\\Desktop\\TestData\\walker_hos.mp4: 384x640 1 walker, 42.4ms\n",
      "video 1/1 (614/1727) C:\\Users\\bcw60\\OneDrive\\Desktop\\TestData\\walker_hos.mp4: 384x640 1 walker, 42.4ms\n",
      "video 1/1 (615/1727) C:\\Users\\bcw60\\OneDrive\\Desktop\\TestData\\walker_hos.mp4: 384x640 1 walker, 32.4ms\n",
      "video 1/1 (615/1727) C:\\Users\\bcw60\\OneDrive\\Desktop\\TestData\\walker_hos.mp4: 384x640 1 walker, 32.4ms\n",
      "video 1/1 (616/1727) C:\\Users\\bcw60\\OneDrive\\Desktop\\TestData\\walker_hos.mp4: 384x640 1 walker, 48.2ms\n",
      "video 1/1 (616/1727) C:\\Users\\bcw60\\OneDrive\\Desktop\\TestData\\walker_hos.mp4: 384x640 1 walker, 48.2ms\n",
      "video 1/1 (617/1727) C:\\Users\\bcw60\\OneDrive\\Desktop\\TestData\\walker_hos.mp4: 384x640 1 walker, 43.7ms\n",
      "video 1/1 (617/1727) C:\\Users\\bcw60\\OneDrive\\Desktop\\TestData\\walker_hos.mp4: 384x640 1 walker, 43.7ms\n",
      "video 1/1 (618/1727) C:\\Users\\bcw60\\OneDrive\\Desktop\\TestData\\walker_hos.mp4: 384x640 1 walker, 34.5ms\n",
      "video 1/1 (618/1727) C:\\Users\\bcw60\\OneDrive\\Desktop\\TestData\\walker_hos.mp4: 384x640 1 walker, 34.5ms\n",
      "video 1/1 (619/1727) C:\\Users\\bcw60\\OneDrive\\Desktop\\TestData\\walker_hos.mp4: 384x640 1 walker, 51.3ms\n",
      "video 1/1 (619/1727) C:\\Users\\bcw60\\OneDrive\\Desktop\\TestData\\walker_hos.mp4: 384x640 1 walker, 51.3ms\n",
      "video 1/1 (620/1727) C:\\Users\\bcw60\\OneDrive\\Desktop\\TestData\\walker_hos.mp4: 384x640 1 walker, 30.7ms\n",
      "video 1/1 (620/1727) C:\\Users\\bcw60\\OneDrive\\Desktop\\TestData\\walker_hos.mp4: 384x640 1 walker, 30.7ms\n",
      "video 1/1 (621/1727) C:\\Users\\bcw60\\OneDrive\\Desktop\\TestData\\walker_hos.mp4: 384x640 1 walker, 43.3ms\n",
      "video 1/1 (621/1727) C:\\Users\\bcw60\\OneDrive\\Desktop\\TestData\\walker_hos.mp4: 384x640 1 walker, 43.3ms\n",
      "video 1/1 (622/1727) C:\\Users\\bcw60\\OneDrive\\Desktop\\TestData\\walker_hos.mp4: 384x640 1 walker, 32.8ms\n",
      "video 1/1 (622/1727) C:\\Users\\bcw60\\OneDrive\\Desktop\\TestData\\walker_hos.mp4: 384x640 1 walker, 32.8ms\n",
      "video 1/1 (623/1727) C:\\Users\\bcw60\\OneDrive\\Desktop\\TestData\\walker_hos.mp4: 384x640 1 walker, 40.7ms\n",
      "video 1/1 (623/1727) C:\\Users\\bcw60\\OneDrive\\Desktop\\TestData\\walker_hos.mp4: 384x640 1 walker, 40.7ms\n",
      "video 1/1 (624/1727) C:\\Users\\bcw60\\OneDrive\\Desktop\\TestData\\walker_hos.mp4: 384x640 1 walker, 32.5ms\n",
      "video 1/1 (624/1727) C:\\Users\\bcw60\\OneDrive\\Desktop\\TestData\\walker_hos.mp4: 384x640 1 walker, 32.5ms\n",
      "video 1/1 (625/1727) C:\\Users\\bcw60\\OneDrive\\Desktop\\TestData\\walker_hos.mp4: 384x640 1 walker, 42.5ms\n",
      "video 1/1 (625/1727) C:\\Users\\bcw60\\OneDrive\\Desktop\\TestData\\walker_hos.mp4: 384x640 1 walker, 42.5ms\n",
      "video 1/1 (626/1727) C:\\Users\\bcw60\\OneDrive\\Desktop\\TestData\\walker_hos.mp4: 384x640 1 walker, 34.2ms\n",
      "video 1/1 (626/1727) C:\\Users\\bcw60\\OneDrive\\Desktop\\TestData\\walker_hos.mp4: 384x640 1 walker, 34.2ms\n",
      "video 1/1 (627/1727) C:\\Users\\bcw60\\OneDrive\\Desktop\\TestData\\walker_hos.mp4: 384x640 1 walker, 51.4ms\n",
      "video 1/1 (627/1727) C:\\Users\\bcw60\\OneDrive\\Desktop\\TestData\\walker_hos.mp4: 384x640 1 walker, 51.4ms\n",
      "video 1/1 (628/1727) C:\\Users\\bcw60\\OneDrive\\Desktop\\TestData\\walker_hos.mp4: 384x640 1 walker, 46.5ms\n",
      "video 1/1 (628/1727) C:\\Users\\bcw60\\OneDrive\\Desktop\\TestData\\walker_hos.mp4: 384x640 1 walker, 46.5ms\n",
      "video 1/1 (629/1727) C:\\Users\\bcw60\\OneDrive\\Desktop\\TestData\\walker_hos.mp4: 384x640 1 walker, 24.3ms\n",
      "video 1/1 (629/1727) C:\\Users\\bcw60\\OneDrive\\Desktop\\TestData\\walker_hos.mp4: 384x640 1 walker, 24.3ms\n",
      "video 1/1 (630/1727) C:\\Users\\bcw60\\OneDrive\\Desktop\\TestData\\walker_hos.mp4: 384x640 1 walker, 37.4ms\n",
      "video 1/1 (630/1727) C:\\Users\\bcw60\\OneDrive\\Desktop\\TestData\\walker_hos.mp4: 384x640 1 walker, 37.4ms\n",
      "video 1/1 (631/1727) C:\\Users\\bcw60\\OneDrive\\Desktop\\TestData\\walker_hos.mp4: 384x640 1 walker, 34.2ms\n",
      "video 1/1 (631/1727) C:\\Users\\bcw60\\OneDrive\\Desktop\\TestData\\walker_hos.mp4: 384x640 1 walker, 34.2ms\n",
      "video 1/1 (632/1727) C:\\Users\\bcw60\\OneDrive\\Desktop\\TestData\\walker_hos.mp4: 384x640 1 walker, 48.2ms\n",
      "video 1/1 (632/1727) C:\\Users\\bcw60\\OneDrive\\Desktop\\TestData\\walker_hos.mp4: 384x640 1 walker, 48.2ms\n",
      "video 1/1 (633/1727) C:\\Users\\bcw60\\OneDrive\\Desktop\\TestData\\walker_hos.mp4: 384x640 1 walker, 42.1ms\n",
      "video 1/1 (633/1727) C:\\Users\\bcw60\\OneDrive\\Desktop\\TestData\\walker_hos.mp4: 384x640 1 walker, 42.1ms\n",
      "video 1/1 (634/1727) C:\\Users\\bcw60\\OneDrive\\Desktop\\TestData\\walker_hos.mp4: 384x640 1 walker, 34.4ms\n",
      "video 1/1 (634/1727) C:\\Users\\bcw60\\OneDrive\\Desktop\\TestData\\walker_hos.mp4: 384x640 1 walker, 34.4ms\n",
      "video 1/1 (635/1727) C:\\Users\\bcw60\\OneDrive\\Desktop\\TestData\\walker_hos.mp4: 384x640 1 walker, 49.7ms\n",
      "video 1/1 (635/1727) C:\\Users\\bcw60\\OneDrive\\Desktop\\TestData\\walker_hos.mp4: 384x640 1 walker, 49.7ms\n",
      "video 1/1 (636/1727) C:\\Users\\bcw60\\OneDrive\\Desktop\\TestData\\walker_hos.mp4: 384x640 1 walker, 32.5ms\n",
      "video 1/1 (636/1727) C:\\Users\\bcw60\\OneDrive\\Desktop\\TestData\\walker_hos.mp4: 384x640 1 walker, 32.5ms\n",
      "video 1/1 (637/1727) C:\\Users\\bcw60\\OneDrive\\Desktop\\TestData\\walker_hos.mp4: 384x640 1 walker, 42.5ms\n",
      "video 1/1 (637/1727) C:\\Users\\bcw60\\OneDrive\\Desktop\\TestData\\walker_hos.mp4: 384x640 1 walker, 42.5ms\n",
      "video 1/1 (638/1727) C:\\Users\\bcw60\\OneDrive\\Desktop\\TestData\\walker_hos.mp4: 384x640 1 walker, 34.3ms\n",
      "video 1/1 (638/1727) C:\\Users\\bcw60\\OneDrive\\Desktop\\TestData\\walker_hos.mp4: 384x640 1 walker, 34.3ms\n",
      "video 1/1 (639/1727) C:\\Users\\bcw60\\OneDrive\\Desktop\\TestData\\walker_hos.mp4: 384x640 1 walker, 49.3ms\n",
      "video 1/1 (639/1727) C:\\Users\\bcw60\\OneDrive\\Desktop\\TestData\\walker_hos.mp4: 384x640 1 walker, 49.3ms\n",
      "video 1/1 (640/1727) C:\\Users\\bcw60\\OneDrive\\Desktop\\TestData\\walker_hos.mp4: 384x640 1 walker, 43.6ms\n",
      "video 1/1 (640/1727) C:\\Users\\bcw60\\OneDrive\\Desktop\\TestData\\walker_hos.mp4: 384x640 1 walker, 43.6ms\n",
      "video 1/1 (641/1727) C:\\Users\\bcw60\\OneDrive\\Desktop\\TestData\\walker_hos.mp4: 384x640 1 walker, 34.5ms\n",
      "video 1/1 (641/1727) C:\\Users\\bcw60\\OneDrive\\Desktop\\TestData\\walker_hos.mp4: 384x640 1 walker, 34.5ms\n",
      "video 1/1 (642/1727) C:\\Users\\bcw60\\OneDrive\\Desktop\\TestData\\walker_hos.mp4: 384x640 1 walker, 35.2ms\n",
      "video 1/1 (642/1727) C:\\Users\\bcw60\\OneDrive\\Desktop\\TestData\\walker_hos.mp4: 384x640 1 walker, 35.2ms\n",
      "video 1/1 (643/1727) C:\\Users\\bcw60\\OneDrive\\Desktop\\TestData\\walker_hos.mp4: 384x640 1 walker, 48.1ms\n",
      "video 1/1 (643/1727) C:\\Users\\bcw60\\OneDrive\\Desktop\\TestData\\walker_hos.mp4: 384x640 1 walker, 48.1ms\n",
      "video 1/1 (644/1727) C:\\Users\\bcw60\\OneDrive\\Desktop\\TestData\\walker_hos.mp4: 384x640 1 walker, 41.4ms\n",
      "video 1/1 (644/1727) C:\\Users\\bcw60\\OneDrive\\Desktop\\TestData\\walker_hos.mp4: 384x640 1 walker, 41.4ms\n",
      "video 1/1 (645/1727) C:\\Users\\bcw60\\OneDrive\\Desktop\\TestData\\walker_hos.mp4: 384x640 1 walker, 39.4ms\n",
      "video 1/1 (645/1727) C:\\Users\\bcw60\\OneDrive\\Desktop\\TestData\\walker_hos.mp4: 384x640 1 walker, 39.4ms\n",
      "video 1/1 (646/1727) C:\\Users\\bcw60\\OneDrive\\Desktop\\TestData\\walker_hos.mp4: 384x640 1 walker, 37.2ms\n",
      "video 1/1 (646/1727) C:\\Users\\bcw60\\OneDrive\\Desktop\\TestData\\walker_hos.mp4: 384x640 1 walker, 37.2ms\n",
      "video 1/1 (647/1727) C:\\Users\\bcw60\\OneDrive\\Desktop\\TestData\\walker_hos.mp4: 384x640 1 walker, 33.2ms\n",
      "video 1/1 (647/1727) C:\\Users\\bcw60\\OneDrive\\Desktop\\TestData\\walker_hos.mp4: 384x640 1 walker, 33.2ms\n",
      "video 1/1 (648/1727) C:\\Users\\bcw60\\OneDrive\\Desktop\\TestData\\walker_hos.mp4: 384x640 1 walker, 42.7ms\n",
      "video 1/1 (648/1727) C:\\Users\\bcw60\\OneDrive\\Desktop\\TestData\\walker_hos.mp4: 384x640 1 walker, 42.7ms\n",
      "video 1/1 (649/1727) C:\\Users\\bcw60\\OneDrive\\Desktop\\TestData\\walker_hos.mp4: 384x640 1 walker, 37.2ms\n",
      "video 1/1 (649/1727) C:\\Users\\bcw60\\OneDrive\\Desktop\\TestData\\walker_hos.mp4: 384x640 1 walker, 37.2ms\n",
      "video 1/1 (650/1727) C:\\Users\\bcw60\\OneDrive\\Desktop\\TestData\\walker_hos.mp4: 384x640 1 walker, 35.8ms\n",
      "video 1/1 (650/1727) C:\\Users\\bcw60\\OneDrive\\Desktop\\TestData\\walker_hos.mp4: 384x640 1 walker, 35.8ms\n",
      "video 1/1 (651/1727) C:\\Users\\bcw60\\OneDrive\\Desktop\\TestData\\walker_hos.mp4: 384x640 1 walker, 32.3ms\n",
      "video 1/1 (651/1727) C:\\Users\\bcw60\\OneDrive\\Desktop\\TestData\\walker_hos.mp4: 384x640 1 walker, 32.3ms\n",
      "video 1/1 (652/1727) C:\\Users\\bcw60\\OneDrive\\Desktop\\TestData\\walker_hos.mp4: 384x640 1 walker, 40.5ms\n",
      "video 1/1 (652/1727) C:\\Users\\bcw60\\OneDrive\\Desktop\\TestData\\walker_hos.mp4: 384x640 1 walker, 40.5ms\n",
      "video 1/1 (653/1727) C:\\Users\\bcw60\\OneDrive\\Desktop\\TestData\\walker_hos.mp4: 384x640 1 walker, 37.3ms\n",
      "video 1/1 (653/1727) C:\\Users\\bcw60\\OneDrive\\Desktop\\TestData\\walker_hos.mp4: 384x640 1 walker, 37.3ms\n",
      "video 1/1 (654/1727) C:\\Users\\bcw60\\OneDrive\\Desktop\\TestData\\walker_hos.mp4: 384x640 1 walker, 40.3ms\n",
      "video 1/1 (654/1727) C:\\Users\\bcw60\\OneDrive\\Desktop\\TestData\\walker_hos.mp4: 384x640 1 walker, 40.3ms\n",
      "video 1/1 (655/1727) C:\\Users\\bcw60\\OneDrive\\Desktop\\TestData\\walker_hos.mp4: 384x640 1 walker, 27.8ms\n",
      "video 1/1 (655/1727) C:\\Users\\bcw60\\OneDrive\\Desktop\\TestData\\walker_hos.mp4: 384x640 1 walker, 27.8ms\n",
      "video 1/1 (656/1727) C:\\Users\\bcw60\\OneDrive\\Desktop\\TestData\\walker_hos.mp4: 384x640 1 walker, 28.9ms\n",
      "video 1/1 (656/1727) C:\\Users\\bcw60\\OneDrive\\Desktop\\TestData\\walker_hos.mp4: 384x640 1 walker, 28.9ms\n",
      "video 1/1 (657/1727) C:\\Users\\bcw60\\OneDrive\\Desktop\\TestData\\walker_hos.mp4: 384x640 1 walker, 36.2ms\n",
      "video 1/1 (657/1727) C:\\Users\\bcw60\\OneDrive\\Desktop\\TestData\\walker_hos.mp4: 384x640 1 walker, 36.2ms\n",
      "video 1/1 (658/1727) C:\\Users\\bcw60\\OneDrive\\Desktop\\TestData\\walker_hos.mp4: 384x640 1 walker, 48.5ms\n",
      "video 1/1 (658/1727) C:\\Users\\bcw60\\OneDrive\\Desktop\\TestData\\walker_hos.mp4: 384x640 1 walker, 48.5ms\n",
      "video 1/1 (659/1727) C:\\Users\\bcw60\\OneDrive\\Desktop\\TestData\\walker_hos.mp4: 384x640 1 walker, 33.7ms\n",
      "video 1/1 (659/1727) C:\\Users\\bcw60\\OneDrive\\Desktop\\TestData\\walker_hos.mp4: 384x640 1 walker, 33.7ms\n",
      "video 1/1 (660/1727) C:\\Users\\bcw60\\OneDrive\\Desktop\\TestData\\walker_hos.mp4: 384x640 1 walker, 36.4ms\n",
      "video 1/1 (660/1727) C:\\Users\\bcw60\\OneDrive\\Desktop\\TestData\\walker_hos.mp4: 384x640 1 walker, 36.4ms\n",
      "video 1/1 (661/1727) C:\\Users\\bcw60\\OneDrive\\Desktop\\TestData\\walker_hos.mp4: 384x640 1 walker, 30.9ms\n",
      "video 1/1 (661/1727) C:\\Users\\bcw60\\OneDrive\\Desktop\\TestData\\walker_hos.mp4: 384x640 1 walker, 30.9ms\n",
      "video 1/1 (662/1727) C:\\Users\\bcw60\\OneDrive\\Desktop\\TestData\\walker_hos.mp4: 384x640 1 walker, 34.2ms\n",
      "video 1/1 (662/1727) C:\\Users\\bcw60\\OneDrive\\Desktop\\TestData\\walker_hos.mp4: 384x640 1 walker, 34.2ms\n",
      "video 1/1 (663/1727) C:\\Users\\bcw60\\OneDrive\\Desktop\\TestData\\walker_hos.mp4: 384x640 1 walker, 47.8ms\n",
      "video 1/1 (663/1727) C:\\Users\\bcw60\\OneDrive\\Desktop\\TestData\\walker_hos.mp4: 384x640 1 walker, 47.8ms\n",
      "video 1/1 (664/1727) C:\\Users\\bcw60\\OneDrive\\Desktop\\TestData\\walker_hos.mp4: 384x640 1 walker, 42.8ms\n",
      "video 1/1 (664/1727) C:\\Users\\bcw60\\OneDrive\\Desktop\\TestData\\walker_hos.mp4: 384x640 1 walker, 42.8ms\n",
      "video 1/1 (665/1727) C:\\Users\\bcw60\\OneDrive\\Desktop\\TestData\\walker_hos.mp4: 384x640 1 walker, 34.6ms\n",
      "video 1/1 (665/1727) C:\\Users\\bcw60\\OneDrive\\Desktop\\TestData\\walker_hos.mp4: 384x640 1 walker, 34.6ms\n",
      "video 1/1 (666/1727) C:\\Users\\bcw60\\OneDrive\\Desktop\\TestData\\walker_hos.mp4: 384x640 1 walker, 49.7ms\n",
      "video 1/1 (666/1727) C:\\Users\\bcw60\\OneDrive\\Desktop\\TestData\\walker_hos.mp4: 384x640 1 walker, 49.7ms\n",
      "video 1/1 (667/1727) C:\\Users\\bcw60\\OneDrive\\Desktop\\TestData\\walker_hos.mp4: 384x640 1 walker, 44.4ms\n",
      "video 1/1 (667/1727) C:\\Users\\bcw60\\OneDrive\\Desktop\\TestData\\walker_hos.mp4: 384x640 1 walker, 44.4ms\n",
      "video 1/1 (668/1727) C:\\Users\\bcw60\\OneDrive\\Desktop\\TestData\\walker_hos.mp4: 384x640 1 walker, 33.0ms\n",
      "video 1/1 (668/1727) C:\\Users\\bcw60\\OneDrive\\Desktop\\TestData\\walker_hos.mp4: 384x640 1 walker, 33.0ms\n",
      "video 1/1 (669/1727) C:\\Users\\bcw60\\OneDrive\\Desktop\\TestData\\walker_hos.mp4: 384x640 1 walker, 32.7ms\n",
      "video 1/1 (669/1727) C:\\Users\\bcw60\\OneDrive\\Desktop\\TestData\\walker_hos.mp4: 384x640 1 walker, 32.7ms\n",
      "video 1/1 (670/1727) C:\\Users\\bcw60\\OneDrive\\Desktop\\TestData\\walker_hos.mp4: 384x640 1 walker, 48.6ms\n",
      "video 1/1 (670/1727) C:\\Users\\bcw60\\OneDrive\\Desktop\\TestData\\walker_hos.mp4: 384x640 1 walker, 48.6ms\n",
      "video 1/1 (671/1727) C:\\Users\\bcw60\\OneDrive\\Desktop\\TestData\\walker_hos.mp4: 384x640 1 walker, 42.8ms\n",
      "video 1/1 (671/1727) C:\\Users\\bcw60\\OneDrive\\Desktop\\TestData\\walker_hos.mp4: 384x640 1 walker, 42.8ms\n",
      "video 1/1 (672/1727) C:\\Users\\bcw60\\OneDrive\\Desktop\\TestData\\walker_hos.mp4: 384x640 1 walker, 33.4ms\n",
      "video 1/1 (672/1727) C:\\Users\\bcw60\\OneDrive\\Desktop\\TestData\\walker_hos.mp4: 384x640 1 walker, 33.4ms\n",
      "video 1/1 (673/1727) C:\\Users\\bcw60\\OneDrive\\Desktop\\TestData\\walker_hos.mp4: 384x640 1 walker, 50.1ms\n",
      "video 1/1 (673/1727) C:\\Users\\bcw60\\OneDrive\\Desktop\\TestData\\walker_hos.mp4: 384x640 1 walker, 50.1ms\n",
      "video 1/1 (674/1727) C:\\Users\\bcw60\\OneDrive\\Desktop\\TestData\\walker_hos.mp4: 384x640 1 walker, 30.7ms\n",
      "video 1/1 (674/1727) C:\\Users\\bcw60\\OneDrive\\Desktop\\TestData\\walker_hos.mp4: 384x640 1 walker, 30.7ms\n",
      "video 1/1 (675/1727) C:\\Users\\bcw60\\OneDrive\\Desktop\\TestData\\walker_hos.mp4: 384x640 1 walker, 42.4ms\n",
      "video 1/1 (675/1727) C:\\Users\\bcw60\\OneDrive\\Desktop\\TestData\\walker_hos.mp4: 384x640 1 walker, 42.4ms\n",
      "video 1/1 (676/1727) C:\\Users\\bcw60\\OneDrive\\Desktop\\TestData\\walker_hos.mp4: 384x640 1 walker, 32.9ms\n",
      "video 1/1 (676/1727) C:\\Users\\bcw60\\OneDrive\\Desktop\\TestData\\walker_hos.mp4: 384x640 1 walker, 32.9ms\n",
      "video 1/1 (677/1727) C:\\Users\\bcw60\\OneDrive\\Desktop\\TestData\\walker_hos.mp4: 384x640 1 walker, 51.2ms\n",
      "video 1/1 (677/1727) C:\\Users\\bcw60\\OneDrive\\Desktop\\TestData\\walker_hos.mp4: 384x640 1 walker, 51.2ms\n",
      "video 1/1 (678/1727) C:\\Users\\bcw60\\OneDrive\\Desktop\\TestData\\walker_hos.mp4: 384x640 1 walker, 22.1ms\n",
      "video 1/1 (678/1727) C:\\Users\\bcw60\\OneDrive\\Desktop\\TestData\\walker_hos.mp4: 384x640 1 walker, 22.1ms\n",
      "video 1/1 (679/1727) C:\\Users\\bcw60\\OneDrive\\Desktop\\TestData\\walker_hos.mp4: 384x640 1 walker, 41.0ms\n",
      "video 1/1 (679/1727) C:\\Users\\bcw60\\OneDrive\\Desktop\\TestData\\walker_hos.mp4: 384x640 1 walker, 41.0ms\n",
      "video 1/1 (680/1727) C:\\Users\\bcw60\\OneDrive\\Desktop\\TestData\\walker_hos.mp4: 384x640 1 walker, 35.0ms\n",
      "video 1/1 (680/1727) C:\\Users\\bcw60\\OneDrive\\Desktop\\TestData\\walker_hos.mp4: 384x640 1 walker, 35.0ms\n",
      "video 1/1 (681/1727) C:\\Users\\bcw60\\OneDrive\\Desktop\\TestData\\walker_hos.mp4: 384x640 1 walker, 50.2ms\n",
      "video 1/1 (681/1727) C:\\Users\\bcw60\\OneDrive\\Desktop\\TestData\\walker_hos.mp4: 384x640 1 walker, 50.2ms\n",
      "video 1/1 (682/1727) C:\\Users\\bcw60\\OneDrive\\Desktop\\TestData\\walker_hos.mp4: 384x640 1 walker, 31.5ms\n",
      "video 1/1 (682/1727) C:\\Users\\bcw60\\OneDrive\\Desktop\\TestData\\walker_hos.mp4: 384x640 1 walker, 31.5ms\n",
      "video 1/1 (683/1727) C:\\Users\\bcw60\\OneDrive\\Desktop\\TestData\\walker_hos.mp4: 384x640 1 walker, 39.9ms\n",
      "video 1/1 (683/1727) C:\\Users\\bcw60\\OneDrive\\Desktop\\TestData\\walker_hos.mp4: 384x640 1 walker, 39.9ms\n",
      "video 1/1 (684/1727) C:\\Users\\bcw60\\OneDrive\\Desktop\\TestData\\walker_hos.mp4: 384x640 1 walker, 35.2ms\n",
      "video 1/1 (684/1727) C:\\Users\\bcw60\\OneDrive\\Desktop\\TestData\\walker_hos.mp4: 384x640 1 walker, 35.2ms\n",
      "video 1/1 (685/1727) C:\\Users\\bcw60\\OneDrive\\Desktop\\TestData\\walker_hos.mp4: 384x640 1 walker, 50.0ms\n",
      "video 1/1 (685/1727) C:\\Users\\bcw60\\OneDrive\\Desktop\\TestData\\walker_hos.mp4: 384x640 1 walker, 50.0ms\n",
      "video 1/1 (686/1727) C:\\Users\\bcw60\\OneDrive\\Desktop\\TestData\\walker_hos.mp4: 384x640 1 walker, 47.4ms\n",
      "video 1/1 (686/1727) C:\\Users\\bcw60\\OneDrive\\Desktop\\TestData\\walker_hos.mp4: 384x640 1 walker, 47.4ms\n",
      "video 1/1 (687/1727) C:\\Users\\bcw60\\OneDrive\\Desktop\\TestData\\walker_hos.mp4: 384x640 1 walker, 31.2ms\n",
      "video 1/1 (687/1727) C:\\Users\\bcw60\\OneDrive\\Desktop\\TestData\\walker_hos.mp4: 384x640 1 walker, 31.2ms\n",
      "video 1/1 (688/1727) C:\\Users\\bcw60\\OneDrive\\Desktop\\TestData\\walker_hos.mp4: 384x640 1 walker, 38.4ms\n",
      "video 1/1 (688/1727) C:\\Users\\bcw60\\OneDrive\\Desktop\\TestData\\walker_hos.mp4: 384x640 1 walker, 38.4ms\n",
      "video 1/1 (689/1727) C:\\Users\\bcw60\\OneDrive\\Desktop\\TestData\\walker_hos.mp4: 384x640 1 walker, 36.0ms\n",
      "video 1/1 (689/1727) C:\\Users\\bcw60\\OneDrive\\Desktop\\TestData\\walker_hos.mp4: 384x640 1 walker, 36.0ms\n",
      "video 1/1 (690/1727) C:\\Users\\bcw60\\OneDrive\\Desktop\\TestData\\walker_hos.mp4: 384x640 1 walker, 32.4ms\n",
      "video 1/1 (690/1727) C:\\Users\\bcw60\\OneDrive\\Desktop\\TestData\\walker_hos.mp4: 384x640 1 walker, 32.4ms\n",
      "video 1/1 (691/1727) C:\\Users\\bcw60\\OneDrive\\Desktop\\TestData\\walker_hos.mp4: 384x640 1 walker, 41.1ms\n",
      "video 1/1 (691/1727) C:\\Users\\bcw60\\OneDrive\\Desktop\\TestData\\walker_hos.mp4: 384x640 1 walker, 41.1ms\n",
      "video 1/1 (692/1727) C:\\Users\\bcw60\\OneDrive\\Desktop\\TestData\\walker_hos.mp4: 384x640 1 walker, 35.5ms\n",
      "video 1/1 (692/1727) C:\\Users\\bcw60\\OneDrive\\Desktop\\TestData\\walker_hos.mp4: 384x640 1 walker, 35.5ms\n",
      "video 1/1 (693/1727) C:\\Users\\bcw60\\OneDrive\\Desktop\\TestData\\walker_hos.mp4: 384x640 1 walker, 49.8ms\n",
      "video 1/1 (693/1727) C:\\Users\\bcw60\\OneDrive\\Desktop\\TestData\\walker_hos.mp4: 384x640 1 walker, 49.8ms\n",
      "video 1/1 (694/1727) C:\\Users\\bcw60\\OneDrive\\Desktop\\TestData\\walker_hos.mp4: 384x640 1 walker, 31.5ms\n",
      "video 1/1 (694/1727) C:\\Users\\bcw60\\OneDrive\\Desktop\\TestData\\walker_hos.mp4: 384x640 1 walker, 31.5ms\n",
      "video 1/1 (695/1727) C:\\Users\\bcw60\\OneDrive\\Desktop\\TestData\\walker_hos.mp4: 384x640 1 walker, 40.7ms\n",
      "video 1/1 (695/1727) C:\\Users\\bcw60\\OneDrive\\Desktop\\TestData\\walker_hos.mp4: 384x640 1 walker, 40.7ms\n",
      "video 1/1 (696/1727) C:\\Users\\bcw60\\OneDrive\\Desktop\\TestData\\walker_hos.mp4: 384x640 1 walker, 35.2ms\n",
      "video 1/1 (696/1727) C:\\Users\\bcw60\\OneDrive\\Desktop\\TestData\\walker_hos.mp4: 384x640 1 walker, 35.2ms\n",
      "video 1/1 (697/1727) C:\\Users\\bcw60\\OneDrive\\Desktop\\TestData\\walker_hos.mp4: 384x640 1 walker, 31.4ms\n",
      "video 1/1 (697/1727) C:\\Users\\bcw60\\OneDrive\\Desktop\\TestData\\walker_hos.mp4: 384x640 1 walker, 31.4ms\n",
      "video 1/1 (698/1727) C:\\Users\\bcw60\\OneDrive\\Desktop\\TestData\\walker_hos.mp4: 384x640 1 walker, 30.9ms\n",
      "video 1/1 (698/1727) C:\\Users\\bcw60\\OneDrive\\Desktop\\TestData\\walker_hos.mp4: 384x640 1 walker, 30.9ms\n",
      "video 1/1 (699/1727) C:\\Users\\bcw60\\OneDrive\\Desktop\\TestData\\walker_hos.mp4: 384x640 1 walker, 37.7ms\n",
      "video 1/1 (699/1727) C:\\Users\\bcw60\\OneDrive\\Desktop\\TestData\\walker_hos.mp4: 384x640 1 walker, 37.7ms\n",
      "video 1/1 (700/1727) C:\\Users\\bcw60\\OneDrive\\Desktop\\TestData\\walker_hos.mp4: 384x640 1 walker, 36.7ms\n",
      "video 1/1 (700/1727) C:\\Users\\bcw60\\OneDrive\\Desktop\\TestData\\walker_hos.mp4: 384x640 1 walker, 36.7ms\n",
      "video 1/1 (701/1727) C:\\Users\\bcw60\\OneDrive\\Desktop\\TestData\\walker_hos.mp4: 384x640 1 walker, 31.3ms\n",
      "video 1/1 (701/1727) C:\\Users\\bcw60\\OneDrive\\Desktop\\TestData\\walker_hos.mp4: 384x640 1 walker, 31.3ms\n",
      "video 1/1 (702/1727) C:\\Users\\bcw60\\OneDrive\\Desktop\\TestData\\walker_hos.mp4: 384x640 1 walker, 40.5ms\n",
      "video 1/1 (702/1727) C:\\Users\\bcw60\\OneDrive\\Desktop\\TestData\\walker_hos.mp4: 384x640 1 walker, 40.5ms\n",
      "video 1/1 (703/1727) C:\\Users\\bcw60\\OneDrive\\Desktop\\TestData\\walker_hos.mp4: 384x640 1 walker, 35.1ms\n",
      "video 1/1 (703/1727) C:\\Users\\bcw60\\OneDrive\\Desktop\\TestData\\walker_hos.mp4: 384x640 1 walker, 35.1ms\n",
      "video 1/1 (704/1727) C:\\Users\\bcw60\\OneDrive\\Desktop\\TestData\\walker_hos.mp4: 384x640 1 walker, 49.6ms\n",
      "video 1/1 (704/1727) C:\\Users\\bcw60\\OneDrive\\Desktop\\TestData\\walker_hos.mp4: 384x640 1 walker, 49.6ms\n",
      "video 1/1 (705/1727) C:\\Users\\bcw60\\OneDrive\\Desktop\\TestData\\walker_hos.mp4: 384x640 1 walker, 31.2ms\n",
      "video 1/1 (705/1727) C:\\Users\\bcw60\\OneDrive\\Desktop\\TestData\\walker_hos.mp4: 384x640 1 walker, 31.2ms\n",
      "video 1/1 (706/1727) C:\\Users\\bcw60\\OneDrive\\Desktop\\TestData\\walker_hos.mp4: 384x640 1 walker, 37.4ms\n",
      "video 1/1 (706/1727) C:\\Users\\bcw60\\OneDrive\\Desktop\\TestData\\walker_hos.mp4: 384x640 1 walker, 37.4ms\n",
      "video 1/1 (707/1727) C:\\Users\\bcw60\\OneDrive\\Desktop\\TestData\\walker_hos.mp4: 384x640 1 walker, 36.8ms\n",
      "video 1/1 (707/1727) C:\\Users\\bcw60\\OneDrive\\Desktop\\TestData\\walker_hos.mp4: 384x640 1 walker, 36.8ms\n",
      "video 1/1 (708/1727) C:\\Users\\bcw60\\OneDrive\\Desktop\\TestData\\walker_hos.mp4: 384x640 1 walker, 31.3ms\n",
      "video 1/1 (708/1727) C:\\Users\\bcw60\\OneDrive\\Desktop\\TestData\\walker_hos.mp4: 384x640 1 walker, 31.3ms\n",
      "video 1/1 (709/1727) C:\\Users\\bcw60\\OneDrive\\Desktop\\TestData\\walker_hos.mp4: 384x640 1 walker, 41.6ms\n",
      "video 1/1 (709/1727) C:\\Users\\bcw60\\OneDrive\\Desktop\\TestData\\walker_hos.mp4: 384x640 1 walker, 41.6ms\n",
      "video 1/1 (710/1727) C:\\Users\\bcw60\\OneDrive\\Desktop\\TestData\\walker_hos.mp4: 384x640 1 walker, 35.3ms\n",
      "video 1/1 (710/1727) C:\\Users\\bcw60\\OneDrive\\Desktop\\TestData\\walker_hos.mp4: 384x640 1 walker, 35.3ms\n",
      "video 1/1 (711/1727) C:\\Users\\bcw60\\OneDrive\\Desktop\\TestData\\walker_hos.mp4: 384x640 1 walker, 48.9ms\n",
      "video 1/1 (711/1727) C:\\Users\\bcw60\\OneDrive\\Desktop\\TestData\\walker_hos.mp4: 384x640 1 walker, 48.9ms\n",
      "video 1/1 (712/1727) C:\\Users\\bcw60\\OneDrive\\Desktop\\TestData\\walker_hos.mp4: 384x640 1 walker, 43.6ms\n",
      "video 1/1 (712/1727) C:\\Users\\bcw60\\OneDrive\\Desktop\\TestData\\walker_hos.mp4: 384x640 1 walker, 43.6ms\n",
      "video 1/1 (713/1727) C:\\Users\\bcw60\\OneDrive\\Desktop\\TestData\\walker_hos.mp4: 384x640 1 walker, 35.5ms\n",
      "video 1/1 (713/1727) C:\\Users\\bcw60\\OneDrive\\Desktop\\TestData\\walker_hos.mp4: 384x640 1 walker, 35.5ms\n",
      "video 1/1 (714/1727) C:\\Users\\bcw60\\OneDrive\\Desktop\\TestData\\walker_hos.mp4: 384x640 1 walker, 36.5ms\n",
      "video 1/1 (714/1727) C:\\Users\\bcw60\\OneDrive\\Desktop\\TestData\\walker_hos.mp4: 384x640 1 walker, 36.5ms\n",
      "video 1/1 (715/1727) C:\\Users\\bcw60\\OneDrive\\Desktop\\TestData\\walker_hos.mp4: 384x640 1 walker, 30.8ms\n",
      "video 1/1 (715/1727) C:\\Users\\bcw60\\OneDrive\\Desktop\\TestData\\walker_hos.mp4: 384x640 1 walker, 30.8ms\n",
      "video 1/1 (716/1727) C:\\Users\\bcw60\\OneDrive\\Desktop\\TestData\\walker_hos.mp4: 384x640 1 walker, 40.0ms\n",
      "video 1/1 (716/1727) C:\\Users\\bcw60\\OneDrive\\Desktop\\TestData\\walker_hos.mp4: 384x640 1 walker, 40.0ms\n",
      "video 1/1 (717/1727) C:\\Users\\bcw60\\OneDrive\\Desktop\\TestData\\walker_hos.mp4: 384x640 1 walker, 35.2ms\n",
      "video 1/1 (717/1727) C:\\Users\\bcw60\\OneDrive\\Desktop\\TestData\\walker_hos.mp4: 384x640 1 walker, 35.2ms\n",
      "video 1/1 (718/1727) C:\\Users\\bcw60\\OneDrive\\Desktop\\TestData\\walker_hos.mp4: 384x640 1 walker, 31.5ms\n",
      "video 1/1 (718/1727) C:\\Users\\bcw60\\OneDrive\\Desktop\\TestData\\walker_hos.mp4: 384x640 1 walker, 31.5ms\n",
      "video 1/1 (719/1727) C:\\Users\\bcw60\\OneDrive\\Desktop\\TestData\\walker_hos.mp4: 384x640 1 walker, 41.4ms\n",
      "video 1/1 (719/1727) C:\\Users\\bcw60\\OneDrive\\Desktop\\TestData\\walker_hos.mp4: 384x640 1 walker, 41.4ms\n",
      "video 1/1 (720/1727) C:\\Users\\bcw60\\OneDrive\\Desktop\\TestData\\walker_hos.mp4: 384x640 1 walker, 35.3ms\n",
      "video 1/1 (720/1727) C:\\Users\\bcw60\\OneDrive\\Desktop\\TestData\\walker_hos.mp4: 384x640 1 walker, 35.3ms\n",
      "video 1/1 (721/1727) C:\\Users\\bcw60\\OneDrive\\Desktop\\TestData\\walker_hos.mp4: 384x640 1 walker, 49.5ms\n",
      "video 1/1 (721/1727) C:\\Users\\bcw60\\OneDrive\\Desktop\\TestData\\walker_hos.mp4: 384x640 1 walker, 49.5ms\n",
      "video 1/1 (722/1727) C:\\Users\\bcw60\\OneDrive\\Desktop\\TestData\\walker_hos.mp4: 384x640 1 walker, 30.5ms\n",
      "video 1/1 (722/1727) C:\\Users\\bcw60\\OneDrive\\Desktop\\TestData\\walker_hos.mp4: 384x640 1 walker, 30.5ms\n",
      "video 1/1 (723/1727) C:\\Users\\bcw60\\OneDrive\\Desktop\\TestData\\walker_hos.mp4: 384x640 1 walker, 41.2ms\n",
      "video 1/1 (723/1727) C:\\Users\\bcw60\\OneDrive\\Desktop\\TestData\\walker_hos.mp4: 384x640 1 walker, 41.2ms\n",
      "video 1/1 (724/1727) C:\\Users\\bcw60\\OneDrive\\Desktop\\TestData\\walker_hos.mp4: 384x640 1 walker, 33.7ms\n",
      "video 1/1 (724/1727) C:\\Users\\bcw60\\OneDrive\\Desktop\\TestData\\walker_hos.mp4: 384x640 1 walker, 33.7ms\n",
      "video 1/1 (725/1727) C:\\Users\\bcw60\\OneDrive\\Desktop\\TestData\\walker_hos.mp4: 384x640 1 walker, 47.3ms\n",
      "video 1/1 (725/1727) C:\\Users\\bcw60\\OneDrive\\Desktop\\TestData\\walker_hos.mp4: 384x640 1 walker, 47.3ms\n",
      "video 1/1 (726/1727) C:\\Users\\bcw60\\OneDrive\\Desktop\\TestData\\walker_hos.mp4: 384x640 1 walker, 31.6ms\n",
      "video 1/1 (726/1727) C:\\Users\\bcw60\\OneDrive\\Desktop\\TestData\\walker_hos.mp4: 384x640 1 walker, 31.6ms\n",
      "video 1/1 (727/1727) C:\\Users\\bcw60\\OneDrive\\Desktop\\TestData\\walker_hos.mp4: 384x640 1 walker, 37.1ms\n",
      "video 1/1 (727/1727) C:\\Users\\bcw60\\OneDrive\\Desktop\\TestData\\walker_hos.mp4: 384x640 1 walker, 37.1ms\n",
      "video 1/1 (728/1727) C:\\Users\\bcw60\\OneDrive\\Desktop\\TestData\\walker_hos.mp4: 384x640 1 walker, 38.5ms\n",
      "video 1/1 (728/1727) C:\\Users\\bcw60\\OneDrive\\Desktop\\TestData\\walker_hos.mp4: 384x640 1 walker, 38.5ms\n",
      "video 1/1 (729/1727) C:\\Users\\bcw60\\OneDrive\\Desktop\\TestData\\walker_hos.mp4: 384x640 1 walker, 30.5ms\n",
      "video 1/1 (729/1727) C:\\Users\\bcw60\\OneDrive\\Desktop\\TestData\\walker_hos.mp4: 384x640 1 walker, 30.5ms\n",
      "video 1/1 (730/1727) C:\\Users\\bcw60\\OneDrive\\Desktop\\TestData\\walker_hos.mp4: 384x640 1 walker, 41.6ms\n",
      "video 1/1 (730/1727) C:\\Users\\bcw60\\OneDrive\\Desktop\\TestData\\walker_hos.mp4: 384x640 1 walker, 41.6ms\n",
      "video 1/1 (731/1727) C:\\Users\\bcw60\\OneDrive\\Desktop\\TestData\\walker_hos.mp4: 384x640 1 walker, 34.9ms\n",
      "video 1/1 (731/1727) C:\\Users\\bcw60\\OneDrive\\Desktop\\TestData\\walker_hos.mp4: 384x640 1 walker, 34.9ms\n",
      "video 1/1 (732/1727) C:\\Users\\bcw60\\OneDrive\\Desktop\\TestData\\walker_hos.mp4: 384x640 1 walker, 47.4ms\n",
      "video 1/1 (732/1727) C:\\Users\\bcw60\\OneDrive\\Desktop\\TestData\\walker_hos.mp4: 384x640 1 walker, 47.4ms\n",
      "video 1/1 (733/1727) C:\\Users\\bcw60\\OneDrive\\Desktop\\TestData\\walker_hos.mp4: 384x640 1 walker, 31.3ms\n",
      "video 1/1 (733/1727) C:\\Users\\bcw60\\OneDrive\\Desktop\\TestData\\walker_hos.mp4: 384x640 1 walker, 31.3ms\n",
      "video 1/1 (734/1727) C:\\Users\\bcw60\\OneDrive\\Desktop\\TestData\\walker_hos.mp4: 384x640 1 walker, 40.4ms\n",
      "video 1/1 (734/1727) C:\\Users\\bcw60\\OneDrive\\Desktop\\TestData\\walker_hos.mp4: 384x640 1 walker, 40.4ms\n",
      "video 1/1 (735/1727) C:\\Users\\bcw60\\OneDrive\\Desktop\\TestData\\walker_hos.mp4: 384x640 1 walker, 35.1ms\n",
      "video 1/1 (735/1727) C:\\Users\\bcw60\\OneDrive\\Desktop\\TestData\\walker_hos.mp4: 384x640 1 walker, 35.1ms\n",
      "video 1/1 (736/1727) C:\\Users\\bcw60\\OneDrive\\Desktop\\TestData\\walker_hos.mp4: 384x640 1 walker, 48.2ms\n",
      "video 1/1 (736/1727) C:\\Users\\bcw60\\OneDrive\\Desktop\\TestData\\walker_hos.mp4: 384x640 1 walker, 48.2ms\n",
      "video 1/1 (737/1727) C:\\Users\\bcw60\\OneDrive\\Desktop\\TestData\\walker_hos.mp4: 384x640 1 walker, 31.6ms\n",
      "video 1/1 (737/1727) C:\\Users\\bcw60\\OneDrive\\Desktop\\TestData\\walker_hos.mp4: 384x640 1 walker, 31.6ms\n",
      "video 1/1 (738/1727) C:\\Users\\bcw60\\OneDrive\\Desktop\\TestData\\walker_hos.mp4: 384x640 1 walker, 37.4ms\n",
      "video 1/1 (738/1727) C:\\Users\\bcw60\\OneDrive\\Desktop\\TestData\\walker_hos.mp4: 384x640 1 walker, 37.4ms\n",
      "video 1/1 (739/1727) C:\\Users\\bcw60\\OneDrive\\Desktop\\TestData\\walker_hos.mp4: 384x640 1 walker, 35.1ms\n",
      "video 1/1 (739/1727) C:\\Users\\bcw60\\OneDrive\\Desktop\\TestData\\walker_hos.mp4: 384x640 1 walker, 35.1ms\n",
      "video 1/1 (740/1727) C:\\Users\\bcw60\\OneDrive\\Desktop\\TestData\\walker_hos.mp4: 384x640 1 walker, 47.3ms\n",
      "video 1/1 (740/1727) C:\\Users\\bcw60\\OneDrive\\Desktop\\TestData\\walker_hos.mp4: 384x640 1 walker, 47.3ms\n",
      "video 1/1 (741/1727) C:\\Users\\bcw60\\OneDrive\\Desktop\\TestData\\walker_hos.mp4: 384x640 1 walker, 42.7ms\n",
      "video 1/1 (741/1727) C:\\Users\\bcw60\\OneDrive\\Desktop\\TestData\\walker_hos.mp4: 384x640 1 walker, 42.7ms\n",
      "video 1/1 (742/1727) C:\\Users\\bcw60\\OneDrive\\Desktop\\TestData\\walker_hos.mp4: 384x640 1 walker, 34.1ms\n",
      "video 1/1 (742/1727) C:\\Users\\bcw60\\OneDrive\\Desktop\\TestData\\walker_hos.mp4: 384x640 1 walker, 34.1ms\n",
      "video 1/1 (743/1727) C:\\Users\\bcw60\\OneDrive\\Desktop\\TestData\\walker_hos.mp4: 384x640 1 walker, 51.0ms\n",
      "video 1/1 (743/1727) C:\\Users\\bcw60\\OneDrive\\Desktop\\TestData\\walker_hos.mp4: 384x640 1 walker, 51.0ms\n",
      "video 1/1 (744/1727) C:\\Users\\bcw60\\OneDrive\\Desktop\\TestData\\walker_hos.mp4: 384x640 1 walker, 34.6ms\n",
      "video 1/1 (744/1727) C:\\Users\\bcw60\\OneDrive\\Desktop\\TestData\\walker_hos.mp4: 384x640 1 walker, 34.6ms\n",
      "video 1/1 (745/1727) C:\\Users\\bcw60\\OneDrive\\Desktop\\TestData\\walker_hos.mp4: 384x640 1 walker, 43.7ms\n",
      "video 1/1 (745/1727) C:\\Users\\bcw60\\OneDrive\\Desktop\\TestData\\walker_hos.mp4: 384x640 1 walker, 43.7ms\n",
      "video 1/1 (746/1727) C:\\Users\\bcw60\\OneDrive\\Desktop\\TestData\\walker_hos.mp4: 384x640 1 walker, 36.7ms\n",
      "video 1/1 (746/1727) C:\\Users\\bcw60\\OneDrive\\Desktop\\TestData\\walker_hos.mp4: 384x640 1 walker, 36.7ms\n",
      "video 1/1 (747/1727) C:\\Users\\bcw60\\OneDrive\\Desktop\\TestData\\walker_hos.mp4: 384x640 1 walker, 48.3ms\n",
      "video 1/1 (747/1727) C:\\Users\\bcw60\\OneDrive\\Desktop\\TestData\\walker_hos.mp4: 384x640 1 walker, 48.3ms\n",
      "video 1/1 (748/1727) C:\\Users\\bcw60\\OneDrive\\Desktop\\TestData\\walker_hos.mp4: 384x640 1 walker, 31.7ms\n",
      "video 1/1 (748/1727) C:\\Users\\bcw60\\OneDrive\\Desktop\\TestData\\walker_hos.mp4: 384x640 1 walker, 31.7ms\n",
      "video 1/1 (749/1727) C:\\Users\\bcw60\\OneDrive\\Desktop\\TestData\\walker_hos.mp4: 384x640 1 walker, 39.1ms\n",
      "video 1/1 (749/1727) C:\\Users\\bcw60\\OneDrive\\Desktop\\TestData\\walker_hos.mp4: 384x640 1 walker, 39.1ms\n",
      "video 1/1 (750/1727) C:\\Users\\bcw60\\OneDrive\\Desktop\\TestData\\walker_hos.mp4: 384x640 1 walker, 35.0ms\n",
      "video 1/1 (750/1727) C:\\Users\\bcw60\\OneDrive\\Desktop\\TestData\\walker_hos.mp4: 384x640 1 walker, 35.0ms\n",
      "video 1/1 (751/1727) C:\\Users\\bcw60\\OneDrive\\Desktop\\TestData\\walker_hos.mp4: 384x640 1 walker, 48.3ms\n",
      "video 1/1 (751/1727) C:\\Users\\bcw60\\OneDrive\\Desktop\\TestData\\walker_hos.mp4: 384x640 1 walker, 48.3ms\n",
      "video 1/1 (752/1727) C:\\Users\\bcw60\\OneDrive\\Desktop\\TestData\\walker_hos.mp4: 384x640 1 walker, 43.5ms\n",
      "video 1/1 (752/1727) C:\\Users\\bcw60\\OneDrive\\Desktop\\TestData\\walker_hos.mp4: 384x640 1 walker, 43.5ms\n",
      "video 1/1 (753/1727) C:\\Users\\bcw60\\OneDrive\\Desktop\\TestData\\walker_hos.mp4: 384x640 1 walker, 35.9ms\n",
      "video 1/1 (753/1727) C:\\Users\\bcw60\\OneDrive\\Desktop\\TestData\\walker_hos.mp4: 384x640 1 walker, 35.9ms\n",
      "video 1/1 (754/1727) C:\\Users\\bcw60\\OneDrive\\Desktop\\TestData\\walker_hos.mp4: 384x640 1 walker, 49.0ms\n",
      "video 1/1 (754/1727) C:\\Users\\bcw60\\OneDrive\\Desktop\\TestData\\walker_hos.mp4: 384x640 1 walker, 49.0ms\n",
      "video 1/1 (755/1727) C:\\Users\\bcw60\\OneDrive\\Desktop\\TestData\\walker_hos.mp4: 384x640 1 walker, 31.5ms\n",
      "video 1/1 (755/1727) C:\\Users\\bcw60\\OneDrive\\Desktop\\TestData\\walker_hos.mp4: 384x640 1 walker, 31.5ms\n",
      "video 1/1 (756/1727) C:\\Users\\bcw60\\OneDrive\\Desktop\\TestData\\walker_hos.mp4: 384x640 1 walker, 41.3ms\n",
      "video 1/1 (756/1727) C:\\Users\\bcw60\\OneDrive\\Desktop\\TestData\\walker_hos.mp4: 384x640 1 walker, 41.3ms\n",
      "video 1/1 (757/1727) C:\\Users\\bcw60\\OneDrive\\Desktop\\TestData\\walker_hos.mp4: 384x640 1 walker, 35.5ms\n",
      "video 1/1 (757/1727) C:\\Users\\bcw60\\OneDrive\\Desktop\\TestData\\walker_hos.mp4: 384x640 1 walker, 35.5ms\n",
      "video 1/1 (758/1727) C:\\Users\\bcw60\\OneDrive\\Desktop\\TestData\\walker_hos.mp4: 384x640 1 walker, 49.7ms\n",
      "video 1/1 (758/1727) C:\\Users\\bcw60\\OneDrive\\Desktop\\TestData\\walker_hos.mp4: 384x640 1 walker, 49.7ms\n",
      "video 1/1 (759/1727) C:\\Users\\bcw60\\OneDrive\\Desktop\\TestData\\walker_hos.mp4: 384x640 1 walker, 31.5ms\n",
      "video 1/1 (759/1727) C:\\Users\\bcw60\\OneDrive\\Desktop\\TestData\\walker_hos.mp4: 384x640 1 walker, 31.5ms\n",
      "video 1/1 (760/1727) C:\\Users\\bcw60\\OneDrive\\Desktop\\TestData\\walker_hos.mp4: 384x640 1 walker, 40.7ms\n",
      "video 1/1 (760/1727) C:\\Users\\bcw60\\OneDrive\\Desktop\\TestData\\walker_hos.mp4: 384x640 1 walker, 40.7ms\n",
      "video 1/1 (761/1727) C:\\Users\\bcw60\\OneDrive\\Desktop\\TestData\\walker_hos.mp4: 384x640 1 walker, 35.6ms\n",
      "video 1/1 (761/1727) C:\\Users\\bcw60\\OneDrive\\Desktop\\TestData\\walker_hos.mp4: 384x640 1 walker, 35.6ms\n",
      "video 1/1 (762/1727) C:\\Users\\bcw60\\OneDrive\\Desktop\\TestData\\walker_hos.mp4: 384x640 1 walker, 48.0ms\n",
      "video 1/1 (762/1727) C:\\Users\\bcw60\\OneDrive\\Desktop\\TestData\\walker_hos.mp4: 384x640 1 walker, 48.0ms\n",
      "video 1/1 (763/1727) C:\\Users\\bcw60\\OneDrive\\Desktop\\TestData\\walker_hos.mp4: 384x640 1 walker, 31.3ms\n",
      "video 1/1 (763/1727) C:\\Users\\bcw60\\OneDrive\\Desktop\\TestData\\walker_hos.mp4: 384x640 1 walker, 31.3ms\n",
      "video 1/1 (764/1727) C:\\Users\\bcw60\\OneDrive\\Desktop\\TestData\\walker_hos.mp4: 384x640 1 walker, 38.4ms\n",
      "video 1/1 (764/1727) C:\\Users\\bcw60\\OneDrive\\Desktop\\TestData\\walker_hos.mp4: 384x640 1 walker, 38.4ms\n",
      "video 1/1 (765/1727) C:\\Users\\bcw60\\OneDrive\\Desktop\\TestData\\walker_hos.mp4: 384x640 1 walker, 36.2ms\n",
      "video 1/1 (765/1727) C:\\Users\\bcw60\\OneDrive\\Desktop\\TestData\\walker_hos.mp4: 384x640 1 walker, 36.2ms\n",
      "video 1/1 (766/1727) C:\\Users\\bcw60\\OneDrive\\Desktop\\TestData\\walker_hos.mp4: 384x640 (no detections), 46.4ms\n",
      "video 1/1 (766/1727) C:\\Users\\bcw60\\OneDrive\\Desktop\\TestData\\walker_hos.mp4: 384x640 (no detections), 46.4ms\n",
      "video 1/1 (767/1727) C:\\Users\\bcw60\\OneDrive\\Desktop\\TestData\\walker_hos.mp4: 384x640 (no detections), 39.3ms\n",
      "video 1/1 (767/1727) C:\\Users\\bcw60\\OneDrive\\Desktop\\TestData\\walker_hos.mp4: 384x640 (no detections), 39.3ms\n",
      "video 1/1 (768/1727) C:\\Users\\bcw60\\OneDrive\\Desktop\\TestData\\walker_hos.mp4: 384x640 (no detections), 36.0ms\n",
      "video 1/1 (768/1727) C:\\Users\\bcw60\\OneDrive\\Desktop\\TestData\\walker_hos.mp4: 384x640 (no detections), 36.0ms\n",
      "video 1/1 (769/1727) C:\\Users\\bcw60\\OneDrive\\Desktop\\TestData\\walker_hos.mp4: 384x640 (no detections), 39.8ms\n",
      "video 1/1 (769/1727) C:\\Users\\bcw60\\OneDrive\\Desktop\\TestData\\walker_hos.mp4: 384x640 (no detections), 39.8ms\n",
      "video 1/1 (770/1727) C:\\Users\\bcw60\\OneDrive\\Desktop\\TestData\\walker_hos.mp4: 384x640 1 walker, 36.1ms\n",
      "video 1/1 (770/1727) C:\\Users\\bcw60\\OneDrive\\Desktop\\TestData\\walker_hos.mp4: 384x640 1 walker, 36.1ms\n",
      "video 1/1 (771/1727) C:\\Users\\bcw60\\OneDrive\\Desktop\\TestData\\walker_hos.mp4: 384x640 1 walker, 47.6ms\n",
      "video 1/1 (771/1727) C:\\Users\\bcw60\\OneDrive\\Desktop\\TestData\\walker_hos.mp4: 384x640 1 walker, 47.6ms\n",
      "video 1/1 (772/1727) C:\\Users\\bcw60\\OneDrive\\Desktop\\TestData\\walker_hos.mp4: 384x640 1 walker, 33.9ms\n",
      "video 1/1 (772/1727) C:\\Users\\bcw60\\OneDrive\\Desktop\\TestData\\walker_hos.mp4: 384x640 1 walker, 33.9ms\n",
      "video 1/1 (773/1727) C:\\Users\\bcw60\\OneDrive\\Desktop\\TestData\\walker_hos.mp4: 384x640 1 walker, 39.5ms\n",
      "video 1/1 (773/1727) C:\\Users\\bcw60\\OneDrive\\Desktop\\TestData\\walker_hos.mp4: 384x640 1 walker, 39.5ms\n",
      "video 1/1 (774/1727) C:\\Users\\bcw60\\OneDrive\\Desktop\\TestData\\walker_hos.mp4: 384x640 1 walker, 36.1ms\n",
      "video 1/1 (774/1727) C:\\Users\\bcw60\\OneDrive\\Desktop\\TestData\\walker_hos.mp4: 384x640 1 walker, 36.1ms\n",
      "video 1/1 (775/1727) C:\\Users\\bcw60\\OneDrive\\Desktop\\TestData\\walker_hos.mp4: 384x640 1 walker, 32.3ms\n",
      "video 1/1 (775/1727) C:\\Users\\bcw60\\OneDrive\\Desktop\\TestData\\walker_hos.mp4: 384x640 1 walker, 32.3ms\n",
      "video 1/1 (776/1727) C:\\Users\\bcw60\\OneDrive\\Desktop\\TestData\\walker_hos.mp4: 384x640 1 walker, 44.9ms\n",
      "video 1/1 (776/1727) C:\\Users\\bcw60\\OneDrive\\Desktop\\TestData\\walker_hos.mp4: 384x640 1 walker, 44.9ms\n",
      "video 1/1 (777/1727) C:\\Users\\bcw60\\OneDrive\\Desktop\\TestData\\walker_hos.mp4: 384x640 1 walker, 35.3ms\n",
      "video 1/1 (777/1727) C:\\Users\\bcw60\\OneDrive\\Desktop\\TestData\\walker_hos.mp4: 384x640 1 walker, 35.3ms\n",
      "video 1/1 (778/1727) C:\\Users\\bcw60\\OneDrive\\Desktop\\TestData\\walker_hos.mp4: 384x640 1 walker, 30.9ms\n",
      "video 1/1 (778/1727) C:\\Users\\bcw60\\OneDrive\\Desktop\\TestData\\walker_hos.mp4: 384x640 1 walker, 30.9ms\n",
      "video 1/1 (779/1727) C:\\Users\\bcw60\\OneDrive\\Desktop\\TestData\\walker_hos.mp4: 384x640 1 walker, 35.9ms\n",
      "video 1/1 (779/1727) C:\\Users\\bcw60\\OneDrive\\Desktop\\TestData\\walker_hos.mp4: 384x640 1 walker, 35.9ms\n",
      "video 1/1 (780/1727) C:\\Users\\bcw60\\OneDrive\\Desktop\\TestData\\walker_hos.mp4: 384x640 1 walker, 47.4ms\n",
      "video 1/1 (780/1727) C:\\Users\\bcw60\\OneDrive\\Desktop\\TestData\\walker_hos.mp4: 384x640 1 walker, 47.4ms\n",
      "video 1/1 (781/1727) C:\\Users\\bcw60\\OneDrive\\Desktop\\TestData\\walker_hos.mp4: 384x640 1 walker, 43.6ms\n",
      "video 1/1 (781/1727) C:\\Users\\bcw60\\OneDrive\\Desktop\\TestData\\walker_hos.mp4: 384x640 1 walker, 43.6ms\n",
      "video 1/1 (782/1727) C:\\Users\\bcw60\\OneDrive\\Desktop\\TestData\\walker_hos.mp4: 384x640 1 walker, 33.1ms\n",
      "video 1/1 (782/1727) C:\\Users\\bcw60\\OneDrive\\Desktop\\TestData\\walker_hos.mp4: 384x640 1 walker, 33.1ms\n",
      "video 1/1 (783/1727) C:\\Users\\bcw60\\OneDrive\\Desktop\\TestData\\walker_hos.mp4: 384x640 1 walker, 35.6ms\n",
      "video 1/1 (783/1727) C:\\Users\\bcw60\\OneDrive\\Desktop\\TestData\\walker_hos.mp4: 384x640 1 walker, 35.6ms\n",
      "video 1/1 (784/1727) C:\\Users\\bcw60\\OneDrive\\Desktop\\TestData\\walker_hos.mp4: 384x640 1 walker, 31.6ms\n",
      "video 1/1 (784/1727) C:\\Users\\bcw60\\OneDrive\\Desktop\\TestData\\walker_hos.mp4: 384x640 1 walker, 31.6ms\n",
      "video 1/1 (785/1727) C:\\Users\\bcw60\\OneDrive\\Desktop\\TestData\\walker_hos.mp4: 384x640 1 walker, 40.7ms\n",
      "video 1/1 (785/1727) C:\\Users\\bcw60\\OneDrive\\Desktop\\TestData\\walker_hos.mp4: 384x640 1 walker, 40.7ms\n",
      "video 1/1 (786/1727) C:\\Users\\bcw60\\OneDrive\\Desktop\\TestData\\walker_hos.mp4: 384x640 1 walker, 34.1ms\n",
      "video 1/1 (786/1727) C:\\Users\\bcw60\\OneDrive\\Desktop\\TestData\\walker_hos.mp4: 384x640 1 walker, 34.1ms\n",
      "video 1/1 (787/1727) C:\\Users\\bcw60\\OneDrive\\Desktop\\TestData\\walker_hos.mp4: 384x640 1 walker, 49.2ms\n",
      "video 1/1 (787/1727) C:\\Users\\bcw60\\OneDrive\\Desktop\\TestData\\walker_hos.mp4: 384x640 1 walker, 49.2ms\n",
      "video 1/1 (788/1727) C:\\Users\\bcw60\\OneDrive\\Desktop\\TestData\\walker_hos.mp4: 384x640 1 walker, 34.6ms\n",
      "video 1/1 (788/1727) C:\\Users\\bcw60\\OneDrive\\Desktop\\TestData\\walker_hos.mp4: 384x640 1 walker, 34.6ms\n",
      "video 1/1 (789/1727) C:\\Users\\bcw60\\OneDrive\\Desktop\\TestData\\walker_hos.mp4: 384x640 1 walker, 39.6ms\n",
      "video 1/1 (789/1727) C:\\Users\\bcw60\\OneDrive\\Desktop\\TestData\\walker_hos.mp4: 384x640 1 walker, 39.6ms\n",
      "video 1/1 (790/1727) C:\\Users\\bcw60\\OneDrive\\Desktop\\TestData\\walker_hos.mp4: 384x640 1 walker, 37.0ms\n",
      "video 1/1 (790/1727) C:\\Users\\bcw60\\OneDrive\\Desktop\\TestData\\walker_hos.mp4: 384x640 1 walker, 37.0ms\n",
      "video 1/1 (791/1727) C:\\Users\\bcw60\\OneDrive\\Desktop\\TestData\\walker_hos.mp4: 384x640 1 walker, 30.5ms\n",
      "video 1/1 (791/1727) C:\\Users\\bcw60\\OneDrive\\Desktop\\TestData\\walker_hos.mp4: 384x640 1 walker, 30.5ms\n",
      "video 1/1 (792/1727) C:\\Users\\bcw60\\OneDrive\\Desktop\\TestData\\walker_hos.mp4: 384x640 1 walker, 41.7ms\n",
      "video 1/1 (792/1727) C:\\Users\\bcw60\\OneDrive\\Desktop\\TestData\\walker_hos.mp4: 384x640 1 walker, 41.7ms\n",
      "video 1/1 (793/1727) C:\\Users\\bcw60\\OneDrive\\Desktop\\TestData\\walker_hos.mp4: 384x640 1 walker, 35.6ms\n",
      "video 1/1 (793/1727) C:\\Users\\bcw60\\OneDrive\\Desktop\\TestData\\walker_hos.mp4: 384x640 1 walker, 35.6ms\n",
      "video 1/1 (794/1727) C:\\Users\\bcw60\\OneDrive\\Desktop\\TestData\\walker_hos.mp4: 384x640 1 walker, 49.1ms\n",
      "video 1/1 (794/1727) C:\\Users\\bcw60\\OneDrive\\Desktop\\TestData\\walker_hos.mp4: 384x640 1 walker, 49.1ms\n",
      "video 1/1 (795/1727) C:\\Users\\bcw60\\OneDrive\\Desktop\\TestData\\walker_hos.mp4: 384x640 1 walker, 48.0ms\n",
      "video 1/1 (795/1727) C:\\Users\\bcw60\\OneDrive\\Desktop\\TestData\\walker_hos.mp4: 384x640 1 walker, 48.0ms\n",
      "video 1/1 (796/1727) C:\\Users\\bcw60\\OneDrive\\Desktop\\TestData\\walker_hos.mp4: 384x640 1 walker, 31.1ms\n",
      "video 1/1 (796/1727) C:\\Users\\bcw60\\OneDrive\\Desktop\\TestData\\walker_hos.mp4: 384x640 1 walker, 31.1ms\n",
      "video 1/1 (797/1727) C:\\Users\\bcw60\\OneDrive\\Desktop\\TestData\\walker_hos.mp4: 384x640 1 walker, 38.6ms\n",
      "video 1/1 (797/1727) C:\\Users\\bcw60\\OneDrive\\Desktop\\TestData\\walker_hos.mp4: 384x640 1 walker, 38.6ms\n",
      "video 1/1 (798/1727) C:\\Users\\bcw60\\OneDrive\\Desktop\\TestData\\walker_hos.mp4: 384x640 1 walker, 36.8ms\n",
      "video 1/1 (798/1727) C:\\Users\\bcw60\\OneDrive\\Desktop\\TestData\\walker_hos.mp4: 384x640 1 walker, 36.8ms\n",
      "video 1/1 (799/1727) C:\\Users\\bcw60\\OneDrive\\Desktop\\TestData\\walker_hos.mp4: 384x640 1 walker, 46.8ms\n",
      "video 1/1 (799/1727) C:\\Users\\bcw60\\OneDrive\\Desktop\\TestData\\walker_hos.mp4: 384x640 1 walker, 46.8ms\n",
      "video 1/1 (800/1727) C:\\Users\\bcw60\\OneDrive\\Desktop\\TestData\\walker_hos.mp4: 384x640 1 walker, 41.6ms\n",
      "video 1/1 (800/1727) C:\\Users\\bcw60\\OneDrive\\Desktop\\TestData\\walker_hos.mp4: 384x640 1 walker, 41.6ms\n",
      "video 1/1 (801/1727) C:\\Users\\bcw60\\OneDrive\\Desktop\\TestData\\walker_hos.mp4: 384x640 1 walker, 35.4ms\n",
      "video 1/1 (801/1727) C:\\Users\\bcw60\\OneDrive\\Desktop\\TestData\\walker_hos.mp4: 384x640 1 walker, 35.4ms\n",
      "video 1/1 (802/1727) C:\\Users\\bcw60\\OneDrive\\Desktop\\TestData\\walker_hos.mp4: 384x640 1 walker, 33.0ms\n",
      "video 1/1 (802/1727) C:\\Users\\bcw60\\OneDrive\\Desktop\\TestData\\walker_hos.mp4: 384x640 1 walker, 33.0ms\n",
      "video 1/1 (803/1727) C:\\Users\\bcw60\\OneDrive\\Desktop\\TestData\\walker_hos.mp4: 384x640 1 walker, 48.3ms\n",
      "video 1/1 (803/1727) C:\\Users\\bcw60\\OneDrive\\Desktop\\TestData\\walker_hos.mp4: 384x640 1 walker, 48.3ms\n",
      "video 1/1 (804/1727) C:\\Users\\bcw60\\OneDrive\\Desktop\\TestData\\walker_hos.mp4: 384x640 1 walker, 33.7ms\n",
      "video 1/1 (804/1727) C:\\Users\\bcw60\\OneDrive\\Desktop\\TestData\\walker_hos.mp4: 384x640 1 walker, 33.7ms\n",
      "video 1/1 (805/1727) C:\\Users\\bcw60\\OneDrive\\Desktop\\TestData\\walker_hos.mp4: 384x640 1 walker, 38.7ms\n",
      "video 1/1 (805/1727) C:\\Users\\bcw60\\OneDrive\\Desktop\\TestData\\walker_hos.mp4: 384x640 1 walker, 38.7ms\n",
      "video 1/1 (806/1727) C:\\Users\\bcw60\\OneDrive\\Desktop\\TestData\\walker_hos.mp4: 384x640 1 walker, 35.8ms\n",
      "video 1/1 (806/1727) C:\\Users\\bcw60\\OneDrive\\Desktop\\TestData\\walker_hos.mp4: 384x640 1 walker, 35.8ms\n",
      "video 1/1 (807/1727) C:\\Users\\bcw60\\OneDrive\\Desktop\\TestData\\walker_hos.mp4: 384x640 1 walker, 30.7ms\n",
      "video 1/1 (807/1727) C:\\Users\\bcw60\\OneDrive\\Desktop\\TestData\\walker_hos.mp4: 384x640 1 walker, 30.7ms\n",
      "video 1/1 (808/1727) C:\\Users\\bcw60\\OneDrive\\Desktop\\TestData\\walker_hos.mp4: 384x640 1 walker, 31.3ms\n",
      "video 1/1 (808/1727) C:\\Users\\bcw60\\OneDrive\\Desktop\\TestData\\walker_hos.mp4: 384x640 1 walker, 31.3ms\n",
      "video 1/1 (809/1727) C:\\Users\\bcw60\\OneDrive\\Desktop\\TestData\\walker_hos.mp4: 384x640 1 walker, 38.3ms\n",
      "video 1/1 (809/1727) C:\\Users\\bcw60\\OneDrive\\Desktop\\TestData\\walker_hos.mp4: 384x640 1 walker, 38.3ms\n",
      "video 1/1 (810/1727) C:\\Users\\bcw60\\OneDrive\\Desktop\\TestData\\walker_hos.mp4: 384x640 1 walker, 36.6ms\n",
      "video 1/1 (810/1727) C:\\Users\\bcw60\\OneDrive\\Desktop\\TestData\\walker_hos.mp4: 384x640 1 walker, 36.6ms\n",
      "video 1/1 (811/1727) C:\\Users\\bcw60\\OneDrive\\Desktop\\TestData\\walker_hos.mp4: 384x640 1 walker, 27.1ms\n",
      "video 1/1 (811/1727) C:\\Users\\bcw60\\OneDrive\\Desktop\\TestData\\walker_hos.mp4: 384x640 1 walker, 27.1ms\n",
      "video 1/1 (812/1727) C:\\Users\\bcw60\\OneDrive\\Desktop\\TestData\\walker_hos.mp4: 384x640 1 walker, 30.2ms\n",
      "video 1/1 (812/1727) C:\\Users\\bcw60\\OneDrive\\Desktop\\TestData\\walker_hos.mp4: 384x640 1 walker, 30.2ms\n",
      "video 1/1 (813/1727) C:\\Users\\bcw60\\OneDrive\\Desktop\\TestData\\walker_hos.mp4: 384x640 1 walker, 33.8ms\n",
      "video 1/1 (813/1727) C:\\Users\\bcw60\\OneDrive\\Desktop\\TestData\\walker_hos.mp4: 384x640 1 walker, 33.8ms\n",
      "video 1/1 (814/1727) C:\\Users\\bcw60\\OneDrive\\Desktop\\TestData\\walker_hos.mp4: 384x640 1 walker, 48.5ms\n",
      "video 1/1 (814/1727) C:\\Users\\bcw60\\OneDrive\\Desktop\\TestData\\walker_hos.mp4: 384x640 1 walker, 48.5ms\n",
      "video 1/1 (815/1727) C:\\Users\\bcw60\\OneDrive\\Desktop\\TestData\\walker_hos.mp4: 384x640 1 walker, 43.6ms\n",
      "video 1/1 (815/1727) C:\\Users\\bcw60\\OneDrive\\Desktop\\TestData\\walker_hos.mp4: 384x640 1 walker, 43.6ms\n",
      "video 1/1 (816/1727) C:\\Users\\bcw60\\OneDrive\\Desktop\\TestData\\walker_hos.mp4: 384x640 1 walker, 32.5ms\n",
      "video 1/1 (816/1727) C:\\Users\\bcw60\\OneDrive\\Desktop\\TestData\\walker_hos.mp4: 384x640 1 walker, 32.5ms\n",
      "video 1/1 (817/1727) C:\\Users\\bcw60\\OneDrive\\Desktop\\TestData\\walker_hos.mp4: 384x640 1 walker, 50.1ms\n",
      "video 1/1 (817/1727) C:\\Users\\bcw60\\OneDrive\\Desktop\\TestData\\walker_hos.mp4: 384x640 1 walker, 50.1ms\n",
      "video 1/1 (818/1727) C:\\Users\\bcw60\\OneDrive\\Desktop\\TestData\\walker_hos.mp4: 384x640 1 walker, 31.4ms\n",
      "video 1/1 (818/1727) C:\\Users\\bcw60\\OneDrive\\Desktop\\TestData\\walker_hos.mp4: 384x640 1 walker, 31.4ms\n",
      "video 1/1 (819/1727) C:\\Users\\bcw60\\OneDrive\\Desktop\\TestData\\walker_hos.mp4: 384x640 1 walker, 41.3ms\n",
      "video 1/1 (819/1727) C:\\Users\\bcw60\\OneDrive\\Desktop\\TestData\\walker_hos.mp4: 384x640 1 walker, 41.3ms\n",
      "video 1/1 (820/1727) C:\\Users\\bcw60\\OneDrive\\Desktop\\TestData\\walker_hos.mp4: 384x640 1 walker, 35.3ms\n",
      "video 1/1 (820/1727) C:\\Users\\bcw60\\OneDrive\\Desktop\\TestData\\walker_hos.mp4: 384x640 1 walker, 35.3ms\n",
      "video 1/1 (821/1727) C:\\Users\\bcw60\\OneDrive\\Desktop\\TestData\\walker_hos.mp4: 384x640 1 walker, 48.3ms\n",
      "video 1/1 (821/1727) C:\\Users\\bcw60\\OneDrive\\Desktop\\TestData\\walker_hos.mp4: 384x640 1 walker, 48.3ms\n",
      "video 1/1 (822/1727) C:\\Users\\bcw60\\OneDrive\\Desktop\\TestData\\walker_hos.mp4: 384x640 1 walker, 31.0ms\n",
      "video 1/1 (822/1727) C:\\Users\\bcw60\\OneDrive\\Desktop\\TestData\\walker_hos.mp4: 384x640 1 walker, 31.0ms\n",
      "video 1/1 (823/1727) C:\\Users\\bcw60\\OneDrive\\Desktop\\TestData\\walker_hos.mp4: 384x640 1 walker, 39.8ms\n",
      "video 1/1 (823/1727) C:\\Users\\bcw60\\OneDrive\\Desktop\\TestData\\walker_hos.mp4: 384x640 1 walker, 39.8ms\n",
      "video 1/1 (824/1727) C:\\Users\\bcw60\\OneDrive\\Desktop\\TestData\\walker_hos.mp4: 384x640 1 walker, 36.4ms\n",
      "video 1/1 (824/1727) C:\\Users\\bcw60\\OneDrive\\Desktop\\TestData\\walker_hos.mp4: 384x640 1 walker, 36.4ms\n",
      "video 1/1 (825/1727) C:\\Users\\bcw60\\OneDrive\\Desktop\\TestData\\walker_hos.mp4: 384x640 1 walker, 46.2ms\n",
      "video 1/1 (825/1727) C:\\Users\\bcw60\\OneDrive\\Desktop\\TestData\\walker_hos.mp4: 384x640 1 walker, 46.2ms\n",
      "video 1/1 (826/1727) C:\\Users\\bcw60\\OneDrive\\Desktop\\TestData\\walker_hos.mp4: 384x640 1 walker, 31.6ms\n",
      "video 1/1 (826/1727) C:\\Users\\bcw60\\OneDrive\\Desktop\\TestData\\walker_hos.mp4: 384x640 1 walker, 31.6ms\n",
      "video 1/1 (827/1727) C:\\Users\\bcw60\\OneDrive\\Desktop\\TestData\\walker_hos.mp4: 384x640 1 walker, 37.7ms\n",
      "video 1/1 (827/1727) C:\\Users\\bcw60\\OneDrive\\Desktop\\TestData\\walker_hos.mp4: 384x640 1 walker, 37.7ms\n",
      "video 1/1 (828/1727) C:\\Users\\bcw60\\OneDrive\\Desktop\\TestData\\walker_hos.mp4: 384x640 1 walker, 37.3ms\n",
      "video 1/1 (828/1727) C:\\Users\\bcw60\\OneDrive\\Desktop\\TestData\\walker_hos.mp4: 384x640 1 walker, 37.3ms\n",
      "video 1/1 (829/1727) C:\\Users\\bcw60\\OneDrive\\Desktop\\TestData\\walker_hos.mp4: 384x640 1 walker, 31.5ms\n",
      "video 1/1 (829/1727) C:\\Users\\bcw60\\OneDrive\\Desktop\\TestData\\walker_hos.mp4: 384x640 1 walker, 31.5ms\n",
      "video 1/1 (830/1727) C:\\Users\\bcw60\\OneDrive\\Desktop\\TestData\\walker_hos.mp4: 384x640 1 walker, 39.5ms\n",
      "video 1/1 (830/1727) C:\\Users\\bcw60\\OneDrive\\Desktop\\TestData\\walker_hos.mp4: 384x640 1 walker, 39.5ms\n",
      "video 1/1 (831/1727) C:\\Users\\bcw60\\OneDrive\\Desktop\\TestData\\walker_hos.mp4: 384x640 1 walker, 36.2ms\n",
      "video 1/1 (831/1727) C:\\Users\\bcw60\\OneDrive\\Desktop\\TestData\\walker_hos.mp4: 384x640 1 walker, 36.2ms\n",
      "video 1/1 (832/1727) C:\\Users\\bcw60\\OneDrive\\Desktop\\TestData\\walker_hos.mp4: 384x640 1 walker, 48.3ms\n",
      "video 1/1 (832/1727) C:\\Users\\bcw60\\OneDrive\\Desktop\\TestData\\walker_hos.mp4: 384x640 1 walker, 48.3ms\n",
      "video 1/1 (833/1727) C:\\Users\\bcw60\\OneDrive\\Desktop\\TestData\\walker_hos.mp4: 384x640 1 walker, 44.6ms\n",
      "video 1/1 (833/1727) C:\\Users\\bcw60\\OneDrive\\Desktop\\TestData\\walker_hos.mp4: 384x640 1 walker, 44.6ms\n",
      "video 1/1 (834/1727) C:\\Users\\bcw60\\OneDrive\\Desktop\\TestData\\walker_hos.mp4: 384x640 1 walker, 35.0ms\n",
      "video 1/1 (834/1727) C:\\Users\\bcw60\\OneDrive\\Desktop\\TestData\\walker_hos.mp4: 384x640 1 walker, 35.0ms\n",
      "video 1/1 (835/1727) C:\\Users\\bcw60\\OneDrive\\Desktop\\TestData\\walker_hos.mp4: 384x640 1 walker, 50.4ms\n",
      "video 1/1 (835/1727) C:\\Users\\bcw60\\OneDrive\\Desktop\\TestData\\walker_hos.mp4: 384x640 1 walker, 50.4ms\n",
      "video 1/1 (836/1727) C:\\Users\\bcw60\\OneDrive\\Desktop\\TestData\\walker_hos.mp4: 384x640 1 walker, 31.3ms\n",
      "video 1/1 (836/1727) C:\\Users\\bcw60\\OneDrive\\Desktop\\TestData\\walker_hos.mp4: 384x640 1 walker, 31.3ms\n",
      "video 1/1 (837/1727) C:\\Users\\bcw60\\OneDrive\\Desktop\\TestData\\walker_hos.mp4: 384x640 1 walker, 40.1ms\n",
      "video 1/1 (837/1727) C:\\Users\\bcw60\\OneDrive\\Desktop\\TestData\\walker_hos.mp4: 384x640 1 walker, 40.1ms\n",
      "video 1/1 (838/1727) C:\\Users\\bcw60\\OneDrive\\Desktop\\TestData\\walker_hos.mp4: 384x640 1 walker, 35.3ms\n",
      "video 1/1 (838/1727) C:\\Users\\bcw60\\OneDrive\\Desktop\\TestData\\walker_hos.mp4: 384x640 1 walker, 35.3ms\n",
      "video 1/1 (839/1727) C:\\Users\\bcw60\\OneDrive\\Desktop\\TestData\\walker_hos.mp4: 384x640 1 walker, 45.5ms\n",
      "video 1/1 (839/1727) C:\\Users\\bcw60\\OneDrive\\Desktop\\TestData\\walker_hos.mp4: 384x640 1 walker, 45.5ms\n",
      "video 1/1 (840/1727) C:\\Users\\bcw60\\OneDrive\\Desktop\\TestData\\walker_hos.mp4: 384x640 1 walker, 35.2ms\n",
      "video 1/1 (840/1727) C:\\Users\\bcw60\\OneDrive\\Desktop\\TestData\\walker_hos.mp4: 384x640 1 walker, 35.2ms\n",
      "video 1/1 (841/1727) C:\\Users\\bcw60\\OneDrive\\Desktop\\TestData\\walker_hos.mp4: 384x640 1 walker, 33.1ms\n",
      "video 1/1 (841/1727) C:\\Users\\bcw60\\OneDrive\\Desktop\\TestData\\walker_hos.mp4: 384x640 1 walker, 33.1ms\n",
      "video 1/1 (842/1727) C:\\Users\\bcw60\\OneDrive\\Desktop\\TestData\\walker_hos.mp4: 384x640 1 walker, 49.3ms\n",
      "video 1/1 (842/1727) C:\\Users\\bcw60\\OneDrive\\Desktop\\TestData\\walker_hos.mp4: 384x640 1 walker, 49.3ms\n",
      "video 1/1 (843/1727) C:\\Users\\bcw60\\OneDrive\\Desktop\\TestData\\walker_hos.mp4: 384x640 1 walker, 33.7ms\n",
      "video 1/1 (843/1727) C:\\Users\\bcw60\\OneDrive\\Desktop\\TestData\\walker_hos.mp4: 384x640 1 walker, 33.7ms\n",
      "video 1/1 (844/1727) C:\\Users\\bcw60\\OneDrive\\Desktop\\TestData\\walker_hos.mp4: 384x640 1 walker, 38.8ms\n",
      "video 1/1 (844/1727) C:\\Users\\bcw60\\OneDrive\\Desktop\\TestData\\walker_hos.mp4: 384x640 1 walker, 38.8ms\n",
      "video 1/1 (845/1727) C:\\Users\\bcw60\\OneDrive\\Desktop\\TestData\\walker_hos.mp4: 384x640 1 walker, 37.1ms\n",
      "video 1/1 (845/1727) C:\\Users\\bcw60\\OneDrive\\Desktop\\TestData\\walker_hos.mp4: 384x640 1 walker, 37.1ms\n",
      "video 1/1 (846/1727) C:\\Users\\bcw60\\OneDrive\\Desktop\\TestData\\walker_hos.mp4: 384x640 1 walker, 31.0ms\n",
      "video 1/1 (846/1727) C:\\Users\\bcw60\\OneDrive\\Desktop\\TestData\\walker_hos.mp4: 384x640 1 walker, 31.0ms\n",
      "video 1/1 (847/1727) C:\\Users\\bcw60\\OneDrive\\Desktop\\TestData\\walker_hos.mp4: 384x640 1 walker, 39.4ms\n",
      "video 1/1 (847/1727) C:\\Users\\bcw60\\OneDrive\\Desktop\\TestData\\walker_hos.mp4: 384x640 1 walker, 39.4ms\n",
      "video 1/1 (848/1727) C:\\Users\\bcw60\\OneDrive\\Desktop\\TestData\\walker_hos.mp4: 384x640 1 walker, 37.0ms\n",
      "video 1/1 (848/1727) C:\\Users\\bcw60\\OneDrive\\Desktop\\TestData\\walker_hos.mp4: 384x640 1 walker, 37.0ms\n",
      "video 1/1 (849/1727) C:\\Users\\bcw60\\OneDrive\\Desktop\\TestData\\walker_hos.mp4: 384x640 1 walker, 46.1ms\n",
      "video 1/1 (849/1727) C:\\Users\\bcw60\\OneDrive\\Desktop\\TestData\\walker_hos.mp4: 384x640 1 walker, 46.1ms\n",
      "video 1/1 (850/1727) C:\\Users\\bcw60\\OneDrive\\Desktop\\TestData\\walker_hos.mp4: 384x640 1 walker, 42.5ms\n",
      "video 1/1 (850/1727) C:\\Users\\bcw60\\OneDrive\\Desktop\\TestData\\walker_hos.mp4: 384x640 1 walker, 42.5ms\n",
      "video 1/1 (851/1727) C:\\Users\\bcw60\\OneDrive\\Desktop\\TestData\\walker_hos.mp4: 384x640 1 walker, 35.3ms\n",
      "video 1/1 (851/1727) C:\\Users\\bcw60\\OneDrive\\Desktop\\TestData\\walker_hos.mp4: 384x640 1 walker, 35.3ms\n",
      "video 1/1 (852/1727) C:\\Users\\bcw60\\OneDrive\\Desktop\\TestData\\walker_hos.mp4: 384x640 1 walker, 49.4ms\n",
      "video 1/1 (852/1727) C:\\Users\\bcw60\\OneDrive\\Desktop\\TestData\\walker_hos.mp4: 384x640 1 walker, 49.4ms\n",
      "video 1/1 (853/1727) C:\\Users\\bcw60\\OneDrive\\Desktop\\TestData\\walker_hos.mp4: 384x640 1 walker, 30.8ms\n",
      "video 1/1 (853/1727) C:\\Users\\bcw60\\OneDrive\\Desktop\\TestData\\walker_hos.mp4: 384x640 1 walker, 30.8ms\n",
      "video 1/1 (854/1727) C:\\Users\\bcw60\\OneDrive\\Desktop\\TestData\\walker_hos.mp4: 384x640 1 walker, 40.5ms\n",
      "video 1/1 (854/1727) C:\\Users\\bcw60\\OneDrive\\Desktop\\TestData\\walker_hos.mp4: 384x640 1 walker, 40.5ms\n",
      "video 1/1 (855/1727) C:\\Users\\bcw60\\OneDrive\\Desktop\\TestData\\walker_hos.mp4: 384x640 1 walker, 34.6ms\n",
      "video 1/1 (855/1727) C:\\Users\\bcw60\\OneDrive\\Desktop\\TestData\\walker_hos.mp4: 384x640 1 walker, 34.6ms\n",
      "video 1/1 (856/1727) C:\\Users\\bcw60\\OneDrive\\Desktop\\TestData\\walker_hos.mp4: 384x640 1 walker, 47.6ms\n",
      "video 1/1 (856/1727) C:\\Users\\bcw60\\OneDrive\\Desktop\\TestData\\walker_hos.mp4: 384x640 1 walker, 47.6ms\n",
      "video 1/1 (857/1727) C:\\Users\\bcw60\\OneDrive\\Desktop\\TestData\\walker_hos.mp4: 384x640 1 walker, 31.3ms\n",
      "video 1/1 (857/1727) C:\\Users\\bcw60\\OneDrive\\Desktop\\TestData\\walker_hos.mp4: 384x640 1 walker, 31.3ms\n",
      "video 1/1 (858/1727) C:\\Users\\bcw60\\OneDrive\\Desktop\\TestData\\walker_hos.mp4: 384x640 1 walker, 37.2ms\n",
      "video 1/1 (858/1727) C:\\Users\\bcw60\\OneDrive\\Desktop\\TestData\\walker_hos.mp4: 384x640 1 walker, 37.2ms\n",
      "video 1/1 (859/1727) C:\\Users\\bcw60\\OneDrive\\Desktop\\TestData\\walker_hos.mp4: 384x640 1 walker, 37.1ms\n",
      "video 1/1 (859/1727) C:\\Users\\bcw60\\OneDrive\\Desktop\\TestData\\walker_hos.mp4: 384x640 1 walker, 37.1ms\n",
      "video 1/1 (860/1727) C:\\Users\\bcw60\\OneDrive\\Desktop\\TestData\\walker_hos.mp4: 384x640 1 walker, 31.4ms\n",
      "video 1/1 (860/1727) C:\\Users\\bcw60\\OneDrive\\Desktop\\TestData\\walker_hos.mp4: 384x640 1 walker, 31.4ms\n",
      "video 1/1 (861/1727) C:\\Users\\bcw60\\OneDrive\\Desktop\\TestData\\walker_hos.mp4: 384x640 1 walker, 39.4ms\n",
      "video 1/1 (861/1727) C:\\Users\\bcw60\\OneDrive\\Desktop\\TestData\\walker_hos.mp4: 384x640 1 walker, 39.4ms\n",
      "video 1/1 (862/1727) C:\\Users\\bcw60\\OneDrive\\Desktop\\TestData\\walker_hos.mp4: 384x640 1 walker, 35.2ms\n",
      "video 1/1 (862/1727) C:\\Users\\bcw60\\OneDrive\\Desktop\\TestData\\walker_hos.mp4: 384x640 1 walker, 35.2ms\n",
      "video 1/1 (863/1727) C:\\Users\\bcw60\\OneDrive\\Desktop\\TestData\\walker_hos.mp4: 384x640 1 walker, 31.6ms\n",
      "video 1/1 (863/1727) C:\\Users\\bcw60\\OneDrive\\Desktop\\TestData\\walker_hos.mp4: 384x640 1 walker, 31.6ms\n",
      "video 1/1 (864/1727) C:\\Users\\bcw60\\OneDrive\\Desktop\\TestData\\walker_hos.mp4: 384x640 1 walker, 41.9ms\n",
      "video 1/1 (864/1727) C:\\Users\\bcw60\\OneDrive\\Desktop\\TestData\\walker_hos.mp4: 384x640 1 walker, 41.9ms\n",
      "video 1/1 (865/1727) C:\\Users\\bcw60\\OneDrive\\Desktop\\TestData\\walker_hos.mp4: 384x640 1 walker, 36.3ms\n",
      "video 1/1 (865/1727) C:\\Users\\bcw60\\OneDrive\\Desktop\\TestData\\walker_hos.mp4: 384x640 1 walker, 36.3ms\n",
      "video 1/1 (866/1727) C:\\Users\\bcw60\\OneDrive\\Desktop\\TestData\\walker_hos.mp4: 384x640 1 walker, 34.9ms\n",
      "video 1/1 (866/1727) C:\\Users\\bcw60\\OneDrive\\Desktop\\TestData\\walker_hos.mp4: 384x640 1 walker, 34.9ms\n",
      "video 1/1 (867/1727) C:\\Users\\bcw60\\OneDrive\\Desktop\\TestData\\walker_hos.mp4: 384x640 1 walker, 31.5ms\n",
      "video 1/1 (867/1727) C:\\Users\\bcw60\\OneDrive\\Desktop\\TestData\\walker_hos.mp4: 384x640 1 walker, 31.5ms\n",
      "video 1/1 (868/1727) C:\\Users\\bcw60\\OneDrive\\Desktop\\TestData\\walker_hos.mp4: 384x640 1 walker, 42.4ms\n",
      "video 1/1 (868/1727) C:\\Users\\bcw60\\OneDrive\\Desktop\\TestData\\walker_hos.mp4: 384x640 1 walker, 42.4ms\n",
      "video 1/1 (869/1727) C:\\Users\\bcw60\\OneDrive\\Desktop\\TestData\\walker_hos.mp4: 384x640 1 walker, 35.7ms\n",
      "video 1/1 (869/1727) C:\\Users\\bcw60\\OneDrive\\Desktop\\TestData\\walker_hos.mp4: 384x640 1 walker, 35.7ms\n",
      "video 1/1 (870/1727) C:\\Users\\bcw60\\OneDrive\\Desktop\\TestData\\walker_hos.mp4: 384x640 1 walker, 50.0ms\n",
      "video 1/1 (870/1727) C:\\Users\\bcw60\\OneDrive\\Desktop\\TestData\\walker_hos.mp4: 384x640 1 walker, 50.0ms\n",
      "video 1/1 (871/1727) C:\\Users\\bcw60\\OneDrive\\Desktop\\TestData\\walker_hos.mp4: 384x640 1 walker, 30.9ms\n",
      "video 1/1 (871/1727) C:\\Users\\bcw60\\OneDrive\\Desktop\\TestData\\walker_hos.mp4: 384x640 1 walker, 30.9ms\n",
      "video 1/1 (872/1727) C:\\Users\\bcw60\\OneDrive\\Desktop\\TestData\\walker_hos.mp4: 384x640 1 walker, 40.6ms\n",
      "video 1/1 (872/1727) C:\\Users\\bcw60\\OneDrive\\Desktop\\TestData\\walker_hos.mp4: 384x640 1 walker, 40.6ms\n",
      "video 1/1 (873/1727) C:\\Users\\bcw60\\OneDrive\\Desktop\\TestData\\walker_hos.mp4: 384x640 1 walker, 34.5ms\n",
      "video 1/1 (873/1727) C:\\Users\\bcw60\\OneDrive\\Desktop\\TestData\\walker_hos.mp4: 384x640 1 walker, 34.5ms\n",
      "video 1/1 (874/1727) C:\\Users\\bcw60\\OneDrive\\Desktop\\TestData\\walker_hos.mp4: 384x640 1 walker, 48.5ms\n",
      "video 1/1 (874/1727) C:\\Users\\bcw60\\OneDrive\\Desktop\\TestData\\walker_hos.mp4: 384x640 1 walker, 48.5ms\n",
      "video 1/1 (875/1727) C:\\Users\\bcw60\\OneDrive\\Desktop\\TestData\\walker_hos.mp4: 384x640 1 walker, 43.7ms\n",
      "video 1/1 (875/1727) C:\\Users\\bcw60\\OneDrive\\Desktop\\TestData\\walker_hos.mp4: 384x640 1 walker, 43.7ms\n",
      "video 1/1 (876/1727) C:\\Users\\bcw60\\OneDrive\\Desktop\\TestData\\walker_hos.mp4: 384x640 1 walker, 35.3ms\n",
      "video 1/1 (876/1727) C:\\Users\\bcw60\\OneDrive\\Desktop\\TestData\\walker_hos.mp4: 384x640 1 walker, 35.3ms\n",
      "video 1/1 (877/1727) C:\\Users\\bcw60\\OneDrive\\Desktop\\TestData\\walker_hos.mp4: 384x640 1 walker, 50.6ms\n",
      "video 1/1 (877/1727) C:\\Users\\bcw60\\OneDrive\\Desktop\\TestData\\walker_hos.mp4: 384x640 1 walker, 50.6ms\n",
      "video 1/1 (878/1727) C:\\Users\\bcw60\\OneDrive\\Desktop\\TestData\\walker_hos.mp4: 384x640 1 walker, 47.8ms\n",
      "video 1/1 (878/1727) C:\\Users\\bcw60\\OneDrive\\Desktop\\TestData\\walker_hos.mp4: 384x640 1 walker, 47.8ms\n",
      "video 1/1 (879/1727) C:\\Users\\bcw60\\OneDrive\\Desktop\\TestData\\walker_hos.mp4: 384x640 1 walker, 31.4ms\n",
      "video 1/1 (879/1727) C:\\Users\\bcw60\\OneDrive\\Desktop\\TestData\\walker_hos.mp4: 384x640 1 walker, 31.4ms\n",
      "video 1/1 (880/1727) C:\\Users\\bcw60\\OneDrive\\Desktop\\TestData\\walker_hos.mp4: 384x640 1 walker, 36.9ms\n",
      "video 1/1 (880/1727) C:\\Users\\bcw60\\OneDrive\\Desktop\\TestData\\walker_hos.mp4: 384x640 1 walker, 36.9ms\n",
      "video 1/1 (881/1727) C:\\Users\\bcw60\\OneDrive\\Desktop\\TestData\\walker_hos.mp4: 384x640 1 walker, 37.0ms\n",
      "video 1/1 (881/1727) C:\\Users\\bcw60\\OneDrive\\Desktop\\TestData\\walker_hos.mp4: 384x640 1 walker, 37.0ms\n",
      "video 1/1 (882/1727) C:\\Users\\bcw60\\OneDrive\\Desktop\\TestData\\walker_hos.mp4: 384x640 1 walker, 44.5ms\n",
      "video 1/1 (882/1727) C:\\Users\\bcw60\\OneDrive\\Desktop\\TestData\\walker_hos.mp4: 384x640 1 walker, 44.5ms\n",
      "video 1/1 (883/1727) C:\\Users\\bcw60\\OneDrive\\Desktop\\TestData\\walker_hos.mp4: 384x640 1 walker, 35.2ms\n",
      "video 1/1 (883/1727) C:\\Users\\bcw60\\OneDrive\\Desktop\\TestData\\walker_hos.mp4: 384x640 1 walker, 35.2ms\n",
      "video 1/1 (884/1727) C:\\Users\\bcw60\\OneDrive\\Desktop\\TestData\\walker_hos.mp4: 384x640 1 walker, 35.4ms\n",
      "video 1/1 (884/1727) C:\\Users\\bcw60\\OneDrive\\Desktop\\TestData\\walker_hos.mp4: 384x640 1 walker, 35.4ms\n",
      "video 1/1 (885/1727) C:\\Users\\bcw60\\OneDrive\\Desktop\\TestData\\walker_hos.mp4: 384x640 1 walker, 48.8ms\n",
      "video 1/1 (885/1727) C:\\Users\\bcw60\\OneDrive\\Desktop\\TestData\\walker_hos.mp4: 384x640 1 walker, 48.8ms\n",
      "video 1/1 (886/1727) C:\\Users\\bcw60\\OneDrive\\Desktop\\TestData\\walker_hos.mp4: 384x640 1 walker, 42.6ms\n",
      "video 1/1 (886/1727) C:\\Users\\bcw60\\OneDrive\\Desktop\\TestData\\walker_hos.mp4: 384x640 1 walker, 42.6ms\n",
      "video 1/1 (887/1727) C:\\Users\\bcw60\\OneDrive\\Desktop\\TestData\\walker_hos.mp4: 384x640 1 walker, 40.4ms\n",
      "video 1/1 (887/1727) C:\\Users\\bcw60\\OneDrive\\Desktop\\TestData\\walker_hos.mp4: 384x640 1 walker, 40.4ms\n",
      "video 1/1 (888/1727) C:\\Users\\bcw60\\OneDrive\\Desktop\\TestData\\walker_hos.mp4: 384x640 1 walker, 34.5ms\n",
      "video 1/1 (888/1727) C:\\Users\\bcw60\\OneDrive\\Desktop\\TestData\\walker_hos.mp4: 384x640 1 walker, 34.5ms\n",
      "video 1/1 (889/1727) C:\\Users\\bcw60\\OneDrive\\Desktop\\TestData\\walker_hos.mp4: 384x640 1 walker, 50.2ms\n",
      "video 1/1 (889/1727) C:\\Users\\bcw60\\OneDrive\\Desktop\\TestData\\walker_hos.mp4: 384x640 1 walker, 50.2ms\n",
      "video 1/1 (890/1727) C:\\Users\\bcw60\\OneDrive\\Desktop\\TestData\\walker_hos.mp4: 384x640 1 walker, 31.3ms\n",
      "video 1/1 (890/1727) C:\\Users\\bcw60\\OneDrive\\Desktop\\TestData\\walker_hos.mp4: 384x640 1 walker, 31.3ms\n",
      "video 1/1 (891/1727) C:\\Users\\bcw60\\OneDrive\\Desktop\\TestData\\walker_hos.mp4: 384x640 1 walker, 40.1ms\n",
      "video 1/1 (891/1727) C:\\Users\\bcw60\\OneDrive\\Desktop\\TestData\\walker_hos.mp4: 384x640 1 walker, 40.1ms\n",
      "video 1/1 (892/1727) C:\\Users\\bcw60\\OneDrive\\Desktop\\TestData\\walker_hos.mp4: 384x640 1 walker, 34.5ms\n",
      "video 1/1 (892/1727) C:\\Users\\bcw60\\OneDrive\\Desktop\\TestData\\walker_hos.mp4: 384x640 1 walker, 34.5ms\n",
      "video 1/1 (893/1727) C:\\Users\\bcw60\\OneDrive\\Desktop\\TestData\\walker_hos.mp4: 384x640 1 walker, 31.7ms\n",
      "video 1/1 (893/1727) C:\\Users\\bcw60\\OneDrive\\Desktop\\TestData\\walker_hos.mp4: 384x640 1 walker, 31.7ms\n",
      "video 1/1 (894/1727) C:\\Users\\bcw60\\OneDrive\\Desktop\\TestData\\walker_hos.mp4: 384x640 1 walker, 42.1ms\n",
      "video 1/1 (894/1727) C:\\Users\\bcw60\\OneDrive\\Desktop\\TestData\\walker_hos.mp4: 384x640 1 walker, 42.1ms\n",
      "video 1/1 (895/1727) C:\\Users\\bcw60\\OneDrive\\Desktop\\TestData\\walker_hos.mp4: 384x640 1 walker, 43.2ms\n",
      "video 1/1 (895/1727) C:\\Users\\bcw60\\OneDrive\\Desktop\\TestData\\walker_hos.mp4: 384x640 1 walker, 43.2ms\n",
      "video 1/1 (896/1727) C:\\Users\\bcw60\\OneDrive\\Desktop\\TestData\\walker_hos.mp4: 384x640 1 walker, 33.8ms\n",
      "video 1/1 (896/1727) C:\\Users\\bcw60\\OneDrive\\Desktop\\TestData\\walker_hos.mp4: 384x640 1 walker, 33.8ms\n",
      "video 1/1 (897/1727) C:\\Users\\bcw60\\OneDrive\\Desktop\\TestData\\walker_hos.mp4: 384x640 1 walker, 49.6ms\n",
      "video 1/1 (897/1727) C:\\Users\\bcw60\\OneDrive\\Desktop\\TestData\\walker_hos.mp4: 384x640 1 walker, 49.6ms\n",
      "video 1/1 (898/1727) C:\\Users\\bcw60\\OneDrive\\Desktop\\TestData\\walker_hos.mp4: 384x640 1 walker, 42.8ms\n",
      "video 1/1 (898/1727) C:\\Users\\bcw60\\OneDrive\\Desktop\\TestData\\walker_hos.mp4: 384x640 1 walker, 42.8ms\n",
      "video 1/1 (899/1727) C:\\Users\\bcw60\\OneDrive\\Desktop\\TestData\\walker_hos.mp4: 384x640 1 walker, 38.6ms\n",
      "video 1/1 (899/1727) C:\\Users\\bcw60\\OneDrive\\Desktop\\TestData\\walker_hos.mp4: 384x640 1 walker, 38.6ms\n",
      "video 1/1 (900/1727) C:\\Users\\bcw60\\OneDrive\\Desktop\\TestData\\walker_hos.mp4: 384x640 1 walker, 37.9ms\n",
      "video 1/1 (900/1727) C:\\Users\\bcw60\\OneDrive\\Desktop\\TestData\\walker_hos.mp4: 384x640 1 walker, 37.9ms\n",
      "video 1/1 (901/1727) C:\\Users\\bcw60\\OneDrive\\Desktop\\TestData\\walker_hos.mp4: 384x640 1 walker, 30.6ms\n",
      "video 1/1 (901/1727) C:\\Users\\bcw60\\OneDrive\\Desktop\\TestData\\walker_hos.mp4: 384x640 1 walker, 30.6ms\n",
      "video 1/1 (902/1727) C:\\Users\\bcw60\\OneDrive\\Desktop\\TestData\\walker_hos.mp4: 384x640 1 walker, 47.8ms\n",
      "video 1/1 (902/1727) C:\\Users\\bcw60\\OneDrive\\Desktop\\TestData\\walker_hos.mp4: 384x640 1 walker, 47.8ms\n",
      "video 1/1 (903/1727) C:\\Users\\bcw60\\OneDrive\\Desktop\\TestData\\walker_hos.mp4: 384x640 1 walker, 43.8ms\n",
      "video 1/1 (903/1727) C:\\Users\\bcw60\\OneDrive\\Desktop\\TestData\\walker_hos.mp4: 384x640 1 walker, 43.8ms\n",
      "video 1/1 (904/1727) C:\\Users\\bcw60\\OneDrive\\Desktop\\TestData\\walker_hos.mp4: 384x640 1 walker, 35.3ms\n",
      "video 1/1 (904/1727) C:\\Users\\bcw60\\OneDrive\\Desktop\\TestData\\walker_hos.mp4: 384x640 1 walker, 35.3ms\n",
      "video 1/1 (905/1727) C:\\Users\\bcw60\\OneDrive\\Desktop\\TestData\\walker_hos.mp4: 384x640 1 walker, 34.9ms\n",
      "video 1/1 (905/1727) C:\\Users\\bcw60\\OneDrive\\Desktop\\TestData\\walker_hos.mp4: 384x640 1 walker, 34.9ms\n",
      "video 1/1 (906/1727) C:\\Users\\bcw60\\OneDrive\\Desktop\\TestData\\walker_hos.mp4: 384x640 1 walker, 31.6ms\n",
      "video 1/1 (906/1727) C:\\Users\\bcw60\\OneDrive\\Desktop\\TestData\\walker_hos.mp4: 384x640 1 walker, 31.6ms\n",
      "video 1/1 (907/1727) C:\\Users\\bcw60\\OneDrive\\Desktop\\TestData\\walker_hos.mp4: 384x640 1 walker, 40.3ms\n",
      "video 1/1 (907/1727) C:\\Users\\bcw60\\OneDrive\\Desktop\\TestData\\walker_hos.mp4: 384x640 1 walker, 40.3ms\n",
      "video 1/1 (908/1727) C:\\Users\\bcw60\\OneDrive\\Desktop\\TestData\\walker_hos.mp4: 384x640 1 walker, 40.6ms\n",
      "video 1/1 (908/1727) C:\\Users\\bcw60\\OneDrive\\Desktop\\TestData\\walker_hos.mp4: 384x640 1 walker, 40.6ms\n",
      "video 1/1 (909/1727) C:\\Users\\bcw60\\OneDrive\\Desktop\\TestData\\walker_hos.mp4: 384x640 1 walker, 34.7ms\n",
      "video 1/1 (909/1727) C:\\Users\\bcw60\\OneDrive\\Desktop\\TestData\\walker_hos.mp4: 384x640 1 walker, 34.7ms\n",
      "video 1/1 (910/1727) C:\\Users\\bcw60\\OneDrive\\Desktop\\TestData\\walker_hos.mp4: 384x640 1 walker, 32.1ms\n",
      "video 1/1 (910/1727) C:\\Users\\bcw60\\OneDrive\\Desktop\\TestData\\walker_hos.mp4: 384x640 1 walker, 32.1ms\n",
      "video 1/1 (911/1727) C:\\Users\\bcw60\\OneDrive\\Desktop\\TestData\\walker_hos.mp4: 384x640 1 walker, 42.3ms\n",
      "video 1/1 (911/1727) C:\\Users\\bcw60\\OneDrive\\Desktop\\TestData\\walker_hos.mp4: 384x640 1 walker, 42.3ms\n",
      "video 1/1 (912/1727) C:\\Users\\bcw60\\OneDrive\\Desktop\\TestData\\walker_hos.mp4: 384x640 1 walker, 36.1ms\n",
      "video 1/1 (912/1727) C:\\Users\\bcw60\\OneDrive\\Desktop\\TestData\\walker_hos.mp4: 384x640 1 walker, 36.1ms\n",
      "video 1/1 (913/1727) C:\\Users\\bcw60\\OneDrive\\Desktop\\TestData\\walker_hos.mp4: 384x640 1 walker, 49.7ms\n",
      "video 1/1 (913/1727) C:\\Users\\bcw60\\OneDrive\\Desktop\\TestData\\walker_hos.mp4: 384x640 1 walker, 49.7ms\n",
      "video 1/1 (914/1727) C:\\Users\\bcw60\\OneDrive\\Desktop\\TestData\\walker_hos.mp4: 384x640 1 walker, 30.0ms\n",
      "video 1/1 (914/1727) C:\\Users\\bcw60\\OneDrive\\Desktop\\TestData\\walker_hos.mp4: 384x640 1 walker, 30.0ms\n",
      "video 1/1 (915/1727) C:\\Users\\bcw60\\OneDrive\\Desktop\\TestData\\walker_hos.mp4: 384x640 1 walker, 42.0ms\n",
      "video 1/1 (915/1727) C:\\Users\\bcw60\\OneDrive\\Desktop\\TestData\\walker_hos.mp4: 384x640 1 walker, 42.0ms\n",
      "video 1/1 (916/1727) C:\\Users\\bcw60\\OneDrive\\Desktop\\TestData\\walker_hos.mp4: 384x640 1 walker, 31.2ms\n",
      "video 1/1 (916/1727) C:\\Users\\bcw60\\OneDrive\\Desktop\\TestData\\walker_hos.mp4: 384x640 1 walker, 31.2ms\n",
      "video 1/1 (917/1727) C:\\Users\\bcw60\\OneDrive\\Desktop\\TestData\\walker_hos.mp4: 384x640 (no detections), 35.0ms\n",
      "video 1/1 (917/1727) C:\\Users\\bcw60\\OneDrive\\Desktop\\TestData\\walker_hos.mp4: 384x640 (no detections), 35.0ms\n",
      "video 1/1 (918/1727) C:\\Users\\bcw60\\OneDrive\\Desktop\\TestData\\walker_hos.mp4: 384x640 (no detections), 31.4ms\n",
      "video 1/1 (918/1727) C:\\Users\\bcw60\\OneDrive\\Desktop\\TestData\\walker_hos.mp4: 384x640 (no detections), 31.4ms\n",
      "video 1/1 (919/1727) C:\\Users\\bcw60\\OneDrive\\Desktop\\TestData\\walker_hos.mp4: 384x640 (no detections), 39.4ms\n",
      "video 1/1 (919/1727) C:\\Users\\bcw60\\OneDrive\\Desktop\\TestData\\walker_hos.mp4: 384x640 (no detections), 39.4ms\n",
      "video 1/1 (920/1727) C:\\Users\\bcw60\\OneDrive\\Desktop\\TestData\\walker_hos.mp4: 384x640 (no detections), 36.3ms\n",
      "video 1/1 (920/1727) C:\\Users\\bcw60\\OneDrive\\Desktop\\TestData\\walker_hos.mp4: 384x640 (no detections), 36.3ms\n",
      "video 1/1 (921/1727) C:\\Users\\bcw60\\OneDrive\\Desktop\\TestData\\walker_hos.mp4: 384x640 (no detections), 38.6ms\n",
      "video 1/1 (921/1727) C:\\Users\\bcw60\\OneDrive\\Desktop\\TestData\\walker_hos.mp4: 384x640 (no detections), 38.6ms\n",
      "video 1/1 (922/1727) C:\\Users\\bcw60\\OneDrive\\Desktop\\TestData\\walker_hos.mp4: 384x640 (no detections), 22.0ms\n",
      "video 1/1 (922/1727) C:\\Users\\bcw60\\OneDrive\\Desktop\\TestData\\walker_hos.mp4: 384x640 (no detections), 22.0ms\n",
      "video 1/1 (923/1727) C:\\Users\\bcw60\\OneDrive\\Desktop\\TestData\\walker_hos.mp4: 384x640 (no detections), 38.1ms\n",
      "video 1/1 (923/1727) C:\\Users\\bcw60\\OneDrive\\Desktop\\TestData\\walker_hos.mp4: 384x640 (no detections), 38.1ms\n",
      "video 1/1 (924/1727) C:\\Users\\bcw60\\OneDrive\\Desktop\\TestData\\walker_hos.mp4: 384x640 (no detections), 21.0ms\n",
      "video 1/1 (924/1727) C:\\Users\\bcw60\\OneDrive\\Desktop\\TestData\\walker_hos.mp4: 384x640 (no detections), 21.0ms\n",
      "video 1/1 (925/1727) C:\\Users\\bcw60\\OneDrive\\Desktop\\TestData\\walker_hos.mp4: 384x640 (no detections), 38.1ms\n",
      "video 1/1 (925/1727) C:\\Users\\bcw60\\OneDrive\\Desktop\\TestData\\walker_hos.mp4: 384x640 (no detections), 38.1ms\n",
      "video 1/1 (926/1727) C:\\Users\\bcw60\\OneDrive\\Desktop\\TestData\\walker_hos.mp4: 384x640 (no detections), 38.0ms\n",
      "video 1/1 (926/1727) C:\\Users\\bcw60\\OneDrive\\Desktop\\TestData\\walker_hos.mp4: 384x640 (no detections), 38.0ms\n",
      "video 1/1 (927/1727) C:\\Users\\bcw60\\OneDrive\\Desktop\\TestData\\walker_hos.mp4: 384x640 (no detections), 29.1ms\n",
      "video 1/1 (927/1727) C:\\Users\\bcw60\\OneDrive\\Desktop\\TestData\\walker_hos.mp4: 384x640 (no detections), 29.1ms\n",
      "video 1/1 (928/1727) C:\\Users\\bcw60\\OneDrive\\Desktop\\TestData\\walker_hos.mp4: 384x640 (no detections), 49.2ms\n",
      "video 1/1 (928/1727) C:\\Users\\bcw60\\OneDrive\\Desktop\\TestData\\walker_hos.mp4: 384x640 (no detections), 49.2ms\n",
      "video 1/1 (929/1727) C:\\Users\\bcw60\\OneDrive\\Desktop\\TestData\\walker_hos.mp4: 384x640 (no detections), 41.5ms\n",
      "video 1/1 (929/1727) C:\\Users\\bcw60\\OneDrive\\Desktop\\TestData\\walker_hos.mp4: 384x640 (no detections), 41.5ms\n",
      "video 1/1 (930/1727) C:\\Users\\bcw60\\OneDrive\\Desktop\\TestData\\walker_hos.mp4: 384x640 (no detections), 33.9ms\n",
      "video 1/1 (930/1727) C:\\Users\\bcw60\\OneDrive\\Desktop\\TestData\\walker_hos.mp4: 384x640 (no detections), 33.9ms\n",
      "video 1/1 (931/1727) C:\\Users\\bcw60\\OneDrive\\Desktop\\TestData\\walker_hos.mp4: 384x640 (no detections), 43.5ms\n",
      "video 1/1 (931/1727) C:\\Users\\bcw60\\OneDrive\\Desktop\\TestData\\walker_hos.mp4: 384x640 (no detections), 43.5ms\n",
      "video 1/1 (932/1727) C:\\Users\\bcw60\\OneDrive\\Desktop\\TestData\\walker_hos.mp4: 384x640 (no detections), 35.3ms\n",
      "video 1/1 (932/1727) C:\\Users\\bcw60\\OneDrive\\Desktop\\TestData\\walker_hos.mp4: 384x640 (no detections), 35.3ms\n",
      "video 1/1 (933/1727) C:\\Users\\bcw60\\OneDrive\\Desktop\\TestData\\walker_hos.mp4: 384x640 (no detections), 43.5ms\n",
      "video 1/1 (933/1727) C:\\Users\\bcw60\\OneDrive\\Desktop\\TestData\\walker_hos.mp4: 384x640 (no detections), 43.5ms\n",
      "video 1/1 (934/1727) C:\\Users\\bcw60\\OneDrive\\Desktop\\TestData\\walker_hos.mp4: 384x640 (no detections), 35.6ms\n",
      "video 1/1 (934/1727) C:\\Users\\bcw60\\OneDrive\\Desktop\\TestData\\walker_hos.mp4: 384x640 (no detections), 35.6ms\n",
      "video 1/1 (935/1727) C:\\Users\\bcw60\\OneDrive\\Desktop\\TestData\\walker_hos.mp4: 384x640 (no detections), 31.1ms\n",
      "video 1/1 (935/1727) C:\\Users\\bcw60\\OneDrive\\Desktop\\TestData\\walker_hos.mp4: 384x640 (no detections), 31.1ms\n",
      "video 1/1 (936/1727) C:\\Users\\bcw60\\OneDrive\\Desktop\\TestData\\walker_hos.mp4: 384x640 (no detections), 37.4ms\n",
      "video 1/1 (936/1727) C:\\Users\\bcw60\\OneDrive\\Desktop\\TestData\\walker_hos.mp4: 384x640 (no detections), 37.4ms\n",
      "video 1/1 (937/1727) C:\\Users\\bcw60\\OneDrive\\Desktop\\TestData\\walker_hos.mp4: 384x640 (no detections), 24.8ms\n",
      "video 1/1 (937/1727) C:\\Users\\bcw60\\OneDrive\\Desktop\\TestData\\walker_hos.mp4: 384x640 (no detections), 24.8ms\n",
      "video 1/1 (938/1727) C:\\Users\\bcw60\\OneDrive\\Desktop\\TestData\\walker_hos.mp4: 384x640 (no detections), 34.8ms\n",
      "video 1/1 (938/1727) C:\\Users\\bcw60\\OneDrive\\Desktop\\TestData\\walker_hos.mp4: 384x640 (no detections), 34.8ms\n",
      "video 1/1 (939/1727) C:\\Users\\bcw60\\OneDrive\\Desktop\\TestData\\walker_hos.mp4: 384x640 (no detections), 43.2ms\n",
      "video 1/1 (939/1727) C:\\Users\\bcw60\\OneDrive\\Desktop\\TestData\\walker_hos.mp4: 384x640 (no detections), 43.2ms\n",
      "video 1/1 (940/1727) C:\\Users\\bcw60\\OneDrive\\Desktop\\TestData\\walker_hos.mp4: 384x640 (no detections), 38.3ms\n",
      "video 1/1 (940/1727) C:\\Users\\bcw60\\OneDrive\\Desktop\\TestData\\walker_hos.mp4: 384x640 (no detections), 38.3ms\n",
      "video 1/1 (941/1727) C:\\Users\\bcw60\\OneDrive\\Desktop\\TestData\\walker_hos.mp4: 384x640 (no detections), 23.6ms\n",
      "video 1/1 (941/1727) C:\\Users\\bcw60\\OneDrive\\Desktop\\TestData\\walker_hos.mp4: 384x640 (no detections), 23.6ms\n",
      "video 1/1 (942/1727) C:\\Users\\bcw60\\OneDrive\\Desktop\\TestData\\walker_hos.mp4: 384x640 (no detections), 31.8ms\n",
      "video 1/1 (942/1727) C:\\Users\\bcw60\\OneDrive\\Desktop\\TestData\\walker_hos.mp4: 384x640 (no detections), 31.8ms\n",
      "video 1/1 (943/1727) C:\\Users\\bcw60\\OneDrive\\Desktop\\TestData\\walker_hos.mp4: 384x640 (no detections), 46.8ms\n",
      "video 1/1 (943/1727) C:\\Users\\bcw60\\OneDrive\\Desktop\\TestData\\walker_hos.mp4: 384x640 (no detections), 46.8ms\n",
      "video 1/1 (944/1727) C:\\Users\\bcw60\\OneDrive\\Desktop\\TestData\\walker_hos.mp4: 384x640 (no detections), 40.4ms\n",
      "video 1/1 (944/1727) C:\\Users\\bcw60\\OneDrive\\Desktop\\TestData\\walker_hos.mp4: 384x640 (no detections), 40.4ms\n",
      "video 1/1 (945/1727) C:\\Users\\bcw60\\OneDrive\\Desktop\\TestData\\walker_hos.mp4: 384x640 (no detections), 37.2ms\n",
      "video 1/1 (945/1727) C:\\Users\\bcw60\\OneDrive\\Desktop\\TestData\\walker_hos.mp4: 384x640 (no detections), 37.2ms\n",
      "video 1/1 (946/1727) C:\\Users\\bcw60\\OneDrive\\Desktop\\TestData\\walker_hos.mp4: 384x640 (no detections), 36.3ms\n",
      "video 1/1 (946/1727) C:\\Users\\bcw60\\OneDrive\\Desktop\\TestData\\walker_hos.mp4: 384x640 (no detections), 36.3ms\n",
      "video 1/1 (947/1727) C:\\Users\\bcw60\\OneDrive\\Desktop\\TestData\\walker_hos.mp4: 384x640 (no detections), 36.0ms\n",
      "video 1/1 (947/1727) C:\\Users\\bcw60\\OneDrive\\Desktop\\TestData\\walker_hos.mp4: 384x640 (no detections), 36.0ms\n",
      "video 1/1 (948/1727) C:\\Users\\bcw60\\OneDrive\\Desktop\\TestData\\walker_hos.mp4: 384x640 (no detections), 32.0ms\n",
      "video 1/1 (948/1727) C:\\Users\\bcw60\\OneDrive\\Desktop\\TestData\\walker_hos.mp4: 384x640 (no detections), 32.0ms\n",
      "video 1/1 (949/1727) C:\\Users\\bcw60\\OneDrive\\Desktop\\TestData\\walker_hos.mp4: 384x640 (no detections), 30.4ms\n",
      "video 1/1 (949/1727) C:\\Users\\bcw60\\OneDrive\\Desktop\\TestData\\walker_hos.mp4: 384x640 (no detections), 30.4ms\n",
      "video 1/1 (950/1727) C:\\Users\\bcw60\\OneDrive\\Desktop\\TestData\\walker_hos.mp4: 384x640 (no detections), 38.3ms\n",
      "video 1/1 (950/1727) C:\\Users\\bcw60\\OneDrive\\Desktop\\TestData\\walker_hos.mp4: 384x640 (no detections), 38.3ms\n",
      "video 1/1 (951/1727) C:\\Users\\bcw60\\OneDrive\\Desktop\\TestData\\walker_hos.mp4: 384x640 (no detections), 35.4ms\n",
      "video 1/1 (951/1727) C:\\Users\\bcw60\\OneDrive\\Desktop\\TestData\\walker_hos.mp4: 384x640 (no detections), 35.4ms\n",
      "video 1/1 (952/1727) C:\\Users\\bcw60\\OneDrive\\Desktop\\TestData\\walker_hos.mp4: 384x640 (no detections), 38.0ms\n",
      "video 1/1 (952/1727) C:\\Users\\bcw60\\OneDrive\\Desktop\\TestData\\walker_hos.mp4: 384x640 (no detections), 38.0ms\n",
      "video 1/1 (953/1727) C:\\Users\\bcw60\\OneDrive\\Desktop\\TestData\\walker_hos.mp4: 384x640 (no detections), 27.8ms\n",
      "video 1/1 (953/1727) C:\\Users\\bcw60\\OneDrive\\Desktop\\TestData\\walker_hos.mp4: 384x640 (no detections), 27.8ms\n",
      "video 1/1 (954/1727) C:\\Users\\bcw60\\OneDrive\\Desktop\\TestData\\walker_hos.mp4: 384x640 (no detections), 38.3ms\n",
      "video 1/1 (954/1727) C:\\Users\\bcw60\\OneDrive\\Desktop\\TestData\\walker_hos.mp4: 384x640 (no detections), 38.3ms\n",
      "video 1/1 (955/1727) C:\\Users\\bcw60\\OneDrive\\Desktop\\TestData\\walker_hos.mp4: 384x640 (no detections), 24.1ms\n",
      "video 1/1 (955/1727) C:\\Users\\bcw60\\OneDrive\\Desktop\\TestData\\walker_hos.mp4: 384x640 (no detections), 24.1ms\n",
      "video 1/1 (956/1727) C:\\Users\\bcw60\\OneDrive\\Desktop\\TestData\\walker_hos.mp4: 384x640 (no detections), 37.3ms\n",
      "video 1/1 (956/1727) C:\\Users\\bcw60\\OneDrive\\Desktop\\TestData\\walker_hos.mp4: 384x640 (no detections), 37.3ms\n",
      "video 1/1 (957/1727) C:\\Users\\bcw60\\OneDrive\\Desktop\\TestData\\walker_hos.mp4: 384x640 (no detections), 27.3ms\n",
      "video 1/1 (957/1727) C:\\Users\\bcw60\\OneDrive\\Desktop\\TestData\\walker_hos.mp4: 384x640 (no detections), 27.3ms\n",
      "video 1/1 (958/1727) C:\\Users\\bcw60\\OneDrive\\Desktop\\TestData\\walker_hos.mp4: 384x640 (no detections), 34.5ms\n",
      "video 1/1 (958/1727) C:\\Users\\bcw60\\OneDrive\\Desktop\\TestData\\walker_hos.mp4: 384x640 (no detections), 34.5ms\n",
      "video 1/1 (959/1727) C:\\Users\\bcw60\\OneDrive\\Desktop\\TestData\\walker_hos.mp4: 384x640 (no detections), 30.8ms\n",
      "video 1/1 (959/1727) C:\\Users\\bcw60\\OneDrive\\Desktop\\TestData\\walker_hos.mp4: 384x640 (no detections), 30.8ms\n",
      "video 1/1 (960/1727) C:\\Users\\bcw60\\OneDrive\\Desktop\\TestData\\walker_hos.mp4: 384x640 (no detections), 38.3ms\n",
      "video 1/1 (960/1727) C:\\Users\\bcw60\\OneDrive\\Desktop\\TestData\\walker_hos.mp4: 384x640 (no detections), 38.3ms\n",
      "video 1/1 (961/1727) C:\\Users\\bcw60\\OneDrive\\Desktop\\TestData\\walker_hos.mp4: 384x640 (no detections), 36.0ms\n",
      "video 1/1 (961/1727) C:\\Users\\bcw60\\OneDrive\\Desktop\\TestData\\walker_hos.mp4: 384x640 (no detections), 36.0ms\n",
      "video 1/1 (962/1727) C:\\Users\\bcw60\\OneDrive\\Desktop\\TestData\\walker_hos.mp4: 384x640 (no detections), 40.9ms\n",
      "video 1/1 (962/1727) C:\\Users\\bcw60\\OneDrive\\Desktop\\TestData\\walker_hos.mp4: 384x640 (no detections), 40.9ms\n",
      "video 1/1 (963/1727) C:\\Users\\bcw60\\OneDrive\\Desktop\\TestData\\walker_hos.mp4: 384x640 (no detections), 36.9ms\n",
      "video 1/1 (963/1727) C:\\Users\\bcw60\\OneDrive\\Desktop\\TestData\\walker_hos.mp4: 384x640 (no detections), 36.9ms\n",
      "video 1/1 (964/1727) C:\\Users\\bcw60\\OneDrive\\Desktop\\TestData\\walker_hos.mp4: 384x640 (no detections), 40.6ms\n",
      "video 1/1 (964/1727) C:\\Users\\bcw60\\OneDrive\\Desktop\\TestData\\walker_hos.mp4: 384x640 (no detections), 40.6ms\n",
      "video 1/1 (965/1727) C:\\Users\\bcw60\\OneDrive\\Desktop\\TestData\\walker_hos.mp4: 384x640 (no detections), 37.0ms\n",
      "video 1/1 (965/1727) C:\\Users\\bcw60\\OneDrive\\Desktop\\TestData\\walker_hos.mp4: 384x640 (no detections), 37.0ms\n",
      "video 1/1 (966/1727) C:\\Users\\bcw60\\OneDrive\\Desktop\\TestData\\walker_hos.mp4: 384x640 (no detections), 38.7ms\n",
      "video 1/1 (966/1727) C:\\Users\\bcw60\\OneDrive\\Desktop\\TestData\\walker_hos.mp4: 384x640 (no detections), 38.7ms\n",
      "video 1/1 (967/1727) C:\\Users\\bcw60\\OneDrive\\Desktop\\TestData\\walker_hos.mp4: 384x640 (no detections), 37.0ms\n",
      "video 1/1 (967/1727) C:\\Users\\bcw60\\OneDrive\\Desktop\\TestData\\walker_hos.mp4: 384x640 (no detections), 37.0ms\n",
      "video 1/1 (968/1727) C:\\Users\\bcw60\\OneDrive\\Desktop\\TestData\\walker_hos.mp4: 384x640 (no detections), 39.1ms\n",
      "video 1/1 (968/1727) C:\\Users\\bcw60\\OneDrive\\Desktop\\TestData\\walker_hos.mp4: 384x640 (no detections), 39.1ms\n",
      "video 1/1 (969/1727) C:\\Users\\bcw60\\OneDrive\\Desktop\\TestData\\walker_hos.mp4: 384x640 (no detections), 36.9ms\n",
      "video 1/1 (969/1727) C:\\Users\\bcw60\\OneDrive\\Desktop\\TestData\\walker_hos.mp4: 384x640 (no detections), 36.9ms\n",
      "video 1/1 (970/1727) C:\\Users\\bcw60\\OneDrive\\Desktop\\TestData\\walker_hos.mp4: 384x640 (no detections), 30.1ms\n",
      "video 1/1 (970/1727) C:\\Users\\bcw60\\OneDrive\\Desktop\\TestData\\walker_hos.mp4: 384x640 (no detections), 30.1ms\n",
      "video 1/1 (971/1727) C:\\Users\\bcw60\\OneDrive\\Desktop\\TestData\\walker_hos.mp4: 384x640 (no detections), 47.3ms\n",
      "video 1/1 (971/1727) C:\\Users\\bcw60\\OneDrive\\Desktop\\TestData\\walker_hos.mp4: 384x640 (no detections), 47.3ms\n",
      "video 1/1 (972/1727) C:\\Users\\bcw60\\OneDrive\\Desktop\\TestData\\walker_hos.mp4: 384x640 (no detections), 39.3ms\n",
      "video 1/1 (972/1727) C:\\Users\\bcw60\\OneDrive\\Desktop\\TestData\\walker_hos.mp4: 384x640 (no detections), 39.3ms\n",
      "video 1/1 (973/1727) C:\\Users\\bcw60\\OneDrive\\Desktop\\TestData\\walker_hos.mp4: 384x640 (no detections), 35.9ms\n",
      "video 1/1 (973/1727) C:\\Users\\bcw60\\OneDrive\\Desktop\\TestData\\walker_hos.mp4: 384x640 (no detections), 35.9ms\n",
      "video 1/1 (974/1727) C:\\Users\\bcw60\\OneDrive\\Desktop\\TestData\\walker_hos.mp4: 384x640 (no detections), 38.8ms\n",
      "video 1/1 (974/1727) C:\\Users\\bcw60\\OneDrive\\Desktop\\TestData\\walker_hos.mp4: 384x640 (no detections), 38.8ms\n",
      "video 1/1 (975/1727) C:\\Users\\bcw60\\OneDrive\\Desktop\\TestData\\walker_hos.mp4: 384x640 (no detections), 35.4ms\n",
      "video 1/1 (975/1727) C:\\Users\\bcw60\\OneDrive\\Desktop\\TestData\\walker_hos.mp4: 384x640 (no detections), 35.4ms\n",
      "video 1/1 (976/1727) C:\\Users\\bcw60\\OneDrive\\Desktop\\TestData\\walker_hos.mp4: 384x640 (no detections), 37.4ms\n",
      "video 1/1 (976/1727) C:\\Users\\bcw60\\OneDrive\\Desktop\\TestData\\walker_hos.mp4: 384x640 (no detections), 37.4ms\n",
      "video 1/1 (977/1727) C:\\Users\\bcw60\\OneDrive\\Desktop\\TestData\\walker_hos.mp4: 384x640 (no detections), 36.5ms\n",
      "video 1/1 (977/1727) C:\\Users\\bcw60\\OneDrive\\Desktop\\TestData\\walker_hos.mp4: 384x640 (no detections), 36.5ms\n",
      "video 1/1 (978/1727) C:\\Users\\bcw60\\OneDrive\\Desktop\\TestData\\walker_hos.mp4: 384x640 (no detections), 39.3ms\n",
      "video 1/1 (978/1727) C:\\Users\\bcw60\\OneDrive\\Desktop\\TestData\\walker_hos.mp4: 384x640 (no detections), 39.3ms\n",
      "video 1/1 (979/1727) C:\\Users\\bcw60\\OneDrive\\Desktop\\TestData\\walker_hos.mp4: 384x640 (no detections), 37.0ms\n",
      "video 1/1 (979/1727) C:\\Users\\bcw60\\OneDrive\\Desktop\\TestData\\walker_hos.mp4: 384x640 (no detections), 37.0ms\n",
      "video 1/1 (980/1727) C:\\Users\\bcw60\\OneDrive\\Desktop\\TestData\\walker_hos.mp4: 384x640 (no detections), 39.4ms\n",
      "video 1/1 (980/1727) C:\\Users\\bcw60\\OneDrive\\Desktop\\TestData\\walker_hos.mp4: 384x640 (no detections), 39.4ms\n",
      "video 1/1 (981/1727) C:\\Users\\bcw60\\OneDrive\\Desktop\\TestData\\walker_hos.mp4: 384x640 (no detections), 37.0ms\n",
      "video 1/1 (981/1727) C:\\Users\\bcw60\\OneDrive\\Desktop\\TestData\\walker_hos.mp4: 384x640 (no detections), 37.0ms\n",
      "video 1/1 (982/1727) C:\\Users\\bcw60\\OneDrive\\Desktop\\TestData\\walker_hos.mp4: 384x640 (no detections), 32.0ms\n",
      "video 1/1 (982/1727) C:\\Users\\bcw60\\OneDrive\\Desktop\\TestData\\walker_hos.mp4: 384x640 (no detections), 32.0ms\n",
      "video 1/1 (983/1727) C:\\Users\\bcw60\\OneDrive\\Desktop\\TestData\\walker_hos.mp4: 384x640 (no detections), 32.9ms\n",
      "video 1/1 (983/1727) C:\\Users\\bcw60\\OneDrive\\Desktop\\TestData\\walker_hos.mp4: 384x640 (no detections), 32.9ms\n",
      "video 1/1 (984/1727) C:\\Users\\bcw60\\OneDrive\\Desktop\\TestData\\walker_hos.mp4: 384x640 (no detections), 39.6ms\n",
      "video 1/1 (984/1727) C:\\Users\\bcw60\\OneDrive\\Desktop\\TestData\\walker_hos.mp4: 384x640 (no detections), 39.6ms\n",
      "video 1/1 (985/1727) C:\\Users\\bcw60\\OneDrive\\Desktop\\TestData\\walker_hos.mp4: 384x640 (no detections), 37.0ms\n",
      "video 1/1 (985/1727) C:\\Users\\bcw60\\OneDrive\\Desktop\\TestData\\walker_hos.mp4: 384x640 (no detections), 37.0ms\n",
      "video 1/1 (986/1727) C:\\Users\\bcw60\\OneDrive\\Desktop\\TestData\\walker_hos.mp4: 384x640 (no detections), 39.0ms\n",
      "video 1/1 (986/1727) C:\\Users\\bcw60\\OneDrive\\Desktop\\TestData\\walker_hos.mp4: 384x640 (no detections), 39.0ms\n",
      "video 1/1 (987/1727) C:\\Users\\bcw60\\OneDrive\\Desktop\\TestData\\walker_hos.mp4: 384x640 (no detections), 36.7ms\n",
      "video 1/1 (987/1727) C:\\Users\\bcw60\\OneDrive\\Desktop\\TestData\\walker_hos.mp4: 384x640 (no detections), 36.7ms\n",
      "video 1/1 (988/1727) C:\\Users\\bcw60\\OneDrive\\Desktop\\TestData\\walker_hos.mp4: 384x640 (no detections), 42.7ms\n",
      "video 1/1 (988/1727) C:\\Users\\bcw60\\OneDrive\\Desktop\\TestData\\walker_hos.mp4: 384x640 (no detections), 42.7ms\n",
      "video 1/1 (989/1727) C:\\Users\\bcw60\\OneDrive\\Desktop\\TestData\\walker_hos.mp4: 384x640 (no detections), 36.1ms\n",
      "video 1/1 (989/1727) C:\\Users\\bcw60\\OneDrive\\Desktop\\TestData\\walker_hos.mp4: 384x640 (no detections), 36.1ms\n",
      "video 1/1 (990/1727) C:\\Users\\bcw60\\OneDrive\\Desktop\\TestData\\walker_hos.mp4: 384x640 (no detections), 43.3ms\n",
      "video 1/1 (990/1727) C:\\Users\\bcw60\\OneDrive\\Desktop\\TestData\\walker_hos.mp4: 384x640 (no detections), 43.3ms\n",
      "video 1/1 (991/1727) C:\\Users\\bcw60\\OneDrive\\Desktop\\TestData\\walker_hos.mp4: 384x640 (no detections), 33.6ms\n",
      "video 1/1 (991/1727) C:\\Users\\bcw60\\OneDrive\\Desktop\\TestData\\walker_hos.mp4: 384x640 (no detections), 33.6ms\n",
      "video 1/1 (992/1727) C:\\Users\\bcw60\\OneDrive\\Desktop\\TestData\\walker_hos.mp4: 384x640 (no detections), 31.5ms\n",
      "video 1/1 (992/1727) C:\\Users\\bcw60\\OneDrive\\Desktop\\TestData\\walker_hos.mp4: 384x640 (no detections), 31.5ms\n",
      "video 1/1 (993/1727) C:\\Users\\bcw60\\OneDrive\\Desktop\\TestData\\walker_hos.mp4: 384x640 (no detections), 37.4ms\n",
      "video 1/1 (993/1727) C:\\Users\\bcw60\\OneDrive\\Desktop\\TestData\\walker_hos.mp4: 384x640 (no detections), 37.4ms\n",
      "video 1/1 (994/1727) C:\\Users\\bcw60\\OneDrive\\Desktop\\TestData\\walker_hos.mp4: 384x640 (no detections), 36.3ms\n",
      "video 1/1 (994/1727) C:\\Users\\bcw60\\OneDrive\\Desktop\\TestData\\walker_hos.mp4: 384x640 (no detections), 36.3ms\n",
      "video 1/1 (995/1727) C:\\Users\\bcw60\\OneDrive\\Desktop\\TestData\\walker_hos.mp4: 384x640 (no detections), 38.0ms\n",
      "video 1/1 (995/1727) C:\\Users\\bcw60\\OneDrive\\Desktop\\TestData\\walker_hos.mp4: 384x640 (no detections), 38.0ms\n",
      "video 1/1 (996/1727) C:\\Users\\bcw60\\OneDrive\\Desktop\\TestData\\walker_hos.mp4: 384x640 (no detections), 25.0ms\n",
      "video 1/1 (996/1727) C:\\Users\\bcw60\\OneDrive\\Desktop\\TestData\\walker_hos.mp4: 384x640 (no detections), 25.0ms\n",
      "video 1/1 (997/1727) C:\\Users\\bcw60\\OneDrive\\Desktop\\TestData\\walker_hos.mp4: 384x640 (no detections), 37.3ms\n",
      "video 1/1 (997/1727) C:\\Users\\bcw60\\OneDrive\\Desktop\\TestData\\walker_hos.mp4: 384x640 (no detections), 37.3ms\n",
      "video 1/1 (998/1727) C:\\Users\\bcw60\\OneDrive\\Desktop\\TestData\\walker_hos.mp4: 384x640 (no detections), 26.8ms\n",
      "video 1/1 (998/1727) C:\\Users\\bcw60\\OneDrive\\Desktop\\TestData\\walker_hos.mp4: 384x640 (no detections), 26.8ms\n",
      "video 1/1 (999/1727) C:\\Users\\bcw60\\OneDrive\\Desktop\\TestData\\walker_hos.mp4: 384x640 (no detections), 35.0ms\n",
      "video 1/1 (999/1727) C:\\Users\\bcw60\\OneDrive\\Desktop\\TestData\\walker_hos.mp4: 384x640 (no detections), 35.0ms\n",
      "video 1/1 (1000/1727) C:\\Users\\bcw60\\OneDrive\\Desktop\\TestData\\walker_hos.mp4: 384x640 (no detections), 41.8ms\n",
      "video 1/1 (1000/1727) C:\\Users\\bcw60\\OneDrive\\Desktop\\TestData\\walker_hos.mp4: 384x640 (no detections), 41.8ms\n",
      "video 1/1 (1001/1727) C:\\Users\\bcw60\\OneDrive\\Desktop\\TestData\\walker_hos.mp4: 384x640 (no detections), 37.6ms\n",
      "video 1/1 (1001/1727) C:\\Users\\bcw60\\OneDrive\\Desktop\\TestData\\walker_hos.mp4: 384x640 (no detections), 37.6ms\n",
      "video 1/1 (1002/1727) C:\\Users\\bcw60\\OneDrive\\Desktop\\TestData\\walker_hos.mp4: 384x640 (no detections), 41.7ms\n",
      "video 1/1 (1002/1727) C:\\Users\\bcw60\\OneDrive\\Desktop\\TestData\\walker_hos.mp4: 384x640 (no detections), 41.7ms\n",
      "video 1/1 (1003/1727) C:\\Users\\bcw60\\OneDrive\\Desktop\\TestData\\walker_hos.mp4: 384x640 1 walker, 37.6ms\n",
      "video 1/1 (1003/1727) C:\\Users\\bcw60\\OneDrive\\Desktop\\TestData\\walker_hos.mp4: 384x640 1 walker, 37.6ms\n",
      "video 1/1 (1004/1727) C:\\Users\\bcw60\\OneDrive\\Desktop\\TestData\\walker_hos.mp4: 384x640 1 walker, 31.4ms\n",
      "video 1/1 (1004/1727) C:\\Users\\bcw60\\OneDrive\\Desktop\\TestData\\walker_hos.mp4: 384x640 1 walker, 31.4ms\n",
      "video 1/1 (1005/1727) C:\\Users\\bcw60\\OneDrive\\Desktop\\TestData\\walker_hos.mp4: 384x640 1 walker, 34.3ms\n",
      "video 1/1 (1005/1727) C:\\Users\\bcw60\\OneDrive\\Desktop\\TestData\\walker_hos.mp4: 384x640 1 walker, 34.3ms\n",
      "video 1/1 (1006/1727) C:\\Users\\bcw60\\OneDrive\\Desktop\\TestData\\walker_hos.mp4: 384x640 1 walker, 36.2ms\n",
      "video 1/1 (1006/1727) C:\\Users\\bcw60\\OneDrive\\Desktop\\TestData\\walker_hos.mp4: 384x640 1 walker, 36.2ms\n",
      "video 1/1 (1007/1727) C:\\Users\\bcw60\\OneDrive\\Desktop\\TestData\\walker_hos.mp4: 384x640 1 walker, 36.0ms\n",
      "video 1/1 (1007/1727) C:\\Users\\bcw60\\OneDrive\\Desktop\\TestData\\walker_hos.mp4: 384x640 1 walker, 36.0ms\n",
      "video 1/1 (1008/1727) C:\\Users\\bcw60\\OneDrive\\Desktop\\TestData\\walker_hos.mp4: 384x640 1 walker, 36.3ms\n",
      "video 1/1 (1008/1727) C:\\Users\\bcw60\\OneDrive\\Desktop\\TestData\\walker_hos.mp4: 384x640 1 walker, 36.3ms\n",
      "video 1/1 (1009/1727) C:\\Users\\bcw60\\OneDrive\\Desktop\\TestData\\walker_hos.mp4: 384x640 1 walker, 31.5ms\n",
      "video 1/1 (1009/1727) C:\\Users\\bcw60\\OneDrive\\Desktop\\TestData\\walker_hos.mp4: 384x640 1 walker, 31.5ms\n",
      "video 1/1 (1010/1727) C:\\Users\\bcw60\\OneDrive\\Desktop\\TestData\\walker_hos.mp4: 384x640 1 walker, 38.9ms\n",
      "video 1/1 (1010/1727) C:\\Users\\bcw60\\OneDrive\\Desktop\\TestData\\walker_hos.mp4: 384x640 1 walker, 38.9ms\n",
      "video 1/1 (1011/1727) C:\\Users\\bcw60\\OneDrive\\Desktop\\TestData\\walker_hos.mp4: 384x640 1 walker, 35.7ms\n",
      "video 1/1 (1011/1727) C:\\Users\\bcw60\\OneDrive\\Desktop\\TestData\\walker_hos.mp4: 384x640 1 walker, 35.7ms\n",
      "video 1/1 (1012/1727) C:\\Users\\bcw60\\OneDrive\\Desktop\\TestData\\walker_hos.mp4: 384x640 1 walker, 31.0ms\n",
      "video 1/1 (1012/1727) C:\\Users\\bcw60\\OneDrive\\Desktop\\TestData\\walker_hos.mp4: 384x640 1 walker, 31.0ms\n",
      "video 1/1 (1013/1727) C:\\Users\\bcw60\\OneDrive\\Desktop\\TestData\\walker_hos.mp4: 384x640 1 walker, 43.4ms\n",
      "video 1/1 (1013/1727) C:\\Users\\bcw60\\OneDrive\\Desktop\\TestData\\walker_hos.mp4: 384x640 1 walker, 43.4ms\n",
      "video 1/1 (1014/1727) C:\\Users\\bcw60\\OneDrive\\Desktop\\TestData\\walker_hos.mp4: 384x640 1 walker, 36.5ms\n",
      "video 1/1 (1014/1727) C:\\Users\\bcw60\\OneDrive\\Desktop\\TestData\\walker_hos.mp4: 384x640 1 walker, 36.5ms\n",
      "video 1/1 (1015/1727) C:\\Users\\bcw60\\OneDrive\\Desktop\\TestData\\walker_hos.mp4: 384x640 1 walker, 48.1ms\n",
      "video 1/1 (1015/1727) C:\\Users\\bcw60\\OneDrive\\Desktop\\TestData\\walker_hos.mp4: 384x640 1 walker, 48.1ms\n",
      "video 1/1 (1016/1727) C:\\Users\\bcw60\\OneDrive\\Desktop\\TestData\\walker_hos.mp4: 384x640 1 walker, 31.2ms\n",
      "video 1/1 (1016/1727) C:\\Users\\bcw60\\OneDrive\\Desktop\\TestData\\walker_hos.mp4: 384x640 1 walker, 31.2ms\n",
      "video 1/1 (1017/1727) C:\\Users\\bcw60\\OneDrive\\Desktop\\TestData\\walker_hos.mp4: 384x640 1 walker, 39.1ms\n",
      "video 1/1 (1017/1727) C:\\Users\\bcw60\\OneDrive\\Desktop\\TestData\\walker_hos.mp4: 384x640 1 walker, 39.1ms\n",
      "video 1/1 (1018/1727) C:\\Users\\bcw60\\OneDrive\\Desktop\\TestData\\walker_hos.mp4: 384x640 1 walker, 36.6ms\n",
      "video 1/1 (1018/1727) C:\\Users\\bcw60\\OneDrive\\Desktop\\TestData\\walker_hos.mp4: 384x640 1 walker, 36.6ms\n",
      "video 1/1 (1019/1727) C:\\Users\\bcw60\\OneDrive\\Desktop\\TestData\\walker_hos.mp4: 384x640 1 walker, 35.4ms\n",
      "video 1/1 (1019/1727) C:\\Users\\bcw60\\OneDrive\\Desktop\\TestData\\walker_hos.mp4: 384x640 1 walker, 35.4ms\n",
      "video 1/1 (1020/1727) C:\\Users\\bcw60\\OneDrive\\Desktop\\TestData\\walker_hos.mp4: 384x640 1 walker, 40.7ms\n",
      "video 1/1 (1020/1727) C:\\Users\\bcw60\\OneDrive\\Desktop\\TestData\\walker_hos.mp4: 384x640 1 walker, 40.7ms\n",
      "video 1/1 (1021/1727) C:\\Users\\bcw60\\OneDrive\\Desktop\\TestData\\walker_hos.mp4: 384x640 1 walker, 38.3ms\n",
      "video 1/1 (1021/1727) C:\\Users\\bcw60\\OneDrive\\Desktop\\TestData\\walker_hos.mp4: 384x640 1 walker, 38.3ms\n",
      "video 1/1 (1022/1727) C:\\Users\\bcw60\\OneDrive\\Desktop\\TestData\\walker_hos.mp4: 384x640 1 walker, 46.2ms\n",
      "video 1/1 (1022/1727) C:\\Users\\bcw60\\OneDrive\\Desktop\\TestData\\walker_hos.mp4: 384x640 1 walker, 46.2ms\n",
      "video 1/1 (1023/1727) C:\\Users\\bcw60\\OneDrive\\Desktop\\TestData\\walker_hos.mp4: 384x640 1 walker, 31.0ms\n",
      "video 1/1 (1023/1727) C:\\Users\\bcw60\\OneDrive\\Desktop\\TestData\\walker_hos.mp4: 384x640 1 walker, 31.0ms\n",
      "video 1/1 (1024/1727) C:\\Users\\bcw60\\OneDrive\\Desktop\\TestData\\walker_hos.mp4: 384x640 1 walker, 41.8ms\n",
      "video 1/1 (1024/1727) C:\\Users\\bcw60\\OneDrive\\Desktop\\TestData\\walker_hos.mp4: 384x640 1 walker, 41.8ms\n",
      "video 1/1 (1025/1727) C:\\Users\\bcw60\\OneDrive\\Desktop\\TestData\\walker_hos.mp4: 384x640 1 walker, 32.1ms\n",
      "video 1/1 (1025/1727) C:\\Users\\bcw60\\OneDrive\\Desktop\\TestData\\walker_hos.mp4: 384x640 1 walker, 32.1ms\n",
      "video 1/1 (1026/1727) C:\\Users\\bcw60\\OneDrive\\Desktop\\TestData\\walker_hos.mp4: 384x640 1 walker, 33.1ms\n",
      "video 1/1 (1026/1727) C:\\Users\\bcw60\\OneDrive\\Desktop\\TestData\\walker_hos.mp4: 384x640 1 walker, 33.1ms\n",
      "video 1/1 (1027/1727) C:\\Users\\bcw60\\OneDrive\\Desktop\\TestData\\walker_hos.mp4: 384x640 1 walker, 49.2ms\n",
      "video 1/1 (1027/1727) C:\\Users\\bcw60\\OneDrive\\Desktop\\TestData\\walker_hos.mp4: 384x640 1 walker, 49.2ms\n",
      "video 1/1 (1028/1727) C:\\Users\\bcw60\\OneDrive\\Desktop\\TestData\\walker_hos.mp4: 384x640 1 walker, 31.1ms\n",
      "video 1/1 (1028/1727) C:\\Users\\bcw60\\OneDrive\\Desktop\\TestData\\walker_hos.mp4: 384x640 1 walker, 31.1ms\n",
      "video 1/1 (1029/1727) C:\\Users\\bcw60\\OneDrive\\Desktop\\TestData\\walker_hos.mp4: 384x640 1 walker, 42.5ms\n",
      "video 1/1 (1029/1727) C:\\Users\\bcw60\\OneDrive\\Desktop\\TestData\\walker_hos.mp4: 384x640 1 walker, 42.5ms\n",
      "video 1/1 (1030/1727) C:\\Users\\bcw60\\OneDrive\\Desktop\\TestData\\walker_hos.mp4: 384x640 1 walker, 34.6ms\n",
      "video 1/1 (1030/1727) C:\\Users\\bcw60\\OneDrive\\Desktop\\TestData\\walker_hos.mp4: 384x640 1 walker, 34.6ms\n",
      "video 1/1 (1031/1727) C:\\Users\\bcw60\\OneDrive\\Desktop\\TestData\\walker_hos.mp4: 384x640 1 walker, 50.8ms\n",
      "video 1/1 (1031/1727) C:\\Users\\bcw60\\OneDrive\\Desktop\\TestData\\walker_hos.mp4: 384x640 1 walker, 50.8ms\n",
      "video 1/1 (1032/1727) C:\\Users\\bcw60\\OneDrive\\Desktop\\TestData\\walker_hos.mp4: 384x640 1 walker, 44.0ms\n",
      "video 1/1 (1032/1727) C:\\Users\\bcw60\\OneDrive\\Desktop\\TestData\\walker_hos.mp4: 384x640 1 walker, 44.0ms\n",
      "video 1/1 (1033/1727) C:\\Users\\bcw60\\OneDrive\\Desktop\\TestData\\walker_hos.mp4: 384x640 1 walker, 38.1ms\n",
      "video 1/1 (1033/1727) C:\\Users\\bcw60\\OneDrive\\Desktop\\TestData\\walker_hos.mp4: 384x640 1 walker, 38.1ms\n",
      "video 1/1 (1034/1727) C:\\Users\\bcw60\\OneDrive\\Desktop\\TestData\\walker_hos.mp4: 384x640 1 walker, 37.0ms\n",
      "video 1/1 (1034/1727) C:\\Users\\bcw60\\OneDrive\\Desktop\\TestData\\walker_hos.mp4: 384x640 1 walker, 37.0ms\n",
      "video 1/1 (1035/1727) C:\\Users\\bcw60\\OneDrive\\Desktop\\TestData\\walker_hos.mp4: 384x640 1 walker, 31.0ms\n",
      "video 1/1 (1035/1727) C:\\Users\\bcw60\\OneDrive\\Desktop\\TestData\\walker_hos.mp4: 384x640 1 walker, 31.0ms\n",
      "video 1/1 (1036/1727) C:\\Users\\bcw60\\OneDrive\\Desktop\\TestData\\walker_hos.mp4: 384x640 1 walker, 39.0ms\n",
      "video 1/1 (1036/1727) C:\\Users\\bcw60\\OneDrive\\Desktop\\TestData\\walker_hos.mp4: 384x640 1 walker, 39.0ms\n",
      "video 1/1 (1037/1727) C:\\Users\\bcw60\\OneDrive\\Desktop\\TestData\\walker_hos.mp4: 384x640 1 walker, 35.0ms\n",
      "video 1/1 (1037/1727) C:\\Users\\bcw60\\OneDrive\\Desktop\\TestData\\walker_hos.mp4: 384x640 1 walker, 35.0ms\n",
      "video 1/1 (1038/1727) C:\\Users\\bcw60\\OneDrive\\Desktop\\TestData\\walker_hos.mp4: 384x640 1 walker, 31.6ms\n",
      "video 1/1 (1038/1727) C:\\Users\\bcw60\\OneDrive\\Desktop\\TestData\\walker_hos.mp4: 384x640 1 walker, 31.6ms\n",
      "video 1/1 (1039/1727) C:\\Users\\bcw60\\OneDrive\\Desktop\\TestData\\walker_hos.mp4: 384x640 1 walker, 38.5ms\n",
      "video 1/1 (1039/1727) C:\\Users\\bcw60\\OneDrive\\Desktop\\TestData\\walker_hos.mp4: 384x640 1 walker, 38.5ms\n",
      "video 1/1 (1040/1727) C:\\Users\\bcw60\\OneDrive\\Desktop\\TestData\\walker_hos.mp4: 384x640 1 walker, 38.0ms\n",
      "video 1/1 (1040/1727) C:\\Users\\bcw60\\OneDrive\\Desktop\\TestData\\walker_hos.mp4: 384x640 1 walker, 38.0ms\n",
      "video 1/1 (1041/1727) C:\\Users\\bcw60\\OneDrive\\Desktop\\TestData\\walker_hos.mp4: 384x640 1 walker, 37.8ms\n",
      "video 1/1 (1041/1727) C:\\Users\\bcw60\\OneDrive\\Desktop\\TestData\\walker_hos.mp4: 384x640 1 walker, 37.8ms\n",
      "video 1/1 (1042/1727) C:\\Users\\bcw60\\OneDrive\\Desktop\\TestData\\walker_hos.mp4: 384x640 1 walker, 46.1ms\n",
      "video 1/1 (1042/1727) C:\\Users\\bcw60\\OneDrive\\Desktop\\TestData\\walker_hos.mp4: 384x640 1 walker, 46.1ms\n",
      "video 1/1 (1043/1727) C:\\Users\\bcw60\\OneDrive\\Desktop\\TestData\\walker_hos.mp4: 384x640 1 walker, 44.9ms\n",
      "video 1/1 (1043/1727) C:\\Users\\bcw60\\OneDrive\\Desktop\\TestData\\walker_hos.mp4: 384x640 1 walker, 44.9ms\n",
      "video 1/1 (1044/1727) C:\\Users\\bcw60\\OneDrive\\Desktop\\TestData\\walker_hos.mp4: 384x640 1 walker, 34.3ms\n",
      "video 1/1 (1044/1727) C:\\Users\\bcw60\\OneDrive\\Desktop\\TestData\\walker_hos.mp4: 384x640 1 walker, 34.3ms\n",
      "video 1/1 (1045/1727) C:\\Users\\bcw60\\OneDrive\\Desktop\\TestData\\walker_hos.mp4: 384x640 1 walker, 32.9ms\n",
      "video 1/1 (1045/1727) C:\\Users\\bcw60\\OneDrive\\Desktop\\TestData\\walker_hos.mp4: 384x640 1 walker, 32.9ms\n",
      "video 1/1 (1046/1727) C:\\Users\\bcw60\\OneDrive\\Desktop\\TestData\\walker_hos.mp4: 384x640 1 walker, 48.6ms\n",
      "video 1/1 (1046/1727) C:\\Users\\bcw60\\OneDrive\\Desktop\\TestData\\walker_hos.mp4: 384x640 1 walker, 48.6ms\n",
      "video 1/1 (1047/1727) C:\\Users\\bcw60\\OneDrive\\Desktop\\TestData\\walker_hos.mp4: 384x640 1 walker, 43.2ms\n",
      "video 1/1 (1047/1727) C:\\Users\\bcw60\\OneDrive\\Desktop\\TestData\\walker_hos.mp4: 384x640 1 walker, 43.2ms\n",
      "video 1/1 (1048/1727) C:\\Users\\bcw60\\OneDrive\\Desktop\\TestData\\walker_hos.mp4: 384x640 1 walker, 34.4ms\n",
      "video 1/1 (1048/1727) C:\\Users\\bcw60\\OneDrive\\Desktop\\TestData\\walker_hos.mp4: 384x640 1 walker, 34.4ms\n",
      "video 1/1 (1049/1727) C:\\Users\\bcw60\\OneDrive\\Desktop\\TestData\\walker_hos.mp4: 384x640 1 walker, 36.7ms\n",
      "video 1/1 (1049/1727) C:\\Users\\bcw60\\OneDrive\\Desktop\\TestData\\walker_hos.mp4: 384x640 1 walker, 36.7ms\n",
      "video 1/1 (1050/1727) C:\\Users\\bcw60\\OneDrive\\Desktop\\TestData\\walker_hos.mp4: 384x640 1 walker, 30.6ms\n",
      "video 1/1 (1050/1727) C:\\Users\\bcw60\\OneDrive\\Desktop\\TestData\\walker_hos.mp4: 384x640 1 walker, 30.6ms\n",
      "video 1/1 (1051/1727) C:\\Users\\bcw60\\OneDrive\\Desktop\\TestData\\walker_hos.mp4: 384x640 1 walker, 41.0ms\n",
      "video 1/1 (1051/1727) C:\\Users\\bcw60\\OneDrive\\Desktop\\TestData\\walker_hos.mp4: 384x640 1 walker, 41.0ms\n",
      "video 1/1 (1052/1727) C:\\Users\\bcw60\\OneDrive\\Desktop\\TestData\\walker_hos.mp4: 384x640 1 walker, 35.1ms\n",
      "video 1/1 (1052/1727) C:\\Users\\bcw60\\OneDrive\\Desktop\\TestData\\walker_hos.mp4: 384x640 1 walker, 35.1ms\n",
      "video 1/1 (1053/1727) C:\\Users\\bcw60\\OneDrive\\Desktop\\TestData\\walker_hos.mp4: 384x640 1 walker, 47.6ms\n",
      "video 1/1 (1053/1727) C:\\Users\\bcw60\\OneDrive\\Desktop\\TestData\\walker_hos.mp4: 384x640 1 walker, 47.6ms\n",
      "video 1/1 (1054/1727) C:\\Users\\bcw60\\OneDrive\\Desktop\\TestData\\walker_hos.mp4: 384x640 1 walker, 42.6ms\n",
      "video 1/1 (1054/1727) C:\\Users\\bcw60\\OneDrive\\Desktop\\TestData\\walker_hos.mp4: 384x640 1 walker, 42.6ms\n",
      "video 1/1 (1055/1727) C:\\Users\\bcw60\\OneDrive\\Desktop\\TestData\\walker_hos.mp4: 384x640 1 walker, 35.1ms\n",
      "video 1/1 (1055/1727) C:\\Users\\bcw60\\OneDrive\\Desktop\\TestData\\walker_hos.mp4: 384x640 1 walker, 35.1ms\n",
      "video 1/1 (1056/1727) C:\\Users\\bcw60\\OneDrive\\Desktop\\TestData\\walker_hos.mp4: 384x640 1 walker, 51.6ms\n",
      "video 1/1 (1056/1727) C:\\Users\\bcw60\\OneDrive\\Desktop\\TestData\\walker_hos.mp4: 384x640 1 walker, 51.6ms\n",
      "video 1/1 (1057/1727) C:\\Users\\bcw60\\OneDrive\\Desktop\\TestData\\walker_hos.mp4: 384x640 1 walker, 46.0ms\n",
      "video 1/1 (1057/1727) C:\\Users\\bcw60\\OneDrive\\Desktop\\TestData\\walker_hos.mp4: 384x640 1 walker, 46.0ms\n",
      "video 1/1 (1058/1727) C:\\Users\\bcw60\\OneDrive\\Desktop\\TestData\\walker_hos.mp4: 384x640 1 walker, 46.6ms\n",
      "video 1/1 (1058/1727) C:\\Users\\bcw60\\OneDrive\\Desktop\\TestData\\walker_hos.mp4: 384x640 1 walker, 46.6ms\n",
      "video 1/1 (1059/1727) C:\\Users\\bcw60\\OneDrive\\Desktop\\TestData\\walker_hos.mp4: 384x640 1 walker, 30.7ms\n",
      "video 1/1 (1059/1727) C:\\Users\\bcw60\\OneDrive\\Desktop\\TestData\\walker_hos.mp4: 384x640 1 walker, 30.7ms\n",
      "video 1/1 (1060/1727) C:\\Users\\bcw60\\OneDrive\\Desktop\\TestData\\walker_hos.mp4: 384x640 1 walker, 37.8ms\n",
      "video 1/1 (1060/1727) C:\\Users\\bcw60\\OneDrive\\Desktop\\TestData\\walker_hos.mp4: 384x640 1 walker, 37.8ms\n",
      "video 1/1 (1061/1727) C:\\Users\\bcw60\\OneDrive\\Desktop\\TestData\\walker_hos.mp4: 384x640 1 walker, 35.9ms\n",
      "video 1/1 (1061/1727) C:\\Users\\bcw60\\OneDrive\\Desktop\\TestData\\walker_hos.mp4: 384x640 1 walker, 35.9ms\n",
      "video 1/1 (1062/1727) C:\\Users\\bcw60\\OneDrive\\Desktop\\TestData\\walker_hos.mp4: 384x640 1 walker, 26.1ms\n",
      "video 1/1 (1062/1727) C:\\Users\\bcw60\\OneDrive\\Desktop\\TestData\\walker_hos.mp4: 384x640 1 walker, 26.1ms\n",
      "video 1/1 (1063/1727) C:\\Users\\bcw60\\OneDrive\\Desktop\\TestData\\walker_hos.mp4: 384x640 1 walker, 30.7ms\n",
      "video 1/1 (1063/1727) C:\\Users\\bcw60\\OneDrive\\Desktop\\TestData\\walker_hos.mp4: 384x640 1 walker, 30.7ms\n",
      "video 1/1 (1064/1727) C:\\Users\\bcw60\\OneDrive\\Desktop\\TestData\\walker_hos.mp4: 384x640 1 walker, 34.1ms\n",
      "video 1/1 (1064/1727) C:\\Users\\bcw60\\OneDrive\\Desktop\\TestData\\walker_hos.mp4: 384x640 1 walker, 34.1ms\n",
      "video 1/1 (1065/1727) C:\\Users\\bcw60\\OneDrive\\Desktop\\TestData\\walker_hos.mp4: 384x640 1 walker, 47.0ms\n",
      "video 1/1 (1065/1727) C:\\Users\\bcw60\\OneDrive\\Desktop\\TestData\\walker_hos.mp4: 384x640 1 walker, 47.0ms\n",
      "video 1/1 (1066/1727) C:\\Users\\bcw60\\OneDrive\\Desktop\\TestData\\walker_hos.mp4: 384x640 1 walker, 42.7ms\n",
      "video 1/1 (1066/1727) C:\\Users\\bcw60\\OneDrive\\Desktop\\TestData\\walker_hos.mp4: 384x640 1 walker, 42.7ms\n",
      "video 1/1 (1067/1727) C:\\Users\\bcw60\\OneDrive\\Desktop\\TestData\\walker_hos.mp4: 384x640 1 walker, 35.8ms\n",
      "video 1/1 (1067/1727) C:\\Users\\bcw60\\OneDrive\\Desktop\\TestData\\walker_hos.mp4: 384x640 1 walker, 35.8ms\n",
      "video 1/1 (1068/1727) C:\\Users\\bcw60\\OneDrive\\Desktop\\TestData\\walker_hos.mp4: 384x640 1 walker, 49.0ms\n",
      "video 1/1 (1068/1727) C:\\Users\\bcw60\\OneDrive\\Desktop\\TestData\\walker_hos.mp4: 384x640 1 walker, 49.0ms\n",
      "video 1/1 (1069/1727) C:\\Users\\bcw60\\OneDrive\\Desktop\\TestData\\walker_hos.mp4: 384x640 1 walker, 22.9ms\n",
      "video 1/1 (1069/1727) C:\\Users\\bcw60\\OneDrive\\Desktop\\TestData\\walker_hos.mp4: 384x640 1 walker, 22.9ms\n",
      "video 1/1 (1070/1727) C:\\Users\\bcw60\\OneDrive\\Desktop\\TestData\\walker_hos.mp4: 384x640 1 walker, 40.5ms\n",
      "video 1/1 (1070/1727) C:\\Users\\bcw60\\OneDrive\\Desktop\\TestData\\walker_hos.mp4: 384x640 1 walker, 40.5ms\n",
      "video 1/1 (1071/1727) C:\\Users\\bcw60\\OneDrive\\Desktop\\TestData\\walker_hos.mp4: 384x640 1 walker, 34.5ms\n",
      "video 1/1 (1071/1727) C:\\Users\\bcw60\\OneDrive\\Desktop\\TestData\\walker_hos.mp4: 384x640 1 walker, 34.5ms\n",
      "video 1/1 (1072/1727) C:\\Users\\bcw60\\OneDrive\\Desktop\\TestData\\walker_hos.mp4: 384x640 1 walker, 31.7ms\n",
      "video 1/1 (1072/1727) C:\\Users\\bcw60\\OneDrive\\Desktop\\TestData\\walker_hos.mp4: 384x640 1 walker, 31.7ms\n",
      "video 1/1 (1073/1727) C:\\Users\\bcw60\\OneDrive\\Desktop\\TestData\\walker_hos.mp4: 384x640 1 walker, 42.3ms\n",
      "video 1/1 (1073/1727) C:\\Users\\bcw60\\OneDrive\\Desktop\\TestData\\walker_hos.mp4: 384x640 1 walker, 42.3ms\n",
      "video 1/1 (1074/1727) C:\\Users\\bcw60\\OneDrive\\Desktop\\TestData\\walker_hos.mp4: 384x640 1 walker, 35.7ms\n",
      "video 1/1 (1074/1727) C:\\Users\\bcw60\\OneDrive\\Desktop\\TestData\\walker_hos.mp4: 384x640 1 walker, 35.7ms\n",
      "video 1/1 (1075/1727) C:\\Users\\bcw60\\OneDrive\\Desktop\\TestData\\walker_hos.mp4: 384x640 1 walker, 48.0ms\n",
      "video 1/1 (1075/1727) C:\\Users\\bcw60\\OneDrive\\Desktop\\TestData\\walker_hos.mp4: 384x640 1 walker, 48.0ms\n",
      "video 1/1 (1076/1727) C:\\Users\\bcw60\\OneDrive\\Desktop\\TestData\\walker_hos.mp4: 384x640 1 walker, 43.4ms\n",
      "video 1/1 (1076/1727) C:\\Users\\bcw60\\OneDrive\\Desktop\\TestData\\walker_hos.mp4: 384x640 1 walker, 43.4ms\n",
      "video 1/1 (1077/1727) C:\\Users\\bcw60\\OneDrive\\Desktop\\TestData\\walker_hos.mp4: 384x640 1 walker, 38.7ms\n",
      "video 1/1 (1077/1727) C:\\Users\\bcw60\\OneDrive\\Desktop\\TestData\\walker_hos.mp4: 384x640 1 walker, 38.7ms\n",
      "video 1/1 (1078/1727) C:\\Users\\bcw60\\OneDrive\\Desktop\\TestData\\walker_hos.mp4: 384x640 1 walker, 35.5ms\n",
      "video 1/1 (1078/1727) C:\\Users\\bcw60\\OneDrive\\Desktop\\TestData\\walker_hos.mp4: 384x640 1 walker, 35.5ms\n",
      "video 1/1 (1079/1727) C:\\Users\\bcw60\\OneDrive\\Desktop\\TestData\\walker_hos.mp4: 384x640 1 walker, 31.6ms\n",
      "video 1/1 (1079/1727) C:\\Users\\bcw60\\OneDrive\\Desktop\\TestData\\walker_hos.mp4: 384x640 1 walker, 31.6ms\n",
      "video 1/1 (1080/1727) C:\\Users\\bcw60\\OneDrive\\Desktop\\TestData\\walker_hos.mp4: 384x640 1 walker, 41.6ms\n",
      "video 1/1 (1080/1727) C:\\Users\\bcw60\\OneDrive\\Desktop\\TestData\\walker_hos.mp4: 384x640 1 walker, 41.6ms\n",
      "video 1/1 (1081/1727) C:\\Users\\bcw60\\OneDrive\\Desktop\\TestData\\walker_hos.mp4: 384x640 1 walker, 32.8ms\n",
      "video 1/1 (1081/1727) C:\\Users\\bcw60\\OneDrive\\Desktop\\TestData\\walker_hos.mp4: 384x640 1 walker, 32.8ms\n",
      "video 1/1 (1082/1727) C:\\Users\\bcw60\\OneDrive\\Desktop\\TestData\\walker_hos.mp4: 384x640 1 walker, 36.5ms\n",
      "video 1/1 (1082/1727) C:\\Users\\bcw60\\OneDrive\\Desktop\\TestData\\walker_hos.mp4: 384x640 1 walker, 36.5ms\n",
      "video 1/1 (1083/1727) C:\\Users\\bcw60\\OneDrive\\Desktop\\TestData\\walker_hos.mp4: 384x640 1 walker, 31.2ms\n",
      "video 1/1 (1083/1727) C:\\Users\\bcw60\\OneDrive\\Desktop\\TestData\\walker_hos.mp4: 384x640 1 walker, 31.2ms\n",
      "video 1/1 (1084/1727) C:\\Users\\bcw60\\OneDrive\\Desktop\\TestData\\walker_hos.mp4: 384x640 1 walker, 42.5ms\n",
      "video 1/1 (1084/1727) C:\\Users\\bcw60\\OneDrive\\Desktop\\TestData\\walker_hos.mp4: 384x640 1 walker, 42.5ms\n",
      "video 1/1 (1085/1727) C:\\Users\\bcw60\\OneDrive\\Desktop\\TestData\\walker_hos.mp4: 384x640 1 walker, 32.5ms\n",
      "video 1/1 (1085/1727) C:\\Users\\bcw60\\OneDrive\\Desktop\\TestData\\walker_hos.mp4: 384x640 1 walker, 32.5ms\n",
      "video 1/1 (1086/1727) C:\\Users\\bcw60\\OneDrive\\Desktop\\TestData\\walker_hos.mp4: 384x640 1 walker, 50.2ms\n",
      "video 1/1 (1086/1727) C:\\Users\\bcw60\\OneDrive\\Desktop\\TestData\\walker_hos.mp4: 384x640 1 walker, 50.2ms\n",
      "video 1/1 (1087/1727) C:\\Users\\bcw60\\OneDrive\\Desktop\\TestData\\walker_hos.mp4: 384x640 1 walker, 43.0ms\n",
      "video 1/1 (1087/1727) C:\\Users\\bcw60\\OneDrive\\Desktop\\TestData\\walker_hos.mp4: 384x640 1 walker, 43.0ms\n",
      "video 1/1 (1088/1727) C:\\Users\\bcw60\\OneDrive\\Desktop\\TestData\\walker_hos.mp4: 384x640 1 walker, 39.7ms\n",
      "video 1/1 (1088/1727) C:\\Users\\bcw60\\OneDrive\\Desktop\\TestData\\walker_hos.mp4: 384x640 1 walker, 39.7ms\n",
      "video 1/1 (1089/1727) C:\\Users\\bcw60\\OneDrive\\Desktop\\TestData\\walker_hos.mp4: 384x640 1 walker, 34.7ms\n",
      "video 1/1 (1089/1727) C:\\Users\\bcw60\\OneDrive\\Desktop\\TestData\\walker_hos.mp4: 384x640 1 walker, 34.7ms\n",
      "video 1/1 (1090/1727) C:\\Users\\bcw60\\OneDrive\\Desktop\\TestData\\walker_hos.mp4: 384x640 1 walker, 48.9ms\n",
      "video 1/1 (1090/1727) C:\\Users\\bcw60\\OneDrive\\Desktop\\TestData\\walker_hos.mp4: 384x640 1 walker, 48.9ms\n",
      "video 1/1 (1091/1727) C:\\Users\\bcw60\\OneDrive\\Desktop\\TestData\\walker_hos.mp4: 384x640 1 walker, 30.9ms\n",
      "video 1/1 (1091/1727) C:\\Users\\bcw60\\OneDrive\\Desktop\\TestData\\walker_hos.mp4: 384x640 1 walker, 30.9ms\n",
      "video 1/1 (1092/1727) C:\\Users\\bcw60\\OneDrive\\Desktop\\TestData\\walker_hos.mp4: 384x640 1 walker, 39.4ms\n",
      "video 1/1 (1092/1727) C:\\Users\\bcw60\\OneDrive\\Desktop\\TestData\\walker_hos.mp4: 384x640 1 walker, 39.4ms\n",
      "video 1/1 (1093/1727) C:\\Users\\bcw60\\OneDrive\\Desktop\\TestData\\walker_hos.mp4: 384x640 1 walker, 35.1ms\n",
      "video 1/1 (1093/1727) C:\\Users\\bcw60\\OneDrive\\Desktop\\TestData\\walker_hos.mp4: 384x640 1 walker, 35.1ms\n",
      "video 1/1 (1094/1727) C:\\Users\\bcw60\\OneDrive\\Desktop\\TestData\\walker_hos.mp4: 384x640 1 walker, 31.3ms\n",
      "video 1/1 (1094/1727) C:\\Users\\bcw60\\OneDrive\\Desktop\\TestData\\walker_hos.mp4: 384x640 1 walker, 31.3ms\n",
      "video 1/1 (1095/1727) C:\\Users\\bcw60\\OneDrive\\Desktop\\TestData\\walker_hos.mp4: 384x640 1 walker, 41.3ms\n",
      "video 1/1 (1095/1727) C:\\Users\\bcw60\\OneDrive\\Desktop\\TestData\\walker_hos.mp4: 384x640 1 walker, 41.3ms\n",
      "video 1/1 (1096/1727) C:\\Users\\bcw60\\OneDrive\\Desktop\\TestData\\walker_hos.mp4: 384x640 1 walker, 34.5ms\n",
      "video 1/1 (1096/1727) C:\\Users\\bcw60\\OneDrive\\Desktop\\TestData\\walker_hos.mp4: 384x640 1 walker, 34.5ms\n",
      "video 1/1 (1097/1727) C:\\Users\\bcw60\\OneDrive\\Desktop\\TestData\\walker_hos.mp4: 384x640 1 walker, 49.2ms\n",
      "video 1/1 (1097/1727) C:\\Users\\bcw60\\OneDrive\\Desktop\\TestData\\walker_hos.mp4: 384x640 1 walker, 49.2ms\n",
      "video 1/1 (1098/1727) C:\\Users\\bcw60\\OneDrive\\Desktop\\TestData\\walker_hos.mp4: 384x640 1 walker, 34.2ms\n",
      "video 1/1 (1098/1727) C:\\Users\\bcw60\\OneDrive\\Desktop\\TestData\\walker_hos.mp4: 384x640 1 walker, 34.2ms\n",
      "video 1/1 (1099/1727) C:\\Users\\bcw60\\OneDrive\\Desktop\\TestData\\walker_hos.mp4: 384x640 1 walker, 40.5ms\n",
      "video 1/1 (1099/1727) C:\\Users\\bcw60\\OneDrive\\Desktop\\TestData\\walker_hos.mp4: 384x640 1 walker, 40.5ms\n",
      "video 1/1 (1100/1727) C:\\Users\\bcw60\\OneDrive\\Desktop\\TestData\\walker_hos.mp4: 384x640 1 walker, 35.6ms\n",
      "video 1/1 (1100/1727) C:\\Users\\bcw60\\OneDrive\\Desktop\\TestData\\walker_hos.mp4: 384x640 1 walker, 35.6ms\n",
      "video 1/1 (1101/1727) C:\\Users\\bcw60\\OneDrive\\Desktop\\TestData\\walker_hos.mp4: 384x640 1 walker, 49.4ms\n",
      "video 1/1 (1101/1727) C:\\Users\\bcw60\\OneDrive\\Desktop\\TestData\\walker_hos.mp4: 384x640 1 walker, 49.4ms\n",
      "video 1/1 (1102/1727) C:\\Users\\bcw60\\OneDrive\\Desktop\\TestData\\walker_hos.mp4: 384x640 1 walker, 31.6ms\n",
      "video 1/1 (1102/1727) C:\\Users\\bcw60\\OneDrive\\Desktop\\TestData\\walker_hos.mp4: 384x640 1 walker, 31.6ms\n",
      "video 1/1 (1103/1727) C:\\Users\\bcw60\\OneDrive\\Desktop\\TestData\\walker_hos.mp4: 384x640 1 walker, 38.8ms\n",
      "video 1/1 (1103/1727) C:\\Users\\bcw60\\OneDrive\\Desktop\\TestData\\walker_hos.mp4: 384x640 1 walker, 38.8ms\n",
      "video 1/1 (1104/1727) C:\\Users\\bcw60\\OneDrive\\Desktop\\TestData\\walker_hos.mp4: 384x640 1 walker, 37.4ms\n",
      "video 1/1 (1104/1727) C:\\Users\\bcw60\\OneDrive\\Desktop\\TestData\\walker_hos.mp4: 384x640 1 walker, 37.4ms\n",
      "video 1/1 (1105/1727) C:\\Users\\bcw60\\OneDrive\\Desktop\\TestData\\walker_hos.mp4: 384x640 1 walker, 28.6ms\n",
      "video 1/1 (1105/1727) C:\\Users\\bcw60\\OneDrive\\Desktop\\TestData\\walker_hos.mp4: 384x640 1 walker, 28.6ms\n",
      "video 1/1 (1106/1727) C:\\Users\\bcw60\\OneDrive\\Desktop\\TestData\\walker_hos.mp4: 384x640 1 walker, 28.8ms\n",
      "video 1/1 (1106/1727) C:\\Users\\bcw60\\OneDrive\\Desktop\\TestData\\walker_hos.mp4: 384x640 1 walker, 28.8ms\n",
      "video 1/1 (1107/1727) C:\\Users\\bcw60\\OneDrive\\Desktop\\TestData\\walker_hos.mp4: 384x640 1 walker, 34.5ms\n",
      "video 1/1 (1107/1727) C:\\Users\\bcw60\\OneDrive\\Desktop\\TestData\\walker_hos.mp4: 384x640 1 walker, 34.5ms\n",
      "video 1/1 (1108/1727) C:\\Users\\bcw60\\OneDrive\\Desktop\\TestData\\walker_hos.mp4: 384x640 1 walker, 30.7ms\n",
      "video 1/1 (1108/1727) C:\\Users\\bcw60\\OneDrive\\Desktop\\TestData\\walker_hos.mp4: 384x640 1 walker, 30.7ms\n",
      "video 1/1 (1109/1727) C:\\Users\\bcw60\\OneDrive\\Desktop\\TestData\\walker_hos.mp4: 384x640 1 walker, 40.6ms\n",
      "video 1/1 (1109/1727) C:\\Users\\bcw60\\OneDrive\\Desktop\\TestData\\walker_hos.mp4: 384x640 1 walker, 40.6ms\n",
      "video 1/1 (1110/1727) C:\\Users\\bcw60\\OneDrive\\Desktop\\TestData\\walker_hos.mp4: 384x640 1 walker, 33.6ms\n",
      "video 1/1 (1110/1727) C:\\Users\\bcw60\\OneDrive\\Desktop\\TestData\\walker_hos.mp4: 384x640 1 walker, 33.6ms\n",
      "video 1/1 (1111/1727) C:\\Users\\bcw60\\OneDrive\\Desktop\\TestData\\walker_hos.mp4: 384x640 1 walker, 49.4ms\n",
      "video 1/1 (1111/1727) C:\\Users\\bcw60\\OneDrive\\Desktop\\TestData\\walker_hos.mp4: 384x640 1 walker, 49.4ms\n",
      "video 1/1 (1112/1727) C:\\Users\\bcw60\\OneDrive\\Desktop\\TestData\\walker_hos.mp4: 384x640 1 walker, 31.0ms\n",
      "video 1/1 (1112/1727) C:\\Users\\bcw60\\OneDrive\\Desktop\\TestData\\walker_hos.mp4: 384x640 1 walker, 31.0ms\n",
      "video 1/1 (1113/1727) C:\\Users\\bcw60\\OneDrive\\Desktop\\TestData\\walker_hos.mp4: 384x640 1 walker, 40.5ms\n",
      "video 1/1 (1113/1727) C:\\Users\\bcw60\\OneDrive\\Desktop\\TestData\\walker_hos.mp4: 384x640 1 walker, 40.5ms\n",
      "video 1/1 (1114/1727) C:\\Users\\bcw60\\OneDrive\\Desktop\\TestData\\walker_hos.mp4: 384x640 1 walker, 33.6ms\n",
      "video 1/1 (1114/1727) C:\\Users\\bcw60\\OneDrive\\Desktop\\TestData\\walker_hos.mp4: 384x640 1 walker, 33.6ms\n",
      "video 1/1 (1115/1727) C:\\Users\\bcw60\\OneDrive\\Desktop\\TestData\\walker_hos.mp4: 384x640 1 walker, 48.4ms\n",
      "video 1/1 (1115/1727) C:\\Users\\bcw60\\OneDrive\\Desktop\\TestData\\walker_hos.mp4: 384x640 1 walker, 48.4ms\n",
      "video 1/1 (1116/1727) C:\\Users\\bcw60\\OneDrive\\Desktop\\TestData\\walker_hos.mp4: 384x640 1 walker, 43.7ms\n",
      "video 1/1 (1116/1727) C:\\Users\\bcw60\\OneDrive\\Desktop\\TestData\\walker_hos.mp4: 384x640 1 walker, 43.7ms\n",
      "video 1/1 (1117/1727) C:\\Users\\bcw60\\OneDrive\\Desktop\\TestData\\walker_hos.mp4: 384x640 1 walker, 41.6ms\n",
      "video 1/1 (1117/1727) C:\\Users\\bcw60\\OneDrive\\Desktop\\TestData\\walker_hos.mp4: 384x640 1 walker, 41.6ms\n",
      "video 1/1 (1118/1727) C:\\Users\\bcw60\\OneDrive\\Desktop\\TestData\\walker_hos.mp4: 384x640 1 walker, 34.8ms\n",
      "video 1/1 (1118/1727) C:\\Users\\bcw60\\OneDrive\\Desktop\\TestData\\walker_hos.mp4: 384x640 1 walker, 34.8ms\n",
      "video 1/1 (1119/1727) C:\\Users\\bcw60\\OneDrive\\Desktop\\TestData\\walker_hos.mp4: 384x640 1 walker, 30.9ms\n",
      "video 1/1 (1119/1727) C:\\Users\\bcw60\\OneDrive\\Desktop\\TestData\\walker_hos.mp4: 384x640 1 walker, 30.9ms\n",
      "video 1/1 (1120/1727) C:\\Users\\bcw60\\OneDrive\\Desktop\\TestData\\walker_hos.mp4: 384x640 1 walker, 41.6ms\n",
      "video 1/1 (1120/1727) C:\\Users\\bcw60\\OneDrive\\Desktop\\TestData\\walker_hos.mp4: 384x640 1 walker, 41.6ms\n",
      "video 1/1 (1121/1727) C:\\Users\\bcw60\\OneDrive\\Desktop\\TestData\\walker_hos.mp4: 384x640 1 walker, 35.2ms\n",
      "video 1/1 (1121/1727) C:\\Users\\bcw60\\OneDrive\\Desktop\\TestData\\walker_hos.mp4: 384x640 1 walker, 35.2ms\n",
      "video 1/1 (1122/1727) C:\\Users\\bcw60\\OneDrive\\Desktop\\TestData\\walker_hos.mp4: 384x640 1 walker, 36.0ms\n",
      "video 1/1 (1122/1727) C:\\Users\\bcw60\\OneDrive\\Desktop\\TestData\\walker_hos.mp4: 384x640 1 walker, 36.0ms\n",
      "video 1/1 (1123/1727) C:\\Users\\bcw60\\OneDrive\\Desktop\\TestData\\walker_hos.mp4: 384x640 1 walker, 33.8ms\n",
      "video 1/1 (1123/1727) C:\\Users\\bcw60\\OneDrive\\Desktop\\TestData\\walker_hos.mp4: 384x640 1 walker, 33.8ms\n",
      "video 1/1 (1124/1727) C:\\Users\\bcw60\\OneDrive\\Desktop\\TestData\\walker_hos.mp4: 384x640 1 walker, 42.7ms\n",
      "video 1/1 (1124/1727) C:\\Users\\bcw60\\OneDrive\\Desktop\\TestData\\walker_hos.mp4: 384x640 1 walker, 42.7ms\n",
      "video 1/1 (1125/1727) C:\\Users\\bcw60\\OneDrive\\Desktop\\TestData\\walker_hos.mp4: 384x640 1 walker, 33.3ms\n",
      "video 1/1 (1125/1727) C:\\Users\\bcw60\\OneDrive\\Desktop\\TestData\\walker_hos.mp4: 384x640 1 walker, 33.3ms\n",
      "video 1/1 (1126/1727) C:\\Users\\bcw60\\OneDrive\\Desktop\\TestData\\walker_hos.mp4: 384x640 1 walker, 47.7ms\n",
      "video 1/1 (1126/1727) C:\\Users\\bcw60\\OneDrive\\Desktop\\TestData\\walker_hos.mp4: 384x640 1 walker, 47.7ms\n",
      "video 1/1 (1127/1727) C:\\Users\\bcw60\\OneDrive\\Desktop\\TestData\\walker_hos.mp4: 384x640 1 walker, 30.8ms\n",
      "video 1/1 (1127/1727) C:\\Users\\bcw60\\OneDrive\\Desktop\\TestData\\walker_hos.mp4: 384x640 1 walker, 30.8ms\n",
      "video 1/1 (1128/1727) C:\\Users\\bcw60\\OneDrive\\Desktop\\TestData\\walker_hos.mp4: 384x640 1 walker, 37.8ms\n",
      "video 1/1 (1128/1727) C:\\Users\\bcw60\\OneDrive\\Desktop\\TestData\\walker_hos.mp4: 384x640 1 walker, 37.8ms\n",
      "video 1/1 (1129/1727) C:\\Users\\bcw60\\OneDrive\\Desktop\\TestData\\walker_hos.mp4: 384x640 1 walker, 36.3ms\n",
      "video 1/1 (1129/1727) C:\\Users\\bcw60\\OneDrive\\Desktop\\TestData\\walker_hos.mp4: 384x640 1 walker, 36.3ms\n",
      "video 1/1 (1130/1727) C:\\Users\\bcw60\\OneDrive\\Desktop\\TestData\\walker_hos.mp4: 384x640 1 walker, 30.7ms\n",
      "video 1/1 (1130/1727) C:\\Users\\bcw60\\OneDrive\\Desktop\\TestData\\walker_hos.mp4: 384x640 1 walker, 30.7ms\n",
      "video 1/1 (1131/1727) C:\\Users\\bcw60\\OneDrive\\Desktop\\TestData\\walker_hos.mp4: 384x640 1 walker, 41.7ms\n",
      "video 1/1 (1131/1727) C:\\Users\\bcw60\\OneDrive\\Desktop\\TestData\\walker_hos.mp4: 384x640 1 walker, 41.7ms\n",
      "video 1/1 (1132/1727) C:\\Users\\bcw60\\OneDrive\\Desktop\\TestData\\walker_hos.mp4: 384x640 1 walker, 35.2ms\n",
      "video 1/1 (1132/1727) C:\\Users\\bcw60\\OneDrive\\Desktop\\TestData\\walker_hos.mp4: 384x640 1 walker, 35.2ms\n",
      "video 1/1 (1133/1727) C:\\Users\\bcw60\\OneDrive\\Desktop\\TestData\\walker_hos.mp4: 384x640 1 walker, 48.6ms\n",
      "video 1/1 (1133/1727) C:\\Users\\bcw60\\OneDrive\\Desktop\\TestData\\walker_hos.mp4: 384x640 1 walker, 48.6ms\n",
      "video 1/1 (1134/1727) C:\\Users\\bcw60\\OneDrive\\Desktop\\TestData\\walker_hos.mp4: 384x640 1 walker, 43.5ms\n",
      "video 1/1 (1134/1727) C:\\Users\\bcw60\\OneDrive\\Desktop\\TestData\\walker_hos.mp4: 384x640 1 walker, 43.5ms\n",
      "video 1/1 (1135/1727) C:\\Users\\bcw60\\OneDrive\\Desktop\\TestData\\walker_hos.mp4: 384x640 1 walker, 35.4ms\n",
      "video 1/1 (1135/1727) C:\\Users\\bcw60\\OneDrive\\Desktop\\TestData\\walker_hos.mp4: 384x640 1 walker, 35.4ms\n",
      "video 1/1 (1136/1727) C:\\Users\\bcw60\\OneDrive\\Desktop\\TestData\\walker_hos.mp4: 384x640 1 walker, 34.8ms\n",
      "video 1/1 (1136/1727) C:\\Users\\bcw60\\OneDrive\\Desktop\\TestData\\walker_hos.mp4: 384x640 1 walker, 34.8ms\n",
      "video 1/1 (1137/1727) C:\\Users\\bcw60\\OneDrive\\Desktop\\TestData\\walker_hos.mp4: 384x640 1 walker, 30.6ms\n",
      "video 1/1 (1137/1727) C:\\Users\\bcw60\\OneDrive\\Desktop\\TestData\\walker_hos.mp4: 384x640 1 walker, 30.6ms\n",
      "video 1/1 (1138/1727) C:\\Users\\bcw60\\OneDrive\\Desktop\\TestData\\walker_hos.mp4: 384x640 1 walker, 40.1ms\n",
      "video 1/1 (1138/1727) C:\\Users\\bcw60\\OneDrive\\Desktop\\TestData\\walker_hos.mp4: 384x640 1 walker, 40.1ms\n",
      "video 1/1 (1139/1727) C:\\Users\\bcw60\\OneDrive\\Desktop\\TestData\\walker_hos.mp4: 384x640 1 walker, 37.5ms\n",
      "video 1/1 (1139/1727) C:\\Users\\bcw60\\OneDrive\\Desktop\\TestData\\walker_hos.mp4: 384x640 1 walker, 37.5ms\n",
      "video 1/1 (1140/1727) C:\\Users\\bcw60\\OneDrive\\Desktop\\TestData\\walker_hos.mp4: 384x640 1 walker, 35.5ms\n",
      "video 1/1 (1140/1727) C:\\Users\\bcw60\\OneDrive\\Desktop\\TestData\\walker_hos.mp4: 384x640 1 walker, 35.5ms\n",
      "video 1/1 (1141/1727) C:\\Users\\bcw60\\OneDrive\\Desktop\\TestData\\walker_hos.mp4: 384x640 1 walker, 42.2ms\n",
      "video 1/1 (1141/1727) C:\\Users\\bcw60\\OneDrive\\Desktop\\TestData\\walker_hos.mp4: 384x640 1 walker, 42.2ms\n",
      "video 1/1 (1142/1727) C:\\Users\\bcw60\\OneDrive\\Desktop\\TestData\\walker_hos.mp4: 384x640 1 walker, 35.4ms\n",
      "video 1/1 (1142/1727) C:\\Users\\bcw60\\OneDrive\\Desktop\\TestData\\walker_hos.mp4: 384x640 1 walker, 35.4ms\n",
      "video 1/1 (1143/1727) C:\\Users\\bcw60\\OneDrive\\Desktop\\TestData\\walker_hos.mp4: 384x640 1 walker, 34.9ms\n",
      "video 1/1 (1143/1727) C:\\Users\\bcw60\\OneDrive\\Desktop\\TestData\\walker_hos.mp4: 384x640 1 walker, 34.9ms\n",
      "video 1/1 (1144/1727) C:\\Users\\bcw60\\OneDrive\\Desktop\\TestData\\walker_hos.mp4: 384x640 1 walker, 47.4ms\n",
      "video 1/1 (1144/1727) C:\\Users\\bcw60\\OneDrive\\Desktop\\TestData\\walker_hos.mp4: 384x640 1 walker, 47.4ms\n",
      "video 1/1 (1145/1727) C:\\Users\\bcw60\\OneDrive\\Desktop\\TestData\\walker_hos.mp4: 384x640 1 walker, 31.1ms\n",
      "video 1/1 (1145/1727) C:\\Users\\bcw60\\OneDrive\\Desktop\\TestData\\walker_hos.mp4: 384x640 1 walker, 31.1ms\n",
      "video 1/1 (1146/1727) C:\\Users\\bcw60\\OneDrive\\Desktop\\TestData\\walker_hos.mp4: 384x640 1 walker, 38.0ms\n",
      "video 1/1 (1146/1727) C:\\Users\\bcw60\\OneDrive\\Desktop\\TestData\\walker_hos.mp4: 384x640 1 walker, 38.0ms\n",
      "video 1/1 (1147/1727) C:\\Users\\bcw60\\OneDrive\\Desktop\\TestData\\walker_hos.mp4: 384x640 1 walker, 36.1ms\n",
      "video 1/1 (1147/1727) C:\\Users\\bcw60\\OneDrive\\Desktop\\TestData\\walker_hos.mp4: 384x640 1 walker, 36.1ms\n",
      "video 1/1 (1148/1727) C:\\Users\\bcw60\\OneDrive\\Desktop\\TestData\\walker_hos.mp4: 384x640 1 walker, 34.4ms\n",
      "video 1/1 (1148/1727) C:\\Users\\bcw60\\OneDrive\\Desktop\\TestData\\walker_hos.mp4: 384x640 1 walker, 34.4ms\n",
      "video 1/1 (1149/1727) C:\\Users\\bcw60\\OneDrive\\Desktop\\TestData\\walker_hos.mp4: 384x640 1 walker, 39.9ms\n",
      "video 1/1 (1149/1727) C:\\Users\\bcw60\\OneDrive\\Desktop\\TestData\\walker_hos.mp4: 384x640 1 walker, 39.9ms\n",
      "video 1/1 (1150/1727) C:\\Users\\bcw60\\OneDrive\\Desktop\\TestData\\walker_hos.mp4: 384x640 1 walker, 37.4ms\n",
      "video 1/1 (1150/1727) C:\\Users\\bcw60\\OneDrive\\Desktop\\TestData\\walker_hos.mp4: 384x640 1 walker, 37.4ms\n",
      "video 1/1 (1151/1727) C:\\Users\\bcw60\\OneDrive\\Desktop\\TestData\\walker_hos.mp4: 384x640 1 walker, 36.4ms\n",
      "video 1/1 (1151/1727) C:\\Users\\bcw60\\OneDrive\\Desktop\\TestData\\walker_hos.mp4: 384x640 1 walker, 36.4ms\n",
      "video 1/1 (1152/1727) C:\\Users\\bcw60\\OneDrive\\Desktop\\TestData\\walker_hos.mp4: 384x640 1 walker, 40.7ms\n",
      "video 1/1 (1152/1727) C:\\Users\\bcw60\\OneDrive\\Desktop\\TestData\\walker_hos.mp4: 384x640 1 walker, 40.7ms\n",
      "video 1/1 (1153/1727) C:\\Users\\bcw60\\OneDrive\\Desktop\\TestData\\walker_hos.mp4: 384x640 1 walker, 35.1ms\n",
      "video 1/1 (1153/1727) C:\\Users\\bcw60\\OneDrive\\Desktop\\TestData\\walker_hos.mp4: 384x640 1 walker, 35.1ms\n",
      "video 1/1 (1154/1727) C:\\Users\\bcw60\\OneDrive\\Desktop\\TestData\\walker_hos.mp4: 384x640 1 walker, 31.4ms\n",
      "video 1/1 (1154/1727) C:\\Users\\bcw60\\OneDrive\\Desktop\\TestData\\walker_hos.mp4: 384x640 1 walker, 31.4ms\n",
      "video 1/1 (1155/1727) C:\\Users\\bcw60\\OneDrive\\Desktop\\TestData\\walker_hos.mp4: 384x640 1 walker, 38.2ms\n",
      "video 1/1 (1155/1727) C:\\Users\\bcw60\\OneDrive\\Desktop\\TestData\\walker_hos.mp4: 384x640 1 walker, 38.2ms\n",
      "video 1/1 (1156/1727) C:\\Users\\bcw60\\OneDrive\\Desktop\\TestData\\walker_hos.mp4: 384x640 1 walker, 33.2ms\n",
      "video 1/1 (1156/1727) C:\\Users\\bcw60\\OneDrive\\Desktop\\TestData\\walker_hos.mp4: 384x640 1 walker, 33.2ms\n",
      "video 1/1 (1157/1727) C:\\Users\\bcw60\\OneDrive\\Desktop\\TestData\\walker_hos.mp4: 384x640 1 walker, 37.7ms\n",
      "video 1/1 (1157/1727) C:\\Users\\bcw60\\OneDrive\\Desktop\\TestData\\walker_hos.mp4: 384x640 1 walker, 37.7ms\n",
      "video 1/1 (1158/1727) C:\\Users\\bcw60\\OneDrive\\Desktop\\TestData\\walker_hos.mp4: 384x640 1 walker, 41.8ms\n",
      "video 1/1 (1158/1727) C:\\Users\\bcw60\\OneDrive\\Desktop\\TestData\\walker_hos.mp4: 384x640 1 walker, 41.8ms\n",
      "video 1/1 (1159/1727) C:\\Users\\bcw60\\OneDrive\\Desktop\\TestData\\walker_hos.mp4: 384x640 1 walker, 32.9ms\n",
      "video 1/1 (1159/1727) C:\\Users\\bcw60\\OneDrive\\Desktop\\TestData\\walker_hos.mp4: 384x640 1 walker, 32.9ms\n",
      "video 1/1 (1160/1727) C:\\Users\\bcw60\\OneDrive\\Desktop\\TestData\\walker_hos.mp4: 384x640 1 walker, 48.1ms\n",
      "video 1/1 (1160/1727) C:\\Users\\bcw60\\OneDrive\\Desktop\\TestData\\walker_hos.mp4: 384x640 1 walker, 48.1ms\n",
      "video 1/1 (1161/1727) C:\\Users\\bcw60\\OneDrive\\Desktop\\TestData\\walker_hos.mp4: 384x640 1 walker, 44.3ms\n",
      "video 1/1 (1161/1727) C:\\Users\\bcw60\\OneDrive\\Desktop\\TestData\\walker_hos.mp4: 384x640 1 walker, 44.3ms\n",
      "video 1/1 (1162/1727) C:\\Users\\bcw60\\OneDrive\\Desktop\\TestData\\walker_hos.mp4: 384x640 1 walker, 31.5ms\n",
      "video 1/1 (1162/1727) C:\\Users\\bcw60\\OneDrive\\Desktop\\TestData\\walker_hos.mp4: 384x640 1 walker, 31.5ms\n",
      "video 1/1 (1163/1727) C:\\Users\\bcw60\\OneDrive\\Desktop\\TestData\\walker_hos.mp4: 384x640 1 walker, 42.1ms\n",
      "video 1/1 (1163/1727) C:\\Users\\bcw60\\OneDrive\\Desktop\\TestData\\walker_hos.mp4: 384x640 1 walker, 42.1ms\n",
      "video 1/1 (1164/1727) C:\\Users\\bcw60\\OneDrive\\Desktop\\TestData\\walker_hos.mp4: 384x640 1 walker, 33.4ms\n",
      "video 1/1 (1164/1727) C:\\Users\\bcw60\\OneDrive\\Desktop\\TestData\\walker_hos.mp4: 384x640 1 walker, 33.4ms\n",
      "video 1/1 (1165/1727) C:\\Users\\bcw60\\OneDrive\\Desktop\\TestData\\walker_hos.mp4: 384x640 1 walker, 52.2ms\n",
      "video 1/1 (1165/1727) C:\\Users\\bcw60\\OneDrive\\Desktop\\TestData\\walker_hos.mp4: 384x640 1 walker, 52.2ms\n",
      "video 1/1 (1166/1727) C:\\Users\\bcw60\\OneDrive\\Desktop\\TestData\\walker_hos.mp4: 384x640 1 walker, 23.1ms\n",
      "video 1/1 (1166/1727) C:\\Users\\bcw60\\OneDrive\\Desktop\\TestData\\walker_hos.mp4: 384x640 1 walker, 23.1ms\n",
      "video 1/1 (1167/1727) C:\\Users\\bcw60\\OneDrive\\Desktop\\TestData\\walker_hos.mp4: 384x640 1 walker, 40.1ms\n",
      "video 1/1 (1167/1727) C:\\Users\\bcw60\\OneDrive\\Desktop\\TestData\\walker_hos.mp4: 384x640 1 walker, 40.1ms\n",
      "video 1/1 (1168/1727) C:\\Users\\bcw60\\OneDrive\\Desktop\\TestData\\walker_hos.mp4: 384x640 1 walker, 34.3ms\n",
      "video 1/1 (1168/1727) C:\\Users\\bcw60\\OneDrive\\Desktop\\TestData\\walker_hos.mp4: 384x640 1 walker, 34.3ms\n",
      "video 1/1 (1169/1727) C:\\Users\\bcw60\\OneDrive\\Desktop\\TestData\\walker_hos.mp4: 384x640 1 walker, 50.5ms\n",
      "video 1/1 (1169/1727) C:\\Users\\bcw60\\OneDrive\\Desktop\\TestData\\walker_hos.mp4: 384x640 1 walker, 50.5ms\n",
      "video 1/1 (1170/1727) C:\\Users\\bcw60\\OneDrive\\Desktop\\TestData\\walker_hos.mp4: 384x640 1 walker, 32.2ms\n",
      "video 1/1 (1170/1727) C:\\Users\\bcw60\\OneDrive\\Desktop\\TestData\\walker_hos.mp4: 384x640 1 walker, 32.2ms\n",
      "video 1/1 (1171/1727) C:\\Users\\bcw60\\OneDrive\\Desktop\\TestData\\walker_hos.mp4: 384x640 1 walker, 40.6ms\n",
      "video 1/1 (1171/1727) C:\\Users\\bcw60\\OneDrive\\Desktop\\TestData\\walker_hos.mp4: 384x640 1 walker, 40.6ms\n",
      "video 1/1 (1172/1727) C:\\Users\\bcw60\\OneDrive\\Desktop\\TestData\\walker_hos.mp4: 384x640 1 walker, 34.0ms\n",
      "video 1/1 (1172/1727) C:\\Users\\bcw60\\OneDrive\\Desktop\\TestData\\walker_hos.mp4: 384x640 1 walker, 34.0ms\n",
      "video 1/1 (1173/1727) C:\\Users\\bcw60\\OneDrive\\Desktop\\TestData\\walker_hos.mp4: 384x640 1 walker, 49.7ms\n",
      "video 1/1 (1173/1727) C:\\Users\\bcw60\\OneDrive\\Desktop\\TestData\\walker_hos.mp4: 384x640 1 walker, 49.7ms\n",
      "video 1/1 (1174/1727) C:\\Users\\bcw60\\OneDrive\\Desktop\\TestData\\walker_hos.mp4: 384x640 1 walker, 25.0ms\n",
      "video 1/1 (1174/1727) C:\\Users\\bcw60\\OneDrive\\Desktop\\TestData\\walker_hos.mp4: 384x640 1 walker, 25.0ms\n",
      "video 1/1 (1175/1727) C:\\Users\\bcw60\\OneDrive\\Desktop\\TestData\\walker_hos.mp4: 384x640 1 walker, 39.3ms\n",
      "video 1/1 (1175/1727) C:\\Users\\bcw60\\OneDrive\\Desktop\\TestData\\walker_hos.mp4: 384x640 1 walker, 39.3ms\n",
      "video 1/1 (1176/1727) C:\\Users\\bcw60\\OneDrive\\Desktop\\TestData\\walker_hos.mp4: 384x640 1 walker, 36.7ms\n",
      "video 1/1 (1176/1727) C:\\Users\\bcw60\\OneDrive\\Desktop\\TestData\\walker_hos.mp4: 384x640 1 walker, 36.7ms\n",
      "video 1/1 (1177/1727) C:\\Users\\bcw60\\OneDrive\\Desktop\\TestData\\walker_hos.mp4: 384x640 1 walker, 32.6ms\n",
      "video 1/1 (1177/1727) C:\\Users\\bcw60\\OneDrive\\Desktop\\TestData\\walker_hos.mp4: 384x640 1 walker, 32.6ms\n",
      "video 1/1 (1178/1727) C:\\Users\\bcw60\\OneDrive\\Desktop\\TestData\\walker_hos.mp4: 384x640 1 walker, 32.7ms\n",
      "video 1/1 (1178/1727) C:\\Users\\bcw60\\OneDrive\\Desktop\\TestData\\walker_hos.mp4: 384x640 1 walker, 32.7ms\n",
      "video 1/1 (1179/1727) C:\\Users\\bcw60\\OneDrive\\Desktop\\TestData\\walker_hos.mp4: 384x640 1 walker, 38.4ms\n",
      "video 1/1 (1179/1727) C:\\Users\\bcw60\\OneDrive\\Desktop\\TestData\\walker_hos.mp4: 384x640 1 walker, 38.4ms\n",
      "video 1/1 (1180/1727) C:\\Users\\bcw60\\OneDrive\\Desktop\\TestData\\walker_hos.mp4: 384x640 1 walker, 35.7ms\n",
      "video 1/1 (1180/1727) C:\\Users\\bcw60\\OneDrive\\Desktop\\TestData\\walker_hos.mp4: 384x640 1 walker, 35.7ms\n",
      "video 1/1 (1181/1727) C:\\Users\\bcw60\\OneDrive\\Desktop\\TestData\\walker_hos.mp4: 384x640 1 walker, 49.2ms\n",
      "video 1/1 (1181/1727) C:\\Users\\bcw60\\OneDrive\\Desktop\\TestData\\walker_hos.mp4: 384x640 1 walker, 49.2ms\n",
      "video 1/1 (1182/1727) C:\\Users\\bcw60\\OneDrive\\Desktop\\TestData\\walker_hos.mp4: 384x640 1 walker, 32.4ms\n",
      "video 1/1 (1182/1727) C:\\Users\\bcw60\\OneDrive\\Desktop\\TestData\\walker_hos.mp4: 384x640 1 walker, 32.4ms\n",
      "video 1/1 (1183/1727) C:\\Users\\bcw60\\OneDrive\\Desktop\\TestData\\walker_hos.mp4: 384x640 1 walker, 39.9ms\n",
      "video 1/1 (1183/1727) C:\\Users\\bcw60\\OneDrive\\Desktop\\TestData\\walker_hos.mp4: 384x640 1 walker, 39.9ms\n",
      "video 1/1 (1184/1727) C:\\Users\\bcw60\\OneDrive\\Desktop\\TestData\\walker_hos.mp4: 384x640 1 walker, 34.4ms\n",
      "video 1/1 (1184/1727) C:\\Users\\bcw60\\OneDrive\\Desktop\\TestData\\walker_hos.mp4: 384x640 1 walker, 34.4ms\n",
      "video 1/1 (1185/1727) C:\\Users\\bcw60\\OneDrive\\Desktop\\TestData\\walker_hos.mp4: 384x640 1 walker, 50.0ms\n",
      "video 1/1 (1185/1727) C:\\Users\\bcw60\\OneDrive\\Desktop\\TestData\\walker_hos.mp4: 384x640 1 walker, 50.0ms\n",
      "video 1/1 (1186/1727) C:\\Users\\bcw60\\OneDrive\\Desktop\\TestData\\walker_hos.mp4: 384x640 1 walker, 32.4ms\n",
      "video 1/1 (1186/1727) C:\\Users\\bcw60\\OneDrive\\Desktop\\TestData\\walker_hos.mp4: 384x640 1 walker, 32.4ms\n",
      "video 1/1 (1187/1727) C:\\Users\\bcw60\\OneDrive\\Desktop\\TestData\\walker_hos.mp4: 384x640 1 walker, 43.5ms\n",
      "video 1/1 (1187/1727) C:\\Users\\bcw60\\OneDrive\\Desktop\\TestData\\walker_hos.mp4: 384x640 1 walker, 43.5ms\n",
      "video 1/1 (1188/1727) C:\\Users\\bcw60\\OneDrive\\Desktop\\TestData\\walker_hos.mp4: 384x640 1 walker, 34.2ms\n",
      "video 1/1 (1188/1727) C:\\Users\\bcw60\\OneDrive\\Desktop\\TestData\\walker_hos.mp4: 384x640 1 walker, 34.2ms\n",
      "video 1/1 (1189/1727) C:\\Users\\bcw60\\OneDrive\\Desktop\\TestData\\walker_hos.mp4: 384x640 1 walker, 50.8ms\n",
      "video 1/1 (1189/1727) C:\\Users\\bcw60\\OneDrive\\Desktop\\TestData\\walker_hos.mp4: 384x640 1 walker, 50.8ms\n",
      "video 1/1 (1190/1727) C:\\Users\\bcw60\\OneDrive\\Desktop\\TestData\\walker_hos.mp4: 384x640 1 walker, 44.2ms\n",
      "video 1/1 (1190/1727) C:\\Users\\bcw60\\OneDrive\\Desktop\\TestData\\walker_hos.mp4: 384x640 1 walker, 44.2ms\n",
      "video 1/1 (1191/1727) C:\\Users\\bcw60\\OneDrive\\Desktop\\TestData\\walker_hos.mp4: 384x640 1 walker, 35.4ms\n",
      "video 1/1 (1191/1727) C:\\Users\\bcw60\\OneDrive\\Desktop\\TestData\\walker_hos.mp4: 384x640 1 walker, 35.4ms\n",
      "video 1/1 (1192/1727) C:\\Users\\bcw60\\OneDrive\\Desktop\\TestData\\walker_hos.mp4: 384x640 1 walker, 34.0ms\n",
      "video 1/1 (1192/1727) C:\\Users\\bcw60\\OneDrive\\Desktop\\TestData\\walker_hos.mp4: 384x640 1 walker, 34.0ms\n",
      "video 1/1 (1193/1727) C:\\Users\\bcw60\\OneDrive\\Desktop\\TestData\\walker_hos.mp4: 384x640 1 walker, 50.1ms\n",
      "video 1/1 (1193/1727) C:\\Users\\bcw60\\OneDrive\\Desktop\\TestData\\walker_hos.mp4: 384x640 1 walker, 50.1ms\n",
      "video 1/1 (1194/1727) C:\\Users\\bcw60\\OneDrive\\Desktop\\TestData\\walker_hos.mp4: 384x640 1 walker, 35.2ms\n",
      "video 1/1 (1194/1727) C:\\Users\\bcw60\\OneDrive\\Desktop\\TestData\\walker_hos.mp4: 384x640 1 walker, 35.2ms\n",
      "video 1/1 (1195/1727) C:\\Users\\bcw60\\OneDrive\\Desktop\\TestData\\walker_hos.mp4: 384x640 1 walker, 32.8ms\n",
      "video 1/1 (1195/1727) C:\\Users\\bcw60\\OneDrive\\Desktop\\TestData\\walker_hos.mp4: 384x640 1 walker, 32.8ms\n",
      "video 1/1 (1196/1727) C:\\Users\\bcw60\\OneDrive\\Desktop\\TestData\\walker_hos.mp4: 384x640 1 walker, 32.9ms\n",
      "video 1/1 (1196/1727) C:\\Users\\bcw60\\OneDrive\\Desktop\\TestData\\walker_hos.mp4: 384x640 1 walker, 32.9ms\n",
      "video 1/1 (1197/1727) C:\\Users\\bcw60\\OneDrive\\Desktop\\TestData\\walker_hos.mp4: 384x640 1 walker, 30.9ms\n",
      "video 1/1 (1197/1727) C:\\Users\\bcw60\\OneDrive\\Desktop\\TestData\\walker_hos.mp4: 384x640 1 walker, 30.9ms\n",
      "video 1/1 (1198/1727) C:\\Users\\bcw60\\OneDrive\\Desktop\\TestData\\walker_hos.mp4: 384x640 1 walker, 32.8ms\n",
      "video 1/1 (1198/1727) C:\\Users\\bcw60\\OneDrive\\Desktop\\TestData\\walker_hos.mp4: 384x640 1 walker, 32.8ms\n",
      "video 1/1 (1199/1727) C:\\Users\\bcw60\\OneDrive\\Desktop\\TestData\\walker_hos.mp4: 384x640 1 walker, 49.3ms\n",
      "video 1/1 (1199/1727) C:\\Users\\bcw60\\OneDrive\\Desktop\\TestData\\walker_hos.mp4: 384x640 1 walker, 49.3ms\n",
      "video 1/1 (1200/1727) C:\\Users\\bcw60\\OneDrive\\Desktop\\TestData\\walker_hos.mp4: 384x640 1 walker, 43.0ms\n",
      "video 1/1 (1200/1727) C:\\Users\\bcw60\\OneDrive\\Desktop\\TestData\\walker_hos.mp4: 384x640 1 walker, 43.0ms\n",
      "video 1/1 (1201/1727) C:\\Users\\bcw60\\OneDrive\\Desktop\\TestData\\walker_hos.mp4: 384x640 1 walker, 33.6ms\n",
      "video 1/1 (1201/1727) C:\\Users\\bcw60\\OneDrive\\Desktop\\TestData\\walker_hos.mp4: 384x640 1 walker, 33.6ms\n",
      "video 1/1 (1202/1727) C:\\Users\\bcw60\\OneDrive\\Desktop\\TestData\\walker_hos.mp4: 384x640 1 walker, 37.2ms\n",
      "video 1/1 (1202/1727) C:\\Users\\bcw60\\OneDrive\\Desktop\\TestData\\walker_hos.mp4: 384x640 1 walker, 37.2ms\n",
      "video 1/1 (1203/1727) C:\\Users\\bcw60\\OneDrive\\Desktop\\TestData\\walker_hos.mp4: 384x640 1 walker, 30.0ms\n",
      "video 1/1 (1203/1727) C:\\Users\\bcw60\\OneDrive\\Desktop\\TestData\\walker_hos.mp4: 384x640 1 walker, 30.0ms\n",
      "video 1/1 (1204/1727) C:\\Users\\bcw60\\OneDrive\\Desktop\\TestData\\walker_hos.mp4: 384x640 1 walker, 42.5ms\n",
      "video 1/1 (1204/1727) C:\\Users\\bcw60\\OneDrive\\Desktop\\TestData\\walker_hos.mp4: 384x640 1 walker, 42.5ms\n",
      "video 1/1 (1205/1727) C:\\Users\\bcw60\\OneDrive\\Desktop\\TestData\\walker_hos.mp4: 384x640 1 walker, 35.3ms\n",
      "video 1/1 (1205/1727) C:\\Users\\bcw60\\OneDrive\\Desktop\\TestData\\walker_hos.mp4: 384x640 1 walker, 35.3ms\n",
      "video 1/1 (1206/1727) C:\\Users\\bcw60\\OneDrive\\Desktop\\TestData\\walker_hos.mp4: 384x640 1 walker, 48.4ms\n",
      "video 1/1 (1206/1727) C:\\Users\\bcw60\\OneDrive\\Desktop\\TestData\\walker_hos.mp4: 384x640 1 walker, 48.4ms\n",
      "video 1/1 (1207/1727) C:\\Users\\bcw60\\OneDrive\\Desktop\\TestData\\walker_hos.mp4: 384x640 1 walker, 34.4ms\n",
      "video 1/1 (1207/1727) C:\\Users\\bcw60\\OneDrive\\Desktop\\TestData\\walker_hos.mp4: 384x640 1 walker, 34.4ms\n",
      "video 1/1 (1208/1727) C:\\Users\\bcw60\\OneDrive\\Desktop\\TestData\\walker_hos.mp4: 384x640 1 walker, 42.6ms\n",
      "video 1/1 (1208/1727) C:\\Users\\bcw60\\OneDrive\\Desktop\\TestData\\walker_hos.mp4: 384x640 1 walker, 42.6ms\n",
      "video 1/1 (1209/1727) C:\\Users\\bcw60\\OneDrive\\Desktop\\TestData\\walker_hos.mp4: 384x640 1 walker, 36.0ms\n",
      "video 1/1 (1209/1727) C:\\Users\\bcw60\\OneDrive\\Desktop\\TestData\\walker_hos.mp4: 384x640 1 walker, 36.0ms\n",
      "video 1/1 (1210/1727) C:\\Users\\bcw60\\OneDrive\\Desktop\\TestData\\walker_hos.mp4: 384x640 1 walker, 48.8ms\n",
      "video 1/1 (1210/1727) C:\\Users\\bcw60\\OneDrive\\Desktop\\TestData\\walker_hos.mp4: 384x640 1 walker, 48.8ms\n",
      "video 1/1 (1211/1727) C:\\Users\\bcw60\\OneDrive\\Desktop\\TestData\\walker_hos.mp4: 384x640 1 walker, 31.5ms\n",
      "video 1/1 (1211/1727) C:\\Users\\bcw60\\OneDrive\\Desktop\\TestData\\walker_hos.mp4: 384x640 1 walker, 31.5ms\n",
      "video 1/1 (1212/1727) C:\\Users\\bcw60\\OneDrive\\Desktop\\TestData\\walker_hos.mp4: 384x640 1 walker, 38.7ms\n",
      "video 1/1 (1212/1727) C:\\Users\\bcw60\\OneDrive\\Desktop\\TestData\\walker_hos.mp4: 384x640 1 walker, 38.7ms\n",
      "video 1/1 (1213/1727) C:\\Users\\bcw60\\OneDrive\\Desktop\\TestData\\walker_hos.mp4: 384x640 1 walker, 35.3ms\n",
      "video 1/1 (1213/1727) C:\\Users\\bcw60\\OneDrive\\Desktop\\TestData\\walker_hos.mp4: 384x640 1 walker, 35.3ms\n",
      "video 1/1 (1214/1727) C:\\Users\\bcw60\\OneDrive\\Desktop\\TestData\\walker_hos.mp4: 384x640 1 walker, 31.1ms\n",
      "video 1/1 (1214/1727) C:\\Users\\bcw60\\OneDrive\\Desktop\\TestData\\walker_hos.mp4: 384x640 1 walker, 31.1ms\n",
      "video 1/1 (1215/1727) C:\\Users\\bcw60\\OneDrive\\Desktop\\TestData\\walker_hos.mp4: 384x640 1 walker, 41.6ms\n",
      "video 1/1 (1215/1727) C:\\Users\\bcw60\\OneDrive\\Desktop\\TestData\\walker_hos.mp4: 384x640 1 walker, 41.6ms\n",
      "video 1/1 (1216/1727) C:\\Users\\bcw60\\OneDrive\\Desktop\\TestData\\walker_hos.mp4: 384x640 1 walker, 35.2ms\n",
      "video 1/1 (1216/1727) C:\\Users\\bcw60\\OneDrive\\Desktop\\TestData\\walker_hos.mp4: 384x640 1 walker, 35.2ms\n",
      "video 1/1 (1217/1727) C:\\Users\\bcw60\\OneDrive\\Desktop\\TestData\\walker_hos.mp4: 384x640 1 walker, 50.0ms\n",
      "video 1/1 (1217/1727) C:\\Users\\bcw60\\OneDrive\\Desktop\\TestData\\walker_hos.mp4: 384x640 1 walker, 50.0ms\n",
      "video 1/1 (1218/1727) C:\\Users\\bcw60\\OneDrive\\Desktop\\TestData\\walker_hos.mp4: 384x640 1 walker, 34.0ms\n",
      "video 1/1 (1218/1727) C:\\Users\\bcw60\\OneDrive\\Desktop\\TestData\\walker_hos.mp4: 384x640 1 walker, 34.0ms\n",
      "video 1/1 (1219/1727) C:\\Users\\bcw60\\OneDrive\\Desktop\\TestData\\walker_hos.mp4: 384x640 1 walker, 43.1ms\n",
      "video 1/1 (1219/1727) C:\\Users\\bcw60\\OneDrive\\Desktop\\TestData\\walker_hos.mp4: 384x640 1 walker, 43.1ms\n",
      "video 1/1 (1220/1727) C:\\Users\\bcw60\\OneDrive\\Desktop\\TestData\\walker_hos.mp4: 384x640 1 walker, 36.3ms\n",
      "video 1/1 (1220/1727) C:\\Users\\bcw60\\OneDrive\\Desktop\\TestData\\walker_hos.mp4: 384x640 1 walker, 36.3ms\n",
      "video 1/1 (1221/1727) C:\\Users\\bcw60\\OneDrive\\Desktop\\TestData\\walker_hos.mp4: 384x640 1 walker, 35.8ms\n",
      "video 1/1 (1221/1727) C:\\Users\\bcw60\\OneDrive\\Desktop\\TestData\\walker_hos.mp4: 384x640 1 walker, 35.8ms\n",
      "video 1/1 (1222/1727) C:\\Users\\bcw60\\OneDrive\\Desktop\\TestData\\walker_hos.mp4: 384x640 1 walker, 42.9ms\n",
      "video 1/1 (1222/1727) C:\\Users\\bcw60\\OneDrive\\Desktop\\TestData\\walker_hos.mp4: 384x640 1 walker, 42.9ms\n",
      "video 1/1 (1223/1727) C:\\Users\\bcw60\\OneDrive\\Desktop\\TestData\\walker_hos.mp4: 384x640 1 walker, 43.5ms\n",
      "video 1/1 (1223/1727) C:\\Users\\bcw60\\OneDrive\\Desktop\\TestData\\walker_hos.mp4: 384x640 1 walker, 43.5ms\n",
      "video 1/1 (1224/1727) C:\\Users\\bcw60\\OneDrive\\Desktop\\TestData\\walker_hos.mp4: 384x640 1 walker, 35.1ms\n",
      "video 1/1 (1224/1727) C:\\Users\\bcw60\\OneDrive\\Desktop\\TestData\\walker_hos.mp4: 384x640 1 walker, 35.1ms\n",
      "video 1/1 (1225/1727) C:\\Users\\bcw60\\OneDrive\\Desktop\\TestData\\walker_hos.mp4: 384x640 1 walker, 36.2ms\n",
      "video 1/1 (1225/1727) C:\\Users\\bcw60\\OneDrive\\Desktop\\TestData\\walker_hos.mp4: 384x640 1 walker, 36.2ms\n",
      "video 1/1 (1226/1727) C:\\Users\\bcw60\\OneDrive\\Desktop\\TestData\\walker_hos.mp4: 384x640 1 walker, 42.9ms\n",
      "video 1/1 (1226/1727) C:\\Users\\bcw60\\OneDrive\\Desktop\\TestData\\walker_hos.mp4: 384x640 1 walker, 42.9ms\n",
      "video 1/1 (1227/1727) C:\\Users\\bcw60\\OneDrive\\Desktop\\TestData\\walker_hos.mp4: 384x640 1 walker, 41.9ms\n",
      "video 1/1 (1227/1727) C:\\Users\\bcw60\\OneDrive\\Desktop\\TestData\\walker_hos.mp4: 384x640 1 walker, 41.9ms\n",
      "video 1/1 (1228/1727) C:\\Users\\bcw60\\OneDrive\\Desktop\\TestData\\walker_hos.mp4: 384x640 1 walker, 35.6ms\n",
      "video 1/1 (1228/1727) C:\\Users\\bcw60\\OneDrive\\Desktop\\TestData\\walker_hos.mp4: 384x640 1 walker, 35.6ms\n",
      "video 1/1 (1229/1727) C:\\Users\\bcw60\\OneDrive\\Desktop\\TestData\\walker_hos.mp4: 384x640 1 walker, 50.0ms\n",
      "video 1/1 (1229/1727) C:\\Users\\bcw60\\OneDrive\\Desktop\\TestData\\walker_hos.mp4: 384x640 1 walker, 50.0ms\n",
      "video 1/1 (1230/1727) C:\\Users\\bcw60\\OneDrive\\Desktop\\TestData\\walker_hos.mp4: 384x640 1 walker, 30.5ms\n",
      "video 1/1 (1230/1727) C:\\Users\\bcw60\\OneDrive\\Desktop\\TestData\\walker_hos.mp4: 384x640 1 walker, 30.5ms\n",
      "video 1/1 (1231/1727) C:\\Users\\bcw60\\OneDrive\\Desktop\\TestData\\walker_hos.mp4: 384x640 1 walker, 40.0ms\n",
      "video 1/1 (1231/1727) C:\\Users\\bcw60\\OneDrive\\Desktop\\TestData\\walker_hos.mp4: 384x640 1 walker, 40.0ms\n",
      "video 1/1 (1232/1727) C:\\Users\\bcw60\\OneDrive\\Desktop\\TestData\\walker_hos.mp4: 384x640 1 walker, 35.6ms\n",
      "video 1/1 (1232/1727) C:\\Users\\bcw60\\OneDrive\\Desktop\\TestData\\walker_hos.mp4: 384x640 1 walker, 35.6ms\n",
      "video 1/1 (1233/1727) C:\\Users\\bcw60\\OneDrive\\Desktop\\TestData\\walker_hos.mp4: 384x640 1 walker, 48.0ms\n",
      "video 1/1 (1233/1727) C:\\Users\\bcw60\\OneDrive\\Desktop\\TestData\\walker_hos.mp4: 384x640 1 walker, 48.0ms\n",
      "video 1/1 (1234/1727) C:\\Users\\bcw60\\OneDrive\\Desktop\\TestData\\walker_hos.mp4: 384x640 1 walker, 43.5ms\n",
      "video 1/1 (1234/1727) C:\\Users\\bcw60\\OneDrive\\Desktop\\TestData\\walker_hos.mp4: 384x640 1 walker, 43.5ms\n",
      "video 1/1 (1235/1727) C:\\Users\\bcw60\\OneDrive\\Desktop\\TestData\\walker_hos.mp4: 384x640 1 walker, 35.7ms\n",
      "video 1/1 (1235/1727) C:\\Users\\bcw60\\OneDrive\\Desktop\\TestData\\walker_hos.mp4: 384x640 1 walker, 35.7ms\n",
      "video 1/1 (1236/1727) C:\\Users\\bcw60\\OneDrive\\Desktop\\TestData\\walker_hos.mp4: 384x640 1 walker, 36.7ms\n",
      "video 1/1 (1236/1727) C:\\Users\\bcw60\\OneDrive\\Desktop\\TestData\\walker_hos.mp4: 384x640 1 walker, 36.7ms\n",
      "video 1/1 (1237/1727) C:\\Users\\bcw60\\OneDrive\\Desktop\\TestData\\walker_hos.mp4: 384x640 1 walker, 30.7ms\n",
      "video 1/1 (1237/1727) C:\\Users\\bcw60\\OneDrive\\Desktop\\TestData\\walker_hos.mp4: 384x640 1 walker, 30.7ms\n",
      "video 1/1 (1238/1727) C:\\Users\\bcw60\\OneDrive\\Desktop\\TestData\\walker_hos.mp4: 384x640 1 walker, 41.2ms\n",
      "video 1/1 (1238/1727) C:\\Users\\bcw60\\OneDrive\\Desktop\\TestData\\walker_hos.mp4: 384x640 1 walker, 41.2ms\n",
      "video 1/1 (1239/1727) C:\\Users\\bcw60\\OneDrive\\Desktop\\TestData\\walker_hos.mp4: 384x640 1 walker, 35.8ms\n",
      "video 1/1 (1239/1727) C:\\Users\\bcw60\\OneDrive\\Desktop\\TestData\\walker_hos.mp4: 384x640 1 walker, 35.8ms\n",
      "video 1/1 (1240/1727) C:\\Users\\bcw60\\OneDrive\\Desktop\\TestData\\walker_hos.mp4: 384x640 1 walker, 49.4ms\n",
      "video 1/1 (1240/1727) C:\\Users\\bcw60\\OneDrive\\Desktop\\TestData\\walker_hos.mp4: 384x640 1 walker, 49.4ms\n",
      "video 1/1 (1241/1727) C:\\Users\\bcw60\\OneDrive\\Desktop\\TestData\\walker_hos.mp4: 384x640 1 walker, 34.9ms\n",
      "video 1/1 (1241/1727) C:\\Users\\bcw60\\OneDrive\\Desktop\\TestData\\walker_hos.mp4: 384x640 1 walker, 34.9ms\n",
      "video 1/1 (1242/1727) C:\\Users\\bcw60\\OneDrive\\Desktop\\TestData\\walker_hos.mp4: 384x640 1 walker, 41.7ms\n",
      "video 1/1 (1242/1727) C:\\Users\\bcw60\\OneDrive\\Desktop\\TestData\\walker_hos.mp4: 384x640 1 walker, 41.7ms\n",
      "video 1/1 (1243/1727) C:\\Users\\bcw60\\OneDrive\\Desktop\\TestData\\walker_hos.mp4: 384x640 1 walker, 35.9ms\n",
      "video 1/1 (1243/1727) C:\\Users\\bcw60\\OneDrive\\Desktop\\TestData\\walker_hos.mp4: 384x640 1 walker, 35.9ms\n",
      "video 1/1 (1244/1727) C:\\Users\\bcw60\\OneDrive\\Desktop\\TestData\\walker_hos.mp4: 384x640 1 walker, 49.2ms\n",
      "video 1/1 (1244/1727) C:\\Users\\bcw60\\OneDrive\\Desktop\\TestData\\walker_hos.mp4: 384x640 1 walker, 49.2ms\n",
      "video 1/1 (1245/1727) C:\\Users\\bcw60\\OneDrive\\Desktop\\TestData\\walker_hos.mp4: 384x640 1 walker, 31.5ms\n",
      "video 1/1 (1245/1727) C:\\Users\\bcw60\\OneDrive\\Desktop\\TestData\\walker_hos.mp4: 384x640 1 walker, 31.5ms\n",
      "video 1/1 (1246/1727) C:\\Users\\bcw60\\OneDrive\\Desktop\\TestData\\walker_hos.mp4: 384x640 1 walker, 38.9ms\n",
      "video 1/1 (1246/1727) C:\\Users\\bcw60\\OneDrive\\Desktop\\TestData\\walker_hos.mp4: 384x640 1 walker, 38.9ms\n",
      "video 1/1 (1247/1727) C:\\Users\\bcw60\\OneDrive\\Desktop\\TestData\\walker_hos.mp4: 384x640 1 walker, 35.3ms\n",
      "video 1/1 (1247/1727) C:\\Users\\bcw60\\OneDrive\\Desktop\\TestData\\walker_hos.mp4: 384x640 1 walker, 35.3ms\n",
      "video 1/1 (1248/1727) C:\\Users\\bcw60\\OneDrive\\Desktop\\TestData\\walker_hos.mp4: 384x640 1 walker, 48.4ms\n",
      "video 1/1 (1248/1727) C:\\Users\\bcw60\\OneDrive\\Desktop\\TestData\\walker_hos.mp4: 384x640 1 walker, 48.4ms\n",
      "video 1/1 (1249/1727) C:\\Users\\bcw60\\OneDrive\\Desktop\\TestData\\walker_hos.mp4: 384x640 1 walker, 31.5ms\n",
      "video 1/1 (1249/1727) C:\\Users\\bcw60\\OneDrive\\Desktop\\TestData\\walker_hos.mp4: 384x640 1 walker, 31.5ms\n",
      "video 1/1 (1250/1727) C:\\Users\\bcw60\\OneDrive\\Desktop\\TestData\\walker_hos.mp4: 384x640 1 walker, 38.4ms\n",
      "video 1/1 (1250/1727) C:\\Users\\bcw60\\OneDrive\\Desktop\\TestData\\walker_hos.mp4: 384x640 1 walker, 38.4ms\n",
      "video 1/1 (1251/1727) C:\\Users\\bcw60\\OneDrive\\Desktop\\TestData\\walker_hos.mp4: 384x640 1 walker, 37.0ms\n",
      "video 1/1 (1251/1727) C:\\Users\\bcw60\\OneDrive\\Desktop\\TestData\\walker_hos.mp4: 384x640 1 walker, 37.0ms\n",
      "video 1/1 (1252/1727) C:\\Users\\bcw60\\OneDrive\\Desktop\\TestData\\walker_hos.mp4: 384x640 1 walker, 31.4ms\n",
      "video 1/1 (1252/1727) C:\\Users\\bcw60\\OneDrive\\Desktop\\TestData\\walker_hos.mp4: 384x640 1 walker, 31.4ms\n",
      "video 1/1 (1253/1727) C:\\Users\\bcw60\\OneDrive\\Desktop\\TestData\\walker_hos.mp4: 384x640 1 walker, 39.0ms\n",
      "video 1/1 (1253/1727) C:\\Users\\bcw60\\OneDrive\\Desktop\\TestData\\walker_hos.mp4: 384x640 1 walker, 39.0ms\n",
      "video 1/1 (1254/1727) C:\\Users\\bcw60\\OneDrive\\Desktop\\TestData\\walker_hos.mp4: 384x640 1 walker, 35.2ms\n",
      "video 1/1 (1254/1727) C:\\Users\\bcw60\\OneDrive\\Desktop\\TestData\\walker_hos.mp4: 384x640 1 walker, 35.2ms\n",
      "video 1/1 (1255/1727) C:\\Users\\bcw60\\OneDrive\\Desktop\\TestData\\walker_hos.mp4: 384x640 1 walker, 48.4ms\n",
      "video 1/1 (1255/1727) C:\\Users\\bcw60\\OneDrive\\Desktop\\TestData\\walker_hos.mp4: 384x640 1 walker, 48.4ms\n",
      "video 1/1 (1256/1727) C:\\Users\\bcw60\\OneDrive\\Desktop\\TestData\\walker_hos.mp4: 384x640 1 walker, 31.5ms\n",
      "video 1/1 (1256/1727) C:\\Users\\bcw60\\OneDrive\\Desktop\\TestData\\walker_hos.mp4: 384x640 1 walker, 31.5ms\n",
      "video 1/1 (1257/1727) C:\\Users\\bcw60\\OneDrive\\Desktop\\TestData\\walker_hos.mp4: 384x640 1 walker, 39.5ms\n",
      "video 1/1 (1257/1727) C:\\Users\\bcw60\\OneDrive\\Desktop\\TestData\\walker_hos.mp4: 384x640 1 walker, 39.5ms\n",
      "video 1/1 (1258/1727) C:\\Users\\bcw60\\OneDrive\\Desktop\\TestData\\walker_hos.mp4: 384x640 1 walker, 36.6ms\n",
      "video 1/1 (1258/1727) C:\\Users\\bcw60\\OneDrive\\Desktop\\TestData\\walker_hos.mp4: 384x640 1 walker, 36.6ms\n",
      "video 1/1 (1259/1727) C:\\Users\\bcw60\\OneDrive\\Desktop\\TestData\\walker_hos.mp4: 384x640 1 walker, 31.6ms\n",
      "video 1/1 (1259/1727) C:\\Users\\bcw60\\OneDrive\\Desktop\\TestData\\walker_hos.mp4: 384x640 1 walker, 31.6ms\n",
      "video 1/1 (1260/1727) C:\\Users\\bcw60\\OneDrive\\Desktop\\TestData\\walker_hos.mp4: 384x640 1 walker, 39.8ms\n",
      "video 1/1 (1260/1727) C:\\Users\\bcw60\\OneDrive\\Desktop\\TestData\\walker_hos.mp4: 384x640 1 walker, 39.8ms\n",
      "video 1/1 (1261/1727) C:\\Users\\bcw60\\OneDrive\\Desktop\\TestData\\walker_hos.mp4: 384x640 1 walker, 35.4ms\n",
      "video 1/1 (1261/1727) C:\\Users\\bcw60\\OneDrive\\Desktop\\TestData\\walker_hos.mp4: 384x640 1 walker, 35.4ms\n",
      "video 1/1 (1262/1727) C:\\Users\\bcw60\\OneDrive\\Desktop\\TestData\\walker_hos.mp4: 384x640 1 walker, 48.2ms\n",
      "video 1/1 (1262/1727) C:\\Users\\bcw60\\OneDrive\\Desktop\\TestData\\walker_hos.mp4: 384x640 1 walker, 48.2ms\n",
      "video 1/1 (1263/1727) C:\\Users\\bcw60\\OneDrive\\Desktop\\TestData\\walker_hos.mp4: 384x640 1 walker, 42.1ms\n",
      "video 1/1 (1263/1727) C:\\Users\\bcw60\\OneDrive\\Desktop\\TestData\\walker_hos.mp4: 384x640 1 walker, 42.1ms\n",
      "video 1/1 (1264/1727) C:\\Users\\bcw60\\OneDrive\\Desktop\\TestData\\walker_hos.mp4: 384x640 1 walker, 35.0ms\n",
      "video 1/1 (1264/1727) C:\\Users\\bcw60\\OneDrive\\Desktop\\TestData\\walker_hos.mp4: 384x640 1 walker, 35.0ms\n",
      "video 1/1 (1265/1727) C:\\Users\\bcw60\\OneDrive\\Desktop\\TestData\\walker_hos.mp4: 384x640 1 walker, 48.6ms\n",
      "video 1/1 (1265/1727) C:\\Users\\bcw60\\OneDrive\\Desktop\\TestData\\walker_hos.mp4: 384x640 1 walker, 48.6ms\n",
      "video 1/1 (1266/1727) C:\\Users\\bcw60\\OneDrive\\Desktop\\TestData\\walker_hos.mp4: 384x640 1 walker, 43.7ms\n",
      "video 1/1 (1266/1727) C:\\Users\\bcw60\\OneDrive\\Desktop\\TestData\\walker_hos.mp4: 384x640 1 walker, 43.7ms\n",
      "video 1/1 (1267/1727) C:\\Users\\bcw60\\OneDrive\\Desktop\\TestData\\walker_hos.mp4: 384x640 1 walker, 35.2ms\n",
      "video 1/1 (1267/1727) C:\\Users\\bcw60\\OneDrive\\Desktop\\TestData\\walker_hos.mp4: 384x640 1 walker, 35.2ms\n",
      "video 1/1 (1268/1727) C:\\Users\\bcw60\\OneDrive\\Desktop\\TestData\\walker_hos.mp4: 384x640 1 walker, 33.7ms\n",
      "video 1/1 (1268/1727) C:\\Users\\bcw60\\OneDrive\\Desktop\\TestData\\walker_hos.mp4: 384x640 1 walker, 33.7ms\n",
      "video 1/1 (1269/1727) C:\\Users\\bcw60\\OneDrive\\Desktop\\TestData\\walker_hos.mp4: 384x640 1 walker, 48.6ms\n",
      "video 1/1 (1269/1727) C:\\Users\\bcw60\\OneDrive\\Desktop\\TestData\\walker_hos.mp4: 384x640 1 walker, 48.6ms\n",
      "video 1/1 (1270/1727) C:\\Users\\bcw60\\OneDrive\\Desktop\\TestData\\walker_hos.mp4: 384x640 1 walker, 44.1ms\n",
      "video 1/1 (1270/1727) C:\\Users\\bcw60\\OneDrive\\Desktop\\TestData\\walker_hos.mp4: 384x640 1 walker, 44.1ms\n",
      "video 1/1 (1271/1727) C:\\Users\\bcw60\\OneDrive\\Desktop\\TestData\\walker_hos.mp4: 384x640 1 walker, 32.9ms\n",
      "video 1/1 (1271/1727) C:\\Users\\bcw60\\OneDrive\\Desktop\\TestData\\walker_hos.mp4: 384x640 1 walker, 32.9ms\n",
      "video 1/1 (1272/1727) C:\\Users\\bcw60\\OneDrive\\Desktop\\TestData\\walker_hos.mp4: 384x640 1 walker, 35.6ms\n",
      "video 1/1 (1272/1727) C:\\Users\\bcw60\\OneDrive\\Desktop\\TestData\\walker_hos.mp4: 384x640 1 walker, 35.6ms\n",
      "video 1/1 (1273/1727) C:\\Users\\bcw60\\OneDrive\\Desktop\\TestData\\walker_hos.mp4: 384x640 1 walker, 46.6ms\n",
      "video 1/1 (1273/1727) C:\\Users\\bcw60\\OneDrive\\Desktop\\TestData\\walker_hos.mp4: 384x640 1 walker, 46.6ms\n",
      "video 1/1 (1274/1727) C:\\Users\\bcw60\\OneDrive\\Desktop\\TestData\\walker_hos.mp4: 384x640 1 walker, 41.7ms\n",
      "video 1/1 (1274/1727) C:\\Users\\bcw60\\OneDrive\\Desktop\\TestData\\walker_hos.mp4: 384x640 1 walker, 41.7ms\n",
      "video 1/1 (1275/1727) C:\\Users\\bcw60\\OneDrive\\Desktop\\TestData\\walker_hos.mp4: 384x640 1 walker, 35.1ms\n",
      "video 1/1 (1275/1727) C:\\Users\\bcw60\\OneDrive\\Desktop\\TestData\\walker_hos.mp4: 384x640 1 walker, 35.1ms\n",
      "video 1/1 (1276/1727) C:\\Users\\bcw60\\OneDrive\\Desktop\\TestData\\walker_hos.mp4: 384x640 1 walker, 47.5ms\n",
      "video 1/1 (1276/1727) C:\\Users\\bcw60\\OneDrive\\Desktop\\TestData\\walker_hos.mp4: 384x640 1 walker, 47.5ms\n",
      "video 1/1 (1277/1727) C:\\Users\\bcw60\\OneDrive\\Desktop\\TestData\\walker_hos.mp4: 384x640 1 walker, 42.6ms\n",
      "video 1/1 (1277/1727) C:\\Users\\bcw60\\OneDrive\\Desktop\\TestData\\walker_hos.mp4: 384x640 1 walker, 42.6ms\n",
      "video 1/1 (1278/1727) C:\\Users\\bcw60\\OneDrive\\Desktop\\TestData\\walker_hos.mp4: 384x640 1 walker, 35.7ms\n",
      "video 1/1 (1278/1727) C:\\Users\\bcw60\\OneDrive\\Desktop\\TestData\\walker_hos.mp4: 384x640 1 walker, 35.7ms\n",
      "video 1/1 (1279/1727) C:\\Users\\bcw60\\OneDrive\\Desktop\\TestData\\walker_hos.mp4: 384x640 1 walker, 48.2ms\n",
      "video 1/1 (1279/1727) C:\\Users\\bcw60\\OneDrive\\Desktop\\TestData\\walker_hos.mp4: 384x640 1 walker, 48.2ms\n",
      "video 1/1 (1280/1727) C:\\Users\\bcw60\\OneDrive\\Desktop\\TestData\\walker_hos.mp4: 384x640 1 walker, 48.6ms\n",
      "video 1/1 (1280/1727) C:\\Users\\bcw60\\OneDrive\\Desktop\\TestData\\walker_hos.mp4: 384x640 1 walker, 48.6ms\n",
      "video 1/1 (1281/1727) C:\\Users\\bcw60\\OneDrive\\Desktop\\TestData\\walker_hos.mp4: 384x640 1 walker, 31.7ms\n",
      "video 1/1 (1281/1727) C:\\Users\\bcw60\\OneDrive\\Desktop\\TestData\\walker_hos.mp4: 384x640 1 walker, 31.7ms\n",
      "video 1/1 (1282/1727) C:\\Users\\bcw60\\OneDrive\\Desktop\\TestData\\walker_hos.mp4: 384x640 1 walker, 40.5ms\n",
      "video 1/1 (1282/1727) C:\\Users\\bcw60\\OneDrive\\Desktop\\TestData\\walker_hos.mp4: 384x640 1 walker, 40.5ms\n",
      "video 1/1 (1283/1727) C:\\Users\\bcw60\\OneDrive\\Desktop\\TestData\\walker_hos.mp4: 384x640 1 walker, 35.7ms\n",
      "video 1/1 (1283/1727) C:\\Users\\bcw60\\OneDrive\\Desktop\\TestData\\walker_hos.mp4: 384x640 1 walker, 35.7ms\n",
      "video 1/1 (1284/1727) C:\\Users\\bcw60\\OneDrive\\Desktop\\TestData\\walker_hos.mp4: 384x640 1 walker, 48.0ms\n",
      "video 1/1 (1284/1727) C:\\Users\\bcw60\\OneDrive\\Desktop\\TestData\\walker_hos.mp4: 384x640 1 walker, 48.0ms\n",
      "video 1/1 (1285/1727) C:\\Users\\bcw60\\OneDrive\\Desktop\\TestData\\walker_hos.mp4: 384x640 1 walker, 30.5ms\n",
      "video 1/1 (1285/1727) C:\\Users\\bcw60\\OneDrive\\Desktop\\TestData\\walker_hos.mp4: 384x640 1 walker, 30.5ms\n",
      "video 1/1 (1286/1727) C:\\Users\\bcw60\\OneDrive\\Desktop\\TestData\\walker_hos.mp4: 384x640 1 walker, 38.4ms\n",
      "video 1/1 (1286/1727) C:\\Users\\bcw60\\OneDrive\\Desktop\\TestData\\walker_hos.mp4: 384x640 1 walker, 38.4ms\n",
      "video 1/1 (1287/1727) C:\\Users\\bcw60\\OneDrive\\Desktop\\TestData\\walker_hos.mp4: 384x640 1 walker, 37.3ms\n",
      "video 1/1 (1287/1727) C:\\Users\\bcw60\\OneDrive\\Desktop\\TestData\\walker_hos.mp4: 384x640 1 walker, 37.3ms\n",
      "video 1/1 (1288/1727) C:\\Users\\bcw60\\OneDrive\\Desktop\\TestData\\walker_hos.mp4: 384x640 1 walker, 46.6ms\n",
      "video 1/1 (1288/1727) C:\\Users\\bcw60\\OneDrive\\Desktop\\TestData\\walker_hos.mp4: 384x640 1 walker, 46.6ms\n",
      "video 1/1 (1289/1727) C:\\Users\\bcw60\\OneDrive\\Desktop\\TestData\\walker_hos.mp4: 384x640 1 walker, 43.4ms\n",
      "video 1/1 (1289/1727) C:\\Users\\bcw60\\OneDrive\\Desktop\\TestData\\walker_hos.mp4: 384x640 1 walker, 43.4ms\n",
      "video 1/1 (1290/1727) C:\\Users\\bcw60\\OneDrive\\Desktop\\TestData\\walker_hos.mp4: 384x640 1 walker, 35.7ms\n",
      "video 1/1 (1290/1727) C:\\Users\\bcw60\\OneDrive\\Desktop\\TestData\\walker_hos.mp4: 384x640 1 walker, 35.7ms\n",
      "video 1/1 (1291/1727) C:\\Users\\bcw60\\OneDrive\\Desktop\\TestData\\walker_hos.mp4: 384x640 1 walker, 36.8ms\n",
      "video 1/1 (1291/1727) C:\\Users\\bcw60\\OneDrive\\Desktop\\TestData\\walker_hos.mp4: 384x640 1 walker, 36.8ms\n",
      "video 1/1 (1292/1727) C:\\Users\\bcw60\\OneDrive\\Desktop\\TestData\\walker_hos.mp4: 384x640 1 walker, 30.6ms\n",
      "video 1/1 (1292/1727) C:\\Users\\bcw60\\OneDrive\\Desktop\\TestData\\walker_hos.mp4: 384x640 1 walker, 30.6ms\n",
      "video 1/1 (1293/1727) C:\\Users\\bcw60\\OneDrive\\Desktop\\TestData\\walker_hos.mp4: 384x640 1 walker, 41.9ms\n",
      "video 1/1 (1293/1727) C:\\Users\\bcw60\\OneDrive\\Desktop\\TestData\\walker_hos.mp4: 384x640 1 walker, 41.9ms\n",
      "video 1/1 (1294/1727) C:\\Users\\bcw60\\OneDrive\\Desktop\\TestData\\walker_hos.mp4: 384x640 1 walker, 35.5ms\n",
      "video 1/1 (1294/1727) C:\\Users\\bcw60\\OneDrive\\Desktop\\TestData\\walker_hos.mp4: 384x640 1 walker, 35.5ms\n",
      "video 1/1 (1295/1727) C:\\Users\\bcw60\\OneDrive\\Desktop\\TestData\\walker_hos.mp4: 384x640 1 walker, 49.0ms\n",
      "video 1/1 (1295/1727) C:\\Users\\bcw60\\OneDrive\\Desktop\\TestData\\walker_hos.mp4: 384x640 1 walker, 49.0ms\n",
      "video 1/1 (1296/1727) C:\\Users\\bcw60\\OneDrive\\Desktop\\TestData\\walker_hos.mp4: 384x640 1 walker, 31.2ms\n",
      "video 1/1 (1296/1727) C:\\Users\\bcw60\\OneDrive\\Desktop\\TestData\\walker_hos.mp4: 384x640 1 walker, 31.2ms\n",
      "video 1/1 (1297/1727) C:\\Users\\bcw60\\OneDrive\\Desktop\\TestData\\walker_hos.mp4: 384x640 1 walker, 38.7ms\n",
      "video 1/1 (1297/1727) C:\\Users\\bcw60\\OneDrive\\Desktop\\TestData\\walker_hos.mp4: 384x640 1 walker, 38.7ms\n",
      "video 1/1 (1298/1727) C:\\Users\\bcw60\\OneDrive\\Desktop\\TestData\\walker_hos.mp4: 384x640 1 walker, 36.7ms\n",
      "video 1/1 (1298/1727) C:\\Users\\bcw60\\OneDrive\\Desktop\\TestData\\walker_hos.mp4: 384x640 1 walker, 36.7ms\n",
      "video 1/1 (1299/1727) C:\\Users\\bcw60\\OneDrive\\Desktop\\TestData\\walker_hos.mp4: 384x640 1 walker, 31.4ms\n",
      "video 1/1 (1299/1727) C:\\Users\\bcw60\\OneDrive\\Desktop\\TestData\\walker_hos.mp4: 384x640 1 walker, 31.4ms\n",
      "video 1/1 (1300/1727) C:\\Users\\bcw60\\OneDrive\\Desktop\\TestData\\walker_hos.mp4: 384x640 1 walker, 40.5ms\n",
      "video 1/1 (1300/1727) C:\\Users\\bcw60\\OneDrive\\Desktop\\TestData\\walker_hos.mp4: 384x640 1 walker, 40.5ms\n",
      "video 1/1 (1301/1727) C:\\Users\\bcw60\\OneDrive\\Desktop\\TestData\\walker_hos.mp4: 384x640 1 walker, 35.5ms\n",
      "video 1/1 (1301/1727) C:\\Users\\bcw60\\OneDrive\\Desktop\\TestData\\walker_hos.mp4: 384x640 1 walker, 35.5ms\n",
      "video 1/1 (1302/1727) C:\\Users\\bcw60\\OneDrive\\Desktop\\TestData\\walker_hos.mp4: 384x640 1 walker, 31.5ms\n",
      "video 1/1 (1302/1727) C:\\Users\\bcw60\\OneDrive\\Desktop\\TestData\\walker_hos.mp4: 384x640 1 walker, 31.5ms\n",
      "video 1/1 (1303/1727) C:\\Users\\bcw60\\OneDrive\\Desktop\\TestData\\walker_hos.mp4: 384x640 1 walker, 39.9ms\n",
      "video 1/1 (1303/1727) C:\\Users\\bcw60\\OneDrive\\Desktop\\TestData\\walker_hos.mp4: 384x640 1 walker, 39.9ms\n",
      "video 1/1 (1304/1727) C:\\Users\\bcw60\\OneDrive\\Desktop\\TestData\\walker_hos.mp4: 384x640 1 walker, 39.7ms\n",
      "video 1/1 (1304/1727) C:\\Users\\bcw60\\OneDrive\\Desktop\\TestData\\walker_hos.mp4: 384x640 1 walker, 39.7ms\n",
      "video 1/1 (1305/1727) C:\\Users\\bcw60\\OneDrive\\Desktop\\TestData\\walker_hos.mp4: 384x640 1 walker, 38.0ms\n",
      "video 1/1 (1305/1727) C:\\Users\\bcw60\\OneDrive\\Desktop\\TestData\\walker_hos.mp4: 384x640 1 walker, 38.0ms\n",
      "video 1/1 (1306/1727) C:\\Users\\bcw60\\OneDrive\\Desktop\\TestData\\walker_hos.mp4: 384x640 1 walker, 24.4ms\n",
      "video 1/1 (1306/1727) C:\\Users\\bcw60\\OneDrive\\Desktop\\TestData\\walker_hos.mp4: 384x640 1 walker, 24.4ms\n",
      "video 1/1 (1307/1727) C:\\Users\\bcw60\\OneDrive\\Desktop\\TestData\\walker_hos.mp4: 384x640 1 walker, 30.4ms\n",
      "video 1/1 (1307/1727) C:\\Users\\bcw60\\OneDrive\\Desktop\\TestData\\walker_hos.mp4: 384x640 1 walker, 30.4ms\n",
      "video 1/1 (1308/1727) C:\\Users\\bcw60\\OneDrive\\Desktop\\TestData\\walker_hos.mp4: 384x640 1 walker, 35.2ms\n",
      "video 1/1 (1308/1727) C:\\Users\\bcw60\\OneDrive\\Desktop\\TestData\\walker_hos.mp4: 384x640 1 walker, 35.2ms\n",
      "video 1/1 (1309/1727) C:\\Users\\bcw60\\OneDrive\\Desktop\\TestData\\walker_hos.mp4: 384x640 1 walker, 49.1ms\n",
      "video 1/1 (1309/1727) C:\\Users\\bcw60\\OneDrive\\Desktop\\TestData\\walker_hos.mp4: 384x640 1 walker, 49.1ms\n",
      "video 1/1 (1310/1727) C:\\Users\\bcw60\\OneDrive\\Desktop\\TestData\\walker_hos.mp4: 384x640 1 walker, 43.4ms\n",
      "video 1/1 (1310/1727) C:\\Users\\bcw60\\OneDrive\\Desktop\\TestData\\walker_hos.mp4: 384x640 1 walker, 43.4ms\n",
      "video 1/1 (1311/1727) C:\\Users\\bcw60\\OneDrive\\Desktop\\TestData\\walker_hos.mp4: 384x640 1 walker, 35.3ms\n",
      "video 1/1 (1311/1727) C:\\Users\\bcw60\\OneDrive\\Desktop\\TestData\\walker_hos.mp4: 384x640 1 walker, 35.3ms\n",
      "video 1/1 (1312/1727) C:\\Users\\bcw60\\OneDrive\\Desktop\\TestData\\walker_hos.mp4: 384x640 1 walker, 33.9ms\n",
      "video 1/1 (1312/1727) C:\\Users\\bcw60\\OneDrive\\Desktop\\TestData\\walker_hos.mp4: 384x640 1 walker, 33.9ms\n",
      "video 1/1 (1313/1727) C:\\Users\\bcw60\\OneDrive\\Desktop\\TestData\\walker_hos.mp4: 384x640 1 walker, 48.4ms\n",
      "video 1/1 (1313/1727) C:\\Users\\bcw60\\OneDrive\\Desktop\\TestData\\walker_hos.mp4: 384x640 1 walker, 48.4ms\n",
      "video 1/1 (1314/1727) C:\\Users\\bcw60\\OneDrive\\Desktop\\TestData\\walker_hos.mp4: 384x640 1 walker, 43.3ms\n",
      "video 1/1 (1314/1727) C:\\Users\\bcw60\\OneDrive\\Desktop\\TestData\\walker_hos.mp4: 384x640 1 walker, 43.3ms\n",
      "video 1/1 (1315/1727) C:\\Users\\bcw60\\OneDrive\\Desktop\\TestData\\walker_hos.mp4: 384x640 1 walker, 35.6ms\n",
      "video 1/1 (1315/1727) C:\\Users\\bcw60\\OneDrive\\Desktop\\TestData\\walker_hos.mp4: 384x640 1 walker, 35.6ms\n",
      "video 1/1 (1316/1727) C:\\Users\\bcw60\\OneDrive\\Desktop\\TestData\\walker_hos.mp4: 384x640 1 walker, 35.0ms\n",
      "video 1/1 (1316/1727) C:\\Users\\bcw60\\OneDrive\\Desktop\\TestData\\walker_hos.mp4: 384x640 1 walker, 35.0ms\n",
      "video 1/1 (1317/1727) C:\\Users\\bcw60\\OneDrive\\Desktop\\TestData\\walker_hos.mp4: 384x640 1 walker, 47.3ms\n",
      "video 1/1 (1317/1727) C:\\Users\\bcw60\\OneDrive\\Desktop\\TestData\\walker_hos.mp4: 384x640 1 walker, 47.3ms\n",
      "video 1/1 (1318/1727) C:\\Users\\bcw60\\OneDrive\\Desktop\\TestData\\walker_hos.mp4: 384x640 1 walker, 31.5ms\n",
      "video 1/1 (1318/1727) C:\\Users\\bcw60\\OneDrive\\Desktop\\TestData\\walker_hos.mp4: 384x640 1 walker, 31.5ms\n",
      "video 1/1 (1319/1727) C:\\Users\\bcw60\\OneDrive\\Desktop\\TestData\\walker_hos.mp4: 384x640 1 walker, 40.1ms\n",
      "video 1/1 (1319/1727) C:\\Users\\bcw60\\OneDrive\\Desktop\\TestData\\walker_hos.mp4: 384x640 1 walker, 40.1ms\n",
      "video 1/1 (1320/1727) C:\\Users\\bcw60\\OneDrive\\Desktop\\TestData\\walker_hos.mp4: 384x640 1 walker, 35.2ms\n",
      "video 1/1 (1320/1727) C:\\Users\\bcw60\\OneDrive\\Desktop\\TestData\\walker_hos.mp4: 384x640 1 walker, 35.2ms\n",
      "video 1/1 (1321/1727) C:\\Users\\bcw60\\OneDrive\\Desktop\\TestData\\walker_hos.mp4: 384x640 1 walker, 47.2ms\n",
      "video 1/1 (1321/1727) C:\\Users\\bcw60\\OneDrive\\Desktop\\TestData\\walker_hos.mp4: 384x640 1 walker, 47.2ms\n",
      "video 1/1 (1322/1727) C:\\Users\\bcw60\\OneDrive\\Desktop\\TestData\\walker_hos.mp4: 384x640 1 walker, 42.7ms\n",
      "video 1/1 (1322/1727) C:\\Users\\bcw60\\OneDrive\\Desktop\\TestData\\walker_hos.mp4: 384x640 1 walker, 42.7ms\n",
      "video 1/1 (1323/1727) C:\\Users\\bcw60\\OneDrive\\Desktop\\TestData\\walker_hos.mp4: 384x640 1 walker, 36.0ms\n",
      "video 1/1 (1323/1727) C:\\Users\\bcw60\\OneDrive\\Desktop\\TestData\\walker_hos.mp4: 384x640 1 walker, 36.0ms\n",
      "video 1/1 (1324/1727) C:\\Users\\bcw60\\OneDrive\\Desktop\\TestData\\walker_hos.mp4: 384x640 1 walker, 48.8ms\n",
      "video 1/1 (1324/1727) C:\\Users\\bcw60\\OneDrive\\Desktop\\TestData\\walker_hos.mp4: 384x640 1 walker, 48.8ms\n",
      "video 1/1 (1325/1727) C:\\Users\\bcw60\\OneDrive\\Desktop\\TestData\\walker_hos.mp4: 384x640 1 walker, 31.3ms\n",
      "video 1/1 (1325/1727) C:\\Users\\bcw60\\OneDrive\\Desktop\\TestData\\walker_hos.mp4: 384x640 1 walker, 31.3ms\n",
      "video 1/1 (1326/1727) C:\\Users\\bcw60\\OneDrive\\Desktop\\TestData\\walker_hos.mp4: 384x640 1 walker, 38.7ms\n",
      "video 1/1 (1326/1727) C:\\Users\\bcw60\\OneDrive\\Desktop\\TestData\\walker_hos.mp4: 384x640 1 walker, 38.7ms\n",
      "video 1/1 (1327/1727) C:\\Users\\bcw60\\OneDrive\\Desktop\\TestData\\walker_hos.mp4: 384x640 1 walker, 35.6ms\n",
      "video 1/1 (1327/1727) C:\\Users\\bcw60\\OneDrive\\Desktop\\TestData\\walker_hos.mp4: 384x640 1 walker, 35.6ms\n",
      "video 1/1 (1328/1727) C:\\Users\\bcw60\\OneDrive\\Desktop\\TestData\\walker_hos.mp4: 384x640 1 walker, 47.1ms\n",
      "video 1/1 (1328/1727) C:\\Users\\bcw60\\OneDrive\\Desktop\\TestData\\walker_hos.mp4: 384x640 1 walker, 47.1ms\n",
      "video 1/1 (1329/1727) C:\\Users\\bcw60\\OneDrive\\Desktop\\TestData\\walker_hos.mp4: 384x640 1 walker, 41.6ms\n",
      "video 1/1 (1329/1727) C:\\Users\\bcw60\\OneDrive\\Desktop\\TestData\\walker_hos.mp4: 384x640 1 walker, 41.6ms\n",
      "video 1/1 (1330/1727) C:\\Users\\bcw60\\OneDrive\\Desktop\\TestData\\walker_hos.mp4: 384x640 1 walker, 36.2ms\n",
      "video 1/1 (1330/1727) C:\\Users\\bcw60\\OneDrive\\Desktop\\TestData\\walker_hos.mp4: 384x640 1 walker, 36.2ms\n",
      "video 1/1 (1331/1727) C:\\Users\\bcw60\\OneDrive\\Desktop\\TestData\\walker_hos.mp4: 384x640 1 walker, 48.9ms\n",
      "video 1/1 (1331/1727) C:\\Users\\bcw60\\OneDrive\\Desktop\\TestData\\walker_hos.mp4: 384x640 1 walker, 48.9ms\n",
      "video 1/1 (1332/1727) C:\\Users\\bcw60\\OneDrive\\Desktop\\TestData\\walker_hos.mp4: 384x640 1 walker, 37.9ms\n",
      "video 1/1 (1332/1727) C:\\Users\\bcw60\\OneDrive\\Desktop\\TestData\\walker_hos.mp4: 384x640 1 walker, 37.9ms\n",
      "video 1/1 (1333/1727) C:\\Users\\bcw60\\OneDrive\\Desktop\\TestData\\walker_hos.mp4: 384x640 1 walker, 42.6ms\n",
      "video 1/1 (1333/1727) C:\\Users\\bcw60\\OneDrive\\Desktop\\TestData\\walker_hos.mp4: 384x640 1 walker, 42.6ms\n",
      "video 1/1 (1334/1727) C:\\Users\\bcw60\\OneDrive\\Desktop\\TestData\\walker_hos.mp4: 384x640 1 walker, 35.9ms\n",
      "video 1/1 (1334/1727) C:\\Users\\bcw60\\OneDrive\\Desktop\\TestData\\walker_hos.mp4: 384x640 1 walker, 35.9ms\n",
      "video 1/1 (1335/1727) C:\\Users\\bcw60\\OneDrive\\Desktop\\TestData\\walker_hos.mp4: 384x640 1 walker, 35.2ms\n",
      "video 1/1 (1335/1727) C:\\Users\\bcw60\\OneDrive\\Desktop\\TestData\\walker_hos.mp4: 384x640 1 walker, 35.2ms\n",
      "video 1/1 (1336/1727) C:\\Users\\bcw60\\OneDrive\\Desktop\\TestData\\walker_hos.mp4: 384x640 1 walker, 31.0ms\n",
      "video 1/1 (1336/1727) C:\\Users\\bcw60\\OneDrive\\Desktop\\TestData\\walker_hos.mp4: 384x640 1 walker, 31.0ms\n",
      "video 1/1 (1337/1727) C:\\Users\\bcw60\\OneDrive\\Desktop\\TestData\\walker_hos.mp4: 384x640 1 walker, 39.0ms\n",
      "video 1/1 (1337/1727) C:\\Users\\bcw60\\OneDrive\\Desktop\\TestData\\walker_hos.mp4: 384x640 1 walker, 39.0ms\n",
      "video 1/1 (1338/1727) C:\\Users\\bcw60\\OneDrive\\Desktop\\TestData\\walker_hos.mp4: 384x640 1 walker, 35.2ms\n",
      "video 1/1 (1338/1727) C:\\Users\\bcw60\\OneDrive\\Desktop\\TestData\\walker_hos.mp4: 384x640 1 walker, 35.2ms\n",
      "video 1/1 (1339/1727) C:\\Users\\bcw60\\OneDrive\\Desktop\\TestData\\walker_hos.mp4: 384x640 1 walker, 31.2ms\n",
      "video 1/1 (1339/1727) C:\\Users\\bcw60\\OneDrive\\Desktop\\TestData\\walker_hos.mp4: 384x640 1 walker, 31.2ms\n",
      "video 1/1 (1340/1727) C:\\Users\\bcw60\\OneDrive\\Desktop\\TestData\\walker_hos.mp4: 384x640 1 walker, 31.6ms\n",
      "video 1/1 (1340/1727) C:\\Users\\bcw60\\OneDrive\\Desktop\\TestData\\walker_hos.mp4: 384x640 1 walker, 31.6ms\n",
      "video 1/1 (1341/1727) C:\\Users\\bcw60\\OneDrive\\Desktop\\TestData\\walker_hos.mp4: 384x640 1 walker, 38.3ms\n",
      "video 1/1 (1341/1727) C:\\Users\\bcw60\\OneDrive\\Desktop\\TestData\\walker_hos.mp4: 384x640 1 walker, 38.3ms\n",
      "video 1/1 (1342/1727) C:\\Users\\bcw60\\OneDrive\\Desktop\\TestData\\walker_hos.mp4: 384x640 1 walker, 36.5ms\n",
      "video 1/1 (1342/1727) C:\\Users\\bcw60\\OneDrive\\Desktop\\TestData\\walker_hos.mp4: 384x640 1 walker, 36.5ms\n",
      "video 1/1 (1343/1727) C:\\Users\\bcw60\\OneDrive\\Desktop\\TestData\\walker_hos.mp4: 384x640 1 walker, 31.5ms\n",
      "video 1/1 (1343/1727) C:\\Users\\bcw60\\OneDrive\\Desktop\\TestData\\walker_hos.mp4: 384x640 1 walker, 31.5ms\n",
      "video 1/1 (1344/1727) C:\\Users\\bcw60\\OneDrive\\Desktop\\TestData\\walker_hos.mp4: 384x640 1 walker, 40.9ms\n",
      "video 1/1 (1344/1727) C:\\Users\\bcw60\\OneDrive\\Desktop\\TestData\\walker_hos.mp4: 384x640 1 walker, 40.9ms\n",
      "video 1/1 (1345/1727) C:\\Users\\bcw60\\OneDrive\\Desktop\\TestData\\walker_hos.mp4: 384x640 1 walker, 36.2ms\n",
      "video 1/1 (1345/1727) C:\\Users\\bcw60\\OneDrive\\Desktop\\TestData\\walker_hos.mp4: 384x640 1 walker, 36.2ms\n",
      "video 1/1 (1346/1727) C:\\Users\\bcw60\\OneDrive\\Desktop\\TestData\\walker_hos.mp4: 384x640 1 walker, 31.3ms\n",
      "video 1/1 (1346/1727) C:\\Users\\bcw60\\OneDrive\\Desktop\\TestData\\walker_hos.mp4: 384x640 1 walker, 31.3ms\n",
      "video 1/1 (1347/1727) C:\\Users\\bcw60\\OneDrive\\Desktop\\TestData\\walker_hos.mp4: 384x640 1 walker, 33.9ms\n",
      "video 1/1 (1347/1727) C:\\Users\\bcw60\\OneDrive\\Desktop\\TestData\\walker_hos.mp4: 384x640 1 walker, 33.9ms\n",
      "video 1/1 (1348/1727) C:\\Users\\bcw60\\OneDrive\\Desktop\\TestData\\walker_hos.mp4: 384x640 1 walker, 47.5ms\n",
      "video 1/1 (1348/1727) C:\\Users\\bcw60\\OneDrive\\Desktop\\TestData\\walker_hos.mp4: 384x640 1 walker, 47.5ms\n",
      "video 1/1 (1349/1727) C:\\Users\\bcw60\\OneDrive\\Desktop\\TestData\\walker_hos.mp4: 384x640 1 walker, 43.2ms\n",
      "video 1/1 (1349/1727) C:\\Users\\bcw60\\OneDrive\\Desktop\\TestData\\walker_hos.mp4: 384x640 1 walker, 43.2ms\n",
      "video 1/1 (1350/1727) C:\\Users\\bcw60\\OneDrive\\Desktop\\TestData\\walker_hos.mp4: 384x640 1 walker, 35.1ms\n",
      "video 1/1 (1350/1727) C:\\Users\\bcw60\\OneDrive\\Desktop\\TestData\\walker_hos.mp4: 384x640 1 walker, 35.1ms\n",
      "video 1/1 (1351/1727) C:\\Users\\bcw60\\OneDrive\\Desktop\\TestData\\walker_hos.mp4: 384x640 1 walker, 36.9ms\n",
      "video 1/1 (1351/1727) C:\\Users\\bcw60\\OneDrive\\Desktop\\TestData\\walker_hos.mp4: 384x640 1 walker, 36.9ms\n",
      "video 1/1 (1352/1727) C:\\Users\\bcw60\\OneDrive\\Desktop\\TestData\\walker_hos.mp4: 384x640 1 walker, 47.4ms\n",
      "video 1/1 (1352/1727) C:\\Users\\bcw60\\OneDrive\\Desktop\\TestData\\walker_hos.mp4: 384x640 1 walker, 47.4ms\n",
      "video 1/1 (1353/1727) C:\\Users\\bcw60\\OneDrive\\Desktop\\TestData\\walker_hos.mp4: 384x640 1 walker, 42.7ms\n",
      "video 1/1 (1353/1727) C:\\Users\\bcw60\\OneDrive\\Desktop\\TestData\\walker_hos.mp4: 384x640 1 walker, 42.7ms\n",
      "video 1/1 (1354/1727) C:\\Users\\bcw60\\OneDrive\\Desktop\\TestData\\walker_hos.mp4: 384x640 1 walker, 35.4ms\n",
      "video 1/1 (1354/1727) C:\\Users\\bcw60\\OneDrive\\Desktop\\TestData\\walker_hos.mp4: 384x640 1 walker, 35.4ms\n",
      "video 1/1 (1355/1727) C:\\Users\\bcw60\\OneDrive\\Desktop\\TestData\\walker_hos.mp4: 384x640 1 walker, 36.7ms\n",
      "video 1/1 (1355/1727) C:\\Users\\bcw60\\OneDrive\\Desktop\\TestData\\walker_hos.mp4: 384x640 1 walker, 36.7ms\n",
      "video 1/1 (1356/1727) C:\\Users\\bcw60\\OneDrive\\Desktop\\TestData\\walker_hos.mp4: 384x640 1 walker, 46.7ms\n",
      "video 1/1 (1356/1727) C:\\Users\\bcw60\\OneDrive\\Desktop\\TestData\\walker_hos.mp4: 384x640 1 walker, 46.7ms\n",
      "video 1/1 (1357/1727) C:\\Users\\bcw60\\OneDrive\\Desktop\\TestData\\walker_hos.mp4: 384x640 1 walker, 42.3ms\n",
      "video 1/1 (1357/1727) C:\\Users\\bcw60\\OneDrive\\Desktop\\TestData\\walker_hos.mp4: 384x640 1 walker, 42.3ms\n",
      "video 1/1 (1358/1727) C:\\Users\\bcw60\\OneDrive\\Desktop\\TestData\\walker_hos.mp4: 384x640 1 walker, 36.1ms\n",
      "video 1/1 (1358/1727) C:\\Users\\bcw60\\OneDrive\\Desktop\\TestData\\walker_hos.mp4: 384x640 1 walker, 36.1ms\n",
      "video 1/1 (1359/1727) C:\\Users\\bcw60\\OneDrive\\Desktop\\TestData\\walker_hos.mp4: 384x640 1 walker, 49.2ms\n",
      "video 1/1 (1359/1727) C:\\Users\\bcw60\\OneDrive\\Desktop\\TestData\\walker_hos.mp4: 384x640 1 walker, 49.2ms\n",
      "video 1/1 (1360/1727) C:\\Users\\bcw60\\OneDrive\\Desktop\\TestData\\walker_hos.mp4: 384x640 1 walker, 31.3ms\n",
      "video 1/1 (1360/1727) C:\\Users\\bcw60\\OneDrive\\Desktop\\TestData\\walker_hos.mp4: 384x640 1 walker, 31.3ms\n",
      "video 1/1 (1361/1727) C:\\Users\\bcw60\\OneDrive\\Desktop\\TestData\\walker_hos.mp4: 384x640 1 walker, 40.5ms\n",
      "video 1/1 (1361/1727) C:\\Users\\bcw60\\OneDrive\\Desktop\\TestData\\walker_hos.mp4: 384x640 1 walker, 40.5ms\n",
      "video 1/1 (1362/1727) C:\\Users\\bcw60\\OneDrive\\Desktop\\TestData\\walker_hos.mp4: 384x640 1 walker, 35.5ms\n",
      "video 1/1 (1362/1727) C:\\Users\\bcw60\\OneDrive\\Desktop\\TestData\\walker_hos.mp4: 384x640 1 walker, 35.5ms\n",
      "video 1/1 (1363/1727) C:\\Users\\bcw60\\OneDrive\\Desktop\\TestData\\walker_hos.mp4: 384x640 1 walker, 30.9ms\n",
      "video 1/1 (1363/1727) C:\\Users\\bcw60\\OneDrive\\Desktop\\TestData\\walker_hos.mp4: 384x640 1 walker, 30.9ms\n",
      "video 1/1 (1364/1727) C:\\Users\\bcw60\\OneDrive\\Desktop\\TestData\\walker_hos.mp4: 384x640 1 walker, 41.8ms\n",
      "video 1/1 (1364/1727) C:\\Users\\bcw60\\OneDrive\\Desktop\\TestData\\walker_hos.mp4: 384x640 1 walker, 41.8ms\n",
      "video 1/1 (1365/1727) C:\\Users\\bcw60\\OneDrive\\Desktop\\TestData\\walker_hos.mp4: 384x640 1 walker, 35.5ms\n",
      "video 1/1 (1365/1727) C:\\Users\\bcw60\\OneDrive\\Desktop\\TestData\\walker_hos.mp4: 384x640 1 walker, 35.5ms\n",
      "video 1/1 (1366/1727) C:\\Users\\bcw60\\OneDrive\\Desktop\\TestData\\walker_hos.mp4: 384x640 1 walker, 49.5ms\n",
      "video 1/1 (1366/1727) C:\\Users\\bcw60\\OneDrive\\Desktop\\TestData\\walker_hos.mp4: 384x640 1 walker, 49.5ms\n",
      "video 1/1 (1367/1727) C:\\Users\\bcw60\\OneDrive\\Desktop\\TestData\\walker_hos.mp4: 384x640 1 walker, 44.4ms\n",
      "video 1/1 (1367/1727) C:\\Users\\bcw60\\OneDrive\\Desktop\\TestData\\walker_hos.mp4: 384x640 1 walker, 44.4ms\n",
      "video 1/1 (1368/1727) C:\\Users\\bcw60\\OneDrive\\Desktop\\TestData\\walker_hos.mp4: 384x640 1 walker, 35.3ms\n",
      "video 1/1 (1368/1727) C:\\Users\\bcw60\\OneDrive\\Desktop\\TestData\\walker_hos.mp4: 384x640 1 walker, 35.3ms\n",
      "video 1/1 (1369/1727) C:\\Users\\bcw60\\OneDrive\\Desktop\\TestData\\walker_hos.mp4: 384x640 1 walker, 36.0ms\n",
      "video 1/1 (1369/1727) C:\\Users\\bcw60\\OneDrive\\Desktop\\TestData\\walker_hos.mp4: 384x640 1 walker, 36.0ms\n",
      "video 1/1 (1370/1727) C:\\Users\\bcw60\\OneDrive\\Desktop\\TestData\\walker_hos.mp4: 384x640 1 walker, 31.1ms\n",
      "video 1/1 (1370/1727) C:\\Users\\bcw60\\OneDrive\\Desktop\\TestData\\walker_hos.mp4: 384x640 1 walker, 31.1ms\n",
      "video 1/1 (1371/1727) C:\\Users\\bcw60\\OneDrive\\Desktop\\TestData\\walker_hos.mp4: 384x640 1 walker, 40.5ms\n",
      "video 1/1 (1371/1727) C:\\Users\\bcw60\\OneDrive\\Desktop\\TestData\\walker_hos.mp4: 384x640 1 walker, 40.5ms\n",
      "video 1/1 (1372/1727) C:\\Users\\bcw60\\OneDrive\\Desktop\\TestData\\walker_hos.mp4: 384x640 1 walker, 36.2ms\n",
      "video 1/1 (1372/1727) C:\\Users\\bcw60\\OneDrive\\Desktop\\TestData\\walker_hos.mp4: 384x640 1 walker, 36.2ms\n",
      "video 1/1 (1373/1727) C:\\Users\\bcw60\\OneDrive\\Desktop\\TestData\\walker_hos.mp4: 384x640 1 walker, 47.5ms\n",
      "video 1/1 (1373/1727) C:\\Users\\bcw60\\OneDrive\\Desktop\\TestData\\walker_hos.mp4: 384x640 1 walker, 47.5ms\n",
      "video 1/1 (1374/1727) C:\\Users\\bcw60\\OneDrive\\Desktop\\TestData\\walker_hos.mp4: 384x640 1 walker, 42.7ms\n",
      "video 1/1 (1374/1727) C:\\Users\\bcw60\\OneDrive\\Desktop\\TestData\\walker_hos.mp4: 384x640 1 walker, 42.7ms\n",
      "video 1/1 (1375/1727) C:\\Users\\bcw60\\OneDrive\\Desktop\\TestData\\walker_hos.mp4: 384x640 1 walker, 35.0ms\n",
      "video 1/1 (1375/1727) C:\\Users\\bcw60\\OneDrive\\Desktop\\TestData\\walker_hos.mp4: 384x640 1 walker, 35.0ms\n",
      "video 1/1 (1376/1727) C:\\Users\\bcw60\\OneDrive\\Desktop\\TestData\\walker_hos.mp4: 384x640 1 walker, 51.3ms\n",
      "video 1/1 (1376/1727) C:\\Users\\bcw60\\OneDrive\\Desktop\\TestData\\walker_hos.mp4: 384x640 1 walker, 51.3ms\n",
      "video 1/1 (1377/1727) C:\\Users\\bcw60\\OneDrive\\Desktop\\TestData\\walker_hos.mp4: 384x640 1 walker, 34.0ms\n",
      "video 1/1 (1377/1727) C:\\Users\\bcw60\\OneDrive\\Desktop\\TestData\\walker_hos.mp4: 384x640 1 walker, 34.0ms\n",
      "video 1/1 (1378/1727) C:\\Users\\bcw60\\OneDrive\\Desktop\\TestData\\walker_hos.mp4: 384x640 1 walker, 42.9ms\n",
      "video 1/1 (1378/1727) C:\\Users\\bcw60\\OneDrive\\Desktop\\TestData\\walker_hos.mp4: 384x640 1 walker, 42.9ms\n",
      "video 1/1 (1379/1727) C:\\Users\\bcw60\\OneDrive\\Desktop\\TestData\\walker_hos.mp4: 384x640 1 walker, 36.1ms\n",
      "video 1/1 (1379/1727) C:\\Users\\bcw60\\OneDrive\\Desktop\\TestData\\walker_hos.mp4: 384x640 1 walker, 36.1ms\n",
      "video 1/1 (1380/1727) C:\\Users\\bcw60\\OneDrive\\Desktop\\TestData\\walker_hos.mp4: 384x640 1 walker, 49.0ms\n",
      "video 1/1 (1380/1727) C:\\Users\\bcw60\\OneDrive\\Desktop\\TestData\\walker_hos.mp4: 384x640 1 walker, 49.0ms\n",
      "video 1/1 (1381/1727) C:\\Users\\bcw60\\OneDrive\\Desktop\\TestData\\walker_hos.mp4: 384x640 1 walker, 31.5ms\n",
      "video 1/1 (1381/1727) C:\\Users\\bcw60\\OneDrive\\Desktop\\TestData\\walker_hos.mp4: 384x640 1 walker, 31.5ms\n",
      "video 1/1 (1382/1727) C:\\Users\\bcw60\\OneDrive\\Desktop\\TestData\\walker_hos.mp4: 384x640 1 walker, 37.5ms\n",
      "video 1/1 (1382/1727) C:\\Users\\bcw60\\OneDrive\\Desktop\\TestData\\walker_hos.mp4: 384x640 1 walker, 37.5ms\n",
      "video 1/1 (1383/1727) C:\\Users\\bcw60\\OneDrive\\Desktop\\TestData\\walker_hos.mp4: 384x640 1 walker, 36.6ms\n",
      "video 1/1 (1383/1727) C:\\Users\\bcw60\\OneDrive\\Desktop\\TestData\\walker_hos.mp4: 384x640 1 walker, 36.6ms\n",
      "video 1/1 (1384/1727) C:\\Users\\bcw60\\OneDrive\\Desktop\\TestData\\walker_hos.mp4: 384x640 1 walker, 35.8ms\n",
      "video 1/1 (1384/1727) C:\\Users\\bcw60\\OneDrive\\Desktop\\TestData\\walker_hos.mp4: 384x640 1 walker, 35.8ms\n",
      "video 1/1 (1385/1727) C:\\Users\\bcw60\\OneDrive\\Desktop\\TestData\\walker_hos.mp4: 384x640 1 walker, 40.2ms\n",
      "video 1/1 (1385/1727) C:\\Users\\bcw60\\OneDrive\\Desktop\\TestData\\walker_hos.mp4: 384x640 1 walker, 40.2ms\n",
      "video 1/1 (1386/1727) C:\\Users\\bcw60\\OneDrive\\Desktop\\TestData\\walker_hos.mp4: 384x640 1 walker, 35.7ms\n",
      "video 1/1 (1386/1727) C:\\Users\\bcw60\\OneDrive\\Desktop\\TestData\\walker_hos.mp4: 384x640 1 walker, 35.7ms\n",
      "video 1/1 (1387/1727) C:\\Users\\bcw60\\OneDrive\\Desktop\\TestData\\walker_hos.mp4: 384x640 1 walker, 48.9ms\n",
      "video 1/1 (1387/1727) C:\\Users\\bcw60\\OneDrive\\Desktop\\TestData\\walker_hos.mp4: 384x640 1 walker, 48.9ms\n",
      "video 1/1 (1388/1727) C:\\Users\\bcw60\\OneDrive\\Desktop\\TestData\\walker_hos.mp4: 384x640 1 walker, 31.3ms\n",
      "video 1/1 (1388/1727) C:\\Users\\bcw60\\OneDrive\\Desktop\\TestData\\walker_hos.mp4: 384x640 1 walker, 31.3ms\n",
      "video 1/1 (1389/1727) C:\\Users\\bcw60\\OneDrive\\Desktop\\TestData\\walker_hos.mp4: 384x640 1 walker, 39.8ms\n",
      "video 1/1 (1389/1727) C:\\Users\\bcw60\\OneDrive\\Desktop\\TestData\\walker_hos.mp4: 384x640 1 walker, 39.8ms\n",
      "video 1/1 (1390/1727) C:\\Users\\bcw60\\OneDrive\\Desktop\\TestData\\walker_hos.mp4: 384x640 1 walker, 35.0ms\n",
      "video 1/1 (1390/1727) C:\\Users\\bcw60\\OneDrive\\Desktop\\TestData\\walker_hos.mp4: 384x640 1 walker, 35.0ms\n",
      "video 1/1 (1391/1727) C:\\Users\\bcw60\\OneDrive\\Desktop\\TestData\\walker_hos.mp4: 384x640 1 walker, 35.3ms\n",
      "video 1/1 (1391/1727) C:\\Users\\bcw60\\OneDrive\\Desktop\\TestData\\walker_hos.mp4: 384x640 1 walker, 35.3ms\n",
      "video 1/1 (1392/1727) C:\\Users\\bcw60\\OneDrive\\Desktop\\TestData\\walker_hos.mp4: 384x640 1 walker, 41.5ms\n",
      "video 1/1 (1392/1727) C:\\Users\\bcw60\\OneDrive\\Desktop\\TestData\\walker_hos.mp4: 384x640 1 walker, 41.5ms\n",
      "video 1/1 (1393/1727) C:\\Users\\bcw60\\OneDrive\\Desktop\\TestData\\walker_hos.mp4: 384x640 1 walker, 35.8ms\n",
      "video 1/1 (1393/1727) C:\\Users\\bcw60\\OneDrive\\Desktop\\TestData\\walker_hos.mp4: 384x640 1 walker, 35.8ms\n",
      "video 1/1 (1394/1727) C:\\Users\\bcw60\\OneDrive\\Desktop\\TestData\\walker_hos.mp4: 384x640 1 walker, 49.3ms\n",
      "video 1/1 (1394/1727) C:\\Users\\bcw60\\OneDrive\\Desktop\\TestData\\walker_hos.mp4: 384x640 1 walker, 49.3ms\n",
      "video 1/1 (1395/1727) C:\\Users\\bcw60\\OneDrive\\Desktop\\TestData\\walker_hos.mp4: 384x640 1 walker, 31.4ms\n",
      "video 1/1 (1395/1727) C:\\Users\\bcw60\\OneDrive\\Desktop\\TestData\\walker_hos.mp4: 384x640 1 walker, 31.4ms\n",
      "video 1/1 (1396/1727) C:\\Users\\bcw60\\OneDrive\\Desktop\\TestData\\walker_hos.mp4: 384x640 1 walker, 39.3ms\n",
      "video 1/1 (1396/1727) C:\\Users\\bcw60\\OneDrive\\Desktop\\TestData\\walker_hos.mp4: 384x640 1 walker, 39.3ms\n",
      "video 1/1 (1397/1727) C:\\Users\\bcw60\\OneDrive\\Desktop\\TestData\\walker_hos.mp4: 384x640 1 walker, 35.2ms\n",
      "video 1/1 (1397/1727) C:\\Users\\bcw60\\OneDrive\\Desktop\\TestData\\walker_hos.mp4: 384x640 1 walker, 35.2ms\n",
      "video 1/1 (1398/1727) C:\\Users\\bcw60\\OneDrive\\Desktop\\TestData\\walker_hos.mp4: 384x640 1 walker, 41.5ms\n",
      "video 1/1 (1398/1727) C:\\Users\\bcw60\\OneDrive\\Desktop\\TestData\\walker_hos.mp4: 384x640 1 walker, 41.5ms\n",
      "video 1/1 (1399/1727) C:\\Users\\bcw60\\OneDrive\\Desktop\\TestData\\walker_hos.mp4: 384x640 1 walker, 41.5ms\n",
      "video 1/1 (1399/1727) C:\\Users\\bcw60\\OneDrive\\Desktop\\TestData\\walker_hos.mp4: 384x640 1 walker, 41.5ms\n",
      "video 1/1 (1400/1727) C:\\Users\\bcw60\\OneDrive\\Desktop\\TestData\\walker_hos.mp4: 384x640 1 walker, 35.8ms\n",
      "video 1/1 (1400/1727) C:\\Users\\bcw60\\OneDrive\\Desktop\\TestData\\walker_hos.mp4: 384x640 1 walker, 35.8ms\n",
      "video 1/1 (1401/1727) C:\\Users\\bcw60\\OneDrive\\Desktop\\TestData\\walker_hos.mp4: 384x640 1 walker, 36.0ms\n",
      "video 1/1 (1401/1727) C:\\Users\\bcw60\\OneDrive\\Desktop\\TestData\\walker_hos.mp4: 384x640 1 walker, 36.0ms\n",
      "video 1/1 (1402/1727) C:\\Users\\bcw60\\OneDrive\\Desktop\\TestData\\walker_hos.mp4: 384x640 1 walker, 31.4ms\n",
      "video 1/1 (1402/1727) C:\\Users\\bcw60\\OneDrive\\Desktop\\TestData\\walker_hos.mp4: 384x640 1 walker, 31.4ms\n",
      "video 1/1 (1403/1727) C:\\Users\\bcw60\\OneDrive\\Desktop\\TestData\\walker_hos.mp4: 384x640 1 walker, 40.8ms\n",
      "video 1/1 (1403/1727) C:\\Users\\bcw60\\OneDrive\\Desktop\\TestData\\walker_hos.mp4: 384x640 1 walker, 40.8ms\n",
      "video 1/1 (1404/1727) C:\\Users\\bcw60\\OneDrive\\Desktop\\TestData\\walker_hos.mp4: 384x640 1 walker, 35.4ms\n",
      "video 1/1 (1404/1727) C:\\Users\\bcw60\\OneDrive\\Desktop\\TestData\\walker_hos.mp4: 384x640 1 walker, 35.4ms\n",
      "video 1/1 (1405/1727) C:\\Users\\bcw60\\OneDrive\\Desktop\\TestData\\walker_hos.mp4: 384x640 1 walker, 48.3ms\n",
      "video 1/1 (1405/1727) C:\\Users\\bcw60\\OneDrive\\Desktop\\TestData\\walker_hos.mp4: 384x640 1 walker, 48.3ms\n",
      "video 1/1 (1406/1727) C:\\Users\\bcw60\\OneDrive\\Desktop\\TestData\\walker_hos.mp4: 384x640 1 walker, 31.4ms\n",
      "video 1/1 (1406/1727) C:\\Users\\bcw60\\OneDrive\\Desktop\\TestData\\walker_hos.mp4: 384x640 1 walker, 31.4ms\n",
      "video 1/1 (1407/1727) C:\\Users\\bcw60\\OneDrive\\Desktop\\TestData\\walker_hos.mp4: 384x640 1 walker, 39.5ms\n",
      "video 1/1 (1407/1727) C:\\Users\\bcw60\\OneDrive\\Desktop\\TestData\\walker_hos.mp4: 384x640 1 walker, 39.5ms\n",
      "video 1/1 (1408/1727) C:\\Users\\bcw60\\OneDrive\\Desktop\\TestData\\walker_hos.mp4: 384x640 1 walker, 34.9ms\n",
      "video 1/1 (1408/1727) C:\\Users\\bcw60\\OneDrive\\Desktop\\TestData\\walker_hos.mp4: 384x640 1 walker, 34.9ms\n",
      "video 1/1 (1409/1727) C:\\Users\\bcw60\\OneDrive\\Desktop\\TestData\\walker_hos.mp4: 384x640 1 walker, 47.5ms\n",
      "video 1/1 (1409/1727) C:\\Users\\bcw60\\OneDrive\\Desktop\\TestData\\walker_hos.mp4: 384x640 1 walker, 47.5ms\n",
      "video 1/1 (1410/1727) C:\\Users\\bcw60\\OneDrive\\Desktop\\TestData\\walker_hos.mp4: 384x640 2 walkers, 41.7ms\n",
      "video 1/1 (1410/1727) C:\\Users\\bcw60\\OneDrive\\Desktop\\TestData\\walker_hos.mp4: 384x640 2 walkers, 41.7ms\n",
      "video 1/1 (1411/1727) C:\\Users\\bcw60\\OneDrive\\Desktop\\TestData\\walker_hos.mp4: 384x640 2 walkers, 35.4ms\n",
      "video 1/1 (1411/1727) C:\\Users\\bcw60\\OneDrive\\Desktop\\TestData\\walker_hos.mp4: 384x640 2 walkers, 35.4ms\n",
      "video 1/1 (1412/1727) C:\\Users\\bcw60\\OneDrive\\Desktop\\TestData\\walker_hos.mp4: 384x640 2 walkers, 34.1ms\n",
      "video 1/1 (1412/1727) C:\\Users\\bcw60\\OneDrive\\Desktop\\TestData\\walker_hos.mp4: 384x640 2 walkers, 34.1ms\n",
      "video 1/1 (1413/1727) C:\\Users\\bcw60\\OneDrive\\Desktop\\TestData\\walker_hos.mp4: 384x640 2 walkers, 48.7ms\n",
      "video 1/1 (1413/1727) C:\\Users\\bcw60\\OneDrive\\Desktop\\TestData\\walker_hos.mp4: 384x640 2 walkers, 48.7ms\n",
      "video 1/1 (1414/1727) C:\\Users\\bcw60\\OneDrive\\Desktop\\TestData\\walker_hos.mp4: 384x640 2 walkers, 31.6ms\n",
      "video 1/1 (1414/1727) C:\\Users\\bcw60\\OneDrive\\Desktop\\TestData\\walker_hos.mp4: 384x640 2 walkers, 31.6ms\n",
      "video 1/1 (1415/1727) C:\\Users\\bcw60\\OneDrive\\Desktop\\TestData\\walker_hos.mp4: 384x640 2 walkers, 40.8ms\n",
      "video 1/1 (1415/1727) C:\\Users\\bcw60\\OneDrive\\Desktop\\TestData\\walker_hos.mp4: 384x640 2 walkers, 40.8ms\n",
      "video 1/1 (1416/1727) C:\\Users\\bcw60\\OneDrive\\Desktop\\TestData\\walker_hos.mp4: 384x640 2 walkers, 35.3ms\n",
      "video 1/1 (1416/1727) C:\\Users\\bcw60\\OneDrive\\Desktop\\TestData\\walker_hos.mp4: 384x640 2 walkers, 35.3ms\n",
      "video 1/1 (1417/1727) C:\\Users\\bcw60\\OneDrive\\Desktop\\TestData\\walker_hos.mp4: 384x640 2 walkers, 46.9ms\n",
      "video 1/1 (1417/1727) C:\\Users\\bcw60\\OneDrive\\Desktop\\TestData\\walker_hos.mp4: 384x640 2 walkers, 46.9ms\n",
      "video 1/1 (1418/1727) C:\\Users\\bcw60\\OneDrive\\Desktop\\TestData\\walker_hos.mp4: 384x640 2 walkers, 41.9ms\n",
      "video 1/1 (1418/1727) C:\\Users\\bcw60\\OneDrive\\Desktop\\TestData\\walker_hos.mp4: 384x640 2 walkers, 41.9ms\n",
      "video 1/1 (1419/1727) C:\\Users\\bcw60\\OneDrive\\Desktop\\TestData\\walker_hos.mp4: 384x640 2 walkers, 37.3ms\n",
      "video 1/1 (1419/1727) C:\\Users\\bcw60\\OneDrive\\Desktop\\TestData\\walker_hos.mp4: 384x640 2 walkers, 37.3ms\n",
      "video 1/1 (1420/1727) C:\\Users\\bcw60\\OneDrive\\Desktop\\TestData\\walker_hos.mp4: 384x640 2 walkers, 37.6ms\n",
      "video 1/1 (1420/1727) C:\\Users\\bcw60\\OneDrive\\Desktop\\TestData\\walker_hos.mp4: 384x640 2 walkers, 37.6ms\n",
      "video 1/1 (1421/1727) C:\\Users\\bcw60\\OneDrive\\Desktop\\TestData\\walker_hos.mp4: 384x640 2 walkers, 34.9ms\n",
      "video 1/1 (1421/1727) C:\\Users\\bcw60\\OneDrive\\Desktop\\TestData\\walker_hos.mp4: 384x640 2 walkers, 34.9ms\n",
      "video 1/1 (1422/1727) C:\\Users\\bcw60\\OneDrive\\Desktop\\TestData\\walker_hos.mp4: 384x640 2 walkers, 39.7ms\n",
      "video 1/1 (1422/1727) C:\\Users\\bcw60\\OneDrive\\Desktop\\TestData\\walker_hos.mp4: 384x640 2 walkers, 39.7ms\n",
      "video 1/1 (1423/1727) C:\\Users\\bcw60\\OneDrive\\Desktop\\TestData\\walker_hos.mp4: 384x640 2 walkers, 35.6ms\n",
      "video 1/1 (1423/1727) C:\\Users\\bcw60\\OneDrive\\Desktop\\TestData\\walker_hos.mp4: 384x640 2 walkers, 35.6ms\n",
      "video 1/1 (1424/1727) C:\\Users\\bcw60\\OneDrive\\Desktop\\TestData\\walker_hos.mp4: 384x640 2 walkers, 30.5ms\n",
      "video 1/1 (1424/1727) C:\\Users\\bcw60\\OneDrive\\Desktop\\TestData\\walker_hos.mp4: 384x640 2 walkers, 30.5ms\n",
      "video 1/1 (1425/1727) C:\\Users\\bcw60\\OneDrive\\Desktop\\TestData\\walker_hos.mp4: 384x640 2 walkers, 43.4ms\n",
      "video 1/1 (1425/1727) C:\\Users\\bcw60\\OneDrive\\Desktop\\TestData\\walker_hos.mp4: 384x640 2 walkers, 43.4ms\n",
      "video 1/1 (1426/1727) C:\\Users\\bcw60\\OneDrive\\Desktop\\TestData\\walker_hos.mp4: 384x640 2 walkers, 41.7ms\n",
      "video 1/1 (1426/1727) C:\\Users\\bcw60\\OneDrive\\Desktop\\TestData\\walker_hos.mp4: 384x640 2 walkers, 41.7ms\n",
      "video 1/1 (1427/1727) C:\\Users\\bcw60\\OneDrive\\Desktop\\TestData\\walker_hos.mp4: 384x640 2 walkers, 37.4ms\n",
      "video 1/1 (1427/1727) C:\\Users\\bcw60\\OneDrive\\Desktop\\TestData\\walker_hos.mp4: 384x640 2 walkers, 37.4ms\n",
      "video 1/1 (1428/1727) C:\\Users\\bcw60\\OneDrive\\Desktop\\TestData\\walker_hos.mp4: 384x640 2 walkers, 38.1ms\n",
      "video 1/1 (1428/1727) C:\\Users\\bcw60\\OneDrive\\Desktop\\TestData\\walker_hos.mp4: 384x640 2 walkers, 38.1ms\n",
      "video 1/1 (1429/1727) C:\\Users\\bcw60\\OneDrive\\Desktop\\TestData\\walker_hos.mp4: 384x640 2 walkers, 28.9ms\n",
      "video 1/1 (1429/1727) C:\\Users\\bcw60\\OneDrive\\Desktop\\TestData\\walker_hos.mp4: 384x640 2 walkers, 28.9ms\n",
      "video 1/1 (1430/1727) C:\\Users\\bcw60\\OneDrive\\Desktop\\TestData\\walker_hos.mp4: 384x640 2 walkers, 31.6ms\n",
      "video 1/1 (1430/1727) C:\\Users\\bcw60\\OneDrive\\Desktop\\TestData\\walker_hos.mp4: 384x640 2 walkers, 31.6ms\n",
      "video 1/1 (1431/1727) C:\\Users\\bcw60\\OneDrive\\Desktop\\TestData\\walker_hos.mp4: 384x640 2 walkers, 35.9ms\n",
      "video 1/1 (1431/1727) C:\\Users\\bcw60\\OneDrive\\Desktop\\TestData\\walker_hos.mp4: 384x640 2 walkers, 35.9ms\n",
      "video 1/1 (1432/1727) C:\\Users\\bcw60\\OneDrive\\Desktop\\TestData\\walker_hos.mp4: 384x640 2 walkers, 31.4ms\n",
      "video 1/1 (1432/1727) C:\\Users\\bcw60\\OneDrive\\Desktop\\TestData\\walker_hos.mp4: 384x640 2 walkers, 31.4ms\n",
      "video 1/1 (1433/1727) C:\\Users\\bcw60\\OneDrive\\Desktop\\TestData\\walker_hos.mp4: 384x640 2 walkers, 41.7ms\n",
      "video 1/1 (1433/1727) C:\\Users\\bcw60\\OneDrive\\Desktop\\TestData\\walker_hos.mp4: 384x640 2 walkers, 41.7ms\n",
      "video 1/1 (1434/1727) C:\\Users\\bcw60\\OneDrive\\Desktop\\TestData\\walker_hos.mp4: 384x640 2 walkers, 33.8ms\n",
      "video 1/1 (1434/1727) C:\\Users\\bcw60\\OneDrive\\Desktop\\TestData\\walker_hos.mp4: 384x640 2 walkers, 33.8ms\n",
      "video 1/1 (1435/1727) C:\\Users\\bcw60\\OneDrive\\Desktop\\TestData\\walker_hos.mp4: 384x640 2 walkers, 31.3ms\n",
      "video 1/1 (1435/1727) C:\\Users\\bcw60\\OneDrive\\Desktop\\TestData\\walker_hos.mp4: 384x640 2 walkers, 31.3ms\n",
      "video 1/1 (1436/1727) C:\\Users\\bcw60\\OneDrive\\Desktop\\TestData\\walker_hos.mp4: 384x640 2 walkers, 41.8ms\n",
      "video 1/1 (1436/1727) C:\\Users\\bcw60\\OneDrive\\Desktop\\TestData\\walker_hos.mp4: 384x640 2 walkers, 41.8ms\n",
      "video 1/1 (1437/1727) C:\\Users\\bcw60\\OneDrive\\Desktop\\TestData\\walker_hos.mp4: 384x640 2 walkers, 40.5ms\n",
      "video 1/1 (1437/1727) C:\\Users\\bcw60\\OneDrive\\Desktop\\TestData\\walker_hos.mp4: 384x640 2 walkers, 40.5ms\n",
      "video 1/1 (1438/1727) C:\\Users\\bcw60\\OneDrive\\Desktop\\TestData\\walker_hos.mp4: 384x640 2 walkers, 35.6ms\n",
      "video 1/1 (1438/1727) C:\\Users\\bcw60\\OneDrive\\Desktop\\TestData\\walker_hos.mp4: 384x640 2 walkers, 35.6ms\n",
      "video 1/1 (1439/1727) C:\\Users\\bcw60\\OneDrive\\Desktop\\TestData\\walker_hos.mp4: 384x640 2 walkers, 44.8ms\n",
      "video 1/1 (1439/1727) C:\\Users\\bcw60\\OneDrive\\Desktop\\TestData\\walker_hos.mp4: 384x640 2 walkers, 44.8ms\n",
      "video 1/1 (1440/1727) C:\\Users\\bcw60\\OneDrive\\Desktop\\TestData\\walker_hos.mp4: 384x640 2 walkers, 34.8ms\n",
      "video 1/1 (1440/1727) C:\\Users\\bcw60\\OneDrive\\Desktop\\TestData\\walker_hos.mp4: 384x640 2 walkers, 34.8ms\n",
      "video 1/1 (1441/1727) C:\\Users\\bcw60\\OneDrive\\Desktop\\TestData\\walker_hos.mp4: 384x640 2 walkers, 35.1ms\n",
      "video 1/1 (1441/1727) C:\\Users\\bcw60\\OneDrive\\Desktop\\TestData\\walker_hos.mp4: 384x640 2 walkers, 35.1ms\n",
      "video 1/1 (1442/1727) C:\\Users\\bcw60\\OneDrive\\Desktop\\TestData\\walker_hos.mp4: 384x640 2 walkers, 49.3ms\n",
      "video 1/1 (1442/1727) C:\\Users\\bcw60\\OneDrive\\Desktop\\TestData\\walker_hos.mp4: 384x640 2 walkers, 49.3ms\n",
      "video 1/1 (1443/1727) C:\\Users\\bcw60\\OneDrive\\Desktop\\TestData\\walker_hos.mp4: 384x640 2 walkers, 30.6ms\n",
      "video 1/1 (1443/1727) C:\\Users\\bcw60\\OneDrive\\Desktop\\TestData\\walker_hos.mp4: 384x640 2 walkers, 30.6ms\n",
      "video 1/1 (1444/1727) C:\\Users\\bcw60\\OneDrive\\Desktop\\TestData\\walker_hos.mp4: 384x640 2 walkers, 40.4ms\n",
      "video 1/1 (1444/1727) C:\\Users\\bcw60\\OneDrive\\Desktop\\TestData\\walker_hos.mp4: 384x640 2 walkers, 40.4ms\n",
      "video 1/1 (1445/1727) C:\\Users\\bcw60\\OneDrive\\Desktop\\TestData\\walker_hos.mp4: 384x640 2 walkers, 33.4ms\n",
      "video 1/1 (1445/1727) C:\\Users\\bcw60\\OneDrive\\Desktop\\TestData\\walker_hos.mp4: 384x640 2 walkers, 33.4ms\n",
      "video 1/1 (1446/1727) C:\\Users\\bcw60\\OneDrive\\Desktop\\TestData\\walker_hos.mp4: 384x640 2 walkers, 49.6ms\n",
      "video 1/1 (1446/1727) C:\\Users\\bcw60\\OneDrive\\Desktop\\TestData\\walker_hos.mp4: 384x640 2 walkers, 49.6ms\n",
      "video 1/1 (1447/1727) C:\\Users\\bcw60\\OneDrive\\Desktop\\TestData\\walker_hos.mp4: 384x640 2 walkers, 31.3ms\n",
      "video 1/1 (1447/1727) C:\\Users\\bcw60\\OneDrive\\Desktop\\TestData\\walker_hos.mp4: 384x640 2 walkers, 31.3ms\n",
      "video 1/1 (1448/1727) C:\\Users\\bcw60\\OneDrive\\Desktop\\TestData\\walker_hos.mp4: 384x640 2 walkers, 40.6ms\n",
      "video 1/1 (1448/1727) C:\\Users\\bcw60\\OneDrive\\Desktop\\TestData\\walker_hos.mp4: 384x640 2 walkers, 40.6ms\n",
      "video 1/1 (1449/1727) C:\\Users\\bcw60\\OneDrive\\Desktop\\TestData\\walker_hos.mp4: 384x640 2 walkers, 35.4ms\n",
      "video 1/1 (1449/1727) C:\\Users\\bcw60\\OneDrive\\Desktop\\TestData\\walker_hos.mp4: 384x640 2 walkers, 35.4ms\n",
      "video 1/1 (1450/1727) C:\\Users\\bcw60\\OneDrive\\Desktop\\TestData\\walker_hos.mp4: 384x640 2 walkers, 50.6ms\n",
      "video 1/1 (1450/1727) C:\\Users\\bcw60\\OneDrive\\Desktop\\TestData\\walker_hos.mp4: 384x640 2 walkers, 50.6ms\n",
      "video 1/1 (1451/1727) C:\\Users\\bcw60\\OneDrive\\Desktop\\TestData\\walker_hos.mp4: 384x640 2 walkers, 47.2ms\n",
      "video 1/1 (1451/1727) C:\\Users\\bcw60\\OneDrive\\Desktop\\TestData\\walker_hos.mp4: 384x640 2 walkers, 47.2ms\n",
      "video 1/1 (1452/1727) C:\\Users\\bcw60\\OneDrive\\Desktop\\TestData\\walker_hos.mp4: 384x640 2 walkers, 38.3ms\n",
      "video 1/1 (1452/1727) C:\\Users\\bcw60\\OneDrive\\Desktop\\TestData\\walker_hos.mp4: 384x640 2 walkers, 38.3ms\n",
      "video 1/1 (1453/1727) C:\\Users\\bcw60\\OneDrive\\Desktop\\TestData\\walker_hos.mp4: 384x640 2 walkers, 30.3ms\n",
      "video 1/1 (1453/1727) C:\\Users\\bcw60\\OneDrive\\Desktop\\TestData\\walker_hos.mp4: 384x640 2 walkers, 30.3ms\n",
      "video 1/1 (1454/1727) C:\\Users\\bcw60\\OneDrive\\Desktop\\TestData\\walker_hos.mp4: 384x640 2 walkers, 34.1ms\n",
      "video 1/1 (1454/1727) C:\\Users\\bcw60\\OneDrive\\Desktop\\TestData\\walker_hos.mp4: 384x640 2 walkers, 34.1ms\n",
      "video 1/1 (1455/1727) C:\\Users\\bcw60\\OneDrive\\Desktop\\TestData\\walker_hos.mp4: 384x640 2 walkers, 31.3ms\n",
      "video 1/1 (1455/1727) C:\\Users\\bcw60\\OneDrive\\Desktop\\TestData\\walker_hos.mp4: 384x640 2 walkers, 31.3ms\n",
      "video 1/1 (1456/1727) C:\\Users\\bcw60\\OneDrive\\Desktop\\TestData\\walker_hos.mp4: 384x640 2 walkers, 41.7ms\n",
      "video 1/1 (1456/1727) C:\\Users\\bcw60\\OneDrive\\Desktop\\TestData\\walker_hos.mp4: 384x640 2 walkers, 41.7ms\n",
      "video 1/1 (1457/1727) C:\\Users\\bcw60\\OneDrive\\Desktop\\TestData\\walker_hos.mp4: 384x640 2 walkers, 35.5ms\n",
      "video 1/1 (1457/1727) C:\\Users\\bcw60\\OneDrive\\Desktop\\TestData\\walker_hos.mp4: 384x640 2 walkers, 35.5ms\n",
      "video 1/1 (1458/1727) C:\\Users\\bcw60\\OneDrive\\Desktop\\TestData\\walker_hos.mp4: 384x640 2 walkers, 48.2ms\n",
      "video 1/1 (1458/1727) C:\\Users\\bcw60\\OneDrive\\Desktop\\TestData\\walker_hos.mp4: 384x640 2 walkers, 48.2ms\n",
      "video 1/1 (1459/1727) C:\\Users\\bcw60\\OneDrive\\Desktop\\TestData\\walker_hos.mp4: 384x640 2 walkers, 31.4ms\n",
      "video 1/1 (1459/1727) C:\\Users\\bcw60\\OneDrive\\Desktop\\TestData\\walker_hos.mp4: 384x640 2 walkers, 31.4ms\n",
      "video 1/1 (1460/1727) C:\\Users\\bcw60\\OneDrive\\Desktop\\TestData\\walker_hos.mp4: 384x640 2 walkers, 40.4ms\n",
      "video 1/1 (1460/1727) C:\\Users\\bcw60\\OneDrive\\Desktop\\TestData\\walker_hos.mp4: 384x640 2 walkers, 40.4ms\n",
      "video 1/1 (1461/1727) C:\\Users\\bcw60\\OneDrive\\Desktop\\TestData\\walker_hos.mp4: 384x640 2 walkers, 37.6ms\n",
      "video 1/1 (1461/1727) C:\\Users\\bcw60\\OneDrive\\Desktop\\TestData\\walker_hos.mp4: 384x640 2 walkers, 37.6ms\n",
      "video 1/1 (1462/1727) C:\\Users\\bcw60\\OneDrive\\Desktop\\TestData\\walker_hos.mp4: 384x640 2 walkers, 36.9ms\n",
      "video 1/1 (1462/1727) C:\\Users\\bcw60\\OneDrive\\Desktop\\TestData\\walker_hos.mp4: 384x640 2 walkers, 36.9ms\n",
      "video 1/1 (1463/1727) C:\\Users\\bcw60\\OneDrive\\Desktop\\TestData\\walker_hos.mp4: 384x640 2 walkers, 46.0ms\n",
      "video 1/1 (1463/1727) C:\\Users\\bcw60\\OneDrive\\Desktop\\TestData\\walker_hos.mp4: 384x640 2 walkers, 46.0ms\n",
      "video 1/1 (1464/1727) C:\\Users\\bcw60\\OneDrive\\Desktop\\TestData\\walker_hos.mp4: 384x640 2 walkers, 42.9ms\n",
      "video 1/1 (1464/1727) C:\\Users\\bcw60\\OneDrive\\Desktop\\TestData\\walker_hos.mp4: 384x640 2 walkers, 42.9ms\n",
      "video 1/1 (1465/1727) C:\\Users\\bcw60\\OneDrive\\Desktop\\TestData\\walker_hos.mp4: 384x640 2 walkers, 39.9ms\n",
      "video 1/1 (1465/1727) C:\\Users\\bcw60\\OneDrive\\Desktop\\TestData\\walker_hos.mp4: 384x640 2 walkers, 39.9ms\n",
      "video 1/1 (1466/1727) C:\\Users\\bcw60\\OneDrive\\Desktop\\TestData\\walker_hos.mp4: 384x640 2 walkers, 35.2ms\n",
      "video 1/1 (1466/1727) C:\\Users\\bcw60\\OneDrive\\Desktop\\TestData\\walker_hos.mp4: 384x640 2 walkers, 35.2ms\n",
      "video 1/1 (1467/1727) C:\\Users\\bcw60\\OneDrive\\Desktop\\TestData\\walker_hos.mp4: 384x640 2 walkers, 35.1ms\n",
      "video 1/1 (1467/1727) C:\\Users\\bcw60\\OneDrive\\Desktop\\TestData\\walker_hos.mp4: 384x640 2 walkers, 35.1ms\n",
      "video 1/1 (1468/1727) C:\\Users\\bcw60\\OneDrive\\Desktop\\TestData\\walker_hos.mp4: 384x640 2 walkers, 42.6ms\n",
      "video 1/1 (1468/1727) C:\\Users\\bcw60\\OneDrive\\Desktop\\TestData\\walker_hos.mp4: 384x640 2 walkers, 42.6ms\n",
      "video 1/1 (1469/1727) C:\\Users\\bcw60\\OneDrive\\Desktop\\TestData\\walker_hos.mp4: 384x640 2 walkers, 35.9ms\n",
      "video 1/1 (1469/1727) C:\\Users\\bcw60\\OneDrive\\Desktop\\TestData\\walker_hos.mp4: 384x640 2 walkers, 35.9ms\n",
      "video 1/1 (1470/1727) C:\\Users\\bcw60\\OneDrive\\Desktop\\TestData\\walker_hos.mp4: 384x640 2 walkers, 44.8ms\n",
      "video 1/1 (1470/1727) C:\\Users\\bcw60\\OneDrive\\Desktop\\TestData\\walker_hos.mp4: 384x640 2 walkers, 44.8ms\n",
      "video 1/1 (1471/1727) C:\\Users\\bcw60\\OneDrive\\Desktop\\TestData\\walker_hos.mp4: 384x640 2 walkers, 36.9ms\n",
      "video 1/1 (1471/1727) C:\\Users\\bcw60\\OneDrive\\Desktop\\TestData\\walker_hos.mp4: 384x640 2 walkers, 36.9ms\n",
      "video 1/1 (1472/1727) C:\\Users\\bcw60\\OneDrive\\Desktop\\TestData\\walker_hos.mp4: 384x640 2 walkers, 31.4ms\n",
      "video 1/1 (1472/1727) C:\\Users\\bcw60\\OneDrive\\Desktop\\TestData\\walker_hos.mp4: 384x640 2 walkers, 31.4ms\n",
      "video 1/1 (1473/1727) C:\\Users\\bcw60\\OneDrive\\Desktop\\TestData\\walker_hos.mp4: 384x640 2 walkers, 33.9ms\n",
      "video 1/1 (1473/1727) C:\\Users\\bcw60\\OneDrive\\Desktop\\TestData\\walker_hos.mp4: 384x640 2 walkers, 33.9ms\n",
      "video 1/1 (1474/1727) C:\\Users\\bcw60\\OneDrive\\Desktop\\TestData\\walker_hos.mp4: 384x640 2 walkers, 31.5ms\n",
      "video 1/1 (1474/1727) C:\\Users\\bcw60\\OneDrive\\Desktop\\TestData\\walker_hos.mp4: 384x640 2 walkers, 31.5ms\n",
      "video 1/1 (1475/1727) C:\\Users\\bcw60\\OneDrive\\Desktop\\TestData\\walker_hos.mp4: 384x640 2 walkers, 42.6ms\n",
      "video 1/1 (1475/1727) C:\\Users\\bcw60\\OneDrive\\Desktop\\TestData\\walker_hos.mp4: 384x640 2 walkers, 42.6ms\n",
      "video 1/1 (1476/1727) C:\\Users\\bcw60\\OneDrive\\Desktop\\TestData\\walker_hos.mp4: 384x640 2 walkers, 35.7ms\n",
      "video 1/1 (1476/1727) C:\\Users\\bcw60\\OneDrive\\Desktop\\TestData\\walker_hos.mp4: 384x640 2 walkers, 35.7ms\n",
      "video 1/1 (1477/1727) C:\\Users\\bcw60\\OneDrive\\Desktop\\TestData\\walker_hos.mp4: 384x640 2 walkers, 36.0ms\n",
      "video 1/1 (1477/1727) C:\\Users\\bcw60\\OneDrive\\Desktop\\TestData\\walker_hos.mp4: 384x640 2 walkers, 36.0ms\n",
      "video 1/1 (1478/1727) C:\\Users\\bcw60\\OneDrive\\Desktop\\TestData\\walker_hos.mp4: 384x640 2 walkers, 47.3ms\n",
      "video 1/1 (1478/1727) C:\\Users\\bcw60\\OneDrive\\Desktop\\TestData\\walker_hos.mp4: 384x640 2 walkers, 47.3ms\n",
      "video 1/1 (1479/1727) C:\\Users\\bcw60\\OneDrive\\Desktop\\TestData\\walker_hos.mp4: 384x640 2 walkers, 30.7ms\n",
      "video 1/1 (1479/1727) C:\\Users\\bcw60\\OneDrive\\Desktop\\TestData\\walker_hos.mp4: 384x640 2 walkers, 30.7ms\n",
      "video 1/1 (1480/1727) C:\\Users\\bcw60\\OneDrive\\Desktop\\TestData\\walker_hos.mp4: 384x640 2 walkers, 38.7ms\n",
      "video 1/1 (1480/1727) C:\\Users\\bcw60\\OneDrive\\Desktop\\TestData\\walker_hos.mp4: 384x640 2 walkers, 38.7ms\n",
      "video 1/1 (1481/1727) C:\\Users\\bcw60\\OneDrive\\Desktop\\TestData\\walker_hos.mp4: 384x640 2 walkers, 37.2ms\n",
      "video 1/1 (1481/1727) C:\\Users\\bcw60\\OneDrive\\Desktop\\TestData\\walker_hos.mp4: 384x640 2 walkers, 37.2ms\n",
      "video 1/1 (1482/1727) C:\\Users\\bcw60\\OneDrive\\Desktop\\TestData\\walker_hos.mp4: 384x640 2 walkers, 31.9ms\n",
      "video 1/1 (1482/1727) C:\\Users\\bcw60\\OneDrive\\Desktop\\TestData\\walker_hos.mp4: 384x640 2 walkers, 31.9ms\n",
      "video 1/1 (1483/1727) C:\\Users\\bcw60\\OneDrive\\Desktop\\TestData\\walker_hos.mp4: 384x640 2 walkers, 39.5ms\n",
      "video 1/1 (1483/1727) C:\\Users\\bcw60\\OneDrive\\Desktop\\TestData\\walker_hos.mp4: 384x640 2 walkers, 39.5ms\n",
      "video 1/1 (1484/1727) C:\\Users\\bcw60\\OneDrive\\Desktop\\TestData\\walker_hos.mp4: 384x640 2 walkers, 35.1ms\n",
      "video 1/1 (1484/1727) C:\\Users\\bcw60\\OneDrive\\Desktop\\TestData\\walker_hos.mp4: 384x640 2 walkers, 35.1ms\n",
      "video 1/1 (1485/1727) C:\\Users\\bcw60\\OneDrive\\Desktop\\TestData\\walker_hos.mp4: 384x640 2 walkers, 49.4ms\n",
      "video 1/1 (1485/1727) C:\\Users\\bcw60\\OneDrive\\Desktop\\TestData\\walker_hos.mp4: 384x640 2 walkers, 49.4ms\n",
      "video 1/1 (1486/1727) C:\\Users\\bcw60\\OneDrive\\Desktop\\TestData\\walker_hos.mp4: 384x640 2 walkers, 44.2ms\n",
      "video 1/1 (1486/1727) C:\\Users\\bcw60\\OneDrive\\Desktop\\TestData\\walker_hos.mp4: 384x640 2 walkers, 44.2ms\n",
      "video 1/1 (1487/1727) C:\\Users\\bcw60\\OneDrive\\Desktop\\TestData\\walker_hos.mp4: 384x640 2 walkers, 42.5ms\n",
      "video 1/1 (1487/1727) C:\\Users\\bcw60\\OneDrive\\Desktop\\TestData\\walker_hos.mp4: 384x640 2 walkers, 42.5ms\n",
      "video 1/1 (1488/1727) C:\\Users\\bcw60\\OneDrive\\Desktop\\TestData\\walker_hos.mp4: 384x640 2 walkers, 34.7ms\n",
      "video 1/1 (1488/1727) C:\\Users\\bcw60\\OneDrive\\Desktop\\TestData\\walker_hos.mp4: 384x640 2 walkers, 34.7ms\n",
      "video 1/1 (1489/1727) C:\\Users\\bcw60\\OneDrive\\Desktop\\TestData\\walker_hos.mp4: 384x640 2 walkers, 35.4ms\n",
      "video 1/1 (1489/1727) C:\\Users\\bcw60\\OneDrive\\Desktop\\TestData\\walker_hos.mp4: 384x640 2 walkers, 35.4ms\n",
      "video 1/1 (1490/1727) C:\\Users\\bcw60\\OneDrive\\Desktop\\TestData\\walker_hos.mp4: 384x640 2 walkers, 46.1ms\n",
      "video 1/1 (1490/1727) C:\\Users\\bcw60\\OneDrive\\Desktop\\TestData\\walker_hos.mp4: 384x640 2 walkers, 46.1ms\n",
      "video 1/1 (1491/1727) C:\\Users\\bcw60\\OneDrive\\Desktop\\TestData\\walker_hos.mp4: 384x640 2 walkers, 41.9ms\n",
      "video 1/1 (1491/1727) C:\\Users\\bcw60\\OneDrive\\Desktop\\TestData\\walker_hos.mp4: 384x640 2 walkers, 41.9ms\n",
      "video 1/1 (1492/1727) C:\\Users\\bcw60\\OneDrive\\Desktop\\TestData\\walker_hos.mp4: 384x640 2 walkers, 35.3ms\n",
      "video 1/1 (1492/1727) C:\\Users\\bcw60\\OneDrive\\Desktop\\TestData\\walker_hos.mp4: 384x640 2 walkers, 35.3ms\n",
      "video 1/1 (1493/1727) C:\\Users\\bcw60\\OneDrive\\Desktop\\TestData\\walker_hos.mp4: 384x640 2 walkers, 49.9ms\n",
      "video 1/1 (1493/1727) C:\\Users\\bcw60\\OneDrive\\Desktop\\TestData\\walker_hos.mp4: 384x640 2 walkers, 49.9ms\n",
      "video 1/1 (1494/1727) C:\\Users\\bcw60\\OneDrive\\Desktop\\TestData\\walker_hos.mp4: 384x640 2 walkers, 31.7ms\n",
      "video 1/1 (1494/1727) C:\\Users\\bcw60\\OneDrive\\Desktop\\TestData\\walker_hos.mp4: 384x640 2 walkers, 31.7ms\n",
      "video 1/1 (1495/1727) C:\\Users\\bcw60\\OneDrive\\Desktop\\TestData\\walker_hos.mp4: 384x640 2 walkers, 39.4ms\n",
      "video 1/1 (1495/1727) C:\\Users\\bcw60\\OneDrive\\Desktop\\TestData\\walker_hos.mp4: 384x640 2 walkers, 39.4ms\n",
      "video 1/1 (1496/1727) C:\\Users\\bcw60\\OneDrive\\Desktop\\TestData\\walker_hos.mp4: 384x640 2 walkers, 39.5ms\n",
      "video 1/1 (1496/1727) C:\\Users\\bcw60\\OneDrive\\Desktop\\TestData\\walker_hos.mp4: 384x640 2 walkers, 39.5ms\n",
      "video 1/1 (1497/1727) C:\\Users\\bcw60\\OneDrive\\Desktop\\TestData\\walker_hos.mp4: 384x640 2 walkers, 37.6ms\n",
      "video 1/1 (1497/1727) C:\\Users\\bcw60\\OneDrive\\Desktop\\TestData\\walker_hos.mp4: 384x640 2 walkers, 37.6ms\n",
      "video 1/1 (1498/1727) C:\\Users\\bcw60\\OneDrive\\Desktop\\TestData\\walker_hos.mp4: 384x640 2 walkers, 31.4ms\n",
      "video 1/1 (1498/1727) C:\\Users\\bcw60\\OneDrive\\Desktop\\TestData\\walker_hos.mp4: 384x640 2 walkers, 31.4ms\n",
      "video 1/1 (1499/1727) C:\\Users\\bcw60\\OneDrive\\Desktop\\TestData\\walker_hos.mp4: 384x640 2 walkers, 41.4ms\n",
      "video 1/1 (1499/1727) C:\\Users\\bcw60\\OneDrive\\Desktop\\TestData\\walker_hos.mp4: 384x640 2 walkers, 41.4ms\n",
      "video 1/1 (1500/1727) C:\\Users\\bcw60\\OneDrive\\Desktop\\TestData\\walker_hos.mp4: 384x640 2 walkers, 35.0ms\n",
      "video 1/1 (1500/1727) C:\\Users\\bcw60\\OneDrive\\Desktop\\TestData\\walker_hos.mp4: 384x640 2 walkers, 35.0ms\n",
      "video 1/1 (1501/1727) C:\\Users\\bcw60\\OneDrive\\Desktop\\TestData\\walker_hos.mp4: 384x640 2 walkers, 35.5ms\n",
      "video 1/1 (1501/1727) C:\\Users\\bcw60\\OneDrive\\Desktop\\TestData\\walker_hos.mp4: 384x640 2 walkers, 35.5ms\n",
      "video 1/1 (1502/1727) C:\\Users\\bcw60\\OneDrive\\Desktop\\TestData\\walker_hos.mp4: 384x640 2 walkers, 30.9ms\n",
      "video 1/1 (1502/1727) C:\\Users\\bcw60\\OneDrive\\Desktop\\TestData\\walker_hos.mp4: 384x640 2 walkers, 30.9ms\n",
      "video 1/1 (1503/1727) C:\\Users\\bcw60\\OneDrive\\Desktop\\TestData\\walker_hos.mp4: 384x640 2 walkers, 41.7ms\n",
      "video 1/1 (1503/1727) C:\\Users\\bcw60\\OneDrive\\Desktop\\TestData\\walker_hos.mp4: 384x640 2 walkers, 41.7ms\n",
      "video 1/1 (1504/1727) C:\\Users\\bcw60\\OneDrive\\Desktop\\TestData\\walker_hos.mp4: 384x640 2 walkers, 33.0ms\n",
      "video 1/1 (1504/1727) C:\\Users\\bcw60\\OneDrive\\Desktop\\TestData\\walker_hos.mp4: 384x640 2 walkers, 33.0ms\n",
      "video 1/1 (1505/1727) C:\\Users\\bcw60\\OneDrive\\Desktop\\TestData\\walker_hos.mp4: 384x640 2 walkers, 48.1ms\n",
      "video 1/1 (1505/1727) C:\\Users\\bcw60\\OneDrive\\Desktop\\TestData\\walker_hos.mp4: 384x640 2 walkers, 48.1ms\n",
      "video 1/1 (1506/1727) C:\\Users\\bcw60\\OneDrive\\Desktop\\TestData\\walker_hos.mp4: 384x640 2 walkers, 35.1ms\n",
      "video 1/1 (1506/1727) C:\\Users\\bcw60\\OneDrive\\Desktop\\TestData\\walker_hos.mp4: 384x640 2 walkers, 35.1ms\n",
      "video 1/1 (1507/1727) C:\\Users\\bcw60\\OneDrive\\Desktop\\TestData\\walker_hos.mp4: 384x640 2 walkers, 37.6ms\n",
      "video 1/1 (1507/1727) C:\\Users\\bcw60\\OneDrive\\Desktop\\TestData\\walker_hos.mp4: 384x640 2 walkers, 37.6ms\n",
      "video 1/1 (1508/1727) C:\\Users\\bcw60\\OneDrive\\Desktop\\TestData\\walker_hos.mp4: 384x640 2 walkers, 35.3ms\n",
      "video 1/1 (1508/1727) C:\\Users\\bcw60\\OneDrive\\Desktop\\TestData\\walker_hos.mp4: 384x640 2 walkers, 35.3ms\n",
      "video 1/1 (1509/1727) C:\\Users\\bcw60\\OneDrive\\Desktop\\TestData\\walker_hos.mp4: 384x640 2 walkers, 30.5ms\n",
      "video 1/1 (1509/1727) C:\\Users\\bcw60\\OneDrive\\Desktop\\TestData\\walker_hos.mp4: 384x640 2 walkers, 30.5ms\n",
      "video 1/1 (1510/1727) C:\\Users\\bcw60\\OneDrive\\Desktop\\TestData\\walker_hos.mp4: 384x640 2 walkers, 39.7ms\n",
      "video 1/1 (1510/1727) C:\\Users\\bcw60\\OneDrive\\Desktop\\TestData\\walker_hos.mp4: 384x640 2 walkers, 39.7ms\n",
      "video 1/1 (1511/1727) C:\\Users\\bcw60\\OneDrive\\Desktop\\TestData\\walker_hos.mp4: 384x640 2 walkers, 37.6ms\n",
      "video 1/1 (1511/1727) C:\\Users\\bcw60\\OneDrive\\Desktop\\TestData\\walker_hos.mp4: 384x640 2 walkers, 37.6ms\n",
      "video 1/1 (1512/1727) C:\\Users\\bcw60\\OneDrive\\Desktop\\TestData\\walker_hos.mp4: 384x640 2 walkers, 36.9ms\n",
      "video 1/1 (1512/1727) C:\\Users\\bcw60\\OneDrive\\Desktop\\TestData\\walker_hos.mp4: 384x640 2 walkers, 36.9ms\n",
      "video 1/1 (1513/1727) C:\\Users\\bcw60\\OneDrive\\Desktop\\TestData\\walker_hos.mp4: 384x640 2 walkers, 27.5ms\n",
      "video 1/1 (1513/1727) C:\\Users\\bcw60\\OneDrive\\Desktop\\TestData\\walker_hos.mp4: 384x640 2 walkers, 27.5ms\n",
      "video 1/1 (1514/1727) C:\\Users\\bcw60\\OneDrive\\Desktop\\TestData\\walker_hos.mp4: 384x640 2 walkers, 38.7ms\n",
      "video 1/1 (1514/1727) C:\\Users\\bcw60\\OneDrive\\Desktop\\TestData\\walker_hos.mp4: 384x640 2 walkers, 38.7ms\n",
      "video 1/1 (1515/1727) C:\\Users\\bcw60\\OneDrive\\Desktop\\TestData\\walker_hos.mp4: 384x640 2 walkers, 32.7ms\n",
      "video 1/1 (1515/1727) C:\\Users\\bcw60\\OneDrive\\Desktop\\TestData\\walker_hos.mp4: 384x640 2 walkers, 32.7ms\n",
      "video 1/1 (1516/1727) C:\\Users\\bcw60\\OneDrive\\Desktop\\TestData\\walker_hos.mp4: 384x640 2 walkers, 47.3ms\n",
      "video 1/1 (1516/1727) C:\\Users\\bcw60\\OneDrive\\Desktop\\TestData\\walker_hos.mp4: 384x640 2 walkers, 47.3ms\n",
      "video 1/1 (1517/1727) C:\\Users\\bcw60\\OneDrive\\Desktop\\TestData\\walker_hos.mp4: 384x640 2 walkers, 31.4ms\n",
      "video 1/1 (1517/1727) C:\\Users\\bcw60\\OneDrive\\Desktop\\TestData\\walker_hos.mp4: 384x640 2 walkers, 31.4ms\n",
      "video 1/1 (1518/1727) C:\\Users\\bcw60\\OneDrive\\Desktop\\TestData\\walker_hos.mp4: 384x640 2 walkers, 37.7ms\n",
      "video 1/1 (1518/1727) C:\\Users\\bcw60\\OneDrive\\Desktop\\TestData\\walker_hos.mp4: 384x640 2 walkers, 37.7ms\n",
      "video 1/1 (1519/1727) C:\\Users\\bcw60\\OneDrive\\Desktop\\TestData\\walker_hos.mp4: 384x640 2 walkers, 36.4ms\n",
      "video 1/1 (1519/1727) C:\\Users\\bcw60\\OneDrive\\Desktop\\TestData\\walker_hos.mp4: 384x640 2 walkers, 36.4ms\n",
      "video 1/1 (1520/1727) C:\\Users\\bcw60\\OneDrive\\Desktop\\TestData\\walker_hos.mp4: 384x640 2 walkers, 31.2ms\n",
      "video 1/1 (1520/1727) C:\\Users\\bcw60\\OneDrive\\Desktop\\TestData\\walker_hos.mp4: 384x640 2 walkers, 31.2ms\n",
      "video 1/1 (1521/1727) C:\\Users\\bcw60\\OneDrive\\Desktop\\TestData\\walker_hos.mp4: 384x640 2 walkers, 39.7ms\n",
      "video 1/1 (1521/1727) C:\\Users\\bcw60\\OneDrive\\Desktop\\TestData\\walker_hos.mp4: 384x640 2 walkers, 39.7ms\n",
      "video 1/1 (1522/1727) C:\\Users\\bcw60\\OneDrive\\Desktop\\TestData\\walker_hos.mp4: 384x640 2 walkers, 35.1ms\n",
      "video 1/1 (1522/1727) C:\\Users\\bcw60\\OneDrive\\Desktop\\TestData\\walker_hos.mp4: 384x640 2 walkers, 35.1ms\n",
      "video 1/1 (1523/1727) C:\\Users\\bcw60\\OneDrive\\Desktop\\TestData\\walker_hos.mp4: 384x640 2 walkers, 47.1ms\n",
      "video 1/1 (1523/1727) C:\\Users\\bcw60\\OneDrive\\Desktop\\TestData\\walker_hos.mp4: 384x640 2 walkers, 47.1ms\n",
      "video 1/1 (1524/1727) C:\\Users\\bcw60\\OneDrive\\Desktop\\TestData\\walker_hos.mp4: 384x640 2 walkers, 42.7ms\n",
      "video 1/1 (1524/1727) C:\\Users\\bcw60\\OneDrive\\Desktop\\TestData\\walker_hos.mp4: 384x640 2 walkers, 42.7ms\n",
      "video 1/1 (1525/1727) C:\\Users\\bcw60\\OneDrive\\Desktop\\TestData\\walker_hos.mp4: 384x640 2 walkers, 35.1ms\n",
      "video 1/1 (1525/1727) C:\\Users\\bcw60\\OneDrive\\Desktop\\TestData\\walker_hos.mp4: 384x640 2 walkers, 35.1ms\n",
      "video 1/1 (1526/1727) C:\\Users\\bcw60\\OneDrive\\Desktop\\TestData\\walker_hos.mp4: 384x640 2 walkers, 35.7ms\n",
      "video 1/1 (1526/1727) C:\\Users\\bcw60\\OneDrive\\Desktop\\TestData\\walker_hos.mp4: 384x640 2 walkers, 35.7ms\n",
      "video 1/1 (1527/1727) C:\\Users\\bcw60\\OneDrive\\Desktop\\TestData\\walker_hos.mp4: 384x640 2 walkers, 31.8ms\n",
      "video 1/1 (1527/1727) C:\\Users\\bcw60\\OneDrive\\Desktop\\TestData\\walker_hos.mp4: 384x640 2 walkers, 31.8ms\n",
      "video 1/1 (1528/1727) C:\\Users\\bcw60\\OneDrive\\Desktop\\TestData\\walker_hos.mp4: 384x640 2 walkers, 38.8ms\n",
      "video 1/1 (1528/1727) C:\\Users\\bcw60\\OneDrive\\Desktop\\TestData\\walker_hos.mp4: 384x640 2 walkers, 38.8ms\n",
      "video 1/1 (1529/1727) C:\\Users\\bcw60\\OneDrive\\Desktop\\TestData\\walker_hos.mp4: 384x640 2 walkers, 36.7ms\n",
      "video 1/1 (1529/1727) C:\\Users\\bcw60\\OneDrive\\Desktop\\TestData\\walker_hos.mp4: 384x640 2 walkers, 36.7ms\n",
      "video 1/1 (1530/1727) C:\\Users\\bcw60\\OneDrive\\Desktop\\TestData\\walker_hos.mp4: 384x640 2 walkers, 36.3ms\n",
      "video 1/1 (1530/1727) C:\\Users\\bcw60\\OneDrive\\Desktop\\TestData\\walker_hos.mp4: 384x640 2 walkers, 36.3ms\n",
      "video 1/1 (1531/1727) C:\\Users\\bcw60\\OneDrive\\Desktop\\TestData\\walker_hos.mp4: 384x640 2 walkers, 41.6ms\n",
      "video 1/1 (1531/1727) C:\\Users\\bcw60\\OneDrive\\Desktop\\TestData\\walker_hos.mp4: 384x640 2 walkers, 41.6ms\n",
      "video 1/1 (1532/1727) C:\\Users\\bcw60\\OneDrive\\Desktop\\TestData\\walker_hos.mp4: 384x640 2 walkers, 34.8ms\n",
      "video 1/1 (1532/1727) C:\\Users\\bcw60\\OneDrive\\Desktop\\TestData\\walker_hos.mp4: 384x640 2 walkers, 34.8ms\n",
      "video 1/1 (1533/1727) C:\\Users\\bcw60\\OneDrive\\Desktop\\TestData\\walker_hos.mp4: 384x640 2 walkers, 35.9ms\n",
      "video 1/1 (1533/1727) C:\\Users\\bcw60\\OneDrive\\Desktop\\TestData\\walker_hos.mp4: 384x640 2 walkers, 35.9ms\n",
      "video 1/1 (1534/1727) C:\\Users\\bcw60\\OneDrive\\Desktop\\TestData\\walker_hos.mp4: 384x640 2 walkers, 35.0ms\n",
      "video 1/1 (1534/1727) C:\\Users\\bcw60\\OneDrive\\Desktop\\TestData\\walker_hos.mp4: 384x640 2 walkers, 35.0ms\n",
      "video 1/1 (1535/1727) C:\\Users\\bcw60\\OneDrive\\Desktop\\TestData\\walker_hos.mp4: 384x640 2 walkers, 42.0ms\n",
      "video 1/1 (1535/1727) C:\\Users\\bcw60\\OneDrive\\Desktop\\TestData\\walker_hos.mp4: 384x640 2 walkers, 42.0ms\n",
      "video 1/1 (1536/1727) C:\\Users\\bcw60\\OneDrive\\Desktop\\TestData\\walker_hos.mp4: 384x640 2 walkers, 35.7ms\n",
      "video 1/1 (1536/1727) C:\\Users\\bcw60\\OneDrive\\Desktop\\TestData\\walker_hos.mp4: 384x640 2 walkers, 35.7ms\n",
      "video 1/1 (1537/1727) C:\\Users\\bcw60\\OneDrive\\Desktop\\TestData\\walker_hos.mp4: 384x640 2 walkers, 31.0ms\n",
      "video 1/1 (1537/1727) C:\\Users\\bcw60\\OneDrive\\Desktop\\TestData\\walker_hos.mp4: 384x640 2 walkers, 31.0ms\n",
      "video 1/1 (1538/1727) C:\\Users\\bcw60\\OneDrive\\Desktop\\TestData\\walker_hos.mp4: 384x640 2 walkers, 50.6ms\n",
      "video 1/1 (1538/1727) C:\\Users\\bcw60\\OneDrive\\Desktop\\TestData\\walker_hos.mp4: 384x640 2 walkers, 50.6ms\n",
      "video 1/1 (1539/1727) C:\\Users\\bcw60\\OneDrive\\Desktop\\TestData\\walker_hos.mp4: 384x640 2 walkers, 30.5ms\n",
      "video 1/1 (1539/1727) C:\\Users\\bcw60\\OneDrive\\Desktop\\TestData\\walker_hos.mp4: 384x640 2 walkers, 30.5ms\n",
      "video 1/1 (1540/1727) C:\\Users\\bcw60\\OneDrive\\Desktop\\TestData\\walker_hos.mp4: 384x640 2 walkers, 40.4ms\n",
      "video 1/1 (1540/1727) C:\\Users\\bcw60\\OneDrive\\Desktop\\TestData\\walker_hos.mp4: 384x640 2 walkers, 40.4ms\n",
      "video 1/1 (1541/1727) C:\\Users\\bcw60\\OneDrive\\Desktop\\TestData\\walker_hos.mp4: 384x640 2 walkers, 34.9ms\n",
      "video 1/1 (1541/1727) C:\\Users\\bcw60\\OneDrive\\Desktop\\TestData\\walker_hos.mp4: 384x640 2 walkers, 34.9ms\n",
      "video 1/1 (1542/1727) C:\\Users\\bcw60\\OneDrive\\Desktop\\TestData\\walker_hos.mp4: 384x640 2 walkers, 47.3ms\n",
      "video 1/1 (1542/1727) C:\\Users\\bcw60\\OneDrive\\Desktop\\TestData\\walker_hos.mp4: 384x640 2 walkers, 47.3ms\n",
      "video 1/1 (1543/1727) C:\\Users\\bcw60\\OneDrive\\Desktop\\TestData\\walker_hos.mp4: 384x640 2 walkers, 35.1ms\n",
      "video 1/1 (1543/1727) C:\\Users\\bcw60\\OneDrive\\Desktop\\TestData\\walker_hos.mp4: 384x640 2 walkers, 35.1ms\n",
      "video 1/1 (1544/1727) C:\\Users\\bcw60\\OneDrive\\Desktop\\TestData\\walker_hos.mp4: 384x640 2 walkers, 39.8ms\n",
      "video 1/1 (1544/1727) C:\\Users\\bcw60\\OneDrive\\Desktop\\TestData\\walker_hos.mp4: 384x640 2 walkers, 39.8ms\n",
      "video 1/1 (1545/1727) C:\\Users\\bcw60\\OneDrive\\Desktop\\TestData\\walker_hos.mp4: 384x640 2 walkers, 35.9ms\n",
      "video 1/1 (1545/1727) C:\\Users\\bcw60\\OneDrive\\Desktop\\TestData\\walker_hos.mp4: 384x640 2 walkers, 35.9ms\n",
      "video 1/1 (1546/1727) C:\\Users\\bcw60\\OneDrive\\Desktop\\TestData\\walker_hos.mp4: 384x640 2 walkers, 31.0ms\n",
      "video 1/1 (1546/1727) C:\\Users\\bcw60\\OneDrive\\Desktop\\TestData\\walker_hos.mp4: 384x640 2 walkers, 31.0ms\n",
      "video 1/1 (1547/1727) C:\\Users\\bcw60\\OneDrive\\Desktop\\TestData\\walker_hos.mp4: 384x640 2 walkers, 40.7ms\n",
      "video 1/1 (1547/1727) C:\\Users\\bcw60\\OneDrive\\Desktop\\TestData\\walker_hos.mp4: 384x640 2 walkers, 40.7ms\n",
      "video 1/1 (1548/1727) C:\\Users\\bcw60\\OneDrive\\Desktop\\TestData\\walker_hos.mp4: 384x640 2 walkers, 34.8ms\n",
      "video 1/1 (1548/1727) C:\\Users\\bcw60\\OneDrive\\Desktop\\TestData\\walker_hos.mp4: 384x640 2 walkers, 34.8ms\n",
      "video 1/1 (1549/1727) C:\\Users\\bcw60\\OneDrive\\Desktop\\TestData\\walker_hos.mp4: 384x640 2 walkers, 48.3ms\n",
      "video 1/1 (1549/1727) C:\\Users\\bcw60\\OneDrive\\Desktop\\TestData\\walker_hos.mp4: 384x640 2 walkers, 48.3ms\n",
      "video 1/1 (1550/1727) C:\\Users\\bcw60\\OneDrive\\Desktop\\TestData\\walker_hos.mp4: 384x640 2 walkers, 34.0ms\n",
      "video 1/1 (1550/1727) C:\\Users\\bcw60\\OneDrive\\Desktop\\TestData\\walker_hos.mp4: 384x640 2 walkers, 34.0ms\n",
      "video 1/1 (1551/1727) C:\\Users\\bcw60\\OneDrive\\Desktop\\TestData\\walker_hos.mp4: 384x640 2 walkers, 38.0ms\n",
      "video 1/1 (1551/1727) C:\\Users\\bcw60\\OneDrive\\Desktop\\TestData\\walker_hos.mp4: 384x640 2 walkers, 38.0ms\n",
      "video 1/1 (1552/1727) C:\\Users\\bcw60\\OneDrive\\Desktop\\TestData\\walker_hos.mp4: 384x640 2 walkers, 32.9ms\n",
      "video 1/1 (1552/1727) C:\\Users\\bcw60\\OneDrive\\Desktop\\TestData\\walker_hos.mp4: 384x640 2 walkers, 32.9ms\n",
      "video 1/1 (1553/1727) C:\\Users\\bcw60\\OneDrive\\Desktop\\TestData\\walker_hos.mp4: 384x640 2 walkers, 46.5ms\n",
      "video 1/1 (1553/1727) C:\\Users\\bcw60\\OneDrive\\Desktop\\TestData\\walker_hos.mp4: 384x640 2 walkers, 46.5ms\n",
      "video 1/1 (1554/1727) C:\\Users\\bcw60\\OneDrive\\Desktop\\TestData\\walker_hos.mp4: 384x640 2 walkers, 42.6ms\n",
      "video 1/1 (1554/1727) C:\\Users\\bcw60\\OneDrive\\Desktop\\TestData\\walker_hos.mp4: 384x640 2 walkers, 42.6ms\n",
      "video 1/1 (1555/1727) C:\\Users\\bcw60\\OneDrive\\Desktop\\TestData\\walker_hos.mp4: 384x640 2 walkers, 38.6ms\n",
      "video 1/1 (1555/1727) C:\\Users\\bcw60\\OneDrive\\Desktop\\TestData\\walker_hos.mp4: 384x640 2 walkers, 38.6ms\n",
      "video 1/1 (1556/1727) C:\\Users\\bcw60\\OneDrive\\Desktop\\TestData\\walker_hos.mp4: 384x640 2 walkers, 35.6ms\n",
      "video 1/1 (1556/1727) C:\\Users\\bcw60\\OneDrive\\Desktop\\TestData\\walker_hos.mp4: 384x640 2 walkers, 35.6ms\n",
      "video 1/1 (1557/1727) C:\\Users\\bcw60\\OneDrive\\Desktop\\TestData\\walker_hos.mp4: 384x640 2 walkers, 46.9ms\n",
      "video 1/1 (1557/1727) C:\\Users\\bcw60\\OneDrive\\Desktop\\TestData\\walker_hos.mp4: 384x640 2 walkers, 46.9ms\n",
      "video 1/1 (1558/1727) C:\\Users\\bcw60\\OneDrive\\Desktop\\TestData\\walker_hos.mp4: 384x640 2 walkers, 44.4ms\n",
      "video 1/1 (1558/1727) C:\\Users\\bcw60\\OneDrive\\Desktop\\TestData\\walker_hos.mp4: 384x640 2 walkers, 44.4ms\n",
      "video 1/1 (1559/1727) C:\\Users\\bcw60\\OneDrive\\Desktop\\TestData\\walker_hos.mp4: 384x640 2 walkers, 31.1ms\n",
      "video 1/1 (1559/1727) C:\\Users\\bcw60\\OneDrive\\Desktop\\TestData\\walker_hos.mp4: 384x640 2 walkers, 31.1ms\n",
      "video 1/1 (1560/1727) C:\\Users\\bcw60\\OneDrive\\Desktop\\TestData\\walker_hos.mp4: 384x640 2 walkers, 36.0ms\n",
      "video 1/1 (1560/1727) C:\\Users\\bcw60\\OneDrive\\Desktop\\TestData\\walker_hos.mp4: 384x640 2 walkers, 36.0ms\n",
      "video 1/1 (1561/1727) C:\\Users\\bcw60\\OneDrive\\Desktop\\TestData\\walker_hos.mp4: 384x640 2 walkers, 31.3ms\n",
      "video 1/1 (1561/1727) C:\\Users\\bcw60\\OneDrive\\Desktop\\TestData\\walker_hos.mp4: 384x640 2 walkers, 31.3ms\n",
      "video 1/1 (1562/1727) C:\\Users\\bcw60\\OneDrive\\Desktop\\TestData\\walker_hos.mp4: 384x640 2 walkers, 40.7ms\n",
      "video 1/1 (1562/1727) C:\\Users\\bcw60\\OneDrive\\Desktop\\TestData\\walker_hos.mp4: 384x640 2 walkers, 40.7ms\n",
      "video 1/1 (1563/1727) C:\\Users\\bcw60\\OneDrive\\Desktop\\TestData\\walker_hos.mp4: 384x640 2 walkers, 35.3ms\n",
      "video 1/1 (1563/1727) C:\\Users\\bcw60\\OneDrive\\Desktop\\TestData\\walker_hos.mp4: 384x640 2 walkers, 35.3ms\n",
      "video 1/1 (1564/1727) C:\\Users\\bcw60\\OneDrive\\Desktop\\TestData\\walker_hos.mp4: 384x640 2 walkers, 47.0ms\n",
      "video 1/1 (1564/1727) C:\\Users\\bcw60\\OneDrive\\Desktop\\TestData\\walker_hos.mp4: 384x640 2 walkers, 47.0ms\n",
      "video 1/1 (1565/1727) C:\\Users\\bcw60\\OneDrive\\Desktop\\TestData\\walker_hos.mp4: 384x640 2 walkers, 42.4ms\n",
      "video 1/1 (1565/1727) C:\\Users\\bcw60\\OneDrive\\Desktop\\TestData\\walker_hos.mp4: 384x640 2 walkers, 42.4ms\n",
      "video 1/1 (1566/1727) C:\\Users\\bcw60\\OneDrive\\Desktop\\TestData\\walker_hos.mp4: 384x640 2 walkers, 35.6ms\n",
      "video 1/1 (1566/1727) C:\\Users\\bcw60\\OneDrive\\Desktop\\TestData\\walker_hos.mp4: 384x640 2 walkers, 35.6ms\n",
      "video 1/1 (1567/1727) C:\\Users\\bcw60\\OneDrive\\Desktop\\TestData\\walker_hos.mp4: 384x640 2 walkers, 49.7ms\n",
      "video 1/1 (1567/1727) C:\\Users\\bcw60\\OneDrive\\Desktop\\TestData\\walker_hos.mp4: 384x640 2 walkers, 49.7ms\n",
      "video 1/1 (1568/1727) C:\\Users\\bcw60\\OneDrive\\Desktop\\TestData\\walker_hos.mp4: 384x640 2 walkers, 47.1ms\n",
      "video 1/1 (1568/1727) C:\\Users\\bcw60\\OneDrive\\Desktop\\TestData\\walker_hos.mp4: 384x640 2 walkers, 47.1ms\n",
      "video 1/1 (1569/1727) C:\\Users\\bcw60\\OneDrive\\Desktop\\TestData\\walker_hos.mp4: 384x640 2 walkers, 41.6ms\n",
      "video 1/1 (1569/1727) C:\\Users\\bcw60\\OneDrive\\Desktop\\TestData\\walker_hos.mp4: 384x640 2 walkers, 41.6ms\n",
      "video 1/1 (1570/1727) C:\\Users\\bcw60\\OneDrive\\Desktop\\TestData\\walker_hos.mp4: 384x640 2 walkers, 32.6ms\n",
      "video 1/1 (1570/1727) C:\\Users\\bcw60\\OneDrive\\Desktop\\TestData\\walker_hos.mp4: 384x640 2 walkers, 32.6ms\n",
      "video 1/1 (1571/1727) C:\\Users\\bcw60\\OneDrive\\Desktop\\TestData\\walker_hos.mp4: 384x640 2 walkers, 48.5ms\n",
      "video 1/1 (1571/1727) C:\\Users\\bcw60\\OneDrive\\Desktop\\TestData\\walker_hos.mp4: 384x640 2 walkers, 48.5ms\n",
      "video 1/1 (1572/1727) C:\\Users\\bcw60\\OneDrive\\Desktop\\TestData\\walker_hos.mp4: 384x640 2 walkers, 43.5ms\n",
      "video 1/1 (1572/1727) C:\\Users\\bcw60\\OneDrive\\Desktop\\TestData\\walker_hos.mp4: 384x640 2 walkers, 43.5ms\n",
      "video 1/1 (1573/1727) C:\\Users\\bcw60\\OneDrive\\Desktop\\TestData\\walker_hos.mp4: 384x640 2 walkers, 41.6ms\n",
      "video 1/1 (1573/1727) C:\\Users\\bcw60\\OneDrive\\Desktop\\TestData\\walker_hos.mp4: 384x640 2 walkers, 41.6ms\n",
      "video 1/1 (1574/1727) C:\\Users\\bcw60\\OneDrive\\Desktop\\TestData\\walker_hos.mp4: 384x640 2 walkers, 36.3ms\n",
      "video 1/1 (1574/1727) C:\\Users\\bcw60\\OneDrive\\Desktop\\TestData\\walker_hos.mp4: 384x640 2 walkers, 36.3ms\n",
      "video 1/1 (1575/1727) C:\\Users\\bcw60\\OneDrive\\Desktop\\TestData\\walker_hos.mp4: 384x640 2 walkers, 27.4ms\n",
      "video 1/1 (1575/1727) C:\\Users\\bcw60\\OneDrive\\Desktop\\TestData\\walker_hos.mp4: 384x640 2 walkers, 27.4ms\n",
      "video 1/1 (1576/1727) C:\\Users\\bcw60\\OneDrive\\Desktop\\TestData\\walker_hos.mp4: 384x640 2 walkers, 31.1ms\n",
      "video 1/1 (1576/1727) C:\\Users\\bcw60\\OneDrive\\Desktop\\TestData\\walker_hos.mp4: 384x640 2 walkers, 31.1ms\n",
      "video 1/1 (1577/1727) C:\\Users\\bcw60\\OneDrive\\Desktop\\TestData\\walker_hos.mp4: 384x640 2 walkers, 32.7ms\n",
      "video 1/1 (1577/1727) C:\\Users\\bcw60\\OneDrive\\Desktop\\TestData\\walker_hos.mp4: 384x640 2 walkers, 32.7ms\n",
      "video 1/1 (1578/1727) C:\\Users\\bcw60\\OneDrive\\Desktop\\TestData\\walker_hos.mp4: 384x640 2 walkers, 48.3ms\n",
      "video 1/1 (1578/1727) C:\\Users\\bcw60\\OneDrive\\Desktop\\TestData\\walker_hos.mp4: 384x640 2 walkers, 48.3ms\n",
      "video 1/1 (1579/1727) C:\\Users\\bcw60\\OneDrive\\Desktop\\TestData\\walker_hos.mp4: 384x640 2 walkers, 49.2ms\n",
      "video 1/1 (1579/1727) C:\\Users\\bcw60\\OneDrive\\Desktop\\TestData\\walker_hos.mp4: 384x640 2 walkers, 49.2ms\n",
      "video 1/1 (1580/1727) C:\\Users\\bcw60\\OneDrive\\Desktop\\TestData\\walker_hos.mp4: 384x640 2 walkers, 31.1ms\n",
      "video 1/1 (1580/1727) C:\\Users\\bcw60\\OneDrive\\Desktop\\TestData\\walker_hos.mp4: 384x640 2 walkers, 31.1ms\n",
      "video 1/1 (1581/1727) C:\\Users\\bcw60\\OneDrive\\Desktop\\TestData\\walker_hos.mp4: 384x640 2 walkers, 40.5ms\n",
      "video 1/1 (1581/1727) C:\\Users\\bcw60\\OneDrive\\Desktop\\TestData\\walker_hos.mp4: 384x640 2 walkers, 40.5ms\n",
      "video 1/1 (1582/1727) C:\\Users\\bcw60\\OneDrive\\Desktop\\TestData\\walker_hos.mp4: 384x640 2 walkers, 35.2ms\n",
      "video 1/1 (1582/1727) C:\\Users\\bcw60\\OneDrive\\Desktop\\TestData\\walker_hos.mp4: 384x640 2 walkers, 35.2ms\n",
      "video 1/1 (1583/1727) C:\\Users\\bcw60\\OneDrive\\Desktop\\TestData\\walker_hos.mp4: 384x640 2 walkers, 31.5ms\n",
      "video 1/1 (1583/1727) C:\\Users\\bcw60\\OneDrive\\Desktop\\TestData\\walker_hos.mp4: 384x640 2 walkers, 31.5ms\n",
      "video 1/1 (1584/1727) C:\\Users\\bcw60\\OneDrive\\Desktop\\TestData\\walker_hos.mp4: 384x640 2 walkers, 40.6ms\n",
      "video 1/1 (1584/1727) C:\\Users\\bcw60\\OneDrive\\Desktop\\TestData\\walker_hos.mp4: 384x640 2 walkers, 40.6ms\n",
      "video 1/1 (1585/1727) C:\\Users\\bcw60\\OneDrive\\Desktop\\TestData\\walker_hos.mp4: 384x640 2 walkers, 34.7ms\n",
      "video 1/1 (1585/1727) C:\\Users\\bcw60\\OneDrive\\Desktop\\TestData\\walker_hos.mp4: 384x640 2 walkers, 34.7ms\n",
      "video 1/1 (1586/1727) C:\\Users\\bcw60\\OneDrive\\Desktop\\TestData\\walker_hos.mp4: 384x640 2 walkers, 31.5ms\n",
      "video 1/1 (1586/1727) C:\\Users\\bcw60\\OneDrive\\Desktop\\TestData\\walker_hos.mp4: 384x640 2 walkers, 31.5ms\n",
      "video 1/1 (1587/1727) C:\\Users\\bcw60\\OneDrive\\Desktop\\TestData\\walker_hos.mp4: 384x640 2 walkers, 38.3ms\n",
      "video 1/1 (1587/1727) C:\\Users\\bcw60\\OneDrive\\Desktop\\TestData\\walker_hos.mp4: 384x640 2 walkers, 38.3ms\n",
      "video 1/1 (1588/1727) C:\\Users\\bcw60\\OneDrive\\Desktop\\TestData\\walker_hos.mp4: 384x640 2 walkers, 37.1ms\n",
      "video 1/1 (1588/1727) C:\\Users\\bcw60\\OneDrive\\Desktop\\TestData\\walker_hos.mp4: 384x640 2 walkers, 37.1ms\n",
      "video 1/1 (1589/1727) C:\\Users\\bcw60\\OneDrive\\Desktop\\TestData\\walker_hos.mp4: 384x640 2 walkers, 25.9ms\n",
      "video 1/1 (1589/1727) C:\\Users\\bcw60\\OneDrive\\Desktop\\TestData\\walker_hos.mp4: 384x640 2 walkers, 25.9ms\n",
      "video 1/1 (1590/1727) C:\\Users\\bcw60\\OneDrive\\Desktop\\TestData\\walker_hos.mp4: 384x640 2 walkers, 41.8ms\n",
      "video 1/1 (1590/1727) C:\\Users\\bcw60\\OneDrive\\Desktop\\TestData\\walker_hos.mp4: 384x640 2 walkers, 41.8ms\n",
      "video 1/1 (1591/1727) C:\\Users\\bcw60\\OneDrive\\Desktop\\TestData\\walker_hos.mp4: 384x640 2 walkers, 33.7ms\n",
      "video 1/1 (1591/1727) C:\\Users\\bcw60\\OneDrive\\Desktop\\TestData\\walker_hos.mp4: 384x640 2 walkers, 33.7ms\n",
      "video 1/1 (1592/1727) C:\\Users\\bcw60\\OneDrive\\Desktop\\TestData\\walker_hos.mp4: 384x640 2 walkers, 35.4ms\n",
      "video 1/1 (1592/1727) C:\\Users\\bcw60\\OneDrive\\Desktop\\TestData\\walker_hos.mp4: 384x640 2 walkers, 35.4ms\n",
      "video 1/1 (1593/1727) C:\\Users\\bcw60\\OneDrive\\Desktop\\TestData\\walker_hos.mp4: 384x640 2 walkers, 31.0ms\n",
      "video 1/1 (1593/1727) C:\\Users\\bcw60\\OneDrive\\Desktop\\TestData\\walker_hos.mp4: 384x640 2 walkers, 31.0ms\n",
      "video 1/1 (1594/1727) C:\\Users\\bcw60\\OneDrive\\Desktop\\TestData\\walker_hos.mp4: 384x640 2 walkers, 39.9ms\n",
      "video 1/1 (1594/1727) C:\\Users\\bcw60\\OneDrive\\Desktop\\TestData\\walker_hos.mp4: 384x640 2 walkers, 39.9ms\n",
      "video 1/1 (1595/1727) C:\\Users\\bcw60\\OneDrive\\Desktop\\TestData\\walker_hos.mp4: 384x640 2 walkers, 37.6ms\n",
      "video 1/1 (1595/1727) C:\\Users\\bcw60\\OneDrive\\Desktop\\TestData\\walker_hos.mp4: 384x640 2 walkers, 37.6ms\n",
      "video 1/1 (1596/1727) C:\\Users\\bcw60\\OneDrive\\Desktop\\TestData\\walker_hos.mp4: 384x640 2 walkers, 36.9ms\n",
      "video 1/1 (1596/1727) C:\\Users\\bcw60\\OneDrive\\Desktop\\TestData\\walker_hos.mp4: 384x640 2 walkers, 36.9ms\n",
      "video 1/1 (1597/1727) C:\\Users\\bcw60\\OneDrive\\Desktop\\TestData\\walker_hos.mp4: 384x640 2 walkers, 43.3ms\n",
      "video 1/1 (1597/1727) C:\\Users\\bcw60\\OneDrive\\Desktop\\TestData\\walker_hos.mp4: 384x640 2 walkers, 43.3ms\n",
      "video 1/1 (1598/1727) C:\\Users\\bcw60\\OneDrive\\Desktop\\TestData\\walker_hos.mp4: 384x640 2 walkers, 35.8ms\n",
      "video 1/1 (1598/1727) C:\\Users\\bcw60\\OneDrive\\Desktop\\TestData\\walker_hos.mp4: 384x640 2 walkers, 35.8ms\n",
      "video 1/1 (1599/1727) C:\\Users\\bcw60\\OneDrive\\Desktop\\TestData\\walker_hos.mp4: 384x640 2 walkers, 49.8ms\n",
      "video 1/1 (1599/1727) C:\\Users\\bcw60\\OneDrive\\Desktop\\TestData\\walker_hos.mp4: 384x640 2 walkers, 49.8ms\n",
      "video 1/1 (1600/1727) C:\\Users\\bcw60\\OneDrive\\Desktop\\TestData\\walker_hos.mp4: 384x640 2 walkers, 31.1ms\n",
      "video 1/1 (1600/1727) C:\\Users\\bcw60\\OneDrive\\Desktop\\TestData\\walker_hos.mp4: 384x640 2 walkers, 31.1ms\n",
      "video 1/1 (1601/1727) C:\\Users\\bcw60\\OneDrive\\Desktop\\TestData\\walker_hos.mp4: 384x640 2 walkers, 39.9ms\n",
      "video 1/1 (1601/1727) C:\\Users\\bcw60\\OneDrive\\Desktop\\TestData\\walker_hos.mp4: 384x640 2 walkers, 39.9ms\n",
      "video 1/1 (1602/1727) C:\\Users\\bcw60\\OneDrive\\Desktop\\TestData\\walker_hos.mp4: 384x640 2 walkers, 37.6ms\n",
      "video 1/1 (1602/1727) C:\\Users\\bcw60\\OneDrive\\Desktop\\TestData\\walker_hos.mp4: 384x640 2 walkers, 37.6ms\n",
      "video 1/1 (1603/1727) C:\\Users\\bcw60\\OneDrive\\Desktop\\TestData\\walker_hos.mp4: 384x640 2 walkers, 37.0ms\n",
      "video 1/1 (1603/1727) C:\\Users\\bcw60\\OneDrive\\Desktop\\TestData\\walker_hos.mp4: 384x640 2 walkers, 37.0ms\n",
      "video 1/1 (1604/1727) C:\\Users\\bcw60\\OneDrive\\Desktop\\TestData\\walker_hos.mp4: 384x640 2 walkers, 23.0ms\n",
      "video 1/1 (1604/1727) C:\\Users\\bcw60\\OneDrive\\Desktop\\TestData\\walker_hos.mp4: 384x640 2 walkers, 23.0ms\n",
      "video 1/1 (1605/1727) C:\\Users\\bcw60\\OneDrive\\Desktop\\TestData\\walker_hos.mp4: 384x640 2 walkers, 40.1ms\n",
      "video 1/1 (1605/1727) C:\\Users\\bcw60\\OneDrive\\Desktop\\TestData\\walker_hos.mp4: 384x640 2 walkers, 40.1ms\n",
      "video 1/1 (1606/1727) C:\\Users\\bcw60\\OneDrive\\Desktop\\TestData\\walker_hos.mp4: 384x640 2 walkers, 37.1ms\n",
      "video 1/1 (1606/1727) C:\\Users\\bcw60\\OneDrive\\Desktop\\TestData\\walker_hos.mp4: 384x640 2 walkers, 37.1ms\n",
      "video 1/1 (1607/1727) C:\\Users\\bcw60\\OneDrive\\Desktop\\TestData\\walker_hos.mp4: 384x640 2 walkers, 26.6ms\n",
      "video 1/1 (1607/1727) C:\\Users\\bcw60\\OneDrive\\Desktop\\TestData\\walker_hos.mp4: 384x640 2 walkers, 26.6ms\n",
      "video 1/1 (1608/1727) C:\\Users\\bcw60\\OneDrive\\Desktop\\TestData\\walker_hos.mp4: 384x640 2 walkers, 39.6ms\n",
      "video 1/1 (1608/1727) C:\\Users\\bcw60\\OneDrive\\Desktop\\TestData\\walker_hos.mp4: 384x640 2 walkers, 39.6ms\n",
      "video 1/1 (1609/1727) C:\\Users\\bcw60\\OneDrive\\Desktop\\TestData\\walker_hos.mp4: 384x640 2 walkers, 37.3ms\n",
      "video 1/1 (1609/1727) C:\\Users\\bcw60\\OneDrive\\Desktop\\TestData\\walker_hos.mp4: 384x640 2 walkers, 37.3ms\n",
      "video 1/1 (1610/1727) C:\\Users\\bcw60\\OneDrive\\Desktop\\TestData\\walker_hos.mp4: 384x640 2 walkers, 30.6ms\n",
      "video 1/1 (1610/1727) C:\\Users\\bcw60\\OneDrive\\Desktop\\TestData\\walker_hos.mp4: 384x640 2 walkers, 30.6ms\n",
      "video 1/1 (1611/1727) C:\\Users\\bcw60\\OneDrive\\Desktop\\TestData\\walker_hos.mp4: 384x640 2 walkers, 40.7ms\n",
      "video 1/1 (1611/1727) C:\\Users\\bcw60\\OneDrive\\Desktop\\TestData\\walker_hos.mp4: 384x640 2 walkers, 40.7ms\n",
      "video 1/1 (1612/1727) C:\\Users\\bcw60\\OneDrive\\Desktop\\TestData\\walker_hos.mp4: 384x640 2 walkers, 34.6ms\n",
      "video 1/1 (1612/1727) C:\\Users\\bcw60\\OneDrive\\Desktop\\TestData\\walker_hos.mp4: 384x640 2 walkers, 34.6ms\n",
      "video 1/1 (1613/1727) C:\\Users\\bcw60\\OneDrive\\Desktop\\TestData\\walker_hos.mp4: 384x640 2 walkers, 47.4ms\n",
      "video 1/1 (1613/1727) C:\\Users\\bcw60\\OneDrive\\Desktop\\TestData\\walker_hos.mp4: 384x640 2 walkers, 47.4ms\n",
      "video 1/1 (1614/1727) C:\\Users\\bcw60\\OneDrive\\Desktop\\TestData\\walker_hos.mp4: 384x640 2 walkers, 43.2ms\n",
      "video 1/1 (1614/1727) C:\\Users\\bcw60\\OneDrive\\Desktop\\TestData\\walker_hos.mp4: 384x640 2 walkers, 43.2ms\n",
      "video 1/1 (1615/1727) C:\\Users\\bcw60\\OneDrive\\Desktop\\TestData\\walker_hos.mp4: 384x640 2 walkers, 42.6ms\n",
      "video 1/1 (1615/1727) C:\\Users\\bcw60\\OneDrive\\Desktop\\TestData\\walker_hos.mp4: 384x640 2 walkers, 42.6ms\n",
      "video 1/1 (1616/1727) C:\\Users\\bcw60\\OneDrive\\Desktop\\TestData\\walker_hos.mp4: 384x640 2 walkers, 36.1ms\n",
      "video 1/1 (1616/1727) C:\\Users\\bcw60\\OneDrive\\Desktop\\TestData\\walker_hos.mp4: 384x640 2 walkers, 36.1ms\n",
      "video 1/1 (1617/1727) C:\\Users\\bcw60\\OneDrive\\Desktop\\TestData\\walker_hos.mp4: 384x640 2 walkers, 49.5ms\n",
      "video 1/1 (1617/1727) C:\\Users\\bcw60\\OneDrive\\Desktop\\TestData\\walker_hos.mp4: 384x640 2 walkers, 49.5ms\n",
      "video 1/1 (1618/1727) C:\\Users\\bcw60\\OneDrive\\Desktop\\TestData\\walker_hos.mp4: 384x640 2 walkers, 42.3ms\n",
      "video 1/1 (1618/1727) C:\\Users\\bcw60\\OneDrive\\Desktop\\TestData\\walker_hos.mp4: 384x640 2 walkers, 42.3ms\n",
      "video 1/1 (1619/1727) C:\\Users\\bcw60\\OneDrive\\Desktop\\TestData\\walker_hos.mp4: 384x640 2 walkers, 38.4ms\n",
      "video 1/1 (1619/1727) C:\\Users\\bcw60\\OneDrive\\Desktop\\TestData\\walker_hos.mp4: 384x640 2 walkers, 38.4ms\n",
      "video 1/1 (1620/1727) C:\\Users\\bcw60\\OneDrive\\Desktop\\TestData\\walker_hos.mp4: 384x640 2 walkers, 35.7ms\n",
      "video 1/1 (1620/1727) C:\\Users\\bcw60\\OneDrive\\Desktop\\TestData\\walker_hos.mp4: 384x640 2 walkers, 35.7ms\n",
      "video 1/1 (1621/1727) C:\\Users\\bcw60\\OneDrive\\Desktop\\TestData\\walker_hos.mp4: 384x640 2 walkers, 31.2ms\n",
      "video 1/1 (1621/1727) C:\\Users\\bcw60\\OneDrive\\Desktop\\TestData\\walker_hos.mp4: 384x640 2 walkers, 31.2ms\n",
      "video 1/1 (1622/1727) C:\\Users\\bcw60\\OneDrive\\Desktop\\TestData\\walker_hos.mp4: 384x640 2 walkers, 41.1ms\n",
      "video 1/1 (1622/1727) C:\\Users\\bcw60\\OneDrive\\Desktop\\TestData\\walker_hos.mp4: 384x640 2 walkers, 41.1ms\n",
      "video 1/1 (1623/1727) C:\\Users\\bcw60\\OneDrive\\Desktop\\TestData\\walker_hos.mp4: 384x640 2 walkers, 34.2ms\n",
      "video 1/1 (1623/1727) C:\\Users\\bcw60\\OneDrive\\Desktop\\TestData\\walker_hos.mp4: 384x640 2 walkers, 34.2ms\n",
      "video 1/1 (1624/1727) C:\\Users\\bcw60\\OneDrive\\Desktop\\TestData\\walker_hos.mp4: 384x640 2 walkers, 47.8ms\n",
      "video 1/1 (1624/1727) C:\\Users\\bcw60\\OneDrive\\Desktop\\TestData\\walker_hos.mp4: 384x640 2 walkers, 47.8ms\n",
      "video 1/1 (1625/1727) C:\\Users\\bcw60\\OneDrive\\Desktop\\TestData\\walker_hos.mp4: 384x640 2 walkers, 43.6ms\n",
      "video 1/1 (1625/1727) C:\\Users\\bcw60\\OneDrive\\Desktop\\TestData\\walker_hos.mp4: 384x640 2 walkers, 43.6ms\n",
      "video 1/1 (1626/1727) C:\\Users\\bcw60\\OneDrive\\Desktop\\TestData\\walker_hos.mp4: 384x640 2 walkers, 39.2ms\n",
      "video 1/1 (1626/1727) C:\\Users\\bcw60\\OneDrive\\Desktop\\TestData\\walker_hos.mp4: 384x640 2 walkers, 39.2ms\n",
      "video 1/1 (1627/1727) C:\\Users\\bcw60\\OneDrive\\Desktop\\TestData\\walker_hos.mp4: 384x640 2 walkers, 35.8ms\n",
      "video 1/1 (1627/1727) C:\\Users\\bcw60\\OneDrive\\Desktop\\TestData\\walker_hos.mp4: 384x640 2 walkers, 35.8ms\n",
      "video 1/1 (1628/1727) C:\\Users\\bcw60\\OneDrive\\Desktop\\TestData\\walker_hos.mp4: 384x640 2 walkers, 47.5ms\n",
      "video 1/1 (1628/1727) C:\\Users\\bcw60\\OneDrive\\Desktop\\TestData\\walker_hos.mp4: 384x640 2 walkers, 47.5ms\n",
      "video 1/1 (1629/1727) C:\\Users\\bcw60\\OneDrive\\Desktop\\TestData\\walker_hos.mp4: 384x640 2 walkers, 41.8ms\n",
      "video 1/1 (1629/1727) C:\\Users\\bcw60\\OneDrive\\Desktop\\TestData\\walker_hos.mp4: 384x640 2 walkers, 41.8ms\n",
      "video 1/1 (1630/1727) C:\\Users\\bcw60\\OneDrive\\Desktop\\TestData\\walker_hos.mp4: 384x640 2 walkers, 37.5ms\n",
      "video 1/1 (1630/1727) C:\\Users\\bcw60\\OneDrive\\Desktop\\TestData\\walker_hos.mp4: 384x640 2 walkers, 37.5ms\n",
      "video 1/1 (1631/1727) C:\\Users\\bcw60\\OneDrive\\Desktop\\TestData\\walker_hos.mp4: 384x640 2 walkers, 37.6ms\n",
      "video 1/1 (1631/1727) C:\\Users\\bcw60\\OneDrive\\Desktop\\TestData\\walker_hos.mp4: 384x640 2 walkers, 37.6ms\n",
      "video 1/1 (1632/1727) C:\\Users\\bcw60\\OneDrive\\Desktop\\TestData\\walker_hos.mp4: 384x640 2 walkers, 31.4ms\n",
      "video 1/1 (1632/1727) C:\\Users\\bcw60\\OneDrive\\Desktop\\TestData\\walker_hos.mp4: 384x640 2 walkers, 31.4ms\n",
      "video 1/1 (1633/1727) C:\\Users\\bcw60\\OneDrive\\Desktop\\TestData\\walker_hos.mp4: 384x640 2 walkers, 38.8ms\n",
      "video 1/1 (1633/1727) C:\\Users\\bcw60\\OneDrive\\Desktop\\TestData\\walker_hos.mp4: 384x640 2 walkers, 38.8ms\n",
      "video 1/1 (1634/1727) C:\\Users\\bcw60\\OneDrive\\Desktop\\TestData\\walker_hos.mp4: 384x640 2 walkers, 35.4ms\n",
      "video 1/1 (1634/1727) C:\\Users\\bcw60\\OneDrive\\Desktop\\TestData\\walker_hos.mp4: 384x640 2 walkers, 35.4ms\n",
      "video 1/1 (1635/1727) C:\\Users\\bcw60\\OneDrive\\Desktop\\TestData\\walker_hos.mp4: 384x640 2 walkers, 31.6ms\n",
      "video 1/1 (1635/1727) C:\\Users\\bcw60\\OneDrive\\Desktop\\TestData\\walker_hos.mp4: 384x640 2 walkers, 31.6ms\n",
      "video 1/1 (1636/1727) C:\\Users\\bcw60\\OneDrive\\Desktop\\TestData\\walker_hos.mp4: 384x640 2 walkers, 40.3ms\n",
      "video 1/1 (1636/1727) C:\\Users\\bcw60\\OneDrive\\Desktop\\TestData\\walker_hos.mp4: 384x640 2 walkers, 40.3ms\n",
      "video 1/1 (1637/1727) C:\\Users\\bcw60\\OneDrive\\Desktop\\TestData\\walker_hos.mp4: 384x640 2 walkers, 35.5ms\n",
      "video 1/1 (1637/1727) C:\\Users\\bcw60\\OneDrive\\Desktop\\TestData\\walker_hos.mp4: 384x640 2 walkers, 35.5ms\n",
      "video 1/1 (1638/1727) C:\\Users\\bcw60\\OneDrive\\Desktop\\TestData\\walker_hos.mp4: 384x640 2 walkers, 35.3ms\n",
      "video 1/1 (1638/1727) C:\\Users\\bcw60\\OneDrive\\Desktop\\TestData\\walker_hos.mp4: 384x640 2 walkers, 35.3ms\n",
      "video 1/1 (1639/1727) C:\\Users\\bcw60\\OneDrive\\Desktop\\TestData\\walker_hos.mp4: 384x640 2 walkers, 41.5ms\n",
      "video 1/1 (1639/1727) C:\\Users\\bcw60\\OneDrive\\Desktop\\TestData\\walker_hos.mp4: 384x640 2 walkers, 41.5ms\n",
      "video 1/1 (1640/1727) C:\\Users\\bcw60\\OneDrive\\Desktop\\TestData\\walker_hos.mp4: 384x640 2 walkers, 34.3ms\n",
      "video 1/1 (1640/1727) C:\\Users\\bcw60\\OneDrive\\Desktop\\TestData\\walker_hos.mp4: 384x640 2 walkers, 34.3ms\n",
      "video 1/1 (1641/1727) C:\\Users\\bcw60\\OneDrive\\Desktop\\TestData\\walker_hos.mp4: 384x640 2 walkers, 49.7ms\n",
      "video 1/1 (1641/1727) C:\\Users\\bcw60\\OneDrive\\Desktop\\TestData\\walker_hos.mp4: 384x640 2 walkers, 49.7ms\n",
      "video 1/1 (1642/1727) C:\\Users\\bcw60\\OneDrive\\Desktop\\TestData\\walker_hos.mp4: 384x640 2 walkers, 31.3ms\n",
      "video 1/1 (1642/1727) C:\\Users\\bcw60\\OneDrive\\Desktop\\TestData\\walker_hos.mp4: 384x640 2 walkers, 31.3ms\n",
      "video 1/1 (1643/1727) C:\\Users\\bcw60\\OneDrive\\Desktop\\TestData\\walker_hos.mp4: 384x640 2 walkers, 39.4ms\n",
      "video 1/1 (1643/1727) C:\\Users\\bcw60\\OneDrive\\Desktop\\TestData\\walker_hos.mp4: 384x640 2 walkers, 39.4ms\n",
      "video 1/1 (1644/1727) C:\\Users\\bcw60\\OneDrive\\Desktop\\TestData\\walker_hos.mp4: 384x640 2 walkers, 35.8ms\n",
      "video 1/1 (1644/1727) C:\\Users\\bcw60\\OneDrive\\Desktop\\TestData\\walker_hos.mp4: 384x640 2 walkers, 35.8ms\n",
      "video 1/1 (1645/1727) C:\\Users\\bcw60\\OneDrive\\Desktop\\TestData\\walker_hos.mp4: 384x640 2 walkers, 30.8ms\n",
      "video 1/1 (1645/1727) C:\\Users\\bcw60\\OneDrive\\Desktop\\TestData\\walker_hos.mp4: 384x640 2 walkers, 30.8ms\n",
      "video 1/1 (1646/1727) C:\\Users\\bcw60\\OneDrive\\Desktop\\TestData\\walker_hos.mp4: 384x640 2 walkers, 40.4ms\n",
      "video 1/1 (1646/1727) C:\\Users\\bcw60\\OneDrive\\Desktop\\TestData\\walker_hos.mp4: 384x640 2 walkers, 40.4ms\n",
      "video 1/1 (1647/1727) C:\\Users\\bcw60\\OneDrive\\Desktop\\TestData\\walker_hos.mp4: 384x640 2 walkers, 34.9ms\n",
      "video 1/1 (1647/1727) C:\\Users\\bcw60\\OneDrive\\Desktop\\TestData\\walker_hos.mp4: 384x640 2 walkers, 34.9ms\n",
      "video 1/1 (1648/1727) C:\\Users\\bcw60\\OneDrive\\Desktop\\TestData\\walker_hos.mp4: 384x640 2 walkers, 31.5ms\n",
      "video 1/1 (1648/1727) C:\\Users\\bcw60\\OneDrive\\Desktop\\TestData\\walker_hos.mp4: 384x640 2 walkers, 31.5ms\n",
      "video 1/1 (1649/1727) C:\\Users\\bcw60\\OneDrive\\Desktop\\TestData\\walker_hos.mp4: 384x640 2 walkers, 39.1ms\n",
      "video 1/1 (1649/1727) C:\\Users\\bcw60\\OneDrive\\Desktop\\TestData\\walker_hos.mp4: 384x640 2 walkers, 39.1ms\n",
      "video 1/1 (1650/1727) C:\\Users\\bcw60\\OneDrive\\Desktop\\TestData\\walker_hos.mp4: 384x640 2 walkers, 37.7ms\n",
      "video 1/1 (1650/1727) C:\\Users\\bcw60\\OneDrive\\Desktop\\TestData\\walker_hos.mp4: 384x640 2 walkers, 37.7ms\n",
      "video 1/1 (1651/1727) C:\\Users\\bcw60\\OneDrive\\Desktop\\TestData\\walker_hos.mp4: 384x640 2 walkers, 36.9ms\n",
      "video 1/1 (1651/1727) C:\\Users\\bcw60\\OneDrive\\Desktop\\TestData\\walker_hos.mp4: 384x640 2 walkers, 36.9ms\n",
      "video 1/1 (1652/1727) C:\\Users\\bcw60\\OneDrive\\Desktop\\TestData\\walker_hos.mp4: 384x640 2 walkers, 30.1ms\n",
      "video 1/1 (1652/1727) C:\\Users\\bcw60\\OneDrive\\Desktop\\TestData\\walker_hos.mp4: 384x640 2 walkers, 30.1ms\n",
      "video 1/1 (1653/1727) C:\\Users\\bcw60\\OneDrive\\Desktop\\TestData\\walker_hos.mp4: 384x640 2 walkers, 32.8ms\n",
      "video 1/1 (1653/1727) C:\\Users\\bcw60\\OneDrive\\Desktop\\TestData\\walker_hos.mp4: 384x640 2 walkers, 32.8ms\n",
      "video 1/1 (1654/1727) C:\\Users\\bcw60\\OneDrive\\Desktop\\TestData\\walker_hos.mp4: 384x640 2 walkers, 46.5ms\n",
      "video 1/1 (1654/1727) C:\\Users\\bcw60\\OneDrive\\Desktop\\TestData\\walker_hos.mp4: 384x640 2 walkers, 46.5ms\n",
      "video 1/1 (1655/1727) C:\\Users\\bcw60\\OneDrive\\Desktop\\TestData\\walker_hos.mp4: 384x640 2 walkers, 42.8ms\n",
      "video 1/1 (1655/1727) C:\\Users\\bcw60\\OneDrive\\Desktop\\TestData\\walker_hos.mp4: 384x640 2 walkers, 42.8ms\n",
      "video 1/1 (1656/1727) C:\\Users\\bcw60\\OneDrive\\Desktop\\TestData\\walker_hos.mp4: 384x640 2 walkers, 32.9ms\n",
      "video 1/1 (1656/1727) C:\\Users\\bcw60\\OneDrive\\Desktop\\TestData\\walker_hos.mp4: 384x640 2 walkers, 32.9ms\n",
      "video 1/1 (1657/1727) C:\\Users\\bcw60\\OneDrive\\Desktop\\TestData\\walker_hos.mp4: 384x640 2 walkers, 47.2ms\n",
      "video 1/1 (1657/1727) C:\\Users\\bcw60\\OneDrive\\Desktop\\TestData\\walker_hos.mp4: 384x640 2 walkers, 47.2ms\n",
      "video 1/1 (1658/1727) C:\\Users\\bcw60\\OneDrive\\Desktop\\TestData\\walker_hos.mp4: 384x640 2 walkers, 42.2ms\n",
      "video 1/1 (1658/1727) C:\\Users\\bcw60\\OneDrive\\Desktop\\TestData\\walker_hos.mp4: 384x640 2 walkers, 42.2ms\n",
      "video 1/1 (1659/1727) C:\\Users\\bcw60\\OneDrive\\Desktop\\TestData\\walker_hos.mp4: 384x640 2 walkers, 35.2ms\n",
      "video 1/1 (1659/1727) C:\\Users\\bcw60\\OneDrive\\Desktop\\TestData\\walker_hos.mp4: 384x640 2 walkers, 35.2ms\n",
      "video 1/1 (1660/1727) C:\\Users\\bcw60\\OneDrive\\Desktop\\TestData\\walker_hos.mp4: 384x640 2 walkers, 48.4ms\n",
      "video 1/1 (1660/1727) C:\\Users\\bcw60\\OneDrive\\Desktop\\TestData\\walker_hos.mp4: 384x640 2 walkers, 48.4ms\n",
      "video 1/1 (1661/1727) C:\\Users\\bcw60\\OneDrive\\Desktop\\TestData\\walker_hos.mp4: 384x640 2 walkers, 31.5ms\n",
      "video 1/1 (1661/1727) C:\\Users\\bcw60\\OneDrive\\Desktop\\TestData\\walker_hos.mp4: 384x640 2 walkers, 31.5ms\n",
      "video 1/1 (1662/1727) C:\\Users\\bcw60\\OneDrive\\Desktop\\TestData\\walker_hos.mp4: 384x640 2 walkers, 38.6ms\n",
      "video 1/1 (1662/1727) C:\\Users\\bcw60\\OneDrive\\Desktop\\TestData\\walker_hos.mp4: 384x640 2 walkers, 38.6ms\n",
      "video 1/1 (1663/1727) C:\\Users\\bcw60\\OneDrive\\Desktop\\TestData\\walker_hos.mp4: 384x640 2 walkers, 37.0ms\n",
      "video 1/1 (1663/1727) C:\\Users\\bcw60\\OneDrive\\Desktop\\TestData\\walker_hos.mp4: 384x640 2 walkers, 37.0ms\n",
      "video 1/1 (1664/1727) C:\\Users\\bcw60\\OneDrive\\Desktop\\TestData\\walker_hos.mp4: 384x640 2 walkers, 48.8ms\n",
      "video 1/1 (1664/1727) C:\\Users\\bcw60\\OneDrive\\Desktop\\TestData\\walker_hos.mp4: 384x640 2 walkers, 48.8ms\n",
      "video 1/1 (1665/1727) C:\\Users\\bcw60\\OneDrive\\Desktop\\TestData\\walker_hos.mp4: 384x640 2 walkers, 45.2ms\n",
      "video 1/1 (1665/1727) C:\\Users\\bcw60\\OneDrive\\Desktop\\TestData\\walker_hos.mp4: 384x640 2 walkers, 45.2ms\n",
      "video 1/1 (1666/1727) C:\\Users\\bcw60\\OneDrive\\Desktop\\TestData\\walker_hos.mp4: 384x640 2 walkers, 41.7ms\n",
      "video 1/1 (1666/1727) C:\\Users\\bcw60\\OneDrive\\Desktop\\TestData\\walker_hos.mp4: 384x640 2 walkers, 41.7ms\n",
      "video 1/1 (1667/1727) C:\\Users\\bcw60\\OneDrive\\Desktop\\TestData\\walker_hos.mp4: 384x640 2 walkers, 35.5ms\n",
      "video 1/1 (1667/1727) C:\\Users\\bcw60\\OneDrive\\Desktop\\TestData\\walker_hos.mp4: 384x640 2 walkers, 35.5ms\n",
      "video 1/1 (1668/1727) C:\\Users\\bcw60\\OneDrive\\Desktop\\TestData\\walker_hos.mp4: 384x640 2 walkers, 30.8ms\n",
      "video 1/1 (1668/1727) C:\\Users\\bcw60\\OneDrive\\Desktop\\TestData\\walker_hos.mp4: 384x640 2 walkers, 30.8ms\n",
      "video 1/1 (1669/1727) C:\\Users\\bcw60\\OneDrive\\Desktop\\TestData\\walker_hos.mp4: 384x640 2 walkers, 39.4ms\n",
      "video 1/1 (1669/1727) C:\\Users\\bcw60\\OneDrive\\Desktop\\TestData\\walker_hos.mp4: 384x640 2 walkers, 39.4ms\n",
      "video 1/1 (1670/1727) C:\\Users\\bcw60\\OneDrive\\Desktop\\TestData\\walker_hos.mp4: 384x640 2 walkers, 36.7ms\n",
      "video 1/1 (1670/1727) C:\\Users\\bcw60\\OneDrive\\Desktop\\TestData\\walker_hos.mp4: 384x640 2 walkers, 36.7ms\n",
      "video 1/1 (1671/1727) C:\\Users\\bcw60\\OneDrive\\Desktop\\TestData\\walker_hos.mp4: 384x640 2 walkers, 31.3ms\n",
      "video 1/1 (1671/1727) C:\\Users\\bcw60\\OneDrive\\Desktop\\TestData\\walker_hos.mp4: 384x640 2 walkers, 31.3ms\n",
      "video 1/1 (1672/1727) C:\\Users\\bcw60\\OneDrive\\Desktop\\TestData\\walker_hos.mp4: 384x640 2 walkers, 40.3ms\n",
      "video 1/1 (1672/1727) C:\\Users\\bcw60\\OneDrive\\Desktop\\TestData\\walker_hos.mp4: 384x640 2 walkers, 40.3ms\n",
      "video 1/1 (1673/1727) C:\\Users\\bcw60\\OneDrive\\Desktop\\TestData\\walker_hos.mp4: 384x640 2 walkers, 35.2ms\n",
      "video 1/1 (1673/1727) C:\\Users\\bcw60\\OneDrive\\Desktop\\TestData\\walker_hos.mp4: 384x640 2 walkers, 35.2ms\n",
      "video 1/1 (1674/1727) C:\\Users\\bcw60\\OneDrive\\Desktop\\TestData\\walker_hos.mp4: 384x640 2 walkers, 34.6ms\n",
      "video 1/1 (1674/1727) C:\\Users\\bcw60\\OneDrive\\Desktop\\TestData\\walker_hos.mp4: 384x640 2 walkers, 34.6ms\n",
      "video 1/1 (1675/1727) C:\\Users\\bcw60\\OneDrive\\Desktop\\TestData\\walker_hos.mp4: 384x640 2 walkers, 39.7ms\n",
      "video 1/1 (1675/1727) C:\\Users\\bcw60\\OneDrive\\Desktop\\TestData\\walker_hos.mp4: 384x640 2 walkers, 39.7ms\n",
      "video 1/1 (1676/1727) C:\\Users\\bcw60\\OneDrive\\Desktop\\TestData\\walker_hos.mp4: 384x640 2 walkers, 36.0ms\n",
      "video 1/1 (1676/1727) C:\\Users\\bcw60\\OneDrive\\Desktop\\TestData\\walker_hos.mp4: 384x640 2 walkers, 36.0ms\n",
      "video 1/1 (1677/1727) C:\\Users\\bcw60\\OneDrive\\Desktop\\TestData\\walker_hos.mp4: 384x640 2 walkers, 46.8ms\n",
      "video 1/1 (1677/1727) C:\\Users\\bcw60\\OneDrive\\Desktop\\TestData\\walker_hos.mp4: 384x640 2 walkers, 46.8ms\n",
      "video 1/1 (1678/1727) C:\\Users\\bcw60\\OneDrive\\Desktop\\TestData\\walker_hos.mp4: 384x640 2 walkers, 40.8ms\n",
      "video 1/1 (1678/1727) C:\\Users\\bcw60\\OneDrive\\Desktop\\TestData\\walker_hos.mp4: 384x640 2 walkers, 40.8ms\n",
      "video 1/1 (1679/1727) C:\\Users\\bcw60\\OneDrive\\Desktop\\TestData\\walker_hos.mp4: 384x640 2 walkers, 37.7ms\n",
      "video 1/1 (1679/1727) C:\\Users\\bcw60\\OneDrive\\Desktop\\TestData\\walker_hos.mp4: 384x640 2 walkers, 37.7ms\n",
      "video 1/1 (1680/1727) C:\\Users\\bcw60\\OneDrive\\Desktop\\TestData\\walker_hos.mp4: 384x640 2 walkers, 37.6ms\n",
      "video 1/1 (1680/1727) C:\\Users\\bcw60\\OneDrive\\Desktop\\TestData\\walker_hos.mp4: 384x640 2 walkers, 37.6ms\n",
      "video 1/1 (1681/1727) C:\\Users\\bcw60\\OneDrive\\Desktop\\TestData\\walker_hos.mp4: 384x640 2 walkers, 43.7ms\n",
      "video 1/1 (1681/1727) C:\\Users\\bcw60\\OneDrive\\Desktop\\TestData\\walker_hos.mp4: 384x640 2 walkers, 43.7ms\n",
      "video 1/1 (1682/1727) C:\\Users\\bcw60\\OneDrive\\Desktop\\TestData\\walker_hos.mp4: 384x640 2 walkers, 35.4ms\n",
      "video 1/1 (1682/1727) C:\\Users\\bcw60\\OneDrive\\Desktop\\TestData\\walker_hos.mp4: 384x640 2 walkers, 35.4ms\n",
      "video 1/1 (1683/1727) C:\\Users\\bcw60\\OneDrive\\Desktop\\TestData\\walker_hos.mp4: 384x640 2 walkers, 49.2ms\n",
      "video 1/1 (1683/1727) C:\\Users\\bcw60\\OneDrive\\Desktop\\TestData\\walker_hos.mp4: 384x640 2 walkers, 49.2ms\n",
      "video 1/1 (1684/1727) C:\\Users\\bcw60\\OneDrive\\Desktop\\TestData\\walker_hos.mp4: 384x640 2 walkers, 41.0ms\n",
      "video 1/1 (1684/1727) C:\\Users\\bcw60\\OneDrive\\Desktop\\TestData\\walker_hos.mp4: 384x640 2 walkers, 41.0ms\n",
      "video 1/1 (1685/1727) C:\\Users\\bcw60\\OneDrive\\Desktop\\TestData\\walker_hos.mp4: 384x640 2 walkers, 39.6ms\n",
      "video 1/1 (1685/1727) C:\\Users\\bcw60\\OneDrive\\Desktop\\TestData\\walker_hos.mp4: 384x640 2 walkers, 39.6ms\n",
      "video 1/1 (1686/1727) C:\\Users\\bcw60\\OneDrive\\Desktop\\TestData\\walker_hos.mp4: 384x640 2 walkers, 37.0ms\n",
      "video 1/1 (1686/1727) C:\\Users\\bcw60\\OneDrive\\Desktop\\TestData\\walker_hos.mp4: 384x640 2 walkers, 37.0ms\n",
      "video 1/1 (1687/1727) C:\\Users\\bcw60\\OneDrive\\Desktop\\TestData\\walker_hos.mp4: 384x640 2 walkers, 36.3ms\n",
      "video 1/1 (1687/1727) C:\\Users\\bcw60\\OneDrive\\Desktop\\TestData\\walker_hos.mp4: 384x640 2 walkers, 36.3ms\n",
      "video 1/1 (1688/1727) C:\\Users\\bcw60\\OneDrive\\Desktop\\TestData\\walker_hos.mp4: 384x640 2 walkers, 31.5ms\n",
      "video 1/1 (1688/1727) C:\\Users\\bcw60\\OneDrive\\Desktop\\TestData\\walker_hos.mp4: 384x640 2 walkers, 31.5ms\n",
      "video 1/1 (1689/1727) C:\\Users\\bcw60\\OneDrive\\Desktop\\TestData\\walker_hos.mp4: 384x640 2 walkers, 40.6ms\n",
      "video 1/1 (1689/1727) C:\\Users\\bcw60\\OneDrive\\Desktop\\TestData\\walker_hos.mp4: 384x640 2 walkers, 40.6ms\n",
      "video 1/1 (1690/1727) C:\\Users\\bcw60\\OneDrive\\Desktop\\TestData\\walker_hos.mp4: 384x640 2 walkers, 35.8ms\n",
      "video 1/1 (1690/1727) C:\\Users\\bcw60\\OneDrive\\Desktop\\TestData\\walker_hos.mp4: 384x640 2 walkers, 35.8ms\n",
      "video 1/1 (1691/1727) C:\\Users\\bcw60\\OneDrive\\Desktop\\TestData\\walker_hos.mp4: 384x640 2 walkers, 30.7ms\n",
      "video 1/1 (1691/1727) C:\\Users\\bcw60\\OneDrive\\Desktop\\TestData\\walker_hos.mp4: 384x640 2 walkers, 30.7ms\n",
      "video 1/1 (1692/1727) C:\\Users\\bcw60\\OneDrive\\Desktop\\TestData\\walker_hos.mp4: 384x640 2 walkers, 40.5ms\n",
      "video 1/1 (1692/1727) C:\\Users\\bcw60\\OneDrive\\Desktop\\TestData\\walker_hos.mp4: 384x640 2 walkers, 40.5ms\n",
      "video 1/1 (1693/1727) C:\\Users\\bcw60\\OneDrive\\Desktop\\TestData\\walker_hos.mp4: 384x640 2 walkers, 35.7ms\n",
      "video 1/1 (1693/1727) C:\\Users\\bcw60\\OneDrive\\Desktop\\TestData\\walker_hos.mp4: 384x640 2 walkers, 35.7ms\n",
      "video 1/1 (1694/1727) C:\\Users\\bcw60\\OneDrive\\Desktop\\TestData\\walker_hos.mp4: 384x640 2 walkers, 31.3ms\n",
      "video 1/1 (1694/1727) C:\\Users\\bcw60\\OneDrive\\Desktop\\TestData\\walker_hos.mp4: 384x640 2 walkers, 31.3ms\n",
      "video 1/1 (1695/1727) C:\\Users\\bcw60\\OneDrive\\Desktop\\TestData\\walker_hos.mp4: 384x640 2 walkers, 40.3ms\n",
      "video 1/1 (1695/1727) C:\\Users\\bcw60\\OneDrive\\Desktop\\TestData\\walker_hos.mp4: 384x640 2 walkers, 40.3ms\n",
      "video 1/1 (1696/1727) C:\\Users\\bcw60\\OneDrive\\Desktop\\TestData\\walker_hos.mp4: 384x640 2 walkers, 36.4ms\n",
      "video 1/1 (1696/1727) C:\\Users\\bcw60\\OneDrive\\Desktop\\TestData\\walker_hos.mp4: 384x640 2 walkers, 36.4ms\n",
      "video 1/1 (1697/1727) C:\\Users\\bcw60\\OneDrive\\Desktop\\TestData\\walker_hos.mp4: 384x640 2 walkers, 27.2ms\n",
      "video 1/1 (1697/1727) C:\\Users\\bcw60\\OneDrive\\Desktop\\TestData\\walker_hos.mp4: 384x640 2 walkers, 27.2ms\n",
      "video 1/1 (1698/1727) C:\\Users\\bcw60\\OneDrive\\Desktop\\TestData\\walker_hos.mp4: 384x640 2 walkers, 28.9ms\n",
      "video 1/1 (1698/1727) C:\\Users\\bcw60\\OneDrive\\Desktop\\TestData\\walker_hos.mp4: 384x640 2 walkers, 28.9ms\n",
      "video 1/1 (1699/1727) C:\\Users\\bcw60\\OneDrive\\Desktop\\TestData\\walker_hos.mp4: 384x640 2 walkers, 33.5ms\n",
      "video 1/1 (1699/1727) C:\\Users\\bcw60\\OneDrive\\Desktop\\TestData\\walker_hos.mp4: 384x640 2 walkers, 33.5ms\n",
      "video 1/1 (1700/1727) C:\\Users\\bcw60\\OneDrive\\Desktop\\TestData\\walker_hos.mp4: 384x640 2 walkers, 50.8ms\n",
      "video 1/1 (1700/1727) C:\\Users\\bcw60\\OneDrive\\Desktop\\TestData\\walker_hos.mp4: 384x640 2 walkers, 50.8ms\n",
      "video 1/1 (1701/1727) C:\\Users\\bcw60\\OneDrive\\Desktop\\TestData\\walker_hos.mp4: 384x640 2 walkers, 47.0ms\n",
      "video 1/1 (1701/1727) C:\\Users\\bcw60\\OneDrive\\Desktop\\TestData\\walker_hos.mp4: 384x640 2 walkers, 47.0ms\n",
      "video 1/1 (1702/1727) C:\\Users\\bcw60\\OneDrive\\Desktop\\TestData\\walker_hos.mp4: 384x640 2 walkers, 29.2ms\n",
      "video 1/1 (1702/1727) C:\\Users\\bcw60\\OneDrive\\Desktop\\TestData\\walker_hos.mp4: 384x640 2 walkers, 29.2ms\n",
      "video 1/1 (1703/1727) C:\\Users\\bcw60\\OneDrive\\Desktop\\TestData\\walker_hos.mp4: 384x640 2 walkers, 39.5ms\n",
      "video 1/1 (1703/1727) C:\\Users\\bcw60\\OneDrive\\Desktop\\TestData\\walker_hos.mp4: 384x640 2 walkers, 39.5ms\n",
      "video 1/1 (1704/1727) C:\\Users\\bcw60\\OneDrive\\Desktop\\TestData\\walker_hos.mp4: 384x640 2 walkers, 35.0ms\n",
      "video 1/1 (1704/1727) C:\\Users\\bcw60\\OneDrive\\Desktop\\TestData\\walker_hos.mp4: 384x640 2 walkers, 35.0ms\n",
      "video 1/1 (1705/1727) C:\\Users\\bcw60\\OneDrive\\Desktop\\TestData\\walker_hos.mp4: 384x640 2 walkers, 32.0ms\n",
      "video 1/1 (1705/1727) C:\\Users\\bcw60\\OneDrive\\Desktop\\TestData\\walker_hos.mp4: 384x640 2 walkers, 32.0ms\n",
      "video 1/1 (1706/1727) C:\\Users\\bcw60\\OneDrive\\Desktop\\TestData\\walker_hos.mp4: 384x640 2 walkers, 39.5ms\n",
      "video 1/1 (1706/1727) C:\\Users\\bcw60\\OneDrive\\Desktop\\TestData\\walker_hos.mp4: 384x640 2 walkers, 39.5ms\n",
      "video 1/1 (1707/1727) C:\\Users\\bcw60\\OneDrive\\Desktop\\TestData\\walker_hos.mp4: 384x640 2 walkers, 35.3ms\n",
      "video 1/1 (1707/1727) C:\\Users\\bcw60\\OneDrive\\Desktop\\TestData\\walker_hos.mp4: 384x640 2 walkers, 35.3ms\n",
      "video 1/1 (1708/1727) C:\\Users\\bcw60\\OneDrive\\Desktop\\TestData\\walker_hos.mp4: 384x640 2 walkers, 31.1ms\n",
      "video 1/1 (1708/1727) C:\\Users\\bcw60\\OneDrive\\Desktop\\TestData\\walker_hos.mp4: 384x640 2 walkers, 31.1ms\n",
      "video 1/1 (1709/1727) C:\\Users\\bcw60\\OneDrive\\Desktop\\TestData\\walker_hos.mp4: 384x640 2 walkers, 39.6ms\n",
      "video 1/1 (1709/1727) C:\\Users\\bcw60\\OneDrive\\Desktop\\TestData\\walker_hos.mp4: 384x640 2 walkers, 39.6ms\n",
      "video 1/1 (1710/1727) C:\\Users\\bcw60\\OneDrive\\Desktop\\TestData\\walker_hos.mp4: 384x640 2 walkers, 35.3ms\n",
      "video 1/1 (1710/1727) C:\\Users\\bcw60\\OneDrive\\Desktop\\TestData\\walker_hos.mp4: 384x640 2 walkers, 35.3ms\n",
      "video 1/1 (1711/1727) C:\\Users\\bcw60\\OneDrive\\Desktop\\TestData\\walker_hos.mp4: 384x640 2 walkers, 31.5ms\n",
      "video 1/1 (1711/1727) C:\\Users\\bcw60\\OneDrive\\Desktop\\TestData\\walker_hos.mp4: 384x640 2 walkers, 31.5ms\n",
      "video 1/1 (1712/1727) C:\\Users\\bcw60\\OneDrive\\Desktop\\TestData\\walker_hos.mp4: 384x640 2 walkers, 44.5ms\n",
      "video 1/1 (1712/1727) C:\\Users\\bcw60\\OneDrive\\Desktop\\TestData\\walker_hos.mp4: 384x640 2 walkers, 44.5ms\n",
      "video 1/1 (1713/1727) C:\\Users\\bcw60\\OneDrive\\Desktop\\TestData\\walker_hos.mp4: 384x640 2 walkers, 35.9ms\n",
      "video 1/1 (1713/1727) C:\\Users\\bcw60\\OneDrive\\Desktop\\TestData\\walker_hos.mp4: 384x640 2 walkers, 35.9ms\n",
      "video 1/1 (1714/1727) C:\\Users\\bcw60\\OneDrive\\Desktop\\TestData\\walker_hos.mp4: 384x640 2 walkers, 34.3ms\n",
      "video 1/1 (1714/1727) C:\\Users\\bcw60\\OneDrive\\Desktop\\TestData\\walker_hos.mp4: 384x640 2 walkers, 34.3ms\n",
      "video 1/1 (1715/1727) C:\\Users\\bcw60\\OneDrive\\Desktop\\TestData\\walker_hos.mp4: 384x640 2 walkers, 31.1ms\n",
      "video 1/1 (1715/1727) C:\\Users\\bcw60\\OneDrive\\Desktop\\TestData\\walker_hos.mp4: 384x640 2 walkers, 31.1ms\n",
      "video 1/1 (1716/1727) C:\\Users\\bcw60\\OneDrive\\Desktop\\TestData\\walker_hos.mp4: 384x640 2 walkers, 40.8ms\n",
      "video 1/1 (1716/1727) C:\\Users\\bcw60\\OneDrive\\Desktop\\TestData\\walker_hos.mp4: 384x640 2 walkers, 40.8ms\n",
      "video 1/1 (1717/1727) C:\\Users\\bcw60\\OneDrive\\Desktop\\TestData\\walker_hos.mp4: 384x640 2 walkers, 37.6ms\n",
      "video 1/1 (1717/1727) C:\\Users\\bcw60\\OneDrive\\Desktop\\TestData\\walker_hos.mp4: 384x640 2 walkers, 37.6ms\n",
      "video 1/1 (1718/1727) C:\\Users\\bcw60\\OneDrive\\Desktop\\TestData\\walker_hos.mp4: 384x640 2 walkers, 35.3ms\n",
      "video 1/1 (1718/1727) C:\\Users\\bcw60\\OneDrive\\Desktop\\TestData\\walker_hos.mp4: 384x640 2 walkers, 35.3ms\n",
      "video 1/1 (1719/1727) C:\\Users\\bcw60\\OneDrive\\Desktop\\TestData\\walker_hos.mp4: 384x640 2 walkers, 42.6ms\n",
      "video 1/1 (1719/1727) C:\\Users\\bcw60\\OneDrive\\Desktop\\TestData\\walker_hos.mp4: 384x640 2 walkers, 42.6ms\n",
      "video 1/1 (1720/1727) C:\\Users\\bcw60\\OneDrive\\Desktop\\TestData\\walker_hos.mp4: 384x640 2 walkers, 35.1ms\n",
      "video 1/1 (1720/1727) C:\\Users\\bcw60\\OneDrive\\Desktop\\TestData\\walker_hos.mp4: 384x640 2 walkers, 35.1ms\n",
      "video 1/1 (1721/1727) C:\\Users\\bcw60\\OneDrive\\Desktop\\TestData\\walker_hos.mp4: 384x640 2 walkers, 50.2ms\n",
      "video 1/1 (1721/1727) C:\\Users\\bcw60\\OneDrive\\Desktop\\TestData\\walker_hos.mp4: 384x640 2 walkers, 50.2ms\n",
      "video 1/1 (1722/1727) C:\\Users\\bcw60\\OneDrive\\Desktop\\TestData\\walker_hos.mp4: 384x640 2 walkers, 35.4ms\n",
      "video 1/1 (1722/1727) C:\\Users\\bcw60\\OneDrive\\Desktop\\TestData\\walker_hos.mp4: 384x640 2 walkers, 35.4ms\n",
      "video 1/1 (1723/1727) C:\\Users\\bcw60\\OneDrive\\Desktop\\TestData\\walker_hos.mp4: 384x640 2 walkers, 42.8ms\n",
      "video 1/1 (1723/1727) C:\\Users\\bcw60\\OneDrive\\Desktop\\TestData\\walker_hos.mp4: 384x640 2 walkers, 42.8ms\n",
      "video 1/1 (1724/1727) C:\\Users\\bcw60\\OneDrive\\Desktop\\TestData\\walker_hos.mp4: 384x640 2 walkers, 36.2ms\n",
      "video 1/1 (1724/1727) C:\\Users\\bcw60\\OneDrive\\Desktop\\TestData\\walker_hos.mp4: 384x640 2 walkers, 36.2ms\n",
      "video 1/1 (1725/1727) C:\\Users\\bcw60\\OneDrive\\Desktop\\TestData\\walker_hos.mp4: 384x640 2 walkers, 34.9ms\n",
      "video 1/1 (1725/1727) C:\\Users\\bcw60\\OneDrive\\Desktop\\TestData\\walker_hos.mp4: 384x640 2 walkers, 34.9ms\n",
      "video 1/1 (1726/1727) C:\\Users\\bcw60\\OneDrive\\Desktop\\TestData\\walker_hos.mp4: 384x640 2 walkers, 31.4ms\n",
      "video 1/1 (1726/1727) C:\\Users\\bcw60\\OneDrive\\Desktop\\TestData\\walker_hos.mp4: 384x640 2 walkers, 31.4ms\n",
      "video 1/1 (1727/1727) C:\\Users\\bcw60\\OneDrive\\Desktop\\TestData\\walker_hos.mp4: 384x640 2 walkers, 40.2ms\n",
      "video 1/1 (1727/1727) C:\\Users\\bcw60\\OneDrive\\Desktop\\TestData\\walker_hos.mp4: 384x640 2 walkers, 40.2ms\n",
      "Speed: 0.8ms preprocess, 38.2ms inference, 2.3ms postprocess per image at shape (1, 3, 384, 640)\n",
      "Speed: 0.8ms preprocess, 38.2ms inference, 2.3ms postprocess per image at shape (1, 3, 384, 640)\n",
      "Results saved to \u001b[1mruns\\segment\\predict6\u001b[0m\n",
      "Results saved to \u001b[1mruns\\segment\\predict6\u001b[0m\n"
     ]
    }
   ],
   "source": [
    "from ultralytics import YOLO\n",
    "model = YOLO('C:/Users/bcw60/OneDrive/Desktop/mydrive/die/runs/segment/train8_wait_wawh/weights/best.pt')\n",
    "results = model.predict(source ='C:/Users/bcw60/OneDrive/Desktop/TestData/walker_hos.mp4', save = True)"
   ]
  },
  {
   "cell_type": "code",
   "execution_count": 1,
   "metadata": {},
   "outputs": [
    {
     "name": "stdout",
     "output_type": "stream",
     "text": [
      "New https://pypi.org/project/ultralytics/8.0.232 available 😃 Update with 'pip install -U ultralytics'\n",
      "Ultralytics YOLOv8.0.230 🚀 Python-3.9.18 torch-1.9.1+cu111 CUDA:0 (NVIDIA GeForce RTX 2060 SUPER, 8192MiB)\n",
      "WARNING ⚠️ Upgrade to torch>=2.0.0 for deterministic training.\n",
      "\u001b[34m\u001b[1mengine\\trainer: \u001b[0mtask=segment, mode=train, model=C:/Users/bcw60/OneDrive/Desktop/mydrive/die/runs/segment/train123/weights/best.pt, data=C:/Users/bcw60/Downloads/custon_with_wheelchair_seg.v10i.yolov8/data.yaml, epochs=200, time=None, patience=30, batch=16, imgsz=640, save=True, save_period=-1, cache=False, device=None, workers=8, project=None, name=train11, exist_ok=False, pretrained=True, optimizer=auto, verbose=True, seed=0, deterministic=True, single_cls=False, rect=False, cos_lr=False, close_mosaic=10, resume=False, amp=True, fraction=1.0, profile=False, freeze=None, overlap_mask=True, mask_ratio=4, dropout=0.0, val=True, split=val, save_json=False, save_hybrid=False, conf=None, iou=0.7, max_det=300, half=False, dnn=False, plots=True, source=None, vid_stride=1, stream_buffer=False, visualize=False, augment=False, agnostic_nms=False, classes=None, retina_masks=False, embed=None, show=False, save_frames=False, save_txt=False, save_conf=False, save_crop=False, show_labels=True, show_conf=True, show_boxes=True, line_width=None, format=torchscript, keras=False, optimize=False, int8=False, dynamic=False, simplify=False, opset=None, workspace=4, nms=False, lr0=0.01, lrf=0.01, momentum=0.937, weight_decay=0.0005, warmup_epochs=3.0, warmup_momentum=0.8, warmup_bias_lr=0.1, box=7.5, cls=0.5, dfl=1.5, pose=12.0, kobj=1.0, label_smoothing=0.0, nbs=64, hsv_h=0.015, hsv_s=0.7, hsv_v=0.4, degrees=0.0, translate=0.1, scale=0.5, shear=0.0, perspective=0.0, flipud=0.0, fliplr=0.5, mosaic=1.0, mixup=0.0, copy_paste=0.0, cfg=None, tracker=botsort.yaml, save_dir=runs\\segment\\train11\n",
      "\n",
      "                   from  n    params  module                                       arguments                     \n",
      "  0                  -1  1      1392  ultralytics.nn.modules.conv.Conv             [3, 48, 3, 2]                 \n",
      "  1                  -1  1     41664  ultralytics.nn.modules.conv.Conv             [48, 96, 3, 2]                \n",
      "  2                  -1  2    111360  ultralytics.nn.modules.block.C2f             [96, 96, 2, True]             \n",
      "  3                  -1  1    166272  ultralytics.nn.modules.conv.Conv             [96, 192, 3, 2]               \n",
      "  4                  -1  4    813312  ultralytics.nn.modules.block.C2f             [192, 192, 4, True]           \n",
      "  5                  -1  1    664320  ultralytics.nn.modules.conv.Conv             [192, 384, 3, 2]              \n",
      "  6                  -1  4   3248640  ultralytics.nn.modules.block.C2f             [384, 384, 4, True]           \n",
      "  7                  -1  1   1991808  ultralytics.nn.modules.conv.Conv             [384, 576, 3, 2]              \n",
      "  8                  -1  2   3985920  ultralytics.nn.modules.block.C2f             [576, 576, 2, True]           \n",
      "  9                  -1  1    831168  ultralytics.nn.modules.block.SPPF            [576, 576, 5]                 \n",
      " 10                  -1  1         0  torch.nn.modules.upsampling.Upsample         [None, 2, 'nearest']          \n",
      " 11             [-1, 6]  1         0  ultralytics.nn.modules.conv.Concat           [1]                           \n",
      " 12                  -1  2   1993728  ultralytics.nn.modules.block.C2f             [960, 384, 2]                 \n",
      " 13                  -1  1         0  torch.nn.modules.upsampling.Upsample         [None, 2, 'nearest']          \n",
      " 14             [-1, 4]  1         0  ultralytics.nn.modules.conv.Concat           [1]                           \n",
      " 15                  -1  2    517632  ultralytics.nn.modules.block.C2f             [576, 192, 2]                 \n",
      " 16                  -1  1    332160  ultralytics.nn.modules.conv.Conv             [192, 192, 3, 2]              \n",
      " 17            [-1, 12]  1         0  ultralytics.nn.modules.conv.Concat           [1]                           \n",
      " 18                  -1  2   1846272  ultralytics.nn.modules.block.C2f             [576, 384, 2]                 \n",
      " 19                  -1  1   1327872  ultralytics.nn.modules.conv.Conv             [384, 384, 3, 2]              \n",
      " 20             [-1, 9]  1         0  ultralytics.nn.modules.conv.Concat           [1]                           \n",
      " 21                  -1  2   4207104  ultralytics.nn.modules.block.C2f             [960, 576, 2]                 \n",
      " 22        [15, 18, 21]  1   5160182  ultralytics.nn.modules.head.Segment          [2, 32, 192, [192, 384, 576]] \n",
      "YOLOv8m-seg summary: 331 layers, 27240806 parameters, 27240790 gradients, 110.4 GFLOPs\n",
      "\n",
      "Transferred 537/537 items from pretrained weights\n",
      "\u001b[34m\u001b[1mTensorBoard: \u001b[0mStart with 'tensorboard --logdir runs\\segment\\train11', view at http://localhost:6006/\n",
      "Freezing layer 'model.22.dfl.conv.weight'\n",
      "\u001b[34m\u001b[1mAMP: \u001b[0mrunning Automatic Mixed Precision (AMP) checks with YOLOv8n...\n",
      "\u001b[34m\u001b[1mAMP: \u001b[0mchecks passed ✅\n"
     ]
    },
    {
     "name": "stderr",
     "output_type": "stream",
     "text": [
      "\u001b[34m\u001b[1mtrain: \u001b[0mScanning C:\\Users\\bcw60\\Downloads\\custon_with_wheelchair_seg.v10i.yolov8\\train\\labels.cache... 12198 images, 0 backgrounds, 0 corrupt: 100%|██████████| 12198/12198 [00:00<?, ?it/s]\n",
      "\u001b[34m\u001b[1mval: \u001b[0mScanning C:\\Users\\bcw60\\Downloads\\custon_with_wheelchair_seg.v10i.yolov8\\valid\\labels.cache... 513 images, 0 backgrounds, 0 corrupt: 100%|██████████| 513/513 [00:00<?, ?it/s]\n"
     ]
    }
   ],
   "source": [
    "from ultralytics import YOLO as yolo\n",
    "\n",
    "model = yolo('C:/Users/bcw60/OneDrive/Desktop/mydrive/die/runs/segment/train123/weights/best.pt')\n",
    "results = model.train(data = 'C:/Users/bcw60/Downloads/custon_with_wheelchair_seg.v10i.yolov8/data.yaml', epochs=200, batch = 16, patience = 30)"
   ]
  }
 ],
 "metadata": {
  "kernelspec": {
   "display_name": "yolov8",
   "language": "python",
   "name": "python3"
  },
  "language_info": {
   "codemirror_mode": {
    "name": "ipython",
    "version": 3
   },
   "file_extension": ".py",
   "mimetype": "text/x-python",
   "name": "python",
   "nbconvert_exporter": "python",
   "pygments_lexer": "ipython3",
   "version": "3.9.18"
  }
 },
 "nbformat": 4,
 "nbformat_minor": 2
}
